{
  "nbformat": 4,
  "nbformat_minor": 0,
  "metadata": {
    "colab": {
      "name": "LexiconCompare.ipynb",
      "provenance": [],
      "collapsed_sections": [],
      "machine_shape": "hm",
      "authorship_tag": "ABX9TyNp19bfw1uhmOTeMFUWCRya",
      "include_colab_link": true
    },
    "kernelspec": {
      "name": "python3",
      "display_name": "Python 3"
    },
    "accelerator": "GPU"
  },
  "cells": [
    {
      "cell_type": "markdown",
      "metadata": {
        "id": "view-in-github",
        "colab_type": "text"
      },
      "source": [
        "<a href=\"https://colab.research.google.com/github/L-ansari/Natural-Language-Processing-tasks/blob/master/LexiconCompare.ipynb\" target=\"_parent\"><img src=\"https://colab.research.google.com/assets/colab-badge.svg\" alt=\"Open In Colab\"/></a>"
      ]
    },
    {
      "cell_type": "code",
      "metadata": {
        "id": "KBjNU1iJBBaa"
      },
      "source": [
        "import numpy as np\n",
        "import pandas as pd\n",
        "import seaborn as sns\n",
        "from pathlib import Path\n",
        "import matplotlib.pyplot as plt\n",
        "import sklearn\n",
        "\n",
        "from sklearn.preprocessing import StandardScaler    \n",
        "from sklearn.model_selection import train_test_split, cross_val_score\n",
        "from sklearn.metrics import confusion_matrix, classification_report\n",
        "from sklearn.linear_model import LogisticRegression\n",
        "from sklearn.model_selection import StratifiedKFold\n",
        "from sklearn import metrics"
      ],
      "execution_count": 78,
      "outputs": []
    },
    {
      "cell_type": "code",
      "metadata": {
        "colab": {
          "base_uri": "https://localhost:8080/"
        },
        "id": "74pDC2gaD3Xu",
        "outputId": "49d3898a-91c6-47bf-d961-0da21899e602"
      },
      "source": [
        "from google.colab import drive\n",
        "drive.mount(\"/content/drive\", force_remount=True)"
      ],
      "execution_count": 79,
      "outputs": [
        {
          "output_type": "stream",
          "text": [
            "Mounted at /content/drive\n"
          ],
          "name": "stdout"
        }
      ]
    },
    {
      "cell_type": "code",
      "metadata": {
        "id": "S1m7FJ7HcmhW"
      },
      "source": [
        "\"\"\" Helper functions \"\"\"\n",
        "\n",
        "\n",
        "def encode_data(dataframe, column_name, encodedict):\n",
        "  \"\"\"column_name:  is a list of column head names\n",
        "  encodedict:  is a dictionary encoding of labels\"\"\"\n",
        "  \n",
        "  dataframe.columns = column_name\n",
        "  dataframe['label'] = dataframe['label'].map(encodedict) \n",
        "\n",
        "  return dataframe #  encode labels\n",
        "\n",
        "def plot(dataframe,dataset ):\n",
        "  #print(\"Reddit Dataset\\n\")\n",
        "  print(f'Dataset: {dataset}',\"\\n\")\n",
        "  return sns.countplot(x = 'label', data=dataframe)\n",
        "\n",
        "def split(X,y):\n",
        "  X_train, X_test, y_train, y_test = train_test_split(X, y, test_size=0.33, random_state=69, shuffle=True)\n",
        "  return X_train, X_test, y_train, y_test \n",
        "\n",
        "def normalize (scaler, X_train, X_test):\n",
        "  X_train = scaler.fit_transform(X_train)\n",
        "  X_test = scaler.transform(X_test)\n",
        "  return X_train, X_test\n",
        "\n",
        "# note that y_pred has shape (N_samples,N_labels) while y_real has shape (N_samples,1)\n",
        "# weights means weighting according to class frequencies\n",
        "def loss_logloss(y_pred, y_real, weighted=False):\n",
        "    weights = None\n",
        "    if weighted:\n",
        "        class_to_frequency = class_weights(y_real)\n",
        "        weights = np.array([1/class_to_frequency[y-1] for y in y_real])\n",
        "    loss = sklearn.metrics.log_loss(y_real, y_pred, sample_weight=weights, labels=[0,1])\n",
        "    return loss\n",
        "# array which tells for every class how many times it occurs in the training labels\n",
        "# note that class labels start from 1 while class indices start from 0!\n",
        "def class_weights(y):\n",
        "    unique, counts = np.unique(y, return_counts=True)\n",
        "    n_classes = 10\n",
        "    class_weights = np.zeros(n_classes)\n",
        "    for classNumber, count in zip(unique, counts):\n",
        "            class_weights[classNumber-1] = count\n",
        "    return class_weights\n",
        "\n",
        "\n",
        "def get_feature(message):\n",
        "  \"\"\"This function gives out a dataframe of extracted features\"\"\"\n",
        "  sn = SenticNet()\n",
        "\n",
        "  polarity_value=0\n",
        "  polarity_label=0\n",
        "  introspection=0\n",
        "  sensitivity=0\n",
        "  temper=0\n",
        "  attitude=0\n",
        "\n",
        "  for word in (message):\n",
        "    try:\n",
        "      concept = sn.concept(word)\n",
        "      pol_value = float(concept['polarity_value'])\n",
        "      pol_label=concept['polarity_label']\n",
        "      intros=float(concept['sentics']['introspection'])\n",
        "      sensit=float(concept['sentics']['sensitivity'])\n",
        "      temp=float(concept['sentics']['temper'])\n",
        "      attit=float(concept['sentics']['attitude'])\n",
        "\n",
        "      if  concept['polarity_label']=='positive':\n",
        "        pol_label =1\n",
        "      else:\n",
        "        pol_label=0\n",
        "\n",
        "      polarity_value += pol_value\n",
        "      polarity_label +=pol_label\n",
        "      introspection +=intros\n",
        "      sensitivity +=sensit\n",
        "      temper +=temp\n",
        "      attitude +=attit\n",
        "\n",
        "    except KeyError:\n",
        "        pass\n",
        "   \n",
        "  return polarity_value , polarity_label, introspection, sensitivity, temper, attitude\n",
        "\n",
        "def get_scentic_features(df): #dataframe\n",
        "\n",
        "  df['polarity_value'] = 0\n",
        "  df['polarity_label'] = 0\n",
        "  df['sensitivity'] = 0\n",
        "  df['introspection'] = 0\n",
        "  df['temper'] = 0\n",
        "  df['attitude'] = 0\n",
        "  for i in range(df.shape[0]):\n",
        "    polarity_value , polarity_label, introspection, sensitivity, temper, attitude=get_feature (word_tokenize(df['text'][i].lower()))\n",
        "    df['polarity_value'][i] = polarity_value\n",
        "    df['polarity_label'][i] = polarity_label\n",
        "    df['sensitivity'][i] = sensitivity\n",
        "    df['introspection'][i]= introspection\n",
        "    df['temper'][i] = temper\n",
        "    df['attitude'][i]= attitude\n",
        "\n",
        "  return df  \n"
      ],
      "execution_count": 80,
      "outputs": []
    },
    {
      "cell_type": "markdown",
      "metadata": {
        "id": "vCPwCvXjVisi"
      },
      "source": [
        "# 1. Part First: Reddit dataset\n",
        "\n"
      ]
    },
    {
      "cell_type": "markdown",
      "metadata": {
        "id": "lApXZAGR2qG8"
      },
      "source": [
        "## 1.a     Lexicon in use is afinn_nrc_nrc_sa_mpqa.\n",
        "\n",
        "Features are = ['afinn_positive', 'afinn_negative', 'nrc_positive', 'nrc_negative', 'nrc_anger', 'nrc_anticipation', 'nrc_disgust', 'nrc_fear', 'nrc_joy', 'nrc_sadness', 'nrc_surprise', 'nrc_trust', 'mpqa_positive', 'mpqa_negative', 'mpqa_strong_subjectivty']\n"
      ]
    },
    {
      "cell_type": "code",
      "metadata": {
        "id": "diqcc4F1GXUX",
        "colab": {
          "base_uri": "https://localhost:8080/",
          "height": 108
        },
        "outputId": "c307c993-f292-4e20-c7f0-4874b6d9fbd6"
      },
      "source": [
        "reddit= pd.read_csv(Path('/content/drive/My Drive/DSP/data/bachelor/Reddit.csv'))\n",
        "reddit.head(2)"
      ],
      "execution_count": 81,
      "outputs": [
        {
          "output_type": "execute_result",
          "data": {
            "text/html": [
              "<div>\n",
              "<style scoped>\n",
              "    .dataframe tbody tr th:only-of-type {\n",
              "        vertical-align: middle;\n",
              "    }\n",
              "\n",
              "    .dataframe tbody tr th {\n",
              "        vertical-align: top;\n",
              "    }\n",
              "\n",
              "    .dataframe thead th {\n",
              "        text-align: right;\n",
              "    }\n",
              "</style>\n",
              "<table border=\"1\" class=\"dataframe\">\n",
              "  <thead>\n",
              "    <tr style=\"text-align: right;\">\n",
              "      <th></th>\n",
              "      <th>label</th>\n",
              "      <th>text</th>\n",
              "    </tr>\n",
              "  </thead>\n",
              "  <tbody>\n",
              "    <tr>\n",
              "      <th>0</th>\n",
              "      <td>negative</td>\n",
              "      <td>My male cousin stopped talking to me all of su...</td>\n",
              "    </tr>\n",
              "    <tr>\n",
              "      <th>1</th>\n",
              "      <td>negative</td>\n",
              "      <td>Drifting away from my best friend\\nMy best fri...</td>\n",
              "    </tr>\n",
              "  </tbody>\n",
              "</table>\n",
              "</div>"
            ],
            "text/plain": [
              "      label                                               text\n",
              "0  negative  My male cousin stopped talking to me all of su...\n",
              "1  negative  Drifting away from my best friend\\nMy best fri..."
            ]
          },
          "metadata": {
            "tags": []
          },
          "execution_count": 81
        }
      ]
    },
    {
      "cell_type": "code",
      "metadata": {
        "id": "CFzeD7ffGRy4",
        "colab": {
          "base_uri": "https://localhost:8080/",
          "height": 108
        },
        "outputId": "3d3af4c8-28de-4fa9-cba9-4bf71fc4bb3b"
      },
      "source": [
        "reddit_all_four_lexicos= pd.read_csv(Path('/content/drive/My Drive/DSP/data/bachelor/Reddit_afinn_nrc_nrc_sa_mpqa.csv'))\n",
        "reddit_all_four_lexicos.head(2)"
      ],
      "execution_count": 82,
      "outputs": [
        {
          "output_type": "execute_result",
          "data": {
            "text/html": [
              "<div>\n",
              "<style scoped>\n",
              "    .dataframe tbody tr th:only-of-type {\n",
              "        vertical-align: middle;\n",
              "    }\n",
              "\n",
              "    .dataframe tbody tr th {\n",
              "        vertical-align: top;\n",
              "    }\n",
              "\n",
              "    .dataframe thead th {\n",
              "        text-align: right;\n",
              "    }\n",
              "</style>\n",
              "<table border=\"1\" class=\"dataframe\">\n",
              "  <thead>\n",
              "    <tr style=\"text-align: right;\">\n",
              "      <th></th>\n",
              "      <th>0</th>\n",
              "      <th>1</th>\n",
              "      <th>2</th>\n",
              "      <th>3</th>\n",
              "      <th>4</th>\n",
              "      <th>5</th>\n",
              "      <th>6</th>\n",
              "      <th>7</th>\n",
              "      <th>8</th>\n",
              "      <th>9</th>\n",
              "      <th>10</th>\n",
              "      <th>11</th>\n",
              "      <th>12</th>\n",
              "      <th>13</th>\n",
              "      <th>14</th>\n",
              "    </tr>\n",
              "  </thead>\n",
              "  <tbody>\n",
              "    <tr>\n",
              "      <th>0</th>\n",
              "      <td>10.0</td>\n",
              "      <td>18.0</td>\n",
              "      <td>13.0</td>\n",
              "      <td>9.0</td>\n",
              "      <td>2.0</td>\n",
              "      <td>8.0</td>\n",
              "      <td>3.0</td>\n",
              "      <td>5.0</td>\n",
              "      <td>8.0</td>\n",
              "      <td>7.0</td>\n",
              "      <td>4.0</td>\n",
              "      <td>7.0</td>\n",
              "      <td>11.0</td>\n",
              "      <td>9.0</td>\n",
              "      <td>13.0</td>\n",
              "    </tr>\n",
              "    <tr>\n",
              "      <th>1</th>\n",
              "      <td>28.0</td>\n",
              "      <td>11.0</td>\n",
              "      <td>17.0</td>\n",
              "      <td>7.0</td>\n",
              "      <td>3.0</td>\n",
              "      <td>9.0</td>\n",
              "      <td>3.0</td>\n",
              "      <td>3.0</td>\n",
              "      <td>10.0</td>\n",
              "      <td>3.0</td>\n",
              "      <td>3.0</td>\n",
              "      <td>12.0</td>\n",
              "      <td>21.0</td>\n",
              "      <td>11.0</td>\n",
              "      <td>24.0</td>\n",
              "    </tr>\n",
              "  </tbody>\n",
              "</table>\n",
              "</div>"
            ],
            "text/plain": [
              "      0     1     2    3    4    5    6  ...     8    9   10    11    12    13    14\n",
              "0  10.0  18.0  13.0  9.0  2.0  8.0  3.0  ...   8.0  7.0  4.0   7.0  11.0   9.0  13.0\n",
              "1  28.0  11.0  17.0  7.0  3.0  9.0  3.0  ...  10.0  3.0  3.0  12.0  21.0  11.0  24.0\n",
              "\n",
              "[2 rows x 15 columns]"
            ]
          },
          "metadata": {
            "tags": []
          },
          "execution_count": 82
        }
      ]
    },
    {
      "cell_type": "code",
      "metadata": {
        "colab": {
          "base_uri": "https://localhost:8080/",
          "height": 108
        },
        "id": "CFWjHieoHrSl",
        "outputId": "6a5a3843-9e47-4d8f-e4da-4d6b21733b96"
      },
      "source": [
        "df_reddit = pd.concat([reddit,reddit_all_four_lexicos], axis=1)\n",
        "df_reddit.head(2)\n"
      ],
      "execution_count": 83,
      "outputs": [
        {
          "output_type": "execute_result",
          "data": {
            "text/html": [
              "<div>\n",
              "<style scoped>\n",
              "    .dataframe tbody tr th:only-of-type {\n",
              "        vertical-align: middle;\n",
              "    }\n",
              "\n",
              "    .dataframe tbody tr th {\n",
              "        vertical-align: top;\n",
              "    }\n",
              "\n",
              "    .dataframe thead th {\n",
              "        text-align: right;\n",
              "    }\n",
              "</style>\n",
              "<table border=\"1\" class=\"dataframe\">\n",
              "  <thead>\n",
              "    <tr style=\"text-align: right;\">\n",
              "      <th></th>\n",
              "      <th>label</th>\n",
              "      <th>text</th>\n",
              "      <th>0</th>\n",
              "      <th>1</th>\n",
              "      <th>2</th>\n",
              "      <th>3</th>\n",
              "      <th>4</th>\n",
              "      <th>5</th>\n",
              "      <th>6</th>\n",
              "      <th>7</th>\n",
              "      <th>8</th>\n",
              "      <th>9</th>\n",
              "      <th>10</th>\n",
              "      <th>11</th>\n",
              "      <th>12</th>\n",
              "      <th>13</th>\n",
              "      <th>14</th>\n",
              "    </tr>\n",
              "  </thead>\n",
              "  <tbody>\n",
              "    <tr>\n",
              "      <th>0</th>\n",
              "      <td>negative</td>\n",
              "      <td>My male cousin stopped talking to me all of su...</td>\n",
              "      <td>10.0</td>\n",
              "      <td>18.0</td>\n",
              "      <td>13.0</td>\n",
              "      <td>9.0</td>\n",
              "      <td>2.0</td>\n",
              "      <td>8.0</td>\n",
              "      <td>3.0</td>\n",
              "      <td>5.0</td>\n",
              "      <td>8.0</td>\n",
              "      <td>7.0</td>\n",
              "      <td>4.0</td>\n",
              "      <td>7.0</td>\n",
              "      <td>11.0</td>\n",
              "      <td>9.0</td>\n",
              "      <td>13.0</td>\n",
              "    </tr>\n",
              "    <tr>\n",
              "      <th>1</th>\n",
              "      <td>negative</td>\n",
              "      <td>Drifting away from my best friend\\nMy best fri...</td>\n",
              "      <td>28.0</td>\n",
              "      <td>11.0</td>\n",
              "      <td>17.0</td>\n",
              "      <td>7.0</td>\n",
              "      <td>3.0</td>\n",
              "      <td>9.0</td>\n",
              "      <td>3.0</td>\n",
              "      <td>3.0</td>\n",
              "      <td>10.0</td>\n",
              "      <td>3.0</td>\n",
              "      <td>3.0</td>\n",
              "      <td>12.0</td>\n",
              "      <td>21.0</td>\n",
              "      <td>11.0</td>\n",
              "      <td>24.0</td>\n",
              "    </tr>\n",
              "  </tbody>\n",
              "</table>\n",
              "</div>"
            ],
            "text/plain": [
              "      label                                               text  ...    13    14\n",
              "0  negative  My male cousin stopped talking to me all of su...  ...   9.0  13.0\n",
              "1  negative  Drifting away from my best friend\\nMy best fri...  ...  11.0  24.0\n",
              "\n",
              "[2 rows x 17 columns]"
            ]
          },
          "metadata": {
            "tags": []
          },
          "execution_count": 83
        }
      ]
    },
    {
      "cell_type": "code",
      "metadata": {
        "colab": {
          "base_uri": "https://localhost:8080/"
        },
        "id": "ATgrFk7rLZJx",
        "outputId": "e63f902f-f0cb-41ef-9a60-4e601fa4dc17"
      },
      "source": [
        "df_reddit.shape[0]"
      ],
      "execution_count": 84,
      "outputs": [
        {
          "output_type": "execute_result",
          "data": {
            "text/plain": [
              "1841"
            ]
          },
          "metadata": {
            "tags": []
          },
          "execution_count": 84
        }
      ]
    },
    {
      "cell_type": "code",
      "metadata": {
        "id": "973tdrNEQyLn",
        "colab": {
          "base_uri": "https://localhost:8080/",
          "height": 331
        },
        "outputId": "1a42a282-a3a6-48f0-ae58-c2eabcb6ed08"
      },
      "source": [
        "columns = ['label', 'text', 'afinn_positive', 'afinn_negative', 'nrc_positive', 'nrc_negative', 'nrc_anger', 'nrc_anticipation', 'nrc_disgust', 'nrc_fear', 'nrc_joy', 'nrc_sadness', 'nrc_surprise', 'nrc_trust', 'mpqa_positive', 'mpqa_negative', 'mpqa_strong_subjectivty']\n",
        "df_reddit=encode_data(df_reddit, columns, encodedict={'positive': 1, 'negative': 0})\n",
        "plot(df_reddit, \"Reddit\") \n"
      ],
      "execution_count": 85,
      "outputs": [
        {
          "output_type": "stream",
          "text": [
            "Dataset: Reddit \n",
            "\n"
          ],
          "name": "stdout"
        },
        {
          "output_type": "execute_result",
          "data": {
            "text/plain": [
              "<matplotlib.axes._subplots.AxesSubplot at 0x7fab08620c90>"
            ]
          },
          "metadata": {
            "tags": []
          },
          "execution_count": 85
        },
        {
          "output_type": "display_data",
          "data": {
            "image/png": "[encoded data removed]",
            "text/plain": [
              "<Figure size 432x288 with 1 Axes>"
            ]
          },
          "metadata": {
            "tags": [],
            "needs_background": "light"
          }
        }
      ]
    },
    {
      "cell_type": "code",
      "metadata": {
        "colab": {
          "base_uri": "https://localhost:8080/",
          "height": 284
        },
        "id": "cbqAKkgtQ9Z4",
        "outputId": "3845aa7c-7dc2-495b-8d1c-93ca80296b3b"
      },
      "source": [
        "df_reddit.head(2)"
      ],
      "execution_count": 86,
      "outputs": [
        {
          "output_type": "execute_result",
          "data": {
            "text/html": [
              "<div>\n",
              "<style scoped>\n",
              "    .dataframe tbody tr th:only-of-type {\n",
              "        vertical-align: middle;\n",
              "    }\n",
              "\n",
              "    .dataframe tbody tr th {\n",
              "        vertical-align: top;\n",
              "    }\n",
              "\n",
              "    .dataframe thead th {\n",
              "        text-align: right;\n",
              "    }\n",
              "</style>\n",
              "<table border=\"1\" class=\"dataframe\">\n",
              "  <thead>\n",
              "    <tr style=\"text-align: right;\">\n",
              "      <th></th>\n",
              "      <th>label</th>\n",
              "      <th>text</th>\n",
              "      <th>afinn_positive</th>\n",
              "      <th>afinn_negative</th>\n",
              "      <th>nrc_positive</th>\n",
              "      <th>nrc_negative</th>\n",
              "      <th>nrc_anger</th>\n",
              "      <th>nrc_anticipation</th>\n",
              "      <th>nrc_disgust</th>\n",
              "      <th>nrc_fear</th>\n",
              "      <th>nrc_joy</th>\n",
              "      <th>nrc_sadness</th>\n",
              "      <th>nrc_surprise</th>\n",
              "      <th>nrc_trust</th>\n",
              "      <th>mpqa_positive</th>\n",
              "      <th>mpqa_negative</th>\n",
              "      <th>mpqa_strong_subjectivty</th>\n",
              "    </tr>\n",
              "  </thead>\n",
              "  <tbody>\n",
              "    <tr>\n",
              "      <th>0</th>\n",
              "      <td>0</td>\n",
              "      <td>My male cousin stopped talking to me all of su...</td>\n",
              "      <td>10.0</td>\n",
              "      <td>18.0</td>\n",
              "      <td>13.0</td>\n",
              "      <td>9.0</td>\n",
              "      <td>2.0</td>\n",
              "      <td>8.0</td>\n",
              "      <td>3.0</td>\n",
              "      <td>5.0</td>\n",
              "      <td>8.0</td>\n",
              "      <td>7.0</td>\n",
              "      <td>4.0</td>\n",
              "      <td>7.0</td>\n",
              "      <td>11.0</td>\n",
              "      <td>9.0</td>\n",
              "      <td>13.0</td>\n",
              "    </tr>\n",
              "    <tr>\n",
              "      <th>1</th>\n",
              "      <td>0</td>\n",
              "      <td>Drifting away from my best friend\\nMy best fri...</td>\n",
              "      <td>28.0</td>\n",
              "      <td>11.0</td>\n",
              "      <td>17.0</td>\n",
              "      <td>7.0</td>\n",
              "      <td>3.0</td>\n",
              "      <td>9.0</td>\n",
              "      <td>3.0</td>\n",
              "      <td>3.0</td>\n",
              "      <td>10.0</td>\n",
              "      <td>3.0</td>\n",
              "      <td>3.0</td>\n",
              "      <td>12.0</td>\n",
              "      <td>21.0</td>\n",
              "      <td>11.0</td>\n",
              "      <td>24.0</td>\n",
              "    </tr>\n",
              "  </tbody>\n",
              "</table>\n",
              "</div>"
            ],
            "text/plain": [
              "   label  ... mpqa_strong_subjectivty\n",
              "0      0  ...                    13.0\n",
              "1      0  ...                    24.0\n",
              "\n",
              "[2 rows x 17 columns]"
            ]
          },
          "metadata": {
            "tags": []
          },
          "execution_count": 86
        }
      ]
    },
    {
      "cell_type": "code",
      "metadata": {
        "id": "95FcUxq8Lp7z"
      },
      "source": [
        "X = df_reddit.iloc[:, 2:]\n",
        "y = df_reddit.iloc[:, 0]\n",
        "X_train, X_test, y_train, y_test = split(X, y)\n",
        "X_train, X_test = normalize(StandardScaler(), X_train, X_test)\n",
        "#print(y_test[:10])"
      ],
      "execution_count": 87,
      "outputs": []
    },
    {
      "cell_type": "code",
      "metadata": {
        "colab": {
          "base_uri": "https://localhost:8080/"
        },
        "id": "-ypuH5rncurO",
        "outputId": "30cf969d-68ed-403b-a634-7b06cb3d395d"
      },
      "source": [
        "Logistic = LogisticRegression(random_state=0, solver='lbfgs')\n",
        "Logistic.fit(X_train, y_train)\n",
        "print(\"Accuracy with training data:\", Logistic.score(X_train, y_train))\n",
        "prob_predicted_train = Logistic.predict_proba(X_train)\n",
        "print(\"Logloss with training data:\", loss_logloss(prob_predicted_train, y_train, weighted=True))\n"
      ],
      "execution_count": 88,
      "outputs": [
        {
          "output_type": "stream",
          "text": [
            "Accuracy with training data: 0.7639902676399026\n",
            "Logloss with training data: 0.6699137756628144\n"
          ],
          "name": "stdout"
        }
      ]
    },
    {
      "cell_type": "code",
      "metadata": {
        "colab": {
          "base_uri": "https://localhost:8080/"
        },
        "id": "oQLQ_gVywOR2",
        "outputId": "18b5e0d5-db72-42b8-c3fb-67c13e6072a1"
      },
      "source": [
        "y_pred = Logistic.predict(X_test)\n",
        "print(\"Accuracy with test data:\", Logistic.score(X_test, y_test))\n",
        "\n",
        "y_pred_proba = Logistic.predict_proba(X_test)\n",
        "print(\"Logloss with test data:\", loss_logloss(y_pred_proba, y_test, weighted=True))\n"
      ],
      "execution_count": 89,
      "outputs": [
        {
          "output_type": "stream",
          "text": [
            "Accuracy with test data: 0.7483552631578947\n",
            "Logloss with test data: 0.6374538593709682\n"
          ],
          "name": "stdout"
        }
      ]
    },
    {
      "cell_type": "code",
      "metadata": {
        "colab": {
          "base_uri": "https://localhost:8080/"
        },
        "id": "1fi-AyAFw5Qi",
        "outputId": "989cfab1-ff77-4c74-c7bf-90b7377d0067"
      },
      "source": [
        "#Cross validation\n",
        "Logistic = LogisticRegression(random_state=0, solver='lbfgs')\n",
        "Logistic.fit(X_train, y_train)\n",
        "scores = cross_val_score(\n",
        "    Logistic, \n",
        "    X_train, \n",
        "    y_train, \n",
        "    cv=10)\n",
        "print(\"Cross validated accuracy: \", \n",
        "      np.average(scores))\n",
        "print(\"Logistic accuracy on training data: \", \n",
        "      Logistic.score(X_train, y_train))\n",
        "print(\"Logistic accuracy on testing data: \", \n",
        "      Logistic.score(X_test, y_test))\n"
      ],
      "execution_count": 90,
      "outputs": [
        {
          "output_type": "stream",
          "text": [
            "Cross validated accuracy:  0.7623918174665617\n",
            "Logistic accuracy on training data:  0.7639902676399026\n",
            "Logistic accuracy on testing data:  0.7483552631578947\n"
          ],
          "name": "stdout"
        }
      ]
    },
    {
      "cell_type": "code",
      "metadata": {
        "colab": {
          "base_uri": "https://localhost:8080/"
        },
        "id": "Ri1upxT_w07g",
        "outputId": "e0da0576-1489-45f2-80d8-4e3ccc6e7a44"
      },
      "source": [
        "print(metrics.classification_report(y_test, y_pred))"
      ],
      "execution_count": 91,
      "outputs": [
        {
          "output_type": "stream",
          "text": [
            "              precision    recall  f1-score   support\n",
            "\n",
            "           0       0.77      0.30      0.44       194\n",
            "           1       0.75      0.96      0.84       414\n",
            "\n",
            "    accuracy                           0.75       608\n",
            "   macro avg       0.76      0.63      0.64       608\n",
            "weighted avg       0.75      0.75      0.71       608\n",
            "\n"
          ],
          "name": "stdout"
        }
      ]
    },
    {
      "cell_type": "markdown",
      "metadata": {
        "id": "A_1OD2NVOxOc"
      },
      "source": [
        "## 1.b Lexicon in use is Sentic."
      ]
    },
    {
      "cell_type": "code",
      "metadata": {
        "colab": {
          "base_uri": "https://localhost:8080/"
        },
        "id": "Q7wUfD5wD4au",
        "outputId": "a4b6d405-8826-4c16-fcbb-bfb69a6e8c36"
      },
      "source": [
        "!pip install senticnet\r\n"
      ],
      "execution_count": 92,
      "outputs": [
        {
          "output_type": "stream",
          "text": [
            "Requirement already satisfied: senticnet in /usr/local/lib/python3.7/dist-packages (1.6)\n"
          ],
          "name": "stdout"
        }
      ]
    },
    {
      "cell_type": "code",
      "metadata": {
        "colab": {
          "base_uri": "https://localhost:8080/"
        },
        "id": "jpWdP0ufDAwP",
        "outputId": "bcea23cd-b1e4-4c01-981d-12cc8acf0068"
      },
      "source": [
        "from senticnet.senticnet import SenticNet\r\n",
        "import nltk\r\n",
        "from nltk import word_tokenize\r\n",
        "nltk.download('punkt')"
      ],
      "execution_count": 93,
      "outputs": [
        {
          "output_type": "stream",
          "text": [
            "[nltk_data] Downloading package punkt to /root/nltk_data...\n",
            "[nltk_data]   Package punkt is already up-to-date!\n"
          ],
          "name": "stdout"
        },
        {
          "output_type": "execute_result",
          "data": {
            "text/plain": [
              "True"
            ]
          },
          "metadata": {
            "tags": []
          },
          "execution_count": 93
        }
      ]
    },
    {
      "cell_type": "code",
      "metadata": {
        "colab": {
          "base_uri": "https://localhost:8080/",
          "height": 108
        },
        "id": "HVy8kbXbFTek",
        "outputId": "971fcbd3-c702-4c04-b950-c2c7cfdfad70"
      },
      "source": [
        "reddit.head(2)"
      ],
      "execution_count": 94,
      "outputs": [
        {
          "output_type": "execute_result",
          "data": {
            "text/html": [
              "<div>\n",
              "<style scoped>\n",
              "    .dataframe tbody tr th:only-of-type {\n",
              "        vertical-align: middle;\n",
              "    }\n",
              "\n",
              "    .dataframe tbody tr th {\n",
              "        vertical-align: top;\n",
              "    }\n",
              "\n",
              "    .dataframe thead th {\n",
              "        text-align: right;\n",
              "    }\n",
              "</style>\n",
              "<table border=\"1\" class=\"dataframe\">\n",
              "  <thead>\n",
              "    <tr style=\"text-align: right;\">\n",
              "      <th></th>\n",
              "      <th>label</th>\n",
              "      <th>text</th>\n",
              "    </tr>\n",
              "  </thead>\n",
              "  <tbody>\n",
              "    <tr>\n",
              "      <th>0</th>\n",
              "      <td>negative</td>\n",
              "      <td>My male cousin stopped talking to me all of su...</td>\n",
              "    </tr>\n",
              "    <tr>\n",
              "      <th>1</th>\n",
              "      <td>negative</td>\n",
              "      <td>Drifting away from my best friend\\nMy best fri...</td>\n",
              "    </tr>\n",
              "  </tbody>\n",
              "</table>\n",
              "</div>"
            ],
            "text/plain": [
              "      label                                               text\n",
              "0  negative  My male cousin stopped talking to me all of su...\n",
              "1  negative  Drifting away from my best friend\\nMy best fri..."
            ]
          },
          "metadata": {
            "tags": []
          },
          "execution_count": 94
        }
      ]
    },
    {
      "cell_type": "code",
      "metadata": {
        "colab": {
          "base_uri": "https://localhost:8080/",
          "height": 523
        },
        "id": "mnMzJ-S_F3w7",
        "outputId": "82c2f6c7-b399-45b2-fbae-141869d02da7"
      },
      "source": [
        "reddit_scentic=get_scentic_features(reddit)\r\n",
        "encodedict={'positive': 1, 'negative': 0}\r\n",
        "reddit_scentic['label'] = reddit_scentic['label'].map(encodedict) \r\n",
        "reddit_scentic.head(2)"
      ],
      "execution_count": 95,
      "outputs": [
        {
          "output_type": "stream",
          "text": [
            "/usr/local/lib/python3.7/dist-packages/ipykernel_launcher.py:95: SettingWithCopyWarning: \n",
            "A value is trying to be set on a copy of a slice from a DataFrame\n",
            "\n",
            "See the caveats in the documentation: https://pandas.pydata.org/pandas-docs/stable/user_guide/indexing.html#returning-a-view-versus-a-copy\n",
            "/usr/local/lib/python3.7/dist-packages/ipykernel_launcher.py:96: SettingWithCopyWarning: \n",
            "A value is trying to be set on a copy of a slice from a DataFrame\n",
            "\n",
            "See the caveats in the documentation: https://pandas.pydata.org/pandas-docs/stable/user_guide/indexing.html#returning-a-view-versus-a-copy\n",
            "/usr/local/lib/python3.7/dist-packages/ipykernel_launcher.py:97: SettingWithCopyWarning: \n",
            "A value is trying to be set on a copy of a slice from a DataFrame\n",
            "\n",
            "See the caveats in the documentation: https://pandas.pydata.org/pandas-docs/stable/user_guide/indexing.html#returning-a-view-versus-a-copy\n",
            "/usr/local/lib/python3.7/dist-packages/ipykernel_launcher.py:98: SettingWithCopyWarning: \n",
            "A value is trying to be set on a copy of a slice from a DataFrame\n",
            "\n",
            "See the caveats in the documentation: https://pandas.pydata.org/pandas-docs/stable/user_guide/indexing.html#returning-a-view-versus-a-copy\n",
            "/usr/local/lib/python3.7/dist-packages/ipykernel_launcher.py:99: SettingWithCopyWarning: \n",
            "A value is trying to be set on a copy of a slice from a DataFrame\n",
            "\n",
            "See the caveats in the documentation: https://pandas.pydata.org/pandas-docs/stable/user_guide/indexing.html#returning-a-view-versus-a-copy\n",
            "/usr/local/lib/python3.7/dist-packages/ipykernel_launcher.py:100: SettingWithCopyWarning: \n",
            "A value is trying to be set on a copy of a slice from a DataFrame\n",
            "\n",
            "See the caveats in the documentation: https://pandas.pydata.org/pandas-docs/stable/user_guide/indexing.html#returning-a-view-versus-a-copy\n"
          ],
          "name": "stderr"
        },
        {
          "output_type": "execute_result",
          "data": {
            "text/html": [
              "<div>\n",
              "<style scoped>\n",
              "    .dataframe tbody tr th:only-of-type {\n",
              "        vertical-align: middle;\n",
              "    }\n",
              "\n",
              "    .dataframe tbody tr th {\n",
              "        vertical-align: top;\n",
              "    }\n",
              "\n",
              "    .dataframe thead th {\n",
              "        text-align: right;\n",
              "    }\n",
              "</style>\n",
              "<table border=\"1\" class=\"dataframe\">\n",
              "  <thead>\n",
              "    <tr style=\"text-align: right;\">\n",
              "      <th></th>\n",
              "      <th>label</th>\n",
              "      <th>text</th>\n",
              "      <th>polarity_value</th>\n",
              "      <th>polarity_label</th>\n",
              "      <th>sensitivity</th>\n",
              "      <th>introspection</th>\n",
              "      <th>temper</th>\n",
              "      <th>attitude</th>\n",
              "    </tr>\n",
              "  </thead>\n",
              "  <tbody>\n",
              "    <tr>\n",
              "      <th>0</th>\n",
              "      <td>0</td>\n",
              "      <td>My male cousin stopped talking to me all of su...</td>\n",
              "      <td>13</td>\n",
              "      <td>33</td>\n",
              "      <td>13</td>\n",
              "      <td>12</td>\n",
              "      <td>-3</td>\n",
              "      <td>4</td>\n",
              "    </tr>\n",
              "    <tr>\n",
              "      <th>1</th>\n",
              "      <td>0</td>\n",
              "      <td>Drifting away from my best friend\\nMy best fri...</td>\n",
              "      <td>6</td>\n",
              "      <td>28</td>\n",
              "      <td>10</td>\n",
              "      <td>6</td>\n",
              "      <td>-2</td>\n",
              "      <td>1</td>\n",
              "    </tr>\n",
              "  </tbody>\n",
              "</table>\n",
              "</div>"
            ],
            "text/plain": [
              "   label                                               text  ...  temper  attitude\n",
              "0      0  My male cousin stopped talking to me all of su...  ...      -3         4\n",
              "1      0  Drifting away from my best friend\\nMy best fri...  ...      -2         1\n",
              "\n",
              "[2 rows x 8 columns]"
            ]
          },
          "metadata": {
            "tags": []
          },
          "execution_count": 95
        }
      ]
    },
    {
      "cell_type": "code",
      "metadata": {
        "id": "nEfpG1KuH65l"
      },
      "source": [
        "X = reddit_scentic.iloc[:, 2:]\r\n",
        "y = reddit_scentic.iloc[:, 0]\r\n",
        "X_train, X_test, y_train, y_test = split(X, y)\r\n",
        "X_train, X_test = normalize(StandardScaler(), X_train, X_test)\r\n",
        "#print(y_test[:10])"
      ],
      "execution_count": 96,
      "outputs": []
    },
    {
      "cell_type": "code",
      "metadata": {
        "colab": {
          "base_uri": "https://localhost:8080/"
        },
        "id": "KRygh2nJNj_s",
        "outputId": "96279054-55c1-478b-85b4-f08107c04383"
      },
      "source": [
        "Logistic = LogisticRegression(random_state=0, solver='lbfgs')\r\n",
        "Logistic.fit(X_train, y_train)\r\n",
        "print(\"Accuracy with training data:\", Logistic.score(X_train, y_train))\r\n",
        "prob_predicted_train = Logistic.predict_proba(X_train)\r\n",
        "print(\"Logloss with training data:\", loss_logloss(prob_predicted_train, y_train, weighted=True))\r\n"
      ],
      "execution_count": 97,
      "outputs": [
        {
          "output_type": "stream",
          "text": [
            "Accuracy with training data: 0.7696674776966748\n",
            "Logloss with training data: 0.6727347780987293\n"
          ],
          "name": "stdout"
        }
      ]
    },
    {
      "cell_type": "code",
      "metadata": {
        "colab": {
          "base_uri": "https://localhost:8080/"
        },
        "id": "62oXlwTwNvCc",
        "outputId": "8d948f3e-7b0a-4f8c-f781-5cb1090a6b31"
      },
      "source": [
        "y_pred = Logistic.predict(X_test)\r\n",
        "print(\"Accuracy with test data:\", Logistic.score(X_test, y_test))\r\n",
        "\r\n",
        "y_pred_proba = Logistic.predict_proba(X_test)\r\n",
        "print(\"Logloss with test data:\", loss_logloss(y_pred_proba, y_test, weighted=True))\r\n"
      ],
      "execution_count": 98,
      "outputs": [
        {
          "output_type": "stream",
          "text": [
            "Accuracy with test data: 0.7483552631578947\n",
            "Logloss with test data: 0.6612992608096722\n"
          ],
          "name": "stdout"
        }
      ]
    },
    {
      "cell_type": "code",
      "metadata": {
        "colab": {
          "base_uri": "https://localhost:8080/"
        },
        "id": "Pak-Hvj7OAJ8",
        "outputId": "78e0d376-700c-41fe-cd90-831bb6de7edc"
      },
      "source": [
        "#Cross validation\r\n",
        "Logistic = LogisticRegression(random_state=0, solver='lbfgs')\r\n",
        "Logistic.fit(X_train, y_train)\r\n",
        "scores = cross_val_score(\r\n",
        "    Logistic, \r\n",
        "    X_train, \r\n",
        "    y_train, \r\n",
        "    cv=10)\r\n",
        "print(\"Cross validated accuracy: \", \r\n",
        "      np.average(scores))\r\n",
        "print(\"Logistic accuracy on training data: \", \r\n",
        "      Logistic.score(X_train, y_train))\r\n",
        "print(\"Logistic accuracy on testing data: \", \r\n",
        "      Logistic.score(X_test, y_test))\r\n"
      ],
      "execution_count": 99,
      "outputs": [
        {
          "output_type": "stream",
          "text": [
            "Cross validated accuracy:  0.7656176239181747\n",
            "Logistic accuracy on training data:  0.7696674776966748\n",
            "Logistic accuracy on testing data:  0.7483552631578947\n"
          ],
          "name": "stdout"
        }
      ]
    },
    {
      "cell_type": "code",
      "metadata": {
        "colab": {
          "base_uri": "https://localhost:8080/"
        },
        "id": "IWB8UvxiZpFq",
        "outputId": "f82164ae-b044-4457-990a-70a8168d41bd"
      },
      "source": [
        "print(metrics.classification_report(y_test, y_pred))"
      ],
      "execution_count": 100,
      "outputs": [
        {
          "output_type": "stream",
          "text": [
            "              precision    recall  f1-score   support\n",
            "\n",
            "           0       0.74      0.32      0.45       194\n",
            "           1       0.75      0.95      0.84       414\n",
            "\n",
            "    accuracy                           0.75       608\n",
            "   macro avg       0.75      0.64      0.64       608\n",
            "weighted avg       0.75      0.75      0.71       608\n",
            "\n"
          ],
          "name": "stdout"
        }
      ]
    },
    {
      "cell_type": "markdown",
      "metadata": {
        "id": "J8_Ev_sGvM9G"
      },
      "source": [
        "##1.c Lexicon in use is affine_ncr\n",
        "\n"
      ]
    },
    {
      "cell_type": "code",
      "metadata": {
        "colab": {
          "base_uri": "https://localhost:8080/",
          "height": 108
        },
        "id": "_8K95uvLeGK5",
        "outputId": "ee586097-9fec-4b93-f9cb-df1b67a3f1b5"
      },
      "source": [
        "reddit_all_two_lexicos= pd.read_csv(Path('/content/drive/My Drive/DSP/data/bachelor/Reddit_afinn_nrc.csv'))\n",
        "reddit_all_two_lexicos.head(2)"
      ],
      "execution_count": 101,
      "outputs": [
        {
          "output_type": "execute_result",
          "data": {
            "text/html": [
              "<div>\n",
              "<style scoped>\n",
              "    .dataframe tbody tr th:only-of-type {\n",
              "        vertical-align: middle;\n",
              "    }\n",
              "\n",
              "    .dataframe tbody tr th {\n",
              "        vertical-align: top;\n",
              "    }\n",
              "\n",
              "    .dataframe thead th {\n",
              "        text-align: right;\n",
              "    }\n",
              "</style>\n",
              "<table border=\"1\" class=\"dataframe\">\n",
              "  <thead>\n",
              "    <tr style=\"text-align: right;\">\n",
              "      <th></th>\n",
              "      <th>0</th>\n",
              "      <th>1</th>\n",
              "      <th>2</th>\n",
              "      <th>3</th>\n",
              "    </tr>\n",
              "  </thead>\n",
              "  <tbody>\n",
              "    <tr>\n",
              "      <th>0</th>\n",
              "      <td>10.0</td>\n",
              "      <td>18.0</td>\n",
              "      <td>13.0</td>\n",
              "      <td>9.0</td>\n",
              "    </tr>\n",
              "    <tr>\n",
              "      <th>1</th>\n",
              "      <td>28.0</td>\n",
              "      <td>11.0</td>\n",
              "      <td>17.0</td>\n",
              "      <td>7.0</td>\n",
              "    </tr>\n",
              "  </tbody>\n",
              "</table>\n",
              "</div>"
            ],
            "text/plain": [
              "      0     1     2    3\n",
              "0  10.0  18.0  13.0  9.0\n",
              "1  28.0  11.0  17.0  7.0"
            ]
          },
          "metadata": {
            "tags": []
          },
          "execution_count": 101
        }
      ]
    },
    {
      "cell_type": "code",
      "metadata": {
        "colab": {
          "base_uri": "https://localhost:8080/",
          "height": 108
        },
        "id": "14L3h6QqenGH",
        "outputId": "92588f69-fa4b-46c8-8b9d-0e03e9ae75ed"
      },
      "source": [
        "df_reddit = pd.concat([reddit,reddit_all_two_lexicos], axis=1)\n",
        "df_reddit.head(2)\n"
      ],
      "execution_count": 102,
      "outputs": [
        {
          "output_type": "execute_result",
          "data": {
            "text/html": [
              "<div>\n",
              "<style scoped>\n",
              "    .dataframe tbody tr th:only-of-type {\n",
              "        vertical-align: middle;\n",
              "    }\n",
              "\n",
              "    .dataframe tbody tr th {\n",
              "        vertical-align: top;\n",
              "    }\n",
              "\n",
              "    .dataframe thead th {\n",
              "        text-align: right;\n",
              "    }\n",
              "</style>\n",
              "<table border=\"1\" class=\"dataframe\">\n",
              "  <thead>\n",
              "    <tr style=\"text-align: right;\">\n",
              "      <th></th>\n",
              "      <th>label</th>\n",
              "      <th>text</th>\n",
              "      <th>polarity_value</th>\n",
              "      <th>polarity_label</th>\n",
              "      <th>sensitivity</th>\n",
              "      <th>introspection</th>\n",
              "      <th>temper</th>\n",
              "      <th>attitude</th>\n",
              "      <th>0</th>\n",
              "      <th>1</th>\n",
              "      <th>2</th>\n",
              "      <th>3</th>\n",
              "    </tr>\n",
              "  </thead>\n",
              "  <tbody>\n",
              "    <tr>\n",
              "      <th>0</th>\n",
              "      <td>0</td>\n",
              "      <td>My male cousin stopped talking to me all of su...</td>\n",
              "      <td>13</td>\n",
              "      <td>33</td>\n",
              "      <td>13</td>\n",
              "      <td>12</td>\n",
              "      <td>-3</td>\n",
              "      <td>4</td>\n",
              "      <td>10.0</td>\n",
              "      <td>18.0</td>\n",
              "      <td>13.0</td>\n",
              "      <td>9.0</td>\n",
              "    </tr>\n",
              "    <tr>\n",
              "      <th>1</th>\n",
              "      <td>0</td>\n",
              "      <td>Drifting away from my best friend\\nMy best fri...</td>\n",
              "      <td>6</td>\n",
              "      <td>28</td>\n",
              "      <td>10</td>\n",
              "      <td>6</td>\n",
              "      <td>-2</td>\n",
              "      <td>1</td>\n",
              "      <td>28.0</td>\n",
              "      <td>11.0</td>\n",
              "      <td>17.0</td>\n",
              "      <td>7.0</td>\n",
              "    </tr>\n",
              "  </tbody>\n",
              "</table>\n",
              "</div>"
            ],
            "text/plain": [
              "   label                                               text  ...     2    3\n",
              "0      0  My male cousin stopped talking to me all of su...  ...  13.0  9.0\n",
              "1      0  Drifting away from my best friend\\nMy best fri...  ...  17.0  7.0\n",
              "\n",
              "[2 rows x 12 columns]"
            ]
          },
          "metadata": {
            "tags": []
          },
          "execution_count": 102
        }
      ]
    },
    {
      "cell_type": "code",
      "metadata": {
        "id": "S3KKUmLJwmBg"
      },
      "source": [
        "X = df_reddit.iloc[:, 8:]\n",
        "y = df_reddit.iloc[:, 0]\n",
        "X_train, X_test, y_train, y_test = split(X, y)\n",
        "X_train, X_test = normalize(StandardScaler(), X_train, X_test)\n",
        "#print(y_test[:10])"
      ],
      "execution_count": 103,
      "outputs": []
    },
    {
      "cell_type": "code",
      "metadata": {
        "colab": {
          "base_uri": "https://localhost:8080/"
        },
        "id": "vQ_48fsw9ORb",
        "outputId": "e1fd793e-061a-44ad-c79f-910a9b30bca9"
      },
      "source": [
        "#Cross validation\n",
        "Logistic = LogisticRegression(random_state=0, solver='lbfgs')\n",
        "Logistic.fit(X_train, y_train)\n",
        "scores = cross_val_score(\n",
        "    Logistic, \n",
        "    X_train, \n",
        "    y_train, \n",
        "    cv=10)\n",
        "print(\"Cross validated accuracy: \", \n",
        "      np.average(scores))\n",
        "print(\"Logistic accuracy on training data: \", \n",
        "      Logistic.score(X_train, y_train))\n",
        "print(\"Logistic accuracy on testing data: \", \n",
        "      Logistic.score(X_test, y_test))\n"
      ],
      "execution_count": 104,
      "outputs": [
        {
          "output_type": "stream",
          "text": [
            "Cross validated accuracy:  0.7250393391030684\n",
            "Logistic accuracy on training data:  0.7274939172749392\n",
            "Logistic accuracy on testing data:  0.7039473684210527\n"
          ],
          "name": "stdout"
        }
      ]
    },
    {
      "cell_type": "code",
      "metadata": {
        "colab": {
          "base_uri": "https://localhost:8080/"
        },
        "id": "UgpemXty9U9l",
        "outputId": "27f110b0-f416-4408-efc6-a0acf2bd2d93"
      },
      "source": [
        "print(metrics.classification_report(y_test, y_pred))"
      ],
      "execution_count": 105,
      "outputs": [
        {
          "output_type": "stream",
          "text": [
            "              precision    recall  f1-score   support\n",
            "\n",
            "           0       0.74      0.32      0.45       194\n",
            "           1       0.75      0.95      0.84       414\n",
            "\n",
            "    accuracy                           0.75       608\n",
            "   macro avg       0.75      0.64      0.64       608\n",
            "weighted avg       0.75      0.75      0.71       608\n",
            "\n"
          ],
          "name": "stdout"
        }
      ]
    },
    {
      "cell_type": "markdown",
      "metadata": {
        "id": "_wblUlRahsAs"
      },
      "source": [
        "##1.d Lexicon in use is mpqa_nrc_sa\n"
      ]
    },
    {
      "cell_type": "code",
      "metadata": {
        "colab": {
          "base_uri": "https://localhost:8080/",
          "height": 108
        },
        "id": "6bZ7Y7hFhxuE",
        "outputId": "55ad944d-1110-4544-d689-b273ed62b159"
      },
      "source": [
        "reddit_mpqa_nrc= pd.read_csv(Path('/content/drive/My Drive/DSP/data/bachelor/Reddit_mpqr_nrc_sa.csv'))\n",
        "reddit_mpqa_nrc.head(2)"
      ],
      "execution_count": 106,
      "outputs": [
        {
          "output_type": "execute_result",
          "data": {
            "text/html": [
              "<div>\n",
              "<style scoped>\n",
              "    .dataframe tbody tr th:only-of-type {\n",
              "        vertical-align: middle;\n",
              "    }\n",
              "\n",
              "    .dataframe tbody tr th {\n",
              "        vertical-align: top;\n",
              "    }\n",
              "\n",
              "    .dataframe thead th {\n",
              "        text-align: right;\n",
              "    }\n",
              "</style>\n",
              "<table border=\"1\" class=\"dataframe\">\n",
              "  <thead>\n",
              "    <tr style=\"text-align: right;\">\n",
              "      <th></th>\n",
              "      <th>0</th>\n",
              "      <th>1</th>\n",
              "      <th>2</th>\n",
              "      <th>3</th>\n",
              "      <th>4</th>\n",
              "      <th>5</th>\n",
              "      <th>6</th>\n",
              "      <th>7</th>\n",
              "      <th>8</th>\n",
              "      <th>9</th>\n",
              "      <th>10</th>\n",
              "    </tr>\n",
              "  </thead>\n",
              "  <tbody>\n",
              "    <tr>\n",
              "      <th>0</th>\n",
              "      <td>11.0</td>\n",
              "      <td>9.0</td>\n",
              "      <td>13.0</td>\n",
              "      <td>2.0</td>\n",
              "      <td>8.0</td>\n",
              "      <td>3.0</td>\n",
              "      <td>5.0</td>\n",
              "      <td>8.0</td>\n",
              "      <td>7.0</td>\n",
              "      <td>4.0</td>\n",
              "      <td>7.0</td>\n",
              "    </tr>\n",
              "    <tr>\n",
              "      <th>1</th>\n",
              "      <td>21.0</td>\n",
              "      <td>11.0</td>\n",
              "      <td>24.0</td>\n",
              "      <td>3.0</td>\n",
              "      <td>9.0</td>\n",
              "      <td>3.0</td>\n",
              "      <td>3.0</td>\n",
              "      <td>10.0</td>\n",
              "      <td>3.0</td>\n",
              "      <td>3.0</td>\n",
              "      <td>12.0</td>\n",
              "    </tr>\n",
              "  </tbody>\n",
              "</table>\n",
              "</div>"
            ],
            "text/plain": [
              "      0     1     2    3    4    5    6     7    8    9    10\n",
              "0  11.0   9.0  13.0  2.0  8.0  3.0  5.0   8.0  7.0  4.0   7.0\n",
              "1  21.0  11.0  24.0  3.0  9.0  3.0  3.0  10.0  3.0  3.0  12.0"
            ]
          },
          "metadata": {
            "tags": []
          },
          "execution_count": 106
        }
      ]
    },
    {
      "cell_type": "code",
      "metadata": {
        "colab": {
          "base_uri": "https://localhost:8080/",
          "height": 143
        },
        "id": "V7tQ0i2ciA93",
        "outputId": "14b1412b-39de-4e8b-a329-8bbe3673e683"
      },
      "source": [
        "df_reddit = pd.concat([reddit,reddit_mpqa_nrc], axis=1)\n",
        "df_reddit.head(2)\n"
      ],
      "execution_count": 107,
      "outputs": [
        {
          "output_type": "execute_result",
          "data": {
            "text/html": [
              "<div>\n",
              "<style scoped>\n",
              "    .dataframe tbody tr th:only-of-type {\n",
              "        vertical-align: middle;\n",
              "    }\n",
              "\n",
              "    .dataframe tbody tr th {\n",
              "        vertical-align: top;\n",
              "    }\n",
              "\n",
              "    .dataframe thead th {\n",
              "        text-align: right;\n",
              "    }\n",
              "</style>\n",
              "<table border=\"1\" class=\"dataframe\">\n",
              "  <thead>\n",
              "    <tr style=\"text-align: right;\">\n",
              "      <th></th>\n",
              "      <th>label</th>\n",
              "      <th>text</th>\n",
              "      <th>polarity_value</th>\n",
              "      <th>polarity_label</th>\n",
              "      <th>sensitivity</th>\n",
              "      <th>introspection</th>\n",
              "      <th>temper</th>\n",
              "      <th>attitude</th>\n",
              "      <th>0</th>\n",
              "      <th>1</th>\n",
              "      <th>2</th>\n",
              "      <th>3</th>\n",
              "      <th>4</th>\n",
              "      <th>5</th>\n",
              "      <th>6</th>\n",
              "      <th>7</th>\n",
              "      <th>8</th>\n",
              "      <th>9</th>\n",
              "      <th>10</th>\n",
              "    </tr>\n",
              "  </thead>\n",
              "  <tbody>\n",
              "    <tr>\n",
              "      <th>0</th>\n",
              "      <td>0</td>\n",
              "      <td>My male cousin stopped talking to me all of su...</td>\n",
              "      <td>13</td>\n",
              "      <td>33</td>\n",
              "      <td>13</td>\n",
              "      <td>12</td>\n",
              "      <td>-3</td>\n",
              "      <td>4</td>\n",
              "      <td>11.0</td>\n",
              "      <td>9.0</td>\n",
              "      <td>13.0</td>\n",
              "      <td>2.0</td>\n",
              "      <td>8.0</td>\n",
              "      <td>3.0</td>\n",
              "      <td>5.0</td>\n",
              "      <td>8.0</td>\n",
              "      <td>7.0</td>\n",
              "      <td>4.0</td>\n",
              "      <td>7.0</td>\n",
              "    </tr>\n",
              "    <tr>\n",
              "      <th>1</th>\n",
              "      <td>0</td>\n",
              "      <td>Drifting away from my best friend\\nMy best fri...</td>\n",
              "      <td>6</td>\n",
              "      <td>28</td>\n",
              "      <td>10</td>\n",
              "      <td>6</td>\n",
              "      <td>-2</td>\n",
              "      <td>1</td>\n",
              "      <td>21.0</td>\n",
              "      <td>11.0</td>\n",
              "      <td>24.0</td>\n",
              "      <td>3.0</td>\n",
              "      <td>9.0</td>\n",
              "      <td>3.0</td>\n",
              "      <td>3.0</td>\n",
              "      <td>10.0</td>\n",
              "      <td>3.0</td>\n",
              "      <td>3.0</td>\n",
              "      <td>12.0</td>\n",
              "    </tr>\n",
              "  </tbody>\n",
              "</table>\n",
              "</div>"
            ],
            "text/plain": [
              "   label                                               text  ...    9    10\n",
              "0      0  My male cousin stopped talking to me all of su...  ...  4.0   7.0\n",
              "1      0  Drifting away from my best friend\\nMy best fri...  ...  3.0  12.0\n",
              "\n",
              "[2 rows x 19 columns]"
            ]
          },
          "metadata": {
            "tags": []
          },
          "execution_count": 107
        }
      ]
    },
    {
      "cell_type": "code",
      "metadata": {
        "id": "4IL6TIunp8it"
      },
      "source": [
        "X = df_reddit.iloc[:, 8:]\n",
        "y = df_reddit.iloc[:, 0]\n",
        "X_train, X_test, y_train, y_test = split(X, y)\n",
        "X_train, X_test = normalize(StandardScaler(), X_train, X_test)\n",
        "#print(y_test[:10])"
      ],
      "execution_count": 108,
      "outputs": []
    },
    {
      "cell_type": "code",
      "metadata": {
        "colab": {
          "base_uri": "https://localhost:8080/"
        },
        "id": "nqAEjmrsqHey",
        "outputId": "ffb74fd8-9b98-48b1-d61e-0383eb306138"
      },
      "source": [
        "#Cross validation\n",
        "Logistic = LogisticRegression(random_state=0, solver='lbfgs')\n",
        "Logistic.fit(X_train, y_train)\n",
        "scores = cross_val_score(\n",
        "    Logistic, \n",
        "    X_train, \n",
        "    y_train, \n",
        "    cv=10)\n",
        "print(\"Cross validated accuracy: \", \n",
        "      np.average(scores))\n",
        "print(\"Logistic accuracy on training data: \", \n",
        "      Logistic.score(X_train, y_train))\n",
        "print(\"Logistic accuracy on testing data: \", \n",
        "      Logistic.score(X_test, y_test))\n"
      ],
      "execution_count": 109,
      "outputs": [
        {
          "output_type": "stream",
          "text": [
            "Cross validated accuracy:  0.7534618410700236\n",
            "Logistic accuracy on training data:  0.7599351175993512\n",
            "Logistic accuracy on testing data:  0.7467105263157895\n"
          ],
          "name": "stdout"
        }
      ]
    },
    {
      "cell_type": "code",
      "metadata": {
        "colab": {
          "base_uri": "https://localhost:8080/"
        },
        "id": "BEDqPbr7qK7r",
        "outputId": "ba579745-be25-41d7-a827-b396088842b9"
      },
      "source": [
        "print(metrics.classification_report(y_test, y_pred))\n"
      ],
      "execution_count": 110,
      "outputs": [
        {
          "output_type": "stream",
          "text": [
            "              precision    recall  f1-score   support\n",
            "\n",
            "           0       0.74      0.32      0.45       194\n",
            "           1       0.75      0.95      0.84       414\n",
            "\n",
            "    accuracy                           0.75       608\n",
            "   macro avg       0.75      0.64      0.64       608\n",
            "weighted avg       0.75      0.75      0.71       608\n",
            "\n"
          ],
          "name": "stdout"
        }
      ]
    },
    {
      "cell_type": "markdown",
      "metadata": {
        "id": "krrKAvYJsSKH"
      },
      "source": [
        "##1.e Lexicon in use is ncr\n"
      ]
    },
    {
      "cell_type": "code",
      "metadata": {
        "colab": {
          "base_uri": "https://localhost:8080/",
          "height": 108
        },
        "id": "Xmb6lYdssrTa",
        "outputId": "71c4726a-0030-4107-8e37-c3e2c7436e55"
      },
      "source": [
        "reddit_nrc= pd.read_csv(Path('/content/drive/My Drive/DSP/data/bachelor/Reddit_nrc.csv'))\n",
        "reddit_nrc.head(2)"
      ],
      "execution_count": 112,
      "outputs": [
        {
          "output_type": "execute_result",
          "data": {
            "text/html": [
              "<div>\n",
              "<style scoped>\n",
              "    .dataframe tbody tr th:only-of-type {\n",
              "        vertical-align: middle;\n",
              "    }\n",
              "\n",
              "    .dataframe tbody tr th {\n",
              "        vertical-align: top;\n",
              "    }\n",
              "\n",
              "    .dataframe thead th {\n",
              "        text-align: right;\n",
              "    }\n",
              "</style>\n",
              "<table border=\"1\" class=\"dataframe\">\n",
              "  <thead>\n",
              "    <tr style=\"text-align: right;\">\n",
              "      <th></th>\n",
              "      <th>0</th>\n",
              "      <th>1</th>\n",
              "    </tr>\n",
              "  </thead>\n",
              "  <tbody>\n",
              "    <tr>\n",
              "      <th>0</th>\n",
              "      <td>13.0</td>\n",
              "      <td>9.0</td>\n",
              "    </tr>\n",
              "    <tr>\n",
              "      <th>1</th>\n",
              "      <td>17.0</td>\n",
              "      <td>7.0</td>\n",
              "    </tr>\n",
              "  </tbody>\n",
              "</table>\n",
              "</div>"
            ],
            "text/plain": [
              "      0    1\n",
              "0  13.0  9.0\n",
              "1  17.0  7.0"
            ]
          },
          "metadata": {
            "tags": []
          },
          "execution_count": 112
        }
      ]
    },
    {
      "cell_type": "code",
      "metadata": {
        "colab": {
          "base_uri": "https://localhost:8080/",
          "height": 108
        },
        "id": "rx43HZ0Itkg7",
        "outputId": "d15158ba-4c45-405a-a44d-1c763a14aa1b"
      },
      "source": [
        "df_reddit = pd.concat([reddit,reddit_nrc], axis=1)\n",
        "df_reddit.head(2)"
      ],
      "execution_count": 113,
      "outputs": [
        {
          "output_type": "execute_result",
          "data": {
            "text/html": [
              "<div>\n",
              "<style scoped>\n",
              "    .dataframe tbody tr th:only-of-type {\n",
              "        vertical-align: middle;\n",
              "    }\n",
              "\n",
              "    .dataframe tbody tr th {\n",
              "        vertical-align: top;\n",
              "    }\n",
              "\n",
              "    .dataframe thead th {\n",
              "        text-align: right;\n",
              "    }\n",
              "</style>\n",
              "<table border=\"1\" class=\"dataframe\">\n",
              "  <thead>\n",
              "    <tr style=\"text-align: right;\">\n",
              "      <th></th>\n",
              "      <th>label</th>\n",
              "      <th>text</th>\n",
              "      <th>polarity_value</th>\n",
              "      <th>polarity_label</th>\n",
              "      <th>sensitivity</th>\n",
              "      <th>introspection</th>\n",
              "      <th>temper</th>\n",
              "      <th>attitude</th>\n",
              "      <th>0</th>\n",
              "      <th>1</th>\n",
              "    </tr>\n",
              "  </thead>\n",
              "  <tbody>\n",
              "    <tr>\n",
              "      <th>0</th>\n",
              "      <td>0</td>\n",
              "      <td>My male cousin stopped talking to me all of su...</td>\n",
              "      <td>13</td>\n",
              "      <td>33</td>\n",
              "      <td>13</td>\n",
              "      <td>12</td>\n",
              "      <td>-3</td>\n",
              "      <td>4</td>\n",
              "      <td>13.0</td>\n",
              "      <td>9.0</td>\n",
              "    </tr>\n",
              "    <tr>\n",
              "      <th>1</th>\n",
              "      <td>0</td>\n",
              "      <td>Drifting away from my best friend\\nMy best fri...</td>\n",
              "      <td>6</td>\n",
              "      <td>28</td>\n",
              "      <td>10</td>\n",
              "      <td>6</td>\n",
              "      <td>-2</td>\n",
              "      <td>1</td>\n",
              "      <td>17.0</td>\n",
              "      <td>7.0</td>\n",
              "    </tr>\n",
              "  </tbody>\n",
              "</table>\n",
              "</div>"
            ],
            "text/plain": [
              "   label                                               text  ...     0    1\n",
              "0      0  My male cousin stopped talking to me all of su...  ...  13.0  9.0\n",
              "1      0  Drifting away from my best friend\\nMy best fri...  ...  17.0  7.0\n",
              "\n",
              "[2 rows x 10 columns]"
            ]
          },
          "metadata": {
            "tags": []
          },
          "execution_count": 113
        }
      ]
    },
    {
      "cell_type": "code",
      "metadata": {
        "id": "KA2Jg6oWtqx3"
      },
      "source": [
        "X = df_reddit.iloc[:, 8:]\n",
        "y = df_reddit.iloc[:, 0]\n",
        "X_train, X_test, y_train, y_test = split(X, y)\n",
        "X_train, X_test = normalize(StandardScaler(), X_train, X_test)\n",
        "#print(y_test[:10])"
      ],
      "execution_count": 114,
      "outputs": []
    },
    {
      "cell_type": "code",
      "metadata": {
        "colab": {
          "base_uri": "https://localhost:8080/"
        },
        "id": "tZJmQ2dItv2J",
        "outputId": "63872a9a-e8b9-4c0f-f10d-9315a690a72f"
      },
      "source": [
        "#Cross validation\n",
        "Logistic = LogisticRegression(random_state=0, solver='lbfgs')\n",
        "Logistic.fit(X_train, y_train)\n",
        "scores = cross_val_score(\n",
        "    Logistic, \n",
        "    X_train, \n",
        "    y_train, \n",
        "    cv=10)\n",
        "print(\"Cross validated accuracy: \", \n",
        "      np.average(scores))\n",
        "print(\"Logistic accuracy on training data: \", \n",
        "      Logistic.score(X_train, y_train))\n",
        "print(\"Logistic accuracy on testing data: \", \n",
        "      Logistic.score(X_test, y_test))\n"
      ],
      "execution_count": 115,
      "outputs": [
        {
          "output_type": "stream",
          "text": [
            "Cross validated accuracy:  0.7169354838709677\n",
            "Logistic accuracy on training data:  0.7210056772100568\n",
            "Logistic accuracy on testing data:  0.694078947368421\n"
          ],
          "name": "stdout"
        }
      ]
    },
    {
      "cell_type": "code",
      "metadata": {
        "colab": {
          "base_uri": "https://localhost:8080/"
        },
        "id": "lefQm65Ft30L",
        "outputId": "2e9569e4-b5ff-4a05-d275-dbc20fb5176d"
      },
      "source": [
        "print(metrics.classification_report(y_test, y_pred))"
      ],
      "execution_count": 116,
      "outputs": [
        {
          "output_type": "stream",
          "text": [
            "              precision    recall  f1-score   support\n",
            "\n",
            "           0       0.74      0.32      0.45       194\n",
            "           1       0.75      0.95      0.84       414\n",
            "\n",
            "    accuracy                           0.75       608\n",
            "   macro avg       0.75      0.64      0.64       608\n",
            "weighted avg       0.75      0.75      0.71       608\n",
            "\n"
          ],
          "name": "stdout"
        }
      ]
    },
    {
      "cell_type": "markdown",
      "metadata": {
        "id": "6cIJHQ-KsWvC"
      },
      "source": [
        "##1.f Lexicon in use is mpqa\n"
      ]
    },
    {
      "cell_type": "code",
      "metadata": {
        "colab": {
          "base_uri": "https://localhost:8080/",
          "height": 108
        },
        "id": "nAO6IIoVssKa",
        "outputId": "770bb7b7-44d7-42ee-b115-b3f63e78647c"
      },
      "source": [
        "reddit_mpqa= pd.read_csv(Path('/content/drive/My Drive/DSP/data/bachelor/Reddit_mpqa.csv'))\n",
        "reddit_mpqa.head(2)"
      ],
      "execution_count": 117,
      "outputs": [
        {
          "output_type": "execute_result",
          "data": {
            "text/html": [
              "<div>\n",
              "<style scoped>\n",
              "    .dataframe tbody tr th:only-of-type {\n",
              "        vertical-align: middle;\n",
              "    }\n",
              "\n",
              "    .dataframe tbody tr th {\n",
              "        vertical-align: top;\n",
              "    }\n",
              "\n",
              "    .dataframe thead th {\n",
              "        text-align: right;\n",
              "    }\n",
              "</style>\n",
              "<table border=\"1\" class=\"dataframe\">\n",
              "  <thead>\n",
              "    <tr style=\"text-align: right;\">\n",
              "      <th></th>\n",
              "      <th>0</th>\n",
              "      <th>1</th>\n",
              "      <th>2</th>\n",
              "    </tr>\n",
              "  </thead>\n",
              "  <tbody>\n",
              "    <tr>\n",
              "      <th>0</th>\n",
              "      <td>11.0</td>\n",
              "      <td>9.0</td>\n",
              "      <td>13.0</td>\n",
              "    </tr>\n",
              "    <tr>\n",
              "      <th>1</th>\n",
              "      <td>21.0</td>\n",
              "      <td>11.0</td>\n",
              "      <td>24.0</td>\n",
              "    </tr>\n",
              "  </tbody>\n",
              "</table>\n",
              "</div>"
            ],
            "text/plain": [
              "      0     1     2\n",
              "0  11.0   9.0  13.0\n",
              "1  21.0  11.0  24.0"
            ]
          },
          "metadata": {
            "tags": []
          },
          "execution_count": 117
        }
      ]
    },
    {
      "cell_type": "code",
      "metadata": {
        "colab": {
          "base_uri": "https://localhost:8080/",
          "height": 108
        },
        "id": "REFIBxJVtlmA",
        "outputId": "71e118d4-02f0-4a17-d0a1-727677c59a72"
      },
      "source": [
        "df_reddit = pd.concat([reddit,reddit_mpqa], axis=1)\n",
        "df_reddit.head(2)"
      ],
      "execution_count": 118,
      "outputs": [
        {
          "output_type": "execute_result",
          "data": {
            "text/html": [
              "<div>\n",
              "<style scoped>\n",
              "    .dataframe tbody tr th:only-of-type {\n",
              "        vertical-align: middle;\n",
              "    }\n",
              "\n",
              "    .dataframe tbody tr th {\n",
              "        vertical-align: top;\n",
              "    }\n",
              "\n",
              "    .dataframe thead th {\n",
              "        text-align: right;\n",
              "    }\n",
              "</style>\n",
              "<table border=\"1\" class=\"dataframe\">\n",
              "  <thead>\n",
              "    <tr style=\"text-align: right;\">\n",
              "      <th></th>\n",
              "      <th>label</th>\n",
              "      <th>text</th>\n",
              "      <th>polarity_value</th>\n",
              "      <th>polarity_label</th>\n",
              "      <th>sensitivity</th>\n",
              "      <th>introspection</th>\n",
              "      <th>temper</th>\n",
              "      <th>attitude</th>\n",
              "      <th>0</th>\n",
              "      <th>1</th>\n",
              "      <th>2</th>\n",
              "    </tr>\n",
              "  </thead>\n",
              "  <tbody>\n",
              "    <tr>\n",
              "      <th>0</th>\n",
              "      <td>0</td>\n",
              "      <td>My male cousin stopped talking to me all of su...</td>\n",
              "      <td>13</td>\n",
              "      <td>33</td>\n",
              "      <td>13</td>\n",
              "      <td>12</td>\n",
              "      <td>-3</td>\n",
              "      <td>4</td>\n",
              "      <td>11.0</td>\n",
              "      <td>9.0</td>\n",
              "      <td>13.0</td>\n",
              "    </tr>\n",
              "    <tr>\n",
              "      <th>1</th>\n",
              "      <td>0</td>\n",
              "      <td>Drifting away from my best friend\\nMy best fri...</td>\n",
              "      <td>6</td>\n",
              "      <td>28</td>\n",
              "      <td>10</td>\n",
              "      <td>6</td>\n",
              "      <td>-2</td>\n",
              "      <td>1</td>\n",
              "      <td>21.0</td>\n",
              "      <td>11.0</td>\n",
              "      <td>24.0</td>\n",
              "    </tr>\n",
              "  </tbody>\n",
              "</table>\n",
              "</div>"
            ],
            "text/plain": [
              "   label                                               text  ...     1     2\n",
              "0      0  My male cousin stopped talking to me all of su...  ...   9.0  13.0\n",
              "1      0  Drifting away from my best friend\\nMy best fri...  ...  11.0  24.0\n",
              "\n",
              "[2 rows x 11 columns]"
            ]
          },
          "metadata": {
            "tags": []
          },
          "execution_count": 118
        }
      ]
    },
    {
      "cell_type": "code",
      "metadata": {
        "id": "vBkjecZftrnE"
      },
      "source": [
        "X = df_reddit.iloc[:, 8:]\n",
        "y = df_reddit.iloc[:, 0]\n",
        "X_train, X_test, y_train, y_test = split(X, y)\n",
        "X_train, X_test = normalize(StandardScaler(), X_train, X_test)\n",
        "#print(y_test[:10])"
      ],
      "execution_count": 119,
      "outputs": []
    },
    {
      "cell_type": "code",
      "metadata": {
        "colab": {
          "base_uri": "https://localhost:8080/"
        },
        "id": "UlyM4DPAtw1z",
        "outputId": "dc8b8bb4-9e7e-4ac1-c7c1-3fb4048df81c"
      },
      "source": [
        "#Cross validation\n",
        "Logistic = LogisticRegression(random_state=0, solver='lbfgs')\n",
        "Logistic.fit(X_train, y_train)\n",
        "scores = cross_val_score(\n",
        "    Logistic, \n",
        "    X_train, \n",
        "    y_train, \n",
        "    cv=10)\n",
        "print(\"Cross validated accuracy: \", \n",
        "      np.average(scores))\n",
        "print(\"Logistic accuracy on training data: \", \n",
        "      Logistic.score(X_train, y_train))\n",
        "print(\"Logistic accuracy on testing data: \", \n",
        "      Logistic.score(X_test, y_test))\n"
      ],
      "execution_count": 120,
      "outputs": [
        {
          "output_type": "stream",
          "text": [
            "Cross validated accuracy:  0.7080710726462104\n",
            "Logistic accuracy on training data:  0.7120843471208435\n",
            "Logistic accuracy on testing data:  0.6776315789473685\n"
          ],
          "name": "stdout"
        }
      ]
    },
    {
      "cell_type": "code",
      "metadata": {
        "colab": {
          "base_uri": "https://localhost:8080/"
        },
        "id": "BVTtfpa2t4yE",
        "outputId": "31ba6080-638c-4d13-fcb4-7f4826ee6f61"
      },
      "source": [
        "print(metrics.classification_report(y_test, y_pred))"
      ],
      "execution_count": 121,
      "outputs": [
        {
          "output_type": "stream",
          "text": [
            "              precision    recall  f1-score   support\n",
            "\n",
            "           0       0.74      0.32      0.45       194\n",
            "           1       0.75      0.95      0.84       414\n",
            "\n",
            "    accuracy                           0.75       608\n",
            "   macro avg       0.75      0.64      0.64       608\n",
            "weighted avg       0.75      0.75      0.71       608\n",
            "\n"
          ],
          "name": "stdout"
        }
      ]
    },
    {
      "cell_type": "markdown",
      "metadata": {
        "id": "YOHEa4z7sa-k"
      },
      "source": [
        "##1.g Lexicon in use is affine\n"
      ]
    },
    {
      "cell_type": "code",
      "metadata": {
        "colab": {
          "base_uri": "https://localhost:8080/",
          "height": 108
        },
        "id": "407lvuHHstBe",
        "outputId": "cc87b6bc-54e1-40a5-8f20-5d8eb00f2300"
      },
      "source": [
        "reddit_affin= pd.read_csv(Path('/content/drive/My Drive/DSP/data/bachelor/Reddit_afinn.csv'))\n",
        "reddit_affin.head(2)"
      ],
      "execution_count": 122,
      "outputs": [
        {
          "output_type": "execute_result",
          "data": {
            "text/html": [
              "<div>\n",
              "<style scoped>\n",
              "    .dataframe tbody tr th:only-of-type {\n",
              "        vertical-align: middle;\n",
              "    }\n",
              "\n",
              "    .dataframe tbody tr th {\n",
              "        vertical-align: top;\n",
              "    }\n",
              "\n",
              "    .dataframe thead th {\n",
              "        text-align: right;\n",
              "    }\n",
              "</style>\n",
              "<table border=\"1\" class=\"dataframe\">\n",
              "  <thead>\n",
              "    <tr style=\"text-align: right;\">\n",
              "      <th></th>\n",
              "      <th>0</th>\n",
              "      <th>1</th>\n",
              "    </tr>\n",
              "  </thead>\n",
              "  <tbody>\n",
              "    <tr>\n",
              "      <th>0</th>\n",
              "      <td>10.0</td>\n",
              "      <td>18.0</td>\n",
              "    </tr>\n",
              "    <tr>\n",
              "      <th>1</th>\n",
              "      <td>28.0</td>\n",
              "      <td>11.0</td>\n",
              "    </tr>\n",
              "  </tbody>\n",
              "</table>\n",
              "</div>"
            ],
            "text/plain": [
              "      0     1\n",
              "0  10.0  18.0\n",
              "1  28.0  11.0"
            ]
          },
          "metadata": {
            "tags": []
          },
          "execution_count": 122
        }
      ]
    },
    {
      "cell_type": "code",
      "metadata": {
        "colab": {
          "base_uri": "https://localhost:8080/",
          "height": 108
        },
        "id": "y7Y9VSPztmZu",
        "outputId": "6eee563c-5c64-4fa5-fd81-05c11d5e0e4d"
      },
      "source": [
        "df_reddit = pd.concat([reddit,reddit_affin], axis=1)\n",
        "df_reddit.head(2)"
      ],
      "execution_count": 123,
      "outputs": [
        {
          "output_type": "execute_result",
          "data": {
            "text/html": [
              "<div>\n",
              "<style scoped>\n",
              "    .dataframe tbody tr th:only-of-type {\n",
              "        vertical-align: middle;\n",
              "    }\n",
              "\n",
              "    .dataframe tbody tr th {\n",
              "        vertical-align: top;\n",
              "    }\n",
              "\n",
              "    .dataframe thead th {\n",
              "        text-align: right;\n",
              "    }\n",
              "</style>\n",
              "<table border=\"1\" class=\"dataframe\">\n",
              "  <thead>\n",
              "    <tr style=\"text-align: right;\">\n",
              "      <th></th>\n",
              "      <th>label</th>\n",
              "      <th>text</th>\n",
              "      <th>polarity_value</th>\n",
              "      <th>polarity_label</th>\n",
              "      <th>sensitivity</th>\n",
              "      <th>introspection</th>\n",
              "      <th>temper</th>\n",
              "      <th>attitude</th>\n",
              "      <th>0</th>\n",
              "      <th>1</th>\n",
              "    </tr>\n",
              "  </thead>\n",
              "  <tbody>\n",
              "    <tr>\n",
              "      <th>0</th>\n",
              "      <td>0</td>\n",
              "      <td>My male cousin stopped talking to me all of su...</td>\n",
              "      <td>13</td>\n",
              "      <td>33</td>\n",
              "      <td>13</td>\n",
              "      <td>12</td>\n",
              "      <td>-3</td>\n",
              "      <td>4</td>\n",
              "      <td>10.0</td>\n",
              "      <td>18.0</td>\n",
              "    </tr>\n",
              "    <tr>\n",
              "      <th>1</th>\n",
              "      <td>0</td>\n",
              "      <td>Drifting away from my best friend\\nMy best fri...</td>\n",
              "      <td>6</td>\n",
              "      <td>28</td>\n",
              "      <td>10</td>\n",
              "      <td>6</td>\n",
              "      <td>-2</td>\n",
              "      <td>1</td>\n",
              "      <td>28.0</td>\n",
              "      <td>11.0</td>\n",
              "    </tr>\n",
              "  </tbody>\n",
              "</table>\n",
              "</div>"
            ],
            "text/plain": [
              "   label                                               text  ...     0     1\n",
              "0      0  My male cousin stopped talking to me all of su...  ...  10.0  18.0\n",
              "1      0  Drifting away from my best friend\\nMy best fri...  ...  28.0  11.0\n",
              "\n",
              "[2 rows x 10 columns]"
            ]
          },
          "metadata": {
            "tags": []
          },
          "execution_count": 123
        }
      ]
    },
    {
      "cell_type": "code",
      "metadata": {
        "id": "jTiXBIOdtscX"
      },
      "source": [
        "X = df_reddit.iloc[:, 8:]\n",
        "y = df_reddit.iloc[:, 0]\n",
        "X_train, X_test, y_train, y_test = split(X, y)\n",
        "X_train, X_test = normalize(StandardScaler(), X_train, X_test)\n",
        "#print(y_test[:10])"
      ],
      "execution_count": 124,
      "outputs": []
    },
    {
      "cell_type": "code",
      "metadata": {
        "colab": {
          "base_uri": "https://localhost:8080/"
        },
        "id": "HHnrpSuKtxt_",
        "outputId": "66ba7588-6b9b-4be9-86f4-af7b10f84f2e"
      },
      "source": [
        "#Cross validation\n",
        "Logistic = LogisticRegression(random_state=0, solver='lbfgs')\n",
        "Logistic.fit(X_train, y_train)\n",
        "scores = cross_val_score(\n",
        "    Logistic, \n",
        "    X_train, \n",
        "    y_train, \n",
        "    cv=10)\n",
        "print(\"Cross validated accuracy: \", \n",
        "      np.average(scores))\n",
        "print(\"Logistic accuracy on training data: \", \n",
        "      Logistic.score(X_train, y_train))\n",
        "print(\"Logistic accuracy on testing data: \", \n",
        "      Logistic.score(X_test, y_test))\n"
      ],
      "execution_count": 125,
      "outputs": [
        {
          "output_type": "stream",
          "text": [
            "Cross validated accuracy:  0.7096380802517703\n",
            "Logistic accuracy on training data:  0.7120843471208435\n",
            "Logistic accuracy on testing data:  0.6726973684210527\n"
          ],
          "name": "stdout"
        }
      ]
    },
    {
      "cell_type": "code",
      "metadata": {
        "colab": {
          "base_uri": "https://localhost:8080/"
        },
        "id": "CSJH_HNGt5ok",
        "outputId": "98692fef-2682-4f6a-998f-0aed721689cd"
      },
      "source": [
        "print(metrics.classification_report(y_test, y_pred))"
      ],
      "execution_count": 126,
      "outputs": [
        {
          "output_type": "stream",
          "text": [
            "              precision    recall  f1-score   support\n",
            "\n",
            "           0       0.74      0.32      0.45       194\n",
            "           1       0.75      0.95      0.84       414\n",
            "\n",
            "    accuracy                           0.75       608\n",
            "   macro avg       0.75      0.64      0.64       608\n",
            "weighted avg       0.75      0.75      0.71       608\n",
            "\n"
          ],
          "name": "stdout"
        }
      ]
    },
    {
      "cell_type": "markdown",
      "metadata": {
        "id": "nt0_8s0bsiOL"
      },
      "source": [
        "##1.h Lexicon in use is ncr_sa\n"
      ]
    },
    {
      "cell_type": "code",
      "metadata": {
        "colab": {
          "base_uri": "https://localhost:8080/",
          "height": 108
        },
        "id": "n5syjUJbsuLS",
        "outputId": "897b848e-3278-4319-af13-6fe9283551b2"
      },
      "source": [
        "reddit_nrc_sa= pd.read_csv(Path('/content/drive/My Drive/DSP/data/bachelor/Reddit_nrc_sa.csv'))\n",
        "reddit_nrc_sa.head(2)"
      ],
      "execution_count": 127,
      "outputs": [
        {
          "output_type": "execute_result",
          "data": {
            "text/html": [
              "<div>\n",
              "<style scoped>\n",
              "    .dataframe tbody tr th:only-of-type {\n",
              "        vertical-align: middle;\n",
              "    }\n",
              "\n",
              "    .dataframe tbody tr th {\n",
              "        vertical-align: top;\n",
              "    }\n",
              "\n",
              "    .dataframe thead th {\n",
              "        text-align: right;\n",
              "    }\n",
              "</style>\n",
              "<table border=\"1\" class=\"dataframe\">\n",
              "  <thead>\n",
              "    <tr style=\"text-align: right;\">\n",
              "      <th></th>\n",
              "      <th>0</th>\n",
              "      <th>1</th>\n",
              "      <th>2</th>\n",
              "      <th>3</th>\n",
              "      <th>4</th>\n",
              "      <th>5</th>\n",
              "      <th>6</th>\n",
              "      <th>7</th>\n",
              "    </tr>\n",
              "  </thead>\n",
              "  <tbody>\n",
              "    <tr>\n",
              "      <th>0</th>\n",
              "      <td>2.0</td>\n",
              "      <td>8.0</td>\n",
              "      <td>3.0</td>\n",
              "      <td>5.0</td>\n",
              "      <td>8.0</td>\n",
              "      <td>7.0</td>\n",
              "      <td>4.0</td>\n",
              "      <td>7.0</td>\n",
              "    </tr>\n",
              "    <tr>\n",
              "      <th>1</th>\n",
              "      <td>3.0</td>\n",
              "      <td>9.0</td>\n",
              "      <td>3.0</td>\n",
              "      <td>3.0</td>\n",
              "      <td>10.0</td>\n",
              "      <td>3.0</td>\n",
              "      <td>3.0</td>\n",
              "      <td>12.0</td>\n",
              "    </tr>\n",
              "  </tbody>\n",
              "</table>\n",
              "</div>"
            ],
            "text/plain": [
              "     0    1    2    3     4    5    6     7\n",
              "0  2.0  8.0  3.0  5.0   8.0  7.0  4.0   7.0\n",
              "1  3.0  9.0  3.0  3.0  10.0  3.0  3.0  12.0"
            ]
          },
          "metadata": {
            "tags": []
          },
          "execution_count": 127
        }
      ]
    },
    {
      "cell_type": "code",
      "metadata": {
        "colab": {
          "base_uri": "https://localhost:8080/",
          "height": 125
        },
        "id": "eBMndzjKtnJq",
        "outputId": "0d9fcb6c-caa0-4de2-c254-26ddbd3d5837"
      },
      "source": [
        "df_reddit = pd.concat([reddit,reddit_nrc_sa], axis=1)\n",
        "df_reddit.head(2)"
      ],
      "execution_count": 128,
      "outputs": [
        {
          "output_type": "execute_result",
          "data": {
            "text/html": [
              "<div>\n",
              "<style scoped>\n",
              "    .dataframe tbody tr th:only-of-type {\n",
              "        vertical-align: middle;\n",
              "    }\n",
              "\n",
              "    .dataframe tbody tr th {\n",
              "        vertical-align: top;\n",
              "    }\n",
              "\n",
              "    .dataframe thead th {\n",
              "        text-align: right;\n",
              "    }\n",
              "</style>\n",
              "<table border=\"1\" class=\"dataframe\">\n",
              "  <thead>\n",
              "    <tr style=\"text-align: right;\">\n",
              "      <th></th>\n",
              "      <th>label</th>\n",
              "      <th>text</th>\n",
              "      <th>polarity_value</th>\n",
              "      <th>polarity_label</th>\n",
              "      <th>sensitivity</th>\n",
              "      <th>introspection</th>\n",
              "      <th>temper</th>\n",
              "      <th>attitude</th>\n",
              "      <th>0</th>\n",
              "      <th>1</th>\n",
              "      <th>2</th>\n",
              "      <th>3</th>\n",
              "      <th>4</th>\n",
              "      <th>5</th>\n",
              "      <th>6</th>\n",
              "      <th>7</th>\n",
              "    </tr>\n",
              "  </thead>\n",
              "  <tbody>\n",
              "    <tr>\n",
              "      <th>0</th>\n",
              "      <td>0</td>\n",
              "      <td>My male cousin stopped talking to me all of su...</td>\n",
              "      <td>13</td>\n",
              "      <td>33</td>\n",
              "      <td>13</td>\n",
              "      <td>12</td>\n",
              "      <td>-3</td>\n",
              "      <td>4</td>\n",
              "      <td>2.0</td>\n",
              "      <td>8.0</td>\n",
              "      <td>3.0</td>\n",
              "      <td>5.0</td>\n",
              "      <td>8.0</td>\n",
              "      <td>7.0</td>\n",
              "      <td>4.0</td>\n",
              "      <td>7.0</td>\n",
              "    </tr>\n",
              "    <tr>\n",
              "      <th>1</th>\n",
              "      <td>0</td>\n",
              "      <td>Drifting away from my best friend\\nMy best fri...</td>\n",
              "      <td>6</td>\n",
              "      <td>28</td>\n",
              "      <td>10</td>\n",
              "      <td>6</td>\n",
              "      <td>-2</td>\n",
              "      <td>1</td>\n",
              "      <td>3.0</td>\n",
              "      <td>9.0</td>\n",
              "      <td>3.0</td>\n",
              "      <td>3.0</td>\n",
              "      <td>10.0</td>\n",
              "      <td>3.0</td>\n",
              "      <td>3.0</td>\n",
              "      <td>12.0</td>\n",
              "    </tr>\n",
              "  </tbody>\n",
              "</table>\n",
              "</div>"
            ],
            "text/plain": [
              "   label                                               text  ...    6     7\n",
              "0      0  My male cousin stopped talking to me all of su...  ...  4.0   7.0\n",
              "1      0  Drifting away from my best friend\\nMy best fri...  ...  3.0  12.0\n",
              "\n",
              "[2 rows x 16 columns]"
            ]
          },
          "metadata": {
            "tags": []
          },
          "execution_count": 128
        }
      ]
    },
    {
      "cell_type": "code",
      "metadata": {
        "id": "8hroq8PPttJq"
      },
      "source": [
        "X = df_reddit.iloc[:, 8:]\n",
        "y = df_reddit.iloc[:, 0]\n",
        "X_train, X_test, y_train, y_test = split(X, y)\n",
        "X_train, X_test = normalize(StandardScaler(), X_train, X_test)\n",
        "#print(y_test[:10])"
      ],
      "execution_count": 129,
      "outputs": []
    },
    {
      "cell_type": "code",
      "metadata": {
        "colab": {
          "base_uri": "https://localhost:8080/"
        },
        "id": "xRGGP7JStyj6",
        "outputId": "57baf277-1a3f-4a84-f74a-7d405f35bb88"
      },
      "source": [
        "#Cross validation\n",
        "Logistic = LogisticRegression(random_state=0, solver='lbfgs')\n",
        "Logistic.fit(X_train, y_train)\n",
        "scores = cross_val_score(\n",
        "    Logistic, \n",
        "    X_train, \n",
        "    y_train, \n",
        "    cv=10)\n",
        "print(\"Cross validated accuracy: \", \n",
        "      np.average(scores))\n",
        "print(\"Logistic accuracy on training data: \", \n",
        "      Logistic.score(X_train, y_train))\n",
        "print(\"Logistic accuracy on testing data: \", \n",
        "      Logistic.score(X_test, y_test))\n"
      ],
      "execution_count": 130,
      "outputs": [
        {
          "output_type": "stream",
          "text": [
            "Cross validated accuracy:  0.7566810910044584\n",
            "Logistic accuracy on training data:  0.7599351175993512\n",
            "Logistic accuracy on testing data:  0.7417763157894737\n"
          ],
          "name": "stdout"
        }
      ]
    },
    {
      "cell_type": "code",
      "metadata": {
        "colab": {
          "base_uri": "https://localhost:8080/"
        },
        "id": "ujMR3knet6ib",
        "outputId": "cd052585-df19-497c-adce-8558bb0afdc9"
      },
      "source": [
        "print(metrics.classification_report(y_test, y_pred))"
      ],
      "execution_count": 131,
      "outputs": [
        {
          "output_type": "stream",
          "text": [
            "              precision    recall  f1-score   support\n",
            "\n",
            "           0       0.74      0.32      0.45       194\n",
            "           1       0.75      0.95      0.84       414\n",
            "\n",
            "    accuracy                           0.75       608\n",
            "   macro avg       0.75      0.64      0.64       608\n",
            "weighted avg       0.75      0.75      0.71       608\n",
            "\n"
          ],
          "name": "stdout"
        }
      ]
    },
    {
      "cell_type": "markdown",
      "metadata": {
        "id": "zY2BAWtf4D0p"
      },
      "source": [
        "# 2. Part Second: Mixed Dataset"
      ]
    },
    {
      "cell_type": "code",
      "metadata": {
        "id": "yhvCPvbMwvVi"
      },
      "source": [
        "Mixed= pd.read_csv(Path('/content/drive/My Drive/DSP/data/bachelor/Mixed.csv'))"
      ],
      "execution_count": 135,
      "outputs": []
    },
    {
      "cell_type": "code",
      "metadata": {
        "colab": {
          "base_uri": "https://localhost:8080/",
          "height": 108
        },
        "id": "qM-jxnAT4H5W",
        "outputId": "c4e6e23a-a4d8-4cf5-de3f-a8ebc39223c9"
      },
      "source": [
        "Mixed.head(2)"
      ],
      "execution_count": 136,
      "outputs": [
        {
          "output_type": "execute_result",
          "data": {
            "text/html": [
              "<div>\n",
              "<style scoped>\n",
              "    .dataframe tbody tr th:only-of-type {\n",
              "        vertical-align: middle;\n",
              "    }\n",
              "\n",
              "    .dataframe tbody tr th {\n",
              "        vertical-align: top;\n",
              "    }\n",
              "\n",
              "    .dataframe thead th {\n",
              "        text-align: right;\n",
              "    }\n",
              "</style>\n",
              "<table border=\"1\" class=\"dataframe\">\n",
              "  <thead>\n",
              "    <tr style=\"text-align: right;\">\n",
              "      <th></th>\n",
              "      <th>label</th>\n",
              "      <th>text</th>\n",
              "    </tr>\n",
              "  </thead>\n",
              "  <tbody>\n",
              "    <tr>\n",
              "      <th>0</th>\n",
              "      <td>negative</td>\n",
              "      <td>My male cousin stopped talking to me all of su...</td>\n",
              "    </tr>\n",
              "    <tr>\n",
              "      <th>1</th>\n",
              "      <td>negative</td>\n",
              "      <td>Drifting away from my best friend\\nMy best fri...</td>\n",
              "    </tr>\n",
              "  </tbody>\n",
              "</table>\n",
              "</div>"
            ],
            "text/plain": [
              "      label                                               text\n",
              "0  negative  My male cousin stopped talking to me all of su...\n",
              "1  negative  Drifting away from my best friend\\nMy best fri..."
            ]
          },
          "metadata": {
            "tags": []
          },
          "execution_count": 136
        }
      ]
    },
    {
      "cell_type": "code",
      "metadata": {
        "id": "GG_lPMKx4U9N"
      },
      "source": [
        "mixed_all_four_lexicons= pd.read_csv(Path('/content/drive/My Drive/DSP/data/bachelor/Mixed_afinn_nrc_nrc_sa_mpqa.csv'))"
      ],
      "execution_count": 137,
      "outputs": []
    },
    {
      "cell_type": "code",
      "metadata": {
        "colab": {
          "base_uri": "https://localhost:8080/",
          "height": 108
        },
        "id": "Z_iYUU_F4n-v",
        "outputId": "160ebf65-fc7c-4986-dc11-c4347cf7a865"
      },
      "source": [
        "df_mixed = pd.concat([Mixed,mixed_all_four_lexicons], axis=1)\n",
        "df_mixed.head(2)"
      ],
      "execution_count": 138,
      "outputs": [
        {
          "output_type": "execute_result",
          "data": {
            "text/html": [
              "<div>\n",
              "<style scoped>\n",
              "    .dataframe tbody tr th:only-of-type {\n",
              "        vertical-align: middle;\n",
              "    }\n",
              "\n",
              "    .dataframe tbody tr th {\n",
              "        vertical-align: top;\n",
              "    }\n",
              "\n",
              "    .dataframe thead th {\n",
              "        text-align: right;\n",
              "    }\n",
              "</style>\n",
              "<table border=\"1\" class=\"dataframe\">\n",
              "  <thead>\n",
              "    <tr style=\"text-align: right;\">\n",
              "      <th></th>\n",
              "      <th>label</th>\n",
              "      <th>text</th>\n",
              "      <th>0</th>\n",
              "      <th>1</th>\n",
              "      <th>2</th>\n",
              "      <th>3</th>\n",
              "      <th>4</th>\n",
              "      <th>5</th>\n",
              "      <th>6</th>\n",
              "      <th>7</th>\n",
              "      <th>8</th>\n",
              "      <th>9</th>\n",
              "      <th>10</th>\n",
              "      <th>11</th>\n",
              "      <th>12</th>\n",
              "      <th>13</th>\n",
              "      <th>14</th>\n",
              "    </tr>\n",
              "  </thead>\n",
              "  <tbody>\n",
              "    <tr>\n",
              "      <th>0</th>\n",
              "      <td>negative</td>\n",
              "      <td>My male cousin stopped talking to me all of su...</td>\n",
              "      <td>10.0</td>\n",
              "      <td>18.0</td>\n",
              "      <td>13.0</td>\n",
              "      <td>9.0</td>\n",
              "      <td>2.0</td>\n",
              "      <td>8.0</td>\n",
              "      <td>3.0</td>\n",
              "      <td>5.0</td>\n",
              "      <td>8.0</td>\n",
              "      <td>7.0</td>\n",
              "      <td>4.0</td>\n",
              "      <td>7.0</td>\n",
              "      <td>11.0</td>\n",
              "      <td>9.0</td>\n",
              "      <td>13.0</td>\n",
              "    </tr>\n",
              "    <tr>\n",
              "      <th>1</th>\n",
              "      <td>negative</td>\n",
              "      <td>Drifting away from my best friend\\nMy best fri...</td>\n",
              "      <td>28.0</td>\n",
              "      <td>11.0</td>\n",
              "      <td>17.0</td>\n",
              "      <td>7.0</td>\n",
              "      <td>3.0</td>\n",
              "      <td>9.0</td>\n",
              "      <td>3.0</td>\n",
              "      <td>3.0</td>\n",
              "      <td>10.0</td>\n",
              "      <td>3.0</td>\n",
              "      <td>3.0</td>\n",
              "      <td>12.0</td>\n",
              "      <td>21.0</td>\n",
              "      <td>11.0</td>\n",
              "      <td>24.0</td>\n",
              "    </tr>\n",
              "  </tbody>\n",
              "</table>\n",
              "</div>"
            ],
            "text/plain": [
              "      label                                               text  ...    13    14\n",
              "0  negative  My male cousin stopped talking to me all of su...  ...   9.0  13.0\n",
              "1  negative  Drifting away from my best friend\\nMy best fri...  ...  11.0  24.0\n",
              "\n",
              "[2 rows x 17 columns]"
            ]
          },
          "metadata": {
            "tags": []
          },
          "execution_count": 138
        }
      ]
    },
    {
      "cell_type": "code",
      "metadata": {
        "colab": {
          "base_uri": "https://localhost:8080/"
        },
        "id": "UEpGliaj6AFt",
        "outputId": "86b89750-7004-4ee5-d20e-141cfb65a074"
      },
      "source": [
        "df_mixed.shape[0]"
      ],
      "execution_count": 139,
      "outputs": [
        {
          "output_type": "execute_result",
          "data": {
            "text/plain": [
              "2810"
            ]
          },
          "metadata": {
            "tags": []
          },
          "execution_count": 139
        }
      ]
    },
    {
      "cell_type": "markdown",
      "metadata": {
        "id": "SBPxs7-FWftS"
      },
      "source": [
        "##2.a Lexicon in use is afinn_nrc_nrc_sa_mpqa."
      ]
    },
    {
      "cell_type": "code",
      "metadata": {
        "id": "0CCc5-Gu6YCJ",
        "colab": {
          "base_uri": "https://localhost:8080/",
          "height": 331
        },
        "outputId": "c83608c3-9a17-4f8d-cb8b-5e8eb55caf93"
      },
      "source": [
        "columns = ['label', 'text', 'afinn_positive', 'afinn_negative', 'nrc_positive', 'nrc_negative', 'nrc_anger', 'nrc_anticipation', 'nrc_disgust', 'nrc_fear', 'nrc_joy', 'nrc_sadness', 'nrc_surprise', 'nrc_trust', 'mpqa_positive', 'mpqa_negative', 'mpqa_strong_subjectivty']\n",
        "df_mixed=encode_data(df_mixed, columns, encodedict={'positive': 1, 'negative': 0})\n",
        "plot(df_mixed, \"Mixed\") \n"
      ],
      "execution_count": 140,
      "outputs": [
        {
          "output_type": "stream",
          "text": [
            "Dataset: Mixed \n",
            "\n"
          ],
          "name": "stdout"
        },
        {
          "output_type": "execute_result",
          "data": {
            "text/plain": [
              "<matplotlib.axes._subplots.AxesSubplot at 0x7fab1d2e1c90>"
            ]
          },
          "metadata": {
            "tags": []
          },
          "execution_count": 140
        },
        {
          "output_type": "display_data",
          "data": {
            "image/png": "[encoded data removed]",
            "text/plain": [
              "<Figure size 432x288 with 1 Axes>"
            ]
          },
          "metadata": {
            "tags": [],
            "needs_background": "light"
          }
        }
      ]
    },
    {
      "cell_type": "code",
      "metadata": {
        "id": "XSPAcR4wiMiq"
      },
      "source": [
        "X = df_mixed.iloc[:, 2:]\n",
        "y = df_mixed.iloc[:, 0]\n",
        "X_train, X_test, y_train, y_test = split(X, y)\n",
        "X_train, X_test = normalize(StandardScaler(), X_train, X_test)\n",
        "#print(y_test[:10])"
      ],
      "execution_count": 141,
      "outputs": []
    },
    {
      "cell_type": "code",
      "metadata": {
        "colab": {
          "base_uri": "https://localhost:8080/"
        },
        "id": "PufR3rakiWFM",
        "outputId": "3b7f3aa5-fd24-410e-f004-d07656c4bda0"
      },
      "source": [
        "Logistic = LogisticRegression(random_state=0, solver='lbfgs')\n",
        "Logistic.fit(X_train, y_train)\n",
        "print(\"Accuracy with training data:\", Logistic.score(X_train, y_train))\n",
        "prob_predicted_train = Logistic.predict_proba(X_train)\n",
        "print(\"Logloss with training data:\", loss_logloss(prob_predicted_train, y_train, weighted=False))"
      ],
      "execution_count": 142,
      "outputs": [
        {
          "output_type": "stream",
          "text": [
            "Accuracy with training data: 0.6992561105207227\n",
            "Logloss with training data: 0.6006821871982312\n"
          ],
          "name": "stdout"
        }
      ]
    },
    {
      "cell_type": "code",
      "metadata": {
        "colab": {
          "base_uri": "https://localhost:8080/"
        },
        "id": "beOcZlZWijqz",
        "outputId": "21b1aa6c-1f5e-4af3-fcbe-11295aa7a51a"
      },
      "source": [
        "y_pred = Logistic.predict(X_test)\n",
        "print(\"Accuracy with test data:\", Logistic.score(X_test, y_test))\n",
        "\n",
        "y_pred_proba = Logistic.predict_proba(X_test)\n",
        "print(\"Logloss with test data:\", loss_logloss(y_pred_proba, y_test, weighted=False))\n"
      ],
      "execution_count": 143,
      "outputs": [
        {
          "output_type": "stream",
          "text": [
            "Accuracy with test data: 0.7122844827586207\n",
            "Logloss with test data: 0.5910839793065426\n"
          ],
          "name": "stdout"
        }
      ]
    },
    {
      "cell_type": "code",
      "metadata": {
        "colab": {
          "base_uri": "https://localhost:8080/"
        },
        "id": "1of8iUbHixbx",
        "outputId": "09865a7e-ac37-4840-c434-b8e9d1672ee1"
      },
      "source": [
        "#Cross validation\n",
        "Logistic = LogisticRegression(random_state=0, solver='lbfgs')\n",
        "Logistic.fit(X_train, y_train)\n",
        "scores = cross_val_score(\n",
        "    Logistic, \n",
        "    X_train, \n",
        "    y_train, \n",
        "    cv=10)\n",
        "print(\"Cross validated accuracy: \", \n",
        "      np.average(scores))\n",
        "print(\"Logistic accuracy on training data: \", \n",
        "      Logistic.score(X_train, y_train))\n",
        "print(\"Logistic accuracy on testing data: \", \n",
        "      Logistic.score(X_test, y_test))\n"
      ],
      "execution_count": 144,
      "outputs": [
        {
          "output_type": "stream",
          "text": [
            "Cross validated accuracy:  0.6896994258696386\n",
            "Logistic accuracy on training data:  0.6992561105207227\n",
            "Logistic accuracy on testing data:  0.7122844827586207\n"
          ],
          "name": "stdout"
        }
      ]
    },
    {
      "cell_type": "code",
      "metadata": {
        "colab": {
          "base_uri": "https://localhost:8080/"
        },
        "id": "ZzIvV73Zgaoj",
        "outputId": "f1e2f1b1-4cb0-45cf-c6ce-6f8dad62e15e"
      },
      "source": [
        "print(metrics.classification_report(y_test, y_pred))"
      ],
      "execution_count": 145,
      "outputs": [
        {
          "output_type": "stream",
          "text": [
            "              precision    recall  f1-score   support\n",
            "\n",
            "           0       0.68      0.83      0.75       474\n",
            "           1       0.77      0.59      0.67       454\n",
            "\n",
            "    accuracy                           0.71       928\n",
            "   macro avg       0.72      0.71      0.71       928\n",
            "weighted avg       0.72      0.71      0.71       928\n",
            "\n"
          ],
          "name": "stdout"
        }
      ]
    },
    {
      "cell_type": "markdown",
      "metadata": {
        "id": "ld-j7basPH1z"
      },
      "source": [
        "## 2.b Lexicon in use is Sentic."
      ]
    },
    {
      "cell_type": "code",
      "metadata": {
        "colab": {
          "base_uri": "https://localhost:8080/",
          "height": 108
        },
        "id": "DgW1ahIoGqT0",
        "outputId": "1f80478e-0eed-46b5-a801-3c9a290f50f9"
      },
      "source": [
        "Mixed.head(2)"
      ],
      "execution_count": 146,
      "outputs": [
        {
          "output_type": "execute_result",
          "data": {
            "text/html": [
              "<div>\n",
              "<style scoped>\n",
              "    .dataframe tbody tr th:only-of-type {\n",
              "        vertical-align: middle;\n",
              "    }\n",
              "\n",
              "    .dataframe tbody tr th {\n",
              "        vertical-align: top;\n",
              "    }\n",
              "\n",
              "    .dataframe thead th {\n",
              "        text-align: right;\n",
              "    }\n",
              "</style>\n",
              "<table border=\"1\" class=\"dataframe\">\n",
              "  <thead>\n",
              "    <tr style=\"text-align: right;\">\n",
              "      <th></th>\n",
              "      <th>label</th>\n",
              "      <th>text</th>\n",
              "    </tr>\n",
              "  </thead>\n",
              "  <tbody>\n",
              "    <tr>\n",
              "      <th>0</th>\n",
              "      <td>negative</td>\n",
              "      <td>My male cousin stopped talking to me all of su...</td>\n",
              "    </tr>\n",
              "    <tr>\n",
              "      <th>1</th>\n",
              "      <td>negative</td>\n",
              "      <td>Drifting away from my best friend\\nMy best fri...</td>\n",
              "    </tr>\n",
              "  </tbody>\n",
              "</table>\n",
              "</div>"
            ],
            "text/plain": [
              "      label                                               text\n",
              "0  negative  My male cousin stopped talking to me all of su...\n",
              "1  negative  Drifting away from my best friend\\nMy best fri..."
            ]
          },
          "metadata": {
            "tags": []
          },
          "execution_count": 146
        }
      ]
    },
    {
      "cell_type": "code",
      "metadata": {
        "colab": {
          "base_uri": "https://localhost:8080/",
          "height": 523
        },
        "id": "G70LffYJGwaS",
        "outputId": "16e8cc2c-ba20-4954-f510-01b7c9c1d086"
      },
      "source": [
        "mixed_scentic=get_scentic_features(Mixed)\r\n",
        "encodedict={'positive': 1, 'negative': 0}\r\n",
        "mixed_scentic['label'] = mixed_scentic['label'].map(encodedict) \r\n",
        "mixed_scentic.head(2)"
      ],
      "execution_count": 147,
      "outputs": [
        {
          "output_type": "stream",
          "text": [
            "/usr/local/lib/python3.7/dist-packages/ipykernel_launcher.py:95: SettingWithCopyWarning: \n",
            "A value is trying to be set on a copy of a slice from a DataFrame\n",
            "\n",
            "See the caveats in the documentation: https://pandas.pydata.org/pandas-docs/stable/user_guide/indexing.html#returning-a-view-versus-a-copy\n",
            "/usr/local/lib/python3.7/dist-packages/ipykernel_launcher.py:96: SettingWithCopyWarning: \n",
            "A value is trying to be set on a copy of a slice from a DataFrame\n",
            "\n",
            "See the caveats in the documentation: https://pandas.pydata.org/pandas-docs/stable/user_guide/indexing.html#returning-a-view-versus-a-copy\n",
            "/usr/local/lib/python3.7/dist-packages/ipykernel_launcher.py:97: SettingWithCopyWarning: \n",
            "A value is trying to be set on a copy of a slice from a DataFrame\n",
            "\n",
            "See the caveats in the documentation: https://pandas.pydata.org/pandas-docs/stable/user_guide/indexing.html#returning-a-view-versus-a-copy\n",
            "/usr/local/lib/python3.7/dist-packages/ipykernel_launcher.py:98: SettingWithCopyWarning: \n",
            "A value is trying to be set on a copy of a slice from a DataFrame\n",
            "\n",
            "See the caveats in the documentation: https://pandas.pydata.org/pandas-docs/stable/user_guide/indexing.html#returning-a-view-versus-a-copy\n",
            "/usr/local/lib/python3.7/dist-packages/ipykernel_launcher.py:99: SettingWithCopyWarning: \n",
            "A value is trying to be set on a copy of a slice from a DataFrame\n",
            "\n",
            "See the caveats in the documentation: https://pandas.pydata.org/pandas-docs/stable/user_guide/indexing.html#returning-a-view-versus-a-copy\n",
            "/usr/local/lib/python3.7/dist-packages/ipykernel_launcher.py:100: SettingWithCopyWarning: \n",
            "A value is trying to be set on a copy of a slice from a DataFrame\n",
            "\n",
            "See the caveats in the documentation: https://pandas.pydata.org/pandas-docs/stable/user_guide/indexing.html#returning-a-view-versus-a-copy\n"
          ],
          "name": "stderr"
        },
        {
          "output_type": "execute_result",
          "data": {
            "text/html": [
              "<div>\n",
              "<style scoped>\n",
              "    .dataframe tbody tr th:only-of-type {\n",
              "        vertical-align: middle;\n",
              "    }\n",
              "\n",
              "    .dataframe tbody tr th {\n",
              "        vertical-align: top;\n",
              "    }\n",
              "\n",
              "    .dataframe thead th {\n",
              "        text-align: right;\n",
              "    }\n",
              "</style>\n",
              "<table border=\"1\" class=\"dataframe\">\n",
              "  <thead>\n",
              "    <tr style=\"text-align: right;\">\n",
              "      <th></th>\n",
              "      <th>label</th>\n",
              "      <th>text</th>\n",
              "      <th>polarity_value</th>\n",
              "      <th>polarity_label</th>\n",
              "      <th>sensitivity</th>\n",
              "      <th>introspection</th>\n",
              "      <th>temper</th>\n",
              "      <th>attitude</th>\n",
              "    </tr>\n",
              "  </thead>\n",
              "  <tbody>\n",
              "    <tr>\n",
              "      <th>0</th>\n",
              "      <td>0</td>\n",
              "      <td>My male cousin stopped talking to me all of su...</td>\n",
              "      <td>13</td>\n",
              "      <td>33</td>\n",
              "      <td>13</td>\n",
              "      <td>12</td>\n",
              "      <td>-3</td>\n",
              "      <td>4</td>\n",
              "    </tr>\n",
              "    <tr>\n",
              "      <th>1</th>\n",
              "      <td>0</td>\n",
              "      <td>Drifting away from my best friend\\nMy best fri...</td>\n",
              "      <td>6</td>\n",
              "      <td>28</td>\n",
              "      <td>10</td>\n",
              "      <td>6</td>\n",
              "      <td>-2</td>\n",
              "      <td>1</td>\n",
              "    </tr>\n",
              "  </tbody>\n",
              "</table>\n",
              "</div>"
            ],
            "text/plain": [
              "   label                                               text  ...  temper  attitude\n",
              "0      0  My male cousin stopped talking to me all of su...  ...      -3         4\n",
              "1      0  Drifting away from my best friend\\nMy best fri...  ...      -2         1\n",
              "\n",
              "[2 rows x 8 columns]"
            ]
          },
          "metadata": {
            "tags": []
          },
          "execution_count": 147
        }
      ]
    },
    {
      "cell_type": "code",
      "metadata": {
        "colab": {
          "base_uri": "https://localhost:8080/"
        },
        "id": "d5zUlfoZNnW2",
        "outputId": "569113e1-b5c9-43a6-8275-40ce97a82f0c"
      },
      "source": [
        "Logistic = LogisticRegression(random_state=0, solver='lbfgs')\r\n",
        "Logistic.fit(X_train, y_train)\r\n",
        "print(\"Accuracy with training data:\", Logistic.score(X_train, y_train))\r\n",
        "prob_predicted_train = Logistic.predict_proba(X_train)\r\n",
        "print(\"Logloss with training data:\", loss_logloss(prob_predicted_train, y_train, weighted=True))\r\n"
      ],
      "execution_count": 148,
      "outputs": [
        {
          "output_type": "stream",
          "text": [
            "Accuracy with training data: 0.6992561105207227\n",
            "Logloss with training data: 0.6048889726410016\n"
          ],
          "name": "stdout"
        }
      ]
    },
    {
      "cell_type": "code",
      "metadata": {
        "colab": {
          "base_uri": "https://localhost:8080/"
        },
        "id": "5oQxaCBrNtGK",
        "outputId": "9355d001-a4d5-4916-ad59-fef117e8fdc3"
      },
      "source": [
        "y_pred = Logistic.predict(X_test)\r\n",
        "print(\"Accuracy with test data:\", Logistic.score(X_test, y_test))\r\n",
        "\r\n",
        "y_pred_proba = Logistic.predict_proba(X_test)\r\n",
        "print(\"Logloss with test data:\", loss_logloss(y_pred_proba, y_test, weighted=True))\r\n"
      ],
      "execution_count": 149,
      "outputs": [
        {
          "output_type": "stream",
          "text": [
            "Accuracy with test data: 0.7122844827586207\n",
            "Logloss with test data: 0.5922016734946323\n"
          ],
          "name": "stdout"
        }
      ]
    },
    {
      "cell_type": "code",
      "metadata": {
        "colab": {
          "base_uri": "https://localhost:8080/"
        },
        "id": "dsLxWy2wOCp4",
        "outputId": "9fea35e9-d8c8-45c8-def9-7e05cc98c561"
      },
      "source": [
        "#Cross validation\r\n",
        "Logistic = LogisticRegression(random_state=0, solver='lbfgs')\r\n",
        "Logistic.fit(X_train, y_train)\r\n",
        "scores = cross_val_score(\r\n",
        "    Logistic, \r\n",
        "    X_train, \r\n",
        "    y_train, \r\n",
        "    cv=10)\r\n",
        "print(\"Cross validated accuracy: \", \r\n",
        "      np.average(scores))\r\n",
        "print(\"Logistic accuracy on training data: \", \r\n",
        "      Logistic.score(X_train, y_train))\r\n",
        "print(\"Logistic accuracy on testing data: \", \r\n",
        "      Logistic.score(X_test, y_test))\r\n"
      ],
      "execution_count": 150,
      "outputs": [
        {
          "output_type": "stream",
          "text": [
            "Cross validated accuracy:  0.6896994258696386\n",
            "Logistic accuracy on training data:  0.6992561105207227\n",
            "Logistic accuracy on testing data:  0.7122844827586207\n"
          ],
          "name": "stdout"
        }
      ]
    },
    {
      "cell_type": "code",
      "metadata": {
        "colab": {
          "base_uri": "https://localhost:8080/"
        },
        "id": "6jzNqaMwgfYr",
        "outputId": "ea6c3f23-dc69-43f1-8a09-43e24c60d244"
      },
      "source": [
        "print(metrics.classification_report(y_test, y_pred))"
      ],
      "execution_count": 151,
      "outputs": [
        {
          "output_type": "stream",
          "text": [
            "              precision    recall  f1-score   support\n",
            "\n",
            "           0       0.68      0.83      0.75       474\n",
            "           1       0.77      0.59      0.67       454\n",
            "\n",
            "    accuracy                           0.71       928\n",
            "   macro avg       0.72      0.71      0.71       928\n",
            "weighted avg       0.72      0.71      0.71       928\n",
            "\n"
          ],
          "name": "stdout"
        }
      ]
    },
    {
      "cell_type": "markdown",
      "metadata": {
        "id": "87K-zdue9nNG"
      },
      "source": [
        "##2.c Lexicon in use is affine_ncr"
      ]
    },
    {
      "cell_type": "code",
      "metadata": {
        "colab": {
          "base_uri": "https://localhost:8080/",
          "height": 138
        },
        "id": "52aoMqce96TH",
        "outputId": "2efde89d-5c37-44a8-bddb-db435f30f99d"
      },
      "source": [
        "Mixed_all_two_lexicos= pd.read_csv(Path('/content/drive/My Drive/DSP/data/bachelor/Mixed_afinn_nrc.csv'))\n",
        "Mixed_all_two_lexicos.head(3)"
      ],
      "execution_count": 152,
      "outputs": [
        {
          "output_type": "execute_result",
          "data": {
            "text/html": [
              "<div>\n",
              "<style scoped>\n",
              "    .dataframe tbody tr th:only-of-type {\n",
              "        vertical-align: middle;\n",
              "    }\n",
              "\n",
              "    .dataframe tbody tr th {\n",
              "        vertical-align: top;\n",
              "    }\n",
              "\n",
              "    .dataframe thead th {\n",
              "        text-align: right;\n",
              "    }\n",
              "</style>\n",
              "<table border=\"1\" class=\"dataframe\">\n",
              "  <thead>\n",
              "    <tr style=\"text-align: right;\">\n",
              "      <th></th>\n",
              "      <th>0</th>\n",
              "      <th>1</th>\n",
              "      <th>2</th>\n",
              "      <th>3</th>\n",
              "    </tr>\n",
              "  </thead>\n",
              "  <tbody>\n",
              "    <tr>\n",
              "      <th>0</th>\n",
              "      <td>10.0</td>\n",
              "      <td>18.0</td>\n",
              "      <td>13.0</td>\n",
              "      <td>9.0</td>\n",
              "    </tr>\n",
              "    <tr>\n",
              "      <th>1</th>\n",
              "      <td>28.0</td>\n",
              "      <td>11.0</td>\n",
              "      <td>17.0</td>\n",
              "      <td>7.0</td>\n",
              "    </tr>\n",
              "    <tr>\n",
              "      <th>2</th>\n",
              "      <td>29.0</td>\n",
              "      <td>11.0</td>\n",
              "      <td>14.0</td>\n",
              "      <td>4.0</td>\n",
              "    </tr>\n",
              "  </tbody>\n",
              "</table>\n",
              "</div>"
            ],
            "text/plain": [
              "      0     1     2    3\n",
              "0  10.0  18.0  13.0  9.0\n",
              "1  28.0  11.0  17.0  7.0\n",
              "2  29.0  11.0  14.0  4.0"
            ]
          },
          "metadata": {
            "tags": []
          },
          "execution_count": 152
        }
      ]
    },
    {
      "cell_type": "code",
      "metadata": {
        "colab": {
          "base_uri": "https://localhost:8080/",
          "height": 108
        },
        "id": "mnkDKdHRig0K",
        "outputId": "e0b473fe-4a8f-497d-cf45-a62d7f130011"
      },
      "source": [
        "Mixed= pd.read_csv(Path('/content/drive/My Drive/DSP/data/bachelor/Mixed.csv'))\n",
        "Mixed.head(2)"
      ],
      "execution_count": 153,
      "outputs": [
        {
          "output_type": "execute_result",
          "data": {
            "text/html": [
              "<div>\n",
              "<style scoped>\n",
              "    .dataframe tbody tr th:only-of-type {\n",
              "        vertical-align: middle;\n",
              "    }\n",
              "\n",
              "    .dataframe tbody tr th {\n",
              "        vertical-align: top;\n",
              "    }\n",
              "\n",
              "    .dataframe thead th {\n",
              "        text-align: right;\n",
              "    }\n",
              "</style>\n",
              "<table border=\"1\" class=\"dataframe\">\n",
              "  <thead>\n",
              "    <tr style=\"text-align: right;\">\n",
              "      <th></th>\n",
              "      <th>label</th>\n",
              "      <th>text</th>\n",
              "    </tr>\n",
              "  </thead>\n",
              "  <tbody>\n",
              "    <tr>\n",
              "      <th>0</th>\n",
              "      <td>negative</td>\n",
              "      <td>My male cousin stopped talking to me all of su...</td>\n",
              "    </tr>\n",
              "    <tr>\n",
              "      <th>1</th>\n",
              "      <td>negative</td>\n",
              "      <td>Drifting away from my best friend\\nMy best fri...</td>\n",
              "    </tr>\n",
              "  </tbody>\n",
              "</table>\n",
              "</div>"
            ],
            "text/plain": [
              "      label                                               text\n",
              "0  negative  My male cousin stopped talking to me all of su...\n",
              "1  negative  Drifting away from my best friend\\nMy best fri..."
            ]
          },
          "metadata": {
            "tags": []
          },
          "execution_count": 153
        }
      ]
    },
    {
      "cell_type": "code",
      "metadata": {
        "colab": {
          "base_uri": "https://localhost:8080/",
          "height": 108
        },
        "id": "Cgqdra8Lin7D",
        "outputId": "2476ff8d-f665-4a9d-e691-ad7872bfed30"
      },
      "source": [
        "df_mixed = pd.concat([Mixed,Mixed_all_two_lexicos], axis=1)\n",
        "df_mixed.head(2)"
      ],
      "execution_count": 154,
      "outputs": [
        {
          "output_type": "execute_result",
          "data": {
            "text/html": [
              "<div>\n",
              "<style scoped>\n",
              "    .dataframe tbody tr th:only-of-type {\n",
              "        vertical-align: middle;\n",
              "    }\n",
              "\n",
              "    .dataframe tbody tr th {\n",
              "        vertical-align: top;\n",
              "    }\n",
              "\n",
              "    .dataframe thead th {\n",
              "        text-align: right;\n",
              "    }\n",
              "</style>\n",
              "<table border=\"1\" class=\"dataframe\">\n",
              "  <thead>\n",
              "    <tr style=\"text-align: right;\">\n",
              "      <th></th>\n",
              "      <th>label</th>\n",
              "      <th>text</th>\n",
              "      <th>0</th>\n",
              "      <th>1</th>\n",
              "      <th>2</th>\n",
              "      <th>3</th>\n",
              "    </tr>\n",
              "  </thead>\n",
              "  <tbody>\n",
              "    <tr>\n",
              "      <th>0</th>\n",
              "      <td>negative</td>\n",
              "      <td>My male cousin stopped talking to me all of su...</td>\n",
              "      <td>10.0</td>\n",
              "      <td>18.0</td>\n",
              "      <td>13.0</td>\n",
              "      <td>9.0</td>\n",
              "    </tr>\n",
              "    <tr>\n",
              "      <th>1</th>\n",
              "      <td>negative</td>\n",
              "      <td>Drifting away from my best friend\\nMy best fri...</td>\n",
              "      <td>28.0</td>\n",
              "      <td>11.0</td>\n",
              "      <td>17.0</td>\n",
              "      <td>7.0</td>\n",
              "    </tr>\n",
              "  </tbody>\n",
              "</table>\n",
              "</div>"
            ],
            "text/plain": [
              "      label                                               text  ...     2    3\n",
              "0  negative  My male cousin stopped talking to me all of su...  ...  13.0  9.0\n",
              "1  negative  Drifting away from my best friend\\nMy best fri...  ...  17.0  7.0\n",
              "\n",
              "[2 rows x 6 columns]"
            ]
          },
          "metadata": {
            "tags": []
          },
          "execution_count": 154
        }
      ]
    },
    {
      "cell_type": "code",
      "metadata": {
        "id": "FvWRfxoDi7Pt"
      },
      "source": [
        "columns = ['label', 'text', 'afinn_positive', 'afinn_negative', 'nrc_positive', 'nrc_negative']\n",
        "df_mixed=encode_data(df_mixed, columns, encodedict={'positive': 1, 'negative': 0})\n"
      ],
      "execution_count": 155,
      "outputs": []
    },
    {
      "cell_type": "code",
      "metadata": {
        "id": "zRstwcKs-jTp"
      },
      "source": [
        "X = df_mixed.iloc[:, 2:]\n",
        "y = df_mixed.iloc[:, 0]\n",
        "X_train, X_test, y_train, y_test = split(X, y)\n",
        "X_train, X_test = normalize(StandardScaler(), X_train, X_test)\n",
        "#print(y_test[:10])"
      ],
      "execution_count": 156,
      "outputs": []
    },
    {
      "cell_type": "code",
      "metadata": {
        "colab": {
          "base_uri": "https://localhost:8080/"
        },
        "id": "g_N0iFNG-n6J",
        "outputId": "544a73c0-5713-41f8-a841-74b365583521"
      },
      "source": [
        "#Cross validation\n",
        "Logistic = LogisticRegression(random_state=0, solver='lbfgs')\n",
        "Logistic.fit(X_train, y_train)\n",
        "scores = cross_val_score(\n",
        "    Logistic, \n",
        "    X_train, \n",
        "    y_train, \n",
        "    cv=10)\n",
        "print(\"Cross validated accuracy: \", \n",
        "      np.average(scores))\n",
        "print(\"Logistic accuracy on training data: \", \n",
        "      Logistic.score(X_train, y_train))\n",
        "print(\"Logistic accuracy on testing data: \", \n",
        "      Logistic.score(X_test, y_test))\n"
      ],
      "execution_count": 157,
      "outputs": [
        {
          "output_type": "stream",
          "text": [
            "Cross validated accuracy:  0.6471884498480243\n",
            "Logistic accuracy on training data:  0.6466524973432518\n",
            "Logistic accuracy on testing data:  0.6476293103448276\n"
          ],
          "name": "stdout"
        }
      ]
    },
    {
      "cell_type": "code",
      "metadata": {
        "colab": {
          "base_uri": "https://localhost:8080/"
        },
        "id": "iVx5LsJOEIX8",
        "outputId": "9ad7a1ac-021c-478d-88c8-6c8068448b15"
      },
      "source": [
        "y_pred = Logistic.predict(X_test)\n",
        "print(\"Accuracy with test data:\", Logistic.score(X_test, y_test))\n",
        "\n",
        "y_pred_proba = Logistic.predict_proba(X_test)\n",
        "print(\"Logloss with test data:\", loss_logloss(y_pred_proba, y_test, weighted=True))\n"
      ],
      "execution_count": 158,
      "outputs": [
        {
          "output_type": "stream",
          "text": [
            "Accuracy with test data: 0.6476293103448276\n",
            "Logloss with test data: 0.6520430076912936\n"
          ],
          "name": "stdout"
        }
      ]
    },
    {
      "cell_type": "code",
      "metadata": {
        "colab": {
          "base_uri": "https://localhost:8080/"
        },
        "id": "ViCWdA4w-rlY",
        "outputId": "d3119e1c-4541-4423-e231-d49e9ae304ce"
      },
      "source": [
        "print(metrics.classification_report(y_test, y_pred))"
      ],
      "execution_count": 159,
      "outputs": [
        {
          "output_type": "stream",
          "text": [
            "              precision    recall  f1-score   support\n",
            "\n",
            "           0       0.62      0.79      0.70       474\n",
            "           1       0.69      0.50      0.58       454\n",
            "\n",
            "    accuracy                           0.65       928\n",
            "   macro avg       0.66      0.64      0.64       928\n",
            "weighted avg       0.66      0.65      0.64       928\n",
            "\n"
          ],
          "name": "stdout"
        }
      ]
    },
    {
      "cell_type": "markdown",
      "metadata": {
        "id": "sxir29HDwU9o"
      },
      "source": [
        "##2.d Lexicon in use is mpqr_ncr_sa"
      ]
    },
    {
      "cell_type": "code",
      "metadata": {
        "colab": {
          "base_uri": "https://localhost:8080/",
          "height": 138
        },
        "id": "3nVTUxMLxFNd",
        "outputId": "3ce488d0-82c5-4509-c720-4e591280f07d"
      },
      "source": [
        "Mixed_mpqr_nrc_sa= pd.read_csv(Path('/content/drive/My Drive/DSP/data/bachelor/Mixed_mpqr_nrc_sa.csv'))\n",
        "Mixed_mpqr_nrc_sa.head(3)"
      ],
      "execution_count": 163,
      "outputs": [
        {
          "output_type": "execute_result",
          "data": {
            "text/html": [
              "<div>\n",
              "<style scoped>\n",
              "    .dataframe tbody tr th:only-of-type {\n",
              "        vertical-align: middle;\n",
              "    }\n",
              "\n",
              "    .dataframe tbody tr th {\n",
              "        vertical-align: top;\n",
              "    }\n",
              "\n",
              "    .dataframe thead th {\n",
              "        text-align: right;\n",
              "    }\n",
              "</style>\n",
              "<table border=\"1\" class=\"dataframe\">\n",
              "  <thead>\n",
              "    <tr style=\"text-align: right;\">\n",
              "      <th></th>\n",
              "      <th>0</th>\n",
              "      <th>1</th>\n",
              "      <th>2</th>\n",
              "      <th>3</th>\n",
              "      <th>4</th>\n",
              "      <th>5</th>\n",
              "      <th>6</th>\n",
              "      <th>7</th>\n",
              "      <th>8</th>\n",
              "      <th>9</th>\n",
              "      <th>10</th>\n",
              "    </tr>\n",
              "  </thead>\n",
              "  <tbody>\n",
              "    <tr>\n",
              "      <th>0</th>\n",
              "      <td>11.0</td>\n",
              "      <td>9.0</td>\n",
              "      <td>13.0</td>\n",
              "      <td>2.0</td>\n",
              "      <td>8.0</td>\n",
              "      <td>3.0</td>\n",
              "      <td>5.0</td>\n",
              "      <td>8.0</td>\n",
              "      <td>7.0</td>\n",
              "      <td>4.0</td>\n",
              "      <td>7.0</td>\n",
              "    </tr>\n",
              "    <tr>\n",
              "      <th>1</th>\n",
              "      <td>21.0</td>\n",
              "      <td>11.0</td>\n",
              "      <td>24.0</td>\n",
              "      <td>3.0</td>\n",
              "      <td>9.0</td>\n",
              "      <td>3.0</td>\n",
              "      <td>3.0</td>\n",
              "      <td>10.0</td>\n",
              "      <td>3.0</td>\n",
              "      <td>3.0</td>\n",
              "      <td>12.0</td>\n",
              "    </tr>\n",
              "    <tr>\n",
              "      <th>2</th>\n",
              "      <td>13.0</td>\n",
              "      <td>6.0</td>\n",
              "      <td>20.0</td>\n",
              "      <td>0.0</td>\n",
              "      <td>3.0</td>\n",
              "      <td>0.0</td>\n",
              "      <td>1.0</td>\n",
              "      <td>12.0</td>\n",
              "      <td>0.0</td>\n",
              "      <td>0.0</td>\n",
              "      <td>1.0</td>\n",
              "    </tr>\n",
              "  </tbody>\n",
              "</table>\n",
              "</div>"
            ],
            "text/plain": [
              "      0     1     2    3    4    5    6     7    8    9    10\n",
              "0  11.0   9.0  13.0  2.0  8.0  3.0  5.0   8.0  7.0  4.0   7.0\n",
              "1  21.0  11.0  24.0  3.0  9.0  3.0  3.0  10.0  3.0  3.0  12.0\n",
              "2  13.0   6.0  20.0  0.0  3.0  0.0  1.0  12.0  0.0  0.0   1.0"
            ]
          },
          "metadata": {
            "tags": []
          },
          "execution_count": 163
        }
      ]
    },
    {
      "cell_type": "code",
      "metadata": {
        "colab": {
          "base_uri": "https://localhost:8080/",
          "height": 108
        },
        "id": "EQELtBDUxNEp",
        "outputId": "f25ca2b3-403b-42bc-aea8-fa7db1f1dccc"
      },
      "source": [
        "Mixed= pd.read_csv(Path('/content/drive/My Drive/DSP/data/bachelor/Mixed.csv'))\n",
        "Mixed.head(2)"
      ],
      "execution_count": 164,
      "outputs": [
        {
          "output_type": "execute_result",
          "data": {
            "text/html": [
              "<div>\n",
              "<style scoped>\n",
              "    .dataframe tbody tr th:only-of-type {\n",
              "        vertical-align: middle;\n",
              "    }\n",
              "\n",
              "    .dataframe tbody tr th {\n",
              "        vertical-align: top;\n",
              "    }\n",
              "\n",
              "    .dataframe thead th {\n",
              "        text-align: right;\n",
              "    }\n",
              "</style>\n",
              "<table border=\"1\" class=\"dataframe\">\n",
              "  <thead>\n",
              "    <tr style=\"text-align: right;\">\n",
              "      <th></th>\n",
              "      <th>label</th>\n",
              "      <th>text</th>\n",
              "    </tr>\n",
              "  </thead>\n",
              "  <tbody>\n",
              "    <tr>\n",
              "      <th>0</th>\n",
              "      <td>negative</td>\n",
              "      <td>My male cousin stopped talking to me all of su...</td>\n",
              "    </tr>\n",
              "    <tr>\n",
              "      <th>1</th>\n",
              "      <td>negative</td>\n",
              "      <td>Drifting away from my best friend\\nMy best fri...</td>\n",
              "    </tr>\n",
              "  </tbody>\n",
              "</table>\n",
              "</div>"
            ],
            "text/plain": [
              "      label                                               text\n",
              "0  negative  My male cousin stopped talking to me all of su...\n",
              "1  negative  Drifting away from my best friend\\nMy best fri..."
            ]
          },
          "metadata": {
            "tags": []
          },
          "execution_count": 164
        }
      ]
    },
    {
      "cell_type": "code",
      "metadata": {
        "colab": {
          "base_uri": "https://localhost:8080/",
          "height": 108
        },
        "id": "ays3lXBzxSnf",
        "outputId": "f9554f69-2f66-4b57-829b-7228120cc431"
      },
      "source": [
        "df_mixed = pd.concat([Mixed,Mixed_mpqr_nrc_sa], axis=1)\n",
        "df_mixed.head(2)"
      ],
      "execution_count": 165,
      "outputs": [
        {
          "output_type": "execute_result",
          "data": {
            "text/html": [
              "<div>\n",
              "<style scoped>\n",
              "    .dataframe tbody tr th:only-of-type {\n",
              "        vertical-align: middle;\n",
              "    }\n",
              "\n",
              "    .dataframe tbody tr th {\n",
              "        vertical-align: top;\n",
              "    }\n",
              "\n",
              "    .dataframe thead th {\n",
              "        text-align: right;\n",
              "    }\n",
              "</style>\n",
              "<table border=\"1\" class=\"dataframe\">\n",
              "  <thead>\n",
              "    <tr style=\"text-align: right;\">\n",
              "      <th></th>\n",
              "      <th>label</th>\n",
              "      <th>text</th>\n",
              "      <th>0</th>\n",
              "      <th>1</th>\n",
              "      <th>2</th>\n",
              "      <th>3</th>\n",
              "      <th>4</th>\n",
              "      <th>5</th>\n",
              "      <th>6</th>\n",
              "      <th>7</th>\n",
              "      <th>8</th>\n",
              "      <th>9</th>\n",
              "      <th>10</th>\n",
              "    </tr>\n",
              "  </thead>\n",
              "  <tbody>\n",
              "    <tr>\n",
              "      <th>0</th>\n",
              "      <td>negative</td>\n",
              "      <td>My male cousin stopped talking to me all of su...</td>\n",
              "      <td>11.0</td>\n",
              "      <td>9.0</td>\n",
              "      <td>13.0</td>\n",
              "      <td>2.0</td>\n",
              "      <td>8.0</td>\n",
              "      <td>3.0</td>\n",
              "      <td>5.0</td>\n",
              "      <td>8.0</td>\n",
              "      <td>7.0</td>\n",
              "      <td>4.0</td>\n",
              "      <td>7.0</td>\n",
              "    </tr>\n",
              "    <tr>\n",
              "      <th>1</th>\n",
              "      <td>negative</td>\n",
              "      <td>Drifting away from my best friend\\nMy best fri...</td>\n",
              "      <td>21.0</td>\n",
              "      <td>11.0</td>\n",
              "      <td>24.0</td>\n",
              "      <td>3.0</td>\n",
              "      <td>9.0</td>\n",
              "      <td>3.0</td>\n",
              "      <td>3.0</td>\n",
              "      <td>10.0</td>\n",
              "      <td>3.0</td>\n",
              "      <td>3.0</td>\n",
              "      <td>12.0</td>\n",
              "    </tr>\n",
              "  </tbody>\n",
              "</table>\n",
              "</div>"
            ],
            "text/plain": [
              "      label                                               text  ...    9    10\n",
              "0  negative  My male cousin stopped talking to me all of su...  ...  4.0   7.0\n",
              "1  negative  Drifting away from my best friend\\nMy best fri...  ...  3.0  12.0\n",
              "\n",
              "[2 rows x 13 columns]"
            ]
          },
          "metadata": {
            "tags": []
          },
          "execution_count": 165
        }
      ]
    },
    {
      "cell_type": "code",
      "metadata": {
        "id": "opE4DT1vxeQZ"
      },
      "source": [
        "columns = ['label', 'text', 'nrc_anger', 'nrc_anticipation', 'nrc_disgust', 'nrc_fear', 'nrc_joy', 'nrc_sadness', 'nrc_surprise', 'nrc_trust', 'mpqa_positive', 'mpqa_negative', 'mpqa_strong_subjectivty']\n",
        "df_mixed=encode_data(df_mixed, columns, encodedict={'positive': 1, 'negative': 0})\n"
      ],
      "execution_count": 166,
      "outputs": []
    },
    {
      "cell_type": "code",
      "metadata": {
        "id": "rfWKLlgpxjg6"
      },
      "source": [
        "X = df_mixed.iloc[:, 2:]\n",
        "y = df_mixed.iloc[:, 0]\n",
        "X_train, X_test, y_train, y_test = split(X, y)\n",
        "X_train, X_test = normalize(StandardScaler(), X_train, X_test)\n",
        "#print(y_test[:10])"
      ],
      "execution_count": 167,
      "outputs": []
    },
    {
      "cell_type": "code",
      "metadata": {
        "colab": {
          "base_uri": "https://localhost:8080/"
        },
        "id": "z6Bw8SyfxpRs",
        "outputId": "a07d91cc-e8d2-475b-9bb7-d46b27b978fd"
      },
      "source": [
        "#Cross validation\n",
        "Logistic = LogisticRegression(random_state=0, solver='lbfgs')\n",
        "Logistic.fit(X_train, y_train)\n",
        "scores = cross_val_score(\n",
        "    Logistic, \n",
        "    X_train, \n",
        "    y_train, \n",
        "    cv=10)\n",
        "print(\"Cross validated accuracy: \", \n",
        "      np.average(scores))\n",
        "print(\"Logistic accuracy on training data: \", \n",
        "      Logistic.score(X_train, y_train))\n",
        "print(\"Logistic accuracy on testing data: \", \n",
        "      Logistic.score(X_test, y_test))\n"
      ],
      "execution_count": 168,
      "outputs": [
        {
          "output_type": "stream",
          "text": [
            "Cross validated accuracy:  0.6859900934369019\n",
            "Logistic accuracy on training data:  0.6928799149840595\n",
            "Logistic accuracy on testing data:  0.7122844827586207\n"
          ],
          "name": "stdout"
        }
      ]
    },
    {
      "cell_type": "code",
      "metadata": {
        "colab": {
          "base_uri": "https://localhost:8080/"
        },
        "id": "z4ib2QaCxvXm",
        "outputId": "8fdb5a1b-ca12-46f5-ae69-ff316ac712a2"
      },
      "source": [
        "y_pred = Logistic.predict(X_test)\n",
        "print(\"Accuracy with test data:\", Logistic.score(X_test, y_test))\n",
        "\n",
        "y_pred_proba = Logistic.predict_proba(X_test)\n",
        "print(\"Logloss with test data:\", loss_logloss(y_pred_proba, y_test, weighted=True))\n"
      ],
      "execution_count": 169,
      "outputs": [
        {
          "output_type": "stream",
          "text": [
            "Accuracy with test data: 0.7122844827586207\n",
            "Logloss with test data: 0.5964029364129982\n"
          ],
          "name": "stdout"
        }
      ]
    },
    {
      "cell_type": "code",
      "metadata": {
        "colab": {
          "base_uri": "https://localhost:8080/"
        },
        "id": "ffUBtH7Fx1m5",
        "outputId": "c5d389d9-9d61-4648-ba15-d4c43cdf9556"
      },
      "source": [
        "print(metrics.classification_report(y_test, y_pred))"
      ],
      "execution_count": 170,
      "outputs": [
        {
          "output_type": "stream",
          "text": [
            "              precision    recall  f1-score   support\n",
            "\n",
            "           0       0.68      0.83      0.75       474\n",
            "           1       0.77      0.59      0.67       454\n",
            "\n",
            "    accuracy                           0.71       928\n",
            "   macro avg       0.72      0.71      0.71       928\n",
            "weighted avg       0.72      0.71      0.71       928\n",
            "\n"
          ],
          "name": "stdout"
        }
      ]
    },
    {
      "cell_type": "markdown",
      "metadata": {
        "id": "pD8yNp2wwc8N"
      },
      "source": [
        "##2.e Lexicon in use is affin"
      ]
    },
    {
      "cell_type": "code",
      "metadata": {
        "colab": {
          "base_uri": "https://localhost:8080/",
          "height": 138
        },
        "id": "cf51DrdixGEd",
        "outputId": "de482db3-0338-46b6-b363-1fc04fe42bd5"
      },
      "source": [
        "Mixed_afinn= pd.read_csv(Path('/content/drive/My Drive/DSP/data/bachelor/Mixed_afinn.csv'))\n",
        "Mixed_afinn.head(3)"
      ],
      "execution_count": 171,
      "outputs": [
        {
          "output_type": "execute_result",
          "data": {
            "text/html": [
              "<div>\n",
              "<style scoped>\n",
              "    .dataframe tbody tr th:only-of-type {\n",
              "        vertical-align: middle;\n",
              "    }\n",
              "\n",
              "    .dataframe tbody tr th {\n",
              "        vertical-align: top;\n",
              "    }\n",
              "\n",
              "    .dataframe thead th {\n",
              "        text-align: right;\n",
              "    }\n",
              "</style>\n",
              "<table border=\"1\" class=\"dataframe\">\n",
              "  <thead>\n",
              "    <tr style=\"text-align: right;\">\n",
              "      <th></th>\n",
              "      <th>0</th>\n",
              "      <th>1</th>\n",
              "    </tr>\n",
              "  </thead>\n",
              "  <tbody>\n",
              "    <tr>\n",
              "      <th>0</th>\n",
              "      <td>10.0</td>\n",
              "      <td>18.0</td>\n",
              "    </tr>\n",
              "    <tr>\n",
              "      <th>1</th>\n",
              "      <td>28.0</td>\n",
              "      <td>11.0</td>\n",
              "    </tr>\n",
              "    <tr>\n",
              "      <th>2</th>\n",
              "      <td>29.0</td>\n",
              "      <td>11.0</td>\n",
              "    </tr>\n",
              "  </tbody>\n",
              "</table>\n",
              "</div>"
            ],
            "text/plain": [
              "      0     1\n",
              "0  10.0  18.0\n",
              "1  28.0  11.0\n",
              "2  29.0  11.0"
            ]
          },
          "metadata": {
            "tags": []
          },
          "execution_count": 171
        }
      ]
    },
    {
      "cell_type": "code",
      "metadata": {
        "colab": {
          "base_uri": "https://localhost:8080/",
          "height": 108
        },
        "id": "YhRGiaCXxNse",
        "outputId": "737bdee4-2c65-43a2-b1ed-ff62b7649181"
      },
      "source": [
        "Mixed= pd.read_csv(Path('/content/drive/My Drive/DSP/data/bachelor/Mixed.csv'))\n",
        "Mixed.head(2)"
      ],
      "execution_count": 172,
      "outputs": [
        {
          "output_type": "execute_result",
          "data": {
            "text/html": [
              "<div>\n",
              "<style scoped>\n",
              "    .dataframe tbody tr th:only-of-type {\n",
              "        vertical-align: middle;\n",
              "    }\n",
              "\n",
              "    .dataframe tbody tr th {\n",
              "        vertical-align: top;\n",
              "    }\n",
              "\n",
              "    .dataframe thead th {\n",
              "        text-align: right;\n",
              "    }\n",
              "</style>\n",
              "<table border=\"1\" class=\"dataframe\">\n",
              "  <thead>\n",
              "    <tr style=\"text-align: right;\">\n",
              "      <th></th>\n",
              "      <th>label</th>\n",
              "      <th>text</th>\n",
              "    </tr>\n",
              "  </thead>\n",
              "  <tbody>\n",
              "    <tr>\n",
              "      <th>0</th>\n",
              "      <td>negative</td>\n",
              "      <td>My male cousin stopped talking to me all of su...</td>\n",
              "    </tr>\n",
              "    <tr>\n",
              "      <th>1</th>\n",
              "      <td>negative</td>\n",
              "      <td>Drifting away from my best friend\\nMy best fri...</td>\n",
              "    </tr>\n",
              "  </tbody>\n",
              "</table>\n",
              "</div>"
            ],
            "text/plain": [
              "      label                                               text\n",
              "0  negative  My male cousin stopped talking to me all of su...\n",
              "1  negative  Drifting away from my best friend\\nMy best fri..."
            ]
          },
          "metadata": {
            "tags": []
          },
          "execution_count": 172
        }
      ]
    },
    {
      "cell_type": "code",
      "metadata": {
        "colab": {
          "base_uri": "https://localhost:8080/",
          "height": 108
        },
        "id": "7-Mwhka2xTW8",
        "outputId": "b37f25c4-861b-454c-f881-b5b908a0faf6"
      },
      "source": [
        "df_mixed = pd.concat([Mixed,Mixed_afinn], axis=1)\n",
        "df_mixed.head(2)"
      ],
      "execution_count": 173,
      "outputs": [
        {
          "output_type": "execute_result",
          "data": {
            "text/html": [
              "<div>\n",
              "<style scoped>\n",
              "    .dataframe tbody tr th:only-of-type {\n",
              "        vertical-align: middle;\n",
              "    }\n",
              "\n",
              "    .dataframe tbody tr th {\n",
              "        vertical-align: top;\n",
              "    }\n",
              "\n",
              "    .dataframe thead th {\n",
              "        text-align: right;\n",
              "    }\n",
              "</style>\n",
              "<table border=\"1\" class=\"dataframe\">\n",
              "  <thead>\n",
              "    <tr style=\"text-align: right;\">\n",
              "      <th></th>\n",
              "      <th>label</th>\n",
              "      <th>text</th>\n",
              "      <th>0</th>\n",
              "      <th>1</th>\n",
              "    </tr>\n",
              "  </thead>\n",
              "  <tbody>\n",
              "    <tr>\n",
              "      <th>0</th>\n",
              "      <td>negative</td>\n",
              "      <td>My male cousin stopped talking to me all of su...</td>\n",
              "      <td>10.0</td>\n",
              "      <td>18.0</td>\n",
              "    </tr>\n",
              "    <tr>\n",
              "      <th>1</th>\n",
              "      <td>negative</td>\n",
              "      <td>Drifting away from my best friend\\nMy best fri...</td>\n",
              "      <td>28.0</td>\n",
              "      <td>11.0</td>\n",
              "    </tr>\n",
              "  </tbody>\n",
              "</table>\n",
              "</div>"
            ],
            "text/plain": [
              "      label                                               text     0     1\n",
              "0  negative  My male cousin stopped talking to me all of su...  10.0  18.0\n",
              "1  negative  Drifting away from my best friend\\nMy best fri...  28.0  11.0"
            ]
          },
          "metadata": {
            "tags": []
          },
          "execution_count": 173
        }
      ]
    },
    {
      "cell_type": "code",
      "metadata": {
        "id": "0W8OY5YHxe2l"
      },
      "source": [
        "columns = ['label', 'text', 'afinn_positive', 'afinn_negative']\n",
        "df_mixed=encode_data(df_mixed, columns, encodedict={'positive': 1, 'negative': 0})\n"
      ],
      "execution_count": 174,
      "outputs": []
    },
    {
      "cell_type": "code",
      "metadata": {
        "id": "-OMMofzwxkEw"
      },
      "source": [
        "X = df_mixed.iloc[:, 2:]\n",
        "y = df_mixed.iloc[:, 0]\n",
        "X_train, X_test, y_train, y_test = split(X, y)\n",
        "X_train, X_test = normalize(StandardScaler(), X_train, X_test)\n",
        "#print(y_test[:10])"
      ],
      "execution_count": 175,
      "outputs": []
    },
    {
      "cell_type": "code",
      "metadata": {
        "colab": {
          "base_uri": "https://localhost:8080/"
        },
        "id": "EVpI_dszxqHH",
        "outputId": "85d32677-4914-490a-d5dc-051e0273fba2"
      },
      "source": [
        "#Cross validation\n",
        "Logistic = LogisticRegression(random_state=0, solver='lbfgs')\n",
        "Logistic.fit(X_train, y_train)\n",
        "scores = cross_val_score(\n",
        "    Logistic, \n",
        "    X_train, \n",
        "    y_train, \n",
        "    cv=10)\n",
        "print(\"Cross validated accuracy: \", \n",
        "      np.average(scores))\n",
        "print(\"Logistic accuracy on training data: \", \n",
        "      Logistic.score(X_train, y_train))\n",
        "print(\"Logistic accuracy on testing data: \", \n",
        "      Logistic.score(X_test, y_test))\n"
      ],
      "execution_count": 176,
      "outputs": [
        {
          "output_type": "stream",
          "text": [
            "Cross validated accuracy:  0.621164021164021\n",
            "Logistic accuracy on training data:  0.6222104144527099\n",
            "Logistic accuracy on testing data:  0.6023706896551724\n"
          ],
          "name": "stdout"
        }
      ]
    },
    {
      "cell_type": "code",
      "metadata": {
        "colab": {
          "base_uri": "https://localhost:8080/"
        },
        "id": "fLcOB-dcxwGK",
        "outputId": "e1cf971d-5c35-4614-8671-26d45c9768de"
      },
      "source": [
        "y_pred = Logistic.predict(X_test)\n",
        "print(\"Accuracy with test data:\", Logistic.score(X_test, y_test))\n",
        "\n",
        "y_pred_proba = Logistic.predict_proba(X_test)\n",
        "print(\"Logloss with test data:\", loss_logloss(y_pred_proba, y_test, weighted=True))\n"
      ],
      "execution_count": 177,
      "outputs": [
        {
          "output_type": "stream",
          "text": [
            "Accuracy with test data: 0.6023706896551724\n",
            "Logloss with test data: 0.6710161332951713\n"
          ],
          "name": "stdout"
        }
      ]
    },
    {
      "cell_type": "code",
      "metadata": {
        "colab": {
          "base_uri": "https://localhost:8080/"
        },
        "id": "2WwZ8Kejx2XT",
        "outputId": "c0ae1be5-92bc-484c-bd55-59bdb5a28b14"
      },
      "source": [
        "print(metrics.classification_report(y_test, y_pred))"
      ],
      "execution_count": 178,
      "outputs": [
        {
          "output_type": "stream",
          "text": [
            "              precision    recall  f1-score   support\n",
            "\n",
            "           0       0.58      0.80      0.67       474\n",
            "           1       0.65      0.40      0.50       454\n",
            "\n",
            "    accuracy                           0.60       928\n",
            "   macro avg       0.62      0.60      0.58       928\n",
            "weighted avg       0.62      0.60      0.59       928\n",
            "\n"
          ],
          "name": "stdout"
        }
      ]
    },
    {
      "cell_type": "markdown",
      "metadata": {
        "id": "yKSMKzeSwfi8"
      },
      "source": [
        "##2.f Lexicon in use is ncr"
      ]
    },
    {
      "cell_type": "code",
      "metadata": {
        "colab": {
          "base_uri": "https://localhost:8080/",
          "height": 138
        },
        "id": "8UghwHB8xHJa",
        "outputId": "e87f2abd-e76a-4473-fb40-cbe54038156e"
      },
      "source": [
        "Mixed_nrc= pd.read_csv(Path('/content/drive/My Drive/DSP/data/bachelor/Mixed_nrc.csv'))\n",
        "Mixed_nrc.head(3)"
      ],
      "execution_count": 179,
      "outputs": [
        {
          "output_type": "execute_result",
          "data": {
            "text/html": [
              "<div>\n",
              "<style scoped>\n",
              "    .dataframe tbody tr th:only-of-type {\n",
              "        vertical-align: middle;\n",
              "    }\n",
              "\n",
              "    .dataframe tbody tr th {\n",
              "        vertical-align: top;\n",
              "    }\n",
              "\n",
              "    .dataframe thead th {\n",
              "        text-align: right;\n",
              "    }\n",
              "</style>\n",
              "<table border=\"1\" class=\"dataframe\">\n",
              "  <thead>\n",
              "    <tr style=\"text-align: right;\">\n",
              "      <th></th>\n",
              "      <th>0</th>\n",
              "      <th>1</th>\n",
              "    </tr>\n",
              "  </thead>\n",
              "  <tbody>\n",
              "    <tr>\n",
              "      <th>0</th>\n",
              "      <td>13.0</td>\n",
              "      <td>9.0</td>\n",
              "    </tr>\n",
              "    <tr>\n",
              "      <th>1</th>\n",
              "      <td>17.0</td>\n",
              "      <td>7.0</td>\n",
              "    </tr>\n",
              "    <tr>\n",
              "      <th>2</th>\n",
              "      <td>14.0</td>\n",
              "      <td>4.0</td>\n",
              "    </tr>\n",
              "  </tbody>\n",
              "</table>\n",
              "</div>"
            ],
            "text/plain": [
              "      0    1\n",
              "0  13.0  9.0\n",
              "1  17.0  7.0\n",
              "2  14.0  4.0"
            ]
          },
          "metadata": {
            "tags": []
          },
          "execution_count": 179
        }
      ]
    },
    {
      "cell_type": "code",
      "metadata": {
        "colab": {
          "base_uri": "https://localhost:8080/",
          "height": 108
        },
        "id": "npgqGxpjxOR6",
        "outputId": "e40aaa18-5b78-474f-f5ca-17b843cef132"
      },
      "source": [
        "Mixed= pd.read_csv(Path('/content/drive/My Drive/DSP/data/bachelor/Mixed.csv'))\n",
        "Mixed.head(2)"
      ],
      "execution_count": 180,
      "outputs": [
        {
          "output_type": "execute_result",
          "data": {
            "text/html": [
              "<div>\n",
              "<style scoped>\n",
              "    .dataframe tbody tr th:only-of-type {\n",
              "        vertical-align: middle;\n",
              "    }\n",
              "\n",
              "    .dataframe tbody tr th {\n",
              "        vertical-align: top;\n",
              "    }\n",
              "\n",
              "    .dataframe thead th {\n",
              "        text-align: right;\n",
              "    }\n",
              "</style>\n",
              "<table border=\"1\" class=\"dataframe\">\n",
              "  <thead>\n",
              "    <tr style=\"text-align: right;\">\n",
              "      <th></th>\n",
              "      <th>label</th>\n",
              "      <th>text</th>\n",
              "    </tr>\n",
              "  </thead>\n",
              "  <tbody>\n",
              "    <tr>\n",
              "      <th>0</th>\n",
              "      <td>negative</td>\n",
              "      <td>My male cousin stopped talking to me all of su...</td>\n",
              "    </tr>\n",
              "    <tr>\n",
              "      <th>1</th>\n",
              "      <td>negative</td>\n",
              "      <td>Drifting away from my best friend\\nMy best fri...</td>\n",
              "    </tr>\n",
              "  </tbody>\n",
              "</table>\n",
              "</div>"
            ],
            "text/plain": [
              "      label                                               text\n",
              "0  negative  My male cousin stopped talking to me all of su...\n",
              "1  negative  Drifting away from my best friend\\nMy best fri..."
            ]
          },
          "metadata": {
            "tags": []
          },
          "execution_count": 180
        }
      ]
    },
    {
      "cell_type": "code",
      "metadata": {
        "colab": {
          "base_uri": "https://localhost:8080/",
          "height": 108
        },
        "id": "s16HDfopxT32",
        "outputId": "1fd3fb68-5b18-4d68-ab7e-075868038479"
      },
      "source": [
        "df_mixed = pd.concat([Mixed,Mixed_nrc], axis=1)\n",
        "df_mixed.head(2)"
      ],
      "execution_count": 181,
      "outputs": [
        {
          "output_type": "execute_result",
          "data": {
            "text/html": [
              "<div>\n",
              "<style scoped>\n",
              "    .dataframe tbody tr th:only-of-type {\n",
              "        vertical-align: middle;\n",
              "    }\n",
              "\n",
              "    .dataframe tbody tr th {\n",
              "        vertical-align: top;\n",
              "    }\n",
              "\n",
              "    .dataframe thead th {\n",
              "        text-align: right;\n",
              "    }\n",
              "</style>\n",
              "<table border=\"1\" class=\"dataframe\">\n",
              "  <thead>\n",
              "    <tr style=\"text-align: right;\">\n",
              "      <th></th>\n",
              "      <th>label</th>\n",
              "      <th>text</th>\n",
              "      <th>0</th>\n",
              "      <th>1</th>\n",
              "    </tr>\n",
              "  </thead>\n",
              "  <tbody>\n",
              "    <tr>\n",
              "      <th>0</th>\n",
              "      <td>negative</td>\n",
              "      <td>My male cousin stopped talking to me all of su...</td>\n",
              "      <td>13.0</td>\n",
              "      <td>9.0</td>\n",
              "    </tr>\n",
              "    <tr>\n",
              "      <th>1</th>\n",
              "      <td>negative</td>\n",
              "      <td>Drifting away from my best friend\\nMy best fri...</td>\n",
              "      <td>17.0</td>\n",
              "      <td>7.0</td>\n",
              "    </tr>\n",
              "  </tbody>\n",
              "</table>\n",
              "</div>"
            ],
            "text/plain": [
              "      label                                               text     0    1\n",
              "0  negative  My male cousin stopped talking to me all of su...  13.0  9.0\n",
              "1  negative  Drifting away from my best friend\\nMy best fri...  17.0  7.0"
            ]
          },
          "metadata": {
            "tags": []
          },
          "execution_count": 181
        }
      ]
    },
    {
      "cell_type": "code",
      "metadata": {
        "id": "va2LVN35xfXa"
      },
      "source": [
        "columns = ['label', 'text', 'nrc_positive', 'nrc_negative']\n",
        "df_mixed=encode_data(df_mixed, columns, encodedict={'positive': 1, 'negative': 0})\n"
      ],
      "execution_count": 182,
      "outputs": []
    },
    {
      "cell_type": "code",
      "metadata": {
        "id": "1XrEpMxwxkwJ"
      },
      "source": [
        "X = df_mixed.iloc[:, 2:]\n",
        "y = df_mixed.iloc[:, 0]\n",
        "X_train, X_test, y_train, y_test = split(X, y)\n",
        "X_train, X_test = normalize(StandardScaler(), X_train, X_test)\n",
        "#print(y_test[:10])"
      ],
      "execution_count": 183,
      "outputs": []
    },
    {
      "cell_type": "code",
      "metadata": {
        "colab": {
          "base_uri": "https://localhost:8080/"
        },
        "id": "mo7ONSDyxqux",
        "outputId": "269358bc-5942-4991-a146-fc7a2478688d"
      },
      "source": [
        "#Cross validation\n",
        "Logistic = LogisticRegression(random_state=0, solver='lbfgs')\n",
        "Logistic.fit(X_train, y_train)\n",
        "scores = cross_val_score(\n",
        "    Logistic, \n",
        "    X_train, \n",
        "    y_train, \n",
        "    cv=10)\n",
        "print(\"Cross validated accuracy: \", \n",
        "      np.average(scores))\n",
        "print(\"Logistic accuracy on training data: \", \n",
        "      Logistic.score(X_train, y_train))\n",
        "print(\"Logistic accuracy on testing data: \", \n",
        "      Logistic.score(X_test, y_test))\n"
      ],
      "execution_count": 184,
      "outputs": [
        {
          "output_type": "stream",
          "text": [
            "Cross validated accuracy:  0.6301756163458292\n",
            "Logistic accuracy on training data:  0.6312433581296493\n",
            "Logistic accuracy on testing data:  0.6368534482758621\n"
          ],
          "name": "stdout"
        }
      ]
    },
    {
      "cell_type": "code",
      "metadata": {
        "colab": {
          "base_uri": "https://localhost:8080/"
        },
        "id": "piPZ528txw8a",
        "outputId": "dd1c48e3-cda2-4e1d-9ab8-c3a63e913968"
      },
      "source": [
        "y_pred = Logistic.predict(X_test)\n",
        "print(\"Accuracy with test data:\", Logistic.score(X_test, y_test))\n",
        "\n",
        "y_pred_proba = Logistic.predict_proba(X_test)\n",
        "print(\"Logloss with test data:\", loss_logloss(y_pred_proba, y_test, weighted=True))\n"
      ],
      "execution_count": 185,
      "outputs": [
        {
          "output_type": "stream",
          "text": [
            "Accuracy with test data: 0.6368534482758621\n",
            "Logloss with test data: 0.6544889690657343\n"
          ],
          "name": "stdout"
        }
      ]
    },
    {
      "cell_type": "code",
      "metadata": {
        "colab": {
          "base_uri": "https://localhost:8080/"
        },
        "id": "lBEefzL8x287",
        "outputId": "2ccc96ba-bc9a-40d1-a305-ec5db7765784"
      },
      "source": [
        "print(metrics.classification_report(y_test, y_pred))"
      ],
      "execution_count": 186,
      "outputs": [
        {
          "output_type": "stream",
          "text": [
            "              precision    recall  f1-score   support\n",
            "\n",
            "           0       0.61      0.79      0.69       474\n",
            "           1       0.68      0.48      0.56       454\n",
            "\n",
            "    accuracy                           0.64       928\n",
            "   macro avg       0.65      0.63      0.63       928\n",
            "weighted avg       0.65      0.64      0.63       928\n",
            "\n"
          ],
          "name": "stdout"
        }
      ]
    },
    {
      "cell_type": "markdown",
      "metadata": {
        "id": "FL24Y9ASwi2A"
      },
      "source": [
        "##2.g Lexicon in use is mpqr"
      ]
    },
    {
      "cell_type": "code",
      "metadata": {
        "colab": {
          "base_uri": "https://localhost:8080/",
          "height": 138
        },
        "id": "FyV3UvdxxH17",
        "outputId": "0403f252-60f8-453f-b43f-8919dc4365fa"
      },
      "source": [
        "Mixed_mpqa= pd.read_csv(Path('/content/drive/My Drive/DSP/data/bachelor/Mixed_mpqa.csv'))\n",
        "Mixed_mpqa.head(3)"
      ],
      "execution_count": 187,
      "outputs": [
        {
          "output_type": "execute_result",
          "data": {
            "text/html": [
              "<div>\n",
              "<style scoped>\n",
              "    .dataframe tbody tr th:only-of-type {\n",
              "        vertical-align: middle;\n",
              "    }\n",
              "\n",
              "    .dataframe tbody tr th {\n",
              "        vertical-align: top;\n",
              "    }\n",
              "\n",
              "    .dataframe thead th {\n",
              "        text-align: right;\n",
              "    }\n",
              "</style>\n",
              "<table border=\"1\" class=\"dataframe\">\n",
              "  <thead>\n",
              "    <tr style=\"text-align: right;\">\n",
              "      <th></th>\n",
              "      <th>0</th>\n",
              "      <th>1</th>\n",
              "      <th>2</th>\n",
              "    </tr>\n",
              "  </thead>\n",
              "  <tbody>\n",
              "    <tr>\n",
              "      <th>0</th>\n",
              "      <td>11.0</td>\n",
              "      <td>9.0</td>\n",
              "      <td>13.0</td>\n",
              "    </tr>\n",
              "    <tr>\n",
              "      <th>1</th>\n",
              "      <td>21.0</td>\n",
              "      <td>11.0</td>\n",
              "      <td>24.0</td>\n",
              "    </tr>\n",
              "    <tr>\n",
              "      <th>2</th>\n",
              "      <td>13.0</td>\n",
              "      <td>6.0</td>\n",
              "      <td>20.0</td>\n",
              "    </tr>\n",
              "  </tbody>\n",
              "</table>\n",
              "</div>"
            ],
            "text/plain": [
              "      0     1     2\n",
              "0  11.0   9.0  13.0\n",
              "1  21.0  11.0  24.0\n",
              "2  13.0   6.0  20.0"
            ]
          },
          "metadata": {
            "tags": []
          },
          "execution_count": 187
        }
      ]
    },
    {
      "cell_type": "code",
      "metadata": {
        "colab": {
          "base_uri": "https://localhost:8080/",
          "height": 108
        },
        "id": "flJo1NPbxO_S",
        "outputId": "c75a0cb4-cccd-483d-bd1e-8f9766cdfbd9"
      },
      "source": [
        "Mixed= pd.read_csv(Path('/content/drive/My Drive/DSP/data/bachelor/Mixed.csv'))\n",
        "Mixed.head(2)"
      ],
      "execution_count": 188,
      "outputs": [
        {
          "output_type": "execute_result",
          "data": {
            "text/html": [
              "<div>\n",
              "<style scoped>\n",
              "    .dataframe tbody tr th:only-of-type {\n",
              "        vertical-align: middle;\n",
              "    }\n",
              "\n",
              "    .dataframe tbody tr th {\n",
              "        vertical-align: top;\n",
              "    }\n",
              "\n",
              "    .dataframe thead th {\n",
              "        text-align: right;\n",
              "    }\n",
              "</style>\n",
              "<table border=\"1\" class=\"dataframe\">\n",
              "  <thead>\n",
              "    <tr style=\"text-align: right;\">\n",
              "      <th></th>\n",
              "      <th>label</th>\n",
              "      <th>text</th>\n",
              "    </tr>\n",
              "  </thead>\n",
              "  <tbody>\n",
              "    <tr>\n",
              "      <th>0</th>\n",
              "      <td>negative</td>\n",
              "      <td>My male cousin stopped talking to me all of su...</td>\n",
              "    </tr>\n",
              "    <tr>\n",
              "      <th>1</th>\n",
              "      <td>negative</td>\n",
              "      <td>Drifting away from my best friend\\nMy best fri...</td>\n",
              "    </tr>\n",
              "  </tbody>\n",
              "</table>\n",
              "</div>"
            ],
            "text/plain": [
              "      label                                               text\n",
              "0  negative  My male cousin stopped talking to me all of su...\n",
              "1  negative  Drifting away from my best friend\\nMy best fri..."
            ]
          },
          "metadata": {
            "tags": []
          },
          "execution_count": 188
        }
      ]
    },
    {
      "cell_type": "code",
      "metadata": {
        "colab": {
          "base_uri": "https://localhost:8080/",
          "height": 108
        },
        "id": "DihiJKORxUcD",
        "outputId": "a007eb02-05b3-4ce9-9c1c-aaf1cc964ef8"
      },
      "source": [
        "df_mixed = pd.concat([Mixed,Mixed_mpqa], axis=1)\n",
        "df_mixed.head(2)"
      ],
      "execution_count": 189,
      "outputs": [
        {
          "output_type": "execute_result",
          "data": {
            "text/html": [
              "<div>\n",
              "<style scoped>\n",
              "    .dataframe tbody tr th:only-of-type {\n",
              "        vertical-align: middle;\n",
              "    }\n",
              "\n",
              "    .dataframe tbody tr th {\n",
              "        vertical-align: top;\n",
              "    }\n",
              "\n",
              "    .dataframe thead th {\n",
              "        text-align: right;\n",
              "    }\n",
              "</style>\n",
              "<table border=\"1\" class=\"dataframe\">\n",
              "  <thead>\n",
              "    <tr style=\"text-align: right;\">\n",
              "      <th></th>\n",
              "      <th>label</th>\n",
              "      <th>text</th>\n",
              "      <th>0</th>\n",
              "      <th>1</th>\n",
              "      <th>2</th>\n",
              "    </tr>\n",
              "  </thead>\n",
              "  <tbody>\n",
              "    <tr>\n",
              "      <th>0</th>\n",
              "      <td>negative</td>\n",
              "      <td>My male cousin stopped talking to me all of su...</td>\n",
              "      <td>11.0</td>\n",
              "      <td>9.0</td>\n",
              "      <td>13.0</td>\n",
              "    </tr>\n",
              "    <tr>\n",
              "      <th>1</th>\n",
              "      <td>negative</td>\n",
              "      <td>Drifting away from my best friend\\nMy best fri...</td>\n",
              "      <td>21.0</td>\n",
              "      <td>11.0</td>\n",
              "      <td>24.0</td>\n",
              "    </tr>\n",
              "  </tbody>\n",
              "</table>\n",
              "</div>"
            ],
            "text/plain": [
              "      label                                               text  ...     1     2\n",
              "0  negative  My male cousin stopped talking to me all of su...  ...   9.0  13.0\n",
              "1  negative  Drifting away from my best friend\\nMy best fri...  ...  11.0  24.0\n",
              "\n",
              "[2 rows x 5 columns]"
            ]
          },
          "metadata": {
            "tags": []
          },
          "execution_count": 189
        }
      ]
    },
    {
      "cell_type": "code",
      "metadata": {
        "id": "EtkyKi_Hxf8E"
      },
      "source": [
        "columns = ['label', 'text', 'mpqa_positive', 'mpqa_negative', 'mpqa_strong_subjectivty']\n",
        "df_mixed=encode_data(df_mixed, columns, encodedict={'positive': 1, 'negative': 0})\n"
      ],
      "execution_count": 190,
      "outputs": []
    },
    {
      "cell_type": "code",
      "metadata": {
        "id": "Ja0a-sDUxlSp"
      },
      "source": [
        "X = df_mixed.iloc[:, 2:]\n",
        "y = df_mixed.iloc[:, 0]\n",
        "X_train, X_test, y_train, y_test = split(X, y)\n",
        "X_train, X_test = normalize(StandardScaler(), X_train, X_test)\n",
        "#print(y_test[:10])"
      ],
      "execution_count": 191,
      "outputs": []
    },
    {
      "cell_type": "code",
      "metadata": {
        "colab": {
          "base_uri": "https://localhost:8080/"
        },
        "id": "P4WfSKLtxreQ",
        "outputId": "d4d10acf-2b32-4524-f1a3-3e9056c0d996"
      },
      "source": [
        "#Cross validation\n",
        "Logistic = LogisticRegression(random_state=0, solver='lbfgs')\n",
        "Logistic.fit(X_train, y_train)\n",
        "scores = cross_val_score(\n",
        "    Logistic, \n",
        "    X_train, \n",
        "    y_train, \n",
        "    cv=10)\n",
        "print(\"Cross validated accuracy: \", \n",
        "      np.average(scores))\n",
        "print(\"Logistic accuracy on training data: \", \n",
        "      Logistic.score(X_train, y_train))\n",
        "print(\"Logistic accuracy on testing data: \", \n",
        "      Logistic.score(X_test, y_test))\n"
      ],
      "execution_count": 192,
      "outputs": [
        {
          "output_type": "stream",
          "text": [
            "Cross validated accuracy:  0.6020347855454238\n",
            "Logistic accuracy on training data:  0.6046758767268863\n",
            "Logistic accuracy on testing data:  0.6045258620689655\n"
          ],
          "name": "stdout"
        }
      ]
    },
    {
      "cell_type": "code",
      "metadata": {
        "colab": {
          "base_uri": "https://localhost:8080/"
        },
        "id": "6X9e-Fp9xxuM",
        "outputId": "b9e0928a-7839-4813-d94a-ddfd2ae9f4a3"
      },
      "source": [
        "y_pred = Logistic.predict(X_test)\n",
        "print(\"Accuracy with test data:\", Logistic.score(X_test, y_test))\n",
        "\n",
        "y_pred_proba = Logistic.predict_proba(X_test)\n",
        "print(\"Logloss with test data:\", loss_logloss(y_pred_proba, y_test, weighted=True))\n"
      ],
      "execution_count": 193,
      "outputs": [
        {
          "output_type": "stream",
          "text": [
            "Accuracy with test data: 0.6045258620689655\n",
            "Logloss with test data: 0.6702624797540327\n"
          ],
          "name": "stdout"
        }
      ]
    },
    {
      "cell_type": "code",
      "metadata": {
        "colab": {
          "base_uri": "https://localhost:8080/"
        },
        "id": "i2Yzz1xHx3kI",
        "outputId": "dc7555c5-7c65-413b-bcc0-366c7bccaf15"
      },
      "source": [
        "print(metrics.classification_report(y_test, y_pred))"
      ],
      "execution_count": 194,
      "outputs": [
        {
          "output_type": "stream",
          "text": [
            "              precision    recall  f1-score   support\n",
            "\n",
            "           0       0.58      0.80      0.67       474\n",
            "           1       0.66      0.40      0.50       454\n",
            "\n",
            "    accuracy                           0.60       928\n",
            "   macro avg       0.62      0.60      0.59       928\n",
            "weighted avg       0.62      0.60      0.59       928\n",
            "\n"
          ],
          "name": "stdout"
        }
      ]
    },
    {
      "cell_type": "markdown",
      "metadata": {
        "id": "B6FrDUTwwlTi"
      },
      "source": [
        "##2.h Lexicon in use is ncr_sa"
      ]
    },
    {
      "cell_type": "code",
      "metadata": {
        "colab": {
          "base_uri": "https://localhost:8080/",
          "height": 138
        },
        "id": "mHh-tEUAxIp3",
        "outputId": "d377edb2-4cf4-4c7e-c048-2cf492fe1964"
      },
      "source": [
        "Mixed_nrc_sa= pd.read_csv(Path('/content/drive/My Drive/DSP/data/bachelor/Mixed_nrc_sa.csv'))\n",
        "Mixed_nrc_sa.head(3)"
      ],
      "execution_count": 195,
      "outputs": [
        {
          "output_type": "execute_result",
          "data": {
            "text/html": [
              "<div>\n",
              "<style scoped>\n",
              "    .dataframe tbody tr th:only-of-type {\n",
              "        vertical-align: middle;\n",
              "    }\n",
              "\n",
              "    .dataframe tbody tr th {\n",
              "        vertical-align: top;\n",
              "    }\n",
              "\n",
              "    .dataframe thead th {\n",
              "        text-align: right;\n",
              "    }\n",
              "</style>\n",
              "<table border=\"1\" class=\"dataframe\">\n",
              "  <thead>\n",
              "    <tr style=\"text-align: right;\">\n",
              "      <th></th>\n",
              "      <th>0</th>\n",
              "      <th>1</th>\n",
              "      <th>2</th>\n",
              "      <th>3</th>\n",
              "      <th>4</th>\n",
              "      <th>5</th>\n",
              "      <th>6</th>\n",
              "      <th>7</th>\n",
              "    </tr>\n",
              "  </thead>\n",
              "  <tbody>\n",
              "    <tr>\n",
              "      <th>0</th>\n",
              "      <td>2.0</td>\n",
              "      <td>8.0</td>\n",
              "      <td>3.0</td>\n",
              "      <td>5.0</td>\n",
              "      <td>8.0</td>\n",
              "      <td>7.0</td>\n",
              "      <td>4.0</td>\n",
              "      <td>7.0</td>\n",
              "    </tr>\n",
              "    <tr>\n",
              "      <th>1</th>\n",
              "      <td>3.0</td>\n",
              "      <td>9.0</td>\n",
              "      <td>3.0</td>\n",
              "      <td>3.0</td>\n",
              "      <td>10.0</td>\n",
              "      <td>3.0</td>\n",
              "      <td>3.0</td>\n",
              "      <td>12.0</td>\n",
              "    </tr>\n",
              "    <tr>\n",
              "      <th>2</th>\n",
              "      <td>0.0</td>\n",
              "      <td>3.0</td>\n",
              "      <td>0.0</td>\n",
              "      <td>1.0</td>\n",
              "      <td>12.0</td>\n",
              "      <td>0.0</td>\n",
              "      <td>0.0</td>\n",
              "      <td>1.0</td>\n",
              "    </tr>\n",
              "  </tbody>\n",
              "</table>\n",
              "</div>"
            ],
            "text/plain": [
              "     0    1    2    3     4    5    6     7\n",
              "0  2.0  8.0  3.0  5.0   8.0  7.0  4.0   7.0\n",
              "1  3.0  9.0  3.0  3.0  10.0  3.0  3.0  12.0\n",
              "2  0.0  3.0  0.0  1.0  12.0  0.0  0.0   1.0"
            ]
          },
          "metadata": {
            "tags": []
          },
          "execution_count": 195
        }
      ]
    },
    {
      "cell_type": "code",
      "metadata": {
        "colab": {
          "base_uri": "https://localhost:8080/",
          "height": 108
        },
        "id": "CQyP_XMCxPof",
        "outputId": "2851e4de-d7ac-4a67-f18d-41bb38dd7f4e"
      },
      "source": [
        "Mixed= pd.read_csv(Path('/content/drive/My Drive/DSP/data/bachelor/Mixed.csv'))\n",
        "Mixed.head(2)"
      ],
      "execution_count": 196,
      "outputs": [
        {
          "output_type": "execute_result",
          "data": {
            "text/html": [
              "<div>\n",
              "<style scoped>\n",
              "    .dataframe tbody tr th:only-of-type {\n",
              "        vertical-align: middle;\n",
              "    }\n",
              "\n",
              "    .dataframe tbody tr th {\n",
              "        vertical-align: top;\n",
              "    }\n",
              "\n",
              "    .dataframe thead th {\n",
              "        text-align: right;\n",
              "    }\n",
              "</style>\n",
              "<table border=\"1\" class=\"dataframe\">\n",
              "  <thead>\n",
              "    <tr style=\"text-align: right;\">\n",
              "      <th></th>\n",
              "      <th>label</th>\n",
              "      <th>text</th>\n",
              "    </tr>\n",
              "  </thead>\n",
              "  <tbody>\n",
              "    <tr>\n",
              "      <th>0</th>\n",
              "      <td>negative</td>\n",
              "      <td>My male cousin stopped talking to me all of su...</td>\n",
              "    </tr>\n",
              "    <tr>\n",
              "      <th>1</th>\n",
              "      <td>negative</td>\n",
              "      <td>Drifting away from my best friend\\nMy best fri...</td>\n",
              "    </tr>\n",
              "  </tbody>\n",
              "</table>\n",
              "</div>"
            ],
            "text/plain": [
              "      label                                               text\n",
              "0  negative  My male cousin stopped talking to me all of su...\n",
              "1  negative  Drifting away from my best friend\\nMy best fri..."
            ]
          },
          "metadata": {
            "tags": []
          },
          "execution_count": 196
        }
      ]
    },
    {
      "cell_type": "code",
      "metadata": {
        "colab": {
          "base_uri": "https://localhost:8080/",
          "height": 108
        },
        "id": "s9JhZgmIxU8u",
        "outputId": "19e01a78-8f50-4ab4-e21e-a51c9ce1db7e"
      },
      "source": [
        "df_mixed = pd.concat([Mixed,Mixed_nrc_sa], axis=1)\n",
        "df_mixed.head(2)"
      ],
      "execution_count": 198,
      "outputs": [
        {
          "output_type": "execute_result",
          "data": {
            "text/html": [
              "<div>\n",
              "<style scoped>\n",
              "    .dataframe tbody tr th:only-of-type {\n",
              "        vertical-align: middle;\n",
              "    }\n",
              "\n",
              "    .dataframe tbody tr th {\n",
              "        vertical-align: top;\n",
              "    }\n",
              "\n",
              "    .dataframe thead th {\n",
              "        text-align: right;\n",
              "    }\n",
              "</style>\n",
              "<table border=\"1\" class=\"dataframe\">\n",
              "  <thead>\n",
              "    <tr style=\"text-align: right;\">\n",
              "      <th></th>\n",
              "      <th>label</th>\n",
              "      <th>text</th>\n",
              "      <th>0</th>\n",
              "      <th>1</th>\n",
              "      <th>2</th>\n",
              "      <th>3</th>\n",
              "      <th>4</th>\n",
              "      <th>5</th>\n",
              "      <th>6</th>\n",
              "      <th>7</th>\n",
              "    </tr>\n",
              "  </thead>\n",
              "  <tbody>\n",
              "    <tr>\n",
              "      <th>0</th>\n",
              "      <td>negative</td>\n",
              "      <td>My male cousin stopped talking to me all of su...</td>\n",
              "      <td>2.0</td>\n",
              "      <td>8.0</td>\n",
              "      <td>3.0</td>\n",
              "      <td>5.0</td>\n",
              "      <td>8.0</td>\n",
              "      <td>7.0</td>\n",
              "      <td>4.0</td>\n",
              "      <td>7.0</td>\n",
              "    </tr>\n",
              "    <tr>\n",
              "      <th>1</th>\n",
              "      <td>negative</td>\n",
              "      <td>Drifting away from my best friend\\nMy best fri...</td>\n",
              "      <td>3.0</td>\n",
              "      <td>9.0</td>\n",
              "      <td>3.0</td>\n",
              "      <td>3.0</td>\n",
              "      <td>10.0</td>\n",
              "      <td>3.0</td>\n",
              "      <td>3.0</td>\n",
              "      <td>12.0</td>\n",
              "    </tr>\n",
              "  </tbody>\n",
              "</table>\n",
              "</div>"
            ],
            "text/plain": [
              "      label                                               text  ...    6     7\n",
              "0  negative  My male cousin stopped talking to me all of su...  ...  4.0   7.0\n",
              "1  negative  Drifting away from my best friend\\nMy best fri...  ...  3.0  12.0\n",
              "\n",
              "[2 rows x 10 columns]"
            ]
          },
          "metadata": {
            "tags": []
          },
          "execution_count": 198
        }
      ]
    },
    {
      "cell_type": "code",
      "metadata": {
        "id": "vedXP7h5xgf2"
      },
      "source": [
        "columns = ['label', 'text', 'nrc_anger', 'nrc_anticipation', 'nrc_disgust', 'nrc_fear', 'nrc_joy', 'nrc_sadness', 'nrc_surprise', 'nrc_trust']\n",
        "df_mixed=encode_data(df_mixed, columns, encodedict={'positive': 1, 'negative': 0})\n"
      ],
      "execution_count": 199,
      "outputs": []
    },
    {
      "cell_type": "code",
      "metadata": {
        "id": "8tx-FEPQxl0r"
      },
      "source": [
        "X = df_mixed.iloc[:, 2:]\n",
        "y = df_mixed.iloc[:, 0]\n",
        "X_train, X_test, y_train, y_test = split(X, y)\n",
        "X_train, X_test = normalize(StandardScaler(), X_train, X_test)\n",
        "#print(y_test[:10])"
      ],
      "execution_count": 200,
      "outputs": []
    },
    {
      "cell_type": "code",
      "metadata": {
        "colab": {
          "base_uri": "https://localhost:8080/"
        },
        "id": "fK-opg4kxsL9",
        "outputId": "eb4d212a-445f-4b3c-bd81-8b2d47abd4a3"
      },
      "source": [
        "#Cross validation\n",
        "Logistic = LogisticRegression(random_state=0, solver='lbfgs')\n",
        "Logistic.fit(X_train, y_train)\n",
        "scores = cross_val_score(\n",
        "    Logistic, \n",
        "    X_train, \n",
        "    y_train, \n",
        "    cv=10)\n",
        "print(\"Cross validated accuracy: \", \n",
        "      np.average(scores))\n",
        "print(\"Logistic accuracy on training data: \", \n",
        "      Logistic.score(X_train, y_train))\n",
        "print(\"Logistic accuracy on testing data: \", \n",
        "      Logistic.score(X_test, y_test))\n"
      ],
      "execution_count": 201,
      "outputs": [
        {
          "output_type": "stream",
          "text": [
            "Cross validated accuracy:  0.6891872115276371\n",
            "Logistic accuracy on training data:  0.6923485653560042\n",
            "Logistic accuracy on testing data:  0.7101293103448276\n"
          ],
          "name": "stdout"
        }
      ]
    },
    {
      "cell_type": "code",
      "metadata": {
        "colab": {
          "base_uri": "https://localhost:8080/"
        },
        "id": "s-WPOZPlxyn1",
        "outputId": "4280e375-88cc-4781-f135-f4aa364fc982"
      },
      "source": [
        "y_pred = Logistic.predict(X_test)\n",
        "print(\"Accuracy with test data:\", Logistic.score(X_test, y_test))\n",
        "\n",
        "y_pred_proba = Logistic.predict_proba(X_test)\n",
        "print(\"Logloss with test data:\", loss_logloss(y_pred_proba, y_test, weighted=True))\n"
      ],
      "execution_count": 202,
      "outputs": [
        {
          "output_type": "stream",
          "text": [
            "Accuracy with test data: 0.7101293103448276\n",
            "Logloss with test data: 0.596962109581146\n"
          ],
          "name": "stdout"
        }
      ]
    },
    {
      "cell_type": "code",
      "metadata": {
        "colab": {
          "base_uri": "https://localhost:8080/"
        },
        "id": "8nQd0tcrx4UA",
        "outputId": "838796bc-f6b8-401e-ab74-b78249a57be2"
      },
      "source": [
        "print(metrics.classification_report(y_test, y_pred))"
      ],
      "execution_count": 203,
      "outputs": [
        {
          "output_type": "stream",
          "text": [
            "              precision    recall  f1-score   support\n",
            "\n",
            "           0       0.68      0.82      0.74       474\n",
            "           1       0.76      0.59      0.67       454\n",
            "\n",
            "    accuracy                           0.71       928\n",
            "   macro avg       0.72      0.71      0.71       928\n",
            "weighted avg       0.72      0.71      0.71       928\n",
            "\n"
          ],
          "name": "stdout"
        }
      ]
    },
    {
      "cell_type": "markdown",
      "metadata": {
        "id": "D4P1X3dnkWIX"
      },
      "source": [
        "# 3. Part Third: CLPsych Dataset"
      ]
    },
    {
      "cell_type": "markdown",
      "metadata": {
        "id": "PmdymeQcLofD"
      },
      "source": [
        "##3.a Lexicon in use is afinn_nrc_nrc_sa_mpqa_train"
      ]
    },
    {
      "cell_type": "code",
      "metadata": {
        "id": "xH9eWPSTznn2"
      },
      "source": [
        "df_clpsych_train= pd.read_csv(Path('/content/drive/My Drive/DSP/data/bachelor/CLPsych_train_binary.csv'))"
      ],
      "execution_count": 207,
      "outputs": []
    },
    {
      "cell_type": "code",
      "metadata": {
        "id": "W95Oa3lTzp_u"
      },
      "source": [
        "df_clpsych_test= pd.read_csv(Path('/content/drive/My Drive/DSP/data/bachelor/CLPsych_test_binary.csv'))"
      ],
      "execution_count": 208,
      "outputs": []
    },
    {
      "cell_type": "code",
      "metadata": {
        "id": "Q4pj57gBArXW"
      },
      "source": [
        "#train\n",
        "clpsych_all_four_lexicons_train= pd.read_csv(Path('/content/drive/My Drive/DSP/data/bachelor/clpsych_afinn_nrc_nrc_sa_mpqa_train.csv'))"
      ],
      "execution_count": 209,
      "outputs": []
    },
    {
      "cell_type": "code",
      "metadata": {
        "id": "FuGHHjW80egA"
      },
      "source": [
        "#test\n",
        "clpsych_all_four_lexicons_test= pd.read_csv(Path('/content/drive/My Drive/DSP/data/bachelor/clpsych_afinn_nrc_nrc_sa_mpqa_test.csv'))"
      ],
      "execution_count": 210,
      "outputs": []
    },
    {
      "cell_type": "code",
      "metadata": {
        "colab": {
          "base_uri": "https://localhost:8080/",
          "height": 108
        },
        "id": "s1tbKkKQ06bf",
        "outputId": "fdcbd6d5-2286-499c-fe05-41ab980a640c"
      },
      "source": [
        "train_clpsych= pd.concat([df_clpsych_train, clpsych_all_four_lexicons_train], axis=1)\n",
        "train_clpsych.head(2)"
      ],
      "execution_count": 211,
      "outputs": [
        {
          "output_type": "execute_result",
          "data": {
            "text/html": [
              "<div>\n",
              "<style scoped>\n",
              "    .dataframe tbody tr th:only-of-type {\n",
              "        vertical-align: middle;\n",
              "    }\n",
              "\n",
              "    .dataframe tbody tr th {\n",
              "        vertical-align: top;\n",
              "    }\n",
              "\n",
              "    .dataframe thead th {\n",
              "        text-align: right;\n",
              "    }\n",
              "</style>\n",
              "<table border=\"1\" class=\"dataframe\">\n",
              "  <thead>\n",
              "    <tr style=\"text-align: right;\">\n",
              "      <th></th>\n",
              "      <th>label</th>\n",
              "      <th>text</th>\n",
              "      <th>0</th>\n",
              "      <th>1</th>\n",
              "      <th>2</th>\n",
              "      <th>3</th>\n",
              "      <th>4</th>\n",
              "      <th>5</th>\n",
              "      <th>6</th>\n",
              "      <th>7</th>\n",
              "      <th>8</th>\n",
              "      <th>9</th>\n",
              "      <th>10</th>\n",
              "      <th>11</th>\n",
              "      <th>12</th>\n",
              "      <th>13</th>\n",
              "      <th>14</th>\n",
              "    </tr>\n",
              "  </thead>\n",
              "  <tbody>\n",
              "    <tr>\n",
              "      <th>0</th>\n",
              "      <td>depression_ctrl</td>\n",
              "      <td>Game over RT : Life is so unpredictable. Be gr...</td>\n",
              "      <td>3156.0</td>\n",
              "      <td>2594.0</td>\n",
              "      <td>1670.0</td>\n",
              "      <td>1048.0</td>\n",
              "      <td>517.0</td>\n",
              "      <td>872.0</td>\n",
              "      <td>454.0</td>\n",
              "      <td>589.0</td>\n",
              "      <td>880.0</td>\n",
              "      <td>524.0</td>\n",
              "      <td>353.0</td>\n",
              "      <td>1170.0</td>\n",
              "      <td>2011.0</td>\n",
              "      <td>1148.0</td>\n",
              "      <td>1860.0</td>\n",
              "    </tr>\n",
              "    <tr>\n",
              "      <th>1</th>\n",
              "      <td>depression</td>\n",
              "      <td>Happy ! Guys: please check your balls monthly ...</td>\n",
              "      <td>5843.0</td>\n",
              "      <td>4220.0</td>\n",
              "      <td>3241.0</td>\n",
              "      <td>2227.0</td>\n",
              "      <td>1271.0</td>\n",
              "      <td>1401.0</td>\n",
              "      <td>797.0</td>\n",
              "      <td>1536.0</td>\n",
              "      <td>1666.0</td>\n",
              "      <td>1361.0</td>\n",
              "      <td>657.0</td>\n",
              "      <td>1862.0</td>\n",
              "      <td>3691.0</td>\n",
              "      <td>2452.0</td>\n",
              "      <td>4015.0</td>\n",
              "    </tr>\n",
              "  </tbody>\n",
              "</table>\n",
              "</div>"
            ],
            "text/plain": [
              "             label  ...      14\n",
              "0  depression_ctrl  ...  1860.0\n",
              "1       depression  ...  4015.0\n",
              "\n",
              "[2 rows x 17 columns]"
            ]
          },
          "metadata": {
            "tags": []
          },
          "execution_count": 211
        }
      ]
    },
    {
      "cell_type": "code",
      "metadata": {
        "id": "_SKvbrv107bl"
      },
      "source": [
        "test_clpsych= pd.concat([df_clpsych_test, clpsych_all_four_lexicons_test], axis=1)\n",
        "#test_clpsych.head(2)"
      ],
      "execution_count": 212,
      "outputs": []
    },
    {
      "cell_type": "code",
      "metadata": {
        "colab": {
          "base_uri": "https://localhost:8080/"
        },
        "id": "32ZXxXfW17ST",
        "outputId": "949104c6-4302-4cba-ec5d-1e7a3a66fa76"
      },
      "source": [
        "train_clpsych.shape[0]"
      ],
      "execution_count": 213,
      "outputs": [
        {
          "output_type": "execute_result",
          "data": {
            "text/plain": [
              "654"
            ]
          },
          "metadata": {
            "tags": []
          },
          "execution_count": 213
        }
      ]
    },
    {
      "cell_type": "code",
      "metadata": {
        "colab": {
          "base_uri": "https://localhost:8080/"
        },
        "id": "dkKWSfe12Dq0",
        "outputId": "6915a995-0396-45c8-82ed-90cdc12d090a"
      },
      "source": [
        "test_clpsych.shape[0]"
      ],
      "execution_count": 214,
      "outputs": [
        {
          "output_type": "execute_result",
          "data": {
            "text/plain": [
              "300"
            ]
          },
          "metadata": {
            "tags": []
          },
          "execution_count": 214
        }
      ]
    },
    {
      "cell_type": "code",
      "metadata": {
        "colab": {
          "base_uri": "https://localhost:8080/",
          "height": 348
        },
        "id": "iqTvXVe22Nsm",
        "outputId": "7772ceb2-a453-4320-b26e-fce8f334c759"
      },
      "source": [
        "columns = ['label', 'text', 'afinn_positive', 'afinn_negative', 'nrc_positive', 'nrc_negative', 'nrc_anger', 'nrc_anticipation', 'nrc_disgust', 'nrc_fear', 'nrc_joy', 'nrc_sadness', 'nrc_surprise', 'nrc_trust', 'mpqa_positive', 'mpqa_negative', 'mpqa_strong_subjectivty']\n",
        "train_clpsych=encode_data(train_clpsych, columns, encodedict={'depression': 1, 'depression_ctrl': 0})\n",
        "print(\"Train set\")\n",
        "plot(train_clpsych, \"CLPsych\") \n"
      ],
      "execution_count": 215,
      "outputs": [
        {
          "output_type": "stream",
          "text": [
            "Train set\n",
            "Dataset: CLPsych \n",
            "\n"
          ],
          "name": "stdout"
        },
        {
          "output_type": "execute_result",
          "data": {
            "text/plain": [
              "<matplotlib.axes._subplots.AxesSubplot at 0x7fab083f6810>"
            ]
          },
          "metadata": {
            "tags": []
          },
          "execution_count": 215
        },
        {
          "output_type": "display_data",
          "data": {
            "image/png": "[encoded data removed]",
            "text/plain": [
              "<Figure size 432x288 with 1 Axes>"
            ]
          },
          "metadata": {
            "tags": [],
            "needs_background": "light"
          }
        }
      ]
    },
    {
      "cell_type": "code",
      "metadata": {
        "colab": {
          "base_uri": "https://localhost:8080/",
          "height": 232
        },
        "id": "LsbEy0CZAC9J",
        "outputId": "a5c0fc9c-6a0b-45d1-ff85-b990cca1e7ff"
      },
      "source": [
        "train_clpsych.head(2)"
      ],
      "execution_count": 217,
      "outputs": [
        {
          "output_type": "execute_result",
          "data": {
            "text/html": [
              "<div>\n",
              "<style scoped>\n",
              "    .dataframe tbody tr th:only-of-type {\n",
              "        vertical-align: middle;\n",
              "    }\n",
              "\n",
              "    .dataframe tbody tr th {\n",
              "        vertical-align: top;\n",
              "    }\n",
              "\n",
              "    .dataframe thead th {\n",
              "        text-align: right;\n",
              "    }\n",
              "</style>\n",
              "<table border=\"1\" class=\"dataframe\">\n",
              "  <thead>\n",
              "    <tr style=\"text-align: right;\">\n",
              "      <th></th>\n",
              "      <th>label</th>\n",
              "      <th>text</th>\n",
              "      <th>afinn_positive</th>\n",
              "      <th>afinn_negative</th>\n",
              "      <th>nrc_positive</th>\n",
              "      <th>nrc_negative</th>\n",
              "      <th>nrc_anger</th>\n",
              "      <th>nrc_anticipation</th>\n",
              "      <th>nrc_disgust</th>\n",
              "      <th>nrc_fear</th>\n",
              "      <th>nrc_joy</th>\n",
              "      <th>nrc_sadness</th>\n",
              "      <th>nrc_surprise</th>\n",
              "      <th>nrc_trust</th>\n",
              "      <th>mpqa_positive</th>\n",
              "      <th>mpqa_negative</th>\n",
              "      <th>mpqa_strong_subjectivty</th>\n",
              "    </tr>\n",
              "  </thead>\n",
              "  <tbody>\n",
              "    <tr>\n",
              "      <th>0</th>\n",
              "      <td>0</td>\n",
              "      <td>Game over RT : Life is so unpredictable. Be gr...</td>\n",
              "      <td>3156.0</td>\n",
              "      <td>2594.0</td>\n",
              "      <td>1670.0</td>\n",
              "      <td>1048.0</td>\n",
              "      <td>517.0</td>\n",
              "      <td>872.0</td>\n",
              "      <td>454.0</td>\n",
              "      <td>589.0</td>\n",
              "      <td>880.0</td>\n",
              "      <td>524.0</td>\n",
              "      <td>353.0</td>\n",
              "      <td>1170.0</td>\n",
              "      <td>2011.0</td>\n",
              "      <td>1148.0</td>\n",
              "      <td>1860.0</td>\n",
              "    </tr>\n",
              "    <tr>\n",
              "      <th>1</th>\n",
              "      <td>1</td>\n",
              "      <td>Happy ! Guys: please check your balls monthly ...</td>\n",
              "      <td>5843.0</td>\n",
              "      <td>4220.0</td>\n",
              "      <td>3241.0</td>\n",
              "      <td>2227.0</td>\n",
              "      <td>1271.0</td>\n",
              "      <td>1401.0</td>\n",
              "      <td>797.0</td>\n",
              "      <td>1536.0</td>\n",
              "      <td>1666.0</td>\n",
              "      <td>1361.0</td>\n",
              "      <td>657.0</td>\n",
              "      <td>1862.0</td>\n",
              "      <td>3691.0</td>\n",
              "      <td>2452.0</td>\n",
              "      <td>4015.0</td>\n",
              "    </tr>\n",
              "  </tbody>\n",
              "</table>\n",
              "</div>"
            ],
            "text/plain": [
              "   label  ... mpqa_strong_subjectivty\n",
              "0      0  ...                  1860.0\n",
              "1      1  ...                  4015.0\n",
              "\n",
              "[2 rows x 17 columns]"
            ]
          },
          "metadata": {
            "tags": []
          },
          "execution_count": 217
        }
      ]
    },
    {
      "cell_type": "code",
      "metadata": {
        "colab": {
          "base_uri": "https://localhost:8080/",
          "height": 348
        },
        "id": "xfOnNIjv2SPd",
        "outputId": "13309a30-a0db-42e0-8aad-8e1b38bd7f25"
      },
      "source": [
        "columns = ['label', 'text', 'afinn_positive', 'afinn_negative', 'nrc_positive', 'nrc_negative', 'nrc_anger', 'nrc_anticipation', 'nrc_disgust', 'nrc_fear', 'nrc_joy', 'nrc_sadness', 'nrc_surprise', 'nrc_trust', 'mpqa_positive', 'mpqa_negative', 'mpqa_strong_subjectivty']\n",
        "test_clpsych=encode_data(test_clpsych, columns, encodedict={'depression': 1, 'depression_ctrl': 0})\n",
        "print(\"Test set\")\n",
        "plot(test_clpsych, \"CLPsych\") \n"
      ],
      "execution_count": 218,
      "outputs": [
        {
          "output_type": "stream",
          "text": [
            "Test set\n",
            "Dataset: CLPsych \n",
            "\n"
          ],
          "name": "stdout"
        },
        {
          "output_type": "execute_result",
          "data": {
            "text/plain": [
              "<matplotlib.axes._subplots.AxesSubplot at 0x7fab0818d710>"
            ]
          },
          "metadata": {
            "tags": []
          },
          "execution_count": 218
        },
        {
          "output_type": "display_data",
          "data": {
            "image/png": "[encoded data removed]",
            "text/plain": [
              "<Figure size 432x288 with 1 Axes>"
            ]
          },
          "metadata": {
            "tags": [],
            "needs_background": "light"
          }
        }
      ]
    },
    {
      "cell_type": "code",
      "metadata": {
        "id": "SIwo1w_s3X4x"
      },
      "source": [
        "X_train = train_clpsych.iloc[:, 2:]\n",
        "y_train = train_clpsych.iloc[:, 0]\n",
        "\n",
        "X_test = test_clpsych.iloc[:, 2:]\n",
        "y_test = test_clpsych.iloc[:, 0]"
      ],
      "execution_count": 219,
      "outputs": []
    },
    {
      "cell_type": "code",
      "metadata": {
        "id": "vD5V5DPq4t1Y"
      },
      "source": [
        "X_train, X_test = normalize(StandardScaler(), X_train, X_test)"
      ],
      "execution_count": 220,
      "outputs": []
    },
    {
      "cell_type": "code",
      "metadata": {
        "colab": {
          "base_uri": "https://localhost:8080/"
        },
        "id": "4xJ12uz042Da",
        "outputId": "56dce1de-748a-47c7-f3aa-f932a52fe651"
      },
      "source": [
        "Logistic = LogisticRegression(random_state=0, solver='lbfgs')\n",
        "Logistic.fit(X_train, y_train)\n",
        "print(\"Accuracy with training data:\", Logistic.score(X_train, y_train))\n",
        "prob_predicted_train = Logistic.predict_proba(X_train)\n",
        "print(\"Logloss with training data:\", loss_logloss(prob_predicted_train, y_train, weighted=True))\n"
      ],
      "execution_count": 221,
      "outputs": [
        {
          "output_type": "stream",
          "text": [
            "Accuracy with training data: 0.6406727828746177\n",
            "Logloss with training data: 0.6312328471826768\n"
          ],
          "name": "stdout"
        }
      ]
    },
    {
      "cell_type": "code",
      "metadata": {
        "colab": {
          "base_uri": "https://localhost:8080/"
        },
        "id": "jKKTjjvh48Oq",
        "outputId": "2821fb85-068b-44ff-c4f0-ea4985b68c1f"
      },
      "source": [
        "y_pred = Logistic.predict(X_test)\n",
        "print(\"Accuracy with test data:\", Logistic.score(X_test, y_test))\n",
        "\n",
        "y_pred_proba = Logistic.predict_proba(X_test)\n",
        "print(\"Logloss with test data:\", loss_logloss(y_pred_proba, y_test, weighted=True))\n"
      ],
      "execution_count": 222,
      "outputs": [
        {
          "output_type": "stream",
          "text": [
            "Accuracy with test data: 0.6433333333333333\n",
            "Logloss with test data: 0.6380047931711335\n"
          ],
          "name": "stdout"
        }
      ]
    },
    {
      "cell_type": "code",
      "metadata": {
        "colab": {
          "base_uri": "https://localhost:8080/"
        },
        "id": "HLkWhYlX5sbp",
        "outputId": "632ba847-1653-4ae0-dfa2-0c37a8fd8fdb"
      },
      "source": [
        "#Cross validation\n",
        "Logistic = LogisticRegression(random_state=0, solver='lbfgs')\n",
        "Logistic.fit(X_train, y_train)\n",
        "scores = cross_val_score(\n",
        "    Logistic, \n",
        "    X_train, \n",
        "    y_train, \n",
        "    cv=10)\n",
        "print(\"Cross validated accuracy: \", \n",
        "      np.average(scores))\n",
        "print(\"Logistic accuracy on training data: \", \n",
        "      Logistic.score(X_train, y_train))\n",
        "print(\"Logistic accuracy on testing data: \", \n",
        "      Logistic.score(X_test, y_test))\n"
      ],
      "execution_count": 223,
      "outputs": [
        {
          "output_type": "stream",
          "text": [
            "Cross validated accuracy:  0.6084848484848484\n",
            "Logistic accuracy on training data:  0.6406727828746177\n",
            "Logistic accuracy on testing data:  0.6433333333333333\n"
          ],
          "name": "stdout"
        }
      ]
    },
    {
      "cell_type": "code",
      "metadata": {
        "colab": {
          "base_uri": "https://localhost:8080/"
        },
        "id": "0RVJplUHjMD4",
        "outputId": "32e02bc6-c90d-483a-e4ec-513d43bf90bb"
      },
      "source": [
        "print(metrics.classification_report(y_test, y_pred))"
      ],
      "execution_count": 224,
      "outputs": [
        {
          "output_type": "stream",
          "text": [
            "              precision    recall  f1-score   support\n",
            "\n",
            "           0       0.64      0.67      0.65       150\n",
            "           1       0.65      0.62      0.63       150\n",
            "\n",
            "    accuracy                           0.64       300\n",
            "   macro avg       0.64      0.64      0.64       300\n",
            "weighted avg       0.64      0.64      0.64       300\n",
            "\n"
          ],
          "name": "stdout"
        }
      ]
    },
    {
      "cell_type": "markdown",
      "metadata": {
        "id": "jnujdktvREOD"
      },
      "source": [
        "##3.b Lexicon in use is Sentic"
      ]
    },
    {
      "cell_type": "code",
      "metadata": {
        "colab": {
          "base_uri": "https://localhost:8080/",
          "height": 108
        },
        "id": "Kp2R2RwnHBsU",
        "outputId": "1dfe449c-2e5e-463e-d1cb-b107b5760201"
      },
      "source": [
        "df_clpsych_train_scentic=get_scentic_features(df_clpsych_train)\r\n",
        "encodedict={'depression': 1, 'depression_ctrl': 0}\r\n",
        "df_clpsych_train_scentic['label'] = df_clpsych_train_scentic['label'].map(encodedict) \r\n",
        "df_clpsych_train_scentic.head(2)"
      ],
      "execution_count": null,
      "outputs": [
        {
          "output_type": "execute_result",
          "data": {
            "text/html": [
              "<div>\n",
              "<style scoped>\n",
              "    .dataframe tbody tr th:only-of-type {\n",
              "        vertical-align: middle;\n",
              "    }\n",
              "\n",
              "    .dataframe tbody tr th {\n",
              "        vertical-align: top;\n",
              "    }\n",
              "\n",
              "    .dataframe thead th {\n",
              "        text-align: right;\n",
              "    }\n",
              "</style>\n",
              "<table border=\"1\" class=\"dataframe\">\n",
              "  <thead>\n",
              "    <tr style=\"text-align: right;\">\n",
              "      <th></th>\n",
              "      <th>label</th>\n",
              "      <th>text</th>\n",
              "      <th>polarity_value</th>\n",
              "      <th>polarity_label</th>\n",
              "      <th>sensitivity</th>\n",
              "      <th>introspection</th>\n",
              "      <th>temper</th>\n",
              "      <th>attitude</th>\n",
              "    </tr>\n",
              "  </thead>\n",
              "  <tbody>\n",
              "    <tr>\n",
              "      <th>0</th>\n",
              "      <td>0</td>\n",
              "      <td>Game over RT : Life is so unpredictable. Be gr...</td>\n",
              "      <td>1280</td>\n",
              "      <td>3481</td>\n",
              "      <td>831</td>\n",
              "      <td>1040</td>\n",
              "      <td>38</td>\n",
              "      <td>209</td>\n",
              "    </tr>\n",
              "    <tr>\n",
              "      <th>1</th>\n",
              "      <td>1</td>\n",
              "      <td>Happy ! Guys: please check your balls monthly ...</td>\n",
              "      <td>2149</td>\n",
              "      <td>6548</td>\n",
              "      <td>1431</td>\n",
              "      <td>1670</td>\n",
              "      <td>44</td>\n",
              "      <td>639</td>\n",
              "    </tr>\n",
              "  </tbody>\n",
              "</table>\n",
              "</div>"
            ],
            "text/plain": [
              "   label                                               text  ...  temper  attitude\n",
              "0      0  Game over RT : Life is so unpredictable. Be gr...  ...      38       209\n",
              "1      1  Happy ! Guys: please check your balls monthly ...  ...      44       639\n",
              "\n",
              "[2 rows x 8 columns]"
            ]
          },
          "metadata": {
            "tags": []
          },
          "execution_count": 81
        }
      ]
    },
    {
      "cell_type": "code",
      "metadata": {
        "colab": {
          "base_uri": "https://localhost:8080/",
          "height": 108
        },
        "id": "m6aME1MmHfZk",
        "outputId": "389d754b-babd-4752-812a-ec9df91cc922"
      },
      "source": [
        "df_clpsych_test_scentic=get_scentic_features(df_clpsych_test)\r\n",
        "df_clpsych_test_scentic['label'] = df_clpsych_test_scentic['label'].map(encodedict) \r\n",
        "df_clpsych_test_scentic.head(2)"
      ],
      "execution_count": null,
      "outputs": [
        {
          "output_type": "execute_result",
          "data": {
            "text/html": [
              "<div>\n",
              "<style scoped>\n",
              "    .dataframe tbody tr th:only-of-type {\n",
              "        vertical-align: middle;\n",
              "    }\n",
              "\n",
              "    .dataframe tbody tr th {\n",
              "        vertical-align: top;\n",
              "    }\n",
              "\n",
              "    .dataframe thead th {\n",
              "        text-align: right;\n",
              "    }\n",
              "</style>\n",
              "<table border=\"1\" class=\"dataframe\">\n",
              "  <thead>\n",
              "    <tr style=\"text-align: right;\">\n",
              "      <th></th>\n",
              "      <th>label</th>\n",
              "      <th>text</th>\n",
              "      <th>polarity_value</th>\n",
              "      <th>polarity_label</th>\n",
              "      <th>sensitivity</th>\n",
              "      <th>introspection</th>\n",
              "      <th>temper</th>\n",
              "      <th>attitude</th>\n",
              "    </tr>\n",
              "  </thead>\n",
              "  <tbody>\n",
              "    <tr>\n",
              "      <th>0</th>\n",
              "      <td>1</td>\n",
              "      <td>: Going with . Look for my lipstick in early t...</td>\n",
              "      <td>2304</td>\n",
              "      <td>4832</td>\n",
              "      <td>1916</td>\n",
              "      <td>2141</td>\n",
              "      <td>4</td>\n",
              "      <td>287</td>\n",
              "    </tr>\n",
              "    <tr>\n",
              "      <th>1</th>\n",
              "      <td>0</td>\n",
              "      <td>: Paolo Nutini - No Other Way RT : my dreams h...</td>\n",
              "      <td>1277</td>\n",
              "      <td>3364</td>\n",
              "      <td>850</td>\n",
              "      <td>1190</td>\n",
              "      <td>14</td>\n",
              "      <td>145</td>\n",
              "    </tr>\n",
              "  </tbody>\n",
              "</table>\n",
              "</div>"
            ],
            "text/plain": [
              "   label                                               text  ...  temper  attitude\n",
              "0      1  : Going with . Look for my lipstick in early t...  ...       4       287\n",
              "1      0  : Paolo Nutini - No Other Way RT : my dreams h...  ...      14       145\n",
              "\n",
              "[2 rows x 8 columns]"
            ]
          },
          "metadata": {
            "tags": []
          },
          "execution_count": 82
        }
      ]
    },
    {
      "cell_type": "code",
      "metadata": {
        "id": "rNSy-1LSQ-gV"
      },
      "source": [
        "X_train = df_clpsych_train_scentic.iloc[:, 2:]\r\n",
        "y_train = df_clpsych_train_scentic.iloc[:, 0]\r\n",
        "\r\n",
        "X_test = df_clpsych_test_scentic.iloc[:, 2:]\r\n",
        "y_test = df_clpsych_test_scentic.iloc[:, 0]"
      ],
      "execution_count": null,
      "outputs": []
    },
    {
      "cell_type": "code",
      "metadata": {
        "id": "mAeuIrBxRntF"
      },
      "source": [
        "X_train, X_test = normalize(StandardScaler(), X_train, X_test)"
      ],
      "execution_count": null,
      "outputs": []
    },
    {
      "cell_type": "code",
      "metadata": {
        "colab": {
          "base_uri": "https://localhost:8080/"
        },
        "id": "PlLtkv3rRqdW",
        "outputId": "98fbe231-1c4e-4a66-eb15-fba61231e02d"
      },
      "source": [
        "Logistic = LogisticRegression(random_state=0, solver='lbfgs')\r\n",
        "Logistic.fit(X_train, y_train)\r\n",
        "print(\"Accuracy with training data:\", Logistic.score(X_train, y_train))\r\n",
        "prob_predicted_train = Logistic.predict_proba(X_train)\r\n",
        "print(\"Logloss with training data:\", loss_logloss(prob_predicted_train, y_train, weighted=True))\r\n"
      ],
      "execution_count": null,
      "outputs": [
        {
          "output_type": "stream",
          "text": [
            "Accuracy with training data: 0.6162079510703364\n",
            "Logloss with training data: 0.655426506797095\n"
          ],
          "name": "stdout"
        }
      ]
    },
    {
      "cell_type": "code",
      "metadata": {
        "colab": {
          "base_uri": "https://localhost:8080/"
        },
        "id": "xiQvZSUMRtpl",
        "outputId": "919adcbc-94e5-4e47-bbea-bffb3ae1e7ab"
      },
      "source": [
        "y_pred = Logistic.predict(X_test)\r\n",
        "print(\"Accuracy with test data:\", Logistic.score(X_test, y_test))\r\n",
        "\r\n",
        "y_pred_proba = Logistic.predict_proba(X_test)\r\n",
        "print(\"Logloss with test data:\", loss_logloss(y_pred_proba, y_test, weighted=True))\r\n"
      ],
      "execution_count": null,
      "outputs": [
        {
          "output_type": "stream",
          "text": [
            "Accuracy with test data: 0.6433333333333333\n",
            "Logloss with test data: 0.6569092869990207\n"
          ],
          "name": "stdout"
        }
      ]
    },
    {
      "cell_type": "code",
      "metadata": {
        "colab": {
          "base_uri": "https://localhost:8080/"
        },
        "id": "ggyE2wR5Rz_R",
        "outputId": "6fa8989c-b0bf-4758-d01a-d83468f033bb"
      },
      "source": [
        "#Cross validation\r\n",
        "Logistic = LogisticRegression(random_state=0, solver='lbfgs')\r\n",
        "Logistic.fit(X_train, y_train)\r\n",
        "scores = cross_val_score(\r\n",
        "    Logistic, \r\n",
        "    X_train, \r\n",
        "    y_train, \r\n",
        "    cv=10)\r\n",
        "print(\"Cross validated accuracy: \", \r\n",
        "      np.average(scores))\r\n",
        "print(\"Logistic accuracy on training data: \", \r\n",
        "      Logistic.score(X_train, y_train))\r\n",
        "print(\"Logistic accuracy on testing data: \", \r\n",
        "      Logistic.score(X_test, y_test))\r\n"
      ],
      "execution_count": null,
      "outputs": [
        {
          "output_type": "stream",
          "text": [
            "Cross validated accuracy:  0.6022843822843822\n",
            "Logistic accuracy on training data:  0.6162079510703364\n",
            "Logistic accuracy on testing data:  0.6433333333333333\n"
          ],
          "name": "stdout"
        }
      ]
    },
    {
      "cell_type": "code",
      "metadata": {
        "colab": {
          "base_uri": "https://localhost:8080/"
        },
        "id": "pbzqPGH1jTDJ",
        "outputId": "a90717d0-5af5-4431-f067-37307a684c22"
      },
      "source": [
        "print(metrics.classification_report(y_test, y_pred))"
      ],
      "execution_count": null,
      "outputs": [
        {
          "output_type": "stream",
          "text": [
            "              precision    recall  f1-score   support\n",
            "\n",
            "           0       0.65      0.61      0.63       150\n",
            "           1       0.64      0.67      0.65       150\n",
            "\n",
            "    accuracy                           0.64       300\n",
            "   macro avg       0.64      0.64      0.64       300\n",
            "weighted avg       0.64      0.64      0.64       300\n",
            "\n"
          ],
          "name": "stdout"
        }
      ]
    },
    {
      "cell_type": "markdown",
      "metadata": {
        "id": "kO6yfF_IRLV4"
      },
      "source": [
        "##3.c Lexicon in use is afinn_nrc\n"
      ]
    },
    {
      "cell_type": "code",
      "metadata": {
        "id": "spTFH-mpRfnM"
      },
      "source": [
        "X_train = train_clpsych.iloc[:, 2:6]\n",
        "y_train = train_clpsych.iloc[:, 0]\n",
        "\n",
        "X_test = test_clpsych.iloc[:, 2:6]\n",
        "y_test = test_clpsych.iloc[:, 0]"
      ],
      "execution_count": 227,
      "outputs": []
    },
    {
      "cell_type": "code",
      "metadata": {
        "colab": {
          "base_uri": "https://localhost:8080/",
          "height": 108
        },
        "id": "RMQ2KLbFAdwm",
        "outputId": "adc85dfc-0714-4b6e-ecd6-74a73ef58be1"
      },
      "source": [
        "X_train.head(2)"
      ],
      "execution_count": 228,
      "outputs": [
        {
          "output_type": "execute_result",
          "data": {
            "text/html": [
              "<div>\n",
              "<style scoped>\n",
              "    .dataframe tbody tr th:only-of-type {\n",
              "        vertical-align: middle;\n",
              "    }\n",
              "\n",
              "    .dataframe tbody tr th {\n",
              "        vertical-align: top;\n",
              "    }\n",
              "\n",
              "    .dataframe thead th {\n",
              "        text-align: right;\n",
              "    }\n",
              "</style>\n",
              "<table border=\"1\" class=\"dataframe\">\n",
              "  <thead>\n",
              "    <tr style=\"text-align: right;\">\n",
              "      <th></th>\n",
              "      <th>afinn_positive</th>\n",
              "      <th>afinn_negative</th>\n",
              "      <th>nrc_positive</th>\n",
              "      <th>nrc_negative</th>\n",
              "    </tr>\n",
              "  </thead>\n",
              "  <tbody>\n",
              "    <tr>\n",
              "      <th>0</th>\n",
              "      <td>3156.0</td>\n",
              "      <td>2594.0</td>\n",
              "      <td>1670.0</td>\n",
              "      <td>1048.0</td>\n",
              "    </tr>\n",
              "    <tr>\n",
              "      <th>1</th>\n",
              "      <td>5843.0</td>\n",
              "      <td>4220.0</td>\n",
              "      <td>3241.0</td>\n",
              "      <td>2227.0</td>\n",
              "    </tr>\n",
              "  </tbody>\n",
              "</table>\n",
              "</div>"
            ],
            "text/plain": [
              "   afinn_positive  afinn_negative  nrc_positive  nrc_negative\n",
              "0          3156.0          2594.0        1670.0        1048.0\n",
              "1          5843.0          4220.0        3241.0        2227.0"
            ]
          },
          "metadata": {
            "tags": []
          },
          "execution_count": 228
        }
      ]
    },
    {
      "cell_type": "code",
      "metadata": {
        "id": "XFofn8sTSHKp"
      },
      "source": [
        "X_train, X_test = normalize(StandardScaler(), X_train, X_test)"
      ],
      "execution_count": null,
      "outputs": []
    },
    {
      "cell_type": "code",
      "metadata": {
        "colab": {
          "base_uri": "https://localhost:8080/"
        },
        "id": "zWF9pDhPSK0r",
        "outputId": "3d401a9a-1f2c-47c2-8323-67b5daa4a3b2"
      },
      "source": [
        "#Cross validation\n",
        "Logistic = LogisticRegression(random_state=0, solver='lbfgs')\n",
        "Logistic.fit(X_train, y_train)\n",
        "scores = cross_val_score(\n",
        "    Logistic, \n",
        "    X_train, \n",
        "    y_train, \n",
        "    cv=10)\n",
        "print(\"Cross validated accuracy: \", \n",
        "      np.average(scores))\n",
        "print(\"Logistic accuracy on training data: \", \n",
        "      Logistic.score(X_train, y_train))\n",
        "print(\"Logistic accuracy on testing data: \", \n",
        "      Logistic.score(X_test, y_test))\n"
      ],
      "execution_count": null,
      "outputs": [
        {
          "output_type": "stream",
          "text": [
            "Cross validated accuracy:  0.512051282051282\n",
            "Logistic accuracy on training data:  0.5259938837920489\n",
            "Logistic accuracy on testing data:  0.5566666666666666\n"
          ],
          "name": "stdout"
        }
      ]
    },
    {
      "cell_type": "code",
      "metadata": {
        "colab": {
          "base_uri": "https://localhost:8080/"
        },
        "id": "CnrNqRnwSYZs",
        "outputId": "303d6a83-bd0d-40fc-8d36-a3a028303788"
      },
      "source": [
        "print(metrics.classification_report(y_test, y_pred))"
      ],
      "execution_count": null,
      "outputs": [
        {
          "output_type": "stream",
          "text": [
            "              precision    recall  f1-score   support\n",
            "\n",
            "           0       0.65      0.61      0.63       150\n",
            "           1       0.64      0.67      0.65       150\n",
            "\n",
            "    accuracy                           0.64       300\n",
            "   macro avg       0.64      0.64      0.64       300\n",
            "weighted avg       0.64      0.64      0.64       300\n",
            "\n"
          ],
          "name": "stdout"
        }
      ]
    },
    {
      "cell_type": "markdown",
      "metadata": {
        "id": "3Py-IVPm_KcA"
      },
      "source": [
        "##3.d Lexicon in use is mpqa_nrs_sa\n"
      ]
    },
    {
      "cell_type": "code",
      "metadata": {
        "id": "QolWnp4KAiEX"
      },
      "source": [
        "X_train = train_clpsych.iloc[:, 6:]\n",
        "y_train = train_clpsych.iloc[:, 0]\n",
        "\n",
        "X_test = test_clpsych.iloc[:, 6:]\n",
        "y_test = test_clpsych.iloc[:, 0]"
      ],
      "execution_count": 229,
      "outputs": []
    },
    {
      "cell_type": "code",
      "metadata": {
        "colab": {
          "base_uri": "https://localhost:8080/",
          "height": 108
        },
        "id": "_Z41rvpsAoir",
        "outputId": "06c82326-209c-4d50-8582-6788e741b36d"
      },
      "source": [
        "X_train.head(2)"
      ],
      "execution_count": 230,
      "outputs": [
        {
          "output_type": "execute_result",
          "data": {
            "text/html": [
              "<div>\n",
              "<style scoped>\n",
              "    .dataframe tbody tr th:only-of-type {\n",
              "        vertical-align: middle;\n",
              "    }\n",
              "\n",
              "    .dataframe tbody tr th {\n",
              "        vertical-align: top;\n",
              "    }\n",
              "\n",
              "    .dataframe thead th {\n",
              "        text-align: right;\n",
              "    }\n",
              "</style>\n",
              "<table border=\"1\" class=\"dataframe\">\n",
              "  <thead>\n",
              "    <tr style=\"text-align: right;\">\n",
              "      <th></th>\n",
              "      <th>nrc_anger</th>\n",
              "      <th>nrc_anticipation</th>\n",
              "      <th>nrc_disgust</th>\n",
              "      <th>nrc_fear</th>\n",
              "      <th>nrc_joy</th>\n",
              "      <th>nrc_sadness</th>\n",
              "      <th>nrc_surprise</th>\n",
              "      <th>nrc_trust</th>\n",
              "      <th>mpqa_positive</th>\n",
              "      <th>mpqa_negative</th>\n",
              "      <th>mpqa_strong_subjectivty</th>\n",
              "    </tr>\n",
              "  </thead>\n",
              "  <tbody>\n",
              "    <tr>\n",
              "      <th>0</th>\n",
              "      <td>517.0</td>\n",
              "      <td>872.0</td>\n",
              "      <td>454.0</td>\n",
              "      <td>589.0</td>\n",
              "      <td>880.0</td>\n",
              "      <td>524.0</td>\n",
              "      <td>353.0</td>\n",
              "      <td>1170.0</td>\n",
              "      <td>2011.0</td>\n",
              "      <td>1148.0</td>\n",
              "      <td>1860.0</td>\n",
              "    </tr>\n",
              "    <tr>\n",
              "      <th>1</th>\n",
              "      <td>1271.0</td>\n",
              "      <td>1401.0</td>\n",
              "      <td>797.0</td>\n",
              "      <td>1536.0</td>\n",
              "      <td>1666.0</td>\n",
              "      <td>1361.0</td>\n",
              "      <td>657.0</td>\n",
              "      <td>1862.0</td>\n",
              "      <td>3691.0</td>\n",
              "      <td>2452.0</td>\n",
              "      <td>4015.0</td>\n",
              "    </tr>\n",
              "  </tbody>\n",
              "</table>\n",
              "</div>"
            ],
            "text/plain": [
              "   nrc_anger  nrc_anticipation  ...  mpqa_negative  mpqa_strong_subjectivty\n",
              "0      517.0             872.0  ...         1148.0                   1860.0\n",
              "1     1271.0            1401.0  ...         2452.0                   4015.0\n",
              "\n",
              "[2 rows x 11 columns]"
            ]
          },
          "metadata": {
            "tags": []
          },
          "execution_count": 230
        }
      ]
    },
    {
      "cell_type": "code",
      "metadata": {
        "id": "g1Ns1ITbAzBG"
      },
      "source": [
        "X_train, X_test = normalize(StandardScaler(), X_train, X_test)"
      ],
      "execution_count": 231,
      "outputs": []
    },
    {
      "cell_type": "code",
      "metadata": {
        "colab": {
          "base_uri": "https://localhost:8080/"
        },
        "id": "cz7lLKhZA4OB",
        "outputId": "e094046e-f6b1-4c59-b2e4-1b4e5083bdc4"
      },
      "source": [
        "#Cross validation\n",
        "Logistic = LogisticRegression(random_state=0, solver='lbfgs')\n",
        "Logistic.fit(X_train, y_train)\n",
        "scores = cross_val_score(\n",
        "    Logistic, \n",
        "    X_train, \n",
        "    y_train, \n",
        "    cv=10)\n",
        "print(\"Cross validated accuracy: \", \n",
        "      np.average(scores))\n",
        "print(\"Logistic accuracy on training data: \", \n",
        "      Logistic.score(X_train, y_train))\n",
        "print(\"Logistic accuracy on testing data: \", \n",
        "      Logistic.score(X_test, y_test))\n"
      ],
      "execution_count": 232,
      "outputs": [
        {
          "output_type": "stream",
          "text": [
            "Cross validated accuracy:  0.5825874125874126\n",
            "Logistic accuracy on training data:  0.6085626911314985\n",
            "Logistic accuracy on testing data:  0.63\n"
          ],
          "name": "stdout"
        }
      ]
    },
    {
      "cell_type": "code",
      "metadata": {
        "colab": {
          "base_uri": "https://localhost:8080/"
        },
        "id": "8MDPdOBKBBsm",
        "outputId": "41d5859e-29d7-4f0a-d60c-009806399fdc"
      },
      "source": [
        "print(metrics.classification_report(y_test, y_pred))\n"
      ],
      "execution_count": 233,
      "outputs": [
        {
          "output_type": "stream",
          "text": [
            "              precision    recall  f1-score   support\n",
            "\n",
            "           0       0.64      0.67      0.65       150\n",
            "           1       0.65      0.62      0.63       150\n",
            "\n",
            "    accuracy                           0.64       300\n",
            "   macro avg       0.64      0.64      0.64       300\n",
            "weighted avg       0.64      0.64      0.64       300\n",
            "\n"
          ],
          "name": "stdout"
        }
      ]
    },
    {
      "cell_type": "markdown",
      "metadata": {
        "id": "QjVNx5L-_Udq"
      },
      "source": [
        "##3.e Lexicon in use is nrc\n"
      ]
    },
    {
      "cell_type": "code",
      "metadata": {
        "id": "uh1XBbd-Ai62"
      },
      "source": [
        "X_train = train_clpsych.iloc[:, 4:6]\n",
        "y_train = train_clpsych.iloc[:, 0]\n",
        "\n",
        "X_test = test_clpsych.iloc[:, 4:6]\n",
        "y_test = test_clpsych.iloc[:, 0]"
      ],
      "execution_count": 236,
      "outputs": []
    },
    {
      "cell_type": "code",
      "metadata": {
        "colab": {
          "base_uri": "https://localhost:8080/",
          "height": 108
        },
        "id": "rp0p3jTYAtyh",
        "outputId": "32696df2-9366-4d3d-8dbc-3e50b258a681"
      },
      "source": [
        "X_train.head(2)"
      ],
      "execution_count": 237,
      "outputs": [
        {
          "output_type": "execute_result",
          "data": {
            "text/html": [
              "<div>\n",
              "<style scoped>\n",
              "    .dataframe tbody tr th:only-of-type {\n",
              "        vertical-align: middle;\n",
              "    }\n",
              "\n",
              "    .dataframe tbody tr th {\n",
              "        vertical-align: top;\n",
              "    }\n",
              "\n",
              "    .dataframe thead th {\n",
              "        text-align: right;\n",
              "    }\n",
              "</style>\n",
              "<table border=\"1\" class=\"dataframe\">\n",
              "  <thead>\n",
              "    <tr style=\"text-align: right;\">\n",
              "      <th></th>\n",
              "      <th>nrc_positive</th>\n",
              "      <th>nrc_negative</th>\n",
              "    </tr>\n",
              "  </thead>\n",
              "  <tbody>\n",
              "    <tr>\n",
              "      <th>0</th>\n",
              "      <td>1670.0</td>\n",
              "      <td>1048.0</td>\n",
              "    </tr>\n",
              "    <tr>\n",
              "      <th>1</th>\n",
              "      <td>3241.0</td>\n",
              "      <td>2227.0</td>\n",
              "    </tr>\n",
              "  </tbody>\n",
              "</table>\n",
              "</div>"
            ],
            "text/plain": [
              "   nrc_positive  nrc_negative\n",
              "0        1670.0        1048.0\n",
              "1        3241.0        2227.0"
            ]
          },
          "metadata": {
            "tags": []
          },
          "execution_count": 237
        }
      ]
    },
    {
      "cell_type": "code",
      "metadata": {
        "id": "enlnbYdCAzwF"
      },
      "source": [
        "X_train, X_test = normalize(StandardScaler(), X_train, X_test)"
      ],
      "execution_count": 238,
      "outputs": []
    },
    {
      "cell_type": "code",
      "metadata": {
        "colab": {
          "base_uri": "https://localhost:8080/"
        },
        "id": "jVQYy7ImA5WH",
        "outputId": "0fc0d8f1-9a4b-4924-f300-a362441c8ec3"
      },
      "source": [
        "#Cross validation\n",
        "Logistic = LogisticRegression(random_state=0, solver='lbfgs')\n",
        "Logistic.fit(X_train, y_train)\n",
        "scores = cross_val_score(\n",
        "    Logistic, \n",
        "    X_train, \n",
        "    y_train, \n",
        "    cv=10)\n",
        "print(\"Cross validated accuracy: \", \n",
        "      np.average(scores))\n",
        "print(\"Logistic accuracy on training data: \", \n",
        "      Logistic.score(X_train, y_train))\n",
        "print(\"Logistic accuracy on testing data: \", \n",
        "      Logistic.score(X_test, y_test))\n"
      ],
      "execution_count": 239,
      "outputs": [
        {
          "output_type": "stream",
          "text": [
            "Cross validated accuracy:  0.5135431235431236\n",
            "Logistic accuracy on training data:  0.518348623853211\n",
            "Logistic accuracy on testing data:  0.5666666666666667\n"
          ],
          "name": "stdout"
        }
      ]
    },
    {
      "cell_type": "code",
      "metadata": {
        "colab": {
          "base_uri": "https://localhost:8080/"
        },
        "id": "3psxkTI2BCqr",
        "outputId": "5b130a0f-d205-49fa-c527-de0b464f75c3"
      },
      "source": [
        "print(metrics.classification_report(y_test, y_pred))\n"
      ],
      "execution_count": 240,
      "outputs": [
        {
          "output_type": "stream",
          "text": [
            "              precision    recall  f1-score   support\n",
            "\n",
            "           0       0.64      0.67      0.65       150\n",
            "           1       0.65      0.62      0.63       150\n",
            "\n",
            "    accuracy                           0.64       300\n",
            "   macro avg       0.64      0.64      0.64       300\n",
            "weighted avg       0.64      0.64      0.64       300\n",
            "\n"
          ],
          "name": "stdout"
        }
      ]
    },
    {
      "cell_type": "markdown",
      "metadata": {
        "id": "J0BFfEGn_Xtj"
      },
      "source": [
        "##3.f Lexicon in use is afinn\n"
      ]
    },
    {
      "cell_type": "code",
      "metadata": {
        "id": "WBDzvKBXAkB3"
      },
      "source": [
        "X_train = train_clpsych.iloc[:, 2:4]\n",
        "y_train = train_clpsych.iloc[:, 0]\n",
        "\n",
        "X_test = test_clpsych.iloc[:, 2:4]\n",
        "y_test = test_clpsych.iloc[:, 0]"
      ],
      "execution_count": 241,
      "outputs": []
    },
    {
      "cell_type": "code",
      "metadata": {
        "colab": {
          "base_uri": "https://localhost:8080/",
          "height": 108
        },
        "id": "VE3EDYVXAuV3",
        "outputId": "f441cf0a-1e7a-4221-be03-eb0dfd73baa5"
      },
      "source": [
        "X_train.head(2)"
      ],
      "execution_count": 242,
      "outputs": [
        {
          "output_type": "execute_result",
          "data": {
            "text/html": [
              "<div>\n",
              "<style scoped>\n",
              "    .dataframe tbody tr th:only-of-type {\n",
              "        vertical-align: middle;\n",
              "    }\n",
              "\n",
              "    .dataframe tbody tr th {\n",
              "        vertical-align: top;\n",
              "    }\n",
              "\n",
              "    .dataframe thead th {\n",
              "        text-align: right;\n",
              "    }\n",
              "</style>\n",
              "<table border=\"1\" class=\"dataframe\">\n",
              "  <thead>\n",
              "    <tr style=\"text-align: right;\">\n",
              "      <th></th>\n",
              "      <th>afinn_positive</th>\n",
              "      <th>afinn_negative</th>\n",
              "    </tr>\n",
              "  </thead>\n",
              "  <tbody>\n",
              "    <tr>\n",
              "      <th>0</th>\n",
              "      <td>3156.0</td>\n",
              "      <td>2594.0</td>\n",
              "    </tr>\n",
              "    <tr>\n",
              "      <th>1</th>\n",
              "      <td>5843.0</td>\n",
              "      <td>4220.0</td>\n",
              "    </tr>\n",
              "  </tbody>\n",
              "</table>\n",
              "</div>"
            ],
            "text/plain": [
              "   afinn_positive  afinn_negative\n",
              "0          3156.0          2594.0\n",
              "1          5843.0          4220.0"
            ]
          },
          "metadata": {
            "tags": []
          },
          "execution_count": 242
        }
      ]
    },
    {
      "cell_type": "code",
      "metadata": {
        "id": "hL6SKvUAA0Xy"
      },
      "source": [
        "X_train, X_test = normalize(StandardScaler(), X_train, X_test)"
      ],
      "execution_count": 243,
      "outputs": []
    },
    {
      "cell_type": "code",
      "metadata": {
        "colab": {
          "base_uri": "https://localhost:8080/"
        },
        "id": "R_GQ4yURA6Pr",
        "outputId": "2ba81f46-852a-40ce-c718-18095e87b44b"
      },
      "source": [
        "#Cross validation\n",
        "Logistic = LogisticRegression(random_state=0, solver='lbfgs')\n",
        "Logistic.fit(X_train, y_train)\n",
        "scores = cross_val_score(\n",
        "    Logistic, \n",
        "    X_train, \n",
        "    y_train, \n",
        "    cv=10)\n",
        "print(\"Cross validated accuracy: \", \n",
        "      np.average(scores))\n",
        "print(\"Logistic accuracy on training data: \", \n",
        "      Logistic.score(X_train, y_train))\n",
        "print(\"Logistic accuracy on testing data: \", \n",
        "      Logistic.score(X_test, y_test))\n"
      ],
      "execution_count": 244,
      "outputs": [
        {
          "output_type": "stream",
          "text": [
            "Cross validated accuracy:  0.534988344988345\n",
            "Logistic accuracy on training data:  0.5290519877675841\n",
            "Logistic accuracy on testing data:  0.59\n"
          ],
          "name": "stdout"
        }
      ]
    },
    {
      "cell_type": "code",
      "metadata": {
        "colab": {
          "base_uri": "https://localhost:8080/"
        },
        "id": "DurvCbrwBDcV",
        "outputId": "5db6d2e6-ec08-491e-d0cf-4ffe17658d3e"
      },
      "source": [
        "print(metrics.classification_report(y_test, y_pred))\n"
      ],
      "execution_count": 245,
      "outputs": [
        {
          "output_type": "stream",
          "text": [
            "              precision    recall  f1-score   support\n",
            "\n",
            "           0       0.64      0.67      0.65       150\n",
            "           1       0.65      0.62      0.63       150\n",
            "\n",
            "    accuracy                           0.64       300\n",
            "   macro avg       0.64      0.64      0.64       300\n",
            "weighted avg       0.64      0.64      0.64       300\n",
            "\n"
          ],
          "name": "stdout"
        }
      ]
    },
    {
      "cell_type": "markdown",
      "metadata": {
        "id": "kBCElr2__Z2U"
      },
      "source": [
        "##3.g Lexicon in use is mpqa\n"
      ]
    },
    {
      "cell_type": "code",
      "metadata": {
        "id": "cgYQAJLrAkyJ"
      },
      "source": [
        "X_train = train_clpsych.iloc[:, 14:]\n",
        "y_train = train_clpsych.iloc[:, 0]\n",
        "\n",
        "X_test = test_clpsych.iloc[:, 14:]\n",
        "y_test = test_clpsych.iloc[:, 0]"
      ],
      "execution_count": 248,
      "outputs": []
    },
    {
      "cell_type": "code",
      "metadata": {
        "colab": {
          "base_uri": "https://localhost:8080/",
          "height": 108
        },
        "id": "0-sgWdzOAu3g",
        "outputId": "88a9ffe6-1367-4321-8bc9-b3e3e6b450d0"
      },
      "source": [
        "X_train.head(2)"
      ],
      "execution_count": 249,
      "outputs": [
        {
          "output_type": "execute_result",
          "data": {
            "text/html": [
              "<div>\n",
              "<style scoped>\n",
              "    .dataframe tbody tr th:only-of-type {\n",
              "        vertical-align: middle;\n",
              "    }\n",
              "\n",
              "    .dataframe tbody tr th {\n",
              "        vertical-align: top;\n",
              "    }\n",
              "\n",
              "    .dataframe thead th {\n",
              "        text-align: right;\n",
              "    }\n",
              "</style>\n",
              "<table border=\"1\" class=\"dataframe\">\n",
              "  <thead>\n",
              "    <tr style=\"text-align: right;\">\n",
              "      <th></th>\n",
              "      <th>mpqa_positive</th>\n",
              "      <th>mpqa_negative</th>\n",
              "      <th>mpqa_strong_subjectivty</th>\n",
              "    </tr>\n",
              "  </thead>\n",
              "  <tbody>\n",
              "    <tr>\n",
              "      <th>0</th>\n",
              "      <td>2011.0</td>\n",
              "      <td>1148.0</td>\n",
              "      <td>1860.0</td>\n",
              "    </tr>\n",
              "    <tr>\n",
              "      <th>1</th>\n",
              "      <td>3691.0</td>\n",
              "      <td>2452.0</td>\n",
              "      <td>4015.0</td>\n",
              "    </tr>\n",
              "  </tbody>\n",
              "</table>\n",
              "</div>"
            ],
            "text/plain": [
              "   mpqa_positive  mpqa_negative  mpqa_strong_subjectivty\n",
              "0         2011.0         1148.0                   1860.0\n",
              "1         3691.0         2452.0                   4015.0"
            ]
          },
          "metadata": {
            "tags": []
          },
          "execution_count": 249
        }
      ]
    },
    {
      "cell_type": "code",
      "metadata": {
        "id": "4npJwKXTA0_f"
      },
      "source": [
        "X_train, X_test = normalize(StandardScaler(), X_train, X_test)"
      ],
      "execution_count": 250,
      "outputs": []
    },
    {
      "cell_type": "code",
      "metadata": {
        "colab": {
          "base_uri": "https://localhost:8080/"
        },
        "id": "R803bJUMA7CQ",
        "outputId": "72b9734e-be0c-469f-cce0-7176454bc353"
      },
      "source": [
        "#Cross validation\n",
        "Logistic = LogisticRegression(random_state=0, solver='lbfgs')\n",
        "Logistic.fit(X_train, y_train)\n",
        "scores = cross_val_score(\n",
        "    Logistic, \n",
        "    X_train, \n",
        "    y_train, \n",
        "    cv=10)\n",
        "print(\"Cross validated accuracy: \", \n",
        "      np.average(scores))\n",
        "print(\"Logistic accuracy on training data: \", \n",
        "      Logistic.score(X_train, y_train))\n",
        "print(\"Logistic accuracy on testing data: \", \n",
        "      Logistic.score(X_test, y_test))\n"
      ],
      "execution_count": 251,
      "outputs": [
        {
          "output_type": "stream",
          "text": [
            "Cross validated accuracy:  0.5303729603729603\n",
            "Logistic accuracy on training data:  0.5336391437308868\n",
            "Logistic accuracy on testing data:  0.5333333333333333\n"
          ],
          "name": "stdout"
        }
      ]
    },
    {
      "cell_type": "code",
      "metadata": {
        "colab": {
          "base_uri": "https://localhost:8080/"
        },
        "id": "VflNDVWrBEI4",
        "outputId": "3c76dd8a-4825-474d-fb02-64de7e7a8cfe"
      },
      "source": [
        "print(metrics.classification_report(y_test, y_pred))\n"
      ],
      "execution_count": 252,
      "outputs": [
        {
          "output_type": "stream",
          "text": [
            "              precision    recall  f1-score   support\n",
            "\n",
            "           0       0.64      0.67      0.65       150\n",
            "           1       0.65      0.62      0.63       150\n",
            "\n",
            "    accuracy                           0.64       300\n",
            "   macro avg       0.64      0.64      0.64       300\n",
            "weighted avg       0.64      0.64      0.64       300\n",
            "\n"
          ],
          "name": "stdout"
        }
      ]
    },
    {
      "cell_type": "markdown",
      "metadata": {
        "id": "EpvrdPvb_fIX"
      },
      "source": [
        "##3.h Lexicon in use is nrc_sa\n"
      ]
    },
    {
      "cell_type": "code",
      "metadata": {
        "id": "czZi7iq0AloY"
      },
      "source": [
        "X_train = train_clpsych.iloc[:, 6:14]\n",
        "y_train = train_clpsych.iloc[:, 0]\n",
        "\n",
        "X_test = test_clpsych.iloc[:, 6:14]\n",
        "y_test = test_clpsych.iloc[:, 0]"
      ],
      "execution_count": 257,
      "outputs": []
    },
    {
      "cell_type": "code",
      "metadata": {
        "colab": {
          "base_uri": "https://localhost:8080/",
          "height": 108
        },
        "id": "kgM3eVftAvay",
        "outputId": "2baddb0e-adf1-4308-8b42-58475bfc7f86"
      },
      "source": [
        "X_train.head(2)"
      ],
      "execution_count": 258,
      "outputs": [
        {
          "output_type": "execute_result",
          "data": {
            "text/html": [
              "<div>\n",
              "<style scoped>\n",
              "    .dataframe tbody tr th:only-of-type {\n",
              "        vertical-align: middle;\n",
              "    }\n",
              "\n",
              "    .dataframe tbody tr th {\n",
              "        vertical-align: top;\n",
              "    }\n",
              "\n",
              "    .dataframe thead th {\n",
              "        text-align: right;\n",
              "    }\n",
              "</style>\n",
              "<table border=\"1\" class=\"dataframe\">\n",
              "  <thead>\n",
              "    <tr style=\"text-align: right;\">\n",
              "      <th></th>\n",
              "      <th>nrc_anger</th>\n",
              "      <th>nrc_anticipation</th>\n",
              "      <th>nrc_disgust</th>\n",
              "      <th>nrc_fear</th>\n",
              "      <th>nrc_joy</th>\n",
              "      <th>nrc_sadness</th>\n",
              "      <th>nrc_surprise</th>\n",
              "      <th>nrc_trust</th>\n",
              "    </tr>\n",
              "  </thead>\n",
              "  <tbody>\n",
              "    <tr>\n",
              "      <th>0</th>\n",
              "      <td>517.0</td>\n",
              "      <td>872.0</td>\n",
              "      <td>454.0</td>\n",
              "      <td>589.0</td>\n",
              "      <td>880.0</td>\n",
              "      <td>524.0</td>\n",
              "      <td>353.0</td>\n",
              "      <td>1170.0</td>\n",
              "    </tr>\n",
              "    <tr>\n",
              "      <th>1</th>\n",
              "      <td>1271.0</td>\n",
              "      <td>1401.0</td>\n",
              "      <td>797.0</td>\n",
              "      <td>1536.0</td>\n",
              "      <td>1666.0</td>\n",
              "      <td>1361.0</td>\n",
              "      <td>657.0</td>\n",
              "      <td>1862.0</td>\n",
              "    </tr>\n",
              "  </tbody>\n",
              "</table>\n",
              "</div>"
            ],
            "text/plain": [
              "   nrc_anger  nrc_anticipation  ...  nrc_surprise  nrc_trust\n",
              "0      517.0             872.0  ...         353.0     1170.0\n",
              "1     1271.0            1401.0  ...         657.0     1862.0\n",
              "\n",
              "[2 rows x 8 columns]"
            ]
          },
          "metadata": {
            "tags": []
          },
          "execution_count": 258
        }
      ]
    },
    {
      "cell_type": "code",
      "metadata": {
        "id": "xPzH5Bp2A1ih"
      },
      "source": [
        "X_train, X_test = normalize(StandardScaler(), X_train, X_test)"
      ],
      "execution_count": 259,
      "outputs": []
    },
    {
      "cell_type": "code",
      "metadata": {
        "colab": {
          "base_uri": "https://localhost:8080/"
        },
        "id": "ucjFqvQ-A78z",
        "outputId": "63e73ec5-6138-4608-d217-70f7790f3b25"
      },
      "source": [
        "#Cross validation\n",
        "Logistic = LogisticRegression(random_state=0, solver='lbfgs')\n",
        "Logistic.fit(X_train, y_train)\n",
        "scores = cross_val_score(\n",
        "    Logistic, \n",
        "    X_train, \n",
        "    y_train, \n",
        "    cv=10)\n",
        "print(\"Cross validated accuracy: \", \n",
        "      np.average(scores))\n",
        "print(\"Logistic accuracy on training data: \", \n",
        "      Logistic.score(X_train, y_train))\n",
        "print(\"Logistic accuracy on testing data: \", \n",
        "      Logistic.score(X_test, y_test))\n"
      ],
      "execution_count": 260,
      "outputs": [
        {
          "output_type": "stream",
          "text": [
            "Cross validated accuracy:  0.5824475524475525\n",
            "Logistic accuracy on training data:  0.5963302752293578\n",
            "Logistic accuracy on testing data:  0.5966666666666667\n"
          ],
          "name": "stdout"
        }
      ]
    },
    {
      "cell_type": "code",
      "metadata": {
        "colab": {
          "base_uri": "https://localhost:8080/"
        },
        "id": "S9fkn2jCBE27",
        "outputId": "e2939ce6-bb4d-403f-f327-0c4c1290ac09"
      },
      "source": [
        "print(metrics.classification_report(y_test, y_pred))\n"
      ],
      "execution_count": 261,
      "outputs": [
        {
          "output_type": "stream",
          "text": [
            "              precision    recall  f1-score   support\n",
            "\n",
            "           0       0.64      0.67      0.65       150\n",
            "           1       0.65      0.62      0.63       150\n",
            "\n",
            "    accuracy                           0.64       300\n",
            "   macro avg       0.64      0.64      0.64       300\n",
            "weighted avg       0.64      0.64      0.64       300\n",
            "\n"
          ],
          "name": "stdout"
        }
      ]
    },
    {
      "cell_type": "code",
      "metadata": {
        "id": "Gu39mDQedTMw",
        "colab": {
          "base_uri": "https://localhost:8080/",
          "height": 119
        },
        "outputId": "d926de64-4834-4912-93b5-40ae1f10585a"
      },
      "source": [
        "\"\"\"lda = LinearDiscriminantAnalysis()\n",
        "\n",
        "    lda.fit(X_train, y_train)\n",
        "\n",
        "    print(\"Accuracy with training data:\", lda.score(X_train, y_train))\n",
        "\n",
        "    prob_predicted_train = lda.predict_proba(X_train)\n",
        "    print(\"Logloss with training data:\", loss_logloss(prob_predicted_train, y_train))\n",
        "\n",
        "    y_predicted = lda.predict(X_test)\n",
        "    prob_predicted = lda.predict_proba(X_test)\n",
        "\n",
        "    write_submission_file_accuracy(y_predicted, filename=filename_prefix+\"_accuracy.csv\")\n",
        "    write_submission_file_logloss(finalize_logloss_output(prob_predicted), filename=filename_prefix+\"_logloss.csv\")\n",
        "    \n",
        "    # cross validate\n",
        "    skf = StratifiedKFold(n_splits=5, random_state=0, shuffle=True)\n",
        "    test_scores = []\n",
        "    for i_train, i_test in skf.split(X_train, y_train):\n",
        "        lda = LinearDiscriminantAnalysis()\n",
        "        lda.fit(X_train[i_train], y_train[i_train])\n",
        "        test_scores.append(lda.score(X_train[i_test], y_train[i_test]))\n",
        "\n",
        "    print(\"Validation error:\", np.average(test_scores))\"\"\""
      ],
      "execution_count": null,
      "outputs": [
        {
          "output_type": "execute_result",
          "data": {
            "application/vnd.google.colaboratory.intrinsic+json": {
              "type": "string"
            },
            "text/plain": [
              "'lda = LinearDiscriminantAnalysis()\\n\\n    lda.fit(X_train, y_train)\\n\\n    print(\"Accuracy with training data:\", lda.score(X_train, y_train))\\n\\n    prob_predicted_train = lda.predict_proba(X_train)\\n    print(\"Logloss with training data:\", loss_logloss(prob_predicted_train, y_train))\\n\\n    y_predicted = lda.predict(X_test)\\n    prob_predicted = lda.predict_proba(X_test)\\n\\n    write_submission_file_accuracy(y_predicted, filename=filename_prefix+\"_accuracy.csv\")\\n    write_submission_file_logloss(finalize_logloss_output(prob_predicted), filename=filename_prefix+\"_logloss.csv\")\\n    \\n    # cross validate\\n    skf = StratifiedKFold(n_splits=5, random_state=0, shuffle=True)\\n    test_scores = []\\n    for i_train, i_test in skf.split(X_train, y_train):\\n        lda = LinearDiscriminantAnalysis()\\n        lda.fit(X_train[i_train], y_train[i_train])\\n        test_scores.append(lda.score(X_train[i_test], y_train[i_test]))\\n\\n    print(\"Validation error:\", np.average(test_scores))'"
            ]
          },
          "metadata": {
            "tags": []
          },
          "execution_count": 132
        }
      ]
    },
    {
      "cell_type": "code",
      "metadata": {
        "id": "lXgcZ62PdWLU"
      },
      "source": [
        "\"\"\"# cross validate\n",
        "skf = StratifiedKFold(n_splits=5, random_state=0, shuffle=True)\n",
        "test_scores = []\n",
        "for i_train, i_test in skf.split(X_train, y_train):\n",
        "  \n",
        "  Logistic = LogisticRegression(random_state=0, solver='lbfgs')\n",
        "  Logistic.fit(X_train[i_train], y_train[i_train])\n",
        "\n",
        "  test_scores.append(Logistic.score(X_train[i_test], y_train[i_test]))\n",
        "\n",
        "print(\"Validation error:\", np.average(test_scores))\"\"\"\n"
      ],
      "execution_count": null,
      "outputs": []
    }
  ]
}