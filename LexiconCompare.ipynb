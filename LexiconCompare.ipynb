{
  "nbformat": 4,
  "nbformat_minor": 0,
  "metadata": {
    "colab": {
      "name": "LexiconCompare.ipynb",
      "provenance": [],
      "collapsed_sections": [],
      "machine_shape": "hm",
      "authorship_tag": "ABX9TyOT58m5i6QhMNSz3NfU3536",
      "include_colab_link": true
    },
    "kernelspec": {
      "name": "python3",
      "display_name": "Python 3"
    },
    "accelerator": "GPU"
  },
  "cells": [
    {
      "cell_type": "markdown",
      "metadata": {
        "id": "view-in-github",
        "colab_type": "text"
      },
      "source": [
        "<a href=\"https://colab.research.google.com/github/L-ansari/Natural-Language-Processing-tasks/blob/master/LexiconCompare.ipynb\" target=\"_parent\"><img src=\"https://colab.research.google.com/assets/colab-badge.svg\" alt=\"Open In Colab\"/></a>"
      ]
    },
    {
      "cell_type": "code",
      "metadata": {
        "id": "KBjNU1iJBBaa"
      },
      "source": [
        "import numpy as np\n",
        "import pandas as pd\n",
        "import seaborn as sns\n",
        "from pathlib import Path\n",
        "import matplotlib.pyplot as plt\n",
        "import sklearn\n",
        "\n",
        "from sklearn.preprocessing import StandardScaler    \n",
        "from sklearn.model_selection import train_test_split, cross_val_score\n",
        "from sklearn.metrics import confusion_matrix, classification_report\n",
        "from sklearn.linear_model import LogisticRegression\n",
        "from sklearn.model_selection import StratifiedKFold\n",
        "from sklearn import metrics"
      ],
      "execution_count": 4,
      "outputs": []
    },
    {
      "cell_type": "code",
      "metadata": {
        "colab": {
          "base_uri": "https://localhost:8080/"
        },
        "id": "74pDC2gaD3Xu",
        "outputId": "2c0ee800-ee77-4559-81cf-601f47c33fd5"
      },
      "source": [
        "from google.colab import drive\n",
        "drive.mount(\"/content/drive\", force_remount=True)"
      ],
      "execution_count": 5,
      "outputs": [
        {
          "output_type": "stream",
          "text": [
            "Mounted at /content/drive\n"
          ],
          "name": "stdout"
        }
      ]
    },
    {
      "cell_type": "code",
      "metadata": {
        "id": "S1m7FJ7HcmhW"
      },
      "source": [
        "\"\"\" Helper functions \"\"\"\n",
        "\n",
        "\n",
        "def encode_data(dataframe, column_name, encodedict):\n",
        "  \"\"\"column_name:  is a list of column head names\n",
        "  encodedict:  is a dictionary encoding of labels\"\"\"\n",
        "  \n",
        "  dataframe.columns = column_name\n",
        "  dataframe['label'] = dataframe['label'].map(encodedict) \n",
        "\n",
        "  return dataframe #  encode labels\n",
        "\n",
        "def plot(dataframe,dataset ):\n",
        "  #print(\"Reddit Dataset\\n\")\n",
        "  print(f'Dataset: {dataset}',\"\\n\")\n",
        "  return sns.countplot(x = 'label', data=dataframe)\n",
        "\n",
        "def split(X,y):\n",
        "  X_train, X_test, y_train, y_test = train_test_split(X, y, test_size=0.33, random_state=69, shuffle=True)\n",
        "  return X_train, X_test, y_train, y_test \n",
        "\n",
        "def normalize (scaler, X_train, X_test):\n",
        "  X_train = scaler.fit_transform(X_train)\n",
        "  X_test = scaler.transform(X_test)\n",
        "  return X_train, X_test\n",
        "\n",
        "# note that y_pred has shape (N_samples,N_labels) while y_real has shape (N_samples,1)\n",
        "# weights means weighting according to class frequencies\n",
        "def loss_logloss(y_pred, y_real, weighted=False):\n",
        "    weights = None\n",
        "    if weighted:\n",
        "        class_to_frequency = class_weights(y_real)\n",
        "        weights = np.array([1/class_to_frequency[y-1] for y in y_real])\n",
        "    loss = sklearn.metrics.log_loss(y_real, y_pred, sample_weight=weights, labels=[0,1])\n",
        "    return loss\n",
        "# array which tells for every class how many times it occurs in the training labels\n",
        "# note that class labels start from 1 while class indices start from 0!\n",
        "def class_weights(y):\n",
        "    unique, counts = np.unique(y, return_counts=True)\n",
        "    n_classes = 10\n",
        "    class_weights = np.zeros(n_classes)\n",
        "    for classNumber, count in zip(unique, counts):\n",
        "            class_weights[classNumber-1] = count\n",
        "    return class_weights\n",
        "\n",
        "\n",
        "def get_feature(message):\n",
        "  \"\"\"This function gives out a dataframe of extracted features\"\"\"\n",
        "  sn = SenticNet()\n",
        "\n",
        "  polarity_value=0\n",
        "  polarity_label=0\n",
        "  introspection=0\n",
        "  sensitivity=0\n",
        "  temper=0\n",
        "  attitude=0\n",
        "\n",
        "  for word in (message):\n",
        "    try:\n",
        "      concept = sn.concept(word)\n",
        "      pol_value = float(concept['polarity_value'])\n",
        "      pol_label=concept['polarity_label']\n",
        "      intros=float(concept['sentics']['introspection'])\n",
        "      sensit=float(concept['sentics']['sensitivity'])\n",
        "      temp=float(concept['sentics']['temper'])\n",
        "      attit=float(concept['sentics']['attitude'])\n",
        "\n",
        "      if  concept['polarity_label']=='positive':\n",
        "        pol_label =1\n",
        "      else:\n",
        "        pol_label=0\n",
        "\n",
        "      polarity_value += pol_value\n",
        "      polarity_label +=pol_label\n",
        "      introspection +=intros\n",
        "      sensitivity +=sensit\n",
        "      temper +=temp\n",
        "      attitude +=attit\n",
        "\n",
        "    except KeyError:\n",
        "        pass\n",
        "   \n",
        "  return polarity_value , polarity_label, introspection, sensitivity, temper, attitude\n",
        "\n",
        "def get_scentic_features(df): #dataframe\n",
        "\n",
        "  df['polarity_value'] = 0\n",
        "  df['polarity_label'] = 0\n",
        "  df['sensitivity'] = 0\n",
        "  df['introspection'] = 0\n",
        "  df['temper'] = 0\n",
        "  df['attitude'] = 0\n",
        "  for i in range(df.shape[0]):\n",
        "    polarity_value , polarity_label, introspection, sensitivity, temper, attitude=get_feature (word_tokenize(df['text'][i].lower()))\n",
        "    df['polarity_value'][i] = polarity_value\n",
        "    df['polarity_label'][i] = polarity_label\n",
        "    df['sensitivity'][i] = sensitivity\n",
        "    df['introspection'][i]= introspection\n",
        "    df['temper'][i] = temper\n",
        "    df['attitude'][i]= attitude\n",
        "\n",
        "  return df  \n"
      ],
      "execution_count": 64,
      "outputs": []
    },
    {
      "cell_type": "markdown",
      "metadata": {
        "id": "lApXZAGR2qG8"
      },
      "source": [
        "#Lexicon in use is afinn_nrc_nrc_sa_mpqa.\n",
        "\n",
        "Features are = ['afinn_positive', 'afinn_negative', 'nrc_positive', 'nrc_negative', 'nrc_anger', 'nrc_anticipation', 'nrc_disgust', 'nrc_fear', 'nrc_joy', 'nrc_sadness', 'nrc_surprise', 'nrc_trust', 'mpqa_positive', 'mpqa_negative', 'mpqa_strong_subjectivty']\n"
      ]
    },
    {
      "cell_type": "markdown",
      "metadata": {
        "id": "_qDdXA83oic4"
      },
      "source": [
        "#Reddit Dataset"
      ]
    },
    {
      "cell_type": "code",
      "metadata": {
        "id": "diqcc4F1GXUX",
        "colab": {
          "base_uri": "https://localhost:8080/",
          "height": 106
        },
        "outputId": "435863e4-4754-4575-cd9e-5fe74ef73fb1"
      },
      "source": [
        "reddit= pd.read_csv(Path('/content/drive/My Drive/DSP/data/bachelor/Reddit.csv'))\n",
        "reddit.head(2)"
      ],
      "execution_count": 71,
      "outputs": [
        {
          "output_type": "execute_result",
          "data": {
            "text/html": [
              "<div>\n",
              "<style scoped>\n",
              "    .dataframe tbody tr th:only-of-type {\n",
              "        vertical-align: middle;\n",
              "    }\n",
              "\n",
              "    .dataframe tbody tr th {\n",
              "        vertical-align: top;\n",
              "    }\n",
              "\n",
              "    .dataframe thead th {\n",
              "        text-align: right;\n",
              "    }\n",
              "</style>\n",
              "<table border=\"1\" class=\"dataframe\">\n",
              "  <thead>\n",
              "    <tr style=\"text-align: right;\">\n",
              "      <th></th>\n",
              "      <th>label</th>\n",
              "      <th>text</th>\n",
              "    </tr>\n",
              "  </thead>\n",
              "  <tbody>\n",
              "    <tr>\n",
              "      <th>0</th>\n",
              "      <td>negative</td>\n",
              "      <td>My male cousin stopped talking to me all of su...</td>\n",
              "    </tr>\n",
              "    <tr>\n",
              "      <th>1</th>\n",
              "      <td>negative</td>\n",
              "      <td>Drifting away from my best friend\\nMy best fri...</td>\n",
              "    </tr>\n",
              "  </tbody>\n",
              "</table>\n",
              "</div>"
            ],
            "text/plain": [
              "      label                                               text\n",
              "0  negative  My male cousin stopped talking to me all of su...\n",
              "1  negative  Drifting away from my best friend\\nMy best fri..."
            ]
          },
          "metadata": {
            "tags": []
          },
          "execution_count": 71
        }
      ]
    },
    {
      "cell_type": "code",
      "metadata": {
        "id": "CFzeD7ffGRy4",
        "colab": {
          "base_uri": "https://localhost:8080/",
          "height": 106
        },
        "outputId": "f42a3e6b-cf70-4243-afb9-8682b2510969"
      },
      "source": [
        "reddit_all_four_lexicos= pd.read_csv(Path('/content/drive/My Drive/DSP/data/bachelor/Reddit_afinn_nrc_nrc_sa_mpqa.csv'))\n",
        "reddit_all_four_lexicos.head(2)"
      ],
      "execution_count": 8,
      "outputs": [
        {
          "output_type": "execute_result",
          "data": {
            "text/html": [
              "<div>\n",
              "<style scoped>\n",
              "    .dataframe tbody tr th:only-of-type {\n",
              "        vertical-align: middle;\n",
              "    }\n",
              "\n",
              "    .dataframe tbody tr th {\n",
              "        vertical-align: top;\n",
              "    }\n",
              "\n",
              "    .dataframe thead th {\n",
              "        text-align: right;\n",
              "    }\n",
              "</style>\n",
              "<table border=\"1\" class=\"dataframe\">\n",
              "  <thead>\n",
              "    <tr style=\"text-align: right;\">\n",
              "      <th></th>\n",
              "      <th>0</th>\n",
              "      <th>1</th>\n",
              "      <th>2</th>\n",
              "      <th>3</th>\n",
              "      <th>4</th>\n",
              "      <th>5</th>\n",
              "      <th>6</th>\n",
              "      <th>7</th>\n",
              "      <th>8</th>\n",
              "      <th>9</th>\n",
              "      <th>10</th>\n",
              "      <th>11</th>\n",
              "      <th>12</th>\n",
              "      <th>13</th>\n",
              "      <th>14</th>\n",
              "    </tr>\n",
              "  </thead>\n",
              "  <tbody>\n",
              "    <tr>\n",
              "      <th>0</th>\n",
              "      <td>10.0</td>\n",
              "      <td>18.0</td>\n",
              "      <td>13.0</td>\n",
              "      <td>9.0</td>\n",
              "      <td>2.0</td>\n",
              "      <td>8.0</td>\n",
              "      <td>3.0</td>\n",
              "      <td>5.0</td>\n",
              "      <td>8.0</td>\n",
              "      <td>7.0</td>\n",
              "      <td>4.0</td>\n",
              "      <td>7.0</td>\n",
              "      <td>11.0</td>\n",
              "      <td>9.0</td>\n",
              "      <td>13.0</td>\n",
              "    </tr>\n",
              "    <tr>\n",
              "      <th>1</th>\n",
              "      <td>28.0</td>\n",
              "      <td>11.0</td>\n",
              "      <td>17.0</td>\n",
              "      <td>7.0</td>\n",
              "      <td>3.0</td>\n",
              "      <td>9.0</td>\n",
              "      <td>3.0</td>\n",
              "      <td>3.0</td>\n",
              "      <td>10.0</td>\n",
              "      <td>3.0</td>\n",
              "      <td>3.0</td>\n",
              "      <td>12.0</td>\n",
              "      <td>21.0</td>\n",
              "      <td>11.0</td>\n",
              "      <td>24.0</td>\n",
              "    </tr>\n",
              "  </tbody>\n",
              "</table>\n",
              "</div>"
            ],
            "text/plain": [
              "      0     1     2    3    4    5    6  ...     8    9   10    11    12    13    14\n",
              "0  10.0  18.0  13.0  9.0  2.0  8.0  3.0  ...   8.0  7.0  4.0   7.0  11.0   9.0  13.0\n",
              "1  28.0  11.0  17.0  7.0  3.0  9.0  3.0  ...  10.0  3.0  3.0  12.0  21.0  11.0  24.0\n",
              "\n",
              "[2 rows x 15 columns]"
            ]
          },
          "metadata": {
            "tags": []
          },
          "execution_count": 8
        }
      ]
    },
    {
      "cell_type": "code",
      "metadata": {
        "colab": {
          "base_uri": "https://localhost:8080/",
          "height": 106
        },
        "id": "CFWjHieoHrSl",
        "outputId": "ad4c3f8c-80ca-4bc7-91d9-89701eaeae79"
      },
      "source": [
        "df_reddit = pd.concat([reddit,reddit_all_four_lexicos], axis=1)\n",
        "df_reddit.head(2)\n"
      ],
      "execution_count": 9,
      "outputs": [
        {
          "output_type": "execute_result",
          "data": {
            "text/html": [
              "<div>\n",
              "<style scoped>\n",
              "    .dataframe tbody tr th:only-of-type {\n",
              "        vertical-align: middle;\n",
              "    }\n",
              "\n",
              "    .dataframe tbody tr th {\n",
              "        vertical-align: top;\n",
              "    }\n",
              "\n",
              "    .dataframe thead th {\n",
              "        text-align: right;\n",
              "    }\n",
              "</style>\n",
              "<table border=\"1\" class=\"dataframe\">\n",
              "  <thead>\n",
              "    <tr style=\"text-align: right;\">\n",
              "      <th></th>\n",
              "      <th>label</th>\n",
              "      <th>text</th>\n",
              "      <th>0</th>\n",
              "      <th>1</th>\n",
              "      <th>2</th>\n",
              "      <th>3</th>\n",
              "      <th>4</th>\n",
              "      <th>5</th>\n",
              "      <th>6</th>\n",
              "      <th>7</th>\n",
              "      <th>8</th>\n",
              "      <th>9</th>\n",
              "      <th>10</th>\n",
              "      <th>11</th>\n",
              "      <th>12</th>\n",
              "      <th>13</th>\n",
              "      <th>14</th>\n",
              "    </tr>\n",
              "  </thead>\n",
              "  <tbody>\n",
              "    <tr>\n",
              "      <th>0</th>\n",
              "      <td>negative</td>\n",
              "      <td>My male cousin stopped talking to me all of su...</td>\n",
              "      <td>10.0</td>\n",
              "      <td>18.0</td>\n",
              "      <td>13.0</td>\n",
              "      <td>9.0</td>\n",
              "      <td>2.0</td>\n",
              "      <td>8.0</td>\n",
              "      <td>3.0</td>\n",
              "      <td>5.0</td>\n",
              "      <td>8.0</td>\n",
              "      <td>7.0</td>\n",
              "      <td>4.0</td>\n",
              "      <td>7.0</td>\n",
              "      <td>11.0</td>\n",
              "      <td>9.0</td>\n",
              "      <td>13.0</td>\n",
              "    </tr>\n",
              "    <tr>\n",
              "      <th>1</th>\n",
              "      <td>negative</td>\n",
              "      <td>Drifting away from my best friend\\nMy best fri...</td>\n",
              "      <td>28.0</td>\n",
              "      <td>11.0</td>\n",
              "      <td>17.0</td>\n",
              "      <td>7.0</td>\n",
              "      <td>3.0</td>\n",
              "      <td>9.0</td>\n",
              "      <td>3.0</td>\n",
              "      <td>3.0</td>\n",
              "      <td>10.0</td>\n",
              "      <td>3.0</td>\n",
              "      <td>3.0</td>\n",
              "      <td>12.0</td>\n",
              "      <td>21.0</td>\n",
              "      <td>11.0</td>\n",
              "      <td>24.0</td>\n",
              "    </tr>\n",
              "  </tbody>\n",
              "</table>\n",
              "</div>"
            ],
            "text/plain": [
              "      label                                               text  ...    13    14\n",
              "0  negative  My male cousin stopped talking to me all of su...  ...   9.0  13.0\n",
              "1  negative  Drifting away from my best friend\\nMy best fri...  ...  11.0  24.0\n",
              "\n",
              "[2 rows x 17 columns]"
            ]
          },
          "metadata": {
            "tags": []
          },
          "execution_count": 9
        }
      ]
    },
    {
      "cell_type": "code",
      "metadata": {
        "colab": {
          "base_uri": "https://localhost:8080/"
        },
        "id": "ATgrFk7rLZJx",
        "outputId": "791c8b91-5f45-4805-aa50-488832fa1c22"
      },
      "source": [
        "df_reddit.shape[0]"
      ],
      "execution_count": 10,
      "outputs": [
        {
          "output_type": "execute_result",
          "data": {
            "text/plain": [
              "1841"
            ]
          },
          "metadata": {
            "tags": []
          },
          "execution_count": 10
        }
      ]
    },
    {
      "cell_type": "code",
      "metadata": {
        "id": "973tdrNEQyLn",
        "colab": {
          "base_uri": "https://localhost:8080/",
          "height": 330
        },
        "outputId": "d4208240-63dd-4d9b-c663-e7ba9dcb98aa"
      },
      "source": [
        "columns = ['label', 'text', 'afinn_positive', 'afinn_negative', 'nrc_positive', 'nrc_negative', 'nrc_anger', 'nrc_anticipation', 'nrc_disgust', 'nrc_fear', 'nrc_joy', 'nrc_sadness', 'nrc_surprise', 'nrc_trust', 'mpqa_positive', 'mpqa_negative', 'mpqa_strong_subjectivty']\n",
        "df_reddit=encode_data(df_reddit, columns, encodedict={'positive': 1, 'negative': 0})\n",
        "plot(df_reddit, \"Reddit\") \n"
      ],
      "execution_count": 11,
      "outputs": [
        {
          "output_type": "stream",
          "text": [
            "Dataset: Reddit \n",
            "\n"
          ],
          "name": "stdout"
        },
        {
          "output_type": "execute_result",
          "data": {
            "text/plain": [
              "<matplotlib.axes._subplots.AxesSubplot at 0x7fb21bed4c50>"
            ]
          },
          "metadata": {
            "tags": []
          },
          "execution_count": 11
        },
        {
          "output_type": "display_data",
          "data": {
            "image/png": "[encoded data removed]",
            "text/plain": [
              "<Figure size 432x288 with 1 Axes>"
            ]
          },
          "metadata": {
            "tags": [],
            "needs_background": "light"
          }
        }
      ]
    },
    {
      "cell_type": "code",
      "metadata": {
        "colab": {
          "base_uri": "https://localhost:8080/",
          "height": 278
        },
        "id": "cbqAKkgtQ9Z4",
        "outputId": "f0c87856-5be4-4655-965c-9af45e1ecc27"
      },
      "source": [
        "df_reddit.head(2)"
      ],
      "execution_count": 12,
      "outputs": [
        {
          "output_type": "execute_result",
          "data": {
            "text/html": [
              "<div>\n",
              "<style scoped>\n",
              "    .dataframe tbody tr th:only-of-type {\n",
              "        vertical-align: middle;\n",
              "    }\n",
              "\n",
              "    .dataframe tbody tr th {\n",
              "        vertical-align: top;\n",
              "    }\n",
              "\n",
              "    .dataframe thead th {\n",
              "        text-align: right;\n",
              "    }\n",
              "</style>\n",
              "<table border=\"1\" class=\"dataframe\">\n",
              "  <thead>\n",
              "    <tr style=\"text-align: right;\">\n",
              "      <th></th>\n",
              "      <th>label</th>\n",
              "      <th>text</th>\n",
              "      <th>afinn_positive</th>\n",
              "      <th>afinn_negative</th>\n",
              "      <th>nrc_positive</th>\n",
              "      <th>nrc_negative</th>\n",
              "      <th>nrc_anger</th>\n",
              "      <th>nrc_anticipation</th>\n",
              "      <th>nrc_disgust</th>\n",
              "      <th>nrc_fear</th>\n",
              "      <th>nrc_joy</th>\n",
              "      <th>nrc_sadness</th>\n",
              "      <th>nrc_surprise</th>\n",
              "      <th>nrc_trust</th>\n",
              "      <th>mpqa_positive</th>\n",
              "      <th>mpqa_negative</th>\n",
              "      <th>mpqa_strong_subjectivty</th>\n",
              "    </tr>\n",
              "  </thead>\n",
              "  <tbody>\n",
              "    <tr>\n",
              "      <th>0</th>\n",
              "      <td>0</td>\n",
              "      <td>My male cousin stopped talking to me all of su...</td>\n",
              "      <td>10.0</td>\n",
              "      <td>18.0</td>\n",
              "      <td>13.0</td>\n",
              "      <td>9.0</td>\n",
              "      <td>2.0</td>\n",
              "      <td>8.0</td>\n",
              "      <td>3.0</td>\n",
              "      <td>5.0</td>\n",
              "      <td>8.0</td>\n",
              "      <td>7.0</td>\n",
              "      <td>4.0</td>\n",
              "      <td>7.0</td>\n",
              "      <td>11.0</td>\n",
              "      <td>9.0</td>\n",
              "      <td>13.0</td>\n",
              "    </tr>\n",
              "    <tr>\n",
              "      <th>1</th>\n",
              "      <td>0</td>\n",
              "      <td>Drifting away from my best friend\\nMy best fri...</td>\n",
              "      <td>28.0</td>\n",
              "      <td>11.0</td>\n",
              "      <td>17.0</td>\n",
              "      <td>7.0</td>\n",
              "      <td>3.0</td>\n",
              "      <td>9.0</td>\n",
              "      <td>3.0</td>\n",
              "      <td>3.0</td>\n",
              "      <td>10.0</td>\n",
              "      <td>3.0</td>\n",
              "      <td>3.0</td>\n",
              "      <td>12.0</td>\n",
              "      <td>21.0</td>\n",
              "      <td>11.0</td>\n",
              "      <td>24.0</td>\n",
              "    </tr>\n",
              "  </tbody>\n",
              "</table>\n",
              "</div>"
            ],
            "text/plain": [
              "   label  ... mpqa_strong_subjectivty\n",
              "0      0  ...                    13.0\n",
              "1      0  ...                    24.0\n",
              "\n",
              "[2 rows x 17 columns]"
            ]
          },
          "metadata": {
            "tags": []
          },
          "execution_count": 12
        }
      ]
    },
    {
      "cell_type": "code",
      "metadata": {
        "id": "95FcUxq8Lp7z"
      },
      "source": [
        "X = df_reddit.iloc[:, 2:]\n",
        "y = df_reddit.iloc[:, 0]\n",
        "X_train, X_test, y_train, y_test = split(X, y)\n",
        "X_train, X_test = normalize(StandardScaler(), X_train, X_test)\n",
        "#print(y_test[:10])"
      ],
      "execution_count": 13,
      "outputs": []
    },
    {
      "cell_type": "code",
      "metadata": {
        "colab": {
          "base_uri": "https://localhost:8080/"
        },
        "id": "-ypuH5rncurO",
        "outputId": "8041d791-bf05-483f-f693-542835c4fb9e"
      },
      "source": [
        "Logistic = LogisticRegression(random_state=0, solver='lbfgs')\n",
        "Logistic.fit(X_train, y_train)\n",
        "print(\"Accuracy with training data:\", Logistic.score(X_train, y_train))\n",
        "prob_predicted_train = Logistic.predict_proba(X_train)\n",
        "print(\"Logloss with training data:\", loss_logloss(prob_predicted_train, y_train, weighted=True))\n"
      ],
      "execution_count": 14,
      "outputs": [
        {
          "output_type": "stream",
          "text": [
            "Accuracy with training data: 0.7639902676399026\n",
            "Logloss with training data: 0.6699137756627215\n"
          ],
          "name": "stdout"
        }
      ]
    },
    {
      "cell_type": "code",
      "metadata": {
        "colab": {
          "base_uri": "https://localhost:8080/"
        },
        "id": "oQLQ_gVywOR2",
        "outputId": "90cc015e-401b-45bd-f0cf-7a042ddfee4a"
      },
      "source": [
        "y_pred = Logistic.predict(X_test)\n",
        "print(\"Accuracy with test data:\", Logistic.score(X_test, y_test))\n",
        "\n",
        "y_pred_proba = Logistic.predict_proba(X_test)\n",
        "print(\"Logloss with test data:\", loss_logloss(y_pred_proba, y_test, weighted=True))\n"
      ],
      "execution_count": 15,
      "outputs": [
        {
          "output_type": "stream",
          "text": [
            "Accuracy with test data: 0.7483552631578947\n",
            "Logloss with test data: 0.6374538593708312\n"
          ],
          "name": "stdout"
        }
      ]
    },
    {
      "cell_type": "code",
      "metadata": {
        "colab": {
          "base_uri": "https://localhost:8080/"
        },
        "id": "8_DHv4YWekMw",
        "outputId": "e4b70a38-be20-4ca9-e0ad-4f7c093a339a"
      },
      "source": [
        "print(metrics.classification_report(y_test, y_pred))"
      ],
      "execution_count": 16,
      "outputs": [
        {
          "output_type": "stream",
          "text": [
            "              precision    recall  f1-score   support\n",
            "\n",
            "           0       0.77      0.30      0.44       194\n",
            "           1       0.75      0.96      0.84       414\n",
            "\n",
            "    accuracy                           0.75       608\n",
            "   macro avg       0.76      0.63      0.64       608\n",
            "weighted avg       0.75      0.75      0.71       608\n",
            "\n"
          ],
          "name": "stdout"
        }
      ]
    },
    {
      "cell_type": "code",
      "metadata": {
        "colab": {
          "base_uri": "https://localhost:8080/"
        },
        "id": "1fi-AyAFw5Qi",
        "outputId": "e6fb9df5-6b54-4017-cfdc-cc84cd8e0bab"
      },
      "source": [
        "#Cross validation\n",
        "Logistic = LogisticRegression(random_state=0, solver='lbfgs')\n",
        "Logistic.fit(X_train, y_train)\n",
        "scores = cross_val_score(\n",
        "    Logistic, \n",
        "    X_train, \n",
        "    y_train, \n",
        "    cv=10)\n",
        "print(\"Cross validated accuracy: \", \n",
        "      np.average(scores))\n",
        "print(\"Logistic accuracy on training data: \", \n",
        "      Logistic.score(X_train, y_train))\n",
        "print(\"Logistic accuracy on testing data: \", \n",
        "      Logistic.score(X_test, y_test))\n"
      ],
      "execution_count": 17,
      "outputs": [
        {
          "output_type": "stream",
          "text": [
            "Cross validated accuracy:  0.7623918174665617\n",
            "Logistic accuracy on training data:  0.7639902676399026\n",
            "Logistic accuracy on testing data:  0.7483552631578947\n"
          ],
          "name": "stdout"
        }
      ]
    },
    {
      "cell_type": "markdown",
      "metadata": {
        "id": "A_1OD2NVOxOc"
      },
      "source": [
        "#Lexicon in use is Scentic."
      ]
    },
    {
      "cell_type": "code",
      "metadata": {
        "colab": {
          "base_uri": "https://localhost:8080/"
        },
        "id": "Q7wUfD5wD4au",
        "outputId": "9a95e0dd-1c4a-4d67-a1e5-55823c18ddae"
      },
      "source": [
        "!pip install senticnet\r\n"
      ],
      "execution_count": 20,
      "outputs": [
        {
          "output_type": "stream",
          "text": [
            "Collecting senticnet\n",
            "\u001b[?25l  Downloading https://files.pythonhosted.org/packages/f3/8e/c72d2c5186f762f13d3d8cf63aedeb973b95d45d62b59a63006060073e3a/senticnet-1.6-py3-none-any.whl (51.9MB)\n",
            "\u001b[K     |████████████████████████████████| 51.9MB 103kB/s \n",
            "\u001b[?25hInstalling collected packages: senticnet\n",
            "Successfully installed senticnet-1.6\n"
          ],
          "name": "stdout"
        }
      ]
    },
    {
      "cell_type": "code",
      "metadata": {
        "colab": {
          "base_uri": "https://localhost:8080/"
        },
        "id": "jpWdP0ufDAwP",
        "outputId": "707577c8-c7f0-4ec3-a0de-2417ab107676"
      },
      "source": [
        "from senticnet.senticnet import SenticNet\r\n",
        "import nltk\r\n",
        "from nltk import word_tokenize\r\n",
        "nltk.download('punkt')"
      ],
      "execution_count": 21,
      "outputs": [
        {
          "output_type": "stream",
          "text": [
            "[nltk_data] Downloading package punkt to /root/nltk_data...\n",
            "[nltk_data]   Unzipping tokenizers/punkt.zip.\n"
          ],
          "name": "stdout"
        },
        {
          "output_type": "execute_result",
          "data": {
            "text/plain": [
              "True"
            ]
          },
          "metadata": {
            "tags": []
          },
          "execution_count": 21
        }
      ]
    },
    {
      "cell_type": "code",
      "metadata": {
        "colab": {
          "base_uri": "https://localhost:8080/",
          "height": 106
        },
        "id": "HVy8kbXbFTek",
        "outputId": "0a36a495-4f12-4379-f633-32360ab9aa20"
      },
      "source": [
        "reddit.head(2)"
      ],
      "execution_count": 72,
      "outputs": [
        {
          "output_type": "execute_result",
          "data": {
            "text/html": [
              "<div>\n",
              "<style scoped>\n",
              "    .dataframe tbody tr th:only-of-type {\n",
              "        vertical-align: middle;\n",
              "    }\n",
              "\n",
              "    .dataframe tbody tr th {\n",
              "        vertical-align: top;\n",
              "    }\n",
              "\n",
              "    .dataframe thead th {\n",
              "        text-align: right;\n",
              "    }\n",
              "</style>\n",
              "<table border=\"1\" class=\"dataframe\">\n",
              "  <thead>\n",
              "    <tr style=\"text-align: right;\">\n",
              "      <th></th>\n",
              "      <th>label</th>\n",
              "      <th>text</th>\n",
              "    </tr>\n",
              "  </thead>\n",
              "  <tbody>\n",
              "    <tr>\n",
              "      <th>0</th>\n",
              "      <td>negative</td>\n",
              "      <td>My male cousin stopped talking to me all of su...</td>\n",
              "    </tr>\n",
              "    <tr>\n",
              "      <th>1</th>\n",
              "      <td>negative</td>\n",
              "      <td>Drifting away from my best friend\\nMy best fri...</td>\n",
              "    </tr>\n",
              "  </tbody>\n",
              "</table>\n",
              "</div>"
            ],
            "text/plain": [
              "      label                                               text\n",
              "0  negative  My male cousin stopped talking to me all of su...\n",
              "1  negative  Drifting away from my best friend\\nMy best fri..."
            ]
          },
          "metadata": {
            "tags": []
          },
          "execution_count": 72
        }
      ]
    },
    {
      "cell_type": "code",
      "metadata": {
        "colab": {
          "base_uri": "https://localhost:8080/",
          "height": 510
        },
        "id": "mnMzJ-S_F3w7",
        "outputId": "0287d487-6e7c-42fb-ae59-15b781da7338"
      },
      "source": [
        "reddit_scentic=get_scentic_features(reddit)\r\n",
        "encodedict={'positive': 1, 'negative': 0}\r\n",
        "reddit_scentic['label'] = reddit_scentic['label'].map(encodedict) \r\n",
        "reddit_scentic.head(2)"
      ],
      "execution_count": 73,
      "outputs": [
        {
          "output_type": "stream",
          "text": [
            "/usr/local/lib/python3.7/dist-packages/ipykernel_launcher.py:95: SettingWithCopyWarning: \n",
            "A value is trying to be set on a copy of a slice from a DataFrame\n",
            "\n",
            "See the caveats in the documentation: https://pandas.pydata.org/pandas-docs/stable/user_guide/indexing.html#returning-a-view-versus-a-copy\n",
            "/usr/local/lib/python3.7/dist-packages/ipykernel_launcher.py:96: SettingWithCopyWarning: \n",
            "A value is trying to be set on a copy of a slice from a DataFrame\n",
            "\n",
            "See the caveats in the documentation: https://pandas.pydata.org/pandas-docs/stable/user_guide/indexing.html#returning-a-view-versus-a-copy\n",
            "/usr/local/lib/python3.7/dist-packages/ipykernel_launcher.py:97: SettingWithCopyWarning: \n",
            "A value is trying to be set on a copy of a slice from a DataFrame\n",
            "\n",
            "See the caveats in the documentation: https://pandas.pydata.org/pandas-docs/stable/user_guide/indexing.html#returning-a-view-versus-a-copy\n",
            "/usr/local/lib/python3.7/dist-packages/ipykernel_launcher.py:98: SettingWithCopyWarning: \n",
            "A value is trying to be set on a copy of a slice from a DataFrame\n",
            "\n",
            "See the caveats in the documentation: https://pandas.pydata.org/pandas-docs/stable/user_guide/indexing.html#returning-a-view-versus-a-copy\n",
            "/usr/local/lib/python3.7/dist-packages/ipykernel_launcher.py:99: SettingWithCopyWarning: \n",
            "A value is trying to be set on a copy of a slice from a DataFrame\n",
            "\n",
            "See the caveats in the documentation: https://pandas.pydata.org/pandas-docs/stable/user_guide/indexing.html#returning-a-view-versus-a-copy\n",
            "/usr/local/lib/python3.7/dist-packages/ipykernel_launcher.py:100: SettingWithCopyWarning: \n",
            "A value is trying to be set on a copy of a slice from a DataFrame\n",
            "\n",
            "See the caveats in the documentation: https://pandas.pydata.org/pandas-docs/stable/user_guide/indexing.html#returning-a-view-versus-a-copy\n"
          ],
          "name": "stderr"
        },
        {
          "output_type": "execute_result",
          "data": {
            "text/html": [
              "<div>\n",
              "<style scoped>\n",
              "    .dataframe tbody tr th:only-of-type {\n",
              "        vertical-align: middle;\n",
              "    }\n",
              "\n",
              "    .dataframe tbody tr th {\n",
              "        vertical-align: top;\n",
              "    }\n",
              "\n",
              "    .dataframe thead th {\n",
              "        text-align: right;\n",
              "    }\n",
              "</style>\n",
              "<table border=\"1\" class=\"dataframe\">\n",
              "  <thead>\n",
              "    <tr style=\"text-align: right;\">\n",
              "      <th></th>\n",
              "      <th>label</th>\n",
              "      <th>text</th>\n",
              "      <th>polarity_value</th>\n",
              "      <th>polarity_label</th>\n",
              "      <th>sensitivity</th>\n",
              "      <th>introspection</th>\n",
              "      <th>temper</th>\n",
              "      <th>attitude</th>\n",
              "    </tr>\n",
              "  </thead>\n",
              "  <tbody>\n",
              "    <tr>\n",
              "      <th>0</th>\n",
              "      <td>0</td>\n",
              "      <td>My male cousin stopped talking to me all of su...</td>\n",
              "      <td>13</td>\n",
              "      <td>33</td>\n",
              "      <td>13</td>\n",
              "      <td>12</td>\n",
              "      <td>-3</td>\n",
              "      <td>4</td>\n",
              "    </tr>\n",
              "    <tr>\n",
              "      <th>1</th>\n",
              "      <td>0</td>\n",
              "      <td>Drifting away from my best friend\\nMy best fri...</td>\n",
              "      <td>6</td>\n",
              "      <td>28</td>\n",
              "      <td>10</td>\n",
              "      <td>6</td>\n",
              "      <td>-2</td>\n",
              "      <td>1</td>\n",
              "    </tr>\n",
              "  </tbody>\n",
              "</table>\n",
              "</div>"
            ],
            "text/plain": [
              "   label                                               text  ...  temper  attitude\n",
              "0      0  My male cousin stopped talking to me all of su...  ...      -3         4\n",
              "1      0  Drifting away from my best friend\\nMy best fri...  ...      -2         1\n",
              "\n",
              "[2 rows x 8 columns]"
            ]
          },
          "metadata": {
            "tags": []
          },
          "execution_count": 73
        }
      ]
    },
    {
      "cell_type": "code",
      "metadata": {
        "id": "nEfpG1KuH65l"
      },
      "source": [
        "X = reddit_scentic.iloc[:, 2:]\r\n",
        "y = reddit_scentic.iloc[:, 0]\r\n",
        "X_train, X_test, y_train, y_test = split(X, y)\r\n",
        "X_train, X_test = normalize(StandardScaler(), X_train, X_test)\r\n",
        "#print(y_test[:10])"
      ],
      "execution_count": 74,
      "outputs": []
    },
    {
      "cell_type": "code",
      "metadata": {
        "colab": {
          "base_uri": "https://localhost:8080/"
        },
        "id": "KRygh2nJNj_s",
        "outputId": "6affd403-abe8-417a-dd13-8745508fb0a3"
      },
      "source": [
        "Logistic = LogisticRegression(random_state=0, solver='lbfgs')\r\n",
        "Logistic.fit(X_train, y_train)\r\n",
        "print(\"Accuracy with training data:\", Logistic.score(X_train, y_train))\r\n",
        "prob_predicted_train = Logistic.predict_proba(X_train)\r\n",
        "print(\"Logloss with training data:\", loss_logloss(prob_predicted_train, y_train, weighted=True))\r\n"
      ],
      "execution_count": 75,
      "outputs": [
        {
          "output_type": "stream",
          "text": [
            "Accuracy with training data: 0.7696674776966748\n",
            "Logloss with training data: 0.6727347780987293\n"
          ],
          "name": "stdout"
        }
      ]
    },
    {
      "cell_type": "code",
      "metadata": {
        "colab": {
          "base_uri": "https://localhost:8080/"
        },
        "id": "62oXlwTwNvCc",
        "outputId": "88eca55e-9473-4400-9fbb-ddd5becd0ea5"
      },
      "source": [
        "y_pred = Logistic.predict(X_test)\r\n",
        "print(\"Accuracy with test data:\", Logistic.score(X_test, y_test))\r\n",
        "\r\n",
        "y_pred_proba = Logistic.predict_proba(X_test)\r\n",
        "print(\"Logloss with test data:\", loss_logloss(y_pred_proba, y_test, weighted=True))\r\n"
      ],
      "execution_count": 76,
      "outputs": [
        {
          "output_type": "stream",
          "text": [
            "Accuracy with test data: 0.7483552631578947\n",
            "Logloss with test data: 0.6612992608096722\n"
          ],
          "name": "stdout"
        }
      ]
    },
    {
      "cell_type": "code",
      "metadata": {
        "colab": {
          "base_uri": "https://localhost:8080/"
        },
        "id": "TzCWbQGfN63b",
        "outputId": "dc77213c-223e-4e2d-f0bd-f5fd3094e69b"
      },
      "source": [
        "print(metrics.classification_report(y_test, y_pred))"
      ],
      "execution_count": 77,
      "outputs": [
        {
          "output_type": "stream",
          "text": [
            "              precision    recall  f1-score   support\n",
            "\n",
            "           0       0.74      0.32      0.45       194\n",
            "           1       0.75      0.95      0.84       414\n",
            "\n",
            "    accuracy                           0.75       608\n",
            "   macro avg       0.75      0.64      0.64       608\n",
            "weighted avg       0.75      0.75      0.71       608\n",
            "\n"
          ],
          "name": "stdout"
        }
      ]
    },
    {
      "cell_type": "code",
      "metadata": {
        "colab": {
          "base_uri": "https://localhost:8080/"
        },
        "id": "Pak-Hvj7OAJ8",
        "outputId": "37dcfbb5-a19f-4013-b978-e81162653b46"
      },
      "source": [
        "#Cross validation\r\n",
        "Logistic = LogisticRegression(random_state=0, solver='lbfgs')\r\n",
        "Logistic.fit(X_train, y_train)\r\n",
        "scores = cross_val_score(\r\n",
        "    Logistic, \r\n",
        "    X_train, \r\n",
        "    y_train, \r\n",
        "    cv=10)\r\n",
        "print(\"Cross validated accuracy: \", \r\n",
        "      np.average(scores))\r\n",
        "print(\"Logistic accuracy on training data: \", \r\n",
        "      Logistic.score(X_train, y_train))\r\n",
        "print(\"Logistic accuracy on testing data: \", \r\n",
        "      Logistic.score(X_test, y_test))\r\n"
      ],
      "execution_count": 78,
      "outputs": [
        {
          "output_type": "stream",
          "text": [
            "Cross validated accuracy:  0.7656176239181747\n",
            "Logistic accuracy on training data:  0.7696674776966748\n",
            "Logistic accuracy on testing data:  0.7483552631578947\n"
          ],
          "name": "stdout"
        }
      ]
    },
    {
      "cell_type": "markdown",
      "metadata": {
        "id": "zY2BAWtf4D0p"
      },
      "source": [
        "\n",
        "\n",
        "#Mixed Dataset"
      ]
    },
    {
      "cell_type": "code",
      "metadata": {
        "id": "yhvCPvbMwvVi"
      },
      "source": [
        "Mixed= pd.read_csv(Path('/content/drive/My Drive/DSP/data/bachelor/Mixed.csv'))"
      ],
      "execution_count": 79,
      "outputs": []
    },
    {
      "cell_type": "code",
      "metadata": {
        "colab": {
          "base_uri": "https://localhost:8080/",
          "height": 106
        },
        "id": "qM-jxnAT4H5W",
        "outputId": "006e8bec-4a69-4c1c-83a6-dad3fe25b473"
      },
      "source": [
        "Mixed.head(2)"
      ],
      "execution_count": 80,
      "outputs": [
        {
          "output_type": "execute_result",
          "data": {
            "text/html": [
              "<div>\n",
              "<style scoped>\n",
              "    .dataframe tbody tr th:only-of-type {\n",
              "        vertical-align: middle;\n",
              "    }\n",
              "\n",
              "    .dataframe tbody tr th {\n",
              "        vertical-align: top;\n",
              "    }\n",
              "\n",
              "    .dataframe thead th {\n",
              "        text-align: right;\n",
              "    }\n",
              "</style>\n",
              "<table border=\"1\" class=\"dataframe\">\n",
              "  <thead>\n",
              "    <tr style=\"text-align: right;\">\n",
              "      <th></th>\n",
              "      <th>label</th>\n",
              "      <th>text</th>\n",
              "    </tr>\n",
              "  </thead>\n",
              "  <tbody>\n",
              "    <tr>\n",
              "      <th>0</th>\n",
              "      <td>negative</td>\n",
              "      <td>My male cousin stopped talking to me all of su...</td>\n",
              "    </tr>\n",
              "    <tr>\n",
              "      <th>1</th>\n",
              "      <td>negative</td>\n",
              "      <td>Drifting away from my best friend\\nMy best fri...</td>\n",
              "    </tr>\n",
              "  </tbody>\n",
              "</table>\n",
              "</div>"
            ],
            "text/plain": [
              "      label                                               text\n",
              "0  negative  My male cousin stopped talking to me all of su...\n",
              "1  negative  Drifting away from my best friend\\nMy best fri..."
            ]
          },
          "metadata": {
            "tags": []
          },
          "execution_count": 80
        }
      ]
    },
    {
      "cell_type": "code",
      "metadata": {
        "id": "GG_lPMKx4U9N"
      },
      "source": [
        "mixed_all_four_lexicons= pd.read_csv(Path('/content/drive/My Drive/DSP/data/bachelor/Mixed_afinn_nrc_nrc_sa_mpqa.csv'))"
      ],
      "execution_count": 29,
      "outputs": []
    },
    {
      "cell_type": "code",
      "metadata": {
        "colab": {
          "base_uri": "https://localhost:8080/",
          "height": 106
        },
        "id": "Z_iYUU_F4n-v",
        "outputId": "d14cf288-7d00-465d-97aa-cc3eff9e201f"
      },
      "source": [
        "df_mixed = pd.concat([Mixed,mixed_all_four_lexicons], axis=1)\n",
        "df_mixed.head(2)"
      ],
      "execution_count": 30,
      "outputs": [
        {
          "output_type": "execute_result",
          "data": {
            "text/html": [
              "<div>\n",
              "<style scoped>\n",
              "    .dataframe tbody tr th:only-of-type {\n",
              "        vertical-align: middle;\n",
              "    }\n",
              "\n",
              "    .dataframe tbody tr th {\n",
              "        vertical-align: top;\n",
              "    }\n",
              "\n",
              "    .dataframe thead th {\n",
              "        text-align: right;\n",
              "    }\n",
              "</style>\n",
              "<table border=\"1\" class=\"dataframe\">\n",
              "  <thead>\n",
              "    <tr style=\"text-align: right;\">\n",
              "      <th></th>\n",
              "      <th>label</th>\n",
              "      <th>text</th>\n",
              "      <th>0</th>\n",
              "      <th>1</th>\n",
              "      <th>2</th>\n",
              "      <th>3</th>\n",
              "      <th>4</th>\n",
              "      <th>5</th>\n",
              "      <th>6</th>\n",
              "      <th>7</th>\n",
              "      <th>8</th>\n",
              "      <th>9</th>\n",
              "      <th>10</th>\n",
              "      <th>11</th>\n",
              "      <th>12</th>\n",
              "      <th>13</th>\n",
              "      <th>14</th>\n",
              "    </tr>\n",
              "  </thead>\n",
              "  <tbody>\n",
              "    <tr>\n",
              "      <th>0</th>\n",
              "      <td>negative</td>\n",
              "      <td>My male cousin stopped talking to me all of su...</td>\n",
              "      <td>10.0</td>\n",
              "      <td>18.0</td>\n",
              "      <td>13.0</td>\n",
              "      <td>9.0</td>\n",
              "      <td>2.0</td>\n",
              "      <td>8.0</td>\n",
              "      <td>3.0</td>\n",
              "      <td>5.0</td>\n",
              "      <td>8.0</td>\n",
              "      <td>7.0</td>\n",
              "      <td>4.0</td>\n",
              "      <td>7.0</td>\n",
              "      <td>11.0</td>\n",
              "      <td>9.0</td>\n",
              "      <td>13.0</td>\n",
              "    </tr>\n",
              "    <tr>\n",
              "      <th>1</th>\n",
              "      <td>negative</td>\n",
              "      <td>Drifting away from my best friend\\nMy best fri...</td>\n",
              "      <td>28.0</td>\n",
              "      <td>11.0</td>\n",
              "      <td>17.0</td>\n",
              "      <td>7.0</td>\n",
              "      <td>3.0</td>\n",
              "      <td>9.0</td>\n",
              "      <td>3.0</td>\n",
              "      <td>3.0</td>\n",
              "      <td>10.0</td>\n",
              "      <td>3.0</td>\n",
              "      <td>3.0</td>\n",
              "      <td>12.0</td>\n",
              "      <td>21.0</td>\n",
              "      <td>11.0</td>\n",
              "      <td>24.0</td>\n",
              "    </tr>\n",
              "  </tbody>\n",
              "</table>\n",
              "</div>"
            ],
            "text/plain": [
              "      label                                               text  ...    13    14\n",
              "0  negative  My male cousin stopped talking to me all of su...  ...   9.0  13.0\n",
              "1  negative  Drifting away from my best friend\\nMy best fri...  ...  11.0  24.0\n",
              "\n",
              "[2 rows x 17 columns]"
            ]
          },
          "metadata": {
            "tags": []
          },
          "execution_count": 30
        }
      ]
    },
    {
      "cell_type": "code",
      "metadata": {
        "colab": {
          "base_uri": "https://localhost:8080/"
        },
        "id": "UEpGliaj6AFt",
        "outputId": "28f9055d-cd98-405d-a5ac-fec9370860b7"
      },
      "source": [
        "df_mixed.shape[0]"
      ],
      "execution_count": 31,
      "outputs": [
        {
          "output_type": "execute_result",
          "data": {
            "text/plain": [
              "2810"
            ]
          },
          "metadata": {
            "tags": []
          },
          "execution_count": 31
        }
      ]
    },
    {
      "cell_type": "code",
      "metadata": {
        "id": "0CCc5-Gu6YCJ",
        "colab": {
          "base_uri": "https://localhost:8080/",
          "height": 330
        },
        "outputId": "10cb23d6-65a4-4ff9-be82-e7f2615b1dba"
      },
      "source": [
        "columns = ['label', 'text', 'afinn_positive', 'afinn_negative', 'nrc_positive', 'nrc_negative', 'nrc_anger', 'nrc_anticipation', 'nrc_disgust', 'nrc_fear', 'nrc_joy', 'nrc_sadness', 'nrc_surprise', 'nrc_trust', 'mpqa_positive', 'mpqa_negative', 'mpqa_strong_subjectivty']\n",
        "df_mixed=encode_data(df_mixed, columns, encodedict={'positive': 1, 'negative': 0})\n",
        "plot(df_mixed, \"Mixed\") \n"
      ],
      "execution_count": 32,
      "outputs": [
        {
          "output_type": "stream",
          "text": [
            "Dataset: Mixed \n",
            "\n"
          ],
          "name": "stdout"
        },
        {
          "output_type": "execute_result",
          "data": {
            "text/plain": [
              "<matplotlib.axes._subplots.AxesSubplot at 0x7fb20ac2e150>"
            ]
          },
          "metadata": {
            "tags": []
          },
          "execution_count": 32
        },
        {
          "output_type": "display_data",
          "data": {
            "image/png": "[encoded data removed]",
            "text/plain": [
              "<Figure size 432x288 with 1 Axes>"
            ]
          },
          "metadata": {
            "tags": [],
            "needs_background": "light"
          }
        }
      ]
    },
    {
      "cell_type": "code",
      "metadata": {
        "id": "XSPAcR4wiMiq"
      },
      "source": [
        "X = df_mixed.iloc[:, 2:]\n",
        "y = df_mixed.iloc[:, 0]\n",
        "X_train, X_test, y_train, y_test = split(X, y)\n",
        "X_train, X_test = normalize(StandardScaler(), X_train, X_test)\n",
        "#print(y_test[:10])"
      ],
      "execution_count": 33,
      "outputs": []
    },
    {
      "cell_type": "code",
      "metadata": {
        "colab": {
          "base_uri": "https://localhost:8080/"
        },
        "id": "PufR3rakiWFM",
        "outputId": "ab129313-dfc9-4299-841d-62ed065bdc68"
      },
      "source": [
        "Logistic = LogisticRegression(random_state=0, solver='lbfgs')\n",
        "Logistic.fit(X_train, y_train)\n",
        "print(\"Accuracy with training data:\", Logistic.score(X_train, y_train))\n",
        "prob_predicted_train = Logistic.predict_proba(X_train)\n",
        "print(\"Logloss with training data:\", loss_logloss(prob_predicted_train, y_train, weighted=False))"
      ],
      "execution_count": 34,
      "outputs": [
        {
          "output_type": "stream",
          "text": [
            "Accuracy with training data: 0.6992561105207227\n",
            "Logloss with training data: 0.6006821871982311\n"
          ],
          "name": "stdout"
        }
      ]
    },
    {
      "cell_type": "code",
      "metadata": {
        "colab": {
          "base_uri": "https://localhost:8080/"
        },
        "id": "beOcZlZWijqz",
        "outputId": "6164d558-b19a-4033-c410-d7a694b4201a"
      },
      "source": [
        "y_pred = Logistic.predict(X_test)\n",
        "print(\"Accuracy with test data:\", Logistic.score(X_test, y_test))\n",
        "\n",
        "y_pred_proba = Logistic.predict_proba(X_test)\n",
        "print(\"Logloss with test data:\", loss_logloss(y_pred_proba, y_test, weighted=False))\n"
      ],
      "execution_count": 35,
      "outputs": [
        {
          "output_type": "stream",
          "text": [
            "Accuracy with test data: 0.7122844827586207\n",
            "Logloss with test data: 0.5910839793065426\n"
          ],
          "name": "stdout"
        }
      ]
    },
    {
      "cell_type": "code",
      "metadata": {
        "colab": {
          "base_uri": "https://localhost:8080/"
        },
        "id": "7RHKCOzBiq6i",
        "outputId": "a2d598ff-0203-483b-ddac-d63acac63132"
      },
      "source": [
        "print(metrics.classification_report(y_test, y_pred))"
      ],
      "execution_count": 36,
      "outputs": [
        {
          "output_type": "stream",
          "text": [
            "              precision    recall  f1-score   support\n",
            "\n",
            "           0       0.68      0.83      0.75       474\n",
            "           1       0.77      0.59      0.67       454\n",
            "\n",
            "    accuracy                           0.71       928\n",
            "   macro avg       0.72      0.71      0.71       928\n",
            "weighted avg       0.72      0.71      0.71       928\n",
            "\n"
          ],
          "name": "stdout"
        }
      ]
    },
    {
      "cell_type": "code",
      "metadata": {
        "colab": {
          "base_uri": "https://localhost:8080/"
        },
        "id": "1of8iUbHixbx",
        "outputId": "75b4da67-2798-49e3-fb70-9f71e24cd1da"
      },
      "source": [
        "#Cross validation\n",
        "Logistic = LogisticRegression(random_state=0, solver='lbfgs')\n",
        "Logistic.fit(X_train, y_train)\n",
        "scores = cross_val_score(\n",
        "    Logistic, \n",
        "    X_train, \n",
        "    y_train, \n",
        "    cv=10)\n",
        "print(\"Cross validated accuracy: \", \n",
        "      np.average(scores))\n",
        "print(\"Logistic accuracy on training data: \", \n",
        "      Logistic.score(X_train, y_train))\n",
        "print(\"Logistic accuracy on testing data: \", \n",
        "      Logistic.score(X_test, y_test))\n"
      ],
      "execution_count": 37,
      "outputs": [
        {
          "output_type": "stream",
          "text": [
            "Cross validated accuracy:  0.6896994258696386\n",
            "Logistic accuracy on training data:  0.6992561105207227\n",
            "Logistic accuracy on testing data:  0.7122844827586207\n"
          ],
          "name": "stdout"
        }
      ]
    },
    {
      "cell_type": "markdown",
      "metadata": {
        "id": "ld-j7basPH1z"
      },
      "source": [
        "#Lexicon in use is Scentic."
      ]
    },
    {
      "cell_type": "code",
      "metadata": {
        "colab": {
          "base_uri": "https://localhost:8080/",
          "height": 106
        },
        "id": "DgW1ahIoGqT0",
        "outputId": "cdc34f57-0d17-438c-be9f-16daf48d1aa4"
      },
      "source": [
        "Mixed.head(2)"
      ],
      "execution_count": 81,
      "outputs": [
        {
          "output_type": "execute_result",
          "data": {
            "text/html": [
              "<div>\n",
              "<style scoped>\n",
              "    .dataframe tbody tr th:only-of-type {\n",
              "        vertical-align: middle;\n",
              "    }\n",
              "\n",
              "    .dataframe tbody tr th {\n",
              "        vertical-align: top;\n",
              "    }\n",
              "\n",
              "    .dataframe thead th {\n",
              "        text-align: right;\n",
              "    }\n",
              "</style>\n",
              "<table border=\"1\" class=\"dataframe\">\n",
              "  <thead>\n",
              "    <tr style=\"text-align: right;\">\n",
              "      <th></th>\n",
              "      <th>label</th>\n",
              "      <th>text</th>\n",
              "    </tr>\n",
              "  </thead>\n",
              "  <tbody>\n",
              "    <tr>\n",
              "      <th>0</th>\n",
              "      <td>negative</td>\n",
              "      <td>My male cousin stopped talking to me all of su...</td>\n",
              "    </tr>\n",
              "    <tr>\n",
              "      <th>1</th>\n",
              "      <td>negative</td>\n",
              "      <td>Drifting away from my best friend\\nMy best fri...</td>\n",
              "    </tr>\n",
              "  </tbody>\n",
              "</table>\n",
              "</div>"
            ],
            "text/plain": [
              "      label                                               text\n",
              "0  negative  My male cousin stopped talking to me all of su...\n",
              "1  negative  Drifting away from my best friend\\nMy best fri..."
            ]
          },
          "metadata": {
            "tags": []
          },
          "execution_count": 81
        }
      ]
    },
    {
      "cell_type": "code",
      "metadata": {
        "colab": {
          "base_uri": "https://localhost:8080/",
          "height": 510
        },
        "id": "G70LffYJGwaS",
        "outputId": "d578c107-9b63-4bec-9fad-b70adf2c8e66"
      },
      "source": [
        "mixed_scentic=get_scentic_features(Mixed)\r\n",
        "encodedict={'positive': 1, 'negative': 0}\r\n",
        "mixed_scentic['label'] = mixed_scentic['label'].map(encodedict) \r\n",
        "mixed_scentic.head(2)"
      ],
      "execution_count": 82,
      "outputs": [
        {
          "output_type": "stream",
          "text": [
            "/usr/local/lib/python3.7/dist-packages/ipykernel_launcher.py:95: SettingWithCopyWarning: \n",
            "A value is trying to be set on a copy of a slice from a DataFrame\n",
            "\n",
            "See the caveats in the documentation: https://pandas.pydata.org/pandas-docs/stable/user_guide/indexing.html#returning-a-view-versus-a-copy\n",
            "/usr/local/lib/python3.7/dist-packages/ipykernel_launcher.py:96: SettingWithCopyWarning: \n",
            "A value is trying to be set on a copy of a slice from a DataFrame\n",
            "\n",
            "See the caveats in the documentation: https://pandas.pydata.org/pandas-docs/stable/user_guide/indexing.html#returning-a-view-versus-a-copy\n",
            "/usr/local/lib/python3.7/dist-packages/ipykernel_launcher.py:97: SettingWithCopyWarning: \n",
            "A value is trying to be set on a copy of a slice from a DataFrame\n",
            "\n",
            "See the caveats in the documentation: https://pandas.pydata.org/pandas-docs/stable/user_guide/indexing.html#returning-a-view-versus-a-copy\n",
            "/usr/local/lib/python3.7/dist-packages/ipykernel_launcher.py:98: SettingWithCopyWarning: \n",
            "A value is trying to be set on a copy of a slice from a DataFrame\n",
            "\n",
            "See the caveats in the documentation: https://pandas.pydata.org/pandas-docs/stable/user_guide/indexing.html#returning-a-view-versus-a-copy\n",
            "/usr/local/lib/python3.7/dist-packages/ipykernel_launcher.py:99: SettingWithCopyWarning: \n",
            "A value is trying to be set on a copy of a slice from a DataFrame\n",
            "\n",
            "See the caveats in the documentation: https://pandas.pydata.org/pandas-docs/stable/user_guide/indexing.html#returning-a-view-versus-a-copy\n",
            "/usr/local/lib/python3.7/dist-packages/ipykernel_launcher.py:100: SettingWithCopyWarning: \n",
            "A value is trying to be set on a copy of a slice from a DataFrame\n",
            "\n",
            "See the caveats in the documentation: https://pandas.pydata.org/pandas-docs/stable/user_guide/indexing.html#returning-a-view-versus-a-copy\n"
          ],
          "name": "stderr"
        },
        {
          "output_type": "execute_result",
          "data": {
            "text/html": [
              "<div>\n",
              "<style scoped>\n",
              "    .dataframe tbody tr th:only-of-type {\n",
              "        vertical-align: middle;\n",
              "    }\n",
              "\n",
              "    .dataframe tbody tr th {\n",
              "        vertical-align: top;\n",
              "    }\n",
              "\n",
              "    .dataframe thead th {\n",
              "        text-align: right;\n",
              "    }\n",
              "</style>\n",
              "<table border=\"1\" class=\"dataframe\">\n",
              "  <thead>\n",
              "    <tr style=\"text-align: right;\">\n",
              "      <th></th>\n",
              "      <th>label</th>\n",
              "      <th>text</th>\n",
              "      <th>polarity_value</th>\n",
              "      <th>polarity_label</th>\n",
              "      <th>sensitivity</th>\n",
              "      <th>introspection</th>\n",
              "      <th>temper</th>\n",
              "      <th>attitude</th>\n",
              "    </tr>\n",
              "  </thead>\n",
              "  <tbody>\n",
              "    <tr>\n",
              "      <th>0</th>\n",
              "      <td>0</td>\n",
              "      <td>My male cousin stopped talking to me all of su...</td>\n",
              "      <td>13</td>\n",
              "      <td>33</td>\n",
              "      <td>13</td>\n",
              "      <td>12</td>\n",
              "      <td>-3</td>\n",
              "      <td>4</td>\n",
              "    </tr>\n",
              "    <tr>\n",
              "      <th>1</th>\n",
              "      <td>0</td>\n",
              "      <td>Drifting away from my best friend\\nMy best fri...</td>\n",
              "      <td>6</td>\n",
              "      <td>28</td>\n",
              "      <td>10</td>\n",
              "      <td>6</td>\n",
              "      <td>-2</td>\n",
              "      <td>1</td>\n",
              "    </tr>\n",
              "  </tbody>\n",
              "</table>\n",
              "</div>"
            ],
            "text/plain": [
              "   label                                               text  ...  temper  attitude\n",
              "0      0  My male cousin stopped talking to me all of su...  ...      -3         4\n",
              "1      0  Drifting away from my best friend\\nMy best fri...  ...      -2         1\n",
              "\n",
              "[2 rows x 8 columns]"
            ]
          },
          "metadata": {
            "tags": []
          },
          "execution_count": 82
        }
      ]
    },
    {
      "cell_type": "code",
      "metadata": {
        "colab": {
          "base_uri": "https://localhost:8080/"
        },
        "id": "d5zUlfoZNnW2",
        "outputId": "cd9073d8-240b-47a8-85d5-f128dbfe733b"
      },
      "source": [
        "Logistic = LogisticRegression(random_state=0, solver='lbfgs')\r\n",
        "Logistic.fit(X_train, y_train)\r\n",
        "print(\"Accuracy with training data:\", Logistic.score(X_train, y_train))\r\n",
        "prob_predicted_train = Logistic.predict_proba(X_train)\r\n",
        "print(\"Logloss with training data:\", loss_logloss(prob_predicted_train, y_train, weighted=True))\r\n"
      ],
      "execution_count": 83,
      "outputs": [
        {
          "output_type": "stream",
          "text": [
            "Accuracy with training data: 0.7696674776966748\n",
            "Logloss with training data: 0.6727347780987293\n"
          ],
          "name": "stdout"
        }
      ]
    },
    {
      "cell_type": "code",
      "metadata": {
        "colab": {
          "base_uri": "https://localhost:8080/"
        },
        "id": "5oQxaCBrNtGK",
        "outputId": "ee82ebbc-e979-45be-cf39-15666a97f45b"
      },
      "source": [
        "y_pred = Logistic.predict(X_test)\r\n",
        "print(\"Accuracy with test data:\", Logistic.score(X_test, y_test))\r\n",
        "\r\n",
        "y_pred_proba = Logistic.predict_proba(X_test)\r\n",
        "print(\"Logloss with test data:\", loss_logloss(y_pred_proba, y_test, weighted=True))\r\n"
      ],
      "execution_count": 84,
      "outputs": [
        {
          "output_type": "stream",
          "text": [
            "Accuracy with test data: 0.7483552631578947\n",
            "Logloss with test data: 0.6612992608096722\n"
          ],
          "name": "stdout"
        }
      ]
    },
    {
      "cell_type": "code",
      "metadata": {
        "colab": {
          "base_uri": "https://localhost:8080/"
        },
        "id": "hBxwyOCLN5De",
        "outputId": "807fc0b8-64fa-41fe-c888-c7c3acdd1b38"
      },
      "source": [
        "print(metrics.classification_report(y_test, y_pred))"
      ],
      "execution_count": 85,
      "outputs": [
        {
          "output_type": "stream",
          "text": [
            "              precision    recall  f1-score   support\n",
            "\n",
            "           0       0.74      0.32      0.45       194\n",
            "           1       0.75      0.95      0.84       414\n",
            "\n",
            "    accuracy                           0.75       608\n",
            "   macro avg       0.75      0.64      0.64       608\n",
            "weighted avg       0.75      0.75      0.71       608\n",
            "\n"
          ],
          "name": "stdout"
        }
      ]
    },
    {
      "cell_type": "code",
      "metadata": {
        "colab": {
          "base_uri": "https://localhost:8080/"
        },
        "id": "dsLxWy2wOCp4",
        "outputId": "541c7c2c-4f7e-48f4-e2f6-73b05accedd8"
      },
      "source": [
        "#Cross validation\r\n",
        "Logistic = LogisticRegression(random_state=0, solver='lbfgs')\r\n",
        "Logistic.fit(X_train, y_train)\r\n",
        "scores = cross_val_score(\r\n",
        "    Logistic, \r\n",
        "    X_train, \r\n",
        "    y_train, \r\n",
        "    cv=10)\r\n",
        "print(\"Cross validated accuracy: \", \r\n",
        "      np.average(scores))\r\n",
        "print(\"Logistic accuracy on training data: \", \r\n",
        "      Logistic.score(X_train, y_train))\r\n",
        "print(\"Logistic accuracy on testing data: \", \r\n",
        "      Logistic.score(X_test, y_test))\r\n"
      ],
      "execution_count": 86,
      "outputs": [
        {
          "output_type": "stream",
          "text": [
            "Cross validated accuracy:  0.7656176239181747\n",
            "Logistic accuracy on training data:  0.7696674776966748\n",
            "Logistic accuracy on testing data:  0.7483552631578947\n"
          ],
          "name": "stdout"
        }
      ]
    },
    {
      "cell_type": "markdown",
      "metadata": {
        "id": "D4P1X3dnkWIX"
      },
      "source": [
        "#CLPsych Dataset"
      ]
    },
    {
      "cell_type": "code",
      "metadata": {
        "id": "xH9eWPSTznn2"
      },
      "source": [
        "df_clpsych_train= pd.read_csv(Path('/content/drive/My Drive/DSP/data/bachelor/CLPsych_train_binary.csv'))"
      ],
      "execution_count": 122,
      "outputs": []
    },
    {
      "cell_type": "code",
      "metadata": {
        "id": "W95Oa3lTzp_u"
      },
      "source": [
        "df_clpsych_test= pd.read_csv(Path('/content/drive/My Drive/DSP/data/bachelor/CLPsych_test_binary.csv'))"
      ],
      "execution_count": 123,
      "outputs": []
    },
    {
      "cell_type": "code",
      "metadata": {
        "id": "Q4pj57gBArXW"
      },
      "source": [
        "#train\n",
        "clpsych_all_four_lexicons_train= pd.read_csv(Path('/content/drive/My Drive/DSP/data/bachelor/clpsych_afinn_nrc_nrc_sa_mpqa_train.csv'))"
      ],
      "execution_count": 100,
      "outputs": []
    },
    {
      "cell_type": "code",
      "metadata": {
        "id": "FuGHHjW80egA"
      },
      "source": [
        "#test\n",
        "clpsych_all_four_lexicons_test= pd.read_csv(Path('/content/drive/My Drive/DSP/data/bachelor/clpsych_afinn_nrc_nrc_sa_mpqa_test.csv'))"
      ],
      "execution_count": 101,
      "outputs": []
    },
    {
      "cell_type": "code",
      "metadata": {
        "colab": {
          "base_uri": "https://localhost:8080/",
          "height": 140
        },
        "id": "s1tbKkKQ06bf",
        "outputId": "e17432f3-2d3c-4707-d598-91b078a112f8"
      },
      "source": [
        "train_clpsych= pd.concat([df_clpsych_train, clpsych_all_four_lexicons_train], axis=1)\n",
        "train_clpsych.head(2)"
      ],
      "execution_count": 102,
      "outputs": [
        {
          "output_type": "execute_result",
          "data": {
            "text/html": [
              "<div>\n",
              "<style scoped>\n",
              "    .dataframe tbody tr th:only-of-type {\n",
              "        vertical-align: middle;\n",
              "    }\n",
              "\n",
              "    .dataframe tbody tr th {\n",
              "        vertical-align: top;\n",
              "    }\n",
              "\n",
              "    .dataframe thead th {\n",
              "        text-align: right;\n",
              "    }\n",
              "</style>\n",
              "<table border=\"1\" class=\"dataframe\">\n",
              "  <thead>\n",
              "    <tr style=\"text-align: right;\">\n",
              "      <th></th>\n",
              "      <th>label</th>\n",
              "      <th>text</th>\n",
              "      <th>0</th>\n",
              "      <th>1</th>\n",
              "      <th>2</th>\n",
              "      <th>3</th>\n",
              "      <th>4</th>\n",
              "      <th>5</th>\n",
              "      <th>6</th>\n",
              "      <th>7</th>\n",
              "      <th>8</th>\n",
              "      <th>9</th>\n",
              "      <th>10</th>\n",
              "      <th>11</th>\n",
              "      <th>12</th>\n",
              "      <th>13</th>\n",
              "      <th>14</th>\n",
              "    </tr>\n",
              "  </thead>\n",
              "  <tbody>\n",
              "    <tr>\n",
              "      <th>0</th>\n",
              "      <td>depression_ctrl</td>\n",
              "      <td>Game over RT : Life is so unpredictable. Be gr...</td>\n",
              "      <td>3156.0</td>\n",
              "      <td>2594.0</td>\n",
              "      <td>1670.0</td>\n",
              "      <td>1048.0</td>\n",
              "      <td>517.0</td>\n",
              "      <td>872.0</td>\n",
              "      <td>454.0</td>\n",
              "      <td>589.0</td>\n",
              "      <td>880.0</td>\n",
              "      <td>524.0</td>\n",
              "      <td>353.0</td>\n",
              "      <td>1170.0</td>\n",
              "      <td>2011.0</td>\n",
              "      <td>1148.0</td>\n",
              "      <td>1860.0</td>\n",
              "    </tr>\n",
              "    <tr>\n",
              "      <th>1</th>\n",
              "      <td>depression</td>\n",
              "      <td>Happy ! Guys: please check your balls monthly ...</td>\n",
              "      <td>5843.0</td>\n",
              "      <td>4220.0</td>\n",
              "      <td>3241.0</td>\n",
              "      <td>2227.0</td>\n",
              "      <td>1271.0</td>\n",
              "      <td>1401.0</td>\n",
              "      <td>797.0</td>\n",
              "      <td>1536.0</td>\n",
              "      <td>1666.0</td>\n",
              "      <td>1361.0</td>\n",
              "      <td>657.0</td>\n",
              "      <td>1862.0</td>\n",
              "      <td>3691.0</td>\n",
              "      <td>2452.0</td>\n",
              "      <td>4015.0</td>\n",
              "    </tr>\n",
              "  </tbody>\n",
              "</table>\n",
              "</div>"
            ],
            "text/plain": [
              "             label  ...      14\n",
              "0  depression_ctrl  ...  1860.0\n",
              "1       depression  ...  4015.0\n",
              "\n",
              "[2 rows x 17 columns]"
            ]
          },
          "metadata": {
            "tags": []
          },
          "execution_count": 102
        }
      ]
    },
    {
      "cell_type": "code",
      "metadata": {
        "id": "_SKvbrv107bl"
      },
      "source": [
        "test_clpsych= pd.concat([df_clpsych_test, clpsych_all_four_lexicons_test], axis=1)\n",
        "#test_clpsych.head(2)"
      ],
      "execution_count": 103,
      "outputs": []
    },
    {
      "cell_type": "code",
      "metadata": {
        "colab": {
          "base_uri": "https://localhost:8080/"
        },
        "id": "32ZXxXfW17ST",
        "outputId": "3e9b52b1-becf-49d7-9be9-23c37771acd8"
      },
      "source": [
        "train_clpsych.shape[0]"
      ],
      "execution_count": 104,
      "outputs": [
        {
          "output_type": "execute_result",
          "data": {
            "text/plain": [
              "654"
            ]
          },
          "metadata": {
            "tags": []
          },
          "execution_count": 104
        }
      ]
    },
    {
      "cell_type": "code",
      "metadata": {
        "colab": {
          "base_uri": "https://localhost:8080/"
        },
        "id": "dkKWSfe12Dq0",
        "outputId": "0f383da8-37e9-498e-9442-790849395c3b"
      },
      "source": [
        "test_clpsych.shape[0]"
      ],
      "execution_count": 105,
      "outputs": [
        {
          "output_type": "execute_result",
          "data": {
            "text/plain": [
              "300"
            ]
          },
          "metadata": {
            "tags": []
          },
          "execution_count": 105
        }
      ]
    },
    {
      "cell_type": "code",
      "metadata": {
        "colab": {
          "base_uri": "https://localhost:8080/",
          "height": 346
        },
        "id": "iqTvXVe22Nsm",
        "outputId": "815e71cb-2ac4-42a2-aa32-48f4a520bffb"
      },
      "source": [
        "columns = ['label', 'text', 'afinn_positive', 'afinn_negative', 'nrc_positive', 'nrc_negative', 'nrc_anger', 'nrc_anticipation', 'nrc_disgust', 'nrc_fear', 'nrc_joy', 'nrc_sadness', 'nrc_surprise', 'nrc_trust', 'mpqa_positive', 'mpqa_negative', 'mpqa_strong_subjectivty']\n",
        "train_clpsych=encode_data(train_clpsych, columns, encodedict={'depression': 1, 'depression_ctrl': 0})\n",
        "print(\"Train set\")\n",
        "plot(train_clpsych, \"CLPsych\") \n"
      ],
      "execution_count": 106,
      "outputs": [
        {
          "output_type": "stream",
          "text": [
            "Train set\n",
            "Dataset: CLPsych \n",
            "\n"
          ],
          "name": "stdout"
        },
        {
          "output_type": "execute_result",
          "data": {
            "text/plain": [
              "<matplotlib.axes._subplots.AxesSubplot at 0x7fb208f95110>"
            ]
          },
          "metadata": {
            "tags": []
          },
          "execution_count": 106
        },
        {
          "output_type": "display_data",
          "data": {
            "image/png": "[encoded data removed]",
            "text/plain": [
              "<Figure size 432x288 with 1 Axes>"
            ]
          },
          "metadata": {
            "tags": [],
            "needs_background": "light"
          }
        }
      ]
    },
    {
      "cell_type": "code",
      "metadata": {
        "colab": {
          "base_uri": "https://localhost:8080/",
          "height": 346
        },
        "id": "xfOnNIjv2SPd",
        "outputId": "51d136c8-46c5-40e0-bb6f-0539e6f539a1"
      },
      "source": [
        "columns = ['label', 'text', 'afinn_positive', 'afinn_negative', 'nrc_positive', 'nrc_negative', 'nrc_anger', 'nrc_anticipation', 'nrc_disgust', 'nrc_fear', 'nrc_joy', 'nrc_sadness', 'nrc_surprise', 'nrc_trust', 'mpqa_positive', 'mpqa_negative', 'mpqa_strong_subjectivty']\n",
        "test_clpsych=encode_data(test_clpsych, columns, encodedict={'depression': 1, 'depression_ctrl': 0})\n",
        "print(\"Test set\")\n",
        "plot(test_clpsych, \"CLPsych\") \n"
      ],
      "execution_count": 107,
      "outputs": [
        {
          "output_type": "stream",
          "text": [
            "Test set\n",
            "Dataset: CLPsych \n",
            "\n"
          ],
          "name": "stdout"
        },
        {
          "output_type": "execute_result",
          "data": {
            "text/plain": [
              "<matplotlib.axes._subplots.AxesSubplot at 0x7fb208ec2690>"
            ]
          },
          "metadata": {
            "tags": []
          },
          "execution_count": 107
        },
        {
          "output_type": "display_data",
          "data": {
            "image/png": "[encoded data removed]",
            "text/plain": [
              "<Figure size 432x288 with 1 Axes>"
            ]
          },
          "metadata": {
            "tags": [],
            "needs_background": "light"
          }
        }
      ]
    },
    {
      "cell_type": "code",
      "metadata": {
        "id": "SIwo1w_s3X4x"
      },
      "source": [
        "X_train = train_clpsych.iloc[:, 2:]\n",
        "y_train = train_clpsych.iloc[:, 0]\n",
        "\n",
        "X_test = test_clpsych.iloc[:, 2:]\n",
        "y_test = test_clpsych.iloc[:, 0]"
      ],
      "execution_count": 51,
      "outputs": []
    },
    {
      "cell_type": "code",
      "metadata": {
        "id": "vD5V5DPq4t1Y"
      },
      "source": [
        "X_train, X_test = normalize(StandardScaler(), X_train, X_test)"
      ],
      "execution_count": 52,
      "outputs": []
    },
    {
      "cell_type": "code",
      "metadata": {
        "colab": {
          "base_uri": "https://localhost:8080/"
        },
        "id": "4xJ12uz042Da",
        "outputId": "c02fa71b-48af-4b33-815d-4e28ab1daa1e"
      },
      "source": [
        "Logistic = LogisticRegression(random_state=0, solver='lbfgs')\n",
        "Logistic.fit(X_train, y_train)\n",
        "print(\"Accuracy with training data:\", Logistic.score(X_train, y_train))\n",
        "prob_predicted_train = Logistic.predict_proba(X_train)\n",
        "print(\"Logloss with training data:\", loss_logloss(prob_predicted_train, y_train, weighted=True))\n"
      ],
      "execution_count": 53,
      "outputs": [
        {
          "output_type": "stream",
          "text": [
            "Accuracy with training data: 0.6406727828746177\n",
            "Logloss with training data: 0.63123284718281\n"
          ],
          "name": "stdout"
        }
      ]
    },
    {
      "cell_type": "code",
      "metadata": {
        "colab": {
          "base_uri": "https://localhost:8080/"
        },
        "id": "jKKTjjvh48Oq",
        "outputId": "a6ffd64c-0a1c-4990-bad0-f72df5fc92d1"
      },
      "source": [
        "y_pred = Logistic.predict(X_test)\n",
        "print(\"Accuracy with test data:\", Logistic.score(X_test, y_test))\n",
        "\n",
        "y_pred_proba = Logistic.predict_proba(X_test)\n",
        "print(\"Logloss with test data:\", loss_logloss(y_pred_proba, y_test, weighted=True))\n"
      ],
      "execution_count": 54,
      "outputs": [
        {
          "output_type": "stream",
          "text": [
            "Accuracy with test data: 0.6433333333333333\n",
            "Logloss with test data: 0.6380047931752326\n"
          ],
          "name": "stdout"
        }
      ]
    },
    {
      "cell_type": "code",
      "metadata": {
        "colab": {
          "base_uri": "https://localhost:8080/"
        },
        "id": "44BocqgU5AOM",
        "outputId": "6d37199a-e0d8-4495-9f85-1b889e5cd84d"
      },
      "source": [
        "print(metrics.classification_report(y_test, y_pred))"
      ],
      "execution_count": 55,
      "outputs": [
        {
          "output_type": "stream",
          "text": [
            "              precision    recall  f1-score   support\n",
            "\n",
            "           0       0.64      0.67      0.65       150\n",
            "           1       0.65      0.62      0.63       150\n",
            "\n",
            "    accuracy                           0.64       300\n",
            "   macro avg       0.64      0.64      0.64       300\n",
            "weighted avg       0.64      0.64      0.64       300\n",
            "\n"
          ],
          "name": "stdout"
        }
      ]
    },
    {
      "cell_type": "code",
      "metadata": {
        "colab": {
          "base_uri": "https://localhost:8080/"
        },
        "id": "HLkWhYlX5sbp",
        "outputId": "eeccb926-0eb1-44fe-dbda-89f25a69973d"
      },
      "source": [
        "#Cross validation\n",
        "Logistic = LogisticRegression(random_state=0, solver='lbfgs')\n",
        "Logistic.fit(X_train, y_train)\n",
        "scores = cross_val_score(\n",
        "    Logistic, \n",
        "    X_train, \n",
        "    y_train, \n",
        "    cv=10)\n",
        "print(\"Cross validated accuracy: \", \n",
        "      np.average(scores))\n",
        "print(\"Logistic accuracy on training data: \", \n",
        "      Logistic.score(X_train, y_train))\n",
        "print(\"Logistic accuracy on testing data: \", \n",
        "      Logistic.score(X_test, y_test))\n"
      ],
      "execution_count": 56,
      "outputs": [
        {
          "output_type": "stream",
          "text": [
            "Cross validated accuracy:  0.6084848484848484\n",
            "Logistic accuracy on training data:  0.6406727828746177\n",
            "Logistic accuracy on testing data:  0.6433333333333333\n"
          ],
          "name": "stdout"
        }
      ]
    },
    {
      "cell_type": "code",
      "metadata": {
        "colab": {
          "base_uri": "https://localhost:8080/",
          "height": 510
        },
        "id": "Kp2R2RwnHBsU",
        "outputId": "c10f5cfb-03e5-4b40-ff1b-1cbdf775a063"
      },
      "source": [
        "df_clpsych_train_scentic=get_scentic_features(df_clpsych_train)\r\n",
        "encodedict={'depression': 1, 'depression_ctrl': 0}\r\n",
        "df_clpsych_train_scentic['label'] = df_clpsych_train_scentic['label'].map(encodedict) \r\n",
        "df_clpsych_train_scentic.head(2)"
      ],
      "execution_count": 124,
      "outputs": [
        {
          "output_type": "stream",
          "text": [
            "/usr/local/lib/python3.7/dist-packages/ipykernel_launcher.py:95: SettingWithCopyWarning: \n",
            "A value is trying to be set on a copy of a slice from a DataFrame\n",
            "\n",
            "See the caveats in the documentation: https://pandas.pydata.org/pandas-docs/stable/user_guide/indexing.html#returning-a-view-versus-a-copy\n",
            "/usr/local/lib/python3.7/dist-packages/ipykernel_launcher.py:96: SettingWithCopyWarning: \n",
            "A value is trying to be set on a copy of a slice from a DataFrame\n",
            "\n",
            "See the caveats in the documentation: https://pandas.pydata.org/pandas-docs/stable/user_guide/indexing.html#returning-a-view-versus-a-copy\n",
            "/usr/local/lib/python3.7/dist-packages/ipykernel_launcher.py:97: SettingWithCopyWarning: \n",
            "A value is trying to be set on a copy of a slice from a DataFrame\n",
            "\n",
            "See the caveats in the documentation: https://pandas.pydata.org/pandas-docs/stable/user_guide/indexing.html#returning-a-view-versus-a-copy\n",
            "/usr/local/lib/python3.7/dist-packages/ipykernel_launcher.py:98: SettingWithCopyWarning: \n",
            "A value is trying to be set on a copy of a slice from a DataFrame\n",
            "\n",
            "See the caveats in the documentation: https://pandas.pydata.org/pandas-docs/stable/user_guide/indexing.html#returning-a-view-versus-a-copy\n",
            "/usr/local/lib/python3.7/dist-packages/ipykernel_launcher.py:99: SettingWithCopyWarning: \n",
            "A value is trying to be set on a copy of a slice from a DataFrame\n",
            "\n",
            "See the caveats in the documentation: https://pandas.pydata.org/pandas-docs/stable/user_guide/indexing.html#returning-a-view-versus-a-copy\n",
            "/usr/local/lib/python3.7/dist-packages/ipykernel_launcher.py:100: SettingWithCopyWarning: \n",
            "A value is trying to be set on a copy of a slice from a DataFrame\n",
            "\n",
            "See the caveats in the documentation: https://pandas.pydata.org/pandas-docs/stable/user_guide/indexing.html#returning-a-view-versus-a-copy\n"
          ],
          "name": "stderr"
        },
        {
          "output_type": "execute_result",
          "data": {
            "text/html": [
              "<div>\n",
              "<style scoped>\n",
              "    .dataframe tbody tr th:only-of-type {\n",
              "        vertical-align: middle;\n",
              "    }\n",
              "\n",
              "    .dataframe tbody tr th {\n",
              "        vertical-align: top;\n",
              "    }\n",
              "\n",
              "    .dataframe thead th {\n",
              "        text-align: right;\n",
              "    }\n",
              "</style>\n",
              "<table border=\"1\" class=\"dataframe\">\n",
              "  <thead>\n",
              "    <tr style=\"text-align: right;\">\n",
              "      <th></th>\n",
              "      <th>label</th>\n",
              "      <th>text</th>\n",
              "      <th>polarity_value</th>\n",
              "      <th>polarity_label</th>\n",
              "      <th>sensitivity</th>\n",
              "      <th>introspection</th>\n",
              "      <th>temper</th>\n",
              "      <th>attitude</th>\n",
              "    </tr>\n",
              "  </thead>\n",
              "  <tbody>\n",
              "    <tr>\n",
              "      <th>0</th>\n",
              "      <td>0</td>\n",
              "      <td>Game over RT : Life is so unpredictable. Be gr...</td>\n",
              "      <td>1280</td>\n",
              "      <td>3481</td>\n",
              "      <td>831</td>\n",
              "      <td>1040</td>\n",
              "      <td>38</td>\n",
              "      <td>209</td>\n",
              "    </tr>\n",
              "    <tr>\n",
              "      <th>1</th>\n",
              "      <td>1</td>\n",
              "      <td>Happy ! Guys: please check your balls monthly ...</td>\n",
              "      <td>2149</td>\n",
              "      <td>6548</td>\n",
              "      <td>1431</td>\n",
              "      <td>1670</td>\n",
              "      <td>44</td>\n",
              "      <td>639</td>\n",
              "    </tr>\n",
              "  </tbody>\n",
              "</table>\n",
              "</div>"
            ],
            "text/plain": [
              "   label                                               text  ...  temper  attitude\n",
              "0      0  Game over RT : Life is so unpredictable. Be gr...  ...      38       209\n",
              "1      1  Happy ! Guys: please check your balls monthly ...  ...      44       639\n",
              "\n",
              "[2 rows x 8 columns]"
            ]
          },
          "metadata": {
            "tags": []
          },
          "execution_count": 124
        }
      ]
    },
    {
      "cell_type": "code",
      "metadata": {
        "colab": {
          "base_uri": "https://localhost:8080/",
          "height": 510
        },
        "id": "m6aME1MmHfZk",
        "outputId": "bc63eaea-1975-445c-c315-78b7af6e97ff"
      },
      "source": [
        "df_clpsych_test_scentic=get_scentic_features(df_clpsych_test)\r\n",
        "df_clpsych_test_scentic['label'] = df_clpsych_test_scentic['label'].map(encodedict) \r\n",
        "df_clpsych_test_scentic.head(2)"
      ],
      "execution_count": 125,
      "outputs": [
        {
          "output_type": "stream",
          "text": [
            "/usr/local/lib/python3.7/dist-packages/ipykernel_launcher.py:95: SettingWithCopyWarning: \n",
            "A value is trying to be set on a copy of a slice from a DataFrame\n",
            "\n",
            "See the caveats in the documentation: https://pandas.pydata.org/pandas-docs/stable/user_guide/indexing.html#returning-a-view-versus-a-copy\n",
            "/usr/local/lib/python3.7/dist-packages/ipykernel_launcher.py:96: SettingWithCopyWarning: \n",
            "A value is trying to be set on a copy of a slice from a DataFrame\n",
            "\n",
            "See the caveats in the documentation: https://pandas.pydata.org/pandas-docs/stable/user_guide/indexing.html#returning-a-view-versus-a-copy\n",
            "/usr/local/lib/python3.7/dist-packages/ipykernel_launcher.py:97: SettingWithCopyWarning: \n",
            "A value is trying to be set on a copy of a slice from a DataFrame\n",
            "\n",
            "See the caveats in the documentation: https://pandas.pydata.org/pandas-docs/stable/user_guide/indexing.html#returning-a-view-versus-a-copy\n",
            "/usr/local/lib/python3.7/dist-packages/ipykernel_launcher.py:98: SettingWithCopyWarning: \n",
            "A value is trying to be set on a copy of a slice from a DataFrame\n",
            "\n",
            "See the caveats in the documentation: https://pandas.pydata.org/pandas-docs/stable/user_guide/indexing.html#returning-a-view-versus-a-copy\n",
            "/usr/local/lib/python3.7/dist-packages/ipykernel_launcher.py:99: SettingWithCopyWarning: \n",
            "A value is trying to be set on a copy of a slice from a DataFrame\n",
            "\n",
            "See the caveats in the documentation: https://pandas.pydata.org/pandas-docs/stable/user_guide/indexing.html#returning-a-view-versus-a-copy\n",
            "/usr/local/lib/python3.7/dist-packages/ipykernel_launcher.py:100: SettingWithCopyWarning: \n",
            "A value is trying to be set on a copy of a slice from a DataFrame\n",
            "\n",
            "See the caveats in the documentation: https://pandas.pydata.org/pandas-docs/stable/user_guide/indexing.html#returning-a-view-versus-a-copy\n"
          ],
          "name": "stderr"
        },
        {
          "output_type": "execute_result",
          "data": {
            "text/html": [
              "<div>\n",
              "<style scoped>\n",
              "    .dataframe tbody tr th:only-of-type {\n",
              "        vertical-align: middle;\n",
              "    }\n",
              "\n",
              "    .dataframe tbody tr th {\n",
              "        vertical-align: top;\n",
              "    }\n",
              "\n",
              "    .dataframe thead th {\n",
              "        text-align: right;\n",
              "    }\n",
              "</style>\n",
              "<table border=\"1\" class=\"dataframe\">\n",
              "  <thead>\n",
              "    <tr style=\"text-align: right;\">\n",
              "      <th></th>\n",
              "      <th>label</th>\n",
              "      <th>text</th>\n",
              "      <th>polarity_value</th>\n",
              "      <th>polarity_label</th>\n",
              "      <th>sensitivity</th>\n",
              "      <th>introspection</th>\n",
              "      <th>temper</th>\n",
              "      <th>attitude</th>\n",
              "    </tr>\n",
              "  </thead>\n",
              "  <tbody>\n",
              "    <tr>\n",
              "      <th>0</th>\n",
              "      <td>1</td>\n",
              "      <td>: Going with . Look for my lipstick in early t...</td>\n",
              "      <td>2304</td>\n",
              "      <td>4832</td>\n",
              "      <td>1916</td>\n",
              "      <td>2141</td>\n",
              "      <td>4</td>\n",
              "      <td>287</td>\n",
              "    </tr>\n",
              "    <tr>\n",
              "      <th>1</th>\n",
              "      <td>0</td>\n",
              "      <td>: Paolo Nutini - No Other Way RT : my dreams h...</td>\n",
              "      <td>1277</td>\n",
              "      <td>3364</td>\n",
              "      <td>850</td>\n",
              "      <td>1190</td>\n",
              "      <td>14</td>\n",
              "      <td>145</td>\n",
              "    </tr>\n",
              "  </tbody>\n",
              "</table>\n",
              "</div>"
            ],
            "text/plain": [
              "   label                                               text  ...  temper  attitude\n",
              "0      1  : Going with . Look for my lipstick in early t...  ...       4       287\n",
              "1      0  : Paolo Nutini - No Other Way RT : my dreams h...  ...      14       145\n",
              "\n",
              "[2 rows x 8 columns]"
            ]
          },
          "metadata": {
            "tags": []
          },
          "execution_count": 125
        }
      ]
    },
    {
      "cell_type": "code",
      "metadata": {
        "id": "rNSy-1LSQ-gV"
      },
      "source": [
        "X_train = df_clpsych_train_scentic.iloc[:, 2:]\r\n",
        "y_train = df_clpsych_train_scentic.iloc[:, 0]\r\n",
        "\r\n",
        "X_test = df_clpsych_test_scentic.iloc[:, 2:]\r\n",
        "y_test = df_clpsych_test_scentic.iloc[:, 0]"
      ],
      "execution_count": 126,
      "outputs": []
    },
    {
      "cell_type": "code",
      "metadata": {
        "id": "mAeuIrBxRntF"
      },
      "source": [
        "X_train, X_test = normalize(StandardScaler(), X_train, X_test)"
      ],
      "execution_count": 127,
      "outputs": []
    },
    {
      "cell_type": "code",
      "metadata": {
        "colab": {
          "base_uri": "https://localhost:8080/"
        },
        "id": "PlLtkv3rRqdW",
        "outputId": "c3943dba-9f13-4e52-b08d-4fc6f1683331"
      },
      "source": [
        "Logistic = LogisticRegression(random_state=0, solver='lbfgs')\r\n",
        "Logistic.fit(X_train, y_train)\r\n",
        "print(\"Accuracy with training data:\", Logistic.score(X_train, y_train))\r\n",
        "prob_predicted_train = Logistic.predict_proba(X_train)\r\n",
        "print(\"Logloss with training data:\", loss_logloss(prob_predicted_train, y_train, weighted=True))\r\n"
      ],
      "execution_count": 128,
      "outputs": [
        {
          "output_type": "stream",
          "text": [
            "Accuracy with training data: 0.6162079510703364\n",
            "Logloss with training data: 0.655426506797095\n"
          ],
          "name": "stdout"
        }
      ]
    },
    {
      "cell_type": "code",
      "metadata": {
        "colab": {
          "base_uri": "https://localhost:8080/"
        },
        "id": "xiQvZSUMRtpl",
        "outputId": "456f9460-e49f-43a9-df6d-96e092590794"
      },
      "source": [
        "y_pred = Logistic.predict(X_test)\r\n",
        "print(\"Accuracy with test data:\", Logistic.score(X_test, y_test))\r\n",
        "\r\n",
        "y_pred_proba = Logistic.predict_proba(X_test)\r\n",
        "print(\"Logloss with test data:\", loss_logloss(y_pred_proba, y_test, weighted=True))\r\n"
      ],
      "execution_count": 129,
      "outputs": [
        {
          "output_type": "stream",
          "text": [
            "Accuracy with test data: 0.6433333333333333\n",
            "Logloss with test data: 0.6569092869990207\n"
          ],
          "name": "stdout"
        }
      ]
    },
    {
      "cell_type": "code",
      "metadata": {
        "colab": {
          "base_uri": "https://localhost:8080/"
        },
        "id": "UrVmeNgmRw8W",
        "outputId": "eaeabee0-103c-4295-d166-88690d4c6581"
      },
      "source": [
        "print(metrics.classification_report(y_test, y_pred))"
      ],
      "execution_count": 130,
      "outputs": [
        {
          "output_type": "stream",
          "text": [
            "              precision    recall  f1-score   support\n",
            "\n",
            "           0       0.65      0.61      0.63       150\n",
            "           1       0.64      0.67      0.65       150\n",
            "\n",
            "    accuracy                           0.64       300\n",
            "   macro avg       0.64      0.64      0.64       300\n",
            "weighted avg       0.64      0.64      0.64       300\n",
            "\n"
          ],
          "name": "stdout"
        }
      ]
    },
    {
      "cell_type": "code",
      "metadata": {
        "colab": {
          "base_uri": "https://localhost:8080/"
        },
        "id": "ggyE2wR5Rz_R",
        "outputId": "88811245-59b1-4399-cd29-587f3a12f1ca"
      },
      "source": [
        "#Cross validation\r\n",
        "Logistic = LogisticRegression(random_state=0, solver='lbfgs')\r\n",
        "Logistic.fit(X_train, y_train)\r\n",
        "scores = cross_val_score(\r\n",
        "    Logistic, \r\n",
        "    X_train, \r\n",
        "    y_train, \r\n",
        "    cv=10)\r\n",
        "print(\"Cross validated accuracy: \", \r\n",
        "      np.average(scores))\r\n",
        "print(\"Logistic accuracy on training data: \", \r\n",
        "      Logistic.score(X_train, y_train))\r\n",
        "print(\"Logistic accuracy on testing data: \", \r\n",
        "      Logistic.score(X_test, y_test))\r\n"
      ],
      "execution_count": 131,
      "outputs": [
        {
          "output_type": "stream",
          "text": [
            "Cross validated accuracy:  0.6022843822843822\n",
            "Logistic accuracy on training data:  0.6162079510703364\n",
            "Logistic accuracy on testing data:  0.6433333333333333\n"
          ],
          "name": "stdout"
        }
      ]
    },
    {
      "cell_type": "code",
      "metadata": {
        "id": "Gu39mDQedTMw",
        "colab": {
          "base_uri": "https://localhost:8080/",
          "height": 119
        },
        "outputId": "d926de64-4834-4912-93b5-40ae1f10585a"
      },
      "source": [
        "\"\"\"lda = LinearDiscriminantAnalysis()\n",
        "\n",
        "    lda.fit(X_train, y_train)\n",
        "\n",
        "    print(\"Accuracy with training data:\", lda.score(X_train, y_train))\n",
        "\n",
        "    prob_predicted_train = lda.predict_proba(X_train)\n",
        "    print(\"Logloss with training data:\", loss_logloss(prob_predicted_train, y_train))\n",
        "\n",
        "    y_predicted = lda.predict(X_test)\n",
        "    prob_predicted = lda.predict_proba(X_test)\n",
        "\n",
        "    write_submission_file_accuracy(y_predicted, filename=filename_prefix+\"_accuracy.csv\")\n",
        "    write_submission_file_logloss(finalize_logloss_output(prob_predicted), filename=filename_prefix+\"_logloss.csv\")\n",
        "    \n",
        "    # cross validate\n",
        "    skf = StratifiedKFold(n_splits=5, random_state=0, shuffle=True)\n",
        "    test_scores = []\n",
        "    for i_train, i_test in skf.split(X_train, y_train):\n",
        "        lda = LinearDiscriminantAnalysis()\n",
        "        lda.fit(X_train[i_train], y_train[i_train])\n",
        "        test_scores.append(lda.score(X_train[i_test], y_train[i_test]))\n",
        "\n",
        "    print(\"Validation error:\", np.average(test_scores))\"\"\""
      ],
      "execution_count": 132,
      "outputs": [
        {
          "output_type": "execute_result",
          "data": {
            "application/vnd.google.colaboratory.intrinsic+json": {
              "type": "string"
            },
            "text/plain": [
              "'lda = LinearDiscriminantAnalysis()\\n\\n    lda.fit(X_train, y_train)\\n\\n    print(\"Accuracy with training data:\", lda.score(X_train, y_train))\\n\\n    prob_predicted_train = lda.predict_proba(X_train)\\n    print(\"Logloss with training data:\", loss_logloss(prob_predicted_train, y_train))\\n\\n    y_predicted = lda.predict(X_test)\\n    prob_predicted = lda.predict_proba(X_test)\\n\\n    write_submission_file_accuracy(y_predicted, filename=filename_prefix+\"_accuracy.csv\")\\n    write_submission_file_logloss(finalize_logloss_output(prob_predicted), filename=filename_prefix+\"_logloss.csv\")\\n    \\n    # cross validate\\n    skf = StratifiedKFold(n_splits=5, random_state=0, shuffle=True)\\n    test_scores = []\\n    for i_train, i_test in skf.split(X_train, y_train):\\n        lda = LinearDiscriminantAnalysis()\\n        lda.fit(X_train[i_train], y_train[i_train])\\n        test_scores.append(lda.score(X_train[i_test], y_train[i_test]))\\n\\n    print(\"Validation error:\", np.average(test_scores))'"
            ]
          },
          "metadata": {
            "tags": []
          },
          "execution_count": 132
        }
      ]
    },
    {
      "cell_type": "code",
      "metadata": {
        "id": "lXgcZ62PdWLU"
      },
      "source": [
        "\"\"\"# cross validate\n",
        "skf = StratifiedKFold(n_splits=5, random_state=0, shuffle=True)\n",
        "test_scores = []\n",
        "for i_train, i_test in skf.split(X_train, y_train):\n",
        "  \n",
        "  Logistic = LogisticRegression(random_state=0, solver='lbfgs')\n",
        "  Logistic.fit(X_train[i_train], y_train[i_train])\n",
        "\n",
        "  test_scores.append(Logistic.score(X_train[i_test], y_train[i_test]))\n",
        "\n",
        "print(\"Validation error:\", np.average(test_scores))\"\"\"\n"
      ],
      "execution_count": null,
      "outputs": []
    }
  ]
}