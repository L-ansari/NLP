{
  "nbformat": 4,
  "nbformat_minor": 0,
  "metadata": {
    "colab": {
      "name": "LexiconCompare.ipynb",
      "provenance": [],
      "collapsed_sections": [],
      "machine_shape": "hm",
      "authorship_tag": "ABX9TyN69V6H2ABXotsHlE73BwnO",
      "include_colab_link": true
    },
    "kernelspec": {
      "name": "python3",
      "display_name": "Python 3"
    },
    "accelerator": "GPU"
  },
  "cells": [
    {
      "cell_type": "markdown",
      "metadata": {
        "id": "view-in-github",
        "colab_type": "text"
      },
      "source": [
        "<a href=\"https://colab.research.google.com/github/L-ansari/Natural-Language-Processing-tasks/blob/master/LexiconCompare.ipynb\" target=\"_parent\"><img src=\"https://colab.research.google.com/assets/colab-badge.svg\" alt=\"Open In Colab\"/></a>"
      ]
    },
    {
      "cell_type": "code",
      "metadata": {
        "id": "KBjNU1iJBBaa"
      },
      "source": [
        "import numpy as np\n",
        "import pandas as pd\n",
        "import seaborn as sns\n",
        "from pathlib import Path\n",
        "import matplotlib.pyplot as plt\n",
        "import sklearn\n",
        "\n",
        "from sklearn.preprocessing import StandardScaler    \n",
        "from sklearn.model_selection import train_test_split, cross_val_score\n",
        "from sklearn.metrics import confusion_matrix, classification_report\n",
        "from sklearn.linear_model import LogisticRegression\n",
        "from sklearn.model_selection import StratifiedKFold\n",
        "from sklearn import metrics"
      ],
      "execution_count": 1,
      "outputs": []
    },
    {
      "cell_type": "code",
      "metadata": {
        "colab": {
          "base_uri": "https://localhost:8080/"
        },
        "id": "74pDC2gaD3Xu",
        "outputId": "85c3955b-5ffb-4a03-da2f-1f4ec0de753b"
      },
      "source": [
        "from google.colab import drive\n",
        "drive.mount(\"/content/drive\", force_remount=True)"
      ],
      "execution_count": 2,
      "outputs": [
        {
          "output_type": "stream",
          "text": [
            "Mounted at /content/drive\n"
          ],
          "name": "stdout"
        }
      ]
    },
    {
      "cell_type": "code",
      "metadata": {
        "id": "S1m7FJ7HcmhW"
      },
      "source": [
        "\"\"\" Helper functions \"\"\"\n",
        "\n",
        "\n",
        "def encode_data(dataframe, column_name, encodedict):\n",
        "  \"\"\"column_name:  is a list of column head names\n",
        "  encodedict:  is a dictionary encoding of labels\"\"\"\n",
        "  \n",
        "  dataframe.columns = column_name\n",
        "  dataframe['label'] = dataframe['label'].map(encodedict) \n",
        "\n",
        "  return dataframe #  encode labels\n",
        "\n",
        "def plot(dataframe,dataset ):\n",
        "  #print(\"Reddit Dataset\\n\")\n",
        "  print(f'Dataset: {dataset}',\"\\n\")\n",
        "  return sns.countplot(x = 'label', data=dataframe)\n",
        "\n",
        "def split(X,y):\n",
        "  X_train, X_test, y_train, y_test = train_test_split(X, y, test_size=0.33, random_state=69, shuffle=True)\n",
        "  return X_train, X_test, y_train, y_test \n",
        "\n",
        "def normalize (scaler, X_train, X_test):\n",
        "  X_train = scaler.fit_transform(X_train)\n",
        "  X_test = scaler.transform(X_test)\n",
        "  return X_train, X_test\n",
        "\n",
        "# note that y_pred has shape (N_samples,N_labels) while y_real has shape (N_samples,1)\n",
        "# weights means weighting according to class frequencies\n",
        "def loss_logloss(y_pred, y_real, weighted=False):\n",
        "    weights = None\n",
        "    if weighted:\n",
        "        class_to_frequency = class_weights(y_real)\n",
        "        weights = np.array([1/class_to_frequency[y-1] for y in y_real])\n",
        "    loss = sklearn.metrics.log_loss(y_real, y_pred, sample_weight=weights, labels=[0,1])\n",
        "    return loss\n",
        "# array which tells for every class how many times it occurs in the training labels\n",
        "# note that class labels start from 1 while class indices start from 0!\n",
        "def class_weights(y):\n",
        "    unique, counts = np.unique(y, return_counts=True)\n",
        "    n_classes = 10\n",
        "    class_weights = np.zeros(n_classes)\n",
        "    for classNumber, count in zip(unique, counts):\n",
        "            class_weights[classNumber-1] = count\n",
        "    return class_weights\n",
        "\n",
        "\n",
        "def get_feature(message):\n",
        "  \"\"\"This function gives out a dataframe of extracted features\"\"\"\n",
        "  sn = SenticNet()\n",
        "\n",
        "  polarity_value=0\n",
        "  polarity_label=0\n",
        "  introspection=0\n",
        "  sensitivity=0\n",
        "  temper=0\n",
        "  attitude=0\n",
        "\n",
        "  for word in (message):\n",
        "    try:\n",
        "      concept = sn.concept(word)\n",
        "      pol_value = float(concept['polarity_value'])\n",
        "      pol_label=concept['polarity_label']\n",
        "      intros=float(concept['sentics']['introspection'])\n",
        "      sensit=float(concept['sentics']['sensitivity'])\n",
        "      temp=float(concept['sentics']['temper'])\n",
        "      attit=float(concept['sentics']['attitude'])\n",
        "\n",
        "      if  concept['polarity_label']=='positive':\n",
        "        pol_label =1\n",
        "      else:\n",
        "        pol_label=0\n",
        "\n",
        "      polarity_value += pol_value\n",
        "      polarity_label +=pol_label\n",
        "      introspection +=intros\n",
        "      sensitivity +=sensit\n",
        "      temper +=temp\n",
        "      attitude +=attit\n",
        "\n",
        "    except KeyError:\n",
        "        pass\n",
        "   \n",
        "  return polarity_value , polarity_label, introspection, sensitivity, temper, attitude\n",
        "\n",
        "def get_scentic_features(df): #dataframe\n",
        "\n",
        "  df['polarity_value'] = 0\n",
        "  df['polarity_label'] = 0\n",
        "  df['sensitivity'] = 0\n",
        "  df['introspection'] = 0\n",
        "  df['temper'] = 0\n",
        "  df['attitude'] = 0\n",
        "  for i in range(df.shape[0]):\n",
        "    polarity_value , polarity_label, introspection, sensitivity, temper, attitude=get_feature (word_tokenize(df['text'][i].lower()))\n",
        "    df['polarity_value'][i] = polarity_value\n",
        "    df['polarity_label'][i] = polarity_label\n",
        "    df['sensitivity'][i] = sensitivity\n",
        "    df['introspection'][i]= introspection\n",
        "    df['temper'][i] = temper\n",
        "    df['attitude'][i]= attitude\n",
        "\n",
        "  return df  \n"
      ],
      "execution_count": 3,
      "outputs": []
    },
    {
      "cell_type": "markdown",
      "metadata": {
        "id": "vCPwCvXjVisi"
      },
      "source": [
        "# 1. Part First: Reddit dataset\n",
        "\n"
      ]
    },
    {
      "cell_type": "markdown",
      "metadata": {
        "id": "lApXZAGR2qG8"
      },
      "source": [
        "## 1.a     Lexicon in use is afinn_nrc_nrc_sa_mpqa.\n",
        "\n",
        "Features are = ['afinn_positive', 'afinn_negative', 'nrc_positive', 'nrc_negative', 'nrc_anger', 'nrc_anticipation', 'nrc_disgust', 'nrc_fear', 'nrc_joy', 'nrc_sadness', 'nrc_surprise', 'nrc_trust', 'mpqa_positive', 'mpqa_negative', 'mpqa_strong_subjectivty']\n"
      ]
    },
    {
      "cell_type": "code",
      "metadata": {
        "id": "diqcc4F1GXUX",
        "colab": {
          "base_uri": "https://localhost:8080/",
          "height": 108
        },
        "outputId": "9808d4c1-da92-4b90-f75b-90beaeed1179"
      },
      "source": [
        "reddit= pd.read_csv(Path('/content/drive/My Drive/DSP/data/bachelor/Reddit.csv'))\n",
        "reddit.head(2)"
      ],
      "execution_count": 4,
      "outputs": [
        {
          "output_type": "execute_result",
          "data": {
            "text/html": [
              "<div>\n",
              "<style scoped>\n",
              "    .dataframe tbody tr th:only-of-type {\n",
              "        vertical-align: middle;\n",
              "    }\n",
              "\n",
              "    .dataframe tbody tr th {\n",
              "        vertical-align: top;\n",
              "    }\n",
              "\n",
              "    .dataframe thead th {\n",
              "        text-align: right;\n",
              "    }\n",
              "</style>\n",
              "<table border=\"1\" class=\"dataframe\">\n",
              "  <thead>\n",
              "    <tr style=\"text-align: right;\">\n",
              "      <th></th>\n",
              "      <th>label</th>\n",
              "      <th>text</th>\n",
              "    </tr>\n",
              "  </thead>\n",
              "  <tbody>\n",
              "    <tr>\n",
              "      <th>0</th>\n",
              "      <td>negative</td>\n",
              "      <td>My male cousin stopped talking to me all of su...</td>\n",
              "    </tr>\n",
              "    <tr>\n",
              "      <th>1</th>\n",
              "      <td>negative</td>\n",
              "      <td>Drifting away from my best friend\\nMy best fri...</td>\n",
              "    </tr>\n",
              "  </tbody>\n",
              "</table>\n",
              "</div>"
            ],
            "text/plain": [
              "      label                                               text\n",
              "0  negative  My male cousin stopped talking to me all of su...\n",
              "1  negative  Drifting away from my best friend\\nMy best fri..."
            ]
          },
          "metadata": {
            "tags": []
          },
          "execution_count": 4
        }
      ]
    },
    {
      "cell_type": "code",
      "metadata": {
        "id": "CFzeD7ffGRy4",
        "colab": {
          "base_uri": "https://localhost:8080/",
          "height": 108
        },
        "outputId": "d5e68cb7-8237-4e15-aec0-84084b61933d"
      },
      "source": [
        "reddit_all_four_lexicos= pd.read_csv(Path('/content/drive/My Drive/DSP/data/bachelor/Reddit_afinn_nrc_nrc_sa_mpqa.csv'))\n",
        "reddit_all_four_lexicos.head(2)"
      ],
      "execution_count": 5,
      "outputs": [
        {
          "output_type": "execute_result",
          "data": {
            "text/html": [
              "<div>\n",
              "<style scoped>\n",
              "    .dataframe tbody tr th:only-of-type {\n",
              "        vertical-align: middle;\n",
              "    }\n",
              "\n",
              "    .dataframe tbody tr th {\n",
              "        vertical-align: top;\n",
              "    }\n",
              "\n",
              "    .dataframe thead th {\n",
              "        text-align: right;\n",
              "    }\n",
              "</style>\n",
              "<table border=\"1\" class=\"dataframe\">\n",
              "  <thead>\n",
              "    <tr style=\"text-align: right;\">\n",
              "      <th></th>\n",
              "      <th>0</th>\n",
              "      <th>1</th>\n",
              "      <th>2</th>\n",
              "      <th>3</th>\n",
              "      <th>4</th>\n",
              "      <th>5</th>\n",
              "      <th>6</th>\n",
              "      <th>7</th>\n",
              "      <th>8</th>\n",
              "      <th>9</th>\n",
              "      <th>10</th>\n",
              "      <th>11</th>\n",
              "      <th>12</th>\n",
              "      <th>13</th>\n",
              "      <th>14</th>\n",
              "    </tr>\n",
              "  </thead>\n",
              "  <tbody>\n",
              "    <tr>\n",
              "      <th>0</th>\n",
              "      <td>10.0</td>\n",
              "      <td>18.0</td>\n",
              "      <td>13.0</td>\n",
              "      <td>9.0</td>\n",
              "      <td>2.0</td>\n",
              "      <td>8.0</td>\n",
              "      <td>3.0</td>\n",
              "      <td>5.0</td>\n",
              "      <td>8.0</td>\n",
              "      <td>7.0</td>\n",
              "      <td>4.0</td>\n",
              "      <td>7.0</td>\n",
              "      <td>11.0</td>\n",
              "      <td>9.0</td>\n",
              "      <td>13.0</td>\n",
              "    </tr>\n",
              "    <tr>\n",
              "      <th>1</th>\n",
              "      <td>28.0</td>\n",
              "      <td>11.0</td>\n",
              "      <td>17.0</td>\n",
              "      <td>7.0</td>\n",
              "      <td>3.0</td>\n",
              "      <td>9.0</td>\n",
              "      <td>3.0</td>\n",
              "      <td>3.0</td>\n",
              "      <td>10.0</td>\n",
              "      <td>3.0</td>\n",
              "      <td>3.0</td>\n",
              "      <td>12.0</td>\n",
              "      <td>21.0</td>\n",
              "      <td>11.0</td>\n",
              "      <td>24.0</td>\n",
              "    </tr>\n",
              "  </tbody>\n",
              "</table>\n",
              "</div>"
            ],
            "text/plain": [
              "      0     1     2    3    4    5    6  ...     8    9   10    11    12    13    14\n",
              "0  10.0  18.0  13.0  9.0  2.0  8.0  3.0  ...   8.0  7.0  4.0   7.0  11.0   9.0  13.0\n",
              "1  28.0  11.0  17.0  7.0  3.0  9.0  3.0  ...  10.0  3.0  3.0  12.0  21.0  11.0  24.0\n",
              "\n",
              "[2 rows x 15 columns]"
            ]
          },
          "metadata": {
            "tags": []
          },
          "execution_count": 5
        }
      ]
    },
    {
      "cell_type": "code",
      "metadata": {
        "colab": {
          "base_uri": "https://localhost:8080/",
          "height": 108
        },
        "id": "CFWjHieoHrSl",
        "outputId": "ce009ae9-aed4-4b17-9abe-23782db50a6f"
      },
      "source": [
        "df_reddit = pd.concat([reddit,reddit_all_four_lexicos], axis=1)\n",
        "df_reddit.head(2)\n"
      ],
      "execution_count": 6,
      "outputs": [
        {
          "output_type": "execute_result",
          "data": {
            "text/html": [
              "<div>\n",
              "<style scoped>\n",
              "    .dataframe tbody tr th:only-of-type {\n",
              "        vertical-align: middle;\n",
              "    }\n",
              "\n",
              "    .dataframe tbody tr th {\n",
              "        vertical-align: top;\n",
              "    }\n",
              "\n",
              "    .dataframe thead th {\n",
              "        text-align: right;\n",
              "    }\n",
              "</style>\n",
              "<table border=\"1\" class=\"dataframe\">\n",
              "  <thead>\n",
              "    <tr style=\"text-align: right;\">\n",
              "      <th></th>\n",
              "      <th>label</th>\n",
              "      <th>text</th>\n",
              "      <th>0</th>\n",
              "      <th>1</th>\n",
              "      <th>2</th>\n",
              "      <th>3</th>\n",
              "      <th>4</th>\n",
              "      <th>5</th>\n",
              "      <th>6</th>\n",
              "      <th>7</th>\n",
              "      <th>8</th>\n",
              "      <th>9</th>\n",
              "      <th>10</th>\n",
              "      <th>11</th>\n",
              "      <th>12</th>\n",
              "      <th>13</th>\n",
              "      <th>14</th>\n",
              "    </tr>\n",
              "  </thead>\n",
              "  <tbody>\n",
              "    <tr>\n",
              "      <th>0</th>\n",
              "      <td>negative</td>\n",
              "      <td>My male cousin stopped talking to me all of su...</td>\n",
              "      <td>10.0</td>\n",
              "      <td>18.0</td>\n",
              "      <td>13.0</td>\n",
              "      <td>9.0</td>\n",
              "      <td>2.0</td>\n",
              "      <td>8.0</td>\n",
              "      <td>3.0</td>\n",
              "      <td>5.0</td>\n",
              "      <td>8.0</td>\n",
              "      <td>7.0</td>\n",
              "      <td>4.0</td>\n",
              "      <td>7.0</td>\n",
              "      <td>11.0</td>\n",
              "      <td>9.0</td>\n",
              "      <td>13.0</td>\n",
              "    </tr>\n",
              "    <tr>\n",
              "      <th>1</th>\n",
              "      <td>negative</td>\n",
              "      <td>Drifting away from my best friend\\nMy best fri...</td>\n",
              "      <td>28.0</td>\n",
              "      <td>11.0</td>\n",
              "      <td>17.0</td>\n",
              "      <td>7.0</td>\n",
              "      <td>3.0</td>\n",
              "      <td>9.0</td>\n",
              "      <td>3.0</td>\n",
              "      <td>3.0</td>\n",
              "      <td>10.0</td>\n",
              "      <td>3.0</td>\n",
              "      <td>3.0</td>\n",
              "      <td>12.0</td>\n",
              "      <td>21.0</td>\n",
              "      <td>11.0</td>\n",
              "      <td>24.0</td>\n",
              "    </tr>\n",
              "  </tbody>\n",
              "</table>\n",
              "</div>"
            ],
            "text/plain": [
              "      label                                               text  ...    13    14\n",
              "0  negative  My male cousin stopped talking to me all of su...  ...   9.0  13.0\n",
              "1  negative  Drifting away from my best friend\\nMy best fri...  ...  11.0  24.0\n",
              "\n",
              "[2 rows x 17 columns]"
            ]
          },
          "metadata": {
            "tags": []
          },
          "execution_count": 6
        }
      ]
    },
    {
      "cell_type": "code",
      "metadata": {
        "colab": {
          "base_uri": "https://localhost:8080/"
        },
        "id": "ATgrFk7rLZJx",
        "outputId": "dfc50506-f744-4ff3-a3e5-3dc6bcf8b7b2"
      },
      "source": [
        "df_reddit.shape[0]"
      ],
      "execution_count": 7,
      "outputs": [
        {
          "output_type": "execute_result",
          "data": {
            "text/plain": [
              "1841"
            ]
          },
          "metadata": {
            "tags": []
          },
          "execution_count": 7
        }
      ]
    },
    {
      "cell_type": "code",
      "metadata": {
        "id": "973tdrNEQyLn",
        "colab": {
          "base_uri": "https://localhost:8080/",
          "height": 331
        },
        "outputId": "68f39e4c-b9df-401a-d63c-b5bb8091ad54"
      },
      "source": [
        "columns = ['label', 'text', 'afinn_positive', 'afinn_negative', 'nrc_positive', 'nrc_negative', 'nrc_anger', 'nrc_anticipation', 'nrc_disgust', 'nrc_fear', 'nrc_joy', 'nrc_sadness', 'nrc_surprise', 'nrc_trust', 'mpqa_positive', 'mpqa_negative', 'mpqa_strong_subjectivty']\n",
        "df_reddit=encode_data(df_reddit, columns, encodedict={'positive': 1, 'negative': 0})\n",
        "plot(df_reddit, \"Reddit\") \n"
      ],
      "execution_count": 8,
      "outputs": [
        {
          "output_type": "stream",
          "text": [
            "Dataset: Reddit \n",
            "\n"
          ],
          "name": "stdout"
        },
        {
          "output_type": "execute_result",
          "data": {
            "text/plain": [
              "<matplotlib.axes._subplots.AxesSubplot at 0x7fc109656c50>"
            ]
          },
          "metadata": {
            "tags": []
          },
          "execution_count": 8
        },
        {
          "output_type": "display_data",
          "data": {
            "image/png": "[encoded data removed]",
            "text/plain": [
              "<Figure size 432x288 with 1 Axes>"
            ]
          },
          "metadata": {
            "tags": [],
            "needs_background": "light"
          }
        }
      ]
    },
    {
      "cell_type": "code",
      "metadata": {
        "colab": {
          "base_uri": "https://localhost:8080/",
          "height": 284
        },
        "id": "cbqAKkgtQ9Z4",
        "outputId": "dec6e779-1eb2-4137-c073-b33fc4fd048b"
      },
      "source": [
        "df_reddit.head(2)"
      ],
      "execution_count": 9,
      "outputs": [
        {
          "output_type": "execute_result",
          "data": {
            "text/html": [
              "<div>\n",
              "<style scoped>\n",
              "    .dataframe tbody tr th:only-of-type {\n",
              "        vertical-align: middle;\n",
              "    }\n",
              "\n",
              "    .dataframe tbody tr th {\n",
              "        vertical-align: top;\n",
              "    }\n",
              "\n",
              "    .dataframe thead th {\n",
              "        text-align: right;\n",
              "    }\n",
              "</style>\n",
              "<table border=\"1\" class=\"dataframe\">\n",
              "  <thead>\n",
              "    <tr style=\"text-align: right;\">\n",
              "      <th></th>\n",
              "      <th>label</th>\n",
              "      <th>text</th>\n",
              "      <th>afinn_positive</th>\n",
              "      <th>afinn_negative</th>\n",
              "      <th>nrc_positive</th>\n",
              "      <th>nrc_negative</th>\n",
              "      <th>nrc_anger</th>\n",
              "      <th>nrc_anticipation</th>\n",
              "      <th>nrc_disgust</th>\n",
              "      <th>nrc_fear</th>\n",
              "      <th>nrc_joy</th>\n",
              "      <th>nrc_sadness</th>\n",
              "      <th>nrc_surprise</th>\n",
              "      <th>nrc_trust</th>\n",
              "      <th>mpqa_positive</th>\n",
              "      <th>mpqa_negative</th>\n",
              "      <th>mpqa_strong_subjectivty</th>\n",
              "    </tr>\n",
              "  </thead>\n",
              "  <tbody>\n",
              "    <tr>\n",
              "      <th>0</th>\n",
              "      <td>0</td>\n",
              "      <td>My male cousin stopped talking to me all of su...</td>\n",
              "      <td>10.0</td>\n",
              "      <td>18.0</td>\n",
              "      <td>13.0</td>\n",
              "      <td>9.0</td>\n",
              "      <td>2.0</td>\n",
              "      <td>8.0</td>\n",
              "      <td>3.0</td>\n",
              "      <td>5.0</td>\n",
              "      <td>8.0</td>\n",
              "      <td>7.0</td>\n",
              "      <td>4.0</td>\n",
              "      <td>7.0</td>\n",
              "      <td>11.0</td>\n",
              "      <td>9.0</td>\n",
              "      <td>13.0</td>\n",
              "    </tr>\n",
              "    <tr>\n",
              "      <th>1</th>\n",
              "      <td>0</td>\n",
              "      <td>Drifting away from my best friend\\nMy best fri...</td>\n",
              "      <td>28.0</td>\n",
              "      <td>11.0</td>\n",
              "      <td>17.0</td>\n",
              "      <td>7.0</td>\n",
              "      <td>3.0</td>\n",
              "      <td>9.0</td>\n",
              "      <td>3.0</td>\n",
              "      <td>3.0</td>\n",
              "      <td>10.0</td>\n",
              "      <td>3.0</td>\n",
              "      <td>3.0</td>\n",
              "      <td>12.0</td>\n",
              "      <td>21.0</td>\n",
              "      <td>11.0</td>\n",
              "      <td>24.0</td>\n",
              "    </tr>\n",
              "  </tbody>\n",
              "</table>\n",
              "</div>"
            ],
            "text/plain": [
              "   label  ... mpqa_strong_subjectivty\n",
              "0      0  ...                    13.0\n",
              "1      0  ...                    24.0\n",
              "\n",
              "[2 rows x 17 columns]"
            ]
          },
          "metadata": {
            "tags": []
          },
          "execution_count": 9
        }
      ]
    },
    {
      "cell_type": "code",
      "metadata": {
        "id": "95FcUxq8Lp7z"
      },
      "source": [
        "X = df_reddit.iloc[:, 2:]\n",
        "y = df_reddit.iloc[:, 0]\n",
        "X_train, X_test, y_train, y_test = split(X, y)\n",
        "X_train, X_test = normalize(StandardScaler(), X_train, X_test)\n",
        "#print(y_test[:10])"
      ],
      "execution_count": 10,
      "outputs": []
    },
    {
      "cell_type": "code",
      "metadata": {
        "colab": {
          "base_uri": "https://localhost:8080/"
        },
        "id": "-ypuH5rncurO",
        "outputId": "3d4e96e5-930f-45fd-8344-8bf56856587f"
      },
      "source": [
        "Logistic = LogisticRegression(random_state=0, solver='lbfgs')\n",
        "Logistic.fit(X_train, y_train)\n",
        "print(\"Accuracy with training data:\", Logistic.score(X_train, y_train))\n",
        "prob_predicted_train = Logistic.predict_proba(X_train)\n",
        "print(\"Logloss with training data:\", loss_logloss(prob_predicted_train, y_train, weighted=True))\n"
      ],
      "execution_count": 11,
      "outputs": [
        {
          "output_type": "stream",
          "text": [
            "Accuracy with training data: 0.7639902676399026\n",
            "Logloss with training data: 0.6699137756627215\n"
          ],
          "name": "stdout"
        }
      ]
    },
    {
      "cell_type": "code",
      "metadata": {
        "colab": {
          "base_uri": "https://localhost:8080/"
        },
        "id": "oQLQ_gVywOR2",
        "outputId": "1f909404-092e-4867-e286-66839a34895a"
      },
      "source": [
        "y_pred = Logistic.predict(X_test)\n",
        "print(\"Accuracy with test data:\", Logistic.score(X_test, y_test))\n",
        "\n",
        "y_pred_proba = Logistic.predict_proba(X_test)\n",
        "print(\"Logloss with test data:\", loss_logloss(y_pred_proba, y_test, weighted=True))\n"
      ],
      "execution_count": 12,
      "outputs": [
        {
          "output_type": "stream",
          "text": [
            "Accuracy with test data: 0.7483552631578947\n",
            "Logloss with test data: 0.6374538593708312\n"
          ],
          "name": "stdout"
        }
      ]
    },
    {
      "cell_type": "code",
      "metadata": {
        "colab": {
          "base_uri": "https://localhost:8080/"
        },
        "id": "1fi-AyAFw5Qi",
        "outputId": "f3927546-1b3d-4b4f-ec3d-3299b6873980"
      },
      "source": [
        "#Cross validation\n",
        "Logistic = LogisticRegression(random_state=0, solver='lbfgs')\n",
        "Logistic.fit(X_train, y_train)\n",
        "scores = cross_val_score(\n",
        "    Logistic, \n",
        "    X_train, \n",
        "    y_train, \n",
        "    cv=10)\n",
        "print(\"Cross validated accuracy: \", \n",
        "      np.average(scores))\n",
        "print(\"Logistic accuracy on training data: \", \n",
        "      Logistic.score(X_train, y_train))\n",
        "print(\"Logistic accuracy on testing data: \", \n",
        "      Logistic.score(X_test, y_test))\n"
      ],
      "execution_count": 13,
      "outputs": [
        {
          "output_type": "stream",
          "text": [
            "Cross validated accuracy:  0.7623918174665617\n",
            "Logistic accuracy on training data:  0.7639902676399026\n",
            "Logistic accuracy on testing data:  0.7483552631578947\n"
          ],
          "name": "stdout"
        }
      ]
    },
    {
      "cell_type": "code",
      "metadata": {
        "colab": {
          "base_uri": "https://localhost:8080/"
        },
        "id": "Ri1upxT_w07g",
        "outputId": "4f9224e7-a1a2-45e0-f046-f55db1c1c546"
      },
      "source": [
        "print(metrics.classification_report(y_test, y_pred))"
      ],
      "execution_count": 14,
      "outputs": [
        {
          "output_type": "stream",
          "text": [
            "              precision    recall  f1-score   support\n",
            "\n",
            "           0       0.77      0.30      0.44       194\n",
            "           1       0.75      0.96      0.84       414\n",
            "\n",
            "    accuracy                           0.75       608\n",
            "   macro avg       0.76      0.63      0.64       608\n",
            "weighted avg       0.75      0.75      0.71       608\n",
            "\n"
          ],
          "name": "stdout"
        }
      ]
    },
    {
      "cell_type": "markdown",
      "metadata": {
        "id": "A_1OD2NVOxOc"
      },
      "source": [
        "## 1.b Lexicon in use is Sentic."
      ]
    },
    {
      "cell_type": "code",
      "metadata": {
        "colab": {
          "base_uri": "https://localhost:8080/"
        },
        "id": "Q7wUfD5wD4au",
        "outputId": "845f8719-711e-4f26-a50d-e7e82e797f2d"
      },
      "source": [
        "!pip install senticnet\r\n"
      ],
      "execution_count": 15,
      "outputs": [
        {
          "output_type": "stream",
          "text": [
            "Requirement already satisfied: senticnet in /usr/local/lib/python3.7/dist-packages (1.6)\n"
          ],
          "name": "stdout"
        }
      ]
    },
    {
      "cell_type": "code",
      "metadata": {
        "colab": {
          "base_uri": "https://localhost:8080/"
        },
        "id": "jpWdP0ufDAwP",
        "outputId": "80150653-e5c6-48d9-cf99-b9e56f82123d"
      },
      "source": [
        "from senticnet.senticnet import SenticNet\r\n",
        "import nltk\r\n",
        "from nltk import word_tokenize\r\n",
        "nltk.download('punkt')"
      ],
      "execution_count": 16,
      "outputs": [
        {
          "output_type": "stream",
          "text": [
            "[nltk_data] Downloading package punkt to /root/nltk_data...\n",
            "[nltk_data]   Package punkt is already up-to-date!\n"
          ],
          "name": "stdout"
        },
        {
          "output_type": "execute_result",
          "data": {
            "text/plain": [
              "True"
            ]
          },
          "metadata": {
            "tags": []
          },
          "execution_count": 16
        }
      ]
    },
    {
      "cell_type": "code",
      "metadata": {
        "colab": {
          "base_uri": "https://localhost:8080/",
          "height": 108
        },
        "id": "HVy8kbXbFTek",
        "outputId": "68dd415f-2b82-435e-dbf7-92095fc3e01d"
      },
      "source": [
        "reddit.head(2)"
      ],
      "execution_count": 17,
      "outputs": [
        {
          "output_type": "execute_result",
          "data": {
            "text/html": [
              "<div>\n",
              "<style scoped>\n",
              "    .dataframe tbody tr th:only-of-type {\n",
              "        vertical-align: middle;\n",
              "    }\n",
              "\n",
              "    .dataframe tbody tr th {\n",
              "        vertical-align: top;\n",
              "    }\n",
              "\n",
              "    .dataframe thead th {\n",
              "        text-align: right;\n",
              "    }\n",
              "</style>\n",
              "<table border=\"1\" class=\"dataframe\">\n",
              "  <thead>\n",
              "    <tr style=\"text-align: right;\">\n",
              "      <th></th>\n",
              "      <th>label</th>\n",
              "      <th>text</th>\n",
              "    </tr>\n",
              "  </thead>\n",
              "  <tbody>\n",
              "    <tr>\n",
              "      <th>0</th>\n",
              "      <td>negative</td>\n",
              "      <td>My male cousin stopped talking to me all of su...</td>\n",
              "    </tr>\n",
              "    <tr>\n",
              "      <th>1</th>\n",
              "      <td>negative</td>\n",
              "      <td>Drifting away from my best friend\\nMy best fri...</td>\n",
              "    </tr>\n",
              "  </tbody>\n",
              "</table>\n",
              "</div>"
            ],
            "text/plain": [
              "      label                                               text\n",
              "0  negative  My male cousin stopped talking to me all of su...\n",
              "1  negative  Drifting away from my best friend\\nMy best fri..."
            ]
          },
          "metadata": {
            "tags": []
          },
          "execution_count": 17
        }
      ]
    },
    {
      "cell_type": "code",
      "metadata": {
        "colab": {
          "base_uri": "https://localhost:8080/",
          "height": 523
        },
        "id": "mnMzJ-S_F3w7",
        "outputId": "6b7a71f9-e75d-49f4-d00f-1b93792e775f"
      },
      "source": [
        "reddit_scentic=get_scentic_features(reddit)\r\n",
        "encodedict={'positive': 1, 'negative': 0}\r\n",
        "reddit_scentic['label'] = reddit_scentic['label'].map(encodedict) \r\n",
        "reddit_scentic.head(2)"
      ],
      "execution_count": 18,
      "outputs": [
        {
          "output_type": "stream",
          "text": [
            "/usr/local/lib/python3.7/dist-packages/ipykernel_launcher.py:95: SettingWithCopyWarning: \n",
            "A value is trying to be set on a copy of a slice from a DataFrame\n",
            "\n",
            "See the caveats in the documentation: https://pandas.pydata.org/pandas-docs/stable/user_guide/indexing.html#returning-a-view-versus-a-copy\n",
            "/usr/local/lib/python3.7/dist-packages/ipykernel_launcher.py:96: SettingWithCopyWarning: \n",
            "A value is trying to be set on a copy of a slice from a DataFrame\n",
            "\n",
            "See the caveats in the documentation: https://pandas.pydata.org/pandas-docs/stable/user_guide/indexing.html#returning-a-view-versus-a-copy\n",
            "/usr/local/lib/python3.7/dist-packages/ipykernel_launcher.py:97: SettingWithCopyWarning: \n",
            "A value is trying to be set on a copy of a slice from a DataFrame\n",
            "\n",
            "See the caveats in the documentation: https://pandas.pydata.org/pandas-docs/stable/user_guide/indexing.html#returning-a-view-versus-a-copy\n",
            "/usr/local/lib/python3.7/dist-packages/ipykernel_launcher.py:98: SettingWithCopyWarning: \n",
            "A value is trying to be set on a copy of a slice from a DataFrame\n",
            "\n",
            "See the caveats in the documentation: https://pandas.pydata.org/pandas-docs/stable/user_guide/indexing.html#returning-a-view-versus-a-copy\n",
            "/usr/local/lib/python3.7/dist-packages/ipykernel_launcher.py:99: SettingWithCopyWarning: \n",
            "A value is trying to be set on a copy of a slice from a DataFrame\n",
            "\n",
            "See the caveats in the documentation: https://pandas.pydata.org/pandas-docs/stable/user_guide/indexing.html#returning-a-view-versus-a-copy\n",
            "/usr/local/lib/python3.7/dist-packages/ipykernel_launcher.py:100: SettingWithCopyWarning: \n",
            "A value is trying to be set on a copy of a slice from a DataFrame\n",
            "\n",
            "See the caveats in the documentation: https://pandas.pydata.org/pandas-docs/stable/user_guide/indexing.html#returning-a-view-versus-a-copy\n"
          ],
          "name": "stderr"
        },
        {
          "output_type": "execute_result",
          "data": {
            "text/html": [
              "<div>\n",
              "<style scoped>\n",
              "    .dataframe tbody tr th:only-of-type {\n",
              "        vertical-align: middle;\n",
              "    }\n",
              "\n",
              "    .dataframe tbody tr th {\n",
              "        vertical-align: top;\n",
              "    }\n",
              "\n",
              "    .dataframe thead th {\n",
              "        text-align: right;\n",
              "    }\n",
              "</style>\n",
              "<table border=\"1\" class=\"dataframe\">\n",
              "  <thead>\n",
              "    <tr style=\"text-align: right;\">\n",
              "      <th></th>\n",
              "      <th>label</th>\n",
              "      <th>text</th>\n",
              "      <th>polarity_value</th>\n",
              "      <th>polarity_label</th>\n",
              "      <th>sensitivity</th>\n",
              "      <th>introspection</th>\n",
              "      <th>temper</th>\n",
              "      <th>attitude</th>\n",
              "    </tr>\n",
              "  </thead>\n",
              "  <tbody>\n",
              "    <tr>\n",
              "      <th>0</th>\n",
              "      <td>0</td>\n",
              "      <td>My male cousin stopped talking to me all of su...</td>\n",
              "      <td>13</td>\n",
              "      <td>33</td>\n",
              "      <td>13</td>\n",
              "      <td>12</td>\n",
              "      <td>-3</td>\n",
              "      <td>4</td>\n",
              "    </tr>\n",
              "    <tr>\n",
              "      <th>1</th>\n",
              "      <td>0</td>\n",
              "      <td>Drifting away from my best friend\\nMy best fri...</td>\n",
              "      <td>6</td>\n",
              "      <td>28</td>\n",
              "      <td>10</td>\n",
              "      <td>6</td>\n",
              "      <td>-2</td>\n",
              "      <td>1</td>\n",
              "    </tr>\n",
              "  </tbody>\n",
              "</table>\n",
              "</div>"
            ],
            "text/plain": [
              "   label                                               text  ...  temper  attitude\n",
              "0      0  My male cousin stopped talking to me all of su...  ...      -3         4\n",
              "1      0  Drifting away from my best friend\\nMy best fri...  ...      -2         1\n",
              "\n",
              "[2 rows x 8 columns]"
            ]
          },
          "metadata": {
            "tags": []
          },
          "execution_count": 18
        }
      ]
    },
    {
      "cell_type": "code",
      "metadata": {
        "id": "nEfpG1KuH65l"
      },
      "source": [
        "X = reddit_scentic.iloc[:, 2:]\r\n",
        "y = reddit_scentic.iloc[:, 0]\r\n",
        "X_train, X_test, y_train, y_test = split(X, y)\r\n",
        "X_train, X_test = normalize(StandardScaler(), X_train, X_test)\r\n",
        "#print(y_test[:10])"
      ],
      "execution_count": 19,
      "outputs": []
    },
    {
      "cell_type": "code",
      "metadata": {
        "colab": {
          "base_uri": "https://localhost:8080/"
        },
        "id": "KRygh2nJNj_s",
        "outputId": "ee7826a9-ad4e-44a0-cd6e-6c932faa0d84"
      },
      "source": [
        "Logistic = LogisticRegression(random_state=0, solver='lbfgs')\r\n",
        "Logistic.fit(X_train, y_train)\r\n",
        "print(\"Accuracy with training data:\", Logistic.score(X_train, y_train))\r\n",
        "prob_predicted_train = Logistic.predict_proba(X_train)\r\n",
        "print(\"Logloss with training data:\", loss_logloss(prob_predicted_train, y_train, weighted=True))\r\n"
      ],
      "execution_count": 20,
      "outputs": [
        {
          "output_type": "stream",
          "text": [
            "Accuracy with training data: 0.7696674776966748\n",
            "Logloss with training data: 0.6727347780987293\n"
          ],
          "name": "stdout"
        }
      ]
    },
    {
      "cell_type": "code",
      "metadata": {
        "colab": {
          "base_uri": "https://localhost:8080/"
        },
        "id": "62oXlwTwNvCc",
        "outputId": "7bf92dda-7947-4a04-c254-1b4943d9af6b"
      },
      "source": [
        "y_pred = Logistic.predict(X_test)\r\n",
        "print(\"Accuracy with test data:\", Logistic.score(X_test, y_test))\r\n",
        "\r\n",
        "y_pred_proba = Logistic.predict_proba(X_test)\r\n",
        "print(\"Logloss with test data:\", loss_logloss(y_pred_proba, y_test, weighted=True))\r\n"
      ],
      "execution_count": 21,
      "outputs": [
        {
          "output_type": "stream",
          "text": [
            "Accuracy with test data: 0.7483552631578947\n",
            "Logloss with test data: 0.6612992608096722\n"
          ],
          "name": "stdout"
        }
      ]
    },
    {
      "cell_type": "code",
      "metadata": {
        "colab": {
          "base_uri": "https://localhost:8080/"
        },
        "id": "Pak-Hvj7OAJ8",
        "outputId": "5a4d1a7f-537b-4395-dccb-9f03db605bcc"
      },
      "source": [
        "#Cross validation\r\n",
        "Logistic = LogisticRegression(random_state=0, solver='lbfgs')\r\n",
        "Logistic.fit(X_train, y_train)\r\n",
        "scores = cross_val_score(\r\n",
        "    Logistic, \r\n",
        "    X_train, \r\n",
        "    y_train, \r\n",
        "    cv=10)\r\n",
        "print(\"Cross validated accuracy: \", \r\n",
        "      np.average(scores))\r\n",
        "print(\"Logistic accuracy on training data: \", \r\n",
        "      Logistic.score(X_train, y_train))\r\n",
        "print(\"Logistic accuracy on testing data: \", \r\n",
        "      Logistic.score(X_test, y_test))\r\n"
      ],
      "execution_count": 22,
      "outputs": [
        {
          "output_type": "stream",
          "text": [
            "Cross validated accuracy:  0.7656176239181747\n",
            "Logistic accuracy on training data:  0.7696674776966748\n",
            "Logistic accuracy on testing data:  0.7483552631578947\n"
          ],
          "name": "stdout"
        }
      ]
    },
    {
      "cell_type": "code",
      "metadata": {
        "colab": {
          "base_uri": "https://localhost:8080/"
        },
        "id": "IWB8UvxiZpFq",
        "outputId": "dd594db2-c55c-4202-ac92-275fc059254c"
      },
      "source": [
        "print(metrics.classification_report(y_test, y_pred))"
      ],
      "execution_count": 23,
      "outputs": [
        {
          "output_type": "stream",
          "text": [
            "              precision    recall  f1-score   support\n",
            "\n",
            "           0       0.74      0.32      0.45       194\n",
            "           1       0.75      0.95      0.84       414\n",
            "\n",
            "    accuracy                           0.75       608\n",
            "   macro avg       0.75      0.64      0.64       608\n",
            "weighted avg       0.75      0.75      0.71       608\n",
            "\n"
          ],
          "name": "stdout"
        }
      ]
    },
    {
      "cell_type": "markdown",
      "metadata": {
        "id": "J8_Ev_sGvM9G"
      },
      "source": [
        "##1.c Lexicon in use is affine_ncr "
      ]
    },
    {
      "cell_type": "code",
      "metadata": {
        "colab": {
          "base_uri": "https://localhost:8080/",
          "height": 108
        },
        "id": "_8K95uvLeGK5",
        "outputId": "f417c20d-495f-40c0-a182-da3ed444afbc"
      },
      "source": [
        "reddit_all_two_lexicos= pd.read_csv(Path('/content/drive/My Drive/DSP/data/bachelor/Reddit_afinn_nrc.csv'))\n",
        "reddit_all_two_lexicos.head(2)"
      ],
      "execution_count": 24,
      "outputs": [
        {
          "output_type": "execute_result",
          "data": {
            "text/html": [
              "<div>\n",
              "<style scoped>\n",
              "    .dataframe tbody tr th:only-of-type {\n",
              "        vertical-align: middle;\n",
              "    }\n",
              "\n",
              "    .dataframe tbody tr th {\n",
              "        vertical-align: top;\n",
              "    }\n",
              "\n",
              "    .dataframe thead th {\n",
              "        text-align: right;\n",
              "    }\n",
              "</style>\n",
              "<table border=\"1\" class=\"dataframe\">\n",
              "  <thead>\n",
              "    <tr style=\"text-align: right;\">\n",
              "      <th></th>\n",
              "      <th>0</th>\n",
              "      <th>1</th>\n",
              "      <th>2</th>\n",
              "      <th>3</th>\n",
              "    </tr>\n",
              "  </thead>\n",
              "  <tbody>\n",
              "    <tr>\n",
              "      <th>0</th>\n",
              "      <td>10.0</td>\n",
              "      <td>18.0</td>\n",
              "      <td>13.0</td>\n",
              "      <td>9.0</td>\n",
              "    </tr>\n",
              "    <tr>\n",
              "      <th>1</th>\n",
              "      <td>28.0</td>\n",
              "      <td>11.0</td>\n",
              "      <td>17.0</td>\n",
              "      <td>7.0</td>\n",
              "    </tr>\n",
              "  </tbody>\n",
              "</table>\n",
              "</div>"
            ],
            "text/plain": [
              "      0     1     2    3\n",
              "0  10.0  18.0  13.0  9.0\n",
              "1  28.0  11.0  17.0  7.0"
            ]
          },
          "metadata": {
            "tags": []
          },
          "execution_count": 24
        }
      ]
    },
    {
      "cell_type": "code",
      "metadata": {
        "colab": {
          "base_uri": "https://localhost:8080/",
          "height": 108
        },
        "id": "14L3h6QqenGH",
        "outputId": "0c532247-7da8-4b04-9e2e-5f173cd02b7a"
      },
      "source": [
        "df_reddit = pd.concat([reddit,reddit_all_two_lexicos], axis=1)\n",
        "df_reddit.head(2)\n"
      ],
      "execution_count": 25,
      "outputs": [
        {
          "output_type": "execute_result",
          "data": {
            "text/html": [
              "<div>\n",
              "<style scoped>\n",
              "    .dataframe tbody tr th:only-of-type {\n",
              "        vertical-align: middle;\n",
              "    }\n",
              "\n",
              "    .dataframe tbody tr th {\n",
              "        vertical-align: top;\n",
              "    }\n",
              "\n",
              "    .dataframe thead th {\n",
              "        text-align: right;\n",
              "    }\n",
              "</style>\n",
              "<table border=\"1\" class=\"dataframe\">\n",
              "  <thead>\n",
              "    <tr style=\"text-align: right;\">\n",
              "      <th></th>\n",
              "      <th>label</th>\n",
              "      <th>text</th>\n",
              "      <th>polarity_value</th>\n",
              "      <th>polarity_label</th>\n",
              "      <th>sensitivity</th>\n",
              "      <th>introspection</th>\n",
              "      <th>temper</th>\n",
              "      <th>attitude</th>\n",
              "      <th>0</th>\n",
              "      <th>1</th>\n",
              "      <th>2</th>\n",
              "      <th>3</th>\n",
              "    </tr>\n",
              "  </thead>\n",
              "  <tbody>\n",
              "    <tr>\n",
              "      <th>0</th>\n",
              "      <td>0</td>\n",
              "      <td>My male cousin stopped talking to me all of su...</td>\n",
              "      <td>13</td>\n",
              "      <td>33</td>\n",
              "      <td>13</td>\n",
              "      <td>12</td>\n",
              "      <td>-3</td>\n",
              "      <td>4</td>\n",
              "      <td>10.0</td>\n",
              "      <td>18.0</td>\n",
              "      <td>13.0</td>\n",
              "      <td>9.0</td>\n",
              "    </tr>\n",
              "    <tr>\n",
              "      <th>1</th>\n",
              "      <td>0</td>\n",
              "      <td>Drifting away from my best friend\\nMy best fri...</td>\n",
              "      <td>6</td>\n",
              "      <td>28</td>\n",
              "      <td>10</td>\n",
              "      <td>6</td>\n",
              "      <td>-2</td>\n",
              "      <td>1</td>\n",
              "      <td>28.0</td>\n",
              "      <td>11.0</td>\n",
              "      <td>17.0</td>\n",
              "      <td>7.0</td>\n",
              "    </tr>\n",
              "  </tbody>\n",
              "</table>\n",
              "</div>"
            ],
            "text/plain": [
              "   label                                               text  ...     2    3\n",
              "0      0  My male cousin stopped talking to me all of su...  ...  13.0  9.0\n",
              "1      0  Drifting away from my best friend\\nMy best fri...  ...  17.0  7.0\n",
              "\n",
              "[2 rows x 12 columns]"
            ]
          },
          "metadata": {
            "tags": []
          },
          "execution_count": 25
        }
      ]
    },
    {
      "cell_type": "code",
      "metadata": {
        "id": "S3KKUmLJwmBg"
      },
      "source": [
        "X = df_reddit.iloc[:, 2:]\n",
        "y = df_reddit.iloc[:, 0]\n",
        "X_train, X_test, y_train, y_test = split(X, y)\n",
        "X_train, X_test = normalize(StandardScaler(), X_train, X_test)\n",
        "#print(y_test[:10])"
      ],
      "execution_count": 26,
      "outputs": []
    },
    {
      "cell_type": "code",
      "metadata": {
        "colab": {
          "base_uri": "https://localhost:8080/"
        },
        "id": "vQ_48fsw9ORb",
        "outputId": "c5caef9a-38d0-47db-9cdd-c0da80106494"
      },
      "source": [
        "#Cross validation\n",
        "Logistic = LogisticRegression(random_state=0, solver='lbfgs')\n",
        "Logistic.fit(X_train, y_train)\n",
        "scores = cross_val_score(\n",
        "    Logistic, \n",
        "    X_train, \n",
        "    y_train, \n",
        "    cv=10)\n",
        "print(\"Cross validated accuracy: \", \n",
        "      np.average(scores))\n",
        "print(\"Logistic accuracy on training data: \", \n",
        "      Logistic.score(X_train, y_train))\n",
        "print(\"Logistic accuracy on testing data: \", \n",
        "      Logistic.score(X_test, y_test))\n"
      ],
      "execution_count": 27,
      "outputs": [
        {
          "output_type": "stream",
          "text": [
            "Cross validated accuracy:  0.7777668502491476\n",
            "Logistic accuracy on training data:  0.7802108678021087\n",
            "Logistic accuracy on testing data:  0.7582236842105263\n"
          ],
          "name": "stdout"
        }
      ]
    },
    {
      "cell_type": "code",
      "metadata": {
        "colab": {
          "base_uri": "https://localhost:8080/"
        },
        "id": "UgpemXty9U9l",
        "outputId": "d258b9fe-05dc-4ea7-ae7b-1b6c73568bc9"
      },
      "source": [
        "print(metrics.classification_report(y_test, y_pred))"
      ],
      "execution_count": 28,
      "outputs": [
        {
          "output_type": "stream",
          "text": [
            "              precision    recall  f1-score   support\n",
            "\n",
            "           0       0.74      0.32      0.45       194\n",
            "           1       0.75      0.95      0.84       414\n",
            "\n",
            "    accuracy                           0.75       608\n",
            "   macro avg       0.75      0.64      0.64       608\n",
            "weighted avg       0.75      0.75      0.71       608\n",
            "\n"
          ],
          "name": "stdout"
        }
      ]
    },
    {
      "cell_type": "markdown",
      "metadata": {
        "id": "zY2BAWtf4D0p"
      },
      "source": [
        "# 2. Part Second: Mixed Dataset"
      ]
    },
    {
      "cell_type": "code",
      "metadata": {
        "id": "yhvCPvbMwvVi"
      },
      "source": [
        "Mixed= pd.read_csv(Path('/content/drive/My Drive/DSP/data/bachelor/Mixed.csv'))"
      ],
      "execution_count": 29,
      "outputs": []
    },
    {
      "cell_type": "code",
      "metadata": {
        "colab": {
          "base_uri": "https://localhost:8080/",
          "height": 108
        },
        "id": "qM-jxnAT4H5W",
        "outputId": "51272583-4132-494d-d5b3-516e4a5bca87"
      },
      "source": [
        "Mixed.head(2)"
      ],
      "execution_count": 30,
      "outputs": [
        {
          "output_type": "execute_result",
          "data": {
            "text/html": [
              "<div>\n",
              "<style scoped>\n",
              "    .dataframe tbody tr th:only-of-type {\n",
              "        vertical-align: middle;\n",
              "    }\n",
              "\n",
              "    .dataframe tbody tr th {\n",
              "        vertical-align: top;\n",
              "    }\n",
              "\n",
              "    .dataframe thead th {\n",
              "        text-align: right;\n",
              "    }\n",
              "</style>\n",
              "<table border=\"1\" class=\"dataframe\">\n",
              "  <thead>\n",
              "    <tr style=\"text-align: right;\">\n",
              "      <th></th>\n",
              "      <th>label</th>\n",
              "      <th>text</th>\n",
              "    </tr>\n",
              "  </thead>\n",
              "  <tbody>\n",
              "    <tr>\n",
              "      <th>0</th>\n",
              "      <td>negative</td>\n",
              "      <td>My male cousin stopped talking to me all of su...</td>\n",
              "    </tr>\n",
              "    <tr>\n",
              "      <th>1</th>\n",
              "      <td>negative</td>\n",
              "      <td>Drifting away from my best friend\\nMy best fri...</td>\n",
              "    </tr>\n",
              "  </tbody>\n",
              "</table>\n",
              "</div>"
            ],
            "text/plain": [
              "      label                                               text\n",
              "0  negative  My male cousin stopped talking to me all of su...\n",
              "1  negative  Drifting away from my best friend\\nMy best fri..."
            ]
          },
          "metadata": {
            "tags": []
          },
          "execution_count": 30
        }
      ]
    },
    {
      "cell_type": "code",
      "metadata": {
        "id": "GG_lPMKx4U9N"
      },
      "source": [
        "mixed_all_four_lexicons= pd.read_csv(Path('/content/drive/My Drive/DSP/data/bachelor/Mixed_afinn_nrc_nrc_sa_mpqa.csv'))"
      ],
      "execution_count": 31,
      "outputs": []
    },
    {
      "cell_type": "code",
      "metadata": {
        "colab": {
          "base_uri": "https://localhost:8080/",
          "height": 108
        },
        "id": "Z_iYUU_F4n-v",
        "outputId": "f0fca0e1-2282-4376-b014-414d01d27abb"
      },
      "source": [
        "df_mixed = pd.concat([Mixed,mixed_all_four_lexicons], axis=1)\n",
        "df_mixed.head(2)"
      ],
      "execution_count": 32,
      "outputs": [
        {
          "output_type": "execute_result",
          "data": {
            "text/html": [
              "<div>\n",
              "<style scoped>\n",
              "    .dataframe tbody tr th:only-of-type {\n",
              "        vertical-align: middle;\n",
              "    }\n",
              "\n",
              "    .dataframe tbody tr th {\n",
              "        vertical-align: top;\n",
              "    }\n",
              "\n",
              "    .dataframe thead th {\n",
              "        text-align: right;\n",
              "    }\n",
              "</style>\n",
              "<table border=\"1\" class=\"dataframe\">\n",
              "  <thead>\n",
              "    <tr style=\"text-align: right;\">\n",
              "      <th></th>\n",
              "      <th>label</th>\n",
              "      <th>text</th>\n",
              "      <th>0</th>\n",
              "      <th>1</th>\n",
              "      <th>2</th>\n",
              "      <th>3</th>\n",
              "      <th>4</th>\n",
              "      <th>5</th>\n",
              "      <th>6</th>\n",
              "      <th>7</th>\n",
              "      <th>8</th>\n",
              "      <th>9</th>\n",
              "      <th>10</th>\n",
              "      <th>11</th>\n",
              "      <th>12</th>\n",
              "      <th>13</th>\n",
              "      <th>14</th>\n",
              "    </tr>\n",
              "  </thead>\n",
              "  <tbody>\n",
              "    <tr>\n",
              "      <th>0</th>\n",
              "      <td>negative</td>\n",
              "      <td>My male cousin stopped talking to me all of su...</td>\n",
              "      <td>10.0</td>\n",
              "      <td>18.0</td>\n",
              "      <td>13.0</td>\n",
              "      <td>9.0</td>\n",
              "      <td>2.0</td>\n",
              "      <td>8.0</td>\n",
              "      <td>3.0</td>\n",
              "      <td>5.0</td>\n",
              "      <td>8.0</td>\n",
              "      <td>7.0</td>\n",
              "      <td>4.0</td>\n",
              "      <td>7.0</td>\n",
              "      <td>11.0</td>\n",
              "      <td>9.0</td>\n",
              "      <td>13.0</td>\n",
              "    </tr>\n",
              "    <tr>\n",
              "      <th>1</th>\n",
              "      <td>negative</td>\n",
              "      <td>Drifting away from my best friend\\nMy best fri...</td>\n",
              "      <td>28.0</td>\n",
              "      <td>11.0</td>\n",
              "      <td>17.0</td>\n",
              "      <td>7.0</td>\n",
              "      <td>3.0</td>\n",
              "      <td>9.0</td>\n",
              "      <td>3.0</td>\n",
              "      <td>3.0</td>\n",
              "      <td>10.0</td>\n",
              "      <td>3.0</td>\n",
              "      <td>3.0</td>\n",
              "      <td>12.0</td>\n",
              "      <td>21.0</td>\n",
              "      <td>11.0</td>\n",
              "      <td>24.0</td>\n",
              "    </tr>\n",
              "  </tbody>\n",
              "</table>\n",
              "</div>"
            ],
            "text/plain": [
              "      label                                               text  ...    13    14\n",
              "0  negative  My male cousin stopped talking to me all of su...  ...   9.0  13.0\n",
              "1  negative  Drifting away from my best friend\\nMy best fri...  ...  11.0  24.0\n",
              "\n",
              "[2 rows x 17 columns]"
            ]
          },
          "metadata": {
            "tags": []
          },
          "execution_count": 32
        }
      ]
    },
    {
      "cell_type": "code",
      "metadata": {
        "colab": {
          "base_uri": "https://localhost:8080/"
        },
        "id": "UEpGliaj6AFt",
        "outputId": "96468e14-88b4-408e-9cef-91a1c64df704"
      },
      "source": [
        "df_mixed.shape[0]"
      ],
      "execution_count": 33,
      "outputs": [
        {
          "output_type": "execute_result",
          "data": {
            "text/plain": [
              "2810"
            ]
          },
          "metadata": {
            "tags": []
          },
          "execution_count": 33
        }
      ]
    },
    {
      "cell_type": "markdown",
      "metadata": {
        "id": "SBPxs7-FWftS"
      },
      "source": [
        "##2.a Lexicon in use is afinn_nrc_nrc_sa_mpqa."
      ]
    },
    {
      "cell_type": "code",
      "metadata": {
        "id": "0CCc5-Gu6YCJ",
        "colab": {
          "base_uri": "https://localhost:8080/",
          "height": 331
        },
        "outputId": "5cf40aa8-85d4-4314-88fc-e01970cf83f4"
      },
      "source": [
        "columns = ['label', 'text', 'afinn_positive', 'afinn_negative', 'nrc_positive', 'nrc_negative', 'nrc_anger', 'nrc_anticipation', 'nrc_disgust', 'nrc_fear', 'nrc_joy', 'nrc_sadness', 'nrc_surprise', 'nrc_trust', 'mpqa_positive', 'mpqa_negative', 'mpqa_strong_subjectivty']\n",
        "df_mixed=encode_data(df_mixed, columns, encodedict={'positive': 1, 'negative': 0})\n",
        "plot(df_mixed, \"Mixed\") \n"
      ],
      "execution_count": 34,
      "outputs": [
        {
          "output_type": "stream",
          "text": [
            "Dataset: Mixed \n",
            "\n"
          ],
          "name": "stdout"
        },
        {
          "output_type": "execute_result",
          "data": {
            "text/plain": [
              "<matplotlib.axes._subplots.AxesSubplot at 0x7fc0f86e1090>"
            ]
          },
          "metadata": {
            "tags": []
          },
          "execution_count": 34
        },
        {
          "output_type": "display_data",
          "data": {
            "image/png": "[encoded data removed]",
            "text/plain": [
              "<Figure size 432x288 with 1 Axes>"
            ]
          },
          "metadata": {
            "tags": [],
            "needs_background": "light"
          }
        }
      ]
    },
    {
      "cell_type": "code",
      "metadata": {
        "id": "XSPAcR4wiMiq"
      },
      "source": [
        "X = df_mixed.iloc[:, 2:]\n",
        "y = df_mixed.iloc[:, 0]\n",
        "X_train, X_test, y_train, y_test = split(X, y)\n",
        "X_train, X_test = normalize(StandardScaler(), X_train, X_test)\n",
        "#print(y_test[:10])"
      ],
      "execution_count": 35,
      "outputs": []
    },
    {
      "cell_type": "code",
      "metadata": {
        "colab": {
          "base_uri": "https://localhost:8080/"
        },
        "id": "PufR3rakiWFM",
        "outputId": "85f6eadf-e8c8-43f0-8082-883ed60987a6"
      },
      "source": [
        "Logistic = LogisticRegression(random_state=0, solver='lbfgs')\n",
        "Logistic.fit(X_train, y_train)\n",
        "print(\"Accuracy with training data:\", Logistic.score(X_train, y_train))\n",
        "prob_predicted_train = Logistic.predict_proba(X_train)\n",
        "print(\"Logloss with training data:\", loss_logloss(prob_predicted_train, y_train, weighted=False))"
      ],
      "execution_count": 36,
      "outputs": [
        {
          "output_type": "stream",
          "text": [
            "Accuracy with training data: 0.6992561105207227\n",
            "Logloss with training data: 0.6006821871982311\n"
          ],
          "name": "stdout"
        }
      ]
    },
    {
      "cell_type": "code",
      "metadata": {
        "colab": {
          "base_uri": "https://localhost:8080/"
        },
        "id": "beOcZlZWijqz",
        "outputId": "c895acd1-3cd1-469a-f777-1513ea03fd11"
      },
      "source": [
        "y_pred = Logistic.predict(X_test)\n",
        "print(\"Accuracy with test data:\", Logistic.score(X_test, y_test))\n",
        "\n",
        "y_pred_proba = Logistic.predict_proba(X_test)\n",
        "print(\"Logloss with test data:\", loss_logloss(y_pred_proba, y_test, weighted=False))\n"
      ],
      "execution_count": 37,
      "outputs": [
        {
          "output_type": "stream",
          "text": [
            "Accuracy with test data: 0.7122844827586207\n",
            "Logloss with test data: 0.5910839793065426\n"
          ],
          "name": "stdout"
        }
      ]
    },
    {
      "cell_type": "code",
      "metadata": {
        "colab": {
          "base_uri": "https://localhost:8080/"
        },
        "id": "1of8iUbHixbx",
        "outputId": "ad327a17-4e8a-4b54-ebd2-590c982512e4"
      },
      "source": [
        "#Cross validation\n",
        "Logistic = LogisticRegression(random_state=0, solver='lbfgs')\n",
        "Logistic.fit(X_train, y_train)\n",
        "scores = cross_val_score(\n",
        "    Logistic, \n",
        "    X_train, \n",
        "    y_train, \n",
        "    cv=10)\n",
        "print(\"Cross validated accuracy: \", \n",
        "      np.average(scores))\n",
        "print(\"Logistic accuracy on training data: \", \n",
        "      Logistic.score(X_train, y_train))\n",
        "print(\"Logistic accuracy on testing data: \", \n",
        "      Logistic.score(X_test, y_test))\n"
      ],
      "execution_count": 38,
      "outputs": [
        {
          "output_type": "stream",
          "text": [
            "Cross validated accuracy:  0.6896994258696386\n",
            "Logistic accuracy on training data:  0.6992561105207227\n",
            "Logistic accuracy on testing data:  0.7122844827586207\n"
          ],
          "name": "stdout"
        }
      ]
    },
    {
      "cell_type": "code",
      "metadata": {
        "colab": {
          "base_uri": "https://localhost:8080/"
        },
        "id": "ZzIvV73Zgaoj",
        "outputId": "a017efdc-9544-4d83-bf1c-478253a1a9f4"
      },
      "source": [
        "print(metrics.classification_report(y_test, y_pred))"
      ],
      "execution_count": 39,
      "outputs": [
        {
          "output_type": "stream",
          "text": [
            "              precision    recall  f1-score   support\n",
            "\n",
            "           0       0.68      0.83      0.75       474\n",
            "           1       0.77      0.59      0.67       454\n",
            "\n",
            "    accuracy                           0.71       928\n",
            "   macro avg       0.72      0.71      0.71       928\n",
            "weighted avg       0.72      0.71      0.71       928\n",
            "\n"
          ],
          "name": "stdout"
        }
      ]
    },
    {
      "cell_type": "markdown",
      "metadata": {
        "id": "ld-j7basPH1z"
      },
      "source": [
        "## 2.b Lexicon in use is Sentic."
      ]
    },
    {
      "cell_type": "code",
      "metadata": {
        "colab": {
          "base_uri": "https://localhost:8080/",
          "height": 108
        },
        "id": "DgW1ahIoGqT0",
        "outputId": "3e5cf43d-9759-450d-ae63-da2ba7a735f1"
      },
      "source": [
        "Mixed.head(2)"
      ],
      "execution_count": 40,
      "outputs": [
        {
          "output_type": "execute_result",
          "data": {
            "text/html": [
              "<div>\n",
              "<style scoped>\n",
              "    .dataframe tbody tr th:only-of-type {\n",
              "        vertical-align: middle;\n",
              "    }\n",
              "\n",
              "    .dataframe tbody tr th {\n",
              "        vertical-align: top;\n",
              "    }\n",
              "\n",
              "    .dataframe thead th {\n",
              "        text-align: right;\n",
              "    }\n",
              "</style>\n",
              "<table border=\"1\" class=\"dataframe\">\n",
              "  <thead>\n",
              "    <tr style=\"text-align: right;\">\n",
              "      <th></th>\n",
              "      <th>label</th>\n",
              "      <th>text</th>\n",
              "    </tr>\n",
              "  </thead>\n",
              "  <tbody>\n",
              "    <tr>\n",
              "      <th>0</th>\n",
              "      <td>negative</td>\n",
              "      <td>My male cousin stopped talking to me all of su...</td>\n",
              "    </tr>\n",
              "    <tr>\n",
              "      <th>1</th>\n",
              "      <td>negative</td>\n",
              "      <td>Drifting away from my best friend\\nMy best fri...</td>\n",
              "    </tr>\n",
              "  </tbody>\n",
              "</table>\n",
              "</div>"
            ],
            "text/plain": [
              "      label                                               text\n",
              "0  negative  My male cousin stopped talking to me all of su...\n",
              "1  negative  Drifting away from my best friend\\nMy best fri..."
            ]
          },
          "metadata": {
            "tags": []
          },
          "execution_count": 40
        }
      ]
    },
    {
      "cell_type": "code",
      "metadata": {
        "colab": {
          "base_uri": "https://localhost:8080/",
          "height": 523
        },
        "id": "G70LffYJGwaS",
        "outputId": "8f919686-d8c3-4866-d7b9-2df5fbdf7e49"
      },
      "source": [
        "mixed_scentic=get_scentic_features(Mixed)\r\n",
        "encodedict={'positive': 1, 'negative': 0}\r\n",
        "mixed_scentic['label'] = mixed_scentic['label'].map(encodedict) \r\n",
        "mixed_scentic.head(2)"
      ],
      "execution_count": 41,
      "outputs": [
        {
          "output_type": "stream",
          "text": [
            "/usr/local/lib/python3.7/dist-packages/ipykernel_launcher.py:95: SettingWithCopyWarning: \n",
            "A value is trying to be set on a copy of a slice from a DataFrame\n",
            "\n",
            "See the caveats in the documentation: https://pandas.pydata.org/pandas-docs/stable/user_guide/indexing.html#returning-a-view-versus-a-copy\n",
            "/usr/local/lib/python3.7/dist-packages/ipykernel_launcher.py:96: SettingWithCopyWarning: \n",
            "A value is trying to be set on a copy of a slice from a DataFrame\n",
            "\n",
            "See the caveats in the documentation: https://pandas.pydata.org/pandas-docs/stable/user_guide/indexing.html#returning-a-view-versus-a-copy\n",
            "/usr/local/lib/python3.7/dist-packages/ipykernel_launcher.py:97: SettingWithCopyWarning: \n",
            "A value is trying to be set on a copy of a slice from a DataFrame\n",
            "\n",
            "See the caveats in the documentation: https://pandas.pydata.org/pandas-docs/stable/user_guide/indexing.html#returning-a-view-versus-a-copy\n",
            "/usr/local/lib/python3.7/dist-packages/ipykernel_launcher.py:98: SettingWithCopyWarning: \n",
            "A value is trying to be set on a copy of a slice from a DataFrame\n",
            "\n",
            "See the caveats in the documentation: https://pandas.pydata.org/pandas-docs/stable/user_guide/indexing.html#returning-a-view-versus-a-copy\n",
            "/usr/local/lib/python3.7/dist-packages/ipykernel_launcher.py:99: SettingWithCopyWarning: \n",
            "A value is trying to be set on a copy of a slice from a DataFrame\n",
            "\n",
            "See the caveats in the documentation: https://pandas.pydata.org/pandas-docs/stable/user_guide/indexing.html#returning-a-view-versus-a-copy\n",
            "/usr/local/lib/python3.7/dist-packages/ipykernel_launcher.py:100: SettingWithCopyWarning: \n",
            "A value is trying to be set on a copy of a slice from a DataFrame\n",
            "\n",
            "See the caveats in the documentation: https://pandas.pydata.org/pandas-docs/stable/user_guide/indexing.html#returning-a-view-versus-a-copy\n"
          ],
          "name": "stderr"
        },
        {
          "output_type": "execute_result",
          "data": {
            "text/html": [
              "<div>\n",
              "<style scoped>\n",
              "    .dataframe tbody tr th:only-of-type {\n",
              "        vertical-align: middle;\n",
              "    }\n",
              "\n",
              "    .dataframe tbody tr th {\n",
              "        vertical-align: top;\n",
              "    }\n",
              "\n",
              "    .dataframe thead th {\n",
              "        text-align: right;\n",
              "    }\n",
              "</style>\n",
              "<table border=\"1\" class=\"dataframe\">\n",
              "  <thead>\n",
              "    <tr style=\"text-align: right;\">\n",
              "      <th></th>\n",
              "      <th>label</th>\n",
              "      <th>text</th>\n",
              "      <th>polarity_value</th>\n",
              "      <th>polarity_label</th>\n",
              "      <th>sensitivity</th>\n",
              "      <th>introspection</th>\n",
              "      <th>temper</th>\n",
              "      <th>attitude</th>\n",
              "    </tr>\n",
              "  </thead>\n",
              "  <tbody>\n",
              "    <tr>\n",
              "      <th>0</th>\n",
              "      <td>0</td>\n",
              "      <td>My male cousin stopped talking to me all of su...</td>\n",
              "      <td>13</td>\n",
              "      <td>33</td>\n",
              "      <td>13</td>\n",
              "      <td>12</td>\n",
              "      <td>-3</td>\n",
              "      <td>4</td>\n",
              "    </tr>\n",
              "    <tr>\n",
              "      <th>1</th>\n",
              "      <td>0</td>\n",
              "      <td>Drifting away from my best friend\\nMy best fri...</td>\n",
              "      <td>6</td>\n",
              "      <td>28</td>\n",
              "      <td>10</td>\n",
              "      <td>6</td>\n",
              "      <td>-2</td>\n",
              "      <td>1</td>\n",
              "    </tr>\n",
              "  </tbody>\n",
              "</table>\n",
              "</div>"
            ],
            "text/plain": [
              "   label                                               text  ...  temper  attitude\n",
              "0      0  My male cousin stopped talking to me all of su...  ...      -3         4\n",
              "1      0  Drifting away from my best friend\\nMy best fri...  ...      -2         1\n",
              "\n",
              "[2 rows x 8 columns]"
            ]
          },
          "metadata": {
            "tags": []
          },
          "execution_count": 41
        }
      ]
    },
    {
      "cell_type": "code",
      "metadata": {
        "colab": {
          "base_uri": "https://localhost:8080/"
        },
        "id": "d5zUlfoZNnW2",
        "outputId": "9f0a7004-48a5-46ab-b510-8df97cfbf12a"
      },
      "source": [
        "Logistic = LogisticRegression(random_state=0, solver='lbfgs')\r\n",
        "Logistic.fit(X_train, y_train)\r\n",
        "print(\"Accuracy with training data:\", Logistic.score(X_train, y_train))\r\n",
        "prob_predicted_train = Logistic.predict_proba(X_train)\r\n",
        "print(\"Logloss with training data:\", loss_logloss(prob_predicted_train, y_train, weighted=True))\r\n"
      ],
      "execution_count": 42,
      "outputs": [
        {
          "output_type": "stream",
          "text": [
            "Accuracy with training data: 0.6992561105207227\n",
            "Logloss with training data: 0.6048889726410016\n"
          ],
          "name": "stdout"
        }
      ]
    },
    {
      "cell_type": "code",
      "metadata": {
        "colab": {
          "base_uri": "https://localhost:8080/"
        },
        "id": "5oQxaCBrNtGK",
        "outputId": "f7844194-6199-4615-b38f-83d49666e517"
      },
      "source": [
        "y_pred = Logistic.predict(X_test)\r\n",
        "print(\"Accuracy with test data:\", Logistic.score(X_test, y_test))\r\n",
        "\r\n",
        "y_pred_proba = Logistic.predict_proba(X_test)\r\n",
        "print(\"Logloss with test data:\", loss_logloss(y_pred_proba, y_test, weighted=True))\r\n"
      ],
      "execution_count": 43,
      "outputs": [
        {
          "output_type": "stream",
          "text": [
            "Accuracy with test data: 0.7122844827586207\n",
            "Logloss with test data: 0.5922016734946322\n"
          ],
          "name": "stdout"
        }
      ]
    },
    {
      "cell_type": "code",
      "metadata": {
        "colab": {
          "base_uri": "https://localhost:8080/"
        },
        "id": "dsLxWy2wOCp4",
        "outputId": "2052df1e-0991-416a-d767-0e588c15e11f"
      },
      "source": [
        "#Cross validation\r\n",
        "Logistic = LogisticRegression(random_state=0, solver='lbfgs')\r\n",
        "Logistic.fit(X_train, y_train)\r\n",
        "scores = cross_val_score(\r\n",
        "    Logistic, \r\n",
        "    X_train, \r\n",
        "    y_train, \r\n",
        "    cv=10)\r\n",
        "print(\"Cross validated accuracy: \", \r\n",
        "      np.average(scores))\r\n",
        "print(\"Logistic accuracy on training data: \", \r\n",
        "      Logistic.score(X_train, y_train))\r\n",
        "print(\"Logistic accuracy on testing data: \", \r\n",
        "      Logistic.score(X_test, y_test))\r\n"
      ],
      "execution_count": 44,
      "outputs": [
        {
          "output_type": "stream",
          "text": [
            "Cross validated accuracy:  0.6896994258696386\n",
            "Logistic accuracy on training data:  0.6992561105207227\n",
            "Logistic accuracy on testing data:  0.7122844827586207\n"
          ],
          "name": "stdout"
        }
      ]
    },
    {
      "cell_type": "code",
      "metadata": {
        "colab": {
          "base_uri": "https://localhost:8080/"
        },
        "id": "6jzNqaMwgfYr",
        "outputId": "bae033ec-6ead-4992-dc4c-95dea7adc5df"
      },
      "source": [
        "print(metrics.classification_report(y_test, y_pred))"
      ],
      "execution_count": 45,
      "outputs": [
        {
          "output_type": "stream",
          "text": [
            "              precision    recall  f1-score   support\n",
            "\n",
            "           0       0.68      0.83      0.75       474\n",
            "           1       0.77      0.59      0.67       454\n",
            "\n",
            "    accuracy                           0.71       928\n",
            "   macro avg       0.72      0.71      0.71       928\n",
            "weighted avg       0.72      0.71      0.71       928\n",
            "\n"
          ],
          "name": "stdout"
        }
      ]
    },
    {
      "cell_type": "markdown",
      "metadata": {
        "id": "87K-zdue9nNG"
      },
      "source": [
        "##2.c Lexicon in use is affine_ncr"
      ]
    },
    {
      "cell_type": "code",
      "metadata": {
        "colab": {
          "base_uri": "https://localhost:8080/",
          "height": 138
        },
        "id": "52aoMqce96TH",
        "outputId": "2263706d-0216-4c49-f41f-bfc114364324"
      },
      "source": [
        "Mixed_all_two_lexicos= pd.read_csv(Path('/content/drive/My Drive/DSP/data/bachelor/Mixed_afinn_nrc.csv'))\n",
        "Mixed_all_two_lexicos.head(3)"
      ],
      "execution_count": 54,
      "outputs": [
        {
          "output_type": "execute_result",
          "data": {
            "text/html": [
              "<div>\n",
              "<style scoped>\n",
              "    .dataframe tbody tr th:only-of-type {\n",
              "        vertical-align: middle;\n",
              "    }\n",
              "\n",
              "    .dataframe tbody tr th {\n",
              "        vertical-align: top;\n",
              "    }\n",
              "\n",
              "    .dataframe thead th {\n",
              "        text-align: right;\n",
              "    }\n",
              "</style>\n",
              "<table border=\"1\" class=\"dataframe\">\n",
              "  <thead>\n",
              "    <tr style=\"text-align: right;\">\n",
              "      <th></th>\n",
              "      <th>0</th>\n",
              "      <th>1</th>\n",
              "      <th>2</th>\n",
              "      <th>3</th>\n",
              "    </tr>\n",
              "  </thead>\n",
              "  <tbody>\n",
              "    <tr>\n",
              "      <th>0</th>\n",
              "      <td>10.0</td>\n",
              "      <td>18.0</td>\n",
              "      <td>13.0</td>\n",
              "      <td>9.0</td>\n",
              "    </tr>\n",
              "    <tr>\n",
              "      <th>1</th>\n",
              "      <td>28.0</td>\n",
              "      <td>11.0</td>\n",
              "      <td>17.0</td>\n",
              "      <td>7.0</td>\n",
              "    </tr>\n",
              "    <tr>\n",
              "      <th>2</th>\n",
              "      <td>29.0</td>\n",
              "      <td>11.0</td>\n",
              "      <td>14.0</td>\n",
              "      <td>4.0</td>\n",
              "    </tr>\n",
              "  </tbody>\n",
              "</table>\n",
              "</div>"
            ],
            "text/plain": [
              "      0     1     2    3\n",
              "0  10.0  18.0  13.0  9.0\n",
              "1  28.0  11.0  17.0  7.0\n",
              "2  29.0  11.0  14.0  4.0"
            ]
          },
          "metadata": {
            "tags": []
          },
          "execution_count": 54
        }
      ]
    },
    {
      "cell_type": "code",
      "metadata": {
        "colab": {
          "base_uri": "https://localhost:8080/",
          "height": 108
        },
        "id": "mnkDKdHRig0K",
        "outputId": "36e45ea3-b4f2-43a9-c0af-15247aff38b0"
      },
      "source": [
        "Mixed= pd.read_csv(Path('/content/drive/My Drive/DSP/data/bachelor/Mixed.csv'))\n",
        "Mixed.head(2)"
      ],
      "execution_count": 55,
      "outputs": [
        {
          "output_type": "execute_result",
          "data": {
            "text/html": [
              "<div>\n",
              "<style scoped>\n",
              "    .dataframe tbody tr th:only-of-type {\n",
              "        vertical-align: middle;\n",
              "    }\n",
              "\n",
              "    .dataframe tbody tr th {\n",
              "        vertical-align: top;\n",
              "    }\n",
              "\n",
              "    .dataframe thead th {\n",
              "        text-align: right;\n",
              "    }\n",
              "</style>\n",
              "<table border=\"1\" class=\"dataframe\">\n",
              "  <thead>\n",
              "    <tr style=\"text-align: right;\">\n",
              "      <th></th>\n",
              "      <th>label</th>\n",
              "      <th>text</th>\n",
              "    </tr>\n",
              "  </thead>\n",
              "  <tbody>\n",
              "    <tr>\n",
              "      <th>0</th>\n",
              "      <td>negative</td>\n",
              "      <td>My male cousin stopped talking to me all of su...</td>\n",
              "    </tr>\n",
              "    <tr>\n",
              "      <th>1</th>\n",
              "      <td>negative</td>\n",
              "      <td>Drifting away from my best friend\\nMy best fri...</td>\n",
              "    </tr>\n",
              "  </tbody>\n",
              "</table>\n",
              "</div>"
            ],
            "text/plain": [
              "      label                                               text\n",
              "0  negative  My male cousin stopped talking to me all of su...\n",
              "1  negative  Drifting away from my best friend\\nMy best fri..."
            ]
          },
          "metadata": {
            "tags": []
          },
          "execution_count": 55
        }
      ]
    },
    {
      "cell_type": "code",
      "metadata": {
        "colab": {
          "base_uri": "https://localhost:8080/",
          "height": 108
        },
        "id": "Cgqdra8Lin7D",
        "outputId": "c08072cd-63e9-4ca1-879e-926ed52b32d3"
      },
      "source": [
        "df_mixed = pd.concat([Mixed,Mixed_all_two_lexicos], axis=1)\n",
        "df_mixed.head(2)"
      ],
      "execution_count": 58,
      "outputs": [
        {
          "output_type": "execute_result",
          "data": {
            "text/html": [
              "<div>\n",
              "<style scoped>\n",
              "    .dataframe tbody tr th:only-of-type {\n",
              "        vertical-align: middle;\n",
              "    }\n",
              "\n",
              "    .dataframe tbody tr th {\n",
              "        vertical-align: top;\n",
              "    }\n",
              "\n",
              "    .dataframe thead th {\n",
              "        text-align: right;\n",
              "    }\n",
              "</style>\n",
              "<table border=\"1\" class=\"dataframe\">\n",
              "  <thead>\n",
              "    <tr style=\"text-align: right;\">\n",
              "      <th></th>\n",
              "      <th>label</th>\n",
              "      <th>text</th>\n",
              "      <th>0</th>\n",
              "      <th>1</th>\n",
              "      <th>2</th>\n",
              "      <th>3</th>\n",
              "    </tr>\n",
              "  </thead>\n",
              "  <tbody>\n",
              "    <tr>\n",
              "      <th>0</th>\n",
              "      <td>negative</td>\n",
              "      <td>My male cousin stopped talking to me all of su...</td>\n",
              "      <td>10.0</td>\n",
              "      <td>18.0</td>\n",
              "      <td>13.0</td>\n",
              "      <td>9.0</td>\n",
              "    </tr>\n",
              "    <tr>\n",
              "      <th>1</th>\n",
              "      <td>negative</td>\n",
              "      <td>Drifting away from my best friend\\nMy best fri...</td>\n",
              "      <td>28.0</td>\n",
              "      <td>11.0</td>\n",
              "      <td>17.0</td>\n",
              "      <td>7.0</td>\n",
              "    </tr>\n",
              "  </tbody>\n",
              "</table>\n",
              "</div>"
            ],
            "text/plain": [
              "      label                                               text  ...     2    3\n",
              "0  negative  My male cousin stopped talking to me all of su...  ...  13.0  9.0\n",
              "1  negative  Drifting away from my best friend\\nMy best fri...  ...  17.0  7.0\n",
              "\n",
              "[2 rows x 6 columns]"
            ]
          },
          "metadata": {
            "tags": []
          },
          "execution_count": 58
        }
      ]
    },
    {
      "cell_type": "code",
      "metadata": {
        "colab": {
          "base_uri": "https://localhost:8080/",
          "height": 331
        },
        "id": "FvWRfxoDi7Pt",
        "outputId": "8e1e2867-efd1-47a4-d6fb-a84f7aed7d43"
      },
      "source": [
        "columns = ['label', 'text', 'afinn_positive', 'afinn_negative', 'nrc_positive', 'nrc_negative']\n",
        "df_mixed=encode_data(df_mixed, columns, encodedict={'positive': 1, 'negative': 0})\n"
      ],
      "execution_count": 59,
      "outputs": [
        {
          "output_type": "stream",
          "text": [
            "Dataset: Mixed \n",
            "\n"
          ],
          "name": "stdout"
        },
        {
          "output_type": "execute_result",
          "data": {
            "text/plain": [
              "<matplotlib.axes._subplots.AxesSubplot at 0x7fc0f84e9910>"
            ]
          },
          "metadata": {
            "tags": []
          },
          "execution_count": 59
        },
        {
          "output_type": "display_data",
          "data": {
            "image/png": "[encoded data removed]",
            "text/plain": [
              "<Figure size 432x288 with 1 Axes>"
            ]
          },
          "metadata": {
            "tags": [],
            "needs_background": "light"
          }
        }
      ]
    },
    {
      "cell_type": "code",
      "metadata": {
        "id": "zRstwcKs-jTp"
      },
      "source": [
        "X = df_mixed.iloc[:, 2:]\n",
        "y = df_mixed.iloc[:, 0]\n",
        "X_train, X_test, y_train, y_test = split(X, y)\n",
        "X_train, X_test = normalize(StandardScaler(), X_train, X_test)\n",
        "#print(y_test[:10])"
      ],
      "execution_count": 60,
      "outputs": []
    },
    {
      "cell_type": "code",
      "metadata": {
        "colab": {
          "base_uri": "https://localhost:8080/"
        },
        "id": "g_N0iFNG-n6J",
        "outputId": "76df08c4-d7d8-4dce-fbad-b386d5df9179"
      },
      "source": [
        "#Cross validation\n",
        "Logistic = LogisticRegression(random_state=0, solver='lbfgs')\n",
        "Logistic.fit(X_train, y_train)\n",
        "scores = cross_val_score(\n",
        "    Logistic, \n",
        "    X_train, \n",
        "    y_train, \n",
        "    cv=10)\n",
        "print(\"Cross validated accuracy: \", \n",
        "      np.average(scores))\n",
        "print(\"Logistic accuracy on training data: \", \n",
        "      Logistic.score(X_train, y_train))\n",
        "print(\"Logistic accuracy on testing data: \", \n",
        "      Logistic.score(X_test, y_test))\n"
      ],
      "execution_count": 61,
      "outputs": [
        {
          "output_type": "stream",
          "text": [
            "Cross validated accuracy:  0.6471884498480243\n",
            "Logistic accuracy on training data:  0.6466524973432518\n",
            "Logistic accuracy on testing data:  0.6476293103448276\n"
          ],
          "name": "stdout"
        }
      ]
    },
    {
      "cell_type": "code",
      "metadata": {
        "colab": {
          "base_uri": "https://localhost:8080/"
        },
        "id": "iVx5LsJOEIX8",
        "outputId": "b352ebbe-ac1c-464a-c8ed-45767de35335"
      },
      "source": [
        "y_pred = Logistic.predict(X_test)\n",
        "print(\"Accuracy with test data:\", Logistic.score(X_test, y_test))\n",
        "\n",
        "y_pred_proba = Logistic.predict_proba(X_test)\n",
        "print(\"Logloss with test data:\", loss_logloss(y_pred_proba, y_test, weighted=True))\n"
      ],
      "execution_count": 62,
      "outputs": [
        {
          "output_type": "stream",
          "text": [
            "Accuracy with test data: 0.6476293103448276\n",
            "Logloss with test data: 0.6520430076912338\n"
          ],
          "name": "stdout"
        }
      ]
    },
    {
      "cell_type": "code",
      "metadata": {
        "colab": {
          "base_uri": "https://localhost:8080/"
        },
        "id": "ViCWdA4w-rlY",
        "outputId": "6826357c-c928-4145-a7ec-40b1bb1bb2ae"
      },
      "source": [
        "print(metrics.classification_report(y_test, y_pred))"
      ],
      "execution_count": 63,
      "outputs": [
        {
          "output_type": "stream",
          "text": [
            "              precision    recall  f1-score   support\n",
            "\n",
            "           0       0.62      0.79      0.70       474\n",
            "           1       0.69      0.50      0.58       454\n",
            "\n",
            "    accuracy                           0.65       928\n",
            "   macro avg       0.66      0.64      0.64       928\n",
            "weighted avg       0.66      0.65      0.64       928\n",
            "\n"
          ],
          "name": "stdout"
        }
      ]
    },
    {
      "cell_type": "markdown",
      "metadata": {
        "id": "D4P1X3dnkWIX"
      },
      "source": [
        "# 3. Part Third: CLPsych Dataset"
      ]
    },
    {
      "cell_type": "markdown",
      "metadata": {
        "id": "PmdymeQcLofD"
      },
      "source": [
        "##3.a Lexicon in use is afinn_nrc_nrc_sa_mpqa_train"
      ]
    },
    {
      "cell_type": "code",
      "metadata": {
        "id": "xH9eWPSTznn2"
      },
      "source": [
        "df_clpsych_train= pd.read_csv(Path('/content/drive/My Drive/DSP/data/bachelor/CLPsych_train_binary.csv'))"
      ],
      "execution_count": 64,
      "outputs": []
    },
    {
      "cell_type": "code",
      "metadata": {
        "id": "W95Oa3lTzp_u"
      },
      "source": [
        "df_clpsych_test= pd.read_csv(Path('/content/drive/My Drive/DSP/data/bachelor/CLPsych_test_binary.csv'))"
      ],
      "execution_count": 65,
      "outputs": []
    },
    {
      "cell_type": "code",
      "metadata": {
        "id": "Q4pj57gBArXW"
      },
      "source": [
        "#train\n",
        "clpsych_all_four_lexicons_train= pd.read_csv(Path('/content/drive/My Drive/DSP/data/bachelor/clpsych_afinn_nrc_nrc_sa_mpqa_train.csv'))"
      ],
      "execution_count": 66,
      "outputs": []
    },
    {
      "cell_type": "code",
      "metadata": {
        "id": "FuGHHjW80egA"
      },
      "source": [
        "#test\n",
        "clpsych_all_four_lexicons_test= pd.read_csv(Path('/content/drive/My Drive/DSP/data/bachelor/clpsych_afinn_nrc_nrc_sa_mpqa_test.csv'))"
      ],
      "execution_count": 67,
      "outputs": []
    },
    {
      "cell_type": "code",
      "metadata": {
        "colab": {
          "base_uri": "https://localhost:8080/",
          "height": 108
        },
        "id": "s1tbKkKQ06bf",
        "outputId": "a6a24e72-1db7-4238-b814-9e961313e8c4"
      },
      "source": [
        "train_clpsych= pd.concat([df_clpsych_train, clpsych_all_four_lexicons_train], axis=1)\n",
        "train_clpsych.head(2)"
      ],
      "execution_count": 68,
      "outputs": [
        {
          "output_type": "execute_result",
          "data": {
            "text/html": [
              "<div>\n",
              "<style scoped>\n",
              "    .dataframe tbody tr th:only-of-type {\n",
              "        vertical-align: middle;\n",
              "    }\n",
              "\n",
              "    .dataframe tbody tr th {\n",
              "        vertical-align: top;\n",
              "    }\n",
              "\n",
              "    .dataframe thead th {\n",
              "        text-align: right;\n",
              "    }\n",
              "</style>\n",
              "<table border=\"1\" class=\"dataframe\">\n",
              "  <thead>\n",
              "    <tr style=\"text-align: right;\">\n",
              "      <th></th>\n",
              "      <th>label</th>\n",
              "      <th>text</th>\n",
              "      <th>0</th>\n",
              "      <th>1</th>\n",
              "      <th>2</th>\n",
              "      <th>3</th>\n",
              "      <th>4</th>\n",
              "      <th>5</th>\n",
              "      <th>6</th>\n",
              "      <th>7</th>\n",
              "      <th>8</th>\n",
              "      <th>9</th>\n",
              "      <th>10</th>\n",
              "      <th>11</th>\n",
              "      <th>12</th>\n",
              "      <th>13</th>\n",
              "      <th>14</th>\n",
              "    </tr>\n",
              "  </thead>\n",
              "  <tbody>\n",
              "    <tr>\n",
              "      <th>0</th>\n",
              "      <td>depression_ctrl</td>\n",
              "      <td>Game over RT : Life is so unpredictable. Be gr...</td>\n",
              "      <td>3156.0</td>\n",
              "      <td>2594.0</td>\n",
              "      <td>1670.0</td>\n",
              "      <td>1048.0</td>\n",
              "      <td>517.0</td>\n",
              "      <td>872.0</td>\n",
              "      <td>454.0</td>\n",
              "      <td>589.0</td>\n",
              "      <td>880.0</td>\n",
              "      <td>524.0</td>\n",
              "      <td>353.0</td>\n",
              "      <td>1170.0</td>\n",
              "      <td>2011.0</td>\n",
              "      <td>1148.0</td>\n",
              "      <td>1860.0</td>\n",
              "    </tr>\n",
              "    <tr>\n",
              "      <th>1</th>\n",
              "      <td>depression</td>\n",
              "      <td>Happy ! Guys: please check your balls monthly ...</td>\n",
              "      <td>5843.0</td>\n",
              "      <td>4220.0</td>\n",
              "      <td>3241.0</td>\n",
              "      <td>2227.0</td>\n",
              "      <td>1271.0</td>\n",
              "      <td>1401.0</td>\n",
              "      <td>797.0</td>\n",
              "      <td>1536.0</td>\n",
              "      <td>1666.0</td>\n",
              "      <td>1361.0</td>\n",
              "      <td>657.0</td>\n",
              "      <td>1862.0</td>\n",
              "      <td>3691.0</td>\n",
              "      <td>2452.0</td>\n",
              "      <td>4015.0</td>\n",
              "    </tr>\n",
              "  </tbody>\n",
              "</table>\n",
              "</div>"
            ],
            "text/plain": [
              "             label  ...      14\n",
              "0  depression_ctrl  ...  1860.0\n",
              "1       depression  ...  4015.0\n",
              "\n",
              "[2 rows x 17 columns]"
            ]
          },
          "metadata": {
            "tags": []
          },
          "execution_count": 68
        }
      ]
    },
    {
      "cell_type": "code",
      "metadata": {
        "id": "_SKvbrv107bl"
      },
      "source": [
        "test_clpsych= pd.concat([df_clpsych_test, clpsych_all_four_lexicons_test], axis=1)\n",
        "#test_clpsych.head(2)"
      ],
      "execution_count": 69,
      "outputs": []
    },
    {
      "cell_type": "code",
      "metadata": {
        "colab": {
          "base_uri": "https://localhost:8080/"
        },
        "id": "32ZXxXfW17ST",
        "outputId": "69180a16-53e4-4331-e606-1fd134ed4ef7"
      },
      "source": [
        "train_clpsych.shape[0]"
      ],
      "execution_count": 70,
      "outputs": [
        {
          "output_type": "execute_result",
          "data": {
            "text/plain": [
              "654"
            ]
          },
          "metadata": {
            "tags": []
          },
          "execution_count": 70
        }
      ]
    },
    {
      "cell_type": "code",
      "metadata": {
        "colab": {
          "base_uri": "https://localhost:8080/"
        },
        "id": "dkKWSfe12Dq0",
        "outputId": "ede06cd1-bcba-4b08-e06a-b6cf996a950f"
      },
      "source": [
        "test_clpsych.shape[0]"
      ],
      "execution_count": 71,
      "outputs": [
        {
          "output_type": "execute_result",
          "data": {
            "text/plain": [
              "300"
            ]
          },
          "metadata": {
            "tags": []
          },
          "execution_count": 71
        }
      ]
    },
    {
      "cell_type": "code",
      "metadata": {
        "colab": {
          "base_uri": "https://localhost:8080/",
          "height": 348
        },
        "id": "iqTvXVe22Nsm",
        "outputId": "adcbed38-da7a-40b7-b28d-56d96165c65a"
      },
      "source": [
        "columns = ['label', 'text', 'afinn_positive', 'afinn_negative', 'nrc_positive', 'nrc_negative', 'nrc_anger', 'nrc_anticipation', 'nrc_disgust', 'nrc_fear', 'nrc_joy', 'nrc_sadness', 'nrc_surprise', 'nrc_trust', 'mpqa_positive', 'mpqa_negative', 'mpqa_strong_subjectivty']\n",
        "train_clpsych=encode_data(train_clpsych, columns, encodedict={'depression': 1, 'depression_ctrl': 0})\n",
        "print(\"Train set\")\n",
        "plot(train_clpsych, \"CLPsych\") \n"
      ],
      "execution_count": 72,
      "outputs": [
        {
          "output_type": "stream",
          "text": [
            "Train set\n",
            "Dataset: CLPsych \n",
            "\n"
          ],
          "name": "stdout"
        },
        {
          "output_type": "execute_result",
          "data": {
            "text/plain": [
              "<matplotlib.axes._subplots.AxesSubplot at 0x7fc0f84e2710>"
            ]
          },
          "metadata": {
            "tags": []
          },
          "execution_count": 72
        },
        {
          "output_type": "display_data",
          "data": {
            "image/png": "[encoded data removed]",
            "text/plain": [
              "<Figure size 432x288 with 1 Axes>"
            ]
          },
          "metadata": {
            "tags": [],
            "needs_background": "light"
          }
        }
      ]
    },
    {
      "cell_type": "code",
      "metadata": {
        "colab": {
          "base_uri": "https://localhost:8080/",
          "height": 348
        },
        "id": "xfOnNIjv2SPd",
        "outputId": "c34157a9-86a9-47fb-f6bd-82f3c0c115fb"
      },
      "source": [
        "columns = ['label', 'text', 'afinn_positive', 'afinn_negative', 'nrc_positive', 'nrc_negative', 'nrc_anger', 'nrc_anticipation', 'nrc_disgust', 'nrc_fear', 'nrc_joy', 'nrc_sadness', 'nrc_surprise', 'nrc_trust', 'mpqa_positive', 'mpqa_negative', 'mpqa_strong_subjectivty']\n",
        "test_clpsych=encode_data(test_clpsych, columns, encodedict={'depression': 1, 'depression_ctrl': 0})\n",
        "print(\"Test set\")\n",
        "plot(test_clpsych, \"CLPsych\") \n"
      ],
      "execution_count": 73,
      "outputs": [
        {
          "output_type": "stream",
          "text": [
            "Test set\n",
            "Dataset: CLPsych \n",
            "\n"
          ],
          "name": "stdout"
        },
        {
          "output_type": "execute_result",
          "data": {
            "text/plain": [
              "<matplotlib.axes._subplots.AxesSubplot at 0x7fc0f825a690>"
            ]
          },
          "metadata": {
            "tags": []
          },
          "execution_count": 73
        },
        {
          "output_type": "display_data",
          "data": {
            "image/png": "[encoded data removed]",
            "text/plain": [
              "<Figure size 432x288 with 1 Axes>"
            ]
          },
          "metadata": {
            "tags": [],
            "needs_background": "light"
          }
        }
      ]
    },
    {
      "cell_type": "code",
      "metadata": {
        "id": "SIwo1w_s3X4x"
      },
      "source": [
        "X_train = train_clpsych.iloc[:, 2:]\n",
        "y_train = train_clpsych.iloc[:, 0]\n",
        "\n",
        "X_test = test_clpsych.iloc[:, 2:]\n",
        "y_test = test_clpsych.iloc[:, 0]"
      ],
      "execution_count": 74,
      "outputs": []
    },
    {
      "cell_type": "code",
      "metadata": {
        "id": "vD5V5DPq4t1Y"
      },
      "source": [
        "X_train, X_test = normalize(StandardScaler(), X_train, X_test)"
      ],
      "execution_count": 75,
      "outputs": []
    },
    {
      "cell_type": "code",
      "metadata": {
        "colab": {
          "base_uri": "https://localhost:8080/"
        },
        "id": "4xJ12uz042Da",
        "outputId": "b0618202-347b-4a50-ccbf-89953c0f4904"
      },
      "source": [
        "Logistic = LogisticRegression(random_state=0, solver='lbfgs')\n",
        "Logistic.fit(X_train, y_train)\n",
        "print(\"Accuracy with training data:\", Logistic.score(X_train, y_train))\n",
        "prob_predicted_train = Logistic.predict_proba(X_train)\n",
        "print(\"Logloss with training data:\", loss_logloss(prob_predicted_train, y_train, weighted=True))\n"
      ],
      "execution_count": 76,
      "outputs": [
        {
          "output_type": "stream",
          "text": [
            "Accuracy with training data: 0.6406727828746177\n",
            "Logloss with training data: 0.63123284718281\n"
          ],
          "name": "stdout"
        }
      ]
    },
    {
      "cell_type": "code",
      "metadata": {
        "colab": {
          "base_uri": "https://localhost:8080/"
        },
        "id": "jKKTjjvh48Oq",
        "outputId": "f82c5055-9f6e-42c7-ab1b-e526ba16e707"
      },
      "source": [
        "y_pred = Logistic.predict(X_test)\n",
        "print(\"Accuracy with test data:\", Logistic.score(X_test, y_test))\n",
        "\n",
        "y_pred_proba = Logistic.predict_proba(X_test)\n",
        "print(\"Logloss with test data:\", loss_logloss(y_pred_proba, y_test, weighted=True))\n"
      ],
      "execution_count": 77,
      "outputs": [
        {
          "output_type": "stream",
          "text": [
            "Accuracy with test data: 0.6433333333333333\n",
            "Logloss with test data: 0.6380047931752326\n"
          ],
          "name": "stdout"
        }
      ]
    },
    {
      "cell_type": "code",
      "metadata": {
        "colab": {
          "base_uri": "https://localhost:8080/"
        },
        "id": "HLkWhYlX5sbp",
        "outputId": "5053a0d1-6749-4ffa-d54d-73cec9d77503"
      },
      "source": [
        "#Cross validation\n",
        "Logistic = LogisticRegression(random_state=0, solver='lbfgs')\n",
        "Logistic.fit(X_train, y_train)\n",
        "scores = cross_val_score(\n",
        "    Logistic, \n",
        "    X_train, \n",
        "    y_train, \n",
        "    cv=10)\n",
        "print(\"Cross validated accuracy: \", \n",
        "      np.average(scores))\n",
        "print(\"Logistic accuracy on training data: \", \n",
        "      Logistic.score(X_train, y_train))\n",
        "print(\"Logistic accuracy on testing data: \", \n",
        "      Logistic.score(X_test, y_test))\n"
      ],
      "execution_count": 79,
      "outputs": [
        {
          "output_type": "stream",
          "text": [
            "Cross validated accuracy:  0.6084848484848484\n",
            "Logistic accuracy on training data:  0.6406727828746177\n",
            "Logistic accuracy on testing data:  0.6433333333333333\n"
          ],
          "name": "stdout"
        }
      ]
    },
    {
      "cell_type": "code",
      "metadata": {
        "colab": {
          "base_uri": "https://localhost:8080/"
        },
        "id": "0RVJplUHjMD4",
        "outputId": "23d9e403-67b8-4bf1-c6ae-9034562f4e56"
      },
      "source": [
        "print(metrics.classification_report(y_test, y_pred))"
      ],
      "execution_count": 80,
      "outputs": [
        {
          "output_type": "stream",
          "text": [
            "              precision    recall  f1-score   support\n",
            "\n",
            "           0       0.64      0.67      0.65       150\n",
            "           1       0.65      0.62      0.63       150\n",
            "\n",
            "    accuracy                           0.64       300\n",
            "   macro avg       0.64      0.64      0.64       300\n",
            "weighted avg       0.64      0.64      0.64       300\n",
            "\n"
          ],
          "name": "stdout"
        }
      ]
    },
    {
      "cell_type": "markdown",
      "metadata": {
        "id": "jnujdktvREOD"
      },
      "source": [
        "##3.b Lexicon in use is Sentic"
      ]
    },
    {
      "cell_type": "code",
      "metadata": {
        "colab": {
          "base_uri": "https://localhost:8080/",
          "height": 108
        },
        "id": "Kp2R2RwnHBsU",
        "outputId": "1dfe449c-2e5e-463e-d1cb-b107b5760201"
      },
      "source": [
        "df_clpsych_train_scentic=get_scentic_features(df_clpsych_train)\r\n",
        "encodedict={'depression': 1, 'depression_ctrl': 0}\r\n",
        "df_clpsych_train_scentic['label'] = df_clpsych_train_scentic['label'].map(encodedict) \r\n",
        "df_clpsych_train_scentic.head(2)"
      ],
      "execution_count": 81,
      "outputs": [
        {
          "output_type": "execute_result",
          "data": {
            "text/html": [
              "<div>\n",
              "<style scoped>\n",
              "    .dataframe tbody tr th:only-of-type {\n",
              "        vertical-align: middle;\n",
              "    }\n",
              "\n",
              "    .dataframe tbody tr th {\n",
              "        vertical-align: top;\n",
              "    }\n",
              "\n",
              "    .dataframe thead th {\n",
              "        text-align: right;\n",
              "    }\n",
              "</style>\n",
              "<table border=\"1\" class=\"dataframe\">\n",
              "  <thead>\n",
              "    <tr style=\"text-align: right;\">\n",
              "      <th></th>\n",
              "      <th>label</th>\n",
              "      <th>text</th>\n",
              "      <th>polarity_value</th>\n",
              "      <th>polarity_label</th>\n",
              "      <th>sensitivity</th>\n",
              "      <th>introspection</th>\n",
              "      <th>temper</th>\n",
              "      <th>attitude</th>\n",
              "    </tr>\n",
              "  </thead>\n",
              "  <tbody>\n",
              "    <tr>\n",
              "      <th>0</th>\n",
              "      <td>0</td>\n",
              "      <td>Game over RT : Life is so unpredictable. Be gr...</td>\n",
              "      <td>1280</td>\n",
              "      <td>3481</td>\n",
              "      <td>831</td>\n",
              "      <td>1040</td>\n",
              "      <td>38</td>\n",
              "      <td>209</td>\n",
              "    </tr>\n",
              "    <tr>\n",
              "      <th>1</th>\n",
              "      <td>1</td>\n",
              "      <td>Happy ! Guys: please check your balls monthly ...</td>\n",
              "      <td>2149</td>\n",
              "      <td>6548</td>\n",
              "      <td>1431</td>\n",
              "      <td>1670</td>\n",
              "      <td>44</td>\n",
              "      <td>639</td>\n",
              "    </tr>\n",
              "  </tbody>\n",
              "</table>\n",
              "</div>"
            ],
            "text/plain": [
              "   label                                               text  ...  temper  attitude\n",
              "0      0  Game over RT : Life is so unpredictable. Be gr...  ...      38       209\n",
              "1      1  Happy ! Guys: please check your balls monthly ...  ...      44       639\n",
              "\n",
              "[2 rows x 8 columns]"
            ]
          },
          "metadata": {
            "tags": []
          },
          "execution_count": 81
        }
      ]
    },
    {
      "cell_type": "code",
      "metadata": {
        "colab": {
          "base_uri": "https://localhost:8080/",
          "height": 108
        },
        "id": "m6aME1MmHfZk",
        "outputId": "389d754b-babd-4752-812a-ec9df91cc922"
      },
      "source": [
        "df_clpsych_test_scentic=get_scentic_features(df_clpsych_test)\r\n",
        "df_clpsych_test_scentic['label'] = df_clpsych_test_scentic['label'].map(encodedict) \r\n",
        "df_clpsych_test_scentic.head(2)"
      ],
      "execution_count": 82,
      "outputs": [
        {
          "output_type": "execute_result",
          "data": {
            "text/html": [
              "<div>\n",
              "<style scoped>\n",
              "    .dataframe tbody tr th:only-of-type {\n",
              "        vertical-align: middle;\n",
              "    }\n",
              "\n",
              "    .dataframe tbody tr th {\n",
              "        vertical-align: top;\n",
              "    }\n",
              "\n",
              "    .dataframe thead th {\n",
              "        text-align: right;\n",
              "    }\n",
              "</style>\n",
              "<table border=\"1\" class=\"dataframe\">\n",
              "  <thead>\n",
              "    <tr style=\"text-align: right;\">\n",
              "      <th></th>\n",
              "      <th>label</th>\n",
              "      <th>text</th>\n",
              "      <th>polarity_value</th>\n",
              "      <th>polarity_label</th>\n",
              "      <th>sensitivity</th>\n",
              "      <th>introspection</th>\n",
              "      <th>temper</th>\n",
              "      <th>attitude</th>\n",
              "    </tr>\n",
              "  </thead>\n",
              "  <tbody>\n",
              "    <tr>\n",
              "      <th>0</th>\n",
              "      <td>1</td>\n",
              "      <td>: Going with . Look for my lipstick in early t...</td>\n",
              "      <td>2304</td>\n",
              "      <td>4832</td>\n",
              "      <td>1916</td>\n",
              "      <td>2141</td>\n",
              "      <td>4</td>\n",
              "      <td>287</td>\n",
              "    </tr>\n",
              "    <tr>\n",
              "      <th>1</th>\n",
              "      <td>0</td>\n",
              "      <td>: Paolo Nutini - No Other Way RT : my dreams h...</td>\n",
              "      <td>1277</td>\n",
              "      <td>3364</td>\n",
              "      <td>850</td>\n",
              "      <td>1190</td>\n",
              "      <td>14</td>\n",
              "      <td>145</td>\n",
              "    </tr>\n",
              "  </tbody>\n",
              "</table>\n",
              "</div>"
            ],
            "text/plain": [
              "   label                                               text  ...  temper  attitude\n",
              "0      1  : Going with . Look for my lipstick in early t...  ...       4       287\n",
              "1      0  : Paolo Nutini - No Other Way RT : my dreams h...  ...      14       145\n",
              "\n",
              "[2 rows x 8 columns]"
            ]
          },
          "metadata": {
            "tags": []
          },
          "execution_count": 82
        }
      ]
    },
    {
      "cell_type": "code",
      "metadata": {
        "id": "rNSy-1LSQ-gV"
      },
      "source": [
        "X_train = df_clpsych_train_scentic.iloc[:, 2:]\r\n",
        "y_train = df_clpsych_train_scentic.iloc[:, 0]\r\n",
        "\r\n",
        "X_test = df_clpsych_test_scentic.iloc[:, 2:]\r\n",
        "y_test = df_clpsych_test_scentic.iloc[:, 0]"
      ],
      "execution_count": 83,
      "outputs": []
    },
    {
      "cell_type": "code",
      "metadata": {
        "id": "mAeuIrBxRntF"
      },
      "source": [
        "X_train, X_test = normalize(StandardScaler(), X_train, X_test)"
      ],
      "execution_count": 84,
      "outputs": []
    },
    {
      "cell_type": "code",
      "metadata": {
        "colab": {
          "base_uri": "https://localhost:8080/"
        },
        "id": "PlLtkv3rRqdW",
        "outputId": "98fbe231-1c4e-4a66-eb15-fba61231e02d"
      },
      "source": [
        "Logistic = LogisticRegression(random_state=0, solver='lbfgs')\r\n",
        "Logistic.fit(X_train, y_train)\r\n",
        "print(\"Accuracy with training data:\", Logistic.score(X_train, y_train))\r\n",
        "prob_predicted_train = Logistic.predict_proba(X_train)\r\n",
        "print(\"Logloss with training data:\", loss_logloss(prob_predicted_train, y_train, weighted=True))\r\n"
      ],
      "execution_count": 85,
      "outputs": [
        {
          "output_type": "stream",
          "text": [
            "Accuracy with training data: 0.6162079510703364\n",
            "Logloss with training data: 0.655426506797095\n"
          ],
          "name": "stdout"
        }
      ]
    },
    {
      "cell_type": "code",
      "metadata": {
        "colab": {
          "base_uri": "https://localhost:8080/"
        },
        "id": "xiQvZSUMRtpl",
        "outputId": "919adcbc-94e5-4e47-bbea-bffb3ae1e7ab"
      },
      "source": [
        "y_pred = Logistic.predict(X_test)\r\n",
        "print(\"Accuracy with test data:\", Logistic.score(X_test, y_test))\r\n",
        "\r\n",
        "y_pred_proba = Logistic.predict_proba(X_test)\r\n",
        "print(\"Logloss with test data:\", loss_logloss(y_pred_proba, y_test, weighted=True))\r\n"
      ],
      "execution_count": 86,
      "outputs": [
        {
          "output_type": "stream",
          "text": [
            "Accuracy with test data: 0.6433333333333333\n",
            "Logloss with test data: 0.6569092869990207\n"
          ],
          "name": "stdout"
        }
      ]
    },
    {
      "cell_type": "code",
      "metadata": {
        "colab": {
          "base_uri": "https://localhost:8080/"
        },
        "id": "ggyE2wR5Rz_R",
        "outputId": "6fa8989c-b0bf-4758-d01a-d83468f033bb"
      },
      "source": [
        "#Cross validation\r\n",
        "Logistic = LogisticRegression(random_state=0, solver='lbfgs')\r\n",
        "Logistic.fit(X_train, y_train)\r\n",
        "scores = cross_val_score(\r\n",
        "    Logistic, \r\n",
        "    X_train, \r\n",
        "    y_train, \r\n",
        "    cv=10)\r\n",
        "print(\"Cross validated accuracy: \", \r\n",
        "      np.average(scores))\r\n",
        "print(\"Logistic accuracy on training data: \", \r\n",
        "      Logistic.score(X_train, y_train))\r\n",
        "print(\"Logistic accuracy on testing data: \", \r\n",
        "      Logistic.score(X_test, y_test))\r\n"
      ],
      "execution_count": 88,
      "outputs": [
        {
          "output_type": "stream",
          "text": [
            "Cross validated accuracy:  0.6022843822843822\n",
            "Logistic accuracy on training data:  0.6162079510703364\n",
            "Logistic accuracy on testing data:  0.6433333333333333\n"
          ],
          "name": "stdout"
        }
      ]
    },
    {
      "cell_type": "code",
      "metadata": {
        "colab": {
          "base_uri": "https://localhost:8080/"
        },
        "id": "pbzqPGH1jTDJ",
        "outputId": "a90717d0-5af5-4431-f067-37307a684c22"
      },
      "source": [
        "print(metrics.classification_report(y_test, y_pred))"
      ],
      "execution_count": 89,
      "outputs": [
        {
          "output_type": "stream",
          "text": [
            "              precision    recall  f1-score   support\n",
            "\n",
            "           0       0.65      0.61      0.63       150\n",
            "           1       0.64      0.67      0.65       150\n",
            "\n",
            "    accuracy                           0.64       300\n",
            "   macro avg       0.64      0.64      0.64       300\n",
            "weighted avg       0.64      0.64      0.64       300\n",
            "\n"
          ],
          "name": "stdout"
        }
      ]
    },
    {
      "cell_type": "markdown",
      "metadata": {
        "id": "kO6yfF_IRLV4"
      },
      "source": [
        "##3.c Lexicon in use is afinn_nrc"
      ]
    },
    {
      "cell_type": "code",
      "metadata": {
        "id": "spTFH-mpRfnM"
      },
      "source": [
        "X_train = train_clpsych.iloc[:, 2:6]\n",
        "y_train = train_clpsych.iloc[:, 0]\n",
        "\n",
        "X_test = test_clpsych.iloc[:, 2:6]\n",
        "y_test = test_clpsych.iloc[:, 0]"
      ],
      "execution_count": 90,
      "outputs": []
    },
    {
      "cell_type": "code",
      "metadata": {
        "id": "XFofn8sTSHKp"
      },
      "source": [
        "X_train, X_test = normalize(StandardScaler(), X_train, X_test)"
      ],
      "execution_count": 91,
      "outputs": []
    },
    {
      "cell_type": "code",
      "metadata": {
        "colab": {
          "base_uri": "https://localhost:8080/"
        },
        "id": "zWF9pDhPSK0r",
        "outputId": "3d401a9a-1f2c-47c2-8323-67b5daa4a3b2"
      },
      "source": [
        "#Cross validation\n",
        "Logistic = LogisticRegression(random_state=0, solver='lbfgs')\n",
        "Logistic.fit(X_train, y_train)\n",
        "scores = cross_val_score(\n",
        "    Logistic, \n",
        "    X_train, \n",
        "    y_train, \n",
        "    cv=10)\n",
        "print(\"Cross validated accuracy: \", \n",
        "      np.average(scores))\n",
        "print(\"Logistic accuracy on training data: \", \n",
        "      Logistic.score(X_train, y_train))\n",
        "print(\"Logistic accuracy on testing data: \", \n",
        "      Logistic.score(X_test, y_test))\n"
      ],
      "execution_count": 92,
      "outputs": [
        {
          "output_type": "stream",
          "text": [
            "Cross validated accuracy:  0.512051282051282\n",
            "Logistic accuracy on training data:  0.5259938837920489\n",
            "Logistic accuracy on testing data:  0.5566666666666666\n"
          ],
          "name": "stdout"
        }
      ]
    },
    {
      "cell_type": "code",
      "metadata": {
        "colab": {
          "base_uri": "https://localhost:8080/"
        },
        "id": "CnrNqRnwSYZs",
        "outputId": "303d6a83-bd0d-40fc-8d36-a3a028303788"
      },
      "source": [
        "print(metrics.classification_report(y_test, y_pred))"
      ],
      "execution_count": 93,
      "outputs": [
        {
          "output_type": "stream",
          "text": [
            "              precision    recall  f1-score   support\n",
            "\n",
            "           0       0.65      0.61      0.63       150\n",
            "           1       0.64      0.67      0.65       150\n",
            "\n",
            "    accuracy                           0.64       300\n",
            "   macro avg       0.64      0.64      0.64       300\n",
            "weighted avg       0.64      0.64      0.64       300\n",
            "\n"
          ],
          "name": "stdout"
        }
      ]
    },
    {
      "cell_type": "code",
      "metadata": {
        "id": "Gu39mDQedTMw",
        "colab": {
          "base_uri": "https://localhost:8080/",
          "height": 119
        },
        "outputId": "d926de64-4834-4912-93b5-40ae1f10585a"
      },
      "source": [
        "\"\"\"lda = LinearDiscriminantAnalysis()\n",
        "\n",
        "    lda.fit(X_train, y_train)\n",
        "\n",
        "    print(\"Accuracy with training data:\", lda.score(X_train, y_train))\n",
        "\n",
        "    prob_predicted_train = lda.predict_proba(X_train)\n",
        "    print(\"Logloss with training data:\", loss_logloss(prob_predicted_train, y_train))\n",
        "\n",
        "    y_predicted = lda.predict(X_test)\n",
        "    prob_predicted = lda.predict_proba(X_test)\n",
        "\n",
        "    write_submission_file_accuracy(y_predicted, filename=filename_prefix+\"_accuracy.csv\")\n",
        "    write_submission_file_logloss(finalize_logloss_output(prob_predicted), filename=filename_prefix+\"_logloss.csv\")\n",
        "    \n",
        "    # cross validate\n",
        "    skf = StratifiedKFold(n_splits=5, random_state=0, shuffle=True)\n",
        "    test_scores = []\n",
        "    for i_train, i_test in skf.split(X_train, y_train):\n",
        "        lda = LinearDiscriminantAnalysis()\n",
        "        lda.fit(X_train[i_train], y_train[i_train])\n",
        "        test_scores.append(lda.score(X_train[i_test], y_train[i_test]))\n",
        "\n",
        "    print(\"Validation error:\", np.average(test_scores))\"\"\""
      ],
      "execution_count": null,
      "outputs": [
        {
          "output_type": "execute_result",
          "data": {
            "application/vnd.google.colaboratory.intrinsic+json": {
              "type": "string"
            },
            "text/plain": [
              "'lda = LinearDiscriminantAnalysis()\\n\\n    lda.fit(X_train, y_train)\\n\\n    print(\"Accuracy with training data:\", lda.score(X_train, y_train))\\n\\n    prob_predicted_train = lda.predict_proba(X_train)\\n    print(\"Logloss with training data:\", loss_logloss(prob_predicted_train, y_train))\\n\\n    y_predicted = lda.predict(X_test)\\n    prob_predicted = lda.predict_proba(X_test)\\n\\n    write_submission_file_accuracy(y_predicted, filename=filename_prefix+\"_accuracy.csv\")\\n    write_submission_file_logloss(finalize_logloss_output(prob_predicted), filename=filename_prefix+\"_logloss.csv\")\\n    \\n    # cross validate\\n    skf = StratifiedKFold(n_splits=5, random_state=0, shuffle=True)\\n    test_scores = []\\n    for i_train, i_test in skf.split(X_train, y_train):\\n        lda = LinearDiscriminantAnalysis()\\n        lda.fit(X_train[i_train], y_train[i_train])\\n        test_scores.append(lda.score(X_train[i_test], y_train[i_test]))\\n\\n    print(\"Validation error:\", np.average(test_scores))'"
            ]
          },
          "metadata": {
            "tags": []
          },
          "execution_count": 132
        }
      ]
    },
    {
      "cell_type": "code",
      "metadata": {
        "id": "lXgcZ62PdWLU"
      },
      "source": [
        "\"\"\"# cross validate\n",
        "skf = StratifiedKFold(n_splits=5, random_state=0, shuffle=True)\n",
        "test_scores = []\n",
        "for i_train, i_test in skf.split(X_train, y_train):\n",
        "  \n",
        "  Logistic = LogisticRegression(random_state=0, solver='lbfgs')\n",
        "  Logistic.fit(X_train[i_train], y_train[i_train])\n",
        "\n",
        "  test_scores.append(Logistic.score(X_train[i_test], y_train[i_test]))\n",
        "\n",
        "print(\"Validation error:\", np.average(test_scores))\"\"\"\n"
      ],
      "execution_count": null,
      "outputs": []
    }
  ]
}