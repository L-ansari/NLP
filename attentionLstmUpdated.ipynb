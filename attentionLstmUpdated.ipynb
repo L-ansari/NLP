{
  "nbformat": 4,
  "nbformat_minor": 0,
  "metadata": {
    "colab": {
      "name": "attentionLstmUpdated.ipynb",
      "provenance": [],
      "collapsed_sections": [],
      "authorship_tag": "ABX9TyPnOhwosPOBwjQs39YxKwU5",
      "include_colab_link": true
    },
    "kernelspec": {
      "name": "python3",
      "display_name": "Python 3"
    },
    "accelerator": "GPU"
  },
  "cells": [
    {
      "cell_type": "markdown",
      "metadata": {
        "id": "view-in-github",
        "colab_type": "text"
      },
      "source": [
        "<a href=\"https://colab.research.google.com/github/L-ansari/Natural-Language-Processing-tasks/blob/master/attentionLstmUpdated.ipynb\" target=\"_parent\"><img src=\"https://colab.research.google.com/assets/colab-badge.svg\" alt=\"Open In Colab\"/></a>"
      ]
    },
    {
      "cell_type": "code",
      "metadata": {
        "id": "g12P-pkTWFeM"
      },
      "source": [
        "import torch"
      ],
      "execution_count": 1,
      "outputs": []
    },
    {
      "cell_type": "code",
      "metadata": {
        "id": "12dzI494VlHX",
        "colab": {
          "base_uri": "https://localhost:8080/"
        },
        "outputId": "5138d20c-bf23-4023-f9f1-846ca85d94d6"
      },
      "source": [
        "print(torch.__version__)"
      ],
      "execution_count": 2,
      "outputs": [
        {
          "output_type": "stream",
          "text": [
            "1.7.1+cu101\n"
          ],
          "name": "stdout"
        }
      ]
    },
    {
      "cell_type": "code",
      "metadata": {
        "id": "VLwHhinMWevG"
      },
      "source": [
        "import pandas as pd\n",
        "from pathlib import Path"
      ],
      "execution_count": 3,
      "outputs": []
    },
    {
      "cell_type": "code",
      "metadata": {
        "colab": {
          "base_uri": "https://localhost:8080/"
        },
        "id": "FcsiNSv5WheF",
        "outputId": "e21ef9cd-01f3-49c9-f191-e7181461bf2d"
      },
      "source": [
        "from google.colab import drive\n",
        "drive.mount(\"/content/drive\", force_remount=True)"
      ],
      "execution_count": 4,
      "outputs": [
        {
          "output_type": "stream",
          "text": [
            "Mounted at /content/drive\n"
          ],
          "name": "stdout"
        }
      ]
    },
    {
      "cell_type": "code",
      "metadata": {
        "id": "VfcJ7R7eWju2"
      },
      "source": [
        "df_train = pd.read_csv(Path('/content/drive/My Drive/DSP/data/bachelor/CLPsych_train.csv'))\n"
      ],
      "execution_count": 5,
      "outputs": []
    },
    {
      "cell_type": "code",
      "metadata": {
        "colab": {
          "base_uri": "https://localhost:8080/",
          "height": 198
        },
        "id": "sGDxKUHCWlz9",
        "outputId": "a41df965-e43b-411b-c9d4-e4eafc6d449a"
      },
      "source": [
        "df_train.head()"
      ],
      "execution_count": 6,
      "outputs": [
        {
          "output_type": "execute_result",
          "data": {
            "text/html": [
              "<div>\n",
              "<style scoped>\n",
              "    .dataframe tbody tr th:only-of-type {\n",
              "        vertical-align: middle;\n",
              "    }\n",
              "\n",
              "    .dataframe tbody tr th {\n",
              "        vertical-align: top;\n",
              "    }\n",
              "\n",
              "    .dataframe thead th {\n",
              "        text-align: right;\n",
              "    }\n",
              "</style>\n",
              "<table border=\"1\" class=\"dataframe\">\n",
              "  <thead>\n",
              "    <tr style=\"text-align: right;\">\n",
              "      <th></th>\n",
              "      <th>label</th>\n",
              "      <th>text</th>\n",
              "    </tr>\n",
              "  </thead>\n",
              "  <tbody>\n",
              "    <tr>\n",
              "      <th>0</th>\n",
              "      <td>depression_ctrl</td>\n",
              "      <td>Game over RT : Life is so unpredictable. Be gr...</td>\n",
              "    </tr>\n",
              "    <tr>\n",
              "      <th>1</th>\n",
              "      <td>depression</td>\n",
              "      <td>Happy ! Guys: please check your balls monthly ...</td>\n",
              "    </tr>\n",
              "    <tr>\n",
              "      <th>2</th>\n",
              "      <td>ptsd_ctrl</td>\n",
              "      <td>You gotta enjoy the view RT : i want a boyfrie...</td>\n",
              "    </tr>\n",
              "    <tr>\n",
              "      <th>3</th>\n",
              "      <td>ptsd_ctrl</td>\n",
              "      <td>I love that I'm so chill about everything RT :...</td>\n",
              "    </tr>\n",
              "    <tr>\n",
              "      <th>4</th>\n",
              "      <td>depression_ctrl</td>\n",
              "      <td>Photo: lkfrannyfrano: hotshxxt: migzfromatx: s...</td>\n",
              "    </tr>\n",
              "  </tbody>\n",
              "</table>\n",
              "</div>"
            ],
            "text/plain": [
              "             label                                               text\n",
              "0  depression_ctrl  Game over RT : Life is so unpredictable. Be gr...\n",
              "1       depression  Happy ! Guys: please check your balls monthly ...\n",
              "2        ptsd_ctrl  You gotta enjoy the view RT : i want a boyfrie...\n",
              "3        ptsd_ctrl  I love that I'm so chill about everything RT :...\n",
              "4  depression_ctrl  Photo: lkfrannyfrano: hotshxxt: migzfromatx: s..."
            ]
          },
          "metadata": {
            "tags": []
          },
          "execution_count": 6
        }
      ]
    },
    {
      "cell_type": "code",
      "metadata": {
        "colab": {
          "base_uri": "https://localhost:8080/"
        },
        "id": "5Oc8tKqwMq92",
        "outputId": "b19c998b-9a86-4148-e8e6-5850675269c6"
      },
      "source": [
        "print(df_train.shape[0])"
      ],
      "execution_count": 7,
      "outputs": [
        {
          "output_type": "stream",
          "text": [
            "1146\n"
          ],
          "name": "stdout"
        }
      ]
    },
    {
      "cell_type": "code",
      "metadata": {
        "colab": {
          "base_uri": "https://localhost:8080/"
        },
        "id": "EOe9GPBpWobn",
        "outputId": "90298631-8934-4d6a-a229-470084ce135c"
      },
      "source": [
        "print(df_train['label'][1])"
      ],
      "execution_count": 8,
      "outputs": [
        {
          "output_type": "stream",
          "text": [
            "depression\n"
          ],
          "name": "stdout"
        }
      ]
    },
    {
      "cell_type": "code",
      "metadata": {
        "colab": {
          "base_uri": "https://localhost:8080/",
          "height": 198
        },
        "id": "x1XwPys-WrBX",
        "outputId": "9f93361d-23cd-41bf-b791-56ab14332012"
      },
      "source": [
        "for i in range (0, (df_train.shape[0])):\n",
        "    if (df_train['label'][i]=='depression' or  df_train['label'][i]=='depression_ctrl') :\n",
        "        \n",
        "        df_train['label'][i]= 'positive' \n",
        "    else:\n",
        "        #False\n",
        "        df_train['label'][i]= 'negative' \n",
        "    \n",
        "df_train.head()\n"
      ],
      "execution_count": 9,
      "outputs": [
        {
          "output_type": "execute_result",
          "data": {
            "text/html": [
              "<div>\n",
              "<style scoped>\n",
              "    .dataframe tbody tr th:only-of-type {\n",
              "        vertical-align: middle;\n",
              "    }\n",
              "\n",
              "    .dataframe tbody tr th {\n",
              "        vertical-align: top;\n",
              "    }\n",
              "\n",
              "    .dataframe thead th {\n",
              "        text-align: right;\n",
              "    }\n",
              "</style>\n",
              "<table border=\"1\" class=\"dataframe\">\n",
              "  <thead>\n",
              "    <tr style=\"text-align: right;\">\n",
              "      <th></th>\n",
              "      <th>label</th>\n",
              "      <th>text</th>\n",
              "    </tr>\n",
              "  </thead>\n",
              "  <tbody>\n",
              "    <tr>\n",
              "      <th>0</th>\n",
              "      <td>positive</td>\n",
              "      <td>Game over RT : Life is so unpredictable. Be gr...</td>\n",
              "    </tr>\n",
              "    <tr>\n",
              "      <th>1</th>\n",
              "      <td>positive</td>\n",
              "      <td>Happy ! Guys: please check your balls monthly ...</td>\n",
              "    </tr>\n",
              "    <tr>\n",
              "      <th>2</th>\n",
              "      <td>negative</td>\n",
              "      <td>You gotta enjoy the view RT : i want a boyfrie...</td>\n",
              "    </tr>\n",
              "    <tr>\n",
              "      <th>3</th>\n",
              "      <td>negative</td>\n",
              "      <td>I love that I'm so chill about everything RT :...</td>\n",
              "    </tr>\n",
              "    <tr>\n",
              "      <th>4</th>\n",
              "      <td>positive</td>\n",
              "      <td>Photo: lkfrannyfrano: hotshxxt: migzfromatx: s...</td>\n",
              "    </tr>\n",
              "  </tbody>\n",
              "</table>\n",
              "</div>"
            ],
            "text/plain": [
              "      label                                               text\n",
              "0  positive  Game over RT : Life is so unpredictable. Be gr...\n",
              "1  positive  Happy ! Guys: please check your balls monthly ...\n",
              "2  negative  You gotta enjoy the view RT : i want a boyfrie...\n",
              "3  negative  I love that I'm so chill about everything RT :...\n",
              "4  positive  Photo: lkfrannyfrano: hotshxxt: migzfromatx: s..."
            ]
          },
          "metadata": {
            "tags": []
          },
          "execution_count": 9
        }
      ]
    },
    {
      "cell_type": "code",
      "metadata": {
        "id": "-QuPElwgWtO6"
      },
      "source": [
        "df_test = pd.read_csv(Path('/content/drive/My Drive/DSP/data/bachelor/CLPsych_test.csv'))\n"
      ],
      "execution_count": 10,
      "outputs": []
    },
    {
      "cell_type": "code",
      "metadata": {
        "colab": {
          "base_uri": "https://localhost:8080/",
          "height": 198
        },
        "id": "E4ecjt74WvWg",
        "outputId": "a18f2d81-4158-48bb-f9dc-a7b76f86ca25"
      },
      "source": [
        "for i in range (0, (df_test.shape[0])):\n",
        "    if (df_test['label'][i]=='depression' or  df_test['label'][i]=='depression_ctrl') :\n",
        "        \n",
        "        df_test['label'][i]= 'positive' \n",
        "    else:\n",
        "        #False\n",
        "        df_test['label'][i]= 'negative' \n",
        "    \n",
        "df_test.head()\n"
      ],
      "execution_count": 11,
      "outputs": [
        {
          "output_type": "execute_result",
          "data": {
            "text/html": [
              "<div>\n",
              "<style scoped>\n",
              "    .dataframe tbody tr th:only-of-type {\n",
              "        vertical-align: middle;\n",
              "    }\n",
              "\n",
              "    .dataframe tbody tr th {\n",
              "        vertical-align: top;\n",
              "    }\n",
              "\n",
              "    .dataframe thead th {\n",
              "        text-align: right;\n",
              "    }\n",
              "</style>\n",
              "<table border=\"1\" class=\"dataframe\">\n",
              "  <thead>\n",
              "    <tr style=\"text-align: right;\">\n",
              "      <th></th>\n",
              "      <th>label</th>\n",
              "      <th>text</th>\n",
              "    </tr>\n",
              "  </thead>\n",
              "  <tbody>\n",
              "    <tr>\n",
              "      <th>0</th>\n",
              "      <td>negative</td>\n",
              "      <td>: the is happening... the balance of life...te...</td>\n",
              "    </tr>\n",
              "    <tr>\n",
              "      <th>1</th>\n",
              "      <td>positive</td>\n",
              "      <td>: Going with . Look for my lipstick in early t...</td>\n",
              "    </tr>\n",
              "    <tr>\n",
              "      <th>2</th>\n",
              "      <td>negative</td>\n",
              "      <td>Fox News: Second wave of health plan cancellat...</td>\n",
              "    </tr>\n",
              "    <tr>\n",
              "      <th>3</th>\n",
              "      <td>negative</td>\n",
              "      <td>no. The needles are just different for shading...</td>\n",
              "    </tr>\n",
              "    <tr>\n",
              "      <th>4</th>\n",
              "      <td>negative</td>\n",
              "      <td>On holiday... : Where's your favorite place to...</td>\n",
              "    </tr>\n",
              "  </tbody>\n",
              "</table>\n",
              "</div>"
            ],
            "text/plain": [
              "      label                                               text\n",
              "0  negative  : the is happening... the balance of life...te...\n",
              "1  positive  : Going with . Look for my lipstick in early t...\n",
              "2  negative  Fox News: Second wave of health plan cancellat...\n",
              "3  negative  no. The needles are just different for shading...\n",
              "4  negative  On holiday... : Where's your favorite place to..."
            ]
          },
          "metadata": {
            "tags": []
          },
          "execution_count": 11
        }
      ]
    },
    {
      "cell_type": "code",
      "metadata": {
        "id": "OkaMfuT9WxvZ"
      },
      "source": [
        "#export the columns we need as a new file  \"train\" \n",
        "df = pd.DataFrame(df_train, columns = ['text', 'label']) \n",
        "df.to_csv('train', index=False)\n"
      ],
      "execution_count": 12,
      "outputs": []
    },
    {
      "cell_type": "code",
      "metadata": {
        "id": "buV5aXjDWz2K"
      },
      "source": [
        "#export the columns we need as a new file \"test\" \n",
        "dff = pd.DataFrame(df_test, columns = ['text', 'label']) \n",
        "dff.to_csv('test', index=False)\n"
      ],
      "execution_count": 13,
      "outputs": []
    },
    {
      "cell_type": "code",
      "metadata": {
        "id": "DNDGIbZ0W2D7"
      },
      "source": [
        "import torch\n",
        "import torchtext\n",
        "from torchtext import data\n",
        "from torchtext.vocab import Vectors, GloVe\n",
        "import torch.utils.data as data_utils\n",
        "from torch.utils.data import TensorDataset, DataLoader"
      ],
      "execution_count": 14,
      "outputs": []
    },
    {
      "cell_type": "code",
      "metadata": {
        "id": "Vb0xDe-AW4J_"
      },
      "source": [
        "tokenize = lambda x: x.split()\n",
        "TEXT = data.Field(sequential=True, tokenize=tokenize, lower=True, include_lengths=True, batch_first=True, fix_length=200)\n",
        "LABEL = data.LabelField(sequential=False)\n"
      ],
      "execution_count": 15,
      "outputs": []
    },
    {
      "cell_type": "code",
      "metadata": {
        "id": "cDFVbslCXObU"
      },
      "source": [
        "fields = [('text', TEXT), ('label', LABEL)]"
      ],
      "execution_count": 16,
      "outputs": []
    },
    {
      "cell_type": "code",
      "metadata": {
        "colab": {
          "base_uri": "https://localhost:8080/"
        },
        "id": "0V3Qx8Q5YKTK",
        "outputId": "adabe6b5-3318-4e08-e4ac-b6d1c6a6fd82"
      },
      "source": [
        "import sys\n",
        "import csv\n",
        "\n",
        "csv.field_size_limit(sys.maxsize)"
      ],
      "execution_count": 17,
      "outputs": [
        {
          "output_type": "execute_result",
          "data": {
            "text/plain": [
              "131072"
            ]
          },
          "metadata": {
            "tags": []
          },
          "execution_count": 17
        }
      ]
    },
    {
      "cell_type": "code",
      "metadata": {
        "id": "udBzRKErYMs1"
      },
      "source": [
        "train_data, test_data = data.TabularDataset.splits(\n",
        "    path='/content/',\n",
        "    train='train',\n",
        "    test='test',\n",
        "    format='csv',\n",
        "    fields=fields,\n",
        "    skip_header=True\n",
        ")"
      ],
      "execution_count": 18,
      "outputs": []
    },
    {
      "cell_type": "code",
      "metadata": {
        "colab": {
          "base_uri": "https://localhost:8080/"
        },
        "id": "-kGWfnmPwoIU",
        "outputId": "5815bc25-8d2b-4ab2-820f-84f129978b76"
      },
      "source": [
        "print(train_data.shape)"
      ],
      "execution_count": 19,
      "outputs": [
        {
          "output_type": "stream",
          "text": [
            "<generator object Dataset.__getattr__ at 0x7fcbee241f50>\n"
          ],
          "name": "stdout"
        }
      ]
    },
    {
      "cell_type": "code",
      "metadata": {
        "id": "teoJg-uZYPMq",
        "colab": {
          "base_uri": "https://localhost:8080/"
        },
        "outputId": "cdc5efa5-eb25-4e04-faa9-13679d158d72"
      },
      "source": [
        "TEXT.build_vocab(train_data, vectors=GloVe(name='6B', dim=300))\n"
      ],
      "execution_count": 20,
      "outputs": [
        {
          "output_type": "stream",
          "text": [
            ".vector_cache/glove.6B.zip: 862MB [02:42, 5.30MB/s]                           \n",
            "100%|█████████▉| 399980/400000 [01:00<00:00, 9392.35it/s]"
          ],
          "name": "stderr"
        }
      ]
    },
    {
      "cell_type": "code",
      "metadata": {
        "id": "P3XA4rwyYRS4"
      },
      "source": [
        "LABEL.build_vocab(train_data)"
      ],
      "execution_count": 21,
      "outputs": []
    },
    {
      "cell_type": "code",
      "metadata": {
        "id": "1nDZigCGYUWv"
      },
      "source": [
        "word_embeddings = TEXT.vocab.vectors"
      ],
      "execution_count": 22,
      "outputs": []
    },
    {
      "cell_type": "code",
      "metadata": {
        "colab": {
          "base_uri": "https://localhost:8080/"
        },
        "id": "-Dh1GqbwYXSF",
        "outputId": "cd1812ff-3fdf-4b8f-af3e-6e561ec5a0ad"
      },
      "source": [
        "word_embeddings = TEXT.vocab.vectors\n",
        "print (\"Length of Text Vocabulary: \" + str(len(TEXT.vocab)))\n",
        "print (\"Vector size of Text Vocabulary: \", TEXT.vocab.vectors.size())\n",
        "print (\"Label Length: \" + str(len(LABEL.vocab)))"
      ],
      "execution_count": 23,
      "outputs": [
        {
          "output_type": "stream",
          "text": [
            "Length of Text Vocabulary: 870001\n",
            "Vector size of Text Vocabulary:  torch.Size([870001, 300])\n",
            "Label Length: 2\n"
          ],
          "name": "stdout"
        }
      ]
    },
    {
      "cell_type": "code",
      "metadata": {
        "colab": {
          "base_uri": "https://localhost:8080/"
        },
        "id": "MAHf5kX9bda-",
        "outputId": "8725ebe4-ee5c-466d-d4aa-1d0ab6b8f9aa"
      },
      "source": [
        "print(type(train_data))\n",
        "print(train_data.shape)"
      ],
      "execution_count": 24,
      "outputs": [
        {
          "output_type": "stream",
          "text": [
            "<class 'torchtext.data.dataset.TabularDataset'>\n",
            "<generator object Dataset.__getattr__ at 0x7fcb918b3dd0>\n"
          ],
          "name": "stdout"
        }
      ]
    },
    {
      "cell_type": "code",
      "metadata": {
        "id": "TS0vxTPXYZ6q"
      },
      "source": [
        "\n",
        "train_data, valid_data = train_data.split(split_ratio=0.6) # Further splitting of training_data to create new training_data & validation_data\n",
        "train_iter, valid_iter, test_iter = data.BucketIterator.splits((train_data, valid_data, test_data), batch_size=32, sort_key=lambda x: len(x.text), repeat=False, shuffle=True)\n",
        "\n",
        "vocab_size = len(TEXT.vocab)"
      ],
      "execution_count": 25,
      "outputs": []
    },
    {
      "cell_type": "code",
      "metadata": {
        "colab": {
          "base_uri": "https://localhost:8080/"
        },
        "id": "DmmHDmX0aHu7",
        "outputId": "77294669-e12f-4275-f430-dc2635df96c5"
      },
      "source": [
        "print(torchtext.__version__)"
      ],
      "execution_count": 26,
      "outputs": [
        {
          "output_type": "stream",
          "text": [
            "0.3.1\n"
          ],
          "name": "stdout"
        }
      ]
    },
    {
      "cell_type": "code",
      "metadata": {
        "id": "oi-qUUj8YmiI"
      },
      "source": [
        "import os\n",
        "import time\n",
        "import torch\n",
        "import torch.nn as nn\n",
        "import torch.nn.functional as F\n",
        "#from torch.autograd import Variable\n",
        "import torch.optim as optim\n",
        "import numpy as np"
      ],
      "execution_count": 27,
      "outputs": []
    },
    {
      "cell_type": "code",
      "metadata": {
        "id": "Xn8UWsYVY61H"
      },
      "source": [
        "def clip_gradient(model, clip_value):\n",
        "    params = list(filter(lambda p: p.grad is not None, model.parameters()))\n",
        "    for p in params:\n",
        "        p.grad.data.clamp_(-clip_value, clip_value)\n",
        "    \n",
        "def train_model(model, train_iter, epoch):\n",
        "    #Remove any epoch loss or accuracy from the previous run\n",
        "    total_epoch_loss = 0\n",
        "    total_epoch_acc = 0\n",
        "    model.cuda()     \n",
        "    optim = torch.optim.Adam(filter(lambda p: p.requires_grad, model.parameters()), weight_decay=1e-5)\n",
        "    steps = 0\n",
        "    model.train()        #Set the model to training mode\n",
        "    for idx, batch in enumerate(train_iter): #for each bacth in the iterator\n",
        "        text = batch.text[0]\n",
        "        target = batch.label.long()\n",
        "        #target.requires_grad=True\n",
        "        if torch.cuda.is_available():\n",
        "            text = text.cuda()\n",
        "            target = target.cuda()\n",
        "        if (text.size()[0] is not 32):# One of the batch returned by BucketIterator has length different than 32.\n",
        "            continue\n",
        "        optim.zero_grad()         #1. Clean the old gradients\n",
        "        prediction = model(text)  #2. Forward pass\n",
        "        loss = loss_fn(prediction, target)    #3. Calculate the loss\n",
        "        num_corrects = (torch.max(prediction, 1)[1].view(target.size()).data == target.data).float().sum()\n",
        "        acc = 100.0 * num_corrects/len(batch)\n",
        "        loss.backward()         #4. Perform gradient decent differentiation backwards \n",
        "        clip_gradient(model, 1e-1)\n",
        "        optim.step()         # 5. Gradient step: updates the weights for the model\n",
        "        steps += 1 \n",
        "        \n",
        "        if steps % 100 == 0:\n",
        "            print (f'Epoch: {epoch+1}, Idx: {idx+1}, Training Loss: {loss.item():.4f}, Training Accuracy: {acc.item(): .2f}%')\n",
        "        \n",
        "        total_epoch_loss += loss.item()  # Aggregate the epoch loss and accuracy within a given bacth\n",
        "        total_epoch_acc += acc.item()  #The item method returns a scaler\n",
        "        \n",
        "    return total_epoch_loss/len(train_iter), total_epoch_acc/len(train_iter) #return average epoch loss & accuracy\n"
      ],
      "execution_count": 28,
      "outputs": []
    },
    {
      "cell_type": "code",
      "metadata": {
        "id": "5mJ3uFRkZHA1"
      },
      "source": [
        "def eval_model(model, val_iter):\n",
        "    #Remove any epoch loss or accuracy from the previous run\n",
        "    total_epoch_loss = 0\n",
        "    total_epoch_acc = 0\n",
        "    model.eval()               #Set the model to evaluation mode-->disables batch normalization & dropouts\n",
        "    with torch.no_grad():       #   We don't update the weights & gradients are not reqiured-->prevent gradient calculations\n",
        "        for idx, batch in enumerate(val_iter): #for each batch in the iterator\n",
        "            text = batch.text[0]\n",
        "            if (text.size()[0] is not 32):\n",
        "                continue\n",
        "            target = batch.label.long()\n",
        "            #target = torch.autograd.target.long()\n",
        "            #target.requires_grad = True\n",
        "            if torch.cuda.is_available():\n",
        "                text = text.cuda()\n",
        "                target = target.cuda()\n",
        "            prediction = model(text)\n",
        "            loss = loss_fn(prediction, target)\n",
        "            #From all the prediction how many were right\n",
        "            num_corrects = (torch.max(prediction, 1)[1].view(target.size()).data == target.data).sum()\n",
        "            acc = 100.0 * num_corrects/len(batch)\n",
        "            total_epoch_loss += loss.item() # Aggregate the epoch loss and accuracy within a given bacth\n",
        "            total_epoch_acc += acc.item()  #The item method returns a scaler\n",
        "\n",
        "    return total_epoch_loss/len(val_iter), total_epoch_acc/len(val_iter) #return average epoch loss & accuracy"
      ],
      "execution_count": 113,
      "outputs": []
    },
    {
      "cell_type": "code",
      "metadata": {
        "id": "m7CwUhuMpOMB"
      },
      "source": [
        "class LSTMClassifier(nn.Module):\n",
        "\tdef __init__(self, batch_size, output_size, hidden_size, vocab_size, embedding_length, weights):\n",
        "\t\tsuper(LSTMClassifier, self).__init__()\n",
        "\t\t\n",
        "\t\t\"\"\"\n",
        "\t\tArguments\n",
        "\t\t---------\n",
        "\t\tbatch_size : Size of the batch which is same as the batch_size of the data returned by the TorchText BucketIterator\n",
        "\t\toutput_size : 2 = (pos, neg)\n",
        "\t\thidden_sie : Size of the hidden_state of the LSTM\n",
        "\t\tvocab_size : Size of the vocabulary containing unique words\n",
        "\t\tembedding_length : Embeddding dimension of GloVe word embeddings\n",
        "\t\tweights : Pre-trained GloVe word_embeddings which we will use to create our word_embedding look-up table \n",
        "\t\t\n",
        "\t\t\"\"\"\n",
        "\t\t\n",
        "\t\tself.batch_size = batch_size\n",
        "\t\tself.output_size = output_size\n",
        "\t\tself.hidden_size = hidden_size\n",
        "\t\tself.vocab_size = vocab_size\n",
        "\t\tself.embedding_length = embedding_length\n",
        "\t\t\n",
        "\t\tself.word_embeddings = nn.Embedding(vocab_size, embedding_length)# Initializing the look-up table.\n",
        "\t\tself.word_embeddings.weight = nn.Parameter(weights, requires_grad=False) # Assigning the look-up table to the pre-trained GloVe word embedding.\n",
        "\t\tself.lstm = nn.LSTM(embedding_length, hidden_size)\n",
        "\t\tself.label = nn.Linear(hidden_size, output_size)\n",
        "\t\t\n",
        "\tdef forward(self, input_sentence, batch_size=None):\n",
        "\t\n",
        "\t\t\"\"\" \n",
        "\t\tParameters\n",
        "\t\t----------\n",
        "\t\tinput_sentence: input_sentence of shape = (batch_size, num_sequences)\n",
        "\t\tbatch_size : default = None. Used only for prediction on a single sentence after training (batch_size = 1)\n",
        "\t\t\n",
        "\t\tReturns\n",
        "\t\t-------\n",
        "\t\tOutput of the linear layer containing logits for positive & negative class which receives its input as the final_hidden_state of the LSTM\n",
        "\t\tfinal_output.shape = (batch_size, output_size)\n",
        "\t\t\n",
        "\t\t\"\"\"\n",
        "\t\t\n",
        "\t\t''' Here we will map all the indexes present in the input sequence to the corresponding word vector using our pre-trained word_embedddins.'''\n",
        "\t\tinput = self.word_embeddings(input_sentence) # embedded input of shape = (batch_size, num_sequences,  embedding_length)\n",
        "\t\tinput = input.permute(1, 0, 2) # input.size() = (num_sequences, batch_size, embedding_length)\n",
        "\t\tif batch_size is None:\n",
        "\t\t\th_0 = torch.zeros(1, self.batch_size, self.hidden_size).cuda() # Initial hidden state of the LSTM\n",
        "\t\t\tc_0 = torch.zeros(1, self.batch_size, self.hidden_size).cuda() # Initial cell state of the LSTM\n",
        "\t\telse:\n",
        "\t\t\th_0 = torch.zeros(1, batch_size, self.hidden_size).cuda()\n",
        "\t\t\tc_0 = torch.zeros(1, batch_size, self.hidden_size).cuda()\n",
        "   \n",
        "\t\toutput, (final_hidden_state, final_cell_state) = self.lstm(input, (h_0, c_0))\n",
        "\t\tfinal_output = self.label(final_hidden_state[-1]) # final_hidden_state.size() = (1, batch_size, hidden_size) & final_output.size() = (batch_size, output_size)\n",
        "\t\t\n",
        "\t\treturn final_output\n"
      ],
      "execution_count": 114,
      "outputs": []
    },
    {
      "cell_type": "code",
      "metadata": {
        "id": "UniVZgGRZLYm"
      },
      "source": [
        "import torch\n",
        "import torch.nn as nn\n",
        "#from torch.autograd import Variable\n",
        "from torch.nn import functional as F\n",
        "import numpy as np\n",
        "\n",
        "class AttentionModel(torch.nn.Module):\n",
        "\tdef __init__(self, batch_size, output_size, hidden_size, vocab_size, embedding_length, weights):\n",
        "\t\tsuper(AttentionModel, self).__init__()\n",
        "\t\t\n",
        "\t\t\"\"\"\n",
        "\t\tArguments\n",
        "\t\t---------\n",
        "\t\tbatch_size : Size of the batch which is same as the batch_size of the data returned by the TorchText BucketIterator\n",
        "\t\toutput_size : 2 = (pos, neg)\n",
        "\t\thidden_sie : Size of the hidden_state of the LSTM\n",
        "\t\tvocab_size : Size of the vocabulary containing unique words\n",
        "\t\tembedding_length : Embeddding dimension of GloVe word embeddings\n",
        "\t\tweights : Pre-trained GloVe word_embeddings which we will use to create our word_embedding look-up table \n",
        "\t\t\n",
        "\t\t--------\n",
        "\t\t\n",
        "\t\t\"\"\"\n",
        "\t\t\n",
        "\t\tself.batch_size = batch_size\n",
        "\t\tself.output_size = output_size\n",
        "\t\tself.hidden_size = hidden_size\n",
        "\t\tself.vocab_size = vocab_size\n",
        "\t\tself.embedding_length = embedding_length\n",
        "\n",
        "\t\t#Layers within model:  Embedding - LSTM  - Linear (Fully connected).\n",
        "\t\tself.word_embeddings = nn.Embedding(vocab_size, embedding_length)\n",
        "\t\tself.word_embeddings.weights = nn.Parameter(weights, requires_grad=False)\n",
        "\t\tself.lstm = nn.LSTM(embedding_length, hidden_size)\n",
        "\t\tself.label = nn.Linear(hidden_size, output_size)\n",
        "\t\t#self.attn_fc_layer = nn.Linear()\n",
        "\t\t\n",
        "\tdef attention_net(self, lstm_output, final_state):\n",
        "\n",
        "\t\t\"\"\" \n",
        "\t\tAttention is used to compute soft alignment score corresponding\n",
        "\t\tbetween each of the hidden_state and the last hidden_state of the LSTM. \n",
        "\t\t\n",
        "\t\tArguments\n",
        "\t\t---------\n",
        "\t\t\n",
        "\t\tlstm_output : Final output of the LSTM which contains hidden layer outputs for each sequence.\n",
        "\t\tfinal_state : Final time-step hidden state (h_n) of the LSTM\n",
        "\t\t\n",
        "\t\t---------\n",
        "\t\t\n",
        "\t\tReturns : It performs attention mechanism by first computing weights for each of the sequence present in lstm_output and and then finally computing the\n",
        "\t\t\t\t  new hidden state.\n",
        "\t\t\t\t  \n",
        "\t\tTensor Size :\n",
        "\t\t\t\t\thidden.size() = (batch_size, hidden_size)\n",
        "\t\t\t\t\tattn_weights.size() = (batch_size, num_seq)\n",
        "\t\t\t\t\tsoft_attn_weights.size() = (batch_size, num_seq)\n",
        "\t\t\t\t\tnew_hidden_state.size() = (batch_size, hidden_size)\n",
        "\t\t\t\t\t  \n",
        "\t\t\"\"\"\n",
        "\t\t\n",
        "\t\thidden = final_state.squeeze(0)\n",
        "\t\tattn_weights = torch.bmm(lstm_output, hidden.unsqueeze(2)).squeeze(2)\n",
        "\t\tsoft_attn_weights = F.softmax(attn_weights, 1)\n",
        "\t\tnew_hidden_state = torch.bmm(lstm_output.transpose(1, 2), soft_attn_weights.unsqueeze(2)).squeeze(2)\n",
        "\t\t\n",
        "\t\treturn new_hidden_state\n",
        "\t\n",
        "\tdef forward(self, input_sentences, batch_size=None):\n",
        "\t\n",
        "\t\t\"\"\" \n",
        "\t\tParameters\n",
        "\t\t----------\n",
        "\t\tinput_sentence: input_sentence of shape = (batch_size, num_sequences)\n",
        "\t\tbatch_size : default = None. Used only for prediction on a single sentence after training (batch_size = 1)\n",
        "\t\t\n",
        "\t\tReturns\n",
        "\t\t-------\n",
        "\t\tOutput of the linear layer containing logits for pos & neg class which receives its input as the new_hidden_state which is basically the output of the Attention network.\n",
        "\t\tfinal_output.shape = (batch_size, output_size)\n",
        "\t\t\n",
        "\t\t\"\"\"\n",
        "\t\t#First: Embedding\n",
        "\t\tinput = self.word_embeddings(input_sentences)\n",
        "\t\tinput = input.permute(1, 0, 2)\n",
        "\t\tif batch_size is None:\n",
        "\t\t\th_0 = torch.zeros(1, self.batch_size, self.hidden_size).cuda()\n",
        "\t\t\tc_0 = torch.zeros(1, self.batch_size, self.hidden_size).cuda()\n",
        "\t\telse:\n",
        "\t\t\th_0 = torch.zeros(1, batch_size, self.hidden_size).cuda()\n",
        "\t\t\tc_0 = torch.zeros(1, batch_size, self.hidden_size).cuda()\n",
        "\t\t\n",
        "    #Second: LSTM - response consists of output state and a tupple of (hidden state, cell state)\n",
        "\t\toutput, (final_hidden_state, final_cell_state) = self.lstm(input, (h_0, c_0)) # final_hidden_state.size() = (1, batch_size, hidden_size) \n",
        "\t\toutput = output.permute(1, 0, 2) # output.size() = (batch_size, num_seq, hidden_size)\n",
        "\t\t#Third: Attention\n",
        "\t\tattn_output = self.attention_net(output, final_hidden_state)\n",
        "    #Fourth linear fully connected\n",
        "\t\tlogits = self.label(attn_output)\n",
        "\t\t\n",
        "\t\treturn logits"
      ],
      "execution_count": 115,
      "outputs": []
    },
    {
      "cell_type": "code",
      "metadata": {
        "id": "IHrBDbKrDXMX"
      },
      "source": [
        "\n",
        "class RNN(nn.Module):\n",
        "\tdef __init__(self, batch_size, output_size, hidden_size, vocab_size, embedding_length, weights):\n",
        "\t\tsuper(RNN, self).__init__()\n",
        "\n",
        "\t\t\"\"\"\n",
        "\t\tArguments\n",
        "\t\t---------\n",
        "\t\tbatch_size : Size of the batch which is same as the batch_size of the data returned by the TorchText BucketIterator\n",
        "\t\toutput_size : 2 = (pos, neg)\n",
        "\t\thidden_sie : Size of the hidden_state of the LSTM\n",
        "\t\tvocab_size : Size of the vocabulary containing unique words\n",
        "\t\tembedding_length : Embeddding dimension of GloVe word embeddings\n",
        "\t\tweights : Pre-trained GloVe word_embeddings which we will use to create our word_embedding look-up table \n",
        "\t\t\n",
        "\t\t\"\"\"\n",
        "\n",
        "\t\tself.batch_size = batch_size\n",
        "\t\tself.output_size = output_size\n",
        "\t\tself.hidden_size = hidden_size\n",
        "\t\tself.vocab_size = vocab_size\n",
        "\t\tself.embedding_length = embedding_length\n",
        "\t\t\n",
        "\t\tself.word_embeddings = nn.Embedding(vocab_size, embedding_length)\n",
        "\t\tself.word_embeddings.weight = nn.Parameter(weights, requires_grad=False)\n",
        "\t\tself.rnn = nn.RNN(embedding_length, hidden_size, num_layers=2, bidirectional=True)\n",
        "\t\tself.label = nn.Linear(4*hidden_size, output_size)\n",
        "\t\n",
        "\tdef forward(self, input_sentences, batch_size=None):\n",
        "\t\t\n",
        "\t\t\"\"\" \n",
        "\t\tParameters\n",
        "\t\t----------\n",
        "\t\tinput_sentence: input_sentence of shape = (batch_size, num_sequences)\n",
        "\t\tbatch_size : default = None. Used only for prediction on a single sentence after training (batch_size = 1)\n",
        "\t\t\n",
        "\t\tReturns\n",
        "\t\t-------\n",
        "\t\tOutput of the linear layer containing logits for pos & neg class which receives its input as the final_hidden_state of RNN.\n",
        "\t\tlogits.size() = (batch_size, output_size)\n",
        "\t\t\n",
        "\t\t\"\"\"\n",
        "\n",
        "\t\tinput = self.word_embeddings(input_sentences)\n",
        "\t\tinput = input.permute(1, 0, 2)\n",
        "\t\tif batch_size is None:\n",
        "\t\t\th_0 = torch.zeros(4, self.batch_size, self.hidden_size).cuda() # 4 = num_layers*num_directions\n",
        "\t\telse:\n",
        "\t\t\th_0 = torch.zeros(4, batch_size, self.hidden_size).cuda()\n",
        "\t\toutput, h_n = self.rnn(input, h_0)\n",
        "\t\t# h_n.size() = (4, batch_size, hidden_size)\n",
        "\t\th_n = h_n.permute(1, 0, 2) # h_n.size() = (batch_size, 4, hidden_size)\n",
        "\t\th_n = h_n.contiguous().view(h_n.size()[0], h_n.size()[1]*h_n.size()[2])\n",
        "\t\t# h_n.size() = (batch_size, 4*hidden_size)\n",
        "\t\tlogits = self.label(h_n) # logits.size() = (batch_size, output_size)\n",
        "\t\t\n",
        "\t\treturn logits\n"
      ],
      "execution_count": 116,
      "outputs": []
    },
    {
      "cell_type": "code",
      "metadata": {
        "id": "042_yUJiZO-J"
      },
      "source": [
        "learning_rate = 2e-5\n",
        "batch_size = 32\n",
        "output_size = 2\n",
        "hidden_size = 256\n",
        "embedding_length = 300\n",
        "\n",
        "#model = LSTMClassifier(batch_size, output_size, hidden_size, vocab_size, embedding_length, word_embeddings)\n",
        "#model = AttentionModel(batch_size, output_size, hidden_size, vocab_size, embedding_length, word_embeddings)\n",
        "model = RNN(batch_size, output_size, hidden_size, vocab_size, embedding_length, word_embeddings)\n",
        "\n",
        "\n",
        "loss_fn = F.cross_entropy"
      ],
      "execution_count": 117,
      "outputs": []
    },
    {
      "cell_type": "code",
      "metadata": {
        "id": "LpFQXEqrZRWl"
      },
      "source": [
        "CUDA_LAUNCH_BLOCKING=1"
      ],
      "execution_count": 118,
      "outputs": []
    },
    {
      "cell_type": "code",
      "metadata": {
        "colab": {
          "base_uri": "https://localhost:8080/"
        },
        "id": "2BevgfjbZT62",
        "outputId": "3938fe74-6d7b-41ce-8507-e4efb0db00c3"
      },
      "source": [
        "for epoch in range(20):\n",
        "\n",
        "    #Forward pass- Calculate loss- Perform GD- Take gradient step- Zero gradients\n",
        "    train_loss, train_acc = train_model(model, train_iter, epoch)\n",
        "    val_loss, val_acc = eval_model(model, valid_iter)\n",
        "    if epoch %5 == 4:  #print  only every 5 epochs\n",
        "      print(f'Epoch: {epoch+1:02}, Train Loss: {train_loss:.3f}, Train Acc: {train_acc:.2f}%, Val. Loss: {val_loss:3f}, Val. Acc: {val_acc:.2f}%')\n",
        "    \n",
        "test_loss, test_acc = eval_model(model, test_iter)\n",
        "print(f'Test Loss: {test_loss:.3f}, Test Acc: {test_acc:.2f}%')\n",
        "\n",
        "''' Let us now predict the sentiment on a single sentence just for the testing purpose. '''\n",
        "test_sen1 = \"Life is good.\"\n",
        "test_sen2 = \"The end is close.\"\n",
        "\n",
        "test_sen1 = TEXT.preprocess(test_sen1)\n",
        "test_sen1 = [[TEXT.vocab.stoi[x] for x in test_sen1]]\n",
        "\n",
        "test_sen2 = TEXT.preprocess(test_sen2)\n",
        "test_sen2 = [[TEXT.vocab.stoi[x] for x in test_sen2]]\n",
        "\n",
        "test_sen = np.asarray(test_sen1)\n",
        "test_sen = torch.LongTensor(test_sen)\n",
        "test_tensor = test_sen\n",
        "test_tensor = test_tensor.cuda()\n",
        "model.eval()\n",
        "\n",
        "\n",
        "output = model(test_tensor, 1)\n",
        "#Feed the output to softmax to get the prediction\n",
        "out = F.softmax(output, 1)\n",
        "\n",
        "if (torch.argmax(out[0]) == 1): \n",
        "    print (\"Sentiment: Positive\")\n",
        "else:\n",
        "    print (\"Sentiment: Negative\")\n"
      ],
      "execution_count": 119,
      "outputs": [
        {
          "output_type": "stream",
          "text": [
            "Epoch: 05, Train Loss: 0.419, Train Acc: 75.43%, Val. Loss: 1.025083, Val. Acc: 49.34%\n",
            "Epoch: 10, Train Loss: 0.421, Train Acc: 78.23%, Val. Loss: 1.092520, Val. Acc: 47.37%\n",
            "Epoch: 15, Train Loss: 0.271, Train Acc: 85.13%, Val. Loss: 1.321145, Val. Acc: 46.22%\n",
            "Epoch: 20, Train Loss: 0.194, Train Acc: 88.69%, Val. Loss: 1.701713, Val. Acc: 46.05%\n",
            "Test Loss: 1.495, Test Acc: 42.97%\n",
            "Sentiment: Positive\n"
          ],
          "name": "stdout"
        }
      ]
    },
    {
      "cell_type": "code",
      "metadata": {
        "id": "p7mNotZPaltZ"
      },
      "source": [
        "from sklearn.model_selection import KFold\n",
        "kfold =KFold(n_splits=10)"
      ],
      "execution_count": 68,
      "outputs": []
    },
    {
      "cell_type": "code",
      "metadata": {
        "colab": {
          "base_uri": "https://localhost:8080/"
        },
        "id": "BJzfDD92g75b",
        "outputId": "545f4297-6439-49c7-e7dc-8dbecbef4331"
      },
      "source": [
        "print(df.shape)"
      ],
      "execution_count": 69,
      "outputs": [
        {
          "output_type": "stream",
          "text": [
            "(1146, 2)\n"
          ],
          "name": "stdout"
        }
      ]
    },
    {
      "cell_type": "code",
      "metadata": {
        "colab": {
          "base_uri": "https://localhost:8080/"
        },
        "id": "tyWjZylXgktP",
        "outputId": "34f3c376-4bd7-4881-e804-daaf81db63f2"
      },
      "source": [
        "cv = KFold(n_splits=5, random_state=42, shuffle=False)\n",
        "for train_index, test_index in cv.split(df):\n",
        "    #print(df.iloc[train_index])\n",
        "    #print(df.iloc[test_index])\n",
        "    #print(\"Train Index: \", train_index, \"\\n\")\n",
        "    #print(\"Test Index: \", test_index)\n",
        "    print(\"------\")\n",
        "    \n",
        "\n"
      ],
      "execution_count": 70,
      "outputs": [
        {
          "output_type": "stream",
          "text": [
            "------\n",
            "------\n",
            "------\n",
            "------\n",
            "------\n"
          ],
          "name": "stdout"
        },
        {
          "output_type": "stream",
          "text": [
            "/usr/local/lib/python3.7/dist-packages/sklearn/model_selection/_split.py:296: FutureWarning: Setting a random_state has no effect since shuffle is False. This will raise an error in 0.24. You should leave random_state to its default (None), or set shuffle=True.\n",
            "  FutureWarning\n"
          ],
          "name": "stderr"
        }
      ]
    },
    {
      "cell_type": "code",
      "metadata": {
        "colab": {
          "base_uri": "https://localhost:8080/"
        },
        "id": "xYoHscnRl5yK",
        "outputId": "6c70f21a-1c19-4419-ba28-7e4f59e7f074"
      },
      "source": [
        "train_loss_list = []\n",
        "train_accuracy_list = []\n",
        "validation_loss_list = []\n",
        "validation_accuracy_list=[]\n",
        "\n",
        "for fold, (train_index, test_index) in enumerate(cv.split(df)):\n",
        "  #print(fold)\n",
        "  train=df.iloc[train_index].to_csv(f'train{fold}', index=False)\n",
        "  valid=df.iloc[test_index].to_csv(f'valid{fold}', index=False)\n",
        "\n",
        "  train_data, test_data, valid_data = data.TabularDataset.splits(\n",
        "  path='/content/',\n",
        "  train=f'train{fold}',\n",
        "  test='test',\n",
        "  validation=f'valid{fold}',\n",
        "  format='csv',\n",
        "  fields=fields,\n",
        "  skip_header=True\n",
        ")\n",
        "  \n",
        "  #train_data, valid_data = train_data.split(split_ratio=0.6) # Further splitting of training_data to create new training_data & validation_data\n",
        "  train_iter, valid_iter, test_iter = data.BucketIterator.splits((train_data, valid_data, test_data), batch_size=32, sort_key=lambda x: len(x.text), repeat=False, shuffle=True)\n",
        "\n",
        "  print(f'Fold number: {fold}',\"\\n\")\n",
        "\n",
        "  \n",
        "  for epoch in range(30):\n",
        "\n",
        "    #Forward pass- Calculate loss- Perform GD- Take gradient step- Zero gradients\n",
        "    train_loss, train_acc = train_model(model, train_iter, epoch)\n",
        "    val_loss, val_acc = eval_model(model, valid_iter)\n",
        "\n",
        "  \n",
        "    if epoch %5 == 4: #print every 5 epochs\n",
        "\n",
        "    \n",
        "      print(f'Epoch: {epoch+1:02}, Train Loss: {train_loss:.3f}, Train Acc: {train_acc:.2f}%, Val. Loss: {val_loss:3f}, Val. Acc: {val_acc:.2f}%')\n",
        "\n",
        "  print(\"\\n\")\n",
        "  train_loss_list.append(train_loss)\n",
        "  train_accuracy_list.append(train_acc)\n",
        "  validation_loss_list.append(val_loss)\n",
        "  validation_accuracy_list.append(val_acc)\n",
        "\n",
        "print(\"Average train loss:\", np.average(train_loss_list))\n",
        "print(\"Average train accuracy:\", np.average(train_accuracy_list))\n",
        "print(\"Average Validation loss:\", np.average(validation_loss_list))\n",
        "print(\"Average Validation error:\", np.average(validation_accuracy_list))\n",
        "\n",
        "\n",
        "\n",
        "print(\"\\n\")\n",
        "test_loss, test_acc = eval_model(model, test_iter)\n",
        "print(f'Test Loss: {test_loss:.3f}, Test Acc: {test_acc:.2f}%')"
      ],
      "execution_count": 103,
      "outputs": [
        {
          "output_type": "stream",
          "text": [
            "Fold number: 0 \n",
            "\n",
            "Epoch: 05, Train Loss: 0.049, Train Acc: 94.61%, Val. Loss: 4.434430, Val. Acc: 51.15%\n",
            "Epoch: 10, Train Loss: 0.034, Train Acc: 96.01%, Val. Loss: 5.028644, Val. Acc: 50.66%\n",
            "Epoch: 15, Train Loss: 0.037, Train Acc: 95.47%, Val. Loss: 4.484118, Val. Acc: 50.33%\n",
            "Epoch: 20, Train Loss: 0.042, Train Acc: 94.83%, Val. Loss: 4.611390, Val. Acc: 52.30%\n",
            "Epoch: 25, Train Loss: 0.041, Train Acc: 95.47%, Val. Loss: 4.395967, Val. Acc: 49.18%\n",
            "Epoch: 30, Train Loss: 0.018, Train Acc: 96.01%, Val. Loss: 4.669544, Val. Acc: 49.67%\n",
            "\n",
            "\n",
            "Fold number: 1 \n",
            "\n",
            "Epoch: 05, Train Loss: 0.067, Train Acc: 94.61%, Val. Loss: 4.696566, Val. Acc: 49.51%\n",
            "Epoch: 10, Train Loss: 0.026, Train Acc: 95.47%, Val. Loss: 4.126141, Val. Acc: 49.51%\n",
            "Epoch: 15, Train Loss: 0.032, Train Acc: 95.26%, Val. Loss: 5.099572, Val. Acc: 48.52%\n",
            "Epoch: 20, Train Loss: 0.053, Train Acc: 94.83%, Val. Loss: 5.080209, Val. Acc: 46.88%\n",
            "Epoch: 25, Train Loss: 0.020, Train Acc: 96.01%, Val. Loss: 4.996573, Val. Acc: 51.81%\n",
            "Epoch: 30, Train Loss: 0.015, Train Acc: 96.01%, Val. Loss: 5.333485, Val. Acc: 46.88%\n",
            "\n",
            "\n",
            "Fold number: 2 \n",
            "\n",
            "Epoch: 05, Train Loss: 0.046, Train Acc: 95.26%, Val. Loss: 4.794885, Val. Acc: 46.38%\n",
            "Epoch: 10, Train Loss: 0.068, Train Acc: 95.04%, Val. Loss: 5.133936, Val. Acc: 47.20%\n",
            "Epoch: 15, Train Loss: 0.046, Train Acc: 95.04%, Val. Loss: 4.200181, Val. Acc: 49.18%\n",
            "Epoch: 20, Train Loss: 0.031, Train Acc: 95.47%, Val. Loss: 4.961064, Val. Acc: 49.18%\n",
            "Epoch: 25, Train Loss: 0.051, Train Acc: 94.72%, Val. Loss: 4.841734, Val. Acc: 47.86%\n",
            "Epoch: 30, Train Loss: 0.063, Train Acc: 94.94%, Val. Loss: 4.852708, Val. Acc: 50.00%\n",
            "\n",
            "\n",
            "Fold number: 3 \n",
            "\n",
            "Epoch: 05, Train Loss: 0.051, Train Acc: 95.04%, Val. Loss: 4.839513, Val. Acc: 48.03%\n",
            "Epoch: 10, Train Loss: 0.024, Train Acc: 95.58%, Val. Loss: 4.485451, Val. Acc: 50.82%\n",
            "Epoch: 15, Train Loss: 0.022, Train Acc: 96.01%, Val. Loss: 4.497393, Val. Acc: 51.15%\n",
            "Epoch: 20, Train Loss: 0.052, Train Acc: 95.26%, Val. Loss: 5.742943, Val. Acc: 47.04%\n",
            "Epoch: 25, Train Loss: 0.079, Train Acc: 94.61%, Val. Loss: 5.162121, Val. Acc: 48.68%\n",
            "Epoch: 30, Train Loss: 0.036, Train Acc: 95.15%, Val. Loss: 4.941348, Val. Acc: 46.55%\n",
            "\n",
            "\n",
            "Fold number: 4 \n",
            "\n",
            "Epoch: 05, Train Loss: 0.042, Train Acc: 95.47%, Val. Loss: 4.546517, Val. Acc: 50.16%\n",
            "Epoch: 10, Train Loss: 0.092, Train Acc: 94.83%, Val. Loss: 5.388584, Val. Acc: 48.85%\n",
            "Epoch: 15, Train Loss: 0.077, Train Acc: 95.04%, Val. Loss: 5.016399, Val. Acc: 47.86%\n",
            "Epoch: 20, Train Loss: 0.111, Train Acc: 93.53%, Val. Loss: 4.612950, Val. Acc: 49.67%\n",
            "Epoch: 25, Train Loss: 0.052, Train Acc: 94.94%, Val. Loss: 4.446570, Val. Acc: 48.68%\n",
            "Epoch: 30, Train Loss: 0.058, Train Acc: 95.04%, Val. Loss: 4.790544, Val. Acc: 43.91%\n",
            "\n",
            "\n",
            "Average train loss: 0.03791022119949048\n",
            "Average train accuracy: 95.43103448275863\n",
            "Average Validation loss: 4.917525979092247\n",
            "Average Validation error: 47.401315789473685\n",
            "\n",
            "\n",
            "Test Loss: 0.483, Test Acc: 78.91%\n"
          ],
          "name": "stdout"
        }
      ]
    },
    {
      "cell_type": "code",
      "metadata": {
        "colab": {
          "base_uri": "https://localhost:8080/"
        },
        "id": "hBUpz0Nuc1dE",
        "outputId": "b086113f-b9fa-4399-b030-9b024c02ab2f"
      },
      "source": [
        "len(validation_accuracy_list)"
      ],
      "execution_count": 104,
      "outputs": [
        {
          "output_type": "execute_result",
          "data": {
            "text/plain": [
              "5"
            ]
          },
          "metadata": {
            "tags": []
          },
          "execution_count": 104
        }
      ]
    },
    {
      "cell_type": "code",
      "metadata": {
        "id": "dDoD5bTtmhIK"
      },
      "source": [
        "for idx, batch in enumerate(test_iter): #for each batch in the test iterator\n",
        "  text = batch.text[0]\n",
        "  if (text.size()[0] is not 32):\n",
        "    continue\n",
        "\n",
        "  target = batch.label.long()\n",
        "            \n",
        "  if torch.cuda.is_available():\n",
        "    text = text.cuda()\n",
        "    target = target.cuda()\n",
        "  model.eval()\n",
        "  prediction = model(text)\n",
        "  loss = loss_fn(prediction, target)\n",
        "  y_pred=target.data\n",
        "  y_test=torch.max(prediction, 1)[1].view(target.size()).data\n",
        "  num_corrects = (torch.max(prediction, 1)[1].view(target.size()).data == target.data).sum()\n",
        "  "
      ],
      "execution_count": 141,
      "outputs": []
    },
    {
      "cell_type": "code",
      "metadata": {
        "id": "rDlZn_-0fl-j"
      },
      "source": [
        "from sklearn.metrics import confusion_matrix, classification_report\n",
        "from sklearn import metrics\n"
      ],
      "execution_count": 127,
      "outputs": []
    },
    {
      "cell_type": "code",
      "metadata": {
        "colab": {
          "base_uri": "https://localhost:8080/"
        },
        "id": "oRzoH5FLfr9J",
        "outputId": "7811a868-ce14-4686-e1d0-f366a91036a7"
      },
      "source": [
        "print(metrics.classification_report(y_pred.cpu().detach().numpy(), y_test.cpu().detach().numpy()))"
      ],
      "execution_count": 145,
      "outputs": [
        {
          "output_type": "stream",
          "text": [
            "              precision    recall  f1-score   support\n",
            "\n",
            "           0       0.43      0.75      0.55        12\n",
            "           1       0.73      0.40      0.52        20\n",
            "\n",
            "    accuracy                           0.53        32\n",
            "   macro avg       0.58      0.57      0.53        32\n",
            "weighted avg       0.62      0.53      0.53        32\n",
            "\n"
          ],
          "name": "stdout"
        }
      ]
    },
    {
      "cell_type": "markdown",
      "metadata": {
        "id": "z1sS-_kATzVs"
      },
      "source": [
        "##Testing with Reddit Dataset"
      ]
    },
    {
      "cell_type": "code",
      "metadata": {
        "colab": {
          "base_uri": "https://localhost:8080/",
          "height": 108
        },
        "id": "IcYHN0KtDnon",
        "outputId": "036972c6-a50f-41fc-f0fc-776d11dbd403"
      },
      "source": [
        "reddit= pd.read_csv(Path('/content/drive/My Drive/DSP/data/bachelor/Reddit.csv'))\n",
        "reddit.head(2)\n"
      ],
      "execution_count": 152,
      "outputs": [
        {
          "output_type": "execute_result",
          "data": {
            "text/html": [
              "<div>\n",
              "<style scoped>\n",
              "    .dataframe tbody tr th:only-of-type {\n",
              "        vertical-align: middle;\n",
              "    }\n",
              "\n",
              "    .dataframe tbody tr th {\n",
              "        vertical-align: top;\n",
              "    }\n",
              "\n",
              "    .dataframe thead th {\n",
              "        text-align: right;\n",
              "    }\n",
              "</style>\n",
              "<table border=\"1\" class=\"dataframe\">\n",
              "  <thead>\n",
              "    <tr style=\"text-align: right;\">\n",
              "      <th></th>\n",
              "      <th>label</th>\n",
              "      <th>text</th>\n",
              "    </tr>\n",
              "  </thead>\n",
              "  <tbody>\n",
              "    <tr>\n",
              "      <th>0</th>\n",
              "      <td>negative</td>\n",
              "      <td>My male cousin stopped talking to me all of su...</td>\n",
              "    </tr>\n",
              "    <tr>\n",
              "      <th>1</th>\n",
              "      <td>negative</td>\n",
              "      <td>Drifting away from my best friend\\nMy best fri...</td>\n",
              "    </tr>\n",
              "  </tbody>\n",
              "</table>\n",
              "</div>"
            ],
            "text/plain": [
              "      label                                               text\n",
              "0  negative  My male cousin stopped talking to me all of su...\n",
              "1  negative  Drifting away from my best friend\\nMy best fri..."
            ]
          },
          "metadata": {
            "tags": []
          },
          "execution_count": 152
        }
      ]
    },
    {
      "cell_type": "code",
      "metadata": {
        "colab": {
          "base_uri": "https://localhost:8080/",
          "height": 348
        },
        "id": "FPuJMdy1FpBu",
        "outputId": "f5be27ab-d28b-44dd-f7b9-85edcba83297"
      },
      "source": [
        "# Shuffle the reddit data set and split to train and test. Train will be later devided to train and validation. \n",
        "reddit= reddit.sample(frac=1).reset_index(drop=True)\n",
        "reddit.head(10)\n"
      ],
      "execution_count": 153,
      "outputs": [
        {
          "output_type": "execute_result",
          "data": {
            "text/html": [
              "<div>\n",
              "<style scoped>\n",
              "    .dataframe tbody tr th:only-of-type {\n",
              "        vertical-align: middle;\n",
              "    }\n",
              "\n",
              "    .dataframe tbody tr th {\n",
              "        vertical-align: top;\n",
              "    }\n",
              "\n",
              "    .dataframe thead th {\n",
              "        text-align: right;\n",
              "    }\n",
              "</style>\n",
              "<table border=\"1\" class=\"dataframe\">\n",
              "  <thead>\n",
              "    <tr style=\"text-align: right;\">\n",
              "      <th></th>\n",
              "      <th>label</th>\n",
              "      <th>text</th>\n",
              "    </tr>\n",
              "  </thead>\n",
              "  <tbody>\n",
              "    <tr>\n",
              "      <th>0</th>\n",
              "      <td>positive</td>\n",
              "      <td>I’ve lost the last of my hope for “my turn”.\\n...</td>\n",
              "    </tr>\n",
              "    <tr>\n",
              "      <th>1</th>\n",
              "      <td>positive</td>\n",
              "      <td>.\\nI feel like I don't have a heart anymore, o...</td>\n",
              "    </tr>\n",
              "    <tr>\n",
              "      <th>2</th>\n",
              "      <td>positive</td>\n",
              "      <td>A stranger hugged me yesterday\\nI was crying y...</td>\n",
              "    </tr>\n",
              "    <tr>\n",
              "      <th>3</th>\n",
              "      <td>negative</td>\n",
              "      <td>Top 15 Inspiring Friendship Quotes\\nA friend i...</td>\n",
              "    </tr>\n",
              "    <tr>\n",
              "      <th>4</th>\n",
              "      <td>positive</td>\n",
              "      <td>Kill myself because I don't have a girlfriend\\...</td>\n",
              "    </tr>\n",
              "    <tr>\n",
              "      <th>5</th>\n",
              "      <td>positive</td>\n",
              "      <td>I've fallen back into a depression and missed ...</td>\n",
              "    </tr>\n",
              "    <tr>\n",
              "      <th>6</th>\n",
              "      <td>positive</td>\n",
              "      <td>Painfully lonely and spiraling into the worst ...</td>\n",
              "    </tr>\n",
              "    <tr>\n",
              "      <th>7</th>\n",
              "      <td>positive</td>\n",
              "      <td>When did you decide to get help? What was the ...</td>\n",
              "    </tr>\n",
              "    <tr>\n",
              "      <th>8</th>\n",
              "      <td>positive</td>\n",
              "      <td>3 in the night and I can't stop crying\\nPeople...</td>\n",
              "    </tr>\n",
              "    <tr>\n",
              "      <th>9</th>\n",
              "      <td>negative</td>\n",
              "      <td>Is this my fault?\\nI've been on SSI ever since...</td>\n",
              "    </tr>\n",
              "  </tbody>\n",
              "</table>\n",
              "</div>"
            ],
            "text/plain": [
              "      label                                               text\n",
              "0  positive  I’ve lost the last of my hope for “my turn”.\\n...\n",
              "1  positive  .\\nI feel like I don't have a heart anymore, o...\n",
              "2  positive  A stranger hugged me yesterday\\nI was crying y...\n",
              "3  negative  Top 15 Inspiring Friendship Quotes\\nA friend i...\n",
              "4  positive  Kill myself because I don't have a girlfriend\\...\n",
              "5  positive  I've fallen back into a depression and missed ...\n",
              "6  positive  Painfully lonely and spiraling into the worst ...\n",
              "7  positive  When did you decide to get help? What was the ...\n",
              "8  positive  3 in the night and I can't stop crying\\nPeople...\n",
              "9  negative  Is this my fault?\\nI've been on SSI ever since..."
            ]
          },
          "metadata": {
            "tags": []
          },
          "execution_count": 153
        }
      ]
    },
    {
      "cell_type": "code",
      "metadata": {
        "colab": {
          "base_uri": "https://localhost:8080/"
        },
        "id": "ptVBMFv0GzbH",
        "outputId": "c70218a7-4434-48a7-90c1-750ea5f5e166"
      },
      "source": [
        "reddit.shape[0]"
      ],
      "execution_count": 154,
      "outputs": [
        {
          "output_type": "execute_result",
          "data": {
            "text/plain": [
              "1841"
            ]
          },
          "metadata": {
            "tags": []
          },
          "execution_count": 154
        }
      ]
    },
    {
      "cell_type": "code",
      "metadata": {
        "id": "XTsQlG-VIDzA"
      },
      "source": [
        "reddit_train=reddit.iloc[:1500] #the first 1500 rows are train\n",
        "reddit_test=reddit.iloc[1500:] #the last 341 are test"
      ],
      "execution_count": 155,
      "outputs": []
    },
    {
      "cell_type": "code",
      "metadata": {
        "id": "IhfJp-DlF3me"
      },
      "source": [
        "reddit_train= pd.DataFrame(reddit_train, columns = ['text', 'label']) \n",
        "reddit_train.to_csv('reddit_train', index=False)\n",
        "\n",
        "reddit_test= pd.DataFrame(reddit_test, columns = ['text', 'label']) \n",
        "reddit_test.to_csv('reddit_test', index=False)\n"
      ],
      "execution_count": 156,
      "outputs": []
    },
    {
      "cell_type": "code",
      "metadata": {
        "id": "9D-kBblfMpaJ"
      },
      "source": [
        "train_data, test_data = data.TabularDataset.splits(\n",
        "    path='/content/',\n",
        "    train='reddit_train',\n",
        "    test='reddit_test',\n",
        "    format='csv',\n",
        "    fields=fields,\n",
        "    skip_header=True\n",
        ")"
      ],
      "execution_count": 157,
      "outputs": []
    },
    {
      "cell_type": "code",
      "metadata": {
        "id": "zZL8dfpiM3BT"
      },
      "source": [
        "TEXT.build_vocab(train_data, vectors=GloVe(name='6B', dim=300))\n"
      ],
      "execution_count": 158,
      "outputs": []
    },
    {
      "cell_type": "code",
      "metadata": {
        "id": "9lZC-QZ7M_cT"
      },
      "source": [
        "LABEL.build_vocab(train_data)"
      ],
      "execution_count": 159,
      "outputs": []
    },
    {
      "cell_type": "code",
      "metadata": {
        "id": "ki8z2qcbNFYq"
      },
      "source": [
        "word_embeddings = TEXT.vocab.vectors"
      ],
      "execution_count": 160,
      "outputs": []
    },
    {
      "cell_type": "code",
      "metadata": {
        "colab": {
          "base_uri": "https://localhost:8080/"
        },
        "id": "As1kS5WNNKtx",
        "outputId": "e05a4a76-5af1-4fc3-8aa4-e488ee524022"
      },
      "source": [
        "word_embeddings = TEXT.vocab.vectors\n",
        "print (\"Length of Text Vocabulary: \" + str(len(TEXT.vocab)))\n",
        "print (\"Vector size of Text Vocabulary: \", TEXT.vocab.vectors.size())\n",
        "print (\"Label Length: \" + str(len(LABEL.vocab)))"
      ],
      "execution_count": 161,
      "outputs": [
        {
          "output_type": "stream",
          "text": [
            "Length of Text Vocabulary: 21834\n",
            "Vector size of Text Vocabulary:  torch.Size([21834, 300])\n",
            "Label Length: 2\n"
          ],
          "name": "stdout"
        }
      ]
    },
    {
      "cell_type": "code",
      "metadata": {
        "id": "lLuL9fiONRE8"
      },
      "source": [
        "\n",
        "train_data, valid_data = train_data.split(split_ratio=0.6) # Further splitting of training_data to create new training_data & validation_data\n",
        "train_iter, valid_iter, test_iter = data.BucketIterator.splits((train_data, valid_data, test_data), batch_size=32, sort_key=lambda x: len(x.text), repeat=False, shuffle=True)\n",
        "\n",
        "vocab_size = len(TEXT.vocab)"
      ],
      "execution_count": 162,
      "outputs": []
    },
    {
      "cell_type": "code",
      "metadata": {
        "id": "zdXM9oiPNamr"
      },
      "source": [
        "learning_rate = 2e-5\n",
        "batch_size = 32\n",
        "output_size = 2\n",
        "hidden_size = 256\n",
        "embedding_length = 300\n",
        "\n",
        "#model = LSTMClassifier(batch_size, output_size, hidden_size, vocab_size, embedding_length, word_embeddings)\n",
        "#model = AttentionModel(batch_size, output_size, hidden_size, vocab_size, embedding_length, word_embeddings)\n",
        "model = RNN(batch_size, output_size, hidden_size, vocab_size, embedding_length, word_embeddings)\n",
        "\n",
        "\n",
        "loss_fn = F.cross_entropy"
      ],
      "execution_count": 163,
      "outputs": []
    },
    {
      "cell_type": "code",
      "metadata": {
        "colab": {
          "base_uri": "https://localhost:8080/"
        },
        "id": "1rlZMPjVfR2f",
        "outputId": "31186462-2d3e-482b-eaf8-630407c68cf4"
      },
      "source": [
        "train_loss_list = []\n",
        "train_accuracy_list = []\n",
        "validation_loss_list = []\n",
        "validation_accuracy_list=[]\n",
        "\n",
        "for fold, (train_index, test_index) in enumerate(cv.split(df)):\n",
        "  #print(fold)\n",
        "  train=df.iloc[train_index].to_csv(f'train{fold}', index=False)\n",
        "  valid=df.iloc[test_index].to_csv(f'valid{fold}', index=False)\n",
        "\n",
        "  train_data, test_data, valid_data = data.TabularDataset.splits(\n",
        "  path='/content/',\n",
        "  train=f'train{fold}',\n",
        "  test='test',\n",
        "  validation=f'valid{fold}',\n",
        "  format='csv',\n",
        "  fields=fields,\n",
        "  skip_header=True\n",
        ")\n",
        "  \n",
        "  #train_data, valid_data = train_data.split(split_ratio=0.6) # Further splitting of training_data to create new training_data & validation_data\n",
        "  train_iter, valid_iter, test_iter = data.BucketIterator.splits((train_data, valid_data, test_data), batch_size=32, sort_key=lambda x: len(x.text), repeat=False, shuffle=True)\n",
        "\n",
        "  print(f'Fold number: {fold}',\"\\n\")\n",
        "\n",
        "  \n",
        "  for epoch in range(30):\n",
        "\n",
        "    #Forward pass- Calculate loss- Perform GD- Take gradient step- Zero gradients\n",
        "    train_loss, train_acc = train_model(model, train_iter, epoch)\n",
        "    val_loss, val_acc = eval_model(model, valid_iter)\n",
        "\n",
        "  \n",
        "    if epoch %5 == 4: #print every 5 epochs\n",
        "\n",
        "    \n",
        "      print(f'Epoch: {epoch+1:02}, Train Loss: {train_loss:.3f}, Train Acc: {train_acc:.2f}%, Val. Loss: {val_loss:3f}, Val. Acc: {val_acc:.2f}%')\n",
        "\n",
        "  print(\"\\n\")\n",
        "  train_loss_list.append(train_loss)\n",
        "  train_accuracy_list.append(train_acc)\n",
        "  validation_loss_list.append(val_loss)\n",
        "  validation_accuracy_list.append(val_acc)\n",
        "\n",
        "print(\"Average train loss:\", np.average(train_loss_list))\n",
        "print(\"Average train accuracy:\", np.average(train_accuracy_list))\n",
        "print(\"Average Validation loss:\", np.average(validation_loss_list))\n",
        "print(\"Average Validation error:\", np.average(validation_accuracy_list))\n",
        "\n",
        "\n",
        "\n",
        "print(\"\\n\")\n",
        "test_loss, test_acc = eval_model(model, test_iter)\n",
        "print(f'Test Loss: {test_loss:.3f}, Test Acc: {test_acc:.2f}%')"
      ],
      "execution_count": 164,
      "outputs": [
        {
          "output_type": "stream",
          "text": [
            "Fold number: 0 \n",
            "\n",
            "Epoch: 05, Train Loss: 0.389, Train Acc: 79.09%, Val. Loss: 0.966876, Val. Acc: 53.12%\n",
            "Epoch: 10, Train Loss: 0.223, Train Acc: 88.25%, Val. Loss: 1.611473, Val. Acc: 49.84%\n",
            "Epoch: 15, Train Loss: 0.185, Train Acc: 89.76%, Val. Loss: 1.573199, Val. Acc: 50.99%\n",
            "Epoch: 20, Train Loss: 0.309, Train Acc: 83.08%, Val. Loss: 1.338726, Val. Acc: 48.52%\n",
            "Epoch: 25, Train Loss: 0.197, Train Acc: 89.33%, Val. Loss: 1.940569, Val. Acc: 47.20%\n",
            "Epoch: 30, Train Loss: 0.102, Train Acc: 93.43%, Val. Loss: 2.454969, Val. Acc: 46.71%\n",
            "\n",
            "\n",
            "Fold number: 1 \n",
            "\n",
            "Epoch: 05, Train Loss: 0.166, Train Acc: 89.55%, Val. Loss: 1.694124, Val. Acc: 49.51%\n",
            "Epoch: 10, Train Loss: 0.150, Train Acc: 90.62%, Val. Loss: 2.149475, Val. Acc: 49.18%\n",
            "Epoch: 15, Train Loss: 0.130, Train Acc: 92.13%, Val. Loss: 2.352751, Val. Acc: 46.88%\n",
            "Epoch: 20, Train Loss: 0.107, Train Acc: 92.89%, Val. Loss: 2.751747, Val. Acc: 48.03%\n",
            "Epoch: 25, Train Loss: 0.068, Train Acc: 93.97%, Val. Loss: 2.913142, Val. Acc: 47.53%\n",
            "Epoch: 30, Train Loss: 0.059, Train Acc: 93.97%, Val. Loss: 3.300742, Val. Acc: 47.04%\n",
            "\n",
            "\n",
            "Fold number: 2 \n",
            "\n",
            "Epoch: 05, Train Loss: 0.067, Train Acc: 93.97%, Val. Loss: 2.655644, Val. Acc: 50.66%\n",
            "Epoch: 10, Train Loss: 0.068, Train Acc: 94.50%, Val. Loss: 2.541430, Val. Acc: 49.84%\n",
            "Epoch: 15, Train Loss: 0.030, Train Acc: 95.26%, Val. Loss: 3.559962, Val. Acc: 47.04%\n",
            "Epoch: 20, Train Loss: 0.092, Train Acc: 92.89%, Val. Loss: 2.499252, Val. Acc: 49.34%\n",
            "Epoch: 25, Train Loss: 0.047, Train Acc: 95.04%, Val. Loss: 3.332192, Val. Acc: 48.68%\n",
            "Epoch: 30, Train Loss: 0.085, Train Acc: 93.32%, Val. Loss: 2.979794, Val. Acc: 49.67%\n",
            "\n",
            "\n",
            "Fold number: 3 \n",
            "\n",
            "Epoch: 05, Train Loss: 0.060, Train Acc: 94.50%, Val. Loss: 3.131439, Val. Acc: 47.53%\n",
            "Epoch: 10, Train Loss: 0.042, Train Acc: 95.04%, Val. Loss: 4.017451, Val. Acc: 46.88%\n",
            "Epoch: 15, Train Loss: 0.039, Train Acc: 95.58%, Val. Loss: 4.039009, Val. Acc: 47.86%\n",
            "Epoch: 20, Train Loss: 0.042, Train Acc: 95.69%, Val. Loss: 4.225173, Val. Acc: 47.04%\n",
            "Epoch: 25, Train Loss: 0.027, Train Acc: 95.58%, Val. Loss: 3.787746, Val. Acc: 48.68%\n",
            "Epoch: 30, Train Loss: 0.025, Train Acc: 95.26%, Val. Loss: 4.379617, Val. Acc: 47.70%\n",
            "\n",
            "\n",
            "Fold number: 4 \n",
            "\n",
            "Epoch: 05, Train Loss: 0.057, Train Acc: 94.83%, Val. Loss: 3.598275, Val. Acc: 51.32%\n",
            "Epoch: 10, Train Loss: 0.068, Train Acc: 93.97%, Val. Loss: 3.670475, Val. Acc: 48.03%\n",
            "Epoch: 15, Train Loss: 0.030, Train Acc: 95.80%, Val. Loss: 3.747012, Val. Acc: 50.49%\n",
            "Epoch: 20, Train Loss: 0.084, Train Acc: 94.61%, Val. Loss: 3.691501, Val. Acc: 49.01%\n",
            "Epoch: 25, Train Loss: 0.026, Train Acc: 95.69%, Val. Loss: 3.960172, Val. Acc: 49.34%\n",
            "Epoch: 30, Train Loss: 0.037, Train Acc: 96.01%, Val. Loss: 4.469717, Val. Acc: 50.99%\n",
            "\n",
            "\n",
            "Average train loss: 0.061472938789791376\n",
            "Average train accuracy: 94.39655172413794\n",
            "Average Validation loss: 3.5169679717013707\n",
            "Average Validation error: 48.421052631578945\n",
            "\n",
            "\n",
            "Test Loss: 0.243, Test Acc: 80.47%\n"
          ],
          "name": "stdout"
        }
      ]
    },
    {
      "cell_type": "code",
      "metadata": {
        "id": "hE3Z1thduAnw"
      },
      "source": [
        "for idx, batch in enumerate(test_iter): #for each batch in the test iterator\n",
        "  text = batch.text[0]\n",
        "  if (text.size()[0] is not 32):\n",
        "    continue\n",
        "\n",
        "  target = batch.label.long()\n",
        "            \n",
        "  if torch.cuda.is_available():\n",
        "    text = text.cuda()\n",
        "    target = target.cuda()\n",
        "  model.eval()\n",
        "  prediction = model(text)\n",
        "  loss = loss_fn(prediction, target)\n",
        "  y_pred=target.data\n",
        "  y_test=torch.max(prediction, 1)[1].view(target.size()).data\n",
        "  num_corrects = (torch.max(prediction, 1)[1].view(target.size()).data == target.data).sum()\n",
        "  "
      ],
      "execution_count": 165,
      "outputs": []
    },
    {
      "cell_type": "code",
      "metadata": {
        "colab": {
          "base_uri": "https://localhost:8080/"
        },
        "id": "HupHsUK5uuH_",
        "outputId": "103f2306-80cd-4323-edf0-47811dbccc0e"
      },
      "source": [
        "print(metrics.classification_report(y_pred.cpu().detach().numpy(), y_test.cpu().detach().numpy()))"
      ],
      "execution_count": 166,
      "outputs": [
        {
          "output_type": "stream",
          "text": [
            "              precision    recall  f1-score   support\n",
            "\n",
            "           0       0.92      0.92      0.92        12\n",
            "           1       0.95      0.95      0.95        20\n",
            "\n",
            "    accuracy                           0.94        32\n",
            "   macro avg       0.93      0.93      0.93        32\n",
            "weighted avg       0.94      0.94      0.94        32\n",
            "\n"
          ],
          "name": "stdout"
        }
      ]
    },
    {
      "cell_type": "markdown",
      "metadata": {
        "id": "wgbMqg-wT38M"
      },
      "source": [
        "##Testig with Mixed Dataset"
      ]
    },
    {
      "cell_type": "code",
      "metadata": {
        "colab": {
          "base_uri": "https://localhost:8080/",
          "height": 108
        },
        "id": "n-qiS_7DE_ON",
        "outputId": "73b2e6a6-d828-442b-a034-a17a2e35eeed"
      },
      "source": [
        "Mixed= pd.read_csv(Path('/content/drive/My Drive/DSP/data/bachelor/Mixed.csv'))\n",
        "Mixed.head(2)"
      ],
      "execution_count": 167,
      "outputs": [
        {
          "output_type": "execute_result",
          "data": {
            "text/html": [
              "<div>\n",
              "<style scoped>\n",
              "    .dataframe tbody tr th:only-of-type {\n",
              "        vertical-align: middle;\n",
              "    }\n",
              "\n",
              "    .dataframe tbody tr th {\n",
              "        vertical-align: top;\n",
              "    }\n",
              "\n",
              "    .dataframe thead th {\n",
              "        text-align: right;\n",
              "    }\n",
              "</style>\n",
              "<table border=\"1\" class=\"dataframe\">\n",
              "  <thead>\n",
              "    <tr style=\"text-align: right;\">\n",
              "      <th></th>\n",
              "      <th>label</th>\n",
              "      <th>text</th>\n",
              "    </tr>\n",
              "  </thead>\n",
              "  <tbody>\n",
              "    <tr>\n",
              "      <th>0</th>\n",
              "      <td>negative</td>\n",
              "      <td>My male cousin stopped talking to me all of su...</td>\n",
              "    </tr>\n",
              "    <tr>\n",
              "      <th>1</th>\n",
              "      <td>negative</td>\n",
              "      <td>Drifting away from my best friend\\nMy best fri...</td>\n",
              "    </tr>\n",
              "  </tbody>\n",
              "</table>\n",
              "</div>"
            ],
            "text/plain": [
              "      label                                               text\n",
              "0  negative  My male cousin stopped talking to me all of su...\n",
              "1  negative  Drifting away from my best friend\\nMy best fri..."
            ]
          },
          "metadata": {
            "tags": []
          },
          "execution_count": 167
        }
      ]
    },
    {
      "cell_type": "code",
      "metadata": {
        "colab": {
          "base_uri": "https://localhost:8080/"
        },
        "id": "C2iG3vbWFBZs",
        "outputId": "568cc50a-de66-42d2-cb7f-b00bd1c8efa4"
      },
      "source": [
        "Mixed.shape[0]"
      ],
      "execution_count": 168,
      "outputs": [
        {
          "output_type": "execute_result",
          "data": {
            "text/plain": [
              "2810"
            ]
          },
          "metadata": {
            "tags": []
          },
          "execution_count": 168
        }
      ]
    },
    {
      "cell_type": "code",
      "metadata": {
        "colab": {
          "base_uri": "https://localhost:8080/"
        },
        "id": "P6cmLXYGFEY-",
        "outputId": "c54ad36e-85e5-4258-edde-77a5904fd006"
      },
      "source": [
        "# Shuffle the reddit data set and split to train and test. Train will be later devided to train and validation. \n",
        "Mixed = Mixed.sample(frac=1).reset_index(drop=True)\n",
        "Mixed.shape[0]\n"
      ],
      "execution_count": 169,
      "outputs": [
        {
          "output_type": "execute_result",
          "data": {
            "text/plain": [
              "2810"
            ]
          },
          "metadata": {
            "tags": []
          },
          "execution_count": 169
        }
      ]
    },
    {
      "cell_type": "code",
      "metadata": {
        "id": "rXHncMjAH2Z0"
      },
      "source": [
        "Mixed_train=Mixed.iloc[:2500] #the first 2500 rows are train\n",
        "Mixed_test=Mixed.iloc[2500:] #the last 310 are test"
      ],
      "execution_count": 170,
      "outputs": []
    },
    {
      "cell_type": "code",
      "metadata": {
        "colab": {
          "base_uri": "https://localhost:8080/"
        },
        "id": "ryZOYo1jL91a",
        "outputId": "fad21a09-544e-44ad-f85f-61f68af6ec7f"
      },
      "source": [
        "Mixed_test.shape[0]"
      ],
      "execution_count": 171,
      "outputs": [
        {
          "output_type": "execute_result",
          "data": {
            "text/plain": [
              "310"
            ]
          },
          "metadata": {
            "tags": []
          },
          "execution_count": 171
        }
      ]
    },
    {
      "cell_type": "code",
      "metadata": {
        "id": "z6Fvok9aMaVN"
      },
      "source": [
        "Mixed_train= pd.DataFrame(Mixed_train, columns = ['text', 'label']) \n",
        "Mixed_train.to_csv('Mixed_train', index=False)\n",
        "\n",
        "Mixed_test= pd.DataFrame(Mixed_test, columns = ['text', 'label']) \n",
        "Mixed_test.to_csv('Mixed_test', index=False)\n"
      ],
      "execution_count": 172,
      "outputs": []
    },
    {
      "cell_type": "code",
      "metadata": {
        "id": "K_w7T92UMg0H"
      },
      "source": [
        "train_data, test_data = data.TabularDataset.splits(\n",
        "    path='/content/',\n",
        "    train='Mixed_train',\n",
        "    test='Mixed_test',\n",
        "    format='csv',\n",
        "    fields=fields,\n",
        "    skip_header=True\n",
        ")"
      ],
      "execution_count": 173,
      "outputs": []
    },
    {
      "cell_type": "code",
      "metadata": {
        "id": "qwYxVqRGM50S"
      },
      "source": [
        "TEXT.build_vocab(train_data, vectors=GloVe(name='6B', dim=300))\n"
      ],
      "execution_count": 174,
      "outputs": []
    },
    {
      "cell_type": "code",
      "metadata": {
        "id": "o5rirFoTNAfe"
      },
      "source": [
        "LABEL.build_vocab(train_data)"
      ],
      "execution_count": 175,
      "outputs": []
    },
    {
      "cell_type": "code",
      "metadata": {
        "id": "s3CAJvPpNEUF"
      },
      "source": [
        "word_embeddings = TEXT.vocab.vectors"
      ],
      "execution_count": 176,
      "outputs": []
    },
    {
      "cell_type": "code",
      "metadata": {
        "colab": {
          "base_uri": "https://localhost:8080/"
        },
        "id": "cb8tt0PaNIyv",
        "outputId": "b0fc14a0-3c01-41b4-a1ce-91c1688cea2c"
      },
      "source": [
        "word_embeddings = TEXT.vocab.vectors\n",
        "print (\"Length of Text Vocabulary: \" + str(len(TEXT.vocab)))\n",
        "print (\"Vector size of Text Vocabulary: \", TEXT.vocab.vectors.size())\n",
        "print (\"Label Length: \" + str(len(LABEL.vocab)))"
      ],
      "execution_count": 177,
      "outputs": [
        {
          "output_type": "stream",
          "text": [
            "Length of Text Vocabulary: 35732\n",
            "Vector size of Text Vocabulary:  torch.Size([35732, 300])\n",
            "Label Length: 2\n"
          ],
          "name": "stdout"
        }
      ]
    },
    {
      "cell_type": "code",
      "metadata": {
        "id": "hRJDpG_dNPyx"
      },
      "source": [
        "\n",
        "train_data, valid_data = train_data.split(split_ratio=0.6) # Further splitting of training_data to create new training_data & validation_data\n",
        "train_iter, valid_iter, test_iter = data.BucketIterator.splits((train_data, valid_data, test_data), batch_size=32, sort_key=lambda x: len(x.text), repeat=False, shuffle=True)\n",
        "\n",
        "vocab_size = len(TEXT.vocab)"
      ],
      "execution_count": 178,
      "outputs": []
    },
    {
      "cell_type": "code",
      "metadata": {
        "id": "HSNIVtHINZb1"
      },
      "source": [
        "learning_rate = 2e-5\n",
        "batch_size = 32\n",
        "output_size = 2\n",
        "hidden_size = 256\n",
        "embedding_length = 300\n",
        "\n",
        "#model = LSTMClassifier(batch_size, output_size, hidden_size, vocab_size, embedding_length, word_embeddings)\n",
        "#model = AttentionModel(batch_size, output_size, hidden_size, vocab_size, embedding_length, word_embeddings)\n",
        "model = RNN(batch_size, output_size, hidden_size, vocab_size, embedding_length, word_embeddings)\n",
        "\n",
        "\n",
        "loss_fn = F.cross_entropy"
      ],
      "execution_count": 179,
      "outputs": []
    },
    {
      "cell_type": "code",
      "metadata": {
        "colab": {
          "base_uri": "https://localhost:8080/"
        },
        "id": "Cv7YTULtfTO8",
        "outputId": "2e4f4018-d06f-496d-f998-30637d4f6ee3"
      },
      "source": [
        "train_loss_list = []\n",
        "train_accuracy_list = []\n",
        "validation_loss_list = []\n",
        "validation_accuracy_list=[]\n",
        "\n",
        "for fold, (train_index, test_index) in enumerate(cv.split(df)):\n",
        "  #print(fold)\n",
        "  train=df.iloc[train_index].to_csv(f'train{fold}', index=False)\n",
        "  valid=df.iloc[test_index].to_csv(f'valid{fold}', index=False)\n",
        "\n",
        "  train_data, test_data, valid_data = data.TabularDataset.splits(\n",
        "  path='/content/',\n",
        "  train=f'train{fold}',\n",
        "  test='test',\n",
        "  validation=f'valid{fold}',\n",
        "  format='csv',\n",
        "  fields=fields,\n",
        "  skip_header=True\n",
        ")\n",
        "  \n",
        "  #train_data, valid_data = train_data.split(split_ratio=0.6) # Further splitting of training_data to create new training_data & validation_data\n",
        "  train_iter, valid_iter, test_iter = data.BucketIterator.splits((train_data, valid_data, test_data), batch_size=32, sort_key=lambda x: len(x.text), repeat=False, shuffle=True)\n",
        "\n",
        "  print(f'Fold number: {fold}',\"\\n\")\n",
        "\n",
        "  \n",
        "  for epoch in range(30):\n",
        "\n",
        "    #Forward pass- Calculate loss- Perform GD- Take gradient step- Zero gradients\n",
        "    train_loss, train_acc = train_model(model, train_iter, epoch)\n",
        "    val_loss, val_acc = eval_model(model, valid_iter)\n",
        "\n",
        "  \n",
        "    if epoch %5 == 4: #print every 5 epochs\n",
        "\n",
        "    \n",
        "      print(f'Epoch: {epoch+1:02}, Train Loss: {train_loss:.3f}, Train Acc: {train_acc:.2f}%, Val. Loss: {val_loss:3f}, Val. Acc: {val_acc:.2f}%')\n",
        "\n",
        "  print(\"\\n\")\n",
        "  train_loss_list.append(train_loss)\n",
        "  train_accuracy_list.append(train_acc)\n",
        "  validation_loss_list.append(val_loss)\n",
        "  validation_accuracy_list.append(val_acc)\n",
        "\n",
        "print(\"Average train loss:\", np.average(train_loss_list))\n",
        "print(\"Average train accuracy:\", np.average(train_accuracy_list))\n",
        "print(\"Average Validation loss:\", np.average(validation_loss_list))\n",
        "print(\"Average Validation error:\", np.average(validation_accuracy_list))\n",
        "\n",
        "\n",
        "\n",
        "print(\"\\n\")\n",
        "test_loss, test_acc = eval_model(model, test_iter)\n",
        "print(f'Test Loss: {test_loss:.3f}, Test Acc: {test_acc:.2f}%')"
      ],
      "execution_count": 180,
      "outputs": [
        {
          "output_type": "stream",
          "text": [
            "Fold number: 0 \n",
            "\n",
            "Epoch: 05, Train Loss: 0.431, Train Acc: 75.97%, Val. Loss: 0.924748, Val. Acc: 48.03%\n",
            "Epoch: 10, Train Loss: 0.309, Train Acc: 83.94%, Val. Loss: 1.206941, Val. Acc: 49.67%\n",
            "Epoch: 15, Train Loss: 0.275, Train Acc: 84.81%, Val. Loss: 1.354936, Val. Acc: 48.03%\n",
            "Epoch: 20, Train Loss: 0.156, Train Acc: 91.06%, Val. Loss: 1.830730, Val. Acc: 47.70%\n",
            "Epoch: 25, Train Loss: 0.104, Train Acc: 92.03%, Val. Loss: 2.348845, Val. Acc: 49.34%\n",
            "Epoch: 30, Train Loss: 0.096, Train Acc: 93.43%, Val. Loss: 2.099979, Val. Acc: 48.19%\n",
            "\n",
            "\n",
            "Fold number: 1 \n",
            "\n",
            "Epoch: 05, Train Loss: 0.196, Train Acc: 88.90%, Val. Loss: 1.835594, Val. Acc: 48.85%\n",
            "Epoch: 10, Train Loss: 0.130, Train Acc: 91.27%, Val. Loss: 2.398595, Val. Acc: 48.52%\n",
            "Epoch: 15, Train Loss: 0.087, Train Acc: 93.64%, Val. Loss: 2.531699, Val. Acc: 48.03%\n",
            "Epoch: 20, Train Loss: 0.074, Train Acc: 93.64%, Val. Loss: 3.273916, Val. Acc: 48.19%\n",
            "Epoch: 25, Train Loss: 0.057, Train Acc: 94.40%, Val. Loss: 3.421183, Val. Acc: 46.88%\n",
            "Epoch: 30, Train Loss: 0.053, Train Acc: 94.29%, Val. Loss: 3.384997, Val. Acc: 49.18%\n",
            "\n",
            "\n",
            "Fold number: 2 \n",
            "\n",
            "Epoch: 05, Train Loss: 0.103, Train Acc: 93.21%, Val. Loss: 2.564084, Val. Acc: 49.84%\n",
            "Epoch: 10, Train Loss: 0.092, Train Acc: 93.21%, Val. Loss: 2.652662, Val. Acc: 50.66%\n",
            "Epoch: 15, Train Loss: 0.061, Train Acc: 94.07%, Val. Loss: 3.388198, Val. Acc: 47.86%\n",
            "Epoch: 20, Train Loss: 0.051, Train Acc: 95.26%, Val. Loss: 3.361057, Val. Acc: 50.33%\n",
            "Epoch: 25, Train Loss: 0.090, Train Acc: 93.64%, Val. Loss: 3.298584, Val. Acc: 47.37%\n",
            "Epoch: 30, Train Loss: 0.088, Train Acc: 93.43%, Val. Loss: 3.753551, Val. Acc: 49.84%\n",
            "\n",
            "\n",
            "Fold number: 3 \n",
            "\n",
            "Epoch: 05, Train Loss: 0.041, Train Acc: 95.15%, Val. Loss: 3.563012, Val. Acc: 45.56%\n",
            "Epoch: 10, Train Loss: 0.067, Train Acc: 94.18%, Val. Loss: 3.346423, Val. Acc: 47.53%\n",
            "Epoch: 15, Train Loss: 0.061, Train Acc: 94.18%, Val. Loss: 3.984625, Val. Acc: 46.38%\n",
            "Epoch: 20, Train Loss: 0.098, Train Acc: 93.86%, Val. Loss: 3.744378, Val. Acc: 47.53%\n",
            "Epoch: 25, Train Loss: 0.036, Train Acc: 95.15%, Val. Loss: 4.148697, Val. Acc: 48.52%\n",
            "Epoch: 30, Train Loss: 0.039, Train Acc: 95.26%, Val. Loss: 4.435086, Val. Acc: 48.19%\n",
            "\n",
            "\n",
            "Fold number: 4 \n",
            "\n",
            "Epoch: 05, Train Loss: 0.063, Train Acc: 94.40%, Val. Loss: 3.987587, Val. Acc: 49.18%\n",
            "Epoch: 10, Train Loss: 0.038, Train Acc: 95.37%, Val. Loss: 3.877470, Val. Acc: 48.68%\n",
            "Epoch: 15, Train Loss: 0.036, Train Acc: 95.58%, Val. Loss: 4.299273, Val. Acc: 48.36%\n",
            "Epoch: 20, Train Loss: 0.039, Train Acc: 95.47%, Val. Loss: 4.859829, Val. Acc: 47.37%\n",
            "Epoch: 25, Train Loss: 0.049, Train Acc: 95.69%, Val. Loss: 4.935836, Val. Acc: 49.51%\n",
            "Epoch: 30, Train Loss: 0.012, Train Acc: 96.44%, Val. Loss: 5.205301, Val. Acc: 47.70%\n",
            "\n",
            "\n",
            "Average train loss: 0.057655454560931664\n",
            "Average train accuracy: 94.56896551724138\n",
            "Average Validation loss: 3.7757826805114747\n",
            "Average Validation error: 48.61842105263158\n",
            "\n",
            "\n",
            "Test Loss: 0.288, Test Acc: 82.03%\n"
          ],
          "name": "stdout"
        }
      ]
    },
    {
      "cell_type": "code",
      "metadata": {
        "id": "JSAJ4uy3uCYi"
      },
      "source": [
        "for idx, batch in enumerate(test_iter): #for each batch in the test iterator\n",
        "  text = batch.text[0]\n",
        "  if (text.size()[0] is not 32):\n",
        "    continue\n",
        "\n",
        "  target = batch.label.long()\n",
        "            \n",
        "  if torch.cuda.is_available():\n",
        "    text = text.cuda()\n",
        "    target = target.cuda()\n",
        "  model.eval()\n",
        "  prediction = model(text)\n",
        "  loss = loss_fn(prediction, target)\n",
        "  y_pred=target.data\n",
        "  y_test=torch.max(prediction, 1)[1].view(target.size()).data\n",
        "  num_corrects = (torch.max(prediction, 1)[1].view(target.size()).data == target.data).sum()\n",
        "  "
      ],
      "execution_count": 181,
      "outputs": []
    },
    {
      "cell_type": "code",
      "metadata": {
        "colab": {
          "base_uri": "https://localhost:8080/"
        },
        "id": "FYrCU6dRuvPz",
        "outputId": "c7809ca2-ffbb-47a3-dea6-50f04c72272b"
      },
      "source": [
        "print(metrics.classification_report(y_pred.cpu().detach().numpy(), y_test.cpu().detach().numpy()))"
      ],
      "execution_count": 182,
      "outputs": [
        {
          "output_type": "stream",
          "text": [
            "              precision    recall  f1-score   support\n",
            "\n",
            "           0       1.00      0.90      0.95        20\n",
            "           1       0.86      1.00      0.92        12\n",
            "\n",
            "    accuracy                           0.94        32\n",
            "   macro avg       0.93      0.95      0.94        32\n",
            "weighted avg       0.95      0.94      0.94        32\n",
            "\n"
          ],
          "name": "stdout"
        }
      ]
    }
  ]
}