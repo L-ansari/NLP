{
  "nbformat": 4,
  "nbformat_minor": 0,
  "metadata": {
    "colab": {
      "name": "attentionLstmUpdated.ipynb",
      "provenance": [],
      "collapsed_sections": [],
      "authorship_tag": "ABX9TyN6swbKSNgYXKmNhNiS3kFr",
      "include_colab_link": true
    },
    "kernelspec": {
      "name": "python3",
      "display_name": "Python 3"
    },
    "accelerator": "GPU"
  },
  "cells": [
    {
      "cell_type": "markdown",
      "metadata": {
        "id": "view-in-github",
        "colab_type": "text"
      },
      "source": [
        "<a href=\"https://colab.research.google.com/github/L-ansari/NLP/blob/master/attentionLstmUpdated.ipynb\" target=\"_parent\"><img src=\"https://colab.research.google.com/assets/colab-badge.svg\" alt=\"Open In Colab\"/></a>"
      ]
    },
    {
      "cell_type": "code",
      "metadata": {
        "id": "g12P-pkTWFeM"
      },
      "source": [
        "import torch"
      ],
      "execution_count": null,
      "outputs": []
    },
    {
      "cell_type": "code",
      "metadata": {
        "id": "12dzI494VlHX",
        "colab": {
          "base_uri": "https://localhost:8080/"
        },
        "outputId": "be8cca1a-a7ec-48cf-a982-d6aa50e6f3f6"
      },
      "source": [
        "print(torch.__version__)\n"
      ],
      "execution_count": null,
      "outputs": [
        {
          "output_type": "stream",
          "text": [
            "1.7.0+cu101\n"
          ],
          "name": "stdout"
        }
      ]
    },
    {
      "cell_type": "code",
      "metadata": {
        "id": "VLwHhinMWevG"
      },
      "source": [
        "import pandas as pd\n",
        "from pathlib import Path"
      ],
      "execution_count": null,
      "outputs": []
    },
    {
      "cell_type": "code",
      "metadata": {
        "colab": {
          "base_uri": "https://localhost:8080/"
        },
        "id": "FcsiNSv5WheF",
        "outputId": "3c0c1e97-618d-438f-8e40-a2e8be9591cd"
      },
      "source": [
        "from google.colab import drive\n",
        "drive.mount(\"/content/drive\", force_remount=True)"
      ],
      "execution_count": null,
      "outputs": [
        {
          "output_type": "stream",
          "text": [
            "Mounted at /content/drive\n"
          ],
          "name": "stdout"
        }
      ]
    },
    {
      "cell_type": "code",
      "metadata": {
        "id": "VfcJ7R7eWju2"
      },
      "source": [
        "df_train = pd.read_csv(Path('/content/drive/My Drive/DSP/data/bachelor/train.csv'))\n"
      ],
      "execution_count": null,
      "outputs": []
    },
    {
      "cell_type": "code",
      "metadata": {
        "colab": {
          "base_uri": "https://localhost:8080/",
          "height": 198
        },
        "id": "sGDxKUHCWlz9",
        "outputId": "784243d8-b2fe-4eca-e64c-3b19a69f5537"
      },
      "source": [
        "df_train.head()"
      ],
      "execution_count": null,
      "outputs": [
        {
          "output_type": "execute_result",
          "data": {
            "text/html": [
              "<div>\n",
              "<style scoped>\n",
              "    .dataframe tbody tr th:only-of-type {\n",
              "        vertical-align: middle;\n",
              "    }\n",
              "\n",
              "    .dataframe tbody tr th {\n",
              "        vertical-align: top;\n",
              "    }\n",
              "\n",
              "    .dataframe thead th {\n",
              "        text-align: right;\n",
              "    }\n",
              "</style>\n",
              "<table border=\"1\" class=\"dataframe\">\n",
              "  <thead>\n",
              "    <tr style=\"text-align: right;\">\n",
              "      <th></th>\n",
              "      <th>label</th>\n",
              "      <th>text</th>\n",
              "    </tr>\n",
              "  </thead>\n",
              "  <tbody>\n",
              "    <tr>\n",
              "      <th>0</th>\n",
              "      <td>depression_ctrl</td>\n",
              "      <td>Game over RT : Life is so unpredictable. Be gr...</td>\n",
              "    </tr>\n",
              "    <tr>\n",
              "      <th>1</th>\n",
              "      <td>depression</td>\n",
              "      <td>Happy ! Guys: please check your balls monthly ...</td>\n",
              "    </tr>\n",
              "    <tr>\n",
              "      <th>2</th>\n",
              "      <td>ptsd_ctrl</td>\n",
              "      <td>You gotta enjoy the view RT : i want a boyfrie...</td>\n",
              "    </tr>\n",
              "    <tr>\n",
              "      <th>3</th>\n",
              "      <td>ptsd_ctrl</td>\n",
              "      <td>I love that I'm so chill about everything RT :...</td>\n",
              "    </tr>\n",
              "    <tr>\n",
              "      <th>4</th>\n",
              "      <td>depression_ctrl</td>\n",
              "      <td>Photo: lkfrannyfrano: hotshxxt: migzfromatx: s...</td>\n",
              "    </tr>\n",
              "  </tbody>\n",
              "</table>\n",
              "</div>"
            ],
            "text/plain": [
              "             label                                               text\n",
              "0  depression_ctrl  Game over RT : Life is so unpredictable. Be gr...\n",
              "1       depression  Happy ! Guys: please check your balls monthly ...\n",
              "2        ptsd_ctrl  You gotta enjoy the view RT : i want a boyfrie...\n",
              "3        ptsd_ctrl  I love that I'm so chill about everything RT :...\n",
              "4  depression_ctrl  Photo: lkfrannyfrano: hotshxxt: migzfromatx: s..."
            ]
          },
          "metadata": {
            "tags": []
          },
          "execution_count": 286
        }
      ]
    },
    {
      "cell_type": "code",
      "metadata": {
        "colab": {
          "base_uri": "https://localhost:8080/"
        },
        "id": "EOe9GPBpWobn",
        "outputId": "6c86fa0a-b12e-49d7-ba49-da49bb916358"
      },
      "source": [
        "print(df_train['label'][1])"
      ],
      "execution_count": null,
      "outputs": [
        {
          "output_type": "stream",
          "text": [
            "depression\n"
          ],
          "name": "stdout"
        }
      ]
    },
    {
      "cell_type": "code",
      "metadata": {
        "colab": {
          "base_uri": "https://localhost:8080/",
          "height": 198
        },
        "id": "x1XwPys-WrBX",
        "outputId": "07745aaa-e6d7-4f5b-f2f3-b7b1d1bf9866"
      },
      "source": [
        "for i in range (0, (df_train.shape[0])):\n",
        "    if (df_train['label'][i]=='depression' or  df_train['label'][i]=='depression_ctrl') :\n",
        "        \n",
        "        df_train['label'][i]= 'positive' \n",
        "    else:\n",
        "        #False\n",
        "        df_train['label'][i]= 'negative' \n",
        "    \n",
        "df_train.head()\n"
      ],
      "execution_count": null,
      "outputs": [
        {
          "output_type": "execute_result",
          "data": {
            "text/html": [
              "<div>\n",
              "<style scoped>\n",
              "    .dataframe tbody tr th:only-of-type {\n",
              "        vertical-align: middle;\n",
              "    }\n",
              "\n",
              "    .dataframe tbody tr th {\n",
              "        vertical-align: top;\n",
              "    }\n",
              "\n",
              "    .dataframe thead th {\n",
              "        text-align: right;\n",
              "    }\n",
              "</style>\n",
              "<table border=\"1\" class=\"dataframe\">\n",
              "  <thead>\n",
              "    <tr style=\"text-align: right;\">\n",
              "      <th></th>\n",
              "      <th>label</th>\n",
              "      <th>text</th>\n",
              "    </tr>\n",
              "  </thead>\n",
              "  <tbody>\n",
              "    <tr>\n",
              "      <th>0</th>\n",
              "      <td>positive</td>\n",
              "      <td>Game over RT : Life is so unpredictable. Be gr...</td>\n",
              "    </tr>\n",
              "    <tr>\n",
              "      <th>1</th>\n",
              "      <td>positive</td>\n",
              "      <td>Happy ! Guys: please check your balls monthly ...</td>\n",
              "    </tr>\n",
              "    <tr>\n",
              "      <th>2</th>\n",
              "      <td>negative</td>\n",
              "      <td>You gotta enjoy the view RT : i want a boyfrie...</td>\n",
              "    </tr>\n",
              "    <tr>\n",
              "      <th>3</th>\n",
              "      <td>negative</td>\n",
              "      <td>I love that I'm so chill about everything RT :...</td>\n",
              "    </tr>\n",
              "    <tr>\n",
              "      <th>4</th>\n",
              "      <td>positive</td>\n",
              "      <td>Photo: lkfrannyfrano: hotshxxt: migzfromatx: s...</td>\n",
              "    </tr>\n",
              "  </tbody>\n",
              "</table>\n",
              "</div>"
            ],
            "text/plain": [
              "      label                                               text\n",
              "0  positive  Game over RT : Life is so unpredictable. Be gr...\n",
              "1  positive  Happy ! Guys: please check your balls monthly ...\n",
              "2  negative  You gotta enjoy the view RT : i want a boyfrie...\n",
              "3  negative  I love that I'm so chill about everything RT :...\n",
              "4  positive  Photo: lkfrannyfrano: hotshxxt: migzfromatx: s..."
            ]
          },
          "metadata": {
            "tags": []
          },
          "execution_count": 288
        }
      ]
    },
    {
      "cell_type": "code",
      "metadata": {
        "id": "-QuPElwgWtO6"
      },
      "source": [
        "df_test = pd.read_csv(Path('/content/drive/My Drive/DSP/data/bachelor/test.csv'))\n"
      ],
      "execution_count": null,
      "outputs": []
    },
    {
      "cell_type": "code",
      "metadata": {
        "colab": {
          "base_uri": "https://localhost:8080/",
          "height": 198
        },
        "id": "E4ecjt74WvWg",
        "outputId": "24be8c65-ba4f-4883-b262-fd463c954c4e"
      },
      "source": [
        "for i in range (0, (df_test.shape[0])):\n",
        "    if (df_test['label'][i]=='depression' or  df_test['label'][i]=='depression_ctrl') :\n",
        "        \n",
        "        df_test['label'][i]= 'positive' \n",
        "    else:\n",
        "        #False\n",
        "        df_test['label'][i]= 'negative' \n",
        "    \n",
        "df_test.head()\n"
      ],
      "execution_count": null,
      "outputs": [
        {
          "output_type": "execute_result",
          "data": {
            "text/html": [
              "<div>\n",
              "<style scoped>\n",
              "    .dataframe tbody tr th:only-of-type {\n",
              "        vertical-align: middle;\n",
              "    }\n",
              "\n",
              "    .dataframe tbody tr th {\n",
              "        vertical-align: top;\n",
              "    }\n",
              "\n",
              "    .dataframe thead th {\n",
              "        text-align: right;\n",
              "    }\n",
              "</style>\n",
              "<table border=\"1\" class=\"dataframe\">\n",
              "  <thead>\n",
              "    <tr style=\"text-align: right;\">\n",
              "      <th></th>\n",
              "      <th>label</th>\n",
              "      <th>text</th>\n",
              "    </tr>\n",
              "  </thead>\n",
              "  <tbody>\n",
              "    <tr>\n",
              "      <th>0</th>\n",
              "      <td>negative</td>\n",
              "      <td>: the is happening... the balance of life...te...</td>\n",
              "    </tr>\n",
              "    <tr>\n",
              "      <th>1</th>\n",
              "      <td>positive</td>\n",
              "      <td>: Going with . Look for my lipstick in early t...</td>\n",
              "    </tr>\n",
              "    <tr>\n",
              "      <th>2</th>\n",
              "      <td>negative</td>\n",
              "      <td>Fox News: Second wave of health plan cancellat...</td>\n",
              "    </tr>\n",
              "    <tr>\n",
              "      <th>3</th>\n",
              "      <td>negative</td>\n",
              "      <td>no. The needles are just different for shading...</td>\n",
              "    </tr>\n",
              "    <tr>\n",
              "      <th>4</th>\n",
              "      <td>negative</td>\n",
              "      <td>On holiday... : Where's your favorite place to...</td>\n",
              "    </tr>\n",
              "  </tbody>\n",
              "</table>\n",
              "</div>"
            ],
            "text/plain": [
              "      label                                               text\n",
              "0  negative  : the is happening... the balance of life...te...\n",
              "1  positive  : Going with . Look for my lipstick in early t...\n",
              "2  negative  Fox News: Second wave of health plan cancellat...\n",
              "3  negative  no. The needles are just different for shading...\n",
              "4  negative  On holiday... : Where's your favorite place to..."
            ]
          },
          "metadata": {
            "tags": []
          },
          "execution_count": 290
        }
      ]
    },
    {
      "cell_type": "code",
      "metadata": {
        "id": "OkaMfuT9WxvZ"
      },
      "source": [
        "#export train only needed columns\n",
        "df = pd.DataFrame(df_train, columns = ['text', 'label']) \n",
        "df.to_csv('train', index=False)\n"
      ],
      "execution_count": null,
      "outputs": []
    },
    {
      "cell_type": "code",
      "metadata": {
        "id": "buV5aXjDWz2K"
      },
      "source": [
        "#export test only needed columns\n",
        "dff = pd.DataFrame(df_test, columns = ['text', 'label']) \n",
        "dff.to_csv('test', index=False)\n"
      ],
      "execution_count": null,
      "outputs": []
    },
    {
      "cell_type": "code",
      "metadata": {
        "id": "DNDGIbZ0W2D7"
      },
      "source": [
        "import torch\n",
        "import torchtext\n",
        "from torchtext import data\n",
        "from torchtext.vocab import Vectors, GloVe\n",
        "import torch.utils.data as data_utils\n",
        "from torch.utils.data import TensorDataset, DataLoader"
      ],
      "execution_count": null,
      "outputs": []
    },
    {
      "cell_type": "code",
      "metadata": {
        "id": "Vb0xDe-AW4J_"
      },
      "source": [
        "tokenize = lambda x: x.split()\n",
        "TEXT = data.Field(sequential=True, tokenize=tokenize, lower=True, include_lengths=True, batch_first=True, fix_length=200)\n",
        "LABEL = data.LabelField(sequential=False)\n"
      ],
      "execution_count": null,
      "outputs": []
    },
    {
      "cell_type": "code",
      "metadata": {
        "id": "cDFVbslCXObU"
      },
      "source": [
        "fields = [('text', TEXT), ('label', LABEL)]"
      ],
      "execution_count": null,
      "outputs": []
    },
    {
      "cell_type": "code",
      "metadata": {
        "colab": {
          "base_uri": "https://localhost:8080/"
        },
        "id": "0V3Qx8Q5YKTK",
        "outputId": "79e88d9f-da90-4624-b88c-41506de63b6b"
      },
      "source": [
        "import sys\n",
        "import csv\n",
        "\n",
        "csv.field_size_limit(sys.maxsize)"
      ],
      "execution_count": null,
      "outputs": [
        {
          "output_type": "execute_result",
          "data": {
            "text/plain": [
              "9223372036854775807"
            ]
          },
          "metadata": {
            "tags": []
          },
          "execution_count": 296
        }
      ]
    },
    {
      "cell_type": "code",
      "metadata": {
        "id": "udBzRKErYMs1"
      },
      "source": [
        "train_data, test_data = data.TabularDataset.splits(\n",
        "    path='/content/',\n",
        "    train='train',\n",
        "    test='test',\n",
        "    format='csv',\n",
        "    fields=fields,\n",
        "    skip_header=True\n",
        ")"
      ],
      "execution_count": null,
      "outputs": []
    },
    {
      "cell_type": "code",
      "metadata": {
        "colab": {
          "base_uri": "https://localhost:8080/"
        },
        "id": "-kGWfnmPwoIU",
        "outputId": "4f8ab5e9-3035-404f-9f8d-0d89a3c1a69e"
      },
      "source": [
        "print(train_data.shape)"
      ],
      "execution_count": null,
      "outputs": [
        {
          "output_type": "stream",
          "text": [
            "<generator object Dataset.__getattr__ at 0x7f95f231bfc0>\n"
          ],
          "name": "stdout"
        }
      ]
    },
    {
      "cell_type": "code",
      "metadata": {
        "id": "teoJg-uZYPMq"
      },
      "source": [
        "TEXT.build_vocab(train_data, vectors=GloVe(name='6B', dim=300))\n"
      ],
      "execution_count": null,
      "outputs": []
    },
    {
      "cell_type": "code",
      "metadata": {
        "id": "P3XA4rwyYRS4"
      },
      "source": [
        "LABEL.build_vocab(train_data)"
      ],
      "execution_count": null,
      "outputs": []
    },
    {
      "cell_type": "code",
      "metadata": {
        "id": "1nDZigCGYUWv"
      },
      "source": [
        "word_embeddings = TEXT.vocab.vectors"
      ],
      "execution_count": null,
      "outputs": []
    },
    {
      "cell_type": "code",
      "metadata": {
        "colab": {
          "base_uri": "https://localhost:8080/"
        },
        "id": "-Dh1GqbwYXSF",
        "outputId": "2d8a4fc4-5f5a-4d90-87ed-452acea0961a"
      },
      "source": [
        "word_embeddings = TEXT.vocab.vectors\n",
        "print (\"Length of Text Vocabulary: \" + str(len(TEXT.vocab)))\n",
        "print (\"Vector size of Text Vocabulary: \", TEXT.vocab.vectors.size())\n",
        "print (\"Label Length: \" + str(len(LABEL.vocab)))"
      ],
      "execution_count": null,
      "outputs": [
        {
          "output_type": "stream",
          "text": [
            "Length of Text Vocabulary: 157915\n",
            "Vector size of Text Vocabulary:  torch.Size([157915, 300])\n",
            "Label Length: 2\n"
          ],
          "name": "stdout"
        }
      ]
    },
    {
      "cell_type": "code",
      "metadata": {
        "id": "TS0vxTPXYZ6q"
      },
      "source": [
        "\n",
        "train_data, valid_data = train_data.split(split_ratio=0.6) # Further splitting of training_data to create new training_data & validation_data\n",
        "train_iter, valid_iter, test_iter = data.BucketIterator.splits((train_data, valid_data, test_data), batch_size=32, sort_key=lambda x: len(x.text), repeat=False, shuffle=True)\n",
        "\n",
        "vocab_size = len(TEXT.vocab)"
      ],
      "execution_count": null,
      "outputs": []
    },
    {
      "cell_type": "code",
      "metadata": {
        "colab": {
          "base_uri": "https://localhost:8080/"
        },
        "id": "DmmHDmX0aHu7",
        "outputId": "83783078-5e37-4b32-f158-a97b27804011"
      },
      "source": [
        "print(torchtext.__version__)"
      ],
      "execution_count": null,
      "outputs": [
        {
          "output_type": "stream",
          "text": [
            "0.3.1\n"
          ],
          "name": "stdout"
        }
      ]
    },
    {
      "cell_type": "code",
      "metadata": {
        "colab": {
          "base_uri": "https://localhost:8080/",
          "height": 53
        },
        "id": "oi-qUUj8YmiI",
        "outputId": "13512e3d-0e63-4ea3-8946-7e52d201ad25"
      },
      "source": [
        "\"\"\"import os\n",
        "import time\n",
        "import torch\n",
        "import torch.nn.functional as F\n",
        "from torch.autograd import Variable\n",
        "import torch.optim as optim\n",
        "import numpy as np\n",
        "\"\"\""
      ],
      "execution_count": null,
      "outputs": [
        {
          "output_type": "execute_result",
          "data": {
            "application/vnd.google.colaboratory.intrinsic+json": {
              "type": "string"
            },
            "text/plain": [
              "'import os\\nimport time\\nimport torch\\nimport torch.nn.functional as F\\nfrom torch.autograd import Variable\\nimport torch.optim as optim\\nimport numpy as np\\n'"
            ]
          },
          "metadata": {
            "tags": []
          },
          "execution_count": 305
        }
      ]
    },
    {
      "cell_type": "code",
      "metadata": {
        "id": "Xn8UWsYVY61H"
      },
      "source": [
        "def clip_gradient(model, clip_value):\n",
        "    params = list(filter(lambda p: p.grad is not None, model.parameters()))\n",
        "    for p in params:\n",
        "        p.grad.data.clamp_(-clip_value, clip_value)\n",
        "    \n",
        "def train_model(model, train_iter, epoch):\n",
        "    #Remove any epoch loss or accuracy from the previous run\n",
        "    total_epoch_loss = 0\n",
        "    total_epoch_acc = 0\n",
        "    model.cuda()     \n",
        "    optim = torch.optim.Adam(filter(lambda p: p.requires_grad, model.parameters()))\n",
        "    steps = 0\n",
        "    model.train()        #Set the model to training mode\n",
        "    for idx, batch in enumerate(train_iter): #for each bacth in the iterator\n",
        "        text = batch.text[0]\n",
        "        target = batch.label.long()\n",
        "        #target.requires_grad=True\n",
        "        if torch.cuda.is_available():\n",
        "            text = text.cuda()\n",
        "            target = target.cuda()\n",
        "        if (text.size()[0] is not 32):# One of the batch returned by BucketIterator has length different than 32.\n",
        "            continue\n",
        "        optim.zero_grad()         #1. Clean the old gradients\n",
        "        prediction = model(text)  #2. Forward pass\n",
        "        loss = loss_fn(prediction, target)    #3. Calculate the loss\n",
        "        num_corrects = (torch.max(prediction, 1)[1].view(target.size()).data == target.data).float().sum()\n",
        "        acc = 100.0 * num_corrects/len(batch)\n",
        "        loss.backward()         #4. Perform gradient decent differentiation backwards \n",
        "        clip_gradient(model, 1e-1)\n",
        "        optim.step()         # 5. Gradient step: updates the weights for the model\n",
        "        steps += 1 \n",
        "        \n",
        "        if steps % 100 == 0:\n",
        "            print (f'Epoch: {epoch+1}, Idx: {idx+1}, Training Loss: {loss.item():.4f}, Training Accuracy: {acc.item(): .2f}%')\n",
        "        \n",
        "        total_epoch_loss += loss.item()  # Aggregate the epoch loss and accuracy within a given bacth\n",
        "        total_epoch_acc += acc.item()  #The item method returns a scaler\n",
        "        \n",
        "    return total_epoch_loss/len(train_iter), total_epoch_acc/len(train_iter) #return average epoch loss & accuracy\n"
      ],
      "execution_count": null,
      "outputs": []
    },
    {
      "cell_type": "code",
      "metadata": {
        "id": "5mJ3uFRkZHA1"
      },
      "source": [
        "def eval_model(model, val_iter):\n",
        "    #Remove any epoch loss or accuracy from the previous run\n",
        "    total_epoch_loss = 0\n",
        "    total_epoch_acc = 0\n",
        "    model.eval()               #Set the model to evaluation mode-->disables batch normalization & dropouts\n",
        "    with torch.no_grad():       #   We don't update the weights & gradients are not reqiured-->prevent gradient calculations\n",
        "        for idx, batch in enumerate(val_iter): #for each batch in the iterator\n",
        "            text = batch.text[0]\n",
        "            if (text.size()[0] is not 32):\n",
        "                continue\n",
        "            target = batch.label.long()\n",
        "            #target = torch.autograd.target.long()\n",
        "            #target.requires_grad = True\n",
        "            if torch.cuda.is_available():\n",
        "                text = text.cuda()\n",
        "                target = target.cuda()\n",
        "            prediction = model(text)\n",
        "            loss = loss_fn(prediction, target)\n",
        "            #From all the prediction how many were right\n",
        "            num_corrects = (torch.max(prediction, 1)[1].view(target.size()).data == target.data).sum()\n",
        "            acc = 100.0 * num_corrects/len(batch)\n",
        "            total_epoch_loss += loss.item() # Aggregate the epoch loss and accuracy within a given bacth\n",
        "            total_epoch_acc += acc.item()  #The item method returns a scaler\n",
        "\n",
        "    return total_epoch_loss/len(val_iter), total_epoch_acc/len(val_iter) #return average epoch loss & accuracy"
      ],
      "execution_count": null,
      "outputs": []
    },
    {
      "cell_type": "code",
      "metadata": {
        "id": "m7CwUhuMpOMB"
      },
      "source": [
        "class LSTMClassifier(nn.Module):\n",
        "\tdef __init__(self, batch_size, output_size, hidden_size, vocab_size, embedding_length, weights):\n",
        "\t\tsuper(LSTMClassifier, self).__init__()\n",
        "\t\t\n",
        "\t\t\"\"\"\n",
        "\t\tArguments\n",
        "\t\t---------\n",
        "\t\tbatch_size : Size of the batch which is same as the batch_size of the data returned by the TorchText BucketIterator\n",
        "\t\toutput_size : 2 = (pos, neg)\n",
        "\t\thidden_sie : Size of the hidden_state of the LSTM\n",
        "\t\tvocab_size : Size of the vocabulary containing unique words\n",
        "\t\tembedding_length : Embeddding dimension of GloVe word embeddings\n",
        "\t\tweights : Pre-trained GloVe word_embeddings which we will use to create our word_embedding look-up table \n",
        "\t\t\n",
        "\t\t\"\"\"\n",
        "\t\t\n",
        "\t\tself.batch_size = batch_size\n",
        "\t\tself.output_size = output_size\n",
        "\t\tself.hidden_size = hidden_size\n",
        "\t\tself.vocab_size = vocab_size\n",
        "\t\tself.embedding_length = embedding_length\n",
        "\t\t\n",
        "\t\tself.word_embeddings = nn.Embedding(vocab_size, embedding_length)# Initializing the look-up table.\n",
        "\t\tself.word_embeddings.weight = nn.Parameter(weights, requires_grad=False) # Assigning the look-up table to the pre-trained GloVe word embedding.\n",
        "\t\tself.lstm = nn.LSTM(embedding_length, hidden_size)\n",
        "\t\tself.label = nn.Linear(hidden_size, output_size)\n",
        "\t\t\n",
        "\tdef forward(self, input_sentence, batch_size=None):\n",
        "\t\n",
        "\t\t\"\"\" \n",
        "\t\tParameters\n",
        "\t\t----------\n",
        "\t\tinput_sentence: input_sentence of shape = (batch_size, num_sequences)\n",
        "\t\tbatch_size : default = None. Used only for prediction on a single sentence after training (batch_size = 1)\n",
        "\t\t\n",
        "\t\tReturns\n",
        "\t\t-------\n",
        "\t\tOutput of the linear layer containing logits for positive & negative class which receives its input as the final_hidden_state of the LSTM\n",
        "\t\tfinal_output.shape = (batch_size, output_size)\n",
        "\t\t\n",
        "\t\t\"\"\"\n",
        "\t\t\n",
        "\t\t''' Here we will map all the indexes present in the input sequence to the corresponding word vector using our pre-trained word_embedddins.'''\n",
        "\t\tinput = self.word_embeddings(input_sentence) # embedded input of shape = (batch_size, num_sequences,  embedding_length)\n",
        "\t\tinput = input.permute(1, 0, 2) # input.size() = (num_sequences, batch_size, embedding_length)\n",
        "\t\tif batch_size is None:\n",
        "\t\t\th_0 = torch.zeros(1, self.batch_size, self.hidden_size).cuda() # Initial hidden state of the LSTM\n",
        "\t\t\tc_0 = torch.zeros(1, self.batch_size, self.hidden_size).cuda() # Initial cell state of the LSTM\n",
        "\t\telse:\n",
        "\t\t\th_0 = torch.zeros(1, batch_size, self.hidden_size).cuda()\n",
        "\t\t\tc_0 = torch.zeros(1, batch_size, self.hidden_size).cuda()\n",
        "   \n",
        "\t\toutput, (final_hidden_state, final_cell_state) = self.lstm(input, (h_0, c_0))\n",
        "\t\tfinal_output = self.label(final_hidden_state[-1]) # final_hidden_state.size() = (1, batch_size, hidden_size) & final_output.size() = (batch_size, output_size)\n",
        "\t\t\n",
        "\t\treturn final_output\n"
      ],
      "execution_count": null,
      "outputs": []
    },
    {
      "cell_type": "code",
      "metadata": {
        "id": "UniVZgGRZLYm"
      },
      "source": [
        "import torch\n",
        "import torch.nn as nn\n",
        "#from torch.autograd import Variable\n",
        "from torch.nn import functional as F\n",
        "import numpy as np\n",
        "\n",
        "class AttentionModel(torch.nn.Module):\n",
        "\tdef __init__(self, batch_size, output_size, hidden_size, vocab_size, embedding_length, weights):\n",
        "\t\tsuper(AttentionModel, self).__init__()\n",
        "\t\t\n",
        "\t\t\"\"\"\n",
        "\t\tArguments\n",
        "\t\t---------\n",
        "\t\tbatch_size : Size of the batch which is same as the batch_size of the data returned by the TorchText BucketIterator\n",
        "\t\toutput_size : 2 = (pos, neg)\n",
        "\t\thidden_sie : Size of the hidden_state of the LSTM\n",
        "\t\tvocab_size : Size of the vocabulary containing unique words\n",
        "\t\tembedding_length : Embeddding dimension of GloVe word embeddings\n",
        "\t\tweights : Pre-trained GloVe word_embeddings which we will use to create our word_embedding look-up table \n",
        "\t\t\n",
        "\t\t--------\n",
        "\t\t\n",
        "\t\t\"\"\"\n",
        "\t\t\n",
        "\t\tself.batch_size = batch_size\n",
        "\t\tself.output_size = output_size\n",
        "\t\tself.hidden_size = hidden_size\n",
        "\t\tself.vocab_size = vocab_size\n",
        "\t\tself.embedding_length = embedding_length\n",
        "\n",
        "\t\t#Layers within model:  Embedding - LSTM  - Linear (Fully connected).\n",
        "\t\tself.word_embeddings = nn.Embedding(vocab_size, embedding_length)\n",
        "\t\tself.word_embeddings.weights = nn.Parameter(weights, requires_grad=False)\n",
        "\t\tself.lstm = nn.LSTM(embedding_length, hidden_size)\n",
        "\t\tself.label = nn.Linear(hidden_size, output_size)\n",
        "\t\t#self.attn_fc_layer = nn.Linear()\n",
        "\t\t\n",
        "\tdef attention_net(self, lstm_output, final_state):\n",
        "\n",
        "\t\t\"\"\" \n",
        "\t\tAttention is used to compute soft alignment score corresponding\n",
        "\t\tbetween each of the hidden_state and the last hidden_state of the LSTM. \n",
        "\t\t\n",
        "\t\tArguments\n",
        "\t\t---------\n",
        "\t\t\n",
        "\t\tlstm_output : Final output of the LSTM which contains hidden layer outputs for each sequence.\n",
        "\t\tfinal_state : Final time-step hidden state (h_n) of the LSTM\n",
        "\t\t\n",
        "\t\t---------\n",
        "\t\t\n",
        "\t\tReturns : It performs attention mechanism by first computing weights for each of the sequence present in lstm_output and and then finally computing the\n",
        "\t\t\t\t  new hidden state.\n",
        "\t\t\t\t  \n",
        "\t\tTensor Size :\n",
        "\t\t\t\t\thidden.size() = (batch_size, hidden_size)\n",
        "\t\t\t\t\tattn_weights.size() = (batch_size, num_seq)\n",
        "\t\t\t\t\tsoft_attn_weights.size() = (batch_size, num_seq)\n",
        "\t\t\t\t\tnew_hidden_state.size() = (batch_size, hidden_size)\n",
        "\t\t\t\t\t  \n",
        "\t\t\"\"\"\n",
        "\t\t\n",
        "\t\thidden = final_state.squeeze(0)\n",
        "\t\tattn_weights = torch.bmm(lstm_output, hidden.unsqueeze(2)).squeeze(2)\n",
        "\t\tsoft_attn_weights = F.softmax(attn_weights, 1)\n",
        "\t\tnew_hidden_state = torch.bmm(lstm_output.transpose(1, 2), soft_attn_weights.unsqueeze(2)).squeeze(2)\n",
        "\t\t\n",
        "\t\treturn new_hidden_state\n",
        "\t\n",
        "\tdef forward(self, input_sentences, batch_size=None):\n",
        "\t\n",
        "\t\t\"\"\" \n",
        "\t\tParameters\n",
        "\t\t----------\n",
        "\t\tinput_sentence: input_sentence of shape = (batch_size, num_sequences)\n",
        "\t\tbatch_size : default = None. Used only for prediction on a single sentence after training (batch_size = 1)\n",
        "\t\t\n",
        "\t\tReturns\n",
        "\t\t-------\n",
        "\t\tOutput of the linear layer containing logits for pos & neg class which receives its input as the new_hidden_state which is basically the output of the Attention network.\n",
        "\t\tfinal_output.shape = (batch_size, output_size)\n",
        "\t\t\n",
        "\t\t\"\"\"\n",
        "\t\t#First: Embedding\n",
        "\t\tinput = self.word_embeddings(input_sentences)\n",
        "\t\tinput = input.permute(1, 0, 2)\n",
        "\t\tif batch_size is None:\n",
        "\t\t\th_0 = torch.zeros(1, self.batch_size, self.hidden_size).cuda()\n",
        "\t\t\tc_0 = torch.zeros(1, self.batch_size, self.hidden_size).cuda()\n",
        "\t\telse:\n",
        "\t\t\th_0 = torch.zeros(1, batch_size, self.hidden_size).cuda()\n",
        "\t\t\tc_0 = torch.zeros(1, batch_size, self.hidden_size).cuda()\n",
        "\t\t\n",
        "    #Second: LSTM - response consists of output state and a tupple of (hidden state, cell state)\n",
        "\t\toutput, (final_hidden_state, final_cell_state) = self.lstm(input, (h_0, c_0)) # final_hidden_state.size() = (1, batch_size, hidden_size) \n",
        "\t\toutput = output.permute(1, 0, 2) # output.size() = (batch_size, num_seq, hidden_size)\n",
        "\t\t#Third: Attention\n",
        "\t\tattn_output = self.attention_net(output, final_hidden_state)\n",
        "    #Fourth linear fully connected\n",
        "\t\tlogits = self.label(attn_output)\n",
        "\t\t\n",
        "\t\treturn logits"
      ],
      "execution_count": null,
      "outputs": []
    },
    {
      "cell_type": "code",
      "metadata": {
        "id": "042_yUJiZO-J"
      },
      "source": [
        "learning_rate = 2e-5\n",
        "batch_size = 32\n",
        "output_size = 2\n",
        "hidden_size = 256\n",
        "embedding_length = 300\n",
        "\n",
        "#model = LSTMClassifier(batch_size, output_size, hidden_size, vocab_size, embedding_length, word_embeddings)\n",
        "model = AttentionModel(batch_size, output_size, hidden_size, vocab_size, embedding_length, word_embeddings)\n",
        "\n",
        "\n",
        "loss_fn = F.cross_entropy"
      ],
      "execution_count": null,
      "outputs": []
    },
    {
      "cell_type": "code",
      "metadata": {
        "id": "LpFQXEqrZRWl"
      },
      "source": [
        "CUDA_LAUNCH_BLOCKING=1"
      ],
      "execution_count": null,
      "outputs": []
    },
    {
      "cell_type": "code",
      "metadata": {
        "colab": {
          "base_uri": "https://localhost:8080/"
        },
        "id": "2BevgfjbZT62",
        "outputId": "4c951679-1a93-4d25-c2d5-528f280d9174"
      },
      "source": [
        "for epoch in range(20):\n",
        "\n",
        "    #Forward pass- Calculate loss- Perform GD- Take gradient step- Zero gradients\n",
        "    train_loss, train_acc = train_model(model, train_iter, epoch)\n",
        "    val_loss, val_acc = eval_model(model, valid_iter)\n",
        "    \n",
        "    print(f'Epoch: {epoch+1:02}, Train Loss: {train_loss:.3f}, Train Acc: {train_acc:.2f}%, Val. Loss: {val_loss:3f}, Val. Acc: {val_acc:.2f}%')\n",
        "    \n",
        "test_loss, test_acc = eval_model(model, test_iter)\n",
        "print(f'Test Loss: {test_loss:.3f}, Test Acc: {test_acc:.2f}%')\n",
        "\n",
        "''' Let us now predict the sentiment on a single sentence just for the testing purpose. '''\n",
        "test_sen1 = \"Life is good.\"\n",
        "test_sen2 = \"The end is close.\"\n",
        "\n",
        "test_sen1 = TEXT.preprocess(test_sen1)\n",
        "test_sen1 = [[TEXT.vocab.stoi[x] for x in test_sen1]]\n",
        "\n",
        "test_sen2 = TEXT.preprocess(test_sen2)\n",
        "test_sen2 = [[TEXT.vocab.stoi[x] for x in test_sen2]]\n",
        "\n",
        "test_sen = np.asarray(test_sen1)\n",
        "test_sen = torch.LongTensor(test_sen)\n",
        "test_tensor = test_sen\n",
        "test_tensor = test_tensor.cuda()\n",
        "model.eval()\n",
        "\n",
        "\n",
        "output = model(test_tensor, 1)\n",
        "#Feed the output to softmax to get the prediction\n",
        "out = F.softmax(output, 1)\n",
        "\n",
        "if (torch.argmax(out[0]) == 1): \n",
        "    print (\"Sentiment: Positive\")\n",
        "else:\n",
        "    print (\"Sentiment: Negative\")\n"
      ],
      "execution_count": null,
      "outputs": [
        {
          "output_type": "stream",
          "text": [
            "Epoch: 01, Train Loss: 0.349, Train Acc: 25.00%, Val. Loss: 0.335421, Val. Acc: 32.81%\n",
            "Epoch: 02, Train Loss: 0.328, Train Acc: 35.94%, Val. Loss: 0.340152, Val. Acc: 31.25%\n",
            "Epoch: 03, Train Loss: 0.301, Train Acc: 42.19%, Val. Loss: 0.330744, Val. Acc: 35.94%\n",
            "Epoch: 04, Train Loss: 0.280, Train Acc: 46.88%, Val. Loss: 0.322149, Val. Acc: 34.38%\n",
            "Epoch: 05, Train Loss: 0.265, Train Acc: 42.19%, Val. Loss: 0.324759, Val. Acc: 34.38%\n",
            "Epoch: 06, Train Loss: 0.237, Train Acc: 40.62%, Val. Loss: 0.334818, Val. Acc: 29.69%\n",
            "Epoch: 07, Train Loss: 0.216, Train Acc: 45.31%, Val. Loss: 0.333135, Val. Acc: 32.81%\n",
            "Epoch: 08, Train Loss: 0.172, Train Acc: 48.44%, Val. Loss: 0.348581, Val. Acc: 29.69%\n",
            "Epoch: 09, Train Loss: 0.123, Train Acc: 50.00%, Val. Loss: 0.381075, Val. Acc: 26.56%\n",
            "Epoch: 10, Train Loss: 0.100, Train Acc: 48.44%, Val. Loss: 0.439142, Val. Acc: 28.12%\n",
            "Epoch: 11, Train Loss: 0.075, Train Acc: 50.00%, Val. Loss: 0.479116, Val. Acc: 26.56%\n",
            "Epoch: 12, Train Loss: 0.057, Train Acc: 50.00%, Val. Loss: 0.584174, Val. Acc: 28.12%\n",
            "Epoch: 13, Train Loss: 0.023, Train Acc: 50.00%, Val. Loss: 0.746741, Val. Acc: 31.25%\n",
            "Epoch: 14, Train Loss: 0.022, Train Acc: 50.00%, Val. Loss: 0.688692, Val. Acc: 28.12%\n",
            "Epoch: 15, Train Loss: 0.016, Train Acc: 50.00%, Val. Loss: 0.738599, Val. Acc: 25.00%\n",
            "Epoch: 16, Train Loss: 0.015, Train Acc: 50.00%, Val. Loss: 0.743188, Val. Acc: 29.69%\n",
            "Epoch: 17, Train Loss: 0.005, Train Acc: 50.00%, Val. Loss: 1.131610, Val. Acc: 25.00%\n",
            "Epoch: 18, Train Loss: 0.005, Train Acc: 50.00%, Val. Loss: 0.871858, Val. Acc: 28.12%\n",
            "Epoch: 19, Train Loss: 0.003, Train Acc: 50.00%, Val. Loss: 1.388228, Val. Acc: 26.56%\n",
            "Epoch: 20, Train Loss: 0.001, Train Acc: 50.00%, Val. Loss: 1.610081, Val. Acc: 23.44%\n",
            "Test Loss: 2.071, Test Acc: 38.28%\n",
            "Sentiment: Positive\n"
          ],
          "name": "stdout"
        }
      ]
    }
  ]
}