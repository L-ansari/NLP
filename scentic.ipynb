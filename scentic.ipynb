{
  "nbformat": 4,
  "nbformat_minor": 0,
  "metadata": {
    "accelerator": "GPU",
    "colab": {
      "name": "scentic.ipynb",
      "provenance": [],
      "collapsed_sections": [],
      "machine_shape": "hm",
      "authorship_tag": "ABX9TyNaN5JU+x0xfWCGawa0Nz52",
      "include_colab_link": true
    },
    "kernelspec": {
      "display_name": "Python 3",
      "name": "python3"
    }
  },
  "cells": [
    {
      "cell_type": "markdown",
      "metadata": {
        "id": "view-in-github",
        "colab_type": "text"
      },
      "source": [
        "<a href=\"https://colab.research.google.com/github/L-ansari/Natural-Language-Processing-tasks/blob/master/scentic.ipynb\" target=\"_parent\"><img src=\"https://colab.research.google.com/assets/colab-badge.svg\" alt=\"Open In Colab\"/></a>"
      ]
    },
    {
      "cell_type": "code",
      "metadata": {
        "colab": {
          "base_uri": "https://localhost:8080/"
        },
        "id": "5N0GY0_PntmQ",
        "outputId": "5a589fff-f462-475e-a980-75d06a9fbb46"
      },
      "source": [
        "!pip install senticnet\n"
      ],
      "execution_count": 221,
      "outputs": [
        {
          "output_type": "stream",
          "text": [
            "Requirement already satisfied: senticnet in /usr/local/lib/python3.7/dist-packages (1.6)\n"
          ],
          "name": "stdout"
        }
      ]
    },
    {
      "cell_type": "code",
      "metadata": {
        "id": "62U6jGEgAjiK"
      },
      "source": [
        "import numpy as np\r\n",
        "import pandas as pd\r\n",
        "import seaborn as sns\r\n",
        "from pathlib import Path\r\n",
        "import matplotlib.pyplot as plt\r\n",
        "\r\n",
        "import torch\r\n",
        "import torch.nn as nn\r\n",
        "import torch.optim as optim\r\n",
        "from torch.utils.data import Dataset, DataLoader\r\n",
        "\r\n",
        "from sklearn.preprocessing import StandardScaler    \r\n",
        "from sklearn.model_selection import train_test_split\r\n",
        "from sklearn.metrics import confusion_matrix, classification_report"
      ],
      "execution_count": 222,
      "outputs": []
    },
    {
      "cell_type": "code",
      "metadata": {
        "colab": {
          "base_uri": "https://localhost:8080/"
        },
        "id": "-8XQcKRBAnOu",
        "outputId": "4afa64a9-6516-432d-a367-cb756f603f12"
      },
      "source": [
        "from google.colab import drive\r\n",
        "drive.mount(\"/content/drive\", force_remount=True)"
      ],
      "execution_count": 223,
      "outputs": [
        {
          "output_type": "stream",
          "text": [
            "Mounted at /content/drive\n"
          ],
          "name": "stdout"
        }
      ]
    },
    {
      "cell_type": "code",
      "metadata": {
        "id": "Q4pj57gBArXW"
      },
      "source": [
        "df_train= pd.read_csv(Path('/content/drive/My Drive/DSP/data/bachelor/CLPsych_train.csv'))"
      ],
      "execution_count": 224,
      "outputs": []
    },
    {
      "cell_type": "code",
      "metadata": {
        "colab": {
          "base_uri": "https://localhost:8080/",
          "height": 198
        },
        "id": "uAXoftZiAuoI",
        "outputId": "a028a928-5a08-483a-f797-e6652d88a2c7"
      },
      "source": [
        "df_train.head()"
      ],
      "execution_count": 225,
      "outputs": [
        {
          "output_type": "execute_result",
          "data": {
            "text/html": [
              "<div>\n",
              "<style scoped>\n",
              "    .dataframe tbody tr th:only-of-type {\n",
              "        vertical-align: middle;\n",
              "    }\n",
              "\n",
              "    .dataframe tbody tr th {\n",
              "        vertical-align: top;\n",
              "    }\n",
              "\n",
              "    .dataframe thead th {\n",
              "        text-align: right;\n",
              "    }\n",
              "</style>\n",
              "<table border=\"1\" class=\"dataframe\">\n",
              "  <thead>\n",
              "    <tr style=\"text-align: right;\">\n",
              "      <th></th>\n",
              "      <th>label</th>\n",
              "      <th>text</th>\n",
              "    </tr>\n",
              "  </thead>\n",
              "  <tbody>\n",
              "    <tr>\n",
              "      <th>0</th>\n",
              "      <td>depression_ctrl</td>\n",
              "      <td>Game over RT : Life is so unpredictable. Be gr...</td>\n",
              "    </tr>\n",
              "    <tr>\n",
              "      <th>1</th>\n",
              "      <td>depression</td>\n",
              "      <td>Happy ! Guys: please check your balls monthly ...</td>\n",
              "    </tr>\n",
              "    <tr>\n",
              "      <th>2</th>\n",
              "      <td>ptsd_ctrl</td>\n",
              "      <td>You gotta enjoy the view RT : i want a boyfrie...</td>\n",
              "    </tr>\n",
              "    <tr>\n",
              "      <th>3</th>\n",
              "      <td>ptsd_ctrl</td>\n",
              "      <td>I love that I'm so chill about everything RT :...</td>\n",
              "    </tr>\n",
              "    <tr>\n",
              "      <th>4</th>\n",
              "      <td>depression_ctrl</td>\n",
              "      <td>Photo: lkfrannyfrano: hotshxxt: migzfromatx: s...</td>\n",
              "    </tr>\n",
              "  </tbody>\n",
              "</table>\n",
              "</div>"
            ],
            "text/plain": [
              "             label                                               text\n",
              "0  depression_ctrl  Game over RT : Life is so unpredictable. Be gr...\n",
              "1       depression  Happy ! Guys: please check your balls monthly ...\n",
              "2        ptsd_ctrl  You gotta enjoy the view RT : i want a boyfrie...\n",
              "3        ptsd_ctrl  I love that I'm so chill about everything RT :...\n",
              "4  depression_ctrl  Photo: lkfrannyfrano: hotshxxt: migzfromatx: s..."
            ]
          },
          "metadata": {
            "tags": []
          },
          "execution_count": 225
        }
      ]
    },
    {
      "cell_type": "code",
      "metadata": {
        "id": "IQz7roeEnmI5"
      },
      "source": [
        "from senticnet.senticnet import SenticNet\n"
      ],
      "execution_count": 226,
      "outputs": []
    },
    {
      "cell_type": "code",
      "metadata": {
        "id": "C2SH1euPxgxY"
      },
      "source": [
        "sn = SenticNet()\n",
        "concept_info = sn.concept('love')\n",
        "polarity_label = sn.polarity_label('love')\n",
        "polarity_value = sn.polarity_value('love')\n",
        "moodtags = sn.moodtags('love')\n",
        "semantics = sn.semantics('love')\n",
        "sentics = sn.sentics('love')"
      ],
      "execution_count": 227,
      "outputs": []
    },
    {
      "cell_type": "code",
      "metadata": {
        "colab": {
          "base_uri": "https://localhost:8080/"
        },
        "id": "Co70y8vSxhRt",
        "outputId": "db59568d-f804-4f94-da21-234d500b7f9c"
      },
      "source": [
        "print(concept_info )\n",
        "print(polarity_label )\n",
        "print(polarity_value )\n",
        "print(moodtags )\n",
        "print(semantics )\n",
        "print(sentics )"
      ],
      "execution_count": 228,
      "outputs": [
        {
          "output_type": "stream",
          "text": [
            "{'polarity_label': 'positive', 'polarity_value': '0.83', 'sentics': {'introspection': '0.897', 'temper': '0', 'attitude': '0', 'sensitivity': '0.762'}, 'moodtags': ['#joy', '#eagerness'], 'semantics': ['desire_succeed', 'excitement', 'lust', 'passion', 'sexuality']}\n",
            "positive\n",
            "0.83\n",
            "['#joy', '#eagerness']\n",
            "['desire_succeed', 'excitement', 'lust', 'passion', 'sexuality']\n",
            "{'introspection': '0.897', 'temper': '0', 'attitude': '0', 'sensitivity': '0.762'}\n"
          ],
          "name": "stdout"
        }
      ]
    },
    {
      "cell_type": "code",
      "metadata": {
        "colab": {
          "base_uri": "https://localhost:8080/"
        },
        "id": "4r_aEL7MqnO4",
        "outputId": "570f9518-0c6c-40b7-cd82-dc2a102eafcc"
      },
      "source": [
        "print(type(float(polarity_value)))"
      ],
      "execution_count": 229,
      "outputs": [
        {
          "output_type": "stream",
          "text": [
            "<class 'float'>\n"
          ],
          "name": "stdout"
        }
      ]
    },
    {
      "cell_type": "code",
      "metadata": {
        "colab": {
          "base_uri": "https://localhost:8080/",
          "height": 35
        },
        "id": "-72QcrEqvIdO",
        "outputId": "f8c8ad7d-4673-4002-a890-8fee721bf0a7"
      },
      "source": [
        "sentics['introspection']\r\n"
      ],
      "execution_count": 230,
      "outputs": [
        {
          "output_type": "execute_result",
          "data": {
            "application/vnd.google.colaboratory.intrinsic+json": {
              "type": "string"
            },
            "text/plain": [
              "'0.897'"
            ]
          },
          "metadata": {
            "tags": []
          },
          "execution_count": 230
        }
      ]
    },
    {
      "cell_type": "code",
      "metadata": {
        "id": "74x1N_c6sekr"
      },
      "source": [
        "def get_feature(message):\r\n",
        "  \"\"\"This function gives out a dataframe of extracted features\"\"\"\r\n",
        "  sn = SenticNet()\r\n",
        "\r\n",
        "  polarity_value=0\r\n",
        "  polarity_label=0\r\n",
        "  introspection=0\r\n",
        "  sensitivity=0\r\n",
        "  temper=0\r\n",
        "  attitude=0\r\n",
        "\r\n",
        "  for word in (message):\r\n",
        "    try:\r\n",
        "      concept = sn.concept(word)\r\n",
        "      pol_value = float(concept['polarity_value'])\r\n",
        "      pol_label=concept['polarity_label']\r\n",
        "      intros=float(concept['sentics']['introspection'])\r\n",
        "      sensit=float(concept['sentics']['sensitivity'])\r\n",
        "      temp=float(concept['sentics']['temper'])\r\n",
        "      attit=float(concept['sentics']['attitude'])\r\n",
        "\r\n",
        "      if  concept['polarity_label']=='positive':\r\n",
        "        pol_label =1\r\n",
        "      else:\r\n",
        "        pol_label=0\r\n",
        "\r\n",
        "\r\n",
        "\r\n",
        "      polarity_value += pol_value\r\n",
        "      polarity_label +=pol_label\r\n",
        "      introspection +=intros\r\n",
        "      sensitivity +=sensit\r\n",
        "      temper +=temp\r\n",
        "      attitude +=attit\r\n",
        "\r\n",
        "    except KeyError:\r\n",
        "        pass\r\n",
        " \r\n",
        "    \r\n",
        "  return polarity_value , polarity_label, introspection, sensitivity, temper, attitude\r\n"
      ],
      "execution_count": 231,
      "outputs": []
    },
    {
      "cell_type": "code",
      "metadata": {
        "colab": {
          "base_uri": "https://localhost:8080/"
        },
        "id": "d6NL8jsnScRl",
        "outputId": "c1338d56-f4a3-454c-d843-c9d87053e354"
      },
      "source": [
        "  #Test a sentence\r\n",
        "sn = SenticNet()\r\n",
        "print(\"(polarity_value, polarity_label, introspection, sensitivity, temper, attitude):=\\n \")\r\n",
        "get_feature(['I', 'love', 'books'])"
      ],
      "execution_count": 232,
      "outputs": [
        {
          "output_type": "stream",
          "text": [
            "(polarity_value, polarity_label, introspection, sensitivity, temper, attitude):=\n",
            " \n"
          ],
          "name": "stdout"
        },
        {
          "output_type": "execute_result",
          "data": {
            "text/plain": [
              "(0.83, 1, 0.897, 0.762, 0.0, 0.0)"
            ]
          },
          "metadata": {
            "tags": []
          },
          "execution_count": 232
        }
      ]
    },
    {
      "cell_type": "code",
      "metadata": {
        "id": "GBJWUPQPDivm"
      },
      "source": [
        "#df_train['text'][1].lower()"
      ],
      "execution_count": 233,
      "outputs": []
    },
    {
      "cell_type": "code",
      "metadata": {
        "colab": {
          "base_uri": "https://localhost:8080/"
        },
        "id": "A-obu478EF2u",
        "outputId": "05acca01-1f03-4c0d-96d7-c4a2e4e7dfbb"
      },
      "source": [
        "import nltk\r\n",
        "from nltk import word_tokenize\r\n",
        "nltk.download('punkt')\r\n",
        "sent = \"This is my text, this is a nice way to input text.\"\r\n",
        "word_tokenize(sent)\r\n"
      ],
      "execution_count": 234,
      "outputs": [
        {
          "output_type": "stream",
          "text": [
            "[nltk_data] Downloading package punkt to /root/nltk_data...\n",
            "[nltk_data]   Package punkt is already up-to-date!\n"
          ],
          "name": "stdout"
        },
        {
          "output_type": "execute_result",
          "data": {
            "text/plain": [
              "['This',\n",
              " 'is',\n",
              " 'my',\n",
              " 'text',\n",
              " ',',\n",
              " 'this',\n",
              " 'is',\n",
              " 'a',\n",
              " 'nice',\n",
              " 'way',\n",
              " 'to',\n",
              " 'input',\n",
              " 'text',\n",
              " '.']"
            ]
          },
          "metadata": {
            "tags": []
          },
          "execution_count": 234
        }
      ]
    },
    {
      "cell_type": "code",
      "metadata": {
        "colab": {
          "base_uri": "https://localhost:8080/"
        },
        "id": "ep1AixaMDSKE",
        "outputId": "654eff92-a7c0-458a-9741-f433045d1084"
      },
      "source": [
        "#first sentence of train data set\n",
        "get_feature(word_tokenize(df_train['text'][0].lower()))"
      ],
      "execution_count": 235,
      "outputs": [
        {
          "output_type": "execute_result",
          "data": {
            "text/plain": [
              "(1280.685000000018,\n",
              " 3481,\n",
              " 1040.8269999999902,\n",
              " 831.996999999989,\n",
              " 38.1649999999999,\n",
              " 209.0059999999996)"
            ]
          },
          "metadata": {
            "tags": []
          },
          "execution_count": 235
        }
      ]
    },
    {
      "cell_type": "code",
      "metadata": {
        "colab": {
          "base_uri": "https://localhost:8080/"
        },
        "id": "LPki-k3maq9a",
        "outputId": "b60965e0-7b24-456f-b2c6-dc9d4d07d41f"
      },
      "source": [
        "print(df_train.shape[0])"
      ],
      "execution_count": 236,
      "outputs": [
        {
          "output_type": "stream",
          "text": [
            "1146\n"
          ],
          "name": "stdout"
        }
      ]
    },
    {
      "cell_type": "code",
      "metadata": {
        "colab": {
          "base_uri": "https://localhost:8080/",
          "height": 315
        },
        "id": "70aw7xTqZiga",
        "outputId": "b22f99cc-71a9-4a1a-b26f-c7b6ed70d46a"
      },
      "source": [
        "print(\"CLPsycke15 Dataset\")\n",
        "sns.countplot(x = 'label', data=df_train)\n"
      ],
      "execution_count": 237,
      "outputs": [
        {
          "output_type": "stream",
          "text": [
            "CLPsycke15 Dataset\n"
          ],
          "name": "stdout"
        },
        {
          "output_type": "execute_result",
          "data": {
            "text/plain": [
              "<matplotlib.axes._subplots.AxesSubplot at 0x7fed038728d0>"
            ]
          },
          "metadata": {
            "tags": []
          },
          "execution_count": 237
        },
        {
          "output_type": "display_data",
          "data": {
            "image/png": "[encoded data removed]",
            "text/plain": [
              "<Figure size 432x288 with 1 Axes>"
            ]
          },
          "metadata": {
            "tags": [],
            "needs_background": "light"
          }
        }
      ]
    },
    {
      "cell_type": "code",
      "metadata": {
        "id": "a2KrDfBeZnf8"
      },
      "source": [
        "# Subset dataset to only depression and depression_ctrl\n",
        "#df_train=df_train[(df_train['label']=='depression') | (df_train['label']=='depression_ctrl')]"
      ],
      "execution_count": 238,
      "outputs": []
    },
    {
      "cell_type": "code",
      "metadata": {
        "colab": {
          "base_uri": "https://localhost:8080/"
        },
        "id": "dACP8IbDfN5z",
        "outputId": "91be1ea7-d285-4066-e982-982989b380e5"
      },
      "source": [
        "df_train.isnull().values.any()\n"
      ],
      "execution_count": 239,
      "outputs": [
        {
          "output_type": "execute_result",
          "data": {
            "text/plain": [
              "False"
            ]
          },
          "metadata": {
            "tags": []
          },
          "execution_count": 239
        }
      ]
    },
    {
      "cell_type": "code",
      "metadata": {
        "id": "gr2-SJBLnGIM"
      },
      "source": [
        "df_trainn= pd.read_csv(Path('/content/drive/My Drive/DSP/data/bachelor/CLPsych_train_binary.csv'))"
      ],
      "execution_count": 240,
      "outputs": []
    },
    {
      "cell_type": "code",
      "metadata": {
        "colab": {
          "base_uri": "https://localhost:8080/"
        },
        "id": "NjKYD5Tpq5nc",
        "outputId": "88630107-06ec-4a0a-d006-7a986afede91"
      },
      "source": [
        "print(df_trainn.shape[0])"
      ],
      "execution_count": 241,
      "outputs": [
        {
          "output_type": "stream",
          "text": [
            "654\n"
          ],
          "name": "stdout"
        }
      ]
    },
    {
      "cell_type": "code",
      "metadata": {
        "colab": {
          "base_uri": "https://localhost:8080/",
          "height": 315
        },
        "id": "KxF_EEUPnt8Z",
        "outputId": "f74e7f16-2317-4121-e583-edd47b1e8fac"
      },
      "source": [
        "print(\"CLPsycke15 Dataset\")\n",
        "sns.countplot(x = 'label', data=df_trainn)"
      ],
      "execution_count": 242,
      "outputs": [
        {
          "output_type": "stream",
          "text": [
            "CLPsycke15 Dataset\n"
          ],
          "name": "stdout"
        },
        {
          "output_type": "execute_result",
          "data": {
            "text/plain": [
              "<matplotlib.axes._subplots.AxesSubplot at 0x7fed0390e250>"
            ]
          },
          "metadata": {
            "tags": []
          },
          "execution_count": 242
        },
        {
          "output_type": "display_data",
          "data": {
            "image/png": "[encoded data removed]",
            "text/plain": [
              "<Figure size 432x288 with 1 Axes>"
            ]
          },
          "metadata": {
            "tags": [],
            "needs_background": "light"
          }
        }
      ]
    },
    {
      "cell_type": "code",
      "metadata": {
        "colab": {
          "base_uri": "https://localhost:8080/"
        },
        "id": "p5mOtj78DC8n",
        "outputId": "1463f8ff-a994-4616-fe9f-30b9c8e89c5e"
      },
      "source": [
        "df_trainn['polarity_value'] = 0\r\n",
        "df_trainn['polarity_label'] = 0\r\n",
        "df_trainn['sensitivity'] = 0\r\n",
        "df_trainn['introspection'] = 0\r\n",
        "df_trainn['temper'] = 0\r\n",
        "df_trainn['attitude'] = 0\r\n",
        "\r\n",
        "for i in range(df_trainn.shape[0]):\r\n",
        "    polarity_value , polarity_label, introspection, sensitivity, temper, attitude=get_feature (word_tokenize(df_trainn['text'][i].lower()))\r\n",
        "    df_trainn['polarity_value'][i] = polarity_value\r\n",
        "    df_trainn['polarity_label'][i] = polarity_label\r\n",
        "    df_trainn['sensitivity'][i] = sensitivity\r\n",
        "    df_trainn['introspection'][i]= introspection\r\n",
        "    df_trainn['temper'][i] = temper\r\n",
        "    df_trainn['attitude'][i]= attitude\r\n",
        "  "
      ],
      "execution_count": 243,
      "outputs": [
        {
          "output_type": "stream",
          "text": [
            "/usr/local/lib/python3.7/dist-packages/ipykernel_launcher.py:10: SettingWithCopyWarning: \n",
            "A value is trying to be set on a copy of a slice from a DataFrame\n",
            "\n",
            "See the caveats in the documentation: https://pandas.pydata.org/pandas-docs/stable/user_guide/indexing.html#returning-a-view-versus-a-copy\n",
            "  # Remove the CWD from sys.path while we load stuff.\n",
            "/usr/local/lib/python3.7/dist-packages/ipykernel_launcher.py:11: SettingWithCopyWarning: \n",
            "A value is trying to be set on a copy of a slice from a DataFrame\n",
            "\n",
            "See the caveats in the documentation: https://pandas.pydata.org/pandas-docs/stable/user_guide/indexing.html#returning-a-view-versus-a-copy\n",
            "  # This is added back by InteractiveShellApp.init_path()\n",
            "/usr/local/lib/python3.7/dist-packages/ipykernel_launcher.py:12: SettingWithCopyWarning: \n",
            "A value is trying to be set on a copy of a slice from a DataFrame\n",
            "\n",
            "See the caveats in the documentation: https://pandas.pydata.org/pandas-docs/stable/user_guide/indexing.html#returning-a-view-versus-a-copy\n",
            "  if sys.path[0] == '':\n",
            "/usr/local/lib/python3.7/dist-packages/ipykernel_launcher.py:13: SettingWithCopyWarning: \n",
            "A value is trying to be set on a copy of a slice from a DataFrame\n",
            "\n",
            "See the caveats in the documentation: https://pandas.pydata.org/pandas-docs/stable/user_guide/indexing.html#returning-a-view-versus-a-copy\n",
            "  del sys.path[0]\n",
            "/usr/local/lib/python3.7/dist-packages/ipykernel_launcher.py:14: SettingWithCopyWarning: \n",
            "A value is trying to be set on a copy of a slice from a DataFrame\n",
            "\n",
            "See the caveats in the documentation: https://pandas.pydata.org/pandas-docs/stable/user_guide/indexing.html#returning-a-view-versus-a-copy\n",
            "  \n",
            "/usr/local/lib/python3.7/dist-packages/ipykernel_launcher.py:15: SettingWithCopyWarning: \n",
            "A value is trying to be set on a copy of a slice from a DataFrame\n",
            "\n",
            "See the caveats in the documentation: https://pandas.pydata.org/pandas-docs/stable/user_guide/indexing.html#returning-a-view-versus-a-copy\n",
            "  from ipykernel import kernelapp as app\n"
          ],
          "name": "stderr"
        }
      ]
    },
    {
      "cell_type": "code",
      "metadata": {
        "id": "YaVSI3GvkPkm",
        "colab": {
          "base_uri": "https://localhost:8080/",
          "height": 233
        },
        "outputId": "8f70bd32-8c08-44ca-b739-d4a0b83d38cd"
      },
      "source": [
        "df_trainn.head()\r\n"
      ],
      "execution_count": 244,
      "outputs": [
        {
          "output_type": "execute_result",
          "data": {
            "text/html": [
              "<div>\n",
              "<style scoped>\n",
              "    .dataframe tbody tr th:only-of-type {\n",
              "        vertical-align: middle;\n",
              "    }\n",
              "\n",
              "    .dataframe tbody tr th {\n",
              "        vertical-align: top;\n",
              "    }\n",
              "\n",
              "    .dataframe thead th {\n",
              "        text-align: right;\n",
              "    }\n",
              "</style>\n",
              "<table border=\"1\" class=\"dataframe\">\n",
              "  <thead>\n",
              "    <tr style=\"text-align: right;\">\n",
              "      <th></th>\n",
              "      <th>label</th>\n",
              "      <th>text</th>\n",
              "      <th>polarity_value</th>\n",
              "      <th>polarity_label</th>\n",
              "      <th>sensitivity</th>\n",
              "      <th>introspection</th>\n",
              "      <th>temper</th>\n",
              "      <th>attitude</th>\n",
              "    </tr>\n",
              "  </thead>\n",
              "  <tbody>\n",
              "    <tr>\n",
              "      <th>0</th>\n",
              "      <td>depression_ctrl</td>\n",
              "      <td>Game over RT : Life is so unpredictable. Be gr...</td>\n",
              "      <td>1280</td>\n",
              "      <td>3481</td>\n",
              "      <td>831</td>\n",
              "      <td>1040</td>\n",
              "      <td>38</td>\n",
              "      <td>209</td>\n",
              "    </tr>\n",
              "    <tr>\n",
              "      <th>1</th>\n",
              "      <td>depression</td>\n",
              "      <td>Happy ! Guys: please check your balls monthly ...</td>\n",
              "      <td>2149</td>\n",
              "      <td>6548</td>\n",
              "      <td>1431</td>\n",
              "      <td>1670</td>\n",
              "      <td>44</td>\n",
              "      <td>639</td>\n",
              "    </tr>\n",
              "    <tr>\n",
              "      <th>2</th>\n",
              "      <td>depression_ctrl</td>\n",
              "      <td>Photo: lkfrannyfrano: hotshxxt: migzfromatx: s...</td>\n",
              "      <td>1795</td>\n",
              "      <td>3707</td>\n",
              "      <td>808</td>\n",
              "      <td>1607</td>\n",
              "      <td>-6</td>\n",
              "      <td>272</td>\n",
              "    </tr>\n",
              "    <tr>\n",
              "      <th>3</th>\n",
              "      <td>depression_ctrl</td>\n",
              "      <td>: New videooooOOOoooo at PM UK time!! RT : the...</td>\n",
              "      <td>789</td>\n",
              "      <td>2563</td>\n",
              "      <td>548</td>\n",
              "      <td>831</td>\n",
              "      <td>-78</td>\n",
              "      <td>22</td>\n",
              "    </tr>\n",
              "    <tr>\n",
              "      <th>4</th>\n",
              "      <td>depression</td>\n",
              "      <td>:</td>\n",
              "      <td>0</td>\n",
              "      <td>0</td>\n",
              "      <td>0</td>\n",
              "      <td>0</td>\n",
              "      <td>0</td>\n",
              "      <td>0</td>\n",
              "    </tr>\n",
              "  </tbody>\n",
              "</table>\n",
              "</div>"
            ],
            "text/plain": [
              "             label  ... attitude\n",
              "0  depression_ctrl  ...      209\n",
              "1       depression  ...      639\n",
              "2  depression_ctrl  ...      272\n",
              "3  depression_ctrl  ...       22\n",
              "4       depression  ...        0\n",
              "\n",
              "[5 rows x 8 columns]"
            ]
          },
          "metadata": {
            "tags": []
          },
          "execution_count": 244
        }
      ]
    },
    {
      "cell_type": "code",
      "metadata": {
        "id": "Xnrba-Tpfhnn",
        "colab": {
          "base_uri": "https://localhost:8080/"
        },
        "outputId": "ba688210-cf01-4082-ed2d-b1420e71fc61"
      },
      "source": [
        "polarity_value , polarity_label, introspection, sensitivity, temper, attitude"
      ],
      "execution_count": 245,
      "outputs": [
        {
          "output_type": "execute_result",
          "data": {
            "text/plain": [
              "(1454.323000000005,\n",
              " 2634,\n",
              " 1396.4640000000047,\n",
              " 1080.5439999999896,\n",
              " 28.522000000000013,\n",
              " 133.24800000000013)"
            ]
          },
          "metadata": {
            "tags": []
          },
          "execution_count": 245
        }
      ]
    },
    {
      "cell_type": "code",
      "metadata": {
        "id": "r8BNqphNLycN",
        "colab": {
          "base_uri": "https://localhost:8080/"
        },
        "outputId": "1fb1234b-c1d4-485a-a7e5-9b674d3ad471"
      },
      "source": [
        "print(df_trainn['label'][1])"
      ],
      "execution_count": 246,
      "outputs": [
        {
          "output_type": "stream",
          "text": [
            "depression\n"
          ],
          "name": "stdout"
        }
      ]
    },
    {
      "cell_type": "code",
      "metadata": {
        "id": "qutpVIO8Vvpb"
      },
      "source": [
        "dict_cls = {'depression': 1, 'depression_ctrl': 0}\n",
        "df_trainn['label'] = df_trainn['label'].map(dict_cls)\n",
        "#y_test = df_test['label'].map(dict_cls)"
      ],
      "execution_count": 247,
      "outputs": []
    },
    {
      "cell_type": "code",
      "metadata": {
        "id": "Gab53XNUOqha",
        "colab": {
          "base_uri": "https://localhost:8080/",
          "height": 53
        },
        "outputId": "ae1c91e0-3cbd-40c1-fb8e-2680113858d1"
      },
      "source": [
        "\"\"\"\r\n",
        "df_train['label'] = df['label'].astype('category')\r\n",
        "\r\n",
        "encode_map = {\r\n",
        "    'depression': 1,\r\n",
        "    'depression_ctrl': 0,\r\n",
        "    'ptsd':0,\r\n",
        "    'ptsd_ctrl':0\r\n",
        "}\r\n",
        "\r\n",
        "df['label'].replace(encode_map, inplace=True)\r\n",
        " \"\"\""
      ],
      "execution_count": 248,
      "outputs": [
        {
          "output_type": "execute_result",
          "data": {
            "application/vnd.google.colaboratory.intrinsic+json": {
              "type": "string"
            },
            "text/plain": [
              "\"\\ndf_train['label'] = df['label'].astype('category')\\n\\nencode_map = {\\n    'depression': 1,\\n    'depression_ctrl': 0,\\n    'ptsd':0,\\n    'ptsd_ctrl':0\\n}\\n\\ndf['label'].replace(encode_map, inplace=True)\\n \""
            ]
          },
          "metadata": {
            "tags": []
          },
          "execution_count": 248
        }
      ]
    },
    {
      "cell_type": "code",
      "metadata": {
        "colab": {
          "base_uri": "https://localhost:8080/",
          "height": 53
        },
        "id": "WU4LYeXObVLT",
        "outputId": "1baa30a1-f0ea-42a2-f288-c87521c9212e"
      },
      "source": [
        "\"\"\"\r\n",
        "for i in range (0, (df_trainn.shape[0])):\r\n",
        "  if (df_trainn['label'][i]=='depression') :\r\n",
        "        \r\n",
        "    df_trainn['label'][i]= 1 \r\n",
        "  else:\r\n",
        "        #False\r\n",
        "    df_trainn['label'][i]= 0\r\n",
        "\r\n",
        "df_trainn.head()\"\"\""
      ],
      "execution_count": 249,
      "outputs": [
        {
          "output_type": "execute_result",
          "data": {
            "application/vnd.google.colaboratory.intrinsic+json": {
              "type": "string"
            },
            "text/plain": [
              "\"\\nfor i in range (0, (df_trainn.shape[0])):\\n  if (df_trainn['label'][i]=='depression') :\\n        \\n    df_trainn['label'][i]= 1 \\n  else:\\n        #False\\n    df_trainn['label'][i]= 0\\n\\ndf_trainn.head()\""
            ]
          },
          "metadata": {
            "tags": []
          },
          "execution_count": 249
        }
      ]
    },
    {
      "cell_type": "code",
      "metadata": {
        "colab": {
          "base_uri": "https://localhost:8080/"
        },
        "id": "mSE97hcW_M0u",
        "outputId": "3402fc20-4a29-47b2-9b87-736faedaead4"
      },
      "source": [
        "#scaler = StandardScaler()\n",
        "#df_train = scaler.fit_transform(df_train)\n",
        "features = df_trainn[[\"polarity_value\", \"polarity_label\", \"sensitivity\", \"introspection\", \"temper\", \"attitude\"]]  \n",
        "autoscaler = StandardScaler()\n",
        "features[:] = autoscaler.fit_transform(features.values)"
      ],
      "execution_count": 250,
      "outputs": [
        {
          "output_type": "stream",
          "text": [
            "/usr/local/lib/python3.7/dist-packages/ipykernel_launcher.py:5: SettingWithCopyWarning: \n",
            "A value is trying to be set on a copy of a slice from a DataFrame.\n",
            "Try using .loc[row_indexer,col_indexer] = value instead\n",
            "\n",
            "See the caveats in the documentation: https://pandas.pydata.org/pandas-docs/stable/user_guide/indexing.html#returning-a-view-versus-a-copy\n",
            "  \"\"\"\n",
            "/usr/local/lib/python3.7/dist-packages/pandas/core/indexing.py:1734: SettingWithCopyWarning: \n",
            "A value is trying to be set on a copy of a slice from a DataFrame.\n",
            "Try using .loc[row_indexer,col_indexer] = value instead\n",
            "\n",
            "See the caveats in the documentation: https://pandas.pydata.org/pandas-docs/stable/user_guide/indexing.html#returning-a-view-versus-a-copy\n",
            "  isetter(loc, value[:, i].tolist())\n"
          ],
          "name": "stderr"
        }
      ]
    },
    {
      "cell_type": "code",
      "metadata": {
        "colab": {
          "base_uri": "https://localhost:8080/",
          "height": 198
        },
        "id": "tBekdKQeARka",
        "outputId": "4c844317-485a-4204-e20a-005e61bf231e"
      },
      "source": [
        "features.head()"
      ],
      "execution_count": 251,
      "outputs": [
        {
          "output_type": "execute_result",
          "data": {
            "text/html": [
              "<div>\n",
              "<style scoped>\n",
              "    .dataframe tbody tr th:only-of-type {\n",
              "        vertical-align: middle;\n",
              "    }\n",
              "\n",
              "    .dataframe tbody tr th {\n",
              "        vertical-align: top;\n",
              "    }\n",
              "\n",
              "    .dataframe thead th {\n",
              "        text-align: right;\n",
              "    }\n",
              "</style>\n",
              "<table border=\"1\" class=\"dataframe\">\n",
              "  <thead>\n",
              "    <tr style=\"text-align: right;\">\n",
              "      <th></th>\n",
              "      <th>polarity_value</th>\n",
              "      <th>polarity_label</th>\n",
              "      <th>sensitivity</th>\n",
              "      <th>introspection</th>\n",
              "      <th>temper</th>\n",
              "      <th>attitude</th>\n",
              "    </tr>\n",
              "  </thead>\n",
              "  <tbody>\n",
              "    <tr>\n",
              "      <th>0</th>\n",
              "      <td>0.635321</td>\n",
              "      <td>0.525104</td>\n",
              "      <td>0.752861</td>\n",
              "      <td>0.466465</td>\n",
              "      <td>0.624734</td>\n",
              "      <td>0.374580</td>\n",
              "    </tr>\n",
              "    <tr>\n",
              "      <th>1</th>\n",
              "      <td>1.987984</td>\n",
              "      <td>2.527720</td>\n",
              "      <td>2.150160</td>\n",
              "      <td>1.578699</td>\n",
              "      <td>0.668231</td>\n",
              "      <td>3.082949</td>\n",
              "    </tr>\n",
              "    <tr>\n",
              "      <th>2</th>\n",
              "      <td>1.436957</td>\n",
              "      <td>0.672672</td>\n",
              "      <td>0.699298</td>\n",
              "      <td>1.467475</td>\n",
              "      <td>0.305755</td>\n",
              "      <td>0.771387</td>\n",
              "    </tr>\n",
              "    <tr>\n",
              "      <th>3</th>\n",
              "      <td>-0.128958</td>\n",
              "      <td>-0.074309</td>\n",
              "      <td>0.093801</td>\n",
              "      <td>0.097486</td>\n",
              "      <td>-0.216211</td>\n",
              "      <td>-0.803246</td>\n",
              "    </tr>\n",
              "    <tr>\n",
              "      <th>4</th>\n",
              "      <td>-1.357096</td>\n",
              "      <td>-1.747835</td>\n",
              "      <td>-1.182399</td>\n",
              "      <td>-1.369603</td>\n",
              "      <td>0.349252</td>\n",
              "      <td>-0.941814</td>\n",
              "    </tr>\n",
              "  </tbody>\n",
              "</table>\n",
              "</div>"
            ],
            "text/plain": [
              "   polarity_value  polarity_label  ...    temper  attitude\n",
              "0        0.635321        0.525104  ...  0.624734  0.374580\n",
              "1        1.987984        2.527720  ...  0.668231  3.082949\n",
              "2        1.436957        0.672672  ...  0.305755  0.771387\n",
              "3       -0.128958       -0.074309  ... -0.216211 -0.803246\n",
              "4       -1.357096       -1.747835  ...  0.349252 -0.941814\n",
              "\n",
              "[5 rows x 6 columns]"
            ]
          },
          "metadata": {
            "tags": []
          },
          "execution_count": 251
        }
      ]
    },
    {
      "cell_type": "code",
      "metadata": {
        "colab": {
          "base_uri": "https://localhost:8080/",
          "height": 198
        },
        "id": "zK7zQVqsA0AJ",
        "outputId": "691a238b-968d-4347-8110-47e89a0c46c5"
      },
      "source": [
        "# Normalize aquired values\n",
        "df_trainn['polarity_value']=features['polarity_value']\n",
        "df_trainn['polarity_label']=features['polarity_label']\n",
        "df_trainn['sensitivity']=features['sensitivity']\n",
        "df_trainn['introspection']=features['introspection']\n",
        "df_trainn['temper']=features['temper']\n",
        "df_trainn['attitude']=features['attitude']\n",
        "\n",
        "df_trainn.head()"
      ],
      "execution_count": 252,
      "outputs": [
        {
          "output_type": "execute_result",
          "data": {
            "text/html": [
              "<div>\n",
              "<style scoped>\n",
              "    .dataframe tbody tr th:only-of-type {\n",
              "        vertical-align: middle;\n",
              "    }\n",
              "\n",
              "    .dataframe tbody tr th {\n",
              "        vertical-align: top;\n",
              "    }\n",
              "\n",
              "    .dataframe thead th {\n",
              "        text-align: right;\n",
              "    }\n",
              "</style>\n",
              "<table border=\"1\" class=\"dataframe\">\n",
              "  <thead>\n",
              "    <tr style=\"text-align: right;\">\n",
              "      <th></th>\n",
              "      <th>label</th>\n",
              "      <th>text</th>\n",
              "      <th>polarity_value</th>\n",
              "      <th>polarity_label</th>\n",
              "      <th>sensitivity</th>\n",
              "      <th>introspection</th>\n",
              "      <th>temper</th>\n",
              "      <th>attitude</th>\n",
              "    </tr>\n",
              "  </thead>\n",
              "  <tbody>\n",
              "    <tr>\n",
              "      <th>0</th>\n",
              "      <td>0</td>\n",
              "      <td>Game over RT : Life is so unpredictable. Be gr...</td>\n",
              "      <td>0.635321</td>\n",
              "      <td>0.525104</td>\n",
              "      <td>0.752861</td>\n",
              "      <td>0.466465</td>\n",
              "      <td>0.624734</td>\n",
              "      <td>0.374580</td>\n",
              "    </tr>\n",
              "    <tr>\n",
              "      <th>1</th>\n",
              "      <td>1</td>\n",
              "      <td>Happy ! Guys: please check your balls monthly ...</td>\n",
              "      <td>1.987984</td>\n",
              "      <td>2.527720</td>\n",
              "      <td>2.150160</td>\n",
              "      <td>1.578699</td>\n",
              "      <td>0.668231</td>\n",
              "      <td>3.082949</td>\n",
              "    </tr>\n",
              "    <tr>\n",
              "      <th>2</th>\n",
              "      <td>0</td>\n",
              "      <td>Photo: lkfrannyfrano: hotshxxt: migzfromatx: s...</td>\n",
              "      <td>1.436957</td>\n",
              "      <td>0.672672</td>\n",
              "      <td>0.699298</td>\n",
              "      <td>1.467475</td>\n",
              "      <td>0.305755</td>\n",
              "      <td>0.771387</td>\n",
              "    </tr>\n",
              "    <tr>\n",
              "      <th>3</th>\n",
              "      <td>0</td>\n",
              "      <td>: New videooooOOOoooo at PM UK time!! RT : the...</td>\n",
              "      <td>-0.128958</td>\n",
              "      <td>-0.074309</td>\n",
              "      <td>0.093801</td>\n",
              "      <td>0.097486</td>\n",
              "      <td>-0.216211</td>\n",
              "      <td>-0.803246</td>\n",
              "    </tr>\n",
              "    <tr>\n",
              "      <th>4</th>\n",
              "      <td>1</td>\n",
              "      <td>:</td>\n",
              "      <td>-1.357096</td>\n",
              "      <td>-1.747835</td>\n",
              "      <td>-1.182399</td>\n",
              "      <td>-1.369603</td>\n",
              "      <td>0.349252</td>\n",
              "      <td>-0.941814</td>\n",
              "    </tr>\n",
              "  </tbody>\n",
              "</table>\n",
              "</div>"
            ],
            "text/plain": [
              "   label                                               text  ...    temper  attitude\n",
              "0      0  Game over RT : Life is so unpredictable. Be gr...  ...  0.624734  0.374580\n",
              "1      1  Happy ! Guys: please check your balls monthly ...  ...  0.668231  3.082949\n",
              "2      0  Photo: lkfrannyfrano: hotshxxt: migzfromatx: s...  ...  0.305755  0.771387\n",
              "3      0  : New videooooOOOoooo at PM UK time!! RT : the...  ... -0.216211 -0.803246\n",
              "4      1                                                  :  ...  0.349252 -0.941814\n",
              "\n",
              "[5 rows x 8 columns]"
            ]
          },
          "metadata": {
            "tags": []
          },
          "execution_count": 252
        }
      ]
    },
    {
      "cell_type": "code",
      "metadata": {
        "colab": {
          "base_uri": "https://localhost:8080/"
        },
        "id": "8uoeLayF7Ju_",
        "outputId": "a9920344-e8c7-4cd9-bc6b-8a349cf237ca"
      },
      "source": [
        "uniqueValues = df_trainn['label'].unique()\r\n",
        "print(uniqueValues)\r\n"
      ],
      "execution_count": 253,
      "outputs": [
        {
          "output_type": "stream",
          "text": [
            "[0 1]\n"
          ],
          "name": "stdout"
        }
      ]
    },
    {
      "cell_type": "code",
      "metadata": {
        "id": "XP2SIYgMkTb-"
      },
      "source": [
        "def get_avg_polarity(message):\r\n",
        "  sn = SenticNet()\r\n",
        "  count = 0\r\n",
        "  summ = 0\r\n",
        "  polarity=0\r\n",
        "  for word in (message):\r\n",
        "    try:\r\n",
        "      concept = sn.concept(word)\r\n",
        "      polarity = float(concept['polarity_value'])\r\n",
        "      print(polarity)\r\n",
        "      print(count)\r\n",
        "      #break\r\n",
        "    except KeyError:\r\n",
        "        pass\r\n",
        " \r\n",
        "    summ += polarity\r\n",
        "    count += 1\r\n",
        "  print(summ)\r\n",
        "  print(count)\r\n",
        "  return summ/count if count>0 else 0\r\n"
      ],
      "execution_count": 254,
      "outputs": []
    },
    {
      "cell_type": "code",
      "metadata": {
        "colab": {
          "base_uri": "https://localhost:8080/"
        },
        "id": "GP1wPVPcklh7",
        "outputId": "5a43cc67-756e-4c62-8dc2-f8f388f3c9eb"
      },
      "source": [
        "get_avg_polarity(['I', 'book', 'love'])"
      ],
      "execution_count": 255,
      "outputs": [
        {
          "output_type": "stream",
          "text": [
            "0.83\n",
            "2\n",
            "0.83\n",
            "3\n"
          ],
          "name": "stdout"
        },
        {
          "output_type": "execute_result",
          "data": {
            "text/plain": [
              "0.27666666666666667"
            ]
          },
          "metadata": {
            "tags": []
          },
          "execution_count": 255
        }
      ]
    },
    {
      "cell_type": "code",
      "metadata": {
        "colab": {
          "base_uri": "https://localhost:8080/"
        },
        "id": "lHsop6LM66sH",
        "outputId": "eb473d6e-9fa1-4ae5-f9ce-e67bdb9eb9e4"
      },
      "source": [
        "!pip install twitter"
      ],
      "execution_count": 256,
      "outputs": [
        {
          "output_type": "stream",
          "text": [
            "Requirement already satisfied: twitter in /usr/local/lib/python3.7/dist-packages (1.18.0)\n"
          ],
          "name": "stdout"
        }
      ]
    },
    {
      "cell_type": "code",
      "metadata": {
        "id": "SouJ7D_m6lRh"
      },
      "source": [
        "#import urllib2\n",
        "#import twitter\n",
        "from nltk.stem import WordNetLemmatizer\n",
        "from nltk.stem.snowball import EnglishStemmer\n",
        "import re\n",
        "from senticnet.senticnet import SenticNet"
      ],
      "execution_count": 257,
      "outputs": []
    },
    {
      "cell_type": "code",
      "metadata": {
        "colab": {
          "base_uri": "https://localhost:8080/"
        },
        "id": "aL2g2DOY7mE5",
        "outputId": "46057ed4-81e4-4163-c496-8f37a4aa737e"
      },
      "source": [
        "import nltk\n",
        "nltk.download('wordnet')"
      ],
      "execution_count": 258,
      "outputs": [
        {
          "output_type": "stream",
          "text": [
            "[nltk_data] Downloading package wordnet to /root/nltk_data...\n",
            "[nltk_data]   Package wordnet is already up-to-date!\n"
          ],
          "name": "stdout"
        },
        {
          "output_type": "execute_result",
          "data": {
            "text/plain": [
              "True"
            ]
          },
          "metadata": {
            "tags": []
          },
          "execution_count": 258
        }
      ]
    },
    {
      "cell_type": "code",
      "metadata": {
        "id": "ohmEDaUa7_zs"
      },
      "source": [
        "import urllib\n"
      ],
      "execution_count": 259,
      "outputs": []
    },
    {
      "cell_type": "code",
      "metadata": {
        "id": "T3_FzDxl7HGa"
      },
      "source": [
        "def get_words_bag(message):\n",
        "  wnl = WordNetLemmatizer()\n",
        "  es = EnglishStemmer()\n",
        "  for word in re.finditer(\"\\w+\", message):\n",
        "    yield (wnl.lemmatize(word.group()), es.stem(word.group()))\n",
        "\n",
        "def get_avg_polarity(message):\n",
        "  threshold = 0.3\n",
        "  sn = SenticNet()\n",
        "  count = 0\n",
        "  summ = 0\n",
        "  for word_options in get_words_bag(message):\n",
        "    polarity = 0\n",
        "    for word in word_options:\n",
        "      try:\n",
        "        concept = sn.concept(word)\n",
        "        polarity = concept['polarity']\n",
        "        break\n",
        "      except urllib.error.HTTPError:\n",
        "        pass #Do next\n",
        "    if abs(polarity) > threshold:\n",
        "      summ += polarity\n",
        "      count += 1\n",
        "\n",
        "  return summ / count if count > 0 else 0\n"
      ],
      "execution_count": 260,
      "outputs": []
    },
    {
      "cell_type": "code",
      "metadata": {
        "id": "eNr0Y48fRY1k"
      },
      "source": [
        "import torch\r\n",
        "import torch.nn as nn\r\n",
        "import torch.utils.data as data_utils\r\n",
        "import numpy as np\r\n",
        "import torch.optim as optim\r\n",
        "import torch.nn.functional as F\r\n",
        "\r\n"
      ],
      "execution_count": 261,
      "outputs": []
    },
    {
      "cell_type": "code",
      "metadata": {
        "colab": {
          "base_uri": "https://localhost:8080/"
        },
        "id": "yyEJxp8_z0pX",
        "outputId": "96bd578b-f474-4486-906b-1db5fe54fc89"
      },
      "source": [
        "df_trainn['label'][1]\r\n",
        "#torch.LongTensor(0)\r\n",
        "\r\n"
      ],
      "execution_count": 262,
      "outputs": [
        {
          "output_type": "execute_result",
          "data": {
            "text/plain": [
              "1"
            ]
          },
          "metadata": {
            "tags": []
          },
          "execution_count": 262
        }
      ]
    },
    {
      "cell_type": "code",
      "metadata": {
        "colab": {
          "base_uri": "https://localhost:8080/"
        },
        "id": "v-xFBKADrD1a",
        "outputId": "9efc954c-a283-4e5e-e49b-deaf4b53782e"
      },
      "source": [
        "labels_trainn=torch.tensor(df_trainn['label'][1], dtype=torch.long)\r\n",
        "print(labels_trainn)\r\n",
        "labels_trainn.view(1,)\r\n"
      ],
      "execution_count": 263,
      "outputs": [
        {
          "output_type": "stream",
          "text": [
            "tensor(1)\n"
          ],
          "name": "stdout"
        },
        {
          "output_type": "execute_result",
          "data": {
            "text/plain": [
              "tensor([1])"
            ]
          },
          "metadata": {
            "tags": []
          },
          "execution_count": 263
        }
      ]
    },
    {
      "cell_type": "code",
      "metadata": {
        "colab": {
          "base_uri": "https://localhost:8080/"
        },
        "id": "jdpK6I0go0Hh",
        "outputId": "0ff0f2f4-a06b-486a-a657-86f665b5e307"
      },
      "source": [
        "print(type(df_train.iloc[0,2:]))"
      ],
      "execution_count": 264,
      "outputs": [
        {
          "output_type": "stream",
          "text": [
            "<class 'pandas.core.series.Series'>\n"
          ],
          "name": "stdout"
        }
      ]
    },
    {
      "cell_type": "code",
      "metadata": {
        "id": "8lBZ19KqoxQW"
      },
      "source": [
        "word_vec = torch.zeros(6)"
      ],
      "execution_count": 265,
      "outputs": []
    },
    {
      "cell_type": "code",
      "metadata": {
        "colab": {
          "base_uri": "https://localhost:8080/"
        },
        "id": "RJ_bZC6uqWoe",
        "outputId": "d1f1ccb5-80f0-4bbb-e8f4-dd95d0f68bb5"
      },
      "source": [
        "for i in range (6):\r\n",
        "    word_vec[i]= df_trainn.iloc[5,2:][i]\r\n",
        "print(word_vec)\r\n",
        "print(word_vec.shape)\r\n",
        "word_vec.view(1,-1)\r\n",
        "print(word_vec.shape)\r\n"
      ],
      "execution_count": 266,
      "outputs": [
        {
          "output_type": "stream",
          "text": [
            "tensor([-0.4994,  0.3292, -0.7795, -0.6511, -0.9339,  0.1037])\n",
            "torch.Size([6])\n",
            "torch.Size([6])\n"
          ],
          "name": "stdout"
        }
      ]
    },
    {
      "cell_type": "code",
      "metadata": {
        "colab": {
          "base_uri": "https://localhost:8080/",
          "height": 53
        },
        "id": "31ZEYRj4nCax",
        "outputId": "b38823c9-857a-42ef-b05f-b6fb5ac8df9d"
      },
      "source": [
        "\"\"\"feature_number=6 #corpus_size\r\n",
        "for i in range(dataframe.shape[0]):\r\n",
        "  word_vec = torch.zeros(feature_number) for word in sentence:\r\n",
        "  word_vec[i] += 1\r\n",
        "return word_vec.view(1, -1)\"\"\"\r\n",
        "\r\n"
      ],
      "execution_count": 267,
      "outputs": [
        {
          "output_type": "execute_result",
          "data": {
            "application/vnd.google.colaboratory.intrinsic+json": {
              "type": "string"
            },
            "text/plain": [
              "'feature_number=6 #corpus_size\\nfor i in range(dataframe.shape[0]):\\n  word_vec = torch.zeros(feature_number) for word in sentence:\\n  word_vec[i] += 1\\nreturn word_vec.view(1, -1)'"
            ]
          },
          "metadata": {
            "tags": []
          },
          "execution_count": 267
        }
      ]
    },
    {
      "cell_type": "code",
      "metadata": {
        "id": "MbWbHmYXQNAo"
      },
      "source": [
        "class Classifier(nn.Module):  \r\n",
        "  \"\"\"cinsists of a single linear layer with log softmax activation, approximating a logistic regression\"\"\"\r\n",
        "  def __init__(self, no_classes, feature_size): \r\n",
        "    super(Classifier, self).__init__() \r\n",
        "\r\n",
        "    self.linear = nn.Linear(feature_size, no_classes) #input & output size\r\n",
        "\r\n",
        "  def forward(self, bow_vec): \r\n",
        "    return F.log_softmax(self.linear(bow_vec), dim=1) #gives out probabilities\r\n",
        "\r\n"
      ],
      "execution_count": 268,
      "outputs": []
    },
    {
      "cell_type": "code",
      "metadata": {
        "id": "jGomxAQ9Rcmr"
      },
      "source": [
        "no_classes=2\r\n",
        "feature_size=6\r\n",
        "model = Classifier(no_classes, feature_size)\r\n",
        "loss_function = nn.NLLLoss() # Negative log likelihood\r\n",
        "optimizer = optim.SGD(model.parameters(), lr=0.01) \r\n"
      ],
      "execution_count": 269,
      "outputs": []
    },
    {
      "cell_type": "code",
      "metadata": {
        "colab": {
          "base_uri": "https://localhost:8080/"
        },
        "id": "zM-Jabr3Wzm3",
        "outputId": "8411e28e-9bf0-44ed-ac3e-97c6f0ddd214"
      },
      "source": [
        "for epoch in range(100): \r\n",
        "  #for sentence, label in training_data: \r\n",
        "  for i in range(df_trainn.shape[0]):\r\n",
        "    model.zero_grad() \r\n",
        "    word_vec = torch.zeros(6)\r\n",
        "\r\n",
        "    for j in range (6):\r\n",
        "      word_vec[j]= df_trainn.iloc[i,2:][j]\r\n",
        "    word_vec=word_vec.view(1,-1)\r\n",
        "\r\n",
        "    target = torch.tensor(df_trainn['label'][i], dtype=torch.long)\r\n",
        "    target=target.view(1,)\r\n",
        "\r\n",
        "    log_probs = model(word_vec)  #Forward\r\n",
        "    loss = loss_function(log_probs, target) \r\n",
        "    loss.backward()\r\n",
        "    optimizer.step() #Update parameters\r\n",
        "  if epoch % 10 == 0: \r\n",
        "    print('Epoch: ',str(epoch+1),', Loss: ' +                         str(loss.item()))\r\n",
        "\r\n"
      ],
      "execution_count": 270,
      "outputs": [
        {
          "output_type": "stream",
          "text": [
            "Epoch:  1 , Loss: 0.7017490863800049\n",
            "Epoch:  11 , Loss: 0.6552641987800598\n",
            "Epoch:  21 , Loss: 0.6341748237609863\n",
            "Epoch:  31 , Loss: 0.6263863444328308\n",
            "Epoch:  41 , Loss: 0.6227931976318359\n",
            "Epoch:  51 , Loss: 0.6207003593444824\n",
            "Epoch:  61 , Loss: 0.6192536950111389\n",
            "Epoch:  71 , Loss: 0.6181508898735046\n",
            "Epoch:  81 , Loss: 0.6172727346420288\n",
            "Epoch:  91 , Loss: 0.6165555119514465\n"
          ],
          "name": "stdout"
        }
      ]
    },
    {
      "cell_type": "code",
      "metadata": {
        "colab": {
          "base_uri": "https://localhost:8080/"
        },
        "id": "Qxc_FzKXYJ8I",
        "outputId": "b3b7c834-3ee5-4ab0-ef5a-f2df9f457f60"
      },
      "source": [
        "word_vec = torch.zeros(6)\r\n",
        "for i in range (6):\r\n",
        "    word_vec[i]= df_trainn.iloc[5,2:][i]\r\n",
        "print(word_vec)\r\n",
        "print(word_vec.shape)\r\n",
        "word_vec=word_vec.view(1,-1)\r\n",
        "print(word_vec.shape)\r\n",
        "print(word_vec)"
      ],
      "execution_count": 271,
      "outputs": [
        {
          "output_type": "stream",
          "text": [
            "tensor([-0.4994,  0.3292, -0.7795, -0.6511, -0.9339,  0.1037])\n",
            "torch.Size([6])\n",
            "torch.Size([1, 6])\n",
            "tensor([[-0.4994,  0.3292, -0.7795, -0.6511, -0.9339,  0.1037]])\n"
          ],
          "name": "stdout"
        }
      ]
    },
    {
      "cell_type": "code",
      "metadata": {
        "colab": {
          "base_uri": "https://localhost:8080/"
        },
        "id": "P9kuYr_CU53P",
        "outputId": "4d11b7ef-b9d5-406b-a7bd-3c2012229c13"
      },
      "source": [
        "def make_predictions(word_vec): \r\n",
        "  with torch.no_grad(): #deactivate the autograd \r\n",
        "    #sentence = data[0] \r\n",
        "    label = \"one\"\r\n",
        "    log_probs = model(word_vec) \r\n",
        "    #print(sentence) \r\n",
        "    print(label + ':') #true label \r\n",
        "    print(np.exp(log_probs)) # convert the log probabilities into probabilities\r\n",
        "    return np.exp(log_probs)  #first probability i.e., index 0 refers to 0th class i.e. not depression\r\n",
        "\r\n",
        "a=make_predictions(word_vec)\r\n",
        "a.sum()\r\n",
        "\r\n"
      ],
      "execution_count": 272,
      "outputs": [
        {
          "output_type": "stream",
          "text": [
            "one:\n",
            "tensor([[0.3778, 0.6222]])\n"
          ],
          "name": "stdout"
        },
        {
          "output_type": "execute_result",
          "data": {
            "text/plain": [
              "tensor(1.)"
            ]
          },
          "metadata": {
            "tags": []
          },
          "execution_count": 272
        }
      ]
    },
    {
      "cell_type": "code",
      "metadata": {
        "colab": {
          "base_uri": "https://localhost:8080/",
          "height": 215
        },
        "id": "P3SvzpnOPKt6",
        "outputId": "583d311b-5f54-43f5-e14d-513ff333b0a8"
      },
      "source": [
        "X = df_trainn.iloc[:, 2:]\r\n",
        "y = df_trainn.iloc[:, 0]\r\n",
        "\r\n",
        "print(type(X))\r\n",
        "X.head()\r\n"
      ],
      "execution_count": 273,
      "outputs": [
        {
          "output_type": "stream",
          "text": [
            "<class 'pandas.core.frame.DataFrame'>\n"
          ],
          "name": "stdout"
        },
        {
          "output_type": "execute_result",
          "data": {
            "text/html": [
              "<div>\n",
              "<style scoped>\n",
              "    .dataframe tbody tr th:only-of-type {\n",
              "        vertical-align: middle;\n",
              "    }\n",
              "\n",
              "    .dataframe tbody tr th {\n",
              "        vertical-align: top;\n",
              "    }\n",
              "\n",
              "    .dataframe thead th {\n",
              "        text-align: right;\n",
              "    }\n",
              "</style>\n",
              "<table border=\"1\" class=\"dataframe\">\n",
              "  <thead>\n",
              "    <tr style=\"text-align: right;\">\n",
              "      <th></th>\n",
              "      <th>polarity_value</th>\n",
              "      <th>polarity_label</th>\n",
              "      <th>sensitivity</th>\n",
              "      <th>introspection</th>\n",
              "      <th>temper</th>\n",
              "      <th>attitude</th>\n",
              "    </tr>\n",
              "  </thead>\n",
              "  <tbody>\n",
              "    <tr>\n",
              "      <th>0</th>\n",
              "      <td>0.635321</td>\n",
              "      <td>0.525104</td>\n",
              "      <td>0.752861</td>\n",
              "      <td>0.466465</td>\n",
              "      <td>0.624734</td>\n",
              "      <td>0.374580</td>\n",
              "    </tr>\n",
              "    <tr>\n",
              "      <th>1</th>\n",
              "      <td>1.987984</td>\n",
              "      <td>2.527720</td>\n",
              "      <td>2.150160</td>\n",
              "      <td>1.578699</td>\n",
              "      <td>0.668231</td>\n",
              "      <td>3.082949</td>\n",
              "    </tr>\n",
              "    <tr>\n",
              "      <th>2</th>\n",
              "      <td>1.436957</td>\n",
              "      <td>0.672672</td>\n",
              "      <td>0.699298</td>\n",
              "      <td>1.467475</td>\n",
              "      <td>0.305755</td>\n",
              "      <td>0.771387</td>\n",
              "    </tr>\n",
              "    <tr>\n",
              "      <th>3</th>\n",
              "      <td>-0.128958</td>\n",
              "      <td>-0.074309</td>\n",
              "      <td>0.093801</td>\n",
              "      <td>0.097486</td>\n",
              "      <td>-0.216211</td>\n",
              "      <td>-0.803246</td>\n",
              "    </tr>\n",
              "    <tr>\n",
              "      <th>4</th>\n",
              "      <td>-1.357096</td>\n",
              "      <td>-1.747835</td>\n",
              "      <td>-1.182399</td>\n",
              "      <td>-1.369603</td>\n",
              "      <td>0.349252</td>\n",
              "      <td>-0.941814</td>\n",
              "    </tr>\n",
              "  </tbody>\n",
              "</table>\n",
              "</div>"
            ],
            "text/plain": [
              "   polarity_value  polarity_label  ...    temper  attitude\n",
              "0        0.635321        0.525104  ...  0.624734  0.374580\n",
              "1        1.987984        2.527720  ...  0.668231  3.082949\n",
              "2        1.436957        0.672672  ...  0.305755  0.771387\n",
              "3       -0.128958       -0.074309  ... -0.216211 -0.803246\n",
              "4       -1.357096       -1.747835  ...  0.349252 -0.941814\n",
              "\n",
              "[5 rows x 6 columns]"
            ]
          },
          "metadata": {
            "tags": []
          },
          "execution_count": 273
        }
      ]
    },
    {
      "cell_type": "code",
      "metadata": {
        "colab": {
          "base_uri": "https://localhost:8080/"
        },
        "id": "BgqIRRhYPXJX",
        "outputId": "21dc770b-4c96-4a90-f1e5-af2fdb0f798a"
      },
      "source": [
        "y.head()"
      ],
      "execution_count": 274,
      "outputs": [
        {
          "output_type": "execute_result",
          "data": {
            "text/plain": [
              "0    0\n",
              "1    1\n",
              "2    0\n",
              "3    0\n",
              "4    1\n",
              "Name: label, dtype: int64"
            ]
          },
          "metadata": {
            "tags": []
          },
          "execution_count": 274
        }
      ]
    },
    {
      "cell_type": "code",
      "metadata": {
        "id": "TQM56L89P6AD"
      },
      "source": [
        "#Train test split\r\n",
        "X_train, X_test, y_train, y_test = train_test_split(X, y, test_size=0.33, random_state=69)"
      ],
      "execution_count": 275,
      "outputs": []
    },
    {
      "cell_type": "code",
      "metadata": {
        "colab": {
          "base_uri": "https://localhost:8080/"
        },
        "id": "CcP-TDyxpwRs",
        "outputId": "fda9c1a2-c983-4f21-98bf-c2dc3cc09129"
      },
      "source": [
        "print(y_train.shape)"
      ],
      "execution_count": 276,
      "outputs": [
        {
          "output_type": "stream",
          "text": [
            "(438,)\n"
          ],
          "name": "stdout"
        }
      ]
    },
    {
      "cell_type": "code",
      "metadata": {
        "id": "FFfYfoxVQXo4"
      },
      "source": [
        "#Standardize-Normalize\r\n",
        "scaler = StandardScaler()\r\n",
        "X_train = scaler.fit_transform(X_train)\r\n",
        "X_test = scaler.transform(X_test)"
      ],
      "execution_count": 277,
      "outputs": []
    },
    {
      "cell_type": "code",
      "metadata": {
        "id": "XkjSzFYmQfha"
      },
      "source": [
        "EPOCHS = 100\r\n",
        "BATCH_SIZE = 64\r\n",
        "LEARNING_RATE = 0.001"
      ],
      "execution_count": 278,
      "outputs": []
    },
    {
      "cell_type": "code",
      "metadata": {
        "id": "V9WIlPMwQhtR"
      },
      "source": [
        "## train data\r\n",
        "class trainData(Dataset):\r\n",
        "    \r\n",
        "    def __init__(self, X_data, y_data):\r\n",
        "        self.X_data = X_data\r\n",
        "        self.y_data = y_data\r\n",
        "        \r\n",
        "    def __getitem__(self, index):\r\n",
        "        return self.X_data[index], self.y_data[index]\r\n",
        "        \r\n",
        "    def __len__ (self):\r\n",
        "        return len(self.X_data)\r\n",
        "\r\n",
        "train_data = trainData(torch.FloatTensor(X_train), \r\n",
        "                       torch.FloatTensor(y_train.to_numpy(dtype=np.float64)))\r\n",
        "## test data    \r\n",
        "class testData(Dataset):\r\n",
        "    \r\n",
        "    def __init__(self, X_data):\r\n",
        "        self.X_data = X_data\r\n",
        "        \r\n",
        "    def __getitem__(self, index):\r\n",
        "        return self.X_data[index]\r\n",
        "        \r\n",
        "    def __len__ (self):\r\n",
        "        return len(self.X_data)\r\n",
        "    \r\n",
        "\r\n",
        "test_data = testData(torch.FloatTensor(X_test))"
      ],
      "execution_count": 279,
      "outputs": []
    },
    {
      "cell_type": "code",
      "metadata": {
        "id": "WMv96KIDQo_j"
      },
      "source": [
        "train_loader = DataLoader(dataset=train_data, batch_size=BATCH_SIZE, shuffle=True)\r\n",
        "test_loader = DataLoader(dataset=test_data, batch_size=1)"
      ],
      "execution_count": 280,
      "outputs": []
    },
    {
      "cell_type": "code",
      "metadata": {
        "id": "qLV0e-HqQshq"
      },
      "source": [
        "class binaryClassification(nn.Module):\r\n",
        "    def __init__(self):\r\n",
        "        super(binaryClassification, self).__init__()\r\n",
        "        # Number of input features is 6.\r\n",
        "        self.layer_1 = nn.Linear(6, 64)  # The input to the first linear layer is 6. \r\n",
        "        self.layer_2 = nn.Linear(64, 64)\r\n",
        "        self.layer_out = nn.Linear(64, 1) \r\n",
        "        \r\n",
        "        self.relu = nn.ReLU()\r\n",
        "        self.dropout = nn.Dropout(p=0.1)\r\n",
        "        self.batchnorm1 = nn.BatchNorm1d(64)\r\n",
        "        self.batchnorm2 = nn.BatchNorm1d(64)\r\n",
        "        \r\n",
        "    def forward(self, inputs): # Takes the input. \r\n",
        "        x = self.relu(self.layer_1(inputs))\r\n",
        "        x = self.batchnorm1(x)\r\n",
        "        x = self.relu(self.layer_2(x))\r\n",
        "        x = self.batchnorm2(x)\r\n",
        "        x = self.dropout(x)\r\n",
        "        x = self.layer_out(x) # No sigmoid here since BCEWithLogitsLoss applies sigmoid automatically. \r\n",
        "        \r\n",
        "        return x"
      ],
      "execution_count": 281,
      "outputs": []
    },
    {
      "cell_type": "code",
      "metadata": {
        "colab": {
          "base_uri": "https://localhost:8080/"
        },
        "id": "2YLlysMPQvzZ",
        "outputId": "898eabe1-907c-4e09-9759-14d2c2e396e8"
      },
      "source": [
        "device = torch.device(\"cuda:0\" if torch.cuda.is_available() else \"cpu\")\r\n",
        "print(device)"
      ],
      "execution_count": 282,
      "outputs": [
        {
          "output_type": "stream",
          "text": [
            "cuda:0\n"
          ],
          "name": "stdout"
        }
      ]
    },
    {
      "cell_type": "code",
      "metadata": {
        "colab": {
          "base_uri": "https://localhost:8080/"
        },
        "id": "kCTrctgQQy5A",
        "outputId": "620ee7f7-5564-4442-db26-ef469b5bc397"
      },
      "source": [
        "model = binaryClassification()\r\n",
        "model.to(device)\r\n",
        "print(model)\r\n",
        "criterion = nn.BCEWithLogitsLoss() # Used when the output from the network is a tensor of length 2 (final dense layer is of size 2) where both values lie between 0 and 1.\r\n",
        "optimizer = optim.Adam(model.parameters(), lr=LEARNING_RATE)"
      ],
      "execution_count": 283,
      "outputs": [
        {
          "output_type": "stream",
          "text": [
            "binaryClassification(\n",
            "  (layer_1): Linear(in_features=6, out_features=64, bias=True)\n",
            "  (layer_2): Linear(in_features=64, out_features=64, bias=True)\n",
            "  (layer_out): Linear(in_features=64, out_features=1, bias=True)\n",
            "  (relu): ReLU()\n",
            "  (dropout): Dropout(p=0.1, inplace=False)\n",
            "  (batchnorm1): BatchNorm1d(64, eps=1e-05, momentum=0.1, affine=True, track_running_stats=True)\n",
            "  (batchnorm2): BatchNorm1d(64, eps=1e-05, momentum=0.1, affine=True, track_running_stats=True)\n",
            ")\n"
          ],
          "name": "stdout"
        }
      ]
    },
    {
      "cell_type": "code",
      "metadata": {
        "id": "7wVTUNFJQ148"
      },
      "source": [
        "def binary_acc(y_pred, y_test):\r\n",
        "    y_pred_tag = torch.round(torch.sigmoid(y_pred))\r\n",
        "\r\n",
        "    correct_results_sum = (y_pred_tag == y_test).sum().float()\r\n",
        "    acc = correct_results_sum/y_test.shape[0]\r\n",
        "    acc = torch.round(acc * 100)\r\n",
        "    \r\n",
        "    return acc"
      ],
      "execution_count": 284,
      "outputs": []
    },
    {
      "cell_type": "code",
      "metadata": {
        "colab": {
          "base_uri": "https://localhost:8080/"
        },
        "id": "P1eQDLSTQ46a",
        "outputId": "e63aac72-e23f-40ea-fed4-fefe7fcc7dee"
      },
      "source": [
        "model.train()\r\n",
        "for e in range(1, EPOCHS+1):\r\n",
        "    epoch_loss = 0\r\n",
        "    epoch_acc = 0\r\n",
        "    for X_batch, y_batch in train_loader:\r\n",
        "        X_batch, y_batch = X_batch.to(device), y_batch.to(device)\r\n",
        "        optimizer.zero_grad()\r\n",
        "        \r\n",
        "        y_pred = model(X_batch)\r\n",
        "        \r\n",
        "        loss = criterion(y_pred, y_batch.unsqueeze(1))\r\n",
        "        acc = binary_acc(y_pred, y_batch.unsqueeze(1))\r\n",
        "        \r\n",
        "        loss.backward()\r\n",
        "        optimizer.step()\r\n",
        "        \r\n",
        "        epoch_loss += loss.item()\r\n",
        "        epoch_acc += acc.item()\r\n",
        "        \r\n",
        "\r\n",
        "    print(f'Epoch {e+0:03}: | Loss: {epoch_loss/len(train_loader):.5f} | Acc: {epoch_acc/len(train_loader):.3f}')"
      ],
      "execution_count": 285,
      "outputs": [
        {
          "output_type": "stream",
          "text": [
            "Epoch 001: | Loss: 0.73142 | Acc: 44.000\n",
            "Epoch 002: | Loss: 0.67808 | Acc: 54.857\n",
            "Epoch 003: | Loss: 0.66740 | Acc: 59.429\n",
            "Epoch 004: | Loss: 0.64867 | Acc: 60.857\n",
            "Epoch 005: | Loss: 0.63108 | Acc: 64.286\n",
            "Epoch 006: | Loss: 0.62820 | Acc: 65.000\n",
            "Epoch 007: | Loss: 0.62855 | Acc: 63.714\n",
            "Epoch 008: | Loss: 0.61971 | Acc: 66.143\n",
            "Epoch 009: | Loss: 0.61620 | Acc: 66.286\n",
            "Epoch 010: | Loss: 0.61411 | Acc: 65.714\n",
            "Epoch 011: | Loss: 0.60121 | Acc: 70.857\n",
            "Epoch 012: | Loss: 0.61224 | Acc: 66.714\n",
            "Epoch 013: | Loss: 0.59117 | Acc: 66.857\n",
            "Epoch 014: | Loss: 0.60278 | Acc: 67.286\n",
            "Epoch 015: | Loss: 0.59425 | Acc: 68.000\n",
            "Epoch 016: | Loss: 0.59798 | Acc: 68.000\n",
            "Epoch 017: | Loss: 0.57502 | Acc: 68.429\n",
            "Epoch 018: | Loss: 0.58485 | Acc: 69.857\n",
            "Epoch 019: | Loss: 0.57189 | Acc: 70.286\n",
            "Epoch 020: | Loss: 0.56587 | Acc: 71.000\n",
            "Epoch 021: | Loss: 0.57472 | Acc: 72.429\n",
            "Epoch 022: | Loss: 0.57781 | Acc: 69.286\n",
            "Epoch 023: | Loss: 0.57351 | Acc: 67.429\n",
            "Epoch 024: | Loss: 0.56290 | Acc: 71.143\n",
            "Epoch 025: | Loss: 0.56275 | Acc: 73.286\n",
            "Epoch 026: | Loss: 0.55606 | Acc: 71.714\n",
            "Epoch 027: | Loss: 0.55204 | Acc: 71.857\n",
            "Epoch 028: | Loss: 0.55536 | Acc: 73.000\n",
            "Epoch 029: | Loss: 0.55115 | Acc: 72.429\n",
            "Epoch 030: | Loss: 0.54723 | Acc: 71.571\n",
            "Epoch 031: | Loss: 0.53612 | Acc: 70.429\n",
            "Epoch 032: | Loss: 0.54682 | Acc: 71.286\n",
            "Epoch 033: | Loss: 0.54107 | Acc: 72.857\n",
            "Epoch 034: | Loss: 0.52769 | Acc: 74.143\n",
            "Epoch 035: | Loss: 0.54588 | Acc: 70.857\n",
            "Epoch 036: | Loss: 0.52437 | Acc: 74.286\n",
            "Epoch 037: | Loss: 0.54916 | Acc: 70.571\n",
            "Epoch 038: | Loss: 0.53531 | Acc: 72.429\n",
            "Epoch 039: | Loss: 0.52567 | Acc: 74.286\n",
            "Epoch 040: | Loss: 0.52124 | Acc: 71.429\n",
            "Epoch 041: | Loss: 0.49902 | Acc: 73.714\n",
            "Epoch 042: | Loss: 0.52246 | Acc: 74.429\n",
            "Epoch 043: | Loss: 0.49653 | Acc: 75.571\n",
            "Epoch 044: | Loss: 0.50931 | Acc: 74.429\n",
            "Epoch 045: | Loss: 0.52351 | Acc: 74.143\n",
            "Epoch 046: | Loss: 0.51254 | Acc: 75.000\n",
            "Epoch 047: | Loss: 0.52607 | Acc: 73.571\n",
            "Epoch 048: | Loss: 0.51054 | Acc: 74.714\n",
            "Epoch 049: | Loss: 0.51503 | Acc: 74.857\n",
            "Epoch 050: | Loss: 0.49701 | Acc: 76.286\n",
            "Epoch 051: | Loss: 0.50183 | Acc: 74.429\n",
            "Epoch 052: | Loss: 0.49488 | Acc: 75.429\n",
            "Epoch 053: | Loss: 0.51440 | Acc: 73.429\n",
            "Epoch 054: | Loss: 0.50851 | Acc: 74.286\n",
            "Epoch 055: | Loss: 0.48377 | Acc: 79.571\n",
            "Epoch 056: | Loss: 0.46999 | Acc: 76.429\n",
            "Epoch 057: | Loss: 0.48167 | Acc: 75.857\n",
            "Epoch 058: | Loss: 0.47152 | Acc: 76.714\n",
            "Epoch 059: | Loss: 0.48256 | Acc: 79.143\n",
            "Epoch 060: | Loss: 0.47604 | Acc: 79.714\n",
            "Epoch 061: | Loss: 0.48039 | Acc: 74.429\n",
            "Epoch 062: | Loss: 0.47115 | Acc: 79.429\n",
            "Epoch 063: | Loss: 0.48227 | Acc: 76.714\n",
            "Epoch 064: | Loss: 0.47241 | Acc: 76.857\n",
            "Epoch 065: | Loss: 0.46275 | Acc: 79.429\n",
            "Epoch 066: | Loss: 0.47060 | Acc: 76.143\n",
            "Epoch 067: | Loss: 0.48193 | Acc: 76.857\n",
            "Epoch 068: | Loss: 0.48721 | Acc: 75.286\n",
            "Epoch 069: | Loss: 0.45116 | Acc: 79.143\n",
            "Epoch 070: | Loss: 0.47843 | Acc: 76.286\n",
            "Epoch 071: | Loss: 0.46322 | Acc: 78.000\n",
            "Epoch 072: | Loss: 0.44866 | Acc: 78.143\n",
            "Epoch 073: | Loss: 0.47906 | Acc: 77.143\n",
            "Epoch 074: | Loss: 0.47314 | Acc: 77.714\n",
            "Epoch 075: | Loss: 0.45674 | Acc: 79.286\n",
            "Epoch 076: | Loss: 0.45208 | Acc: 80.429\n",
            "Epoch 077: | Loss: 0.44575 | Acc: 81.000\n",
            "Epoch 078: | Loss: 0.45406 | Acc: 78.714\n",
            "Epoch 079: | Loss: 0.43549 | Acc: 80.000\n",
            "Epoch 080: | Loss: 0.43669 | Acc: 80.857\n",
            "Epoch 081: | Loss: 0.47738 | Acc: 76.143\n",
            "Epoch 082: | Loss: 0.44995 | Acc: 78.143\n",
            "Epoch 083: | Loss: 0.43581 | Acc: 79.571\n",
            "Epoch 084: | Loss: 0.41527 | Acc: 80.571\n",
            "Epoch 085: | Loss: 0.43395 | Acc: 77.857\n",
            "Epoch 086: | Loss: 0.45409 | Acc: 79.286\n",
            "Epoch 087: | Loss: 0.42100 | Acc: 80.571\n",
            "Epoch 088: | Loss: 0.42107 | Acc: 80.000\n",
            "Epoch 089: | Loss: 0.42200 | Acc: 81.286\n",
            "Epoch 090: | Loss: 0.41579 | Acc: 81.857\n",
            "Epoch 091: | Loss: 0.40627 | Acc: 81.286\n",
            "Epoch 092: | Loss: 0.40542 | Acc: 81.429\n",
            "Epoch 093: | Loss: 0.41715 | Acc: 82.429\n",
            "Epoch 094: | Loss: 0.40719 | Acc: 81.143\n",
            "Epoch 095: | Loss: 0.42181 | Acc: 78.286\n",
            "Epoch 096: | Loss: 0.39652 | Acc: 82.429\n",
            "Epoch 097: | Loss: 0.41183 | Acc: 80.143\n",
            "Epoch 098: | Loss: 0.40980 | Acc: 81.286\n",
            "Epoch 099: | Loss: 0.39696 | Acc: 80.571\n",
            "Epoch 100: | Loss: 0.39408 | Acc: 80.571\n"
          ],
          "name": "stdout"
        }
      ]
    },
    {
      "cell_type": "code",
      "metadata": {
        "id": "ocamCJalCBI3"
      },
      "source": [
        "y_pred_list = []\n",
        "model.eval()\n",
        "with torch.no_grad():\n",
        "    for X_batch in test_loader:\n",
        "        X_batch = X_batch.to(device)\n",
        "        y_test_pred = model(X_batch)\n",
        "        y_test_pred = torch.sigmoid(y_test_pred)\n",
        "        y_pred_tag = torch.round(y_test_pred)\n",
        "        y_pred_list.append(y_pred_tag.cpu().numpy())\n",
        "\n",
        "y_pred_list = [a.squeeze().tolist() for a in y_pred_list]"
      ],
      "execution_count": 286,
      "outputs": []
    },
    {
      "cell_type": "code",
      "metadata": {
        "colab": {
          "base_uri": "https://localhost:8080/"
        },
        "id": "sLRgR5JFDeiu",
        "outputId": "ed611996-7de0-4fc7-b68d-dd7f3f29b90c"
      },
      "source": [
        "print(y_test[:10])\n",
        "print(\"--------------\")\n",
        "print(y_pred_list[:10])\n",
        "y_test = [ int(x) for x in y_test ]\n",
        "\n",
        "y_pred_list = [ int(x) for x in y_pred_list ]\n"
      ],
      "execution_count": 287,
      "outputs": [
        {
          "output_type": "stream",
          "text": [
            "364    1\n",
            "3      0\n",
            "569    1\n",
            "287    1\n",
            "150    0\n",
            "99     0\n",
            "453    1\n",
            "283    0\n",
            "517    0\n",
            "632    0\n",
            "Name: label, dtype: int64\n",
            "--------------\n",
            "[1.0, 1.0, 0.0, 1.0, 1.0, 1.0, 1.0, 1.0, 1.0, 0.0]\n"
          ],
          "name": "stdout"
        }
      ]
    },
    {
      "cell_type": "code",
      "metadata": {
        "colab": {
          "base_uri": "https://localhost:8080/"
        },
        "id": "SxiAsE1QCGNs",
        "outputId": "2152b36a-0d1d-4f75-b7a3-e8ca564cfbe8"
      },
      "source": [
        "confusion_matrix(y_test, y_pred_list)"
      ],
      "execution_count": 288,
      "outputs": [
        {
          "output_type": "execute_result",
          "data": {
            "text/plain": [
              "array([[64, 54],\n",
              "       [27, 71]])"
            ]
          },
          "metadata": {
            "tags": []
          },
          "execution_count": 288
        }
      ]
    },
    {
      "cell_type": "code",
      "metadata": {
        "colab": {
          "base_uri": "https://localhost:8080/"
        },
        "id": "RlJmX_ENCJMe",
        "outputId": "cc6ba907-4011-4eb3-acfa-a673a429e4dd"
      },
      "source": [
        "print(classification_report(y_test, y_pred_list))\n"
      ],
      "execution_count": 289,
      "outputs": [
        {
          "output_type": "stream",
          "text": [
            "              precision    recall  f1-score   support\n",
            "\n",
            "           0       0.70      0.54      0.61       118\n",
            "           1       0.57      0.72      0.64        98\n",
            "\n",
            "    accuracy                           0.62       216\n",
            "   macro avg       0.64      0.63      0.62       216\n",
            "weighted avg       0.64      0.62      0.62       216\n",
            "\n"
          ],
          "name": "stdout"
        }
      ]
    }
  ]
}