{
  "nbformat": 4,
  "nbformat_minor": 0,
  "metadata": {
    "accelerator": "GPU",
    "colab": {
      "name": "scentic.ipynb",
      "provenance": [],
      "collapsed_sections": [],
      "authorship_tag": "ABX9TyPHNDz97EnFrWUNEXGJcnyj",
      "include_colab_link": true
    },
    "kernelspec": {
      "display_name": "Python 3",
      "name": "python3"
    }
  },
  "cells": [
    {
      "cell_type": "markdown",
      "metadata": {
        "id": "view-in-github",
        "colab_type": "text"
      },
      "source": [
        "<a href=\"https://colab.research.google.com/github/L-ansari/NLP/blob/master/scentic.ipynb\" target=\"_parent\"><img src=\"https://colab.research.google.com/assets/colab-badge.svg\" alt=\"Open In Colab\"/></a>"
      ]
    },
    {
      "cell_type": "code",
      "metadata": {
        "colab": {
          "base_uri": "https://localhost:8080/"
        },
        "id": "5N0GY0_PntmQ",
        "outputId": "a5ec6347-68b1-4aae-9065-73dfb190e78d"
      },
      "source": [
        "!pip install senticnet\n"
      ],
      "execution_count": null,
      "outputs": [
        {
          "output_type": "stream",
          "text": [
            "Collecting senticnet\n",
            "\u001b[?25l  Downloading https://files.pythonhosted.org/packages/f3/8e/c72d2c5186f762f13d3d8cf63aedeb973b95d45d62b59a63006060073e3a/senticnet-1.6-py3-none-any.whl (51.9MB)\n",
            "\u001b[K     |████████████████████████████████| 51.9MB 58kB/s \n",
            "\u001b[?25hInstalling collected packages: senticnet\n",
            "Successfully installed senticnet-1.6\n"
          ],
          "name": "stdout"
        }
      ]
    },
    {
      "cell_type": "code",
      "metadata": {
        "id": "62U6jGEgAjiK"
      },
      "source": [
        "\r\n",
        "import numpy as np\r\n",
        "import pandas as pd\r\n",
        "import seaborn as sns\r\n",
        "from pathlib import Path\r\n",
        "import matplotlib.pyplot as plt\r\n",
        "\r\n",
        "import torch\r\n",
        "import torch.nn as nn\r\n",
        "import torch.optim as optim\r\n",
        "from torch.utils.data import Dataset, DataLoader\r\n",
        "\r\n",
        "from sklearn.preprocessing import StandardScaler    \r\n",
        "from sklearn.model_selection import train_test_split\r\n",
        "from sklearn.metrics import confusion_matrix, classification_report"
      ],
      "execution_count": null,
      "outputs": []
    },
    {
      "cell_type": "code",
      "metadata": {
        "id": "-8XQcKRBAnOu",
        "colab": {
          "base_uri": "https://localhost:8080/"
        },
        "outputId": "6e2e14fd-d000-4301-f435-5197db7cf99f"
      },
      "source": [
        "from google.colab import drive\r\n",
        "drive.mount(\"/content/drive\", force_remount=True)"
      ],
      "execution_count": null,
      "outputs": [
        {
          "output_type": "stream",
          "text": [
            "Mounted at /content/drive\n"
          ],
          "name": "stdout"
        }
      ]
    },
    {
      "cell_type": "code",
      "metadata": {
        "id": "Q4pj57gBArXW"
      },
      "source": [
        "df_train= pd.read_csv(Path('/content/drive/My Drive/DSP/data/bachelor/train.csv'))\r\n"
      ],
      "execution_count": null,
      "outputs": []
    },
    {
      "cell_type": "code",
      "metadata": {
        "colab": {
          "base_uri": "https://localhost:8080/",
          "height": 198
        },
        "id": "uAXoftZiAuoI",
        "outputId": "d78701fa-ec8e-47da-d720-92ca17a89324"
      },
      "source": [
        "df_train.head()"
      ],
      "execution_count": null,
      "outputs": [
        {
          "output_type": "execute_result",
          "data": {
            "text/html": [
              "<div>\n",
              "<style scoped>\n",
              "    .dataframe tbody tr th:only-of-type {\n",
              "        vertical-align: middle;\n",
              "    }\n",
              "\n",
              "    .dataframe tbody tr th {\n",
              "        vertical-align: top;\n",
              "    }\n",
              "\n",
              "    .dataframe thead th {\n",
              "        text-align: right;\n",
              "    }\n",
              "</style>\n",
              "<table border=\"1\" class=\"dataframe\">\n",
              "  <thead>\n",
              "    <tr style=\"text-align: right;\">\n",
              "      <th></th>\n",
              "      <th>label</th>\n",
              "      <th>text</th>\n",
              "    </tr>\n",
              "  </thead>\n",
              "  <tbody>\n",
              "    <tr>\n",
              "      <th>0</th>\n",
              "      <td>depression_ctrl</td>\n",
              "      <td>Game over RT : Life is so unpredictable. Be gr...</td>\n",
              "    </tr>\n",
              "    <tr>\n",
              "      <th>1</th>\n",
              "      <td>depression</td>\n",
              "      <td>Happy ! Guys: please check your balls monthly ...</td>\n",
              "    </tr>\n",
              "    <tr>\n",
              "      <th>2</th>\n",
              "      <td>ptsd_ctrl</td>\n",
              "      <td>You gotta enjoy the view RT : i want a boyfrie...</td>\n",
              "    </tr>\n",
              "    <tr>\n",
              "      <th>3</th>\n",
              "      <td>ptsd_ctrl</td>\n",
              "      <td>I love that I'm so chill about everything RT :...</td>\n",
              "    </tr>\n",
              "    <tr>\n",
              "      <th>4</th>\n",
              "      <td>depression_ctrl</td>\n",
              "      <td>Photo: lkfrannyfrano: hotshxxt: migzfromatx: s...</td>\n",
              "    </tr>\n",
              "  </tbody>\n",
              "</table>\n",
              "</div>"
            ],
            "text/plain": [
              "             label                                               text\n",
              "0  depression_ctrl  Game over RT : Life is so unpredictable. Be gr...\n",
              "1       depression  Happy ! Guys: please check your balls monthly ...\n",
              "2        ptsd_ctrl  You gotta enjoy the view RT : i want a boyfrie...\n",
              "3        ptsd_ctrl  I love that I'm so chill about everything RT :...\n",
              "4  depression_ctrl  Photo: lkfrannyfrano: hotshxxt: migzfromatx: s..."
            ]
          },
          "metadata": {
            "tags": []
          },
          "execution_count": 5
        }
      ]
    },
    {
      "cell_type": "code",
      "metadata": {
        "id": "IQz7roeEnmI5"
      },
      "source": [
        "from senticnet.senticnet import SenticNet\n"
      ],
      "execution_count": null,
      "outputs": []
    },
    {
      "cell_type": "code",
      "metadata": {
        "id": "C2SH1euPxgxY"
      },
      "source": [
        "sn = SenticNet()\n",
        "concept_info = sn.concept('love')\n",
        "polarity_label = sn.polarity_label('love')\n",
        "polarity_value = sn.polarity_value('love')\n",
        "moodtags = sn.moodtags('love')\n",
        "semantics = sn.semantics('love')\n",
        "sentics = sn.sentics('love')"
      ],
      "execution_count": null,
      "outputs": []
    },
    {
      "cell_type": "code",
      "metadata": {
        "colab": {
          "base_uri": "https://localhost:8080/"
        },
        "id": "Co70y8vSxhRt",
        "outputId": "99eb1028-fa56-46a9-e8ca-235912b2aa06"
      },
      "source": [
        "print(concept_info )\n",
        "print(polarity_label )\n",
        "print(polarity_value )\n",
        "print(moodtags )\n",
        "print(semantics )\n",
        "print(sentics )"
      ],
      "execution_count": null,
      "outputs": [
        {
          "output_type": "stream",
          "text": [
            "{'polarity_label': 'positive', 'polarity_value': '0.83', 'sentics': {'introspection': '0.897', 'temper': '0', 'attitude': '0', 'sensitivity': '0.762'}, 'moodtags': ['#joy', '#eagerness'], 'semantics': ['desire_succeed', 'excitement', 'lust', 'passion', 'sexuality']}\n",
            "positive\n",
            "0.83\n",
            "['#joy', '#eagerness']\n",
            "['desire_succeed', 'excitement', 'lust', 'passion', 'sexuality']\n",
            "{'introspection': '0.897', 'temper': '0', 'attitude': '0', 'sensitivity': '0.762'}\n"
          ],
          "name": "stdout"
        }
      ]
    },
    {
      "cell_type": "code",
      "metadata": {
        "colab": {
          "base_uri": "https://localhost:8080/"
        },
        "id": "4r_aEL7MqnO4",
        "outputId": "7fe2f146-7474-41bc-a5e1-5fc27683126e"
      },
      "source": [
        "print(type(float(polarity_value)))"
      ],
      "execution_count": null,
      "outputs": [
        {
          "output_type": "stream",
          "text": [
            "<class 'float'>\n"
          ],
          "name": "stdout"
        }
      ]
    },
    {
      "cell_type": "code",
      "metadata": {
        "colab": {
          "base_uri": "https://localhost:8080/",
          "height": 35
        },
        "id": "-72QcrEqvIdO",
        "outputId": "6588eff9-5234-46f8-f877-ad3c654d3b50"
      },
      "source": [
        "sentics['introspection']\r\n"
      ],
      "execution_count": null,
      "outputs": [
        {
          "output_type": "execute_result",
          "data": {
            "application/vnd.google.colaboratory.intrinsic+json": {
              "type": "string"
            },
            "text/plain": [
              "'0.897'"
            ]
          },
          "metadata": {
            "tags": []
          },
          "execution_count": 9
        }
      ]
    },
    {
      "cell_type": "code",
      "metadata": {
        "id": "74x1N_c6sekr"
      },
      "source": [
        "def get_feature(message):\r\n",
        "  \"\"\"This function gives out a dataframe of extracted features\"\"\"\r\n",
        "  sn = SenticNet()\r\n",
        "\r\n",
        "  polarity_value=0\r\n",
        "  polarity_label=0\r\n",
        "  introspection=0\r\n",
        "  sensitivity=0\r\n",
        "  temper=0\r\n",
        "  attitude=0\r\n",
        "\r\n",
        "  for word in (message):\r\n",
        "    try:\r\n",
        "      concept = sn.concept(word)\r\n",
        "      pol_value = float(concept['polarity_value'])\r\n",
        "      pol_label=concept['polarity_label']\r\n",
        "      intros=float(concept['sentics']['introspection'])\r\n",
        "      sensit=float(concept['sentics']['sensitivity'])\r\n",
        "      temp=float(concept['sentics']['temper'])\r\n",
        "      attit=float(concept['sentics']['attitude'])\r\n",
        "\r\n",
        "      if  concept['polarity_label']=='positive':\r\n",
        "        pol_label =1\r\n",
        "      else:\r\n",
        "        pol_label=0\r\n",
        "\r\n",
        "\r\n",
        "\r\n",
        "      polarity_value += pol_value\r\n",
        "      polarity_label +=pol_label\r\n",
        "      introspection +=intros\r\n",
        "      sensitivity +=sensit\r\n",
        "      temper +=temp\r\n",
        "      attitude +=attit\r\n",
        "\r\n",
        "    except KeyError:\r\n",
        "        pass\r\n",
        " \r\n",
        "    \r\n",
        "  return polarity_value , polarity_label, introspection, sensitivity, temper, attitude\r\n"
      ],
      "execution_count": null,
      "outputs": []
    },
    {
      "cell_type": "code",
      "metadata": {
        "id": "d6NL8jsnScRl",
        "colab": {
          "base_uri": "https://localhost:8080/"
        },
        "outputId": "9b4284ae-bff4-4808-cac5-ab7f2553637f"
      },
      "source": [
        "  #Test a sentence\r\n",
        "sn = SenticNet()\r\n",
        "get_feature(['I', 'love', 'books'])"
      ],
      "execution_count": null,
      "outputs": [
        {
          "output_type": "execute_result",
          "data": {
            "text/plain": [
              "(0.83, 1, 0.897, 0.762, 0.0, 0.0)"
            ]
          },
          "metadata": {
            "tags": []
          },
          "execution_count": 11
        }
      ]
    },
    {
      "cell_type": "code",
      "metadata": {
        "id": "GBJWUPQPDivm"
      },
      "source": [
        "#df_train['text'][1].lower()"
      ],
      "execution_count": null,
      "outputs": []
    },
    {
      "cell_type": "code",
      "metadata": {
        "colab": {
          "base_uri": "https://localhost:8080/"
        },
        "id": "A-obu478EF2u",
        "outputId": "a3e5f629-b3fc-4853-dbc2-109450a25540"
      },
      "source": [
        "import nltk\r\n",
        "from nltk import word_tokenize\r\n",
        "nltk.download('punkt')\r\n",
        "sent = \"This is my text, this is a nice way to input text.\"\r\n",
        "word_tokenize(sent)\r\n"
      ],
      "execution_count": null,
      "outputs": [
        {
          "output_type": "stream",
          "text": [
            "[nltk_data] Downloading package punkt to /root/nltk_data...\n",
            "[nltk_data]   Unzipping tokenizers/punkt.zip.\n"
          ],
          "name": "stdout"
        },
        {
          "output_type": "execute_result",
          "data": {
            "text/plain": [
              "['This',\n",
              " 'is',\n",
              " 'my',\n",
              " 'text',\n",
              " ',',\n",
              " 'this',\n",
              " 'is',\n",
              " 'a',\n",
              " 'nice',\n",
              " 'way',\n",
              " 'to',\n",
              " 'input',\n",
              " 'text',\n",
              " '.']"
            ]
          },
          "metadata": {
            "tags": []
          },
          "execution_count": 13
        }
      ]
    },
    {
      "cell_type": "code",
      "metadata": {
        "colab": {
          "base_uri": "https://localhost:8080/"
        },
        "id": "ep1AixaMDSKE",
        "outputId": "7e81d13e-1f88-4088-a290-e0b06ad8979b"
      },
      "source": [
        "#first sentence of train data set\n",
        "get_feature(word_tokenize(df_train['text'][1].lower()))"
      ],
      "execution_count": null,
      "outputs": [
        {
          "output_type": "execute_result",
          "data": {
            "text/plain": [
              "(2149.817000000051,\n",
              " 6548,\n",
              " 1670.337000000043,\n",
              " 1431.5410000000136,\n",
              " 44.2320000000002,\n",
              " 639.5329999999973)"
            ]
          },
          "metadata": {
            "tags": []
          },
          "execution_count": 14
        }
      ]
    },
    {
      "cell_type": "code",
      "metadata": {
        "id": "p5mOtj78DC8n",
        "colab": {
          "base_uri": "https://localhost:8080/"
        },
        "outputId": "2b01ba3a-ead4-4d1d-be5b-3cea78d0bc32"
      },
      "source": [
        "df_train['polarity_value'] = 0\r\n",
        "df_train['polarity_label'] = 0\r\n",
        "df_train['sensitivity'] = 0\r\n",
        "df_train['sensitivity'] = 0\r\n",
        "df_train['introspection'] = 0\r\n",
        "df_train['temper'] = 0\r\n",
        "df_train['attitude'] = 0\r\n",
        "\r\n",
        "df_train.head()\r\n",
        "\r\n",
        "for i in range(df_train.shape[0]):\r\n",
        "  polarity_value , polarity_label, introspection, sensitivity, temper, attitude=get_feature (word_tokenize(df_train['text'][i].lower()))\r\n",
        "  df_train['polarity_value'][i] = polarity_value\r\n",
        "  df_train['polarity_value'][i] = polarity_label\r\n",
        "  df_train['sensitivity'][i] = sensitivity\r\n",
        "  df_train['introspection'][i]= introspection\r\n",
        "  df_train['temper'][i] = temper\r\n",
        "  df_train['attitude'][i]= attitude\r\n",
        "\r\n",
        "\r\n"
      ],
      "execution_count": null,
      "outputs": [
        {
          "output_type": "stream",
          "text": [
            "/usr/local/lib/python3.6/dist-packages/ipykernel_launcher.py:13: SettingWithCopyWarning: \n",
            "A value is trying to be set on a copy of a slice from a DataFrame\n",
            "\n",
            "See the caveats in the documentation: https://pandas.pydata.org/pandas-docs/stable/user_guide/indexing.html#returning-a-view-versus-a-copy\n",
            "  del sys.path[0]\n",
            "/usr/local/lib/python3.6/dist-packages/ipykernel_launcher.py:14: SettingWithCopyWarning: \n",
            "A value is trying to be set on a copy of a slice from a DataFrame\n",
            "\n",
            "See the caveats in the documentation: https://pandas.pydata.org/pandas-docs/stable/user_guide/indexing.html#returning-a-view-versus-a-copy\n",
            "  \n",
            "/usr/local/lib/python3.6/dist-packages/ipykernel_launcher.py:15: SettingWithCopyWarning: \n",
            "A value is trying to be set on a copy of a slice from a DataFrame\n",
            "\n",
            "See the caveats in the documentation: https://pandas.pydata.org/pandas-docs/stable/user_guide/indexing.html#returning-a-view-versus-a-copy\n",
            "  from ipykernel import kernelapp as app\n",
            "/usr/local/lib/python3.6/dist-packages/ipykernel_launcher.py:16: SettingWithCopyWarning: \n",
            "A value is trying to be set on a copy of a slice from a DataFrame\n",
            "\n",
            "See the caveats in the documentation: https://pandas.pydata.org/pandas-docs/stable/user_guide/indexing.html#returning-a-view-versus-a-copy\n",
            "  app.launch_new_instance()\n",
            "/usr/local/lib/python3.6/dist-packages/ipykernel_launcher.py:17: SettingWithCopyWarning: \n",
            "A value is trying to be set on a copy of a slice from a DataFrame\n",
            "\n",
            "See the caveats in the documentation: https://pandas.pydata.org/pandas-docs/stable/user_guide/indexing.html#returning-a-view-versus-a-copy\n",
            "/usr/local/lib/python3.6/dist-packages/ipykernel_launcher.py:18: SettingWithCopyWarning: \n",
            "A value is trying to be set on a copy of a slice from a DataFrame\n",
            "\n",
            "See the caveats in the documentation: https://pandas.pydata.org/pandas-docs/stable/user_guide/indexing.html#returning-a-view-versus-a-copy\n"
          ],
          "name": "stderr"
        }
      ]
    },
    {
      "cell_type": "code",
      "metadata": {
        "colab": {
          "base_uri": "https://localhost:8080/",
          "height": 748
        },
        "id": "YaVSI3GvkPkm",
        "outputId": "d7deb2a9-4bbf-451f-a5b1-93cbfe977029"
      },
      "source": [
        "df_train.head(10)\r\n"
      ],
      "execution_count": null,
      "outputs": [
        {
          "output_type": "execute_result",
          "data": {
            "text/html": [
              "<div>\n",
              "<style scoped>\n",
              "    .dataframe tbody tr th:only-of-type {\n",
              "        vertical-align: middle;\n",
              "    }\n",
              "\n",
              "    .dataframe tbody tr th {\n",
              "        vertical-align: top;\n",
              "    }\n",
              "\n",
              "    .dataframe thead th {\n",
              "        text-align: right;\n",
              "    }\n",
              "</style>\n",
              "<table border=\"1\" class=\"dataframe\">\n",
              "  <thead>\n",
              "    <tr style=\"text-align: right;\">\n",
              "      <th></th>\n",
              "      <th>label</th>\n",
              "      <th>text</th>\n",
              "      <th>polarity_value</th>\n",
              "      <th>polarity_label</th>\n",
              "      <th>sensitivity</th>\n",
              "      <th>introspection</th>\n",
              "      <th>temper</th>\n",
              "      <th>attitude</th>\n",
              "    </tr>\n",
              "  </thead>\n",
              "  <tbody>\n",
              "    <tr>\n",
              "      <th>0</th>\n",
              "      <td>depression_ctrl</td>\n",
              "      <td>Game over RT : Life is so unpredictable. Be gr...</td>\n",
              "      <td>3481</td>\n",
              "      <td>0</td>\n",
              "      <td>831</td>\n",
              "      <td>1040</td>\n",
              "      <td>38</td>\n",
              "      <td>209</td>\n",
              "    </tr>\n",
              "    <tr>\n",
              "      <th>1</th>\n",
              "      <td>depression</td>\n",
              "      <td>Happy ! Guys: please check your balls monthly ...</td>\n",
              "      <td>6548</td>\n",
              "      <td>0</td>\n",
              "      <td>1431</td>\n",
              "      <td>1670</td>\n",
              "      <td>44</td>\n",
              "      <td>639</td>\n",
              "    </tr>\n",
              "    <tr>\n",
              "      <th>2</th>\n",
              "      <td>ptsd_ctrl</td>\n",
              "      <td>You gotta enjoy the view RT : i want a boyfrie...</td>\n",
              "      <td>3044</td>\n",
              "      <td>0</td>\n",
              "      <td>656</td>\n",
              "      <td>914</td>\n",
              "      <td>-68</td>\n",
              "      <td>222</td>\n",
              "    </tr>\n",
              "    <tr>\n",
              "      <th>3</th>\n",
              "      <td>ptsd_ctrl</td>\n",
              "      <td>I love that I'm so chill about everything RT :...</td>\n",
              "      <td>3078</td>\n",
              "      <td>0</td>\n",
              "      <td>826</td>\n",
              "      <td>1233</td>\n",
              "      <td>-101</td>\n",
              "      <td>47</td>\n",
              "    </tr>\n",
              "    <tr>\n",
              "      <th>4</th>\n",
              "      <td>depression_ctrl</td>\n",
              "      <td>Photo: lkfrannyfrano: hotshxxt: migzfromatx: s...</td>\n",
              "      <td>3707</td>\n",
              "      <td>0</td>\n",
              "      <td>808</td>\n",
              "      <td>1607</td>\n",
              "      <td>-6</td>\n",
              "      <td>272</td>\n",
              "    </tr>\n",
              "    <tr>\n",
              "      <th>5</th>\n",
              "      <td>depression_ctrl</td>\n",
              "      <td>: New videooooOOOoooo at PM UK time!! RT : the...</td>\n",
              "      <td>2563</td>\n",
              "      <td>0</td>\n",
              "      <td>548</td>\n",
              "      <td>831</td>\n",
              "      <td>-78</td>\n",
              "      <td>22</td>\n",
              "    </tr>\n",
              "    <tr>\n",
              "      <th>6</th>\n",
              "      <td>depression</td>\n",
              "      <td>:</td>\n",
              "      <td>0</td>\n",
              "      <td>0</td>\n",
              "      <td>0</td>\n",
              "      <td>0</td>\n",
              "      <td>0</td>\n",
              "      <td>0</td>\n",
              "    </tr>\n",
              "    <tr>\n",
              "      <th>7</th>\n",
              "      <td>depression</td>\n",
              "      <td>new tweep followed me in the last week. I find...</td>\n",
              "      <td>3181</td>\n",
              "      <td>0</td>\n",
              "      <td>173</td>\n",
              "      <td>407</td>\n",
              "      <td>-177</td>\n",
              "      <td>166</td>\n",
              "    </tr>\n",
              "    <tr>\n",
              "      <th>8</th>\n",
              "      <td>ptsd</td>\n",
              "      <td>Pretty sure the cold weather is at least partl...</td>\n",
              "      <td>4636</td>\n",
              "      <td>0</td>\n",
              "      <td>991</td>\n",
              "      <td>1561</td>\n",
              "      <td>107</td>\n",
              "      <td>275</td>\n",
              "    </tr>\n",
              "    <tr>\n",
              "      <th>9</th>\n",
              "      <td>depression</td>\n",
              "      <td>RT : When you bang your toe against a table be...</td>\n",
              "      <td>2319</td>\n",
              "      <td>0</td>\n",
              "      <td>23</td>\n",
              "      <td>-6</td>\n",
              "      <td>-253</td>\n",
              "      <td>-17</td>\n",
              "    </tr>\n",
              "  </tbody>\n",
              "</table>\n",
              "</div>"
            ],
            "text/plain": [
              "             label  ... attitude\n",
              "0  depression_ctrl  ...      209\n",
              "1       depression  ...      639\n",
              "2        ptsd_ctrl  ...      222\n",
              "3        ptsd_ctrl  ...       47\n",
              "4  depression_ctrl  ...      272\n",
              "5  depression_ctrl  ...       22\n",
              "6       depression  ...        0\n",
              "7       depression  ...      166\n",
              "8             ptsd  ...      275\n",
              "9       depression  ...      -17\n",
              "\n",
              "[10 rows x 8 columns]"
            ]
          },
          "metadata": {
            "tags": []
          },
          "execution_count": 16
        }
      ]
    },
    {
      "cell_type": "code",
      "metadata": {
        "id": "Xnrba-Tpfhnn",
        "colab": {
          "base_uri": "https://localhost:8080/"
        },
        "outputId": "347cea3a-5fec-4721-8c1e-62673bb51f7e"
      },
      "source": [
        "polarity_value , polarity_label, introspection, sensitivity, temper, attitude"
      ],
      "execution_count": null,
      "outputs": [
        {
          "output_type": "execute_result",
          "data": {
            "text/plain": [
              "(1434.986000000016,\n",
              " 3516,\n",
              " 1333.1680000000001,\n",
              " 927.0289999999924,\n",
              " 94.7319999999995,\n",
              " 32.60699999999994)"
            ]
          },
          "metadata": {
            "tags": []
          },
          "execution_count": 17
        }
      ]
    },
    {
      "cell_type": "code",
      "metadata": {
        "colab": {
          "base_uri": "https://localhost:8080/",
          "height": 297
        },
        "id": "SZb2U44dK4GU",
        "outputId": "cfcc4b10-4587-45e5-ba14-38d6a58bef40"
      },
      "source": [
        "sns.countplot(x = 'label', data=df_train)\r\n"
      ],
      "execution_count": null,
      "outputs": [
        {
          "output_type": "execute_result",
          "data": {
            "text/plain": [
              "<matplotlib.axes._subplots.AxesSubplot at 0x7fc4d19e93c8>"
            ]
          },
          "metadata": {
            "tags": []
          },
          "execution_count": 18
        },
        {
          "output_type": "display_data",
          "data": {
            "image/png": "[encoded data removed]",
            "text/plain": [
              "<Figure size 432x288 with 1 Axes>"
            ]
          },
          "metadata": {
            "tags": [],
            "needs_background": "light"
          }
        }
      ]
    },
    {
      "cell_type": "code",
      "metadata": {
        "colab": {
          "base_uri": "https://localhost:8080/"
        },
        "id": "r8BNqphNLycN",
        "outputId": "ffe79ca6-8b24-4db1-8f56-c7f9b770b779"
      },
      "source": [
        "print(df_train['label'][1])"
      ],
      "execution_count": null,
      "outputs": [
        {
          "output_type": "stream",
          "text": [
            "depression\n"
          ],
          "name": "stdout"
        }
      ]
    },
    {
      "cell_type": "code",
      "metadata": {
        "colab": {
          "base_uri": "https://localhost:8080/",
          "height": 52
        },
        "id": "Gab53XNUOqha",
        "outputId": "76b80649-203c-449a-a435-c7a9ceefc608"
      },
      "source": [
        "\"\"\"\r\n",
        "df_train['label'] = df['label'].astype('category')\r\n",
        "\r\n",
        "encode_map = {\r\n",
        "    'depression': 1,\r\n",
        "    'depression_ctrl': 0,\r\n",
        "    'ptsd':0,\r\n",
        "    'ptsd_ctrl':0\r\n",
        "}\r\n",
        "\r\n",
        "df['label'].replace(encode_map, inplace=True)\r\n",
        " \"\"\""
      ],
      "execution_count": null,
      "outputs": [
        {
          "output_type": "execute_result",
          "data": {
            "application/vnd.google.colaboratory.intrinsic+json": {
              "type": "string"
            },
            "text/plain": [
              "\"\\ndf_train['label'] = df['label'].astype('category')\\n\\nencode_map = {\\n    'depression': 1,\\n    'depression_ctrl': 0,\\n    'ptsd':0,\\n    'ptsd_ctrl':0\\n}\\n\\ndf['label'].replace(encode_map, inplace=True)\\n \""
            ]
          },
          "metadata": {
            "tags": []
          },
          "execution_count": 257
        }
      ]
    },
    {
      "cell_type": "code",
      "metadata": {
        "colab": {
          "base_uri": "https://localhost:8080/",
          "height": 477
        },
        "id": "WU4LYeXObVLT",
        "outputId": "cb1b596b-b154-4fe4-a114-8a4b9984af65"
      },
      "source": [
        "for i in range (0, (df_train.shape[0])):\r\n",
        "  if (df_train['label'][i]=='depression' ) :\r\n",
        "        \r\n",
        "    df_train['label'][i]= 1 \r\n",
        "  else:\r\n",
        "        #False\r\n",
        "    df_train['label'][i]= 0\r\n",
        "\r\n",
        "df_train.head()"
      ],
      "execution_count": null,
      "outputs": [
        {
          "output_type": "stream",
          "text": [
            "/usr/local/lib/python3.6/dist-packages/ipykernel_launcher.py:7: SettingWithCopyWarning: \n",
            "A value is trying to be set on a copy of a slice from a DataFrame\n",
            "\n",
            "See the caveats in the documentation: https://pandas.pydata.org/pandas-docs/stable/user_guide/indexing.html#returning-a-view-versus-a-copy\n",
            "  import sys\n",
            "/usr/local/lib/python3.6/dist-packages/ipykernel_launcher.py:4: SettingWithCopyWarning: \n",
            "A value is trying to be set on a copy of a slice from a DataFrame\n",
            "\n",
            "See the caveats in the documentation: https://pandas.pydata.org/pandas-docs/stable/user_guide/indexing.html#returning-a-view-versus-a-copy\n",
            "  after removing the cwd from sys.path.\n"
          ],
          "name": "stderr"
        },
        {
          "output_type": "execute_result",
          "data": {
            "text/html": [
              "<div>\n",
              "<style scoped>\n",
              "    .dataframe tbody tr th:only-of-type {\n",
              "        vertical-align: middle;\n",
              "    }\n",
              "\n",
              "    .dataframe tbody tr th {\n",
              "        vertical-align: top;\n",
              "    }\n",
              "\n",
              "    .dataframe thead th {\n",
              "        text-align: right;\n",
              "    }\n",
              "</style>\n",
              "<table border=\"1\" class=\"dataframe\">\n",
              "  <thead>\n",
              "    <tr style=\"text-align: right;\">\n",
              "      <th></th>\n",
              "      <th>label</th>\n",
              "      <th>text</th>\n",
              "      <th>polarity_value</th>\n",
              "      <th>polarity_label</th>\n",
              "      <th>sensitivity</th>\n",
              "      <th>introspection</th>\n",
              "      <th>temper</th>\n",
              "      <th>attitude</th>\n",
              "    </tr>\n",
              "  </thead>\n",
              "  <tbody>\n",
              "    <tr>\n",
              "      <th>0</th>\n",
              "      <td>0</td>\n",
              "      <td>Game over RT : Life is so unpredictable. Be gr...</td>\n",
              "      <td>3481</td>\n",
              "      <td>0</td>\n",
              "      <td>831</td>\n",
              "      <td>1040</td>\n",
              "      <td>38</td>\n",
              "      <td>209</td>\n",
              "    </tr>\n",
              "    <tr>\n",
              "      <th>1</th>\n",
              "      <td>1</td>\n",
              "      <td>Happy ! Guys: please check your balls monthly ...</td>\n",
              "      <td>6548</td>\n",
              "      <td>0</td>\n",
              "      <td>1431</td>\n",
              "      <td>1670</td>\n",
              "      <td>44</td>\n",
              "      <td>639</td>\n",
              "    </tr>\n",
              "    <tr>\n",
              "      <th>2</th>\n",
              "      <td>0</td>\n",
              "      <td>You gotta enjoy the view RT : i want a boyfrie...</td>\n",
              "      <td>3044</td>\n",
              "      <td>0</td>\n",
              "      <td>656</td>\n",
              "      <td>914</td>\n",
              "      <td>-68</td>\n",
              "      <td>222</td>\n",
              "    </tr>\n",
              "    <tr>\n",
              "      <th>3</th>\n",
              "      <td>0</td>\n",
              "      <td>I love that I'm so chill about everything RT :...</td>\n",
              "      <td>3078</td>\n",
              "      <td>0</td>\n",
              "      <td>826</td>\n",
              "      <td>1233</td>\n",
              "      <td>-101</td>\n",
              "      <td>47</td>\n",
              "    </tr>\n",
              "    <tr>\n",
              "      <th>4</th>\n",
              "      <td>0</td>\n",
              "      <td>Photo: lkfrannyfrano: hotshxxt: migzfromatx: s...</td>\n",
              "      <td>3707</td>\n",
              "      <td>0</td>\n",
              "      <td>808</td>\n",
              "      <td>1607</td>\n",
              "      <td>-6</td>\n",
              "      <td>272</td>\n",
              "    </tr>\n",
              "  </tbody>\n",
              "</table>\n",
              "</div>"
            ],
            "text/plain": [
              "  label                                               text  ...  temper  attitude\n",
              "0     0  Game over RT : Life is so unpredictable. Be gr...  ...      38       209\n",
              "1     1  Happy ! Guys: please check your balls monthly ...  ...      44       639\n",
              "2     0  You gotta enjoy the view RT : i want a boyfrie...  ...     -68       222\n",
              "3     0  I love that I'm so chill about everything RT :...  ...    -101        47\n",
              "4     0  Photo: lkfrannyfrano: hotshxxt: migzfromatx: s...  ...      -6       272\n",
              "\n",
              "[5 rows x 8 columns]"
            ]
          },
          "metadata": {
            "tags": []
          },
          "execution_count": 21
        }
      ]
    },
    {
      "cell_type": "code",
      "metadata": {
        "colab": {
          "base_uri": "https://localhost:8080/"
        },
        "id": "mSE97hcW_M0u",
        "outputId": "fbaf2467-8312-4bc3-d5a8-48a601babc4d"
      },
      "source": [
        "#scaler = StandardScaler()\n",
        "#df_train = scaler.fit_transform(df_train)\n",
        "features = df_train[[\"polarity_value\", \"polarity_label\", \"sensitivity\", \"introspection\", \"temper\", \"attitude\"]]  \n",
        "autoscaler = StandardScaler()\n",
        "features[:] = autoscaler.fit_transform(features.values)"
      ],
      "execution_count": null,
      "outputs": [
        {
          "output_type": "stream",
          "text": [
            "/usr/local/lib/python3.6/dist-packages/ipykernel_launcher.py:5: SettingWithCopyWarning: \n",
            "A value is trying to be set on a copy of a slice from a DataFrame.\n",
            "Try using .loc[row_indexer,col_indexer] = value instead\n",
            "\n",
            "See the caveats in the documentation: https://pandas.pydata.org/pandas-docs/stable/user_guide/indexing.html#returning-a-view-versus-a-copy\n",
            "  \"\"\"\n",
            "/usr/local/lib/python3.6/dist-packages/pandas/core/indexing.py:1734: SettingWithCopyWarning: \n",
            "A value is trying to be set on a copy of a slice from a DataFrame.\n",
            "Try using .loc[row_indexer,col_indexer] = value instead\n",
            "\n",
            "See the caveats in the documentation: https://pandas.pydata.org/pandas-docs/stable/user_guide/indexing.html#returning-a-view-versus-a-copy\n",
            "  isetter(loc, value[:, i].tolist())\n"
          ],
          "name": "stderr"
        }
      ]
    },
    {
      "cell_type": "code",
      "metadata": {
        "colab": {
          "base_uri": "https://localhost:8080/",
          "height": 198
        },
        "id": "tBekdKQeARka",
        "outputId": "b2053c47-5024-461f-b96c-965f4f9c7ff7"
      },
      "source": [
        "features.head()"
      ],
      "execution_count": null,
      "outputs": [
        {
          "output_type": "execute_result",
          "data": {
            "text/html": [
              "<div>\n",
              "<style scoped>\n",
              "    .dataframe tbody tr th:only-of-type {\n",
              "        vertical-align: middle;\n",
              "    }\n",
              "\n",
              "    .dataframe tbody tr th {\n",
              "        vertical-align: top;\n",
              "    }\n",
              "\n",
              "    .dataframe thead th {\n",
              "        text-align: right;\n",
              "    }\n",
              "</style>\n",
              "<table border=\"1\" class=\"dataframe\">\n",
              "  <thead>\n",
              "    <tr style=\"text-align: right;\">\n",
              "      <th></th>\n",
              "      <th>polarity_value</th>\n",
              "      <th>polarity_label</th>\n",
              "      <th>sensitivity</th>\n",
              "      <th>introspection</th>\n",
              "      <th>temper</th>\n",
              "      <th>attitude</th>\n",
              "    </tr>\n",
              "  </thead>\n",
              "  <tbody>\n",
              "    <tr>\n",
              "      <th>0</th>\n",
              "      <td>0.215175</td>\n",
              "      <td>0.0</td>\n",
              "      <td>0.219647</td>\n",
              "      <td>0.098545</td>\n",
              "      <td>0.351780</td>\n",
              "      <td>0.146265</td>\n",
              "    </tr>\n",
              "    <tr>\n",
              "      <th>1</th>\n",
              "      <td>2.021549</td>\n",
              "      <td>0.0</td>\n",
              "      <td>1.233556</td>\n",
              "      <td>0.959264</td>\n",
              "      <td>0.389721</td>\n",
              "      <td>2.423386</td>\n",
              "    </tr>\n",
              "    <tr>\n",
              "      <th>2</th>\n",
              "      <td>-0.042206</td>\n",
              "      <td>0.0</td>\n",
              "      <td>-0.076077</td>\n",
              "      <td>-0.073598</td>\n",
              "      <td>-0.318518</td>\n",
              "      <td>0.215108</td>\n",
              "    </tr>\n",
              "    <tr>\n",
              "      <th>3</th>\n",
              "      <td>-0.022181</td>\n",
              "      <td>0.0</td>\n",
              "      <td>0.211197</td>\n",
              "      <td>0.362226</td>\n",
              "      <td>-0.527195</td>\n",
              "      <td>-0.711627</td>\n",
              "    </tr>\n",
              "    <tr>\n",
              "      <th>4</th>\n",
              "      <td>0.348282</td>\n",
              "      <td>0.0</td>\n",
              "      <td>0.180780</td>\n",
              "      <td>0.873192</td>\n",
              "      <td>0.073543</td>\n",
              "      <td>0.479890</td>\n",
              "    </tr>\n",
              "  </tbody>\n",
              "</table>\n",
              "</div>"
            ],
            "text/plain": [
              "   polarity_value  polarity_label  ...    temper  attitude\n",
              "0        0.215175             0.0  ...  0.351780  0.146265\n",
              "1        2.021549             0.0  ...  0.389721  2.423386\n",
              "2       -0.042206             0.0  ... -0.318518  0.215108\n",
              "3       -0.022181             0.0  ... -0.527195 -0.711627\n",
              "4        0.348282             0.0  ...  0.073543  0.479890\n",
              "\n",
              "[5 rows x 6 columns]"
            ]
          },
          "metadata": {
            "tags": []
          },
          "execution_count": 24
        }
      ]
    },
    {
      "cell_type": "code",
      "metadata": {
        "colab": {
          "base_uri": "https://localhost:8080/",
          "height": 285
        },
        "id": "zK7zQVqsA0AJ",
        "outputId": "216ec339-7142-45a4-c166-7bf9aef7af31"
      },
      "source": [
        "# Normalize aquired values\n",
        "df_train['polarity_value']=features['polarity_value']\n",
        "df_train['polarity_label']=features['polarity_label']\n",
        "df_train['sensitivity']=features['sensitivity']\n",
        "df_train['introspection']=features['introspection']\n",
        "df_train['temper']=features['temper']\n",
        "df_train['attitude']=features['attitude']\n",
        "\n",
        "df_train.head()"
      ],
      "execution_count": null,
      "outputs": [
        {
          "output_type": "execute_result",
          "data": {
            "text/html": [
              "<div>\n",
              "<style scoped>\n",
              "    .dataframe tbody tr th:only-of-type {\n",
              "        vertical-align: middle;\n",
              "    }\n",
              "\n",
              "    .dataframe tbody tr th {\n",
              "        vertical-align: top;\n",
              "    }\n",
              "\n",
              "    .dataframe thead th {\n",
              "        text-align: right;\n",
              "    }\n",
              "</style>\n",
              "<table border=\"1\" class=\"dataframe\">\n",
              "  <thead>\n",
              "    <tr style=\"text-align: right;\">\n",
              "      <th></th>\n",
              "      <th>label</th>\n",
              "      <th>text</th>\n",
              "      <th>polarity_value</th>\n",
              "      <th>polarity_label</th>\n",
              "      <th>sensitivity</th>\n",
              "      <th>introspection</th>\n",
              "      <th>temper</th>\n",
              "      <th>attitude</th>\n",
              "    </tr>\n",
              "  </thead>\n",
              "  <tbody>\n",
              "    <tr>\n",
              "      <th>0</th>\n",
              "      <td>0</td>\n",
              "      <td>Game over RT : Life is so unpredictable. Be gr...</td>\n",
              "      <td>0.215175</td>\n",
              "      <td>0.0</td>\n",
              "      <td>0.219647</td>\n",
              "      <td>0.098545</td>\n",
              "      <td>0.351780</td>\n",
              "      <td>0.146265</td>\n",
              "    </tr>\n",
              "    <tr>\n",
              "      <th>1</th>\n",
              "      <td>1</td>\n",
              "      <td>Happy ! Guys: please check your balls monthly ...</td>\n",
              "      <td>2.021549</td>\n",
              "      <td>0.0</td>\n",
              "      <td>1.233556</td>\n",
              "      <td>0.959264</td>\n",
              "      <td>0.389721</td>\n",
              "      <td>2.423386</td>\n",
              "    </tr>\n",
              "    <tr>\n",
              "      <th>2</th>\n",
              "      <td>0</td>\n",
              "      <td>You gotta enjoy the view RT : i want a boyfrie...</td>\n",
              "      <td>-0.042206</td>\n",
              "      <td>0.0</td>\n",
              "      <td>-0.076077</td>\n",
              "      <td>-0.073598</td>\n",
              "      <td>-0.318518</td>\n",
              "      <td>0.215108</td>\n",
              "    </tr>\n",
              "    <tr>\n",
              "      <th>3</th>\n",
              "      <td>0</td>\n",
              "      <td>I love that I'm so chill about everything RT :...</td>\n",
              "      <td>-0.022181</td>\n",
              "      <td>0.0</td>\n",
              "      <td>0.211197</td>\n",
              "      <td>0.362226</td>\n",
              "      <td>-0.527195</td>\n",
              "      <td>-0.711627</td>\n",
              "    </tr>\n",
              "    <tr>\n",
              "      <th>4</th>\n",
              "      <td>0</td>\n",
              "      <td>Photo: lkfrannyfrano: hotshxxt: migzfromatx: s...</td>\n",
              "      <td>0.348282</td>\n",
              "      <td>0.0</td>\n",
              "      <td>0.180780</td>\n",
              "      <td>0.873192</td>\n",
              "      <td>0.073543</td>\n",
              "      <td>0.479890</td>\n",
              "    </tr>\n",
              "  </tbody>\n",
              "</table>\n",
              "</div>"
            ],
            "text/plain": [
              "  label                                               text  ...    temper  attitude\n",
              "0     0  Game over RT : Life is so unpredictable. Be gr...  ...  0.351780  0.146265\n",
              "1     1  Happy ! Guys: please check your balls monthly ...  ...  0.389721  2.423386\n",
              "2     0  You gotta enjoy the view RT : i want a boyfrie...  ... -0.318518  0.215108\n",
              "3     0  I love that I'm so chill about everything RT :...  ... -0.527195 -0.711627\n",
              "4     0  Photo: lkfrannyfrano: hotshxxt: migzfromatx: s...  ...  0.073543  0.479890\n",
              "\n",
              "[5 rows x 8 columns]"
            ]
          },
          "metadata": {
            "tags": []
          },
          "execution_count": 30
        }
      ]
    },
    {
      "cell_type": "code",
      "metadata": {
        "colab": {
          "base_uri": "https://localhost:8080/"
        },
        "id": "8uoeLayF7Ju_",
        "outputId": "59e5c74a-c946-49d7-b3d8-b74b4171b931"
      },
      "source": [
        "uniqueValues = df_train['label'].unique()\r\n",
        "print(uniqueValues)\r\n"
      ],
      "execution_count": null,
      "outputs": [
        {
          "output_type": "stream",
          "text": [
            "[0 1]\n"
          ],
          "name": "stdout"
        }
      ]
    },
    {
      "cell_type": "code",
      "metadata": {
        "id": "XP2SIYgMkTb-"
      },
      "source": [
        "def get_avg_polarity(message):\r\n",
        "  sn = SenticNet()\r\n",
        "  count = 0\r\n",
        "  summ = 0\r\n",
        "  polarity=0\r\n",
        "  for word in (message):\r\n",
        "    try:\r\n",
        "      concept = sn.concept(word)\r\n",
        "      polarity = float(concept['polarity_value'])\r\n",
        "      print(polarity)\r\n",
        "      print(count)\r\n",
        "      #break\r\n",
        "    except KeyError:\r\n",
        "        pass\r\n",
        " \r\n",
        "    summ += polarity\r\n",
        "    count += 1\r\n",
        "  print(summ)\r\n",
        "  print(count)\r\n",
        "  return summ/count if count>0 else 0\r\n"
      ],
      "execution_count": null,
      "outputs": []
    },
    {
      "cell_type": "code",
      "metadata": {
        "colab": {
          "base_uri": "https://localhost:8080/"
        },
        "id": "GP1wPVPcklh7",
        "outputId": "17ca4ec8-35f8-4ba1-f372-59cffce5896c"
      },
      "source": [
        "get_avg_polarity(['I', 'book', 'love'])"
      ],
      "execution_count": null,
      "outputs": [
        {
          "output_type": "stream",
          "text": [
            "0.83\n",
            "2\n",
            "0.83\n",
            "3\n"
          ],
          "name": "stdout"
        },
        {
          "output_type": "execute_result",
          "data": {
            "text/plain": [
              "0.27666666666666667"
            ]
          },
          "metadata": {
            "tags": []
          },
          "execution_count": 33
        }
      ]
    },
    {
      "cell_type": "code",
      "metadata": {
        "colab": {
          "base_uri": "https://localhost:8080/"
        },
        "id": "lHsop6LM66sH",
        "outputId": "f8f029ab-0356-42d9-c2cb-936205a5251e"
      },
      "source": [
        "!pip install twitter"
      ],
      "execution_count": null,
      "outputs": [
        {
          "output_type": "stream",
          "text": [
            "Collecting twitter\n",
            "\u001b[?25l  Downloading https://files.pythonhosted.org/packages/85/e2/f602e3f584503f03e0389491b251464f8ecfe2596ac86e6b9068fe7419d3/twitter-1.18.0-py2.py3-none-any.whl (54kB)\n",
            "\u001b[K     |████████████████████████████████| 61kB 3.2MB/s \n",
            "\u001b[?25hInstalling collected packages: twitter\n",
            "Successfully installed twitter-1.18.0\n"
          ],
          "name": "stdout"
        }
      ]
    },
    {
      "cell_type": "code",
      "metadata": {
        "id": "SouJ7D_m6lRh"
      },
      "source": [
        "#import urllib2\n",
        "#import twitter\n",
        "from nltk.stem import WordNetLemmatizer\n",
        "from nltk.stem.snowball import EnglishStemmer\n",
        "import re\n",
        "from senticnet.senticnet import SenticNet"
      ],
      "execution_count": null,
      "outputs": []
    },
    {
      "cell_type": "code",
      "metadata": {
        "colab": {
          "base_uri": "https://localhost:8080/"
        },
        "id": "aL2g2DOY7mE5",
        "outputId": "17f8fbc9-279a-4a73-d251-c4251125afd3"
      },
      "source": [
        "import nltk\n",
        "nltk.download('wordnet')"
      ],
      "execution_count": null,
      "outputs": [
        {
          "output_type": "stream",
          "text": [
            "[nltk_data] Downloading package wordnet to /root/nltk_data...\n",
            "[nltk_data]   Unzipping corpora/wordnet.zip.\n"
          ],
          "name": "stdout"
        },
        {
          "output_type": "execute_result",
          "data": {
            "text/plain": [
              "True"
            ]
          },
          "metadata": {
            "tags": []
          },
          "execution_count": 36
        }
      ]
    },
    {
      "cell_type": "code",
      "metadata": {
        "id": "ohmEDaUa7_zs"
      },
      "source": [
        "import urllib\n"
      ],
      "execution_count": null,
      "outputs": []
    },
    {
      "cell_type": "code",
      "metadata": {
        "id": "T3_FzDxl7HGa"
      },
      "source": [
        "def get_words_bag(message):\n",
        "  wnl = WordNetLemmatizer()\n",
        "  es = EnglishStemmer()\n",
        "  for word in re.finditer(\"\\w+\", message):\n",
        "    yield (wnl.lemmatize(word.group()), es.stem(word.group()))\n",
        "\n",
        "def get_avg_polarity(message):\n",
        "  threshold = 0.3\n",
        "  sn = SenticNet()\n",
        "  count = 0\n",
        "  summ = 0\n",
        "  for word_options in get_words_bag(message):\n",
        "    polarity = 0\n",
        "    for word in word_options:\n",
        "      try:\n",
        "        concept = sn.concept(word)\n",
        "        polarity = concept['polarity']\n",
        "        break\n",
        "      except urllib.error.HTTPError:\n",
        "        pass #Do next\n",
        "    if abs(polarity) > threshold:\n",
        "      summ += polarity\n",
        "      count += 1\n",
        "\n",
        "  return summ / count if count > 0 else 0\n"
      ],
      "execution_count": null,
      "outputs": []
    },
    {
      "cell_type": "code",
      "metadata": {
        "id": "eNr0Y48fRY1k"
      },
      "source": [
        "import torch\r\n",
        "import torch.nn as nn\r\n",
        "import torch.utils.data as data_utils\r\n",
        "import numpy as np\r\n",
        "import torch.optim as optim\r\n",
        "import torch.nn.functional as F\r\n",
        "\r\n"
      ],
      "execution_count": null,
      "outputs": []
    },
    {
      "cell_type": "code",
      "metadata": {
        "colab": {
          "base_uri": "https://localhost:8080/"
        },
        "id": "yyEJxp8_z0pX",
        "outputId": "b04efc7c-7fdb-471c-f32d-e047c8a3381e"
      },
      "source": [
        "df_train['label'][1]\r\n",
        "#torch.LongTensor(0)\r\n",
        "\r\n"
      ],
      "execution_count": null,
      "outputs": [
        {
          "output_type": "execute_result",
          "data": {
            "text/plain": [
              "1"
            ]
          },
          "metadata": {
            "tags": []
          },
          "execution_count": 40
        }
      ]
    },
    {
      "cell_type": "code",
      "metadata": {
        "colab": {
          "base_uri": "https://localhost:8080/"
        },
        "id": "v-xFBKADrD1a",
        "outputId": "3e071e00-5e94-41b8-d8ba-aa550df0e7c0"
      },
      "source": [
        "labels_train=torch.tensor(df_train['label'][1], dtype=torch.long)\r\n",
        "print(labels_train)\r\n",
        "labels_train.view(1,)\r\n"
      ],
      "execution_count": null,
      "outputs": [
        {
          "output_type": "stream",
          "text": [
            "tensor(1)\n"
          ],
          "name": "stdout"
        },
        {
          "output_type": "execute_result",
          "data": {
            "text/plain": [
              "tensor([1])"
            ]
          },
          "metadata": {
            "tags": []
          },
          "execution_count": 41
        }
      ]
    },
    {
      "cell_type": "code",
      "metadata": {
        "colab": {
          "base_uri": "https://localhost:8080/"
        },
        "id": "jdpK6I0go0Hh",
        "outputId": "98f21f66-8ab9-4596-d70a-93d489b2eb70"
      },
      "source": [
        "print(type(df_train.iloc[0,2:]))"
      ],
      "execution_count": null,
      "outputs": [
        {
          "output_type": "stream",
          "text": [
            "<class 'pandas.core.series.Series'>\n"
          ],
          "name": "stdout"
        }
      ]
    },
    {
      "cell_type": "code",
      "metadata": {
        "id": "8lBZ19KqoxQW"
      },
      "source": [
        "word_vec = torch.zeros(6)"
      ],
      "execution_count": null,
      "outputs": []
    },
    {
      "cell_type": "code",
      "metadata": {
        "colab": {
          "base_uri": "https://localhost:8080/"
        },
        "id": "RJ_bZC6uqWoe",
        "outputId": "0df110c0-a71d-47f9-a1ba-ac93b2505707"
      },
      "source": [
        "for i in range (6):\r\n",
        "    word_vec[i]= df_train.iloc[5,2:][i]\r\n",
        "print(word_vec)\r\n",
        "print(word_vec.shape)\r\n",
        "word_vec.view(1,-1)\r\n",
        "print(word_vec.shape)\r\n"
      ],
      "execution_count": null,
      "outputs": [
        {
          "output_type": "stream",
          "text": [
            "tensor([-0.3255,  0.0000, -0.2586, -0.1870, -0.3818, -0.8440])\n",
            "torch.Size([6])\n",
            "torch.Size([6])\n"
          ],
          "name": "stdout"
        }
      ]
    },
    {
      "cell_type": "code",
      "metadata": {
        "colab": {
          "base_uri": "https://localhost:8080/",
          "height": 53
        },
        "id": "31ZEYRj4nCax",
        "outputId": "638c643c-e366-4411-e95c-519962d3510a"
      },
      "source": [
        "\"\"\"feature_number=6 #corpus_size\r\n",
        "for i in range(dataframe.shape[0]):\r\n",
        "  word_vec = torch.zeros(feature_number) for word in sentence:\r\n",
        "  word_vec[i] += 1\r\n",
        "return word_vec.view(1, -1)\"\"\"\r\n",
        "\r\n"
      ],
      "execution_count": null,
      "outputs": [
        {
          "output_type": "execute_result",
          "data": {
            "application/vnd.google.colaboratory.intrinsic+json": {
              "type": "string"
            },
            "text/plain": [
              "'feature_number=6 #corpus_size\\nfor i in range(dataframe.shape[0]):\\n  word_vec = torch.zeros(feature_number) for word in sentence:\\n  word_vec[i] += 1\\nreturn word_vec.view(1, -1)'"
            ]
          },
          "metadata": {
            "tags": []
          },
          "execution_count": 45
        }
      ]
    },
    {
      "cell_type": "code",
      "metadata": {
        "id": "MbWbHmYXQNAo"
      },
      "source": [
        "class Classifier(nn.Module):  \r\n",
        "  \"\"\"cinsists of a single linear layer with log softmax activation, approximating a logistic regression\"\"\"\r\n",
        "  def __init__(self, no_classes, feature_size): \r\n",
        "    super(Classifier, self).__init__() \r\n",
        "\r\n",
        "    self.linear = nn.Linear(feature_size, no_classes) #input & output size\r\n",
        "\r\n",
        "  def forward(self, bow_vec): \r\n",
        "    return F.log_softmax(self.linear(bow_vec), dim=1) #gives out probabilities\r\n",
        "\r\n"
      ],
      "execution_count": null,
      "outputs": []
    },
    {
      "cell_type": "code",
      "metadata": {
        "id": "jGomxAQ9Rcmr"
      },
      "source": [
        "no_classes=2\r\n",
        "feature_size=6\r\n",
        "model = Classifier(no_classes, feature_size)\r\n",
        "loss_function = nn.NLLLoss() # Negative log likelihood\r\n",
        "optimizer = optim.SGD(model.parameters(), lr=0.01) \r\n"
      ],
      "execution_count": null,
      "outputs": []
    },
    {
      "cell_type": "code",
      "metadata": {
        "colab": {
          "base_uri": "https://localhost:8080/"
        },
        "id": "zM-Jabr3Wzm3",
        "outputId": "4326141e-4599-4d90-d27e-6ee29dc8b005"
      },
      "source": [
        "for epoch in range(100): \r\n",
        "  #for sentence, label in training_data: \r\n",
        "  for i in range(df_train.shape[0]):\r\n",
        "    model.zero_grad() \r\n",
        "    word_vec = torch.zeros(6)\r\n",
        "\r\n",
        "    for j in range (6):\r\n",
        "      word_vec[j]= df_train.iloc[i,2:][j]\r\n",
        "    word_vec=word_vec.view(1,-1)\r\n",
        "\r\n",
        "    target = torch.tensor(df_train['label'][i], dtype=torch.long)\r\n",
        "    target=target.view(1,)\r\n",
        "\r\n",
        "    log_probs = model(word_vec)  #Forward\r\n",
        "    loss = loss_function(log_probs, target) \r\n",
        "    loss.backward()\r\n",
        "    optimizer.step() #Update parameters\r\n",
        "  if epoch % 10 == 0: \r\n",
        "    print('Epoch: ',str(epoch+1),', Loss: ' +                         str(loss.item()))\r\n",
        "\r\n"
      ],
      "execution_count": null,
      "outputs": [
        {
          "output_type": "stream",
          "text": [
            "Epoch:  1 , Loss: 0.6116650700569153\n",
            "Epoch:  11 , Loss: 0.41470834612846375\n",
            "Epoch:  21 , Loss: 0.4117603302001953\n",
            "Epoch:  31 , Loss: 0.4051523208618164\n",
            "Epoch:  41 , Loss: 0.3995056748390198\n",
            "Epoch:  51 , Loss: 0.39557868242263794\n",
            "Epoch:  61 , Loss: 0.3929850161075592\n",
            "Epoch:  71 , Loss: 0.3913000822067261\n",
            "Epoch:  81 , Loss: 0.39021533727645874\n",
            "Epoch:  91 , Loss: 0.3895242512226105\n"
          ],
          "name": "stdout"
        }
      ]
    },
    {
      "cell_type": "code",
      "metadata": {
        "colab": {
          "base_uri": "https://localhost:8080/"
        },
        "id": "Qxc_FzKXYJ8I",
        "outputId": "18e13b19-7715-4615-f0e2-f68acbd9391a"
      },
      "source": [
        "word_vec = torch.zeros(6)\r\n",
        "for i in range (6):\r\n",
        "    word_vec[i]= df_train.iloc[5,2:][i]\r\n",
        "print(word_vec)\r\n",
        "print(word_vec.shape)\r\n",
        "word_vec=word_vec.view(1,-1)\r\n",
        "print(word_vec.shape)\r\n",
        "print(word_vec)"
      ],
      "execution_count": null,
      "outputs": [
        {
          "output_type": "stream",
          "text": [
            "tensor([-0.3255,  0.0000, -0.2586, -0.1870, -0.3818, -0.8440])\n",
            "torch.Size([6])\n",
            "torch.Size([1, 6])\n",
            "tensor([[-0.3255,  0.0000, -0.2586, -0.1870, -0.3818, -0.8440]])\n"
          ],
          "name": "stdout"
        }
      ]
    },
    {
      "cell_type": "code",
      "metadata": {
        "colab": {
          "base_uri": "https://localhost:8080/"
        },
        "id": "P9kuYr_CU53P",
        "outputId": "8e5fc9e9-6585-4b70-f1a7-015c2ea4964a"
      },
      "source": [
        "def make_predictions(word_vec): \r\n",
        "  with torch.no_grad(): #deactivate the autograd \r\n",
        "    #sentence = data[0] \r\n",
        "    label = \"one\"\r\n",
        "    log_probs = model(word_vec) \r\n",
        "    #print(sentence) \r\n",
        "    print(label + ':') #true label \r\n",
        "    print(np.exp(log_probs)) # convert the log probabilities into probabilities\r\n",
        "    return np.exp(log_probs)  #first probability i.e., index 0 refers to 0th class i.e. not depression\r\n",
        "\r\n",
        "a=make_predictions(word_vec)\r\n",
        "a.sum()\r\n",
        "\r\n"
      ],
      "execution_count": null,
      "outputs": [
        {
          "output_type": "stream",
          "text": [
            "one:\n",
            "tensor([[0.5885, 0.4115]])\n"
          ],
          "name": "stdout"
        },
        {
          "output_type": "execute_result",
          "data": {
            "text/plain": [
              "tensor(1.)"
            ]
          },
          "metadata": {
            "tags": []
          },
          "execution_count": 50
        }
      ]
    },
    {
      "cell_type": "code",
      "metadata": {
        "colab": {
          "base_uri": "https://localhost:8080/",
          "height": 215
        },
        "id": "P3SvzpnOPKt6",
        "outputId": "f67fa669-2600-4daf-d6a5-622eeebf3f5a"
      },
      "source": [
        "X = df_train.iloc[:, 2:]\r\n",
        "y = df_train.iloc[:, 0]\r\n",
        "\r\n",
        "print(type(X))\r\n",
        "X.head()\r\n"
      ],
      "execution_count": null,
      "outputs": [
        {
          "output_type": "stream",
          "text": [
            "<class 'pandas.core.frame.DataFrame'>\n"
          ],
          "name": "stdout"
        },
        {
          "output_type": "execute_result",
          "data": {
            "text/html": [
              "<div>\n",
              "<style scoped>\n",
              "    .dataframe tbody tr th:only-of-type {\n",
              "        vertical-align: middle;\n",
              "    }\n",
              "\n",
              "    .dataframe tbody tr th {\n",
              "        vertical-align: top;\n",
              "    }\n",
              "\n",
              "    .dataframe thead th {\n",
              "        text-align: right;\n",
              "    }\n",
              "</style>\n",
              "<table border=\"1\" class=\"dataframe\">\n",
              "  <thead>\n",
              "    <tr style=\"text-align: right;\">\n",
              "      <th></th>\n",
              "      <th>polarity_value</th>\n",
              "      <th>polarity_label</th>\n",
              "      <th>sensitivity</th>\n",
              "      <th>introspection</th>\n",
              "      <th>temper</th>\n",
              "      <th>attitude</th>\n",
              "    </tr>\n",
              "  </thead>\n",
              "  <tbody>\n",
              "    <tr>\n",
              "      <th>0</th>\n",
              "      <td>0.215175</td>\n",
              "      <td>0.0</td>\n",
              "      <td>0.219647</td>\n",
              "      <td>0.098545</td>\n",
              "      <td>0.351780</td>\n",
              "      <td>0.146265</td>\n",
              "    </tr>\n",
              "    <tr>\n",
              "      <th>1</th>\n",
              "      <td>2.021549</td>\n",
              "      <td>0.0</td>\n",
              "      <td>1.233556</td>\n",
              "      <td>0.959264</td>\n",
              "      <td>0.389721</td>\n",
              "      <td>2.423386</td>\n",
              "    </tr>\n",
              "    <tr>\n",
              "      <th>2</th>\n",
              "      <td>-0.042206</td>\n",
              "      <td>0.0</td>\n",
              "      <td>-0.076077</td>\n",
              "      <td>-0.073598</td>\n",
              "      <td>-0.318518</td>\n",
              "      <td>0.215108</td>\n",
              "    </tr>\n",
              "    <tr>\n",
              "      <th>3</th>\n",
              "      <td>-0.022181</td>\n",
              "      <td>0.0</td>\n",
              "      <td>0.211197</td>\n",
              "      <td>0.362226</td>\n",
              "      <td>-0.527195</td>\n",
              "      <td>-0.711627</td>\n",
              "    </tr>\n",
              "    <tr>\n",
              "      <th>4</th>\n",
              "      <td>0.348282</td>\n",
              "      <td>0.0</td>\n",
              "      <td>0.180780</td>\n",
              "      <td>0.873192</td>\n",
              "      <td>0.073543</td>\n",
              "      <td>0.479890</td>\n",
              "    </tr>\n",
              "  </tbody>\n",
              "</table>\n",
              "</div>"
            ],
            "text/plain": [
              "   polarity_value  polarity_label  ...    temper  attitude\n",
              "0        0.215175             0.0  ...  0.351780  0.146265\n",
              "1        2.021549             0.0  ...  0.389721  2.423386\n",
              "2       -0.042206             0.0  ... -0.318518  0.215108\n",
              "3       -0.022181             0.0  ... -0.527195 -0.711627\n",
              "4        0.348282             0.0  ...  0.073543  0.479890\n",
              "\n",
              "[5 rows x 6 columns]"
            ]
          },
          "metadata": {
            "tags": []
          },
          "execution_count": 51
        }
      ]
    },
    {
      "cell_type": "code",
      "metadata": {
        "colab": {
          "base_uri": "https://localhost:8080/"
        },
        "id": "BgqIRRhYPXJX",
        "outputId": "3151f9ae-8331-4315-ac8e-731743aedeea"
      },
      "source": [
        "y.head()"
      ],
      "execution_count": null,
      "outputs": [
        {
          "output_type": "execute_result",
          "data": {
            "text/plain": [
              "0    0\n",
              "1    1\n",
              "2    0\n",
              "3    0\n",
              "4    0\n",
              "Name: label, dtype: object"
            ]
          },
          "metadata": {
            "tags": []
          },
          "execution_count": 52
        }
      ]
    },
    {
      "cell_type": "code",
      "metadata": {
        "id": "TQM56L89P6AD"
      },
      "source": [
        "#Train test split\r\n",
        "X_train, X_test, y_train, y_test = train_test_split(X, y, test_size=0.33, random_state=69)"
      ],
      "execution_count": null,
      "outputs": []
    },
    {
      "cell_type": "code",
      "metadata": {
        "id": "FFfYfoxVQXo4"
      },
      "source": [
        "#Standardize\r\n",
        "scaler = StandardScaler()\r\n",
        "X_train = scaler.fit_transform(X_train)\r\n",
        "X_test = scaler.transform(X_test)"
      ],
      "execution_count": null,
      "outputs": []
    },
    {
      "cell_type": "code",
      "metadata": {
        "id": "XkjSzFYmQfha"
      },
      "source": [
        "EPOCHS = 200\r\n",
        "BATCH_SIZE = 64\r\n",
        "LEARNING_RATE = 0.001"
      ],
      "execution_count": null,
      "outputs": []
    },
    {
      "cell_type": "code",
      "metadata": {
        "id": "V9WIlPMwQhtR"
      },
      "source": [
        "## train data\r\n",
        "class trainData(Dataset):\r\n",
        "    \r\n",
        "    def __init__(self, X_data, y_data):\r\n",
        "        self.X_data = X_data\r\n",
        "        self.y_data = y_data\r\n",
        "        \r\n",
        "    def __getitem__(self, index):\r\n",
        "        return self.X_data[index], self.y_data[index]\r\n",
        "        \r\n",
        "    def __len__ (self):\r\n",
        "        return len(self.X_data)\r\n",
        "\r\n",
        "\r\n",
        "train_data = trainData(torch.FloatTensor(X_train), \r\n",
        "                       torch.FloatTensor(y_train))\r\n",
        "## test data    \r\n",
        "class testData(Dataset):\r\n",
        "    \r\n",
        "    def __init__(self, X_data):\r\n",
        "        self.X_data = X_data\r\n",
        "        \r\n",
        "    def __getitem__(self, index):\r\n",
        "        return self.X_data[index]\r\n",
        "        \r\n",
        "    def __len__ (self):\r\n",
        "        return len(self.X_data)\r\n",
        "    \r\n",
        "\r\n",
        "test_data = testData(torch.FloatTensor(X_test))"
      ],
      "execution_count": null,
      "outputs": []
    },
    {
      "cell_type": "code",
      "metadata": {
        "id": "WMv96KIDQo_j"
      },
      "source": [
        "train_loader = DataLoader(dataset=train_data, batch_size=BATCH_SIZE, shuffle=True)\r\n",
        "test_loader = DataLoader(dataset=test_data, batch_size=1)"
      ],
      "execution_count": null,
      "outputs": []
    },
    {
      "cell_type": "code",
      "metadata": {
        "id": "qLV0e-HqQshq"
      },
      "source": [
        "class binaryClassification(nn.Module):\r\n",
        "    def __init__(self):\r\n",
        "        super(binaryClassification, self).__init__()\r\n",
        "        # Number of input features is 6.\r\n",
        "        self.layer_1 = nn.Linear(6, 64)  # The input to the first linear layer is 6. \r\n",
        "        self.layer_2 = nn.Linear(64, 64)\r\n",
        "        self.layer_out = nn.Linear(64, 1) \r\n",
        "        \r\n",
        "        self.relu = nn.ReLU()\r\n",
        "        self.dropout = nn.Dropout(p=0.1)\r\n",
        "        self.batchnorm1 = nn.BatchNorm1d(64)\r\n",
        "        self.batchnorm2 = nn.BatchNorm1d(64)\r\n",
        "        \r\n",
        "    def forward(self, inputs): # Takes the input. \r\n",
        "        x = self.relu(self.layer_1(inputs))\r\n",
        "        x = self.batchnorm1(x)\r\n",
        "        x = self.relu(self.layer_2(x))\r\n",
        "        x = self.batchnorm2(x)\r\n",
        "        x = self.dropout(x)\r\n",
        "        x = self.layer_out(x) # No sigmoid here since BCEWithLogitsLoss applies sigmoid automatically. \r\n",
        "        \r\n",
        "        return x"
      ],
      "execution_count": null,
      "outputs": []
    },
    {
      "cell_type": "code",
      "metadata": {
        "colab": {
          "base_uri": "https://localhost:8080/"
        },
        "id": "2YLlysMPQvzZ",
        "outputId": "d69303b1-4747-4bc4-aa0f-58ff6521d0d4"
      },
      "source": [
        "device = torch.device(\"cuda:0\" if torch.cuda.is_available() else \"cpu\")\r\n",
        "print(device)"
      ],
      "execution_count": null,
      "outputs": [
        {
          "output_type": "stream",
          "text": [
            "cuda:0\n"
          ],
          "name": "stdout"
        }
      ]
    },
    {
      "cell_type": "code",
      "metadata": {
        "colab": {
          "base_uri": "https://localhost:8080/"
        },
        "id": "kCTrctgQQy5A",
        "outputId": "f65e47e7-aedd-43ee-d2c2-027d758e4e90"
      },
      "source": [
        "model = binaryClassification()\r\n",
        "model.to(device)\r\n",
        "print(model)\r\n",
        "criterion = nn.BCEWithLogitsLoss() # Used when the output from the network is a tensor of length 2 (final dense layer is of size 2) where both values lie between 0 and 1.\r\n",
        "optimizer = optim.Adam(model.parameters(), lr=LEARNING_RATE)"
      ],
      "execution_count": null,
      "outputs": [
        {
          "output_type": "stream",
          "text": [
            "binaryClassification(\n",
            "  (layer_1): Linear(in_features=6, out_features=64, bias=True)\n",
            "  (layer_2): Linear(in_features=64, out_features=64, bias=True)\n",
            "  (layer_out): Linear(in_features=64, out_features=1, bias=True)\n",
            "  (relu): ReLU()\n",
            "  (dropout): Dropout(p=0.1, inplace=False)\n",
            "  (batchnorm1): BatchNorm1d(64, eps=1e-05, momentum=0.1, affine=True, track_running_stats=True)\n",
            "  (batchnorm2): BatchNorm1d(64, eps=1e-05, momentum=0.1, affine=True, track_running_stats=True)\n",
            ")\n"
          ],
          "name": "stdout"
        }
      ]
    },
    {
      "cell_type": "code",
      "metadata": {
        "id": "7wVTUNFJQ148"
      },
      "source": [
        "def binary_acc(y_pred, y_test):\r\n",
        "    y_pred_tag = torch.round(torch.sigmoid(y_pred))\r\n",
        "\r\n",
        "    correct_results_sum = (y_pred_tag == y_test).sum().float()\r\n",
        "    acc = correct_results_sum/y_test.shape[0]\r\n",
        "    acc = torch.round(acc * 100)\r\n",
        "    \r\n",
        "    return acc"
      ],
      "execution_count": null,
      "outputs": []
    },
    {
      "cell_type": "code",
      "metadata": {
        "colab": {
          "base_uri": "https://localhost:8080/"
        },
        "id": "P1eQDLSTQ46a",
        "outputId": "c25de331-3b4a-46a5-f079-e3959509642f"
      },
      "source": [
        "model.train()\r\n",
        "for e in range(1, EPOCHS+1):\r\n",
        "    epoch_loss = 0\r\n",
        "    epoch_acc = 0\r\n",
        "    for X_batch, y_batch in train_loader:\r\n",
        "        X_batch, y_batch = X_batch.to(device), y_batch.to(device)\r\n",
        "        optimizer.zero_grad()\r\n",
        "        \r\n",
        "        y_pred = model(X_batch)\r\n",
        "        \r\n",
        "        loss = criterion(y_pred, y_batch.unsqueeze(1))\r\n",
        "        acc = binary_acc(y_pred, y_batch.unsqueeze(1))\r\n",
        "        \r\n",
        "        loss.backward()\r\n",
        "        optimizer.step()\r\n",
        "        \r\n",
        "        epoch_loss += loss.item()\r\n",
        "        epoch_acc += acc.item()\r\n",
        "        \r\n",
        "\r\n",
        "    print(f'Epoch {e+0:03}: | Loss: {epoch_loss/len(train_loader):.5f} | Acc: {epoch_acc/len(train_loader):.3f}')"
      ],
      "execution_count": null,
      "outputs": [
        {
          "output_type": "stream",
          "text": [
            "Epoch 001: | Loss: 0.69961 | Acc: 61.500\n",
            "Epoch 002: | Loss: 0.71833 | Acc: 47.000\n",
            "Epoch 003: | Loss: 0.50394 | Acc: 79.500\n",
            "Epoch 004: | Loss: 0.55288 | Acc: 64.500\n",
            "Epoch 005: | Loss: 0.62894 | Acc: 67.000\n",
            "Epoch 006: | Loss: 0.60045 | Acc: 68.500\n",
            "Epoch 007: | Loss: 0.72345 | Acc: 69.500\n",
            "Epoch 008: | Loss: 0.69801 | Acc: 51.500\n",
            "Epoch 009: | Loss: 0.52167 | Acc: 67.000\n",
            "Epoch 010: | Loss: 0.67057 | Acc: 54.000\n",
            "Epoch 011: | Loss: 0.58241 | Acc: 70.000\n",
            "Epoch 012: | Loss: 0.60021 | Acc: 54.000\n",
            "Epoch 013: | Loss: 0.48087 | Acc: 69.500\n",
            "Epoch 014: | Loss: 0.60426 | Acc: 72.500\n",
            "Epoch 015: | Loss: 0.48187 | Acc: 86.000\n",
            "Epoch 016: | Loss: 0.68942 | Acc: 72.500\n",
            "Epoch 017: | Loss: 0.45808 | Acc: 88.500\n",
            "Epoch 018: | Loss: 0.63402 | Acc: 36.500\n",
            "Epoch 019: | Loss: 0.65824 | Acc: 74.000\n",
            "Epoch 020: | Loss: 0.41233 | Acc: 88.500\n",
            "Epoch 021: | Loss: 0.61443 | Acc: 72.000\n",
            "Epoch 022: | Loss: 0.46105 | Acc: 71.000\n",
            "Epoch 023: | Loss: 0.64383 | Acc: 72.000\n",
            "Epoch 024: | Loss: 0.39319 | Acc: 87.500\n",
            "Epoch 025: | Loss: 0.39739 | Acc: 89.000\n",
            "Epoch 026: | Loss: 0.41155 | Acc: 90.500\n",
            "Epoch 027: | Loss: 0.45987 | Acc: 89.000\n",
            "Epoch 028: | Loss: 0.63257 | Acc: 55.500\n",
            "Epoch 029: | Loss: 0.65305 | Acc: 73.500\n",
            "Epoch 030: | Loss: 0.59911 | Acc: 75.000\n",
            "Epoch 031: | Loss: 0.66888 | Acc: 73.500\n",
            "Epoch 032: | Loss: 0.54811 | Acc: 74.000\n",
            "Epoch 033: | Loss: 0.64136 | Acc: 55.500\n",
            "Epoch 034: | Loss: 0.32815 | Acc: 89.000\n",
            "Epoch 035: | Loss: 0.59382 | Acc: 73.500\n",
            "Epoch 036: | Loss: 0.45940 | Acc: 90.500\n",
            "Epoch 037: | Loss: 0.49738 | Acc: 74.000\n",
            "Epoch 038: | Loss: 0.73651 | Acc: 56.500\n",
            "Epoch 039: | Loss: 0.53697 | Acc: 73.500\n",
            "Epoch 040: | Loss: 0.49820 | Acc: 59.500\n",
            "Epoch 041: | Loss: 0.49172 | Acc: 76.500\n",
            "Epoch 042: | Loss: 0.50672 | Acc: 75.000\n",
            "Epoch 043: | Loss: 0.35050 | Acc: 90.500\n",
            "Epoch 044: | Loss: 0.55461 | Acc: 76.500\n",
            "Epoch 045: | Loss: 0.54246 | Acc: 76.500\n",
            "Epoch 046: | Loss: 0.48637 | Acc: 76.500\n",
            "Epoch 047: | Loss: 0.40719 | Acc: 93.000\n",
            "Epoch 048: | Loss: 0.57583 | Acc: 59.500\n",
            "Epoch 049: | Loss: 0.49646 | Acc: 76.500\n",
            "Epoch 050: | Loss: 0.58392 | Acc: 75.000\n",
            "Epoch 051: | Loss: 0.49323 | Acc: 75.000\n",
            "Epoch 052: | Loss: 0.50435 | Acc: 76.500\n",
            "Epoch 053: | Loss: 0.53829 | Acc: 75.500\n",
            "Epoch 054: | Loss: 0.82341 | Acc: 61.000\n",
            "Epoch 055: | Loss: 0.50785 | Acc: 91.500\n",
            "Epoch 056: | Loss: 0.49186 | Acc: 75.500\n",
            "Epoch 057: | Loss: 0.46427 | Acc: 94.000\n",
            "Epoch 058: | Loss: 0.39257 | Acc: 92.000\n",
            "Epoch 059: | Loss: 0.34567 | Acc: 90.000\n",
            "Epoch 060: | Loss: 0.51673 | Acc: 75.000\n",
            "Epoch 061: | Loss: 0.47678 | Acc: 91.500\n",
            "Epoch 062: | Loss: 0.53309 | Acc: 75.500\n",
            "Epoch 063: | Loss: 0.38214 | Acc: 91.500\n",
            "Epoch 064: | Loss: 0.42099 | Acc: 94.000\n",
            "Epoch 065: | Loss: 0.39966 | Acc: 94.000\n",
            "Epoch 066: | Loss: 0.43595 | Acc: 92.000\n",
            "Epoch 067: | Loss: 0.63531 | Acc: 59.500\n",
            "Epoch 068: | Loss: 0.47071 | Acc: 77.500\n",
            "Epoch 069: | Loss: 0.42776 | Acc: 94.000\n",
            "Epoch 070: | Loss: 0.68177 | Acc: 59.500\n",
            "Epoch 071: | Loss: 0.29983 | Acc: 93.000\n",
            "Epoch 072: | Loss: 0.48877 | Acc: 77.500\n",
            "Epoch 073: | Loss: 0.31483 | Acc: 91.500\n",
            "Epoch 074: | Loss: 0.43426 | Acc: 76.500\n",
            "Epoch 075: | Loss: 0.41789 | Acc: 91.500\n",
            "Epoch 076: | Loss: 0.63941 | Acc: 59.500\n",
            "Epoch 077: | Loss: 0.45465 | Acc: 76.500\n",
            "Epoch 078: | Loss: 0.28716 | Acc: 92.000\n",
            "Epoch 079: | Loss: 0.29488 | Acc: 94.000\n",
            "Epoch 080: | Loss: 0.43415 | Acc: 75.500\n",
            "Epoch 081: | Loss: 0.46182 | Acc: 76.500\n",
            "Epoch 082: | Loss: 0.57607 | Acc: 61.000\n",
            "Epoch 083: | Loss: 0.44458 | Acc: 78.000\n",
            "Epoch 084: | Loss: 0.56703 | Acc: 75.500\n",
            "Epoch 085: | Loss: 0.27115 | Acc: 93.000\n",
            "Epoch 086: | Loss: 0.39530 | Acc: 77.500\n",
            "Epoch 087: | Loss: 0.58190 | Acc: 76.500\n",
            "Epoch 088: | Loss: 0.41585 | Acc: 94.500\n",
            "Epoch 089: | Loss: 0.26893 | Acc: 92.000\n",
            "Epoch 090: | Loss: 0.71924 | Acc: 62.000\n",
            "Epoch 091: | Loss: 0.44173 | Acc: 77.500\n",
            "Epoch 092: | Loss: 0.39211 | Acc: 79.000\n",
            "Epoch 093: | Loss: 0.28692 | Acc: 94.000\n",
            "Epoch 094: | Loss: 0.44856 | Acc: 78.000\n",
            "Epoch 095: | Loss: 0.28740 | Acc: 96.000\n",
            "Epoch 096: | Loss: 0.44832 | Acc: 77.500\n",
            "Epoch 097: | Loss: 0.56321 | Acc: 78.000\n",
            "Epoch 098: | Loss: 0.40129 | Acc: 77.500\n",
            "Epoch 099: | Loss: 0.37941 | Acc: 94.500\n",
            "Epoch 100: | Loss: 0.64997 | Acc: 62.000\n",
            "Epoch 101: | Loss: 0.44948 | Acc: 78.000\n",
            "Epoch 102: | Loss: 0.37274 | Acc: 95.500\n",
            "Epoch 103: | Loss: 0.38111 | Acc: 79.000\n",
            "Epoch 104: | Loss: 0.36189 | Acc: 79.500\n",
            "Epoch 105: | Loss: 0.27986 | Acc: 95.500\n",
            "Epoch 106: | Loss: 0.27184 | Acc: 95.500\n",
            "Epoch 107: | Loss: 0.35999 | Acc: 95.500\n",
            "Epoch 108: | Loss: 0.39707 | Acc: 79.000\n",
            "Epoch 109: | Loss: 0.35216 | Acc: 95.500\n",
            "Epoch 110: | Loss: 0.46024 | Acc: 79.500\n",
            "Epoch 111: | Loss: 0.35552 | Acc: 96.000\n",
            "Epoch 112: | Loss: 0.33776 | Acc: 97.000\n",
            "Epoch 113: | Loss: 0.35771 | Acc: 78.000\n",
            "Epoch 114: | Loss: 0.22107 | Acc: 96.000\n",
            "Epoch 115: | Loss: 0.45473 | Acc: 79.500\n",
            "Epoch 116: | Loss: 0.26760 | Acc: 94.500\n",
            "Epoch 117: | Loss: 0.29432 | Acc: 94.000\n",
            "Epoch 118: | Loss: 0.22459 | Acc: 94.500\n",
            "Epoch 119: | Loss: 0.40583 | Acc: 79.000\n",
            "Epoch 120: | Loss: 0.42468 | Acc: 61.000\n",
            "Epoch 121: | Loss: 0.66213 | Acc: 62.000\n",
            "Epoch 122: | Loss: 0.35559 | Acc: 79.500\n",
            "Epoch 123: | Loss: 0.38892 | Acc: 79.000\n",
            "Epoch 124: | Loss: 0.37564 | Acc: 79.000\n",
            "Epoch 125: | Loss: 0.31494 | Acc: 96.000\n",
            "Epoch 126: | Loss: 0.35775 | Acc: 78.000\n",
            "Epoch 127: | Loss: 0.36195 | Acc: 78.000\n",
            "Epoch 128: | Loss: 0.26948 | Acc: 95.500\n",
            "Epoch 129: | Loss: 0.29152 | Acc: 96.000\n",
            "Epoch 130: | Loss: 0.32292 | Acc: 94.500\n",
            "Epoch 131: | Loss: 0.34823 | Acc: 79.000\n",
            "Epoch 132: | Loss: 0.31307 | Acc: 95.500\n",
            "Epoch 133: | Loss: 0.23685 | Acc: 95.500\n",
            "Epoch 134: | Loss: 0.62183 | Acc: 80.500\n",
            "Epoch 135: | Loss: 0.22321 | Acc: 94.500\n",
            "Epoch 136: | Loss: 0.46306 | Acc: 62.000\n",
            "Epoch 137: | Loss: 0.53476 | Acc: 80.500\n",
            "Epoch 138: | Loss: 0.33115 | Acc: 94.500\n",
            "Epoch 139: | Loss: 0.28183 | Acc: 96.000\n",
            "Epoch 140: | Loss: 0.34849 | Acc: 79.500\n",
            "Epoch 141: | Loss: 0.32113 | Acc: 94.500\n",
            "Epoch 142: | Loss: 0.28804 | Acc: 95.500\n",
            "Epoch 143: | Loss: 0.19160 | Acc: 95.500\n",
            "Epoch 144: | Loss: 0.29957 | Acc: 97.000\n",
            "Epoch 145: | Loss: 0.32458 | Acc: 79.000\n",
            "Epoch 146: | Loss: 0.23334 | Acc: 95.500\n",
            "Epoch 147: | Loss: 0.38852 | Acc: 79.500\n",
            "Epoch 148: | Loss: 0.60624 | Acc: 79.500\n",
            "Epoch 149: | Loss: 0.39304 | Acc: 63.500\n",
            "Epoch 150: | Loss: 0.22827 | Acc: 95.500\n",
            "Epoch 151: | Loss: 0.28409 | Acc: 96.000\n",
            "Epoch 152: | Loss: 0.32953 | Acc: 79.000\n",
            "Epoch 153: | Loss: 0.25270 | Acc: 95.500\n",
            "Epoch 154: | Loss: 0.28775 | Acc: 95.500\n",
            "Epoch 155: | Loss: 0.36804 | Acc: 79.000\n",
            "Epoch 156: | Loss: 0.40842 | Acc: 80.500\n",
            "Epoch 157: | Loss: 0.39594 | Acc: 79.500\n",
            "Epoch 158: | Loss: 0.25322 | Acc: 95.500\n",
            "Epoch 159: | Loss: 0.99265 | Acc: 47.000\n",
            "Epoch 160: | Loss: 0.37083 | Acc: 80.500\n",
            "Epoch 161: | Loss: 0.26931 | Acc: 94.500\n",
            "Epoch 162: | Loss: 0.20130 | Acc: 95.500\n",
            "Epoch 163: | Loss: 0.25847 | Acc: 97.000\n",
            "Epoch 164: | Loss: 0.30191 | Acc: 79.000\n",
            "Epoch 165: | Loss: 0.29477 | Acc: 94.000\n",
            "Epoch 166: | Loss: 0.30317 | Acc: 97.000\n",
            "Epoch 167: | Loss: 0.18531 | Acc: 95.500\n",
            "Epoch 168: | Loss: 0.18422 | Acc: 95.500\n",
            "Epoch 169: | Loss: 0.55873 | Acc: 62.500\n",
            "Epoch 170: | Loss: 0.34672 | Acc: 79.000\n",
            "Epoch 171: | Loss: 0.35301 | Acc: 80.500\n",
            "Epoch 172: | Loss: 0.31297 | Acc: 80.500\n",
            "Epoch 173: | Loss: 0.34751 | Acc: 80.500\n",
            "Epoch 174: | Loss: 0.14739 | Acc: 96.000\n",
            "Epoch 175: | Loss: 0.33065 | Acc: 80.500\n",
            "Epoch 176: | Loss: 0.45673 | Acc: 80.500\n",
            "Epoch 177: | Loss: 0.31007 | Acc: 97.000\n",
            "Epoch 178: | Loss: 0.28518 | Acc: 79.000\n",
            "Epoch 179: | Loss: 0.59966 | Acc: 80.500\n",
            "Epoch 180: | Loss: 0.18997 | Acc: 97.000\n",
            "Epoch 181: | Loss: 0.26257 | Acc: 94.500\n",
            "Epoch 182: | Loss: 0.54544 | Acc: 63.500\n",
            "Epoch 183: | Loss: 0.65368 | Acc: 80.500\n",
            "Epoch 184: | Loss: 0.37413 | Acc: 79.500\n",
            "Epoch 185: | Loss: 0.26514 | Acc: 95.500\n",
            "Epoch 186: | Loss: 0.26276 | Acc: 95.500\n",
            "Epoch 187: | Loss: 0.27131 | Acc: 95.500\n",
            "Epoch 188: | Loss: 0.40112 | Acc: 79.500\n",
            "Epoch 189: | Loss: 0.21783 | Acc: 96.000\n",
            "Epoch 190: | Loss: 0.38681 | Acc: 77.500\n",
            "Epoch 191: | Loss: 0.56278 | Acc: 79.000\n",
            "Epoch 192: | Loss: 0.38551 | Acc: 80.500\n",
            "Epoch 193: | Loss: 0.24586 | Acc: 95.500\n",
            "Epoch 194: | Loss: 0.31034 | Acc: 80.500\n",
            "Epoch 195: | Loss: 0.31638 | Acc: 79.000\n",
            "Epoch 196: | Loss: 0.29790 | Acc: 80.500\n",
            "Epoch 197: | Loss: 0.75247 | Acc: 79.500\n",
            "Epoch 198: | Loss: 0.29558 | Acc: 79.000\n",
            "Epoch 199: | Loss: 0.34496 | Acc: 79.500\n",
            "Epoch 200: | Loss: 0.23156 | Acc: 94.500\n"
          ],
          "name": "stdout"
        }
      ]
    },
    {
      "cell_type": "code",
      "metadata": {
        "id": "ocamCJalCBI3"
      },
      "source": [
        "y_pred_list = []\n",
        "model.eval()\n",
        "with torch.no_grad():\n",
        "    for X_batch in test_loader:\n",
        "        X_batch = X_batch.to(device)\n",
        "        y_test_pred = model(X_batch)\n",
        "        y_test_pred = torch.sigmoid(y_test_pred)\n",
        "        y_pred_tag = torch.round(y_test_pred)\n",
        "        y_pred_list.append(y_pred_tag.cpu().numpy())\n",
        "\n",
        "y_pred_list = [a.squeeze().tolist() for a in y_pred_list]"
      ],
      "execution_count": null,
      "outputs": []
    },
    {
      "cell_type": "code",
      "metadata": {
        "colab": {
          "base_uri": "https://localhost:8080/"
        },
        "id": "sLRgR5JFDeiu",
        "outputId": "eba71d13-ea5a-403c-d8b0-a0c5e680841b"
      },
      "source": [
        "print(y_test[:10])\n",
        "print(\"--------------\")\n",
        "print(y_pred_list[:10])\n",
        "y_test = [ int(x) for x in y_test ]\n",
        "\n",
        "y_pred_list = [ int(x) for x in y_pred_list ]\n"
      ],
      "execution_count": null,
      "outputs": [
        {
          "output_type": "stream",
          "text": [
            "72    0\n",
            "31    0\n",
            "13    0\n",
            "83    1\n",
            "33    1\n",
            "8     0\n",
            "26    1\n",
            "89    1\n",
            "64    1\n",
            "97    1\n",
            "Name: label, dtype: object\n",
            "--------------\n",
            "[0, 0, 0, 1, 0, 0, 0, 0, 0, 1]\n"
          ],
          "name": "stdout"
        }
      ]
    },
    {
      "cell_type": "code",
      "metadata": {
        "colab": {
          "base_uri": "https://localhost:8080/"
        },
        "id": "SxiAsE1QCGNs",
        "outputId": "b15fb1ce-0870-4aed-8f4c-0f327c4e48e1"
      },
      "source": [
        "confusion_matrix(y_test, y_pred_list)"
      ],
      "execution_count": null,
      "outputs": [
        {
          "output_type": "execute_result",
          "data": {
            "text/plain": [
              "array([[14,  3],\n",
              "       [13,  3]])"
            ]
          },
          "metadata": {
            "tags": []
          },
          "execution_count": 85
        }
      ]
    },
    {
      "cell_type": "code",
      "metadata": {
        "colab": {
          "base_uri": "https://localhost:8080/"
        },
        "id": "RlJmX_ENCJMe",
        "outputId": "995892ee-373e-4582-91a5-39e074f2eeed"
      },
      "source": [
        "print(classification_report(y_test, y_pred_list))\n"
      ],
      "execution_count": null,
      "outputs": [
        {
          "output_type": "stream",
          "text": [
            "              precision    recall  f1-score   support\n",
            "\n",
            "           0       0.52      0.82      0.64        17\n",
            "           1       0.50      0.19      0.27        16\n",
            "\n",
            "    accuracy                           0.52        33\n",
            "   macro avg       0.51      0.51      0.45        33\n",
            "weighted avg       0.51      0.52      0.46        33\n",
            "\n"
          ],
          "name": "stdout"
        }
      ]
    },
    {
      "cell_type": "code",
      "metadata": {
        "id": "ka_tY1nQEser"
      },
      "source": [
        ""
      ],
      "execution_count": null,
      "outputs": []
    }
  ]
}