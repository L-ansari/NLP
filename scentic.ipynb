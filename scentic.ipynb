{
  "nbformat": 4,
  "nbformat_minor": 0,
  "metadata": {
    "accelerator": "GPU",
    "colab": {
      "name": "scentic.ipynb",
      "provenance": [],
      "collapsed_sections": [],
      "machine_shape": "hm",
      "authorship_tag": "ABX9TyPGmEF+s8h6s73gr6NCjIEg",
      "include_colab_link": true
    },
    "kernelspec": {
      "display_name": "Python 3",
      "name": "python3"
    }
  },
  "cells": [
    {
      "cell_type": "markdown",
      "metadata": {
        "id": "view-in-github",
        "colab_type": "text"
      },
      "source": [
        "<a href=\"https://colab.research.google.com/github/L-ansari/Natural-Language-Processing-tasks/blob/master/scentic.ipynb\" target=\"_parent\"><img src=\"https://colab.research.google.com/assets/colab-badge.svg\" alt=\"Open In Colab\"/></a>"
      ]
    },
    {
      "cell_type": "code",
      "metadata": {
        "colab": {
          "base_uri": "https://localhost:8080/"
        },
        "id": "5N0GY0_PntmQ",
        "outputId": "bbcf11f7-4081-4073-8c3f-abacc16a44ea"
      },
      "source": [
        "!pip install senticnet\n"
      ],
      "execution_count": 6,
      "outputs": [
        {
          "output_type": "stream",
          "text": [
            "Requirement already satisfied: senticnet in /usr/local/lib/python3.7/dist-packages (1.6)\n"
          ],
          "name": "stdout"
        }
      ]
    },
    {
      "cell_type": "code",
      "metadata": {
        "id": "62U6jGEgAjiK"
      },
      "source": [
        "import numpy as np\r\n",
        "import pandas as pd\r\n",
        "import seaborn as sns\r\n",
        "from pathlib import Path\r\n",
        "import matplotlib.pyplot as plt\r\n",
        "\r\n",
        "import torch\r\n",
        "import torch.nn as nn\r\n",
        "import torch.optim as optim\r\n",
        "from torch.utils.data import Dataset, DataLoader\r\n",
        "\r\n",
        "from sklearn.preprocessing import StandardScaler    \r\n",
        "from sklearn.model_selection import train_test_split\r\n",
        "from sklearn.metrics import confusion_matrix, classification_report"
      ],
      "execution_count": 7,
      "outputs": []
    },
    {
      "cell_type": "code",
      "metadata": {
        "colab": {
          "base_uri": "https://localhost:8080/"
        },
        "id": "-8XQcKRBAnOu",
        "outputId": "e5822b1e-59a5-42db-b2d1-844dd803567d"
      },
      "source": [
        "from google.colab import drive\r\n",
        "drive.mount(\"/content/drive\", force_remount=True)"
      ],
      "execution_count": 152,
      "outputs": [
        {
          "output_type": "stream",
          "text": [
            "Mounted at /content/drive\n"
          ],
          "name": "stdout"
        }
      ]
    },
    {
      "cell_type": "code",
      "metadata": {
        "id": "Q4pj57gBArXW"
      },
      "source": [
        "df_train= pd.read_csv(Path('/content/drive/My Drive/DSP/data/bachelor/CLPsych_train.csv'))"
      ],
      "execution_count": 153,
      "outputs": []
    },
    {
      "cell_type": "code",
      "metadata": {
        "colab": {
          "base_uri": "https://localhost:8080/",
          "height": 198
        },
        "id": "uAXoftZiAuoI",
        "outputId": "5624770a-b7dd-4620-9fd0-86a84b6d3fde"
      },
      "source": [
        "df_train.head()"
      ],
      "execution_count": 154,
      "outputs": [
        {
          "output_type": "execute_result",
          "data": {
            "text/html": [
              "<div>\n",
              "<style scoped>\n",
              "    .dataframe tbody tr th:only-of-type {\n",
              "        vertical-align: middle;\n",
              "    }\n",
              "\n",
              "    .dataframe tbody tr th {\n",
              "        vertical-align: top;\n",
              "    }\n",
              "\n",
              "    .dataframe thead th {\n",
              "        text-align: right;\n",
              "    }\n",
              "</style>\n",
              "<table border=\"1\" class=\"dataframe\">\n",
              "  <thead>\n",
              "    <tr style=\"text-align: right;\">\n",
              "      <th></th>\n",
              "      <th>label</th>\n",
              "      <th>text</th>\n",
              "    </tr>\n",
              "  </thead>\n",
              "  <tbody>\n",
              "    <tr>\n",
              "      <th>0</th>\n",
              "      <td>depression_ctrl</td>\n",
              "      <td>Game over RT : Life is so unpredictable. Be gr...</td>\n",
              "    </tr>\n",
              "    <tr>\n",
              "      <th>1</th>\n",
              "      <td>depression</td>\n",
              "      <td>Happy ! Guys: please check your balls monthly ...</td>\n",
              "    </tr>\n",
              "    <tr>\n",
              "      <th>2</th>\n",
              "      <td>ptsd_ctrl</td>\n",
              "      <td>You gotta enjoy the view RT : i want a boyfrie...</td>\n",
              "    </tr>\n",
              "    <tr>\n",
              "      <th>3</th>\n",
              "      <td>ptsd_ctrl</td>\n",
              "      <td>I love that I'm so chill about everything RT :...</td>\n",
              "    </tr>\n",
              "    <tr>\n",
              "      <th>4</th>\n",
              "      <td>depression_ctrl</td>\n",
              "      <td>Photo: lkfrannyfrano: hotshxxt: migzfromatx: s...</td>\n",
              "    </tr>\n",
              "  </tbody>\n",
              "</table>\n",
              "</div>"
            ],
            "text/plain": [
              "             label                                               text\n",
              "0  depression_ctrl  Game over RT : Life is so unpredictable. Be gr...\n",
              "1       depression  Happy ! Guys: please check your balls monthly ...\n",
              "2        ptsd_ctrl  You gotta enjoy the view RT : i want a boyfrie...\n",
              "3        ptsd_ctrl  I love that I'm so chill about everything RT :...\n",
              "4  depression_ctrl  Photo: lkfrannyfrano: hotshxxt: migzfromatx: s..."
            ]
          },
          "metadata": {
            "tags": []
          },
          "execution_count": 154
        }
      ]
    },
    {
      "cell_type": "code",
      "metadata": {
        "id": "IQz7roeEnmI5"
      },
      "source": [
        "from senticnet.senticnet import SenticNet\n"
      ],
      "execution_count": 155,
      "outputs": []
    },
    {
      "cell_type": "code",
      "metadata": {
        "id": "C2SH1euPxgxY"
      },
      "source": [
        "sn = SenticNet()\n",
        "concept_info = sn.concept('love')\n",
        "polarity_label = sn.polarity_label('love')\n",
        "polarity_value = sn.polarity_value('love')\n",
        "moodtags = sn.moodtags('love')\n",
        "semantics = sn.semantics('love')\n",
        "sentics = sn.sentics('love')"
      ],
      "execution_count": 156,
      "outputs": []
    },
    {
      "cell_type": "code",
      "metadata": {
        "colab": {
          "base_uri": "https://localhost:8080/"
        },
        "id": "Co70y8vSxhRt",
        "outputId": "09addf6e-6893-45f6-c00f-c20da731c531"
      },
      "source": [
        "print(concept_info )\n",
        "print(polarity_label )\n",
        "print(polarity_value )\n",
        "print(moodtags )\n",
        "print(semantics )\n",
        "print(sentics )"
      ],
      "execution_count": 157,
      "outputs": [
        {
          "output_type": "stream",
          "text": [
            "{'polarity_label': 'positive', 'polarity_value': '0.83', 'sentics': {'introspection': '0.897', 'temper': '0', 'attitude': '0', 'sensitivity': '0.762'}, 'moodtags': ['#joy', '#eagerness'], 'semantics': ['desire_succeed', 'excitement', 'lust', 'passion', 'sexuality']}\n",
            "positive\n",
            "0.83\n",
            "['#joy', '#eagerness']\n",
            "['desire_succeed', 'excitement', 'lust', 'passion', 'sexuality']\n",
            "{'introspection': '0.897', 'temper': '0', 'attitude': '0', 'sensitivity': '0.762'}\n"
          ],
          "name": "stdout"
        }
      ]
    },
    {
      "cell_type": "code",
      "metadata": {
        "colab": {
          "base_uri": "https://localhost:8080/"
        },
        "id": "4r_aEL7MqnO4",
        "outputId": "fc15d01a-328e-4fde-b9ff-7a51a39d3f23"
      },
      "source": [
        "print(type(float(polarity_value)))"
      ],
      "execution_count": 158,
      "outputs": [
        {
          "output_type": "stream",
          "text": [
            "<class 'float'>\n"
          ],
          "name": "stdout"
        }
      ]
    },
    {
      "cell_type": "code",
      "metadata": {
        "colab": {
          "base_uri": "https://localhost:8080/",
          "height": 35
        },
        "id": "-72QcrEqvIdO",
        "outputId": "e3926642-e09f-44b8-807d-9afadb3002d7"
      },
      "source": [
        "sentics['introspection']\r\n"
      ],
      "execution_count": 159,
      "outputs": [
        {
          "output_type": "execute_result",
          "data": {
            "application/vnd.google.colaboratory.intrinsic+json": {
              "type": "string"
            },
            "text/plain": [
              "'0.897'"
            ]
          },
          "metadata": {
            "tags": []
          },
          "execution_count": 159
        }
      ]
    },
    {
      "cell_type": "code",
      "metadata": {
        "id": "74x1N_c6sekr"
      },
      "source": [
        "def get_feature(message):\r\n",
        "  \"\"\"This function gives out a dataframe of extracted features\"\"\"\r\n",
        "  sn = SenticNet()\r\n",
        "\r\n",
        "  polarity_value=0\r\n",
        "  polarity_label=0\r\n",
        "  introspection=0\r\n",
        "  sensitivity=0\r\n",
        "  temper=0\r\n",
        "  attitude=0\r\n",
        "\r\n",
        "  for word in (message):\r\n",
        "    try:\r\n",
        "      concept = sn.concept(word)\r\n",
        "      pol_value = float(concept['polarity_value'])\r\n",
        "      pol_label=concept['polarity_label']\r\n",
        "      intros=float(concept['sentics']['introspection'])\r\n",
        "      sensit=float(concept['sentics']['sensitivity'])\r\n",
        "      temp=float(concept['sentics']['temper'])\r\n",
        "      attit=float(concept['sentics']['attitude'])\r\n",
        "\r\n",
        "      if  concept['polarity_label']=='positive':\r\n",
        "        pol_label =1\r\n",
        "      else:\r\n",
        "        pol_label=0\r\n",
        "\r\n",
        "\r\n",
        "\r\n",
        "      polarity_value += pol_value\r\n",
        "      polarity_label +=pol_label\r\n",
        "      introspection +=intros\r\n",
        "      sensitivity +=sensit\r\n",
        "      temper +=temp\r\n",
        "      attitude +=attit\r\n",
        "\r\n",
        "    except KeyError:\r\n",
        "        pass\r\n",
        " \r\n",
        "    \r\n",
        "  return polarity_value , polarity_label, introspection, sensitivity, temper, attitude\r\n"
      ],
      "execution_count": 160,
      "outputs": []
    },
    {
      "cell_type": "code",
      "metadata": {
        "colab": {
          "base_uri": "https://localhost:8080/"
        },
        "id": "d6NL8jsnScRl",
        "outputId": "c8b8bc13-fffd-480a-d3a7-89fc57a87e1b"
      },
      "source": [
        "  #Test a sentence\r\n",
        "sn = SenticNet()\r\n",
        "print(\"(polarity_value, polarity_label, introspection, sensitivity, temper, attitude):=\\n \")\r\n",
        "get_feature(['I', 'love', 'books'])"
      ],
      "execution_count": 161,
      "outputs": [
        {
          "output_type": "stream",
          "text": [
            "(polarity_value, polarity_label, introspection, sensitivity, temper, attitude):=\n",
            " \n"
          ],
          "name": "stdout"
        },
        {
          "output_type": "execute_result",
          "data": {
            "text/plain": [
              "(0.83, 1, 0.897, 0.762, 0.0, 0.0)"
            ]
          },
          "metadata": {
            "tags": []
          },
          "execution_count": 161
        }
      ]
    },
    {
      "cell_type": "code",
      "metadata": {
        "colab": {
          "base_uri": "https://localhost:8080/",
          "height": 156
        },
        "id": "GBJWUPQPDivm",
        "outputId": "f11c166e-e085-487e-c991-09f933a4cc7e"
      },
      "source": [
        "df_train['text'][1].lower()"
      ],
      "execution_count": 162,
      "outputs": [
        {
          "output_type": "execute_result",
          "data": {
            "application/vnd.google.colaboratory.intrinsic+json": {
              "type": "string"
            },
            "text/plain": [
              "'happy ! guys: please check your balls monthly learn how video love yer mosista rt : heading to post game it up... ... : before i go to sleep, wanna give a shout to . she is the absolute best. that is all! thanks, buddy! {hugs} compassion is the highest form of intelligence. be kind. enjoying solitude doesn\\'t make you a loner/loser! {hugs} is the world starting to turn against ? the men who are truly good are amazing men; the ones who behave badly...those dudes are just horrid... \"run!\" important message: tonight we turn back the clocks. please use this extra hour to test your smoke alarms, carbon... rt : to be more attractive, you should play up your sexiest attributes, so i would like it to be known i have run out of book : a beer dumped on you, what happened there? that sounded heartless. read the feed: i rejected a jerks flirtation! the worst part is how men justify their harmful behaviour &amp; crimes.: this is my story. the truth... to all the awful stories i\\'ve read about \\'s &amp; the horrific sex crimes so many women have endured, i\\'m just really sad... from my date humiliating me over my body weight to getting a beer dumped on me for rejecting a jerk &amp; having a married guy try to kiss me... what the jerk who poured beer on me said \"my gf couldn\\'t decide whether she wanted to be a bitch or cunt for halloween so she stayed home.\" if you disrespect, demean, degrade, abuse, assault, sexually exploit or hit women, you\\'re not a \"good guy\" or a \"gentleman\". period. the abuses of power can be astounding when academia/business exploit as interns: it takes a village to stop sexism, sexual harassment &amp; sexual assault... rt : rare, but i completely agree w/wente. rt :m.wente on &amp; httprt : latest from investigation: women have contacted police. : rt : the &amp; stories illustrate the importance of investigative in speaking truth to power. kudos rt : rosie dimanno says cbc shockingly hiding behind bogus h r policies ... rt : awareness ~&gt; support ~&gt; love ~&gt; courage ~&gt; voice ~&gt; healing. restorative justice. why is it always immediately assumed that a woman causes the transgressive violence that is inflicted on her by a man? me: a douche poured his bottle of beer down my dress when i rejected his sexual advances!my bro: what did you say precipitating that? rt : it would be much worse when no one is looking. rt : excellent point. aggression likely would not stop in private. bad public behaviour good in his own friends told me later, he\\'s an alcoholic with a gf who he fought with earlier, she went home. scary. rt : troubling that he felt justified to attack a woman bec she says no. wonder what he\\'d do i honestly, i\\'ve known my buddies most of my life, and something like this has never happened; they would\\'ve really hurt him. i just can\\'t believe any man would do this! i was soaking wet. my buddies found out later. they\\'re livid! so wrong! ugh... some of my guy friends are way more muscular &amp; tougher than bar security... like i said, glad they didn\\'t see him do this. i\\'m still stunned... i don\\'t even know what to say. truly. if my guy friends saw him do this to me, it woulda gotten ugly. i just said, \"let\\'s go\". this is the first time that\\'s happened to me. ugh. at the bar with a bunch of my best friends. guy hits on me. i politely say, \"thanks, i\\'m not interested.\" he pours an entire beer down me... my fav hallowe\\'en? at bar chef, toronto. you, me, jay-z.....! happy hallowe\\'en with best friends my lifelong best buddy, jb, the palm tree &amp; me! pre-party halloween party. so fun! even wonder woman has to reapply lipstick! love my lipstick !! l v e hallowe\\'en! it\\'s the one day i get to pay respect to my childhood superhero! time for wonder woman to party! rt : boo. rt : toronto police now have complainant statements required to investigate . commendable move, ladies. violence against children &amp; women is rooted in patriarchy: entitlement, superiority, harm. to end we must vigilantly reject patriarchy. much love, michael, for articulating the seriousness of violence against woman as a crime against humanity &amp; our need to act. rt : michael\\'s essay on revelations, impact on staff, esp women, &amp; need for convo about vionce vs women rt : an exhausting week. thx to all who reacted to by doing something positive, like donating to showed executives video of bondage, beating in self-defence rt : my hero of the day. brilliant. rt : \"why lgbt history should be taught in school: via \" wish you were here, . you\\'d be my ideal hallowe\\'en date, superman! maybe next year...! love, wonder woman trick-or-treat? happy hallowe\\'en y\\'all \"behind every great woman there is a great man.\" ~ wonder the story behind the story of wonder woman: . fighter for &amp; peace. : \"....its possible... more on wonder woman &amp; feminism: rt : wonder woman: the weird, true story by sarah kerr rt : icymi: \\'wonder woman\\' movie reportedly set in \\'s, sequel in \\'s and threquel in modern day! a trilogy! rt : wonder woman is going back in time to teach the world about feminism (maybe): rt : senior manager sure has some little girls! generalizations? please educate yourself sir. rt : ... and of course the creator of ... rt : ... tattoo; \\'s posts on gender in genre; more? rt : hi : time to do a piece about strong male writers re: violence against women? e.g. stephen king, rose madder; : love your halloween avatar merci, luc! \"behind every great woman there is a great man.\" ~ ww : this is fascinating: from one wonder woman to another, thanks for sharing this, ! fascinating ! mt rt : out tomorrow: \"the secret history of wonder woman\" by jill lepore icymi: : gender violence is a men\\'s issue. real superman stands behind wonder woman. rt : says, due to recent events it now won\\'t be publishing \\'s book. and i wanna shout out to &amp; , too! thank y\\'all for standing with me, with us! : after a bad week for canadian media stars, i just want to remind people that is an amazing guy. that\\'s all. \"behind every great woman is a great man.\" ~ wonder woman much love to y\\'all who stand beside &amp; behind... reclaiming feminine power: wonderwoman rt : \"i wanna say a little somethin\\' that\\'s long overdue: this disrespect to women has got to be through.\" - adam yauc awwww... adorbs! :// rt : much love, respect and support for the named and unnamed women who came forward. whatever you may be feeling tonight, we\\'re he my freaky love child. (if georgie strombo &amp; i had a child.) :// hold me. please. \"ahhhhhhh!\" can\\'t even deal with watching the hallowe\\'en movie trailer alone...!!! damn you, mike myers! scariest movie? for me: hallowe\\'en i was in a basement with a pack of my older friends... nightmares for weeks! easy peasey, lemon squeezy... comes with the job of loving &amp; protecting the most vulnerable from abuse - children &amp; women. {hugs} g most sex assaults are against (55%). % of sex assaults are against girls; % are perpetrated by males. rt : : gender violence is a men\\'s issue. thanks this. root cause ~&gt; patriarchy. dumbest ide sorry, dude. only a \"moron\" defends a \"moron\" defending a violent sexual predator. you know better, so do better! nah. you\\'re right: i guess i creatively omitted \"crazy,\" \"insane\" &amp; \"whore\"... it\\'s a definite dip in my \"femi-nazi\" score! \"you\\'ve heard of a woman scorned, haven\\'t you?!\" haha...! enjoy your tricks-&amp;-treats, all of you :// on the upside y\\'all, i only got branded a \"man-hating troll\" seventeen times this week, and a \"femi-nazi\" only four! news. \"l o v e can heal, love can console, love can strengthen, and yes, love can make change.\" \"men are afraid that women will laugh at them. women are afraid that men will kill them.\" % of victims of sexual offences are girls, peaking at age . % of police-reported sexual offences in involve a /youth victim. how many are unreported? in , % of persons accused of a sexual offence against a /youth were male. % of all sexual offences against were committed by an individual known to the victim. % of sexual assaults (level i) against /youth also involved prostitution or pornography. police-report on sexual offences against children/youth found children/youth victimized more than adults. o canada: rapes a day. child prostitution. child porn. . of undergrads victims of dating violence. sex trafficking. rt : it should be noted right off that fear of reporting abuse is also key to missing and murdered indigenous women research shows men with a history of violence, aggravated sexual assault or rape have a greater likelihood of murdering a sex worker. : sex workers always get the worst treatment relative to all other women in their societies. i know. if women with strong support in their lives feared reporting, what about those without any? i fear the worst for sex workers. much love, georgie . thank you for standing with me, with all of us. rt : gender violence is a men\\'s issue. rt : happy hallowe\\'en! invoking the great pumpkin at a hinge moment when things long thought buried return to the light. htt rt : we need a serious conversation in canada about how to end violence against women. and everyone needs to be part of it. : average number of years a man convicted of rape spends in jail. every minutes a woman is raped in canada. how \\'s sex-assault violate rape victims age : i was sexually assaulted not raped. mama was hospitalized that year; papa was stressed, working, overwhelmed. i told no one. rt : it\\'s time we gather in our circles &amp; share our strengths and stories. rt : please check out the to see stories of why this is a problem we need to solve. possible trigger rt : because i was , and he worked for the police department, and he was very explicit about what he\\' rt : i\\'ve been assaulted &amp; reported, &amp; i\\'ve . the reporting was more traumatic than the assault or the rt : profound and brave things being shared at rt : both my sons r in their \\'s. the whole thing has sparked some very very good conversations with them. one model died from complications related to ; the other is living. in people with an eating disorder die. % of american women are size + not size . hear me, ? rt : and the media are the great enablers just read one of those mags for pubescents rt : they shamelessly implant and foster insecurity in people rt : corps have long been shaping our view of the world and ourselves. not even kids are spared = zero business ethics. : i want to look like the girls i see in magazines this is why ad sucks!! rt : vs is perhaps the ultimate in corporate image-manufacturing women. they have co-opted th rt : rt : you mean you *couldn\\'t* care less. your dumb is showing. oh lord. can\\'t take this kid seriously: lacks critical thinking, can\\'t spell &amp; poor grammar... rt : right! that\\'s exactly what we\\'re discussing right now. good job! i could really care less about my ugh. i have never shopped at ; and, yet again, they\\'ve confirmed why i never will shop in their store. ever. rt : i despise the way we have been conditioned by corporations to have such a narrow view of f : well they obviously didn\\'t teach you the difference between plural nouns and possessives. i\\'ve forgotten more in life than you know, kid. read some of the articles i posted. think. you sound like a royal douche bag... fuck off, . the \"perfect\" body is the one with a beautiful mind &amp; heart. your meaning was lost in translation... what are you asking me? be specific. rt : has feminists stood up to or do they not care because is a scam and ignore liberals wh is this how your parents raised you? really? your comments are completely devoid of any common sense or compassion. frightening. rt : aha. if they went to bed with him, chances are it was consensual. the fact that you called it \"rape\" is complet \"the most common way people give up their power is by thinking they dont have any.\"alice walker rt : as the evidence builds, i feel this needs to be said: all men are not pigs. every guy i know thinks this behaviour is vile. rt : ghomeshi story is now a case of he said/she said, she said, she said, she said, she said, she said, she said, and she : so frustrating. keep trying. i will. and i\\'ll do what i should\\'ve done: report it higher than department. i\\'ll send you a copy of my letter too. at least if nothing is done, we can do what women have always done: warn other women. : important. and thanks. a year or so after i graduated, i complained to the chair. he ignored it... *sigh* rt : imagine if everyone was this outraged and vocal about violence against women the other weeks of the year. rt : . investigating sex assault allegations involving + students rt : i\\'m so tired of explaining to people the million reasons why women don\\'t report assaults. like, just think bout it for a sec? rt : i have trouble hearing your words over the sound of your actions.... in fact i\\'m writing to the head of grad studies about my ignored complaints re: a male faculty abuse of power. when \"boys club\" bobble-heads ignore our plea for fairness, maybe it\\'s time for outlaw justice: tweet it, type it, publish it...! rt : how can we create a climate where women are listened to? where this sort of things doesn\\'t go on for years? rt : just listened to here. ) she is lovely. ) perfect example of why women don\\'t/can\\'t report. kick off soon! how are we gonna raise $ for men\\'s mental health if ya don\\'t grow a m like last year ? georgie so johnny cash! rt : our pal strumming away at the pop up! thanks for swinging by. thank you for bravely sharing your story, women. so far. i feel sick to my stomach wondering how many men are thinking to themselves: \"ya she wanted it\". \"why i can\\'t remain silent about jian did to me\" more allegations of sexual assault against \\'s : via sorry: i refuse to dialogue with anyone who willfully chooses to justify &amp; defend a violent sexual predator. rt : whoa. something positive is coming out of this whole situation. powerful statements: : -part series by on celebrity rapists, media &amp; sexual violence: recommended reading. rt : i am incredibly proud of my friend for having the courage to come forward against way to go excellent -part series by on celebrity rapists, media &amp; sexual violence: recommended read. rt : thanks. i now have all three parts up on my blog. with so much unreported sexual assault in media, business, politics, academia - can\\'t help wondering who\\'ll be the next \"hero-to-zero\"...? rt : the epidemic of sexual harassment in , by via do me a solid: if anyone sees my date from last weekend, thank him for humiliating me about my weight over dinner. so depressed i lost pds. ugh. you need to read &amp; think more. please. do yourself a favour. read the articles on my tl. and think. think for yourself. rt : many reasons women don\\'t report. stop stigmatizing their experience further. read hahaha! i love &amp; together!! and i love your rants!! ignore ml\\'s imposed time limit: i always do. wtf? ummm, maybe you\\'ve been trapped under a heavy rock for days, but, women reporting sexual assault is not kinky sex! think. rt : it will be good if someone comes forward to have charges laid,but in the meantime,it is just media publicizin i\\'d like to encourage everyone with first-hand testimony with respect to \\'s sexual harassment &amp;/or sex crimes to report. allegations lead police chief blair to encourage sexual assault victims to come forward: rt : fired by the canadian saul goodman. that\\'s bad. navigator confirms it does not advise jian ghomeshi. httprt : chief blair wants to \"encourage people who think they\\'ve been victims of an assault to come forward\" answering questions rt : statement: navigator confirms it does not advise jian ghomeshi. maybe before ya start name-calling, ya might wanna read a bit about law &amp; epistemology... ya sound like an utter fool. : you nailed it! good to know i\\'m not the only one appalled by the current state of media incompetency. amazing. i studied law, media &amp; ethics for years but you\\'re the expert...? uh huh. keep talking; your stupidity amuses me. rt : enjoy while rest of us in reality know that people are presumed innocent until proven guilty. serious allegations of sexual harassment, violent sexual assault &amp; rape of multiple women is not a \"personal reason\". think. rt : cbc made a huge mistake firing one of their most amazing broadcasters due to entirely personal reasons. anyone who questions public opinion regarding \\'s innocence needs a crash course in epistemology : stick to drinking beer. you\\'d wager you\\'re better at \"drinking\" than \"thinking\"... rt : re : tons of public opinion based on unsubstantiated claims of criminal acts &amp; w/o formal complaint, charge or rt : that she wouldn\\'t allow a guy to hit her + doesn\\'t understand why these women didn\\'t come forward ear more proof most journo\\'s are intellectually lazy; either unwilling or disinterested in doing any substantive research. rt : cant believe what alyssa just said on ! really hard to listen to another female speak ill about the v rt : . here is part - celebrity rapists abuse of power &amp; privilege ji thank you kindly for sharing stuart parker\\'s analysis of celebrity racists; his articulation of law, epistemology &amp; media is rad. icymi: parker\\'s analysis of history, law &amp; the epistemology of interpretation: via rt : i would ponder as well, who at the cbc witheld information in an attempt to protect their own jobs? rt : u might like this blog on how we interpret facts with celebrity rapists: as a woman philosopher i can attest to one fact: the first rule of \"boys club\" is \"boys club\". reports are always dismissed. from workplace sexual to violent : why did protect ? by warren kinsella rt : punching &amp; choking women without their consent during sex? call it what it is. is a rapist. rt : not to worry....when this all blows over &amp; the gutter tramps are exposed for the liars they are...sirius radio will hire you! the \" sex crimes\" saga has affirmed my worst fear: we are an intellectually lazy society, unable to distinguish good from evil. with all the articles published this week on why women rarely call , it\\'s just willful stupidity. rt : if you can\\'t even guess why they didn\\'t, you\\'re displaying some (more) poor judgem rt : bet you\\'re glad you posted this after you got elected and not before! please spend less time , more time improving reporting &amp; conviction rates! support victims! do victims of sexual assault have a duty to report crimes? let\\'s get the facts as to what ensues... as a woman, a mama to daughters &amp; a city councillor, how could you even conceive of ? rt : another trait of abusers or wannabe abusers is they defend abusers. they have to: they\\'re kin. rt : how extreme does it have to get before you question your own biases? worst part about \\'s pr hire &amp; $55m lawsuit is how it served as a strategic tactic to silence other victims! rt : no presumption of innocence when elite pr firm hired and big lawsuit launched pre-emptively to sway opinion. nice try, rt : and all the other women who came forward in the case. they and all victims of sexual violen what makes ya say that? how many reports of victimization would it take to make you believe women vs man? rt : even the authorities know these jian ghomeshi allegations are bs, since they\\'ve said they have no plans to investigate him for rt : . we also need to commit to ending the heteropatriarchal misogynistic culture that is the root of this violence. rt : . we need to collectively commit to ending violence against all women. sexual assaults in canada each year. every week a woman is killed by her partner. time for change. \"broke a few rules\"? \"took a few liberties?\" i have words for you, brother: violent sex criminal. women or more... rt : i\\'ll be brief. the issue here is not whether he broke a few rules, took a few liberties with his female party guests, h smart. you\\'re a violent sex criminal, jian: you should be criminally charged &amp; prosecuted, as i expect you will be. rt : media outlets focusing on the involvement of a teddy bear in the story amaze me. yeah, that\\'s the most shock rt : never accept respnsibility was successful in music, radio, tv. and he\\'s a sex criminal. celebrity, money &amp; power cannot be a \"get out of jail free\" card. if i\\'m a \"man-hating troll\" for expressing outrage over \\'s sex crimes &amp; \"insane\" to question his defenders, what are these men? rt : yes it\\'s perfectly reasonable question to ask if i\\'m a rapist. you are insane &amp; the reason peo if you wanna keep defending a guy who is defending a violent rapist &amp; claiming we\\'re \"man-hating,\" don\\'t talk to me. seriously. any man who claims the outrage over \\'s sex crimes is reducible to \"man-hating\" has serious problems. asking you if you\\'re a rapist is not calling you a rapist, morons. it\\'s a question. like said, bye forever! end of my discussion with you. bye forever! you\\'re comments are outlandishly misogynistic. i simply asked if you\\'re a rapist since you\\'re defending one... rt : it is pretty ironic that amanda palmer will have as a guest at the show promoting her book the art of ask rt : a violent date with listen here to another woman speak out. lo rt : . is very brave. mt : a violent date with . listen here is a women\\'s studies grad. think about that. why are you anonymous? maybe you\\'re a rapist. stop following me. rt : every women\\'s studies activist in the country is convinced they\\'ve been \"raped\" because a man held a door o : that\\'s the real hate epidemic. man hating from angry trolls. said every misogynist everywhere. with all due respect: you\\'re delusional. : wanna give a shout to a very dear friend up north: for continuing to fight the good fight! yay! remember the shirt? people are fucking crazy. rt : this is true. rapist, serial killers... there is a cache it seems. a fanclub for the violent. look at cha bernardo, , &amp; the year old woman who wants to marry him; and other tales of sex killer fan clubs. just read an article about the women wanting to date &amp; marry paul bernardo; seems having a soft-spot for rapists is common. rt : that was one of my first thoughts as well. but it does fit a particular trope: the happily married with k wedding bells for paul bernardo? interesting. can\\'t help thinking of bernardo: he married karla, and that dr. jekyll killed school girls after raping them... rt : dr jekyll and mr. jian - a blog post about the other side of georgie will y\\'all stand with me? rt : gender equality is not a women\\'s issue, it\\'s a human rights issue women need to know should always feel safe &amp; always feel good. you deserve to be loved; never demeaned, criticized, humiliated, or hit. wonder how many guys are silently revisiting their own dating history, fearful it may be their turn next if a woman speaks out... be afraid. rt : many \"knew\" about and women are tip of icebergperhaps canadians will begin \"to see\" now systemic vi : you mean like hugo schwyzer and ? is the buzzfeed writer. oopppps! yes! my bad. misogynists construct such a strong sense of self-superiority &amp; entitlement, any claim he\\'s harming others incites defensiveness. problem with misogynistic men like &amp; is it\\'s impossible for them to understand they\\'re the problem!! rt : most disturbing read yet if you\\'ve heard about rt : reading about tonight has been horrifying ... let us please create a safe space for victims to come forward yes! i battle depression &amp; advocate for mental health, so i empathize with \\'s bp; but, his misogyny is unpalatable! rt : totally. he\\'s basically the posterboy for the \\'feministy predator\\' i described in my post: typical narcissism from a creep criticizing creeps for exploiting young women, while he exploits women and feminism: rt : i wouldn\\'t take hugo schwyzer\\'s word for anything though. why men date young women rt : \"the most interesting people...are the oldest people\" this from the guy who likes girls yrs his jr. rt : he did not ask if i was into it. it was never a question.\" on cc tomorrow\\'s front page : slapped, choked me, says rt : i was never touched, but i am from a community scarred. this runs in scary parallel. \\'s acts also relied o rt : older children would whisper to younger children that there was something wrong with that man. rt : the reason why i bring it up is that this man was also surrounded by a whisper campaign. rt : when i was a child, my school was overseen by one of canada\\'s worst sex offenders. father sylvestre rt : where is these days? in a city where he can go unrecognized, to prey upon the unsuspecting? : congrats feminazi trolls! you\\'ve actually disgusted me more then the allegations! way to go! gonna slap me? misogynistic men are obsessed with ownership, property &amp; control. any man who treats a woman\\'s body as a sex object isn\\'t a real man at all. \"fuck! is one expected to be a gentleman when one is stiff?\"marquis de sade i was too young &amp; ashamed as well: age . there were a dozen witnesses that night; not one called the police. rt : oh no! yes, you could have proven it physically. i, however, was too humiliated and broken tell anyone, wonder if is gonna post a newly penned narcissistic fb statement about how not to believe his \"crazy jilted ex-fans\"...? if true, that\\'s absolutely appalling. zero business or media ethics! rt : decision led to cbc exec/cmg/other journalists not speak out. no one could risk a pr disaster while harper was in power. rt : i\\'m not the person to do a fulsome analysis, but \\'s approach to the cbc could partially explain the rt : it strikes me that years ago when the problems came to light the decision was taken within the cbc to \"prot i didn\\'t report, either. in my case it would\\'ve been easy to prove: he almost shattered my orbital socket... rt : all this stuff has made a lot of women recall their own stories of sexual abuse *like* \\'s brazen fb defence...? perhaps, it is time to *unlike* it. view fb unlikes in real time: rt : it doesn\\'t have to be hands that inflict the injury. abuse comes in many forms that leave no : wasn\\'t being sarcastic. i do appreciate it ha! ya, i believe you! just explaining my intent &amp; misplaced anger. like , i\\'m angry at the naysayers defending &amp; calling for \"evidence,\" that i\\'ve mentally flipped a few tables. as survivor a lifetime ago, i sometimes forget. our misogynistic rape culture makes us forget. it hurts to remember... rt : if you have never taken a real punch to the face, by a man, then you cannot imagine it. rt : hating the darkness, actually pulls you closer to it. i have to untangle these knots in my mind and move away from my an rt : survivors triggered by the / story: take care. if you need to talk, call helpline at : appreciate that i mean it. i was questioning you because i, too, was wrong &amp; rightly questioned me. \"to paraphrase several sages: nobody can think and hit someone at the same time.\"susan sontag : don\\'t need to. you\\'re faced. plain and simple. scott: blocked. i apologize if you feel attacked by my comments &amp; questions; that was never my intention. all the best in your work. rt : yes you\\'re attacking. have watched it numerous times with you. enormous support for the victims since sunday. asking questions about whether they\\'d come forward isn\\'t support. actually, that\\'s totally false, scott. i never once defended him after my convo with . read my tl... i think it\\'s interesting you think i\\'m \"attacking\" ; i\\'m very disappointed in her. there\\'s a huge difference. if ya recall, as soon as my buddy thoughtfully pointed out how i was framing the discourse, i recanted. attacking? hardly. debating? most definitely. i publicly admitted i was wrong to insist on \"burden of proof\"... \"the world as we have created it is a process of our thinking. it cannot be changed without changing our thinking.\" einstein it is about you ; it\\'s about all of us. it\\'s sad that as a highly educated woman empowered in media you fail to see that \"fact\". rt : we had limited information, now we have a whole lot more information. why are you making this about me? this rt : i am now counting on two hands how many women need to speak before their voices are as trusted as a single man. rt : consent is so easy though: no means no. not responsive means no. can\\'t say no, means no. thank you for sharing! it\\'s amazing how many men are narcissistic, actually... hmmmm rt : companion pieces on the scandal. all the world is a fiction. think. think. think. before you judge &amp; speak your narrative. \"facts\" are no more than \"interpretations\". let\\'s be more charitable in listening to the victim, shall we? rt : eight women. eight. prove that\\'s a conspiracy, jian ghomeshi. : yes, that is true do tell. was the *magic* number or ? or was it the \"fact\" bravely spoke..? you\\'re too kind. {hugs} huh. looks like got the \"facts\" she needed to finally empathize &amp; legitimate the horror stories of the victims... rt : absolutely it is ridiculous. women get re-victimized instead of being protected if they report! thanks i was . lifetime ago. he almost shattered my orbital bone; that\\'s what it took for me to end it. is preventable. misogynistic acts - from criticizing a woman\\'s body or appearance to controlling, stalking &amp; violence - are far too prevalent in our world. we need to educate the public more about sex &amp; relationships: it\\'s not ok to objectify bodies. it\\'s not ok to demean. it\\'s not ok to hit. i hope you ask yourself why you question the victims; perhaps, you too are in need of some empowerment &amp; education. i\\'m very sorry to learn you are a survivor; i am, too. i also never called , even after he beat me so badly... rt : there are no time limitations placed on bringing allegations of sexual assault forward. brave \"brave\" is too small a word...thank you.much love rt : we all have a collective duty to stand with . let\\'s send her words of support using hashtag . rt : it took a lot of guts for to be able to go on the record about - i have a serious amount o rt : why. why is that your concern. why is your concern so quickly to question. let me ask. are you a vi given the multiple allegations of violent sexual assault against , will you investigate? rt : women need to support other women. rt : i don\\'t really like the word douche bag. but in some instances it\\'s just the perfect word for the occasion women. educate yourself. read my posts &amp; links. think. think. think. you tell her, ! : sexual predators are highly skilled in the art of deception. that\\'s why so many child molesters successfully rape many children. rt : . hard to accept when considering his public persona: educated, artistic, well-read &amp; humanist. sad. journalistic standards were broken to give voice to these victims. i commend y\\'all for honouring a higher call: justice. rt : jian ghomeshi: women accuse former cbc host of violence, sexual abuse or harassment: : this is the latest on sadly too many men in positions of power -with celebrity status, wealth &amp; success- exploit &amp; abuse women. misogyny. entitlement. rt : . ugh...this guy had everything: a great job &amp; a large female audience. yet, he couldn\\'t act like a gentleman. : right! .. and none of them spoke up before now! ugh. don\\'t be so stupid. read &amp; think before you speak. sending much love to all of these brave women... rt : lucy decoutere, \"lucy on trailer park boys\", says she was choked and beaten. rt : eight women tell stories of alleged jian ghomeshi violence, harassment to , coming very soon. victims now... rt : wow, women. i wonder who the mastermind is behind this crazy conspiracy to ruin the name of poor rt : and counting..... you low man, you. how many more women need to testify in order for you to question this one sexual predator? toll rising. women. wake up. *smh* rt : breaking in moments: women now accuse , one on the record. my investigation w/ : to clarify my last tweet: i\\'m not on the fence about it. this whole situation with makes me angry. \"do you know about ?\" truth always has a way of manifesting. rt : we need a national count of how many women have been hit in their lifetime. we need to know. rt : this statement is truly damning: honestly, she replied, i have known for years - jan arden on rt : so, why would alleged victims go to media before police? media have resources to find others. more women = more credibili rt : story- - will post a story at about pm est . ... includes an actress who puts her name t : you are kind what you wrote in characters says it all, my friend. thank you. : as a sex assault victim, i know why jian\\'s accusers didn\\'t call says : writes a brilliant piece about why women stay silent about sex attacks: : in short: what counts as a \"substantiated\" claim? and isn\\'t this issue of \"proof\" exactly why so few women report sexual assault? more food for thought: does the of \"unsubstantiated\" stories of sexual assault allegations in itself evidence \"substantiation\"? thanks, sarah! as this story evolves i hope we can work together to think about how media can help more victims report to rt : a few updated thoughts on my blog earlier, thanks for some insight icymi: women claim sexually assaulted them &amp; people are still defending him. tell \\'em ! rt : what kindof woman won\\'t report sexual assault? : : rt : icymi: good article: mark, that may be juvenile of me but your stupidity is beyond irritating me... seriously. rt : to women that have come forwarded. you for your courage and strength. rt : so all these women are lying? let\\'s turn this into a convo about empowering women enough to press charges &amp; speak up and, yet, so many continue to defend his rights, his victimizations, calling for \"due process\" and \"facts\"... rt : the more women speak out about , the more ludicrous a conspiracy it would have to be in order for the allegatio i\\'m sure will survive my -what did you call it?- character assassination; o.j. did is it \"ethical\" for me to accuse you of asking me a lot of stupid questions? to both i say yes!! it is also profoundly ignorant to fail to acknowledge the simple fact that \"the law\" is an ever-evolving, ever-changing social construction. it is a fundamental misapprehension &amp; misunderstanding of law to presume our justice system serves to support victims of sexual assault... even loved ones raise questions about what the victim might have done to cause sexual assault or physical abuse. rt : not the relatives &amp; friends that don\\'t listen, it\\'s the authorities &amp; it\\'s disgusting. : that\\'s why women don\\'t speak up, especially with a celebrity involved. yes. same is true for child sex assault. rt : evil only prospers when good men,and women, do nothing every week in canada a woman dies from domestic abuse. if that woman is your child, sister, or mother would you listen to her? my point was to illustrate how the public rallied around the perpetrator, not the victim. what if she had public support? rt : thanks for reminder of slap on the wrist oj received for constantly beating his wife. : : i don\\'t like your ethics your prerogative. nazi\\'s wouldn\\'t have liked em either as a friend &amp; professional acquaintance of , i did empathize with him. i was wrong. rt : put yourself in his place. he\\'s being convicted, with only anonymous complain if you admit you know nothing, why say anything? just shut up. rt : i don\\'t know if he\\'s a creep or a victim. i don\\'t know if those women are vic how are you defending media \"integrity\"? as a former professor of media ethics, i\\'m curious..... has been charged? is there a court hearing? nah. how are you \"defending\" due process? rt : . i\\'m not defending him. i\\'m defending due process and journalistic integrity. grrr... i\\'m so annoyed by mass stupidity &amp; thoughtlessness that i just need to retreat into my philosophical armchair &amp; write! public outcry for \"innocence until proven guilty,\" \"evidence,\" \"facts,\" etc tacitly presumes innocence of the perpetrator, guilt of victim. if the of violence against children &amp; women has taught us anything, it is that public opinion seldom (if ever) defends the victims. the issue is two-fold: a) presumption of innocence applies to criminal conviction; b) it doesn\\'t preclude debate. who\\'s convicting? am i wearing a judges robe? do i have a prison in my backyard? your remarks are foolish. rt : presumption of innocence implies nothing about the validity of an allegation or alleged victim. rt : we won\\'t even let women wear a hijab at a citizenship ceremony but we\\'ll convict on thi \"the world will not be destroyed by those who do evil, but by those who watch them without doing anything about it.\" : i don\\'t know and neither do you. the difference is, i\\'m not making myself judge and jury. yes, you are. : can you send me the link? news on nicole simpson vs. o.j. zero public support. rt : if you missed my takedown of the jian crap, i tackle it from several angles. it\\'s gone a tad viral. oops. rt : want to be a character in a margaret atwood book? via rt : well, this is interesting. the polyamorous, bdsm roots of wonder woman. bonfire, anyone...? rt : if i had a sub i\\'d cancel too. thing is, my sub ran out mths ago &amp; they still send m i posted an article earlier today about the news story published detailing nicole simpson\\'s victimization. no one cared. rt : how does not yet have a white bronco? cancelling my subscription to walrus immediately. i have a zero tolerance policy for ... rt : yup. just hired who thinks despite possibly beating women, should be celebrated for rt : tw: interview with a woman assaulted by on rt : compassion &amp; care to the two women who are speaking tonight &amp; tomorrow re everyone claiming to suspend judgment until allegations are proven &amp; calling for objectivity have tacitly judged not to honour the victims. please stop defending violence against women. you are part of the problem, mark. media is a medium of communication. what\\'s more likely: -6+ woman are all repeating false narratives or is a sexual predator? rt : the interview ends with the host announcing the current has yet another interview with yet another woman tomorrow mornin rt : the woman is very clear that this was non-consensual. she says there was no conversation before he grabbed her hair and rt : \"closed fist pounding me in the head.... i started to cry.\" the woman on cbc says, describing the encounter with ghomesh rt : woah! cbc as it happens has an interview right now with a woman who says she was attacked by jian ghomeshi. rt : bravo rt : mad respect for for going after scandal at its own organization, speaking with accusers. that\\'s rt : all good sister, this is a place for public opinion! epistemology should be taught in high school. too many people lack logic, critical thinking skills &amp; robust understanding of probabilities. you\\'re entitle to your opinion, as am i. if you think you\\'ve sufficiently researched this topic, please disregard my suggestion. : p.s. i love your twitter handle name! merci! who knew when i created it twitter would be twitter?! : the allegations against him are proven true i will agree with you. until then... i suggest you read more on . tonight! join to talk about mental wellness with ! imagine: if nicole simpson\\'s story viz. the media received public support, one wonders might she be alive today? as an ethicist, i disagree. with respect to allegations of sexual violence against children &amp; women, time to change our standards. rt : as you know, i\\'ve been quiet about the story in the news this week. read why here &gt;&gt; men, money &amp; the power to silence : the real reasons for \\'s $55m lawsuit as a trumpet player &amp; fan of miles davis, i love how i can play this jazz album from heart... sublime! via g much love, georgie rt : .... todd snider - age like wine. rt : ten jazz albums to hear before you die o canada: sexual assaults each year. how\\'d ya feel if your daughter, sister, mother or lover was one of \\'em? \"to go wrong in one\\'s own way is better then to go wrong in someone else\\'s...\" fyodor dostoevsky, crime &amp; punishment joe - redemption songs you x always with you sleep well you beautiful souls...tomorrow is a new day! be kind to one another. um, ya may wanna check all this out: jezebel produced a \"self-pitying creep non-apology bingo game: : rt : jezebel has produced a \"self-pitying creep non-apology bingo game\"; i did not see this one coming. \"as long as she thinks of a man, nobody objects to a woman thinking.\"virginia woolf, orlando rt : i hope to see this sentiment endure, beyond the flash &amp; excitement of the \"story/scandal\". it\\'s important dis \"when people talk, listen completely. most people never listen.\"ernest hemingway what inspires hope is all the rallying support for victims of sexual violence. rt : it\\'s sad that it takes the fall of a public figure to create dialogue around sexual assault against women. kafka, dostoevsky, tolstoy, wilde, camus, woolf, steinbeck, twain, hemingway - and more. storytelling mattered to ; and, to me, more. every story matters. *drunk driving* \"when i despair, i remember that all through history the way of truth and love have always won.\"gandhi : as hanukah, kwanzaa, ramadan, christmas, winter solstice approaches, please give love to local shelters. : as the president of western university philosophy, i expanded my circle of giving to our local ... : my kid bro &amp; i started a christmas tradition: every year we\\'d buy toys, clothes &amp; supplies for our local domestic violence shelter... rt : it\\'s been drilled into everyone\\'s brains for so long that somehow it\\'s always the girl\\'s fault. rt : why the attacks on are of no use to abused women. we may not know their names, the assault wounds they suffered, or the scars they carry... isn\\'t their story enough? my abusive bf was a pro kick boxer. he hit me for talking to another guy. it was ugly. like this. sad. oh, and i\\'m a survivor of dating violence. when i was my boyfriend almost shattered my orbital bone; i never reported him. rt : its also not what types of sex acts happened, its about consent. no means no, no matter when its said. as for your personal question, absolutely not. i\\'ve never considered making a false claim alleging assault against anyone. ever. im learning the reasons for that are complex, and i\\'d be happy to share with you a handful of articles i\\'ve read that are insightful the issue related to police reporting of assault is serious: why don\\'t women come forward? asked this yesterday... \" acquired by reason will dispel ignorance &amp; destroy the greatest evil~fear, whose source is superstition.\" rt : this is the best fucking thing i\\'ve read all day. rt : navigator apparently directing questions to another firm rock-it communications. pr firm realizes jian i rt : so, jians lawsuit has gagged the cbc. he got his message out and then gagged them before they could respond. how low can h what if says \"consent\" &amp; multiple other women say it was \"non-consent\"? and what if all of those women claim \"assault\"? rt : \"what are you complaining about? we have to run the same distance as you, so its equal!\" the would be more if people learned how to deconstruct their own racial, gender &amp; economic privileges &amp; biases... rt : the social stigma surrounding bdsm needs to go if we want to educate ppl on safe sadistic/masochistic sex &amp; consent. rt : i don\\'t know why i check such rage inducing hashtags when i\\'m trying to get to sleep. rt : \"but owen pallett broke the bro code!\" is a thing someone could legitimately consider a bad thing in this universe. jesus w rt : why women stay silent about sex attacks: mallick | toronto star rt : i wonder if defriended owen pallett on facebook. five ways \\'s accused criminality reveals rt : one of my students sent this to me - an insightful piece on and sexual assault is actually the only authentic public intellectual employed by ? remarkable. want all the \"facts\" on ? for heavens sakes, please think about what you\\'re saying... all the people urging not to have an opinion, not to rush to judgment, not to presume guilt just want us all to shut up... and i refuse to. i\\'m angry! ! a prominent face of our is accused of sexually assaulting women! kills one woman each week! sometimes we canadians can be too damn polite. free speech - sharing ideas, opinions, judgments - this is how we ascertain the truth &amp; grow! i feel sorry for . with a mindless herd grazing on \\'s fodder, she must flipping tables somewhere... rt : is spot on: , sexual violence, and the presumption of innocence htt what amazes me about is how cluelessly she condemns opinion &amp; judgment, while tacitly espousing the *jian* narrative. \"dont let them frame this story as a crazy ex-girlfriend problem.\" how not to react to \\'s statement: : nah your prerogative. \"ignorance is bliss,\" they say. supreme court of canada asserts: \"no consent\" to assault. that\\'s not \"feminism\"; that\\'s law. oh, we support free speech too... wow. ya seem angry. and ignorant. feel free to read &amp; educate yourself on sexual violence, power &amp; law: between all the rallying support for victims of sexual assault &amp; the resurgence of standards in professional life, i\\'m a bit hopeful. rt : cbc should be applauded for its decision, not condemned as an agent of moral reaction. prof dominatrix calling all upstanding men: your critical role in ending the sexual violence epidemic via rt : calling all upstanding men: your critical role in ending the sexual violence epidemic and, if you do feel afraid or cannot walk away, call a friend, call . if you feel afraid to tell anyone how you feel &amp; why, you need help you cannot change a man who is unwilling to care, listen &amp; respond to your hurt or pain; but, you can walk away. never fear walking away. men who mind-fuck women don\\'t say, \"i\\'m sorry. please, tell me how you feel,\" when confronted with harmful behaviour. and they don\\'t listen. \"its impossible for a woman to say the way you talk to me is not ok to these kinds of men &amp; be heard.\" is this you? amen! \\'s brilliant essay -\"hey jian, i call b.s.!\" - is precisely the kinda thoughtfulness i needed after reading ! rt : a brief history of ridiculous things we\\'ve been asked to believe after famous men were accused of rape. rt : \\'if youre a man and these sites (and this article) make you defensive, congratulations: youre part of the problem\\' \"hey , i call bs!\" rt : oh christ, they quoted trudeau in ghomeshi\\'s lawsuit. rt : what planet are we on, again? ford said the party needs to be more progressive... rt : why didnt ghomeshis lawyers just update it to there is no place for the state broadcaster in the sex dungeons of the nati rt : . is perfect. it utterly amazes me how a prominent national newspaper such as the deems an article like \\'s worthy of print. smh oh, and while you\\'re back on campus you may wish to also enroll in a women\\'s studies class &amp; media ethics, too... {sigh} please, do us a favour: enroll in an introductory epistemology class before speaking so foolishly about \"what we know\". rt : here\\'s what we know, absolutely, about the jian ghomeshi scandal so far: nothing. (ok we can go back to fighting now) http sex vs. sexual assault: \"supreme court has said that a person cannot consent to an assault that causes bodily harm.\" in light of all the facts, your blind support for is appalling: rt : on jian ghomeshi, why is the burden of proof on the women who say he abused them and not on him to prove he did not abuse? \"...when faced with accusations that you have hurt people or made them feel unsafe, acknowledge their experience...\" &amp; predators in progressive spaces rt : jian\\'s friend: \\'anonymity does not mean these women do not exist\\' via by seeking and blundering we learn.johann wolfgang von goethe when i said is \"innocent until proven guilty\" sunday, questioned how i was framing this discourse. thank you, bro! thank you anne. as i admitted last night, i wrongfully demanded \"innocent until proven guilty\"; so thoughtless. rt : check out my post for on some of the garbage ways people are defending like child molesters, those who perpetrate violence against women are charismatic experts at seduction: at first they \"care\" so much, then.. articles i sent explain why i\\'d be be fearful to call . but there\\'s another one: abusers mind-fuck you first: \"my fault\" if i\\'m really honest with myself, it\\'d probably go down like this: i\\'d call a bff who\\'d immediately urge me to call ... as a survivor of decades ago, i\\'d really like to think if attacked me i\\'d call ; but, now i\\'m unsure. power of words or power of celebrity. i greatly appreciate you writing what you learned, as that lesson also resonates with me. what i didn\\'t do was take the time to articulate fully how my friendship with jian clouded my judgment; nor did i delve into the.. jean-paul, thank you for having the courage to admit your initial thoughtlessness; i admitted my own thoughtlessness last night... rt : i feel super embarrassed having to post this, but i thought i better come clean. rt : update: more women have come forward to us re: rt : sometimes rt : the difference between watching tv and reading. rt : never stop rting this rt : oh good, glad i could end my day with trailblazing canadian feminist judy rebick defending jian ghomeshi on facebook. ht vs your post made my entire week!! merci!! i needed a good laugh. haha! lmao! a date this weekend pulled up an internet photo of me from over dinner &amp; asked how much weight i gained... rt : we all look shittier next to a pic when we were younger. fuck off internet. rt : to be clear, you ridiculous people are saying, women have to go to the police to be believed. a man just has to post it o what jian ghomeshi accusers were afraid of oh lord. of course the poster boy for misogyny, , is *gushing* over the superstar celebrity of ... thoughtful analysis. we all have a personal duty, a responsibility, to deconstruct the oppressive system that supports violence. rt : it takes real strength of character to admit that. thank you. and thanks for sharing my article too. yes. thank you, i know. i\\'ve tweeted that fact about canadian law several times today. it was a general comment about justice. rt : irrelevant in this case. jian ghomeshi has already confessed to what in canada constitutes assault. rt : presumption of innocence and the protection of victims\\' rights are not mutually exclusive. rt : sexual violence is a scourge in our society. predators and perpetrators should be dealt with in criminal rt : presumption of innocence is a cornerstone of liberal democracy. that right must apply to all, or it is m rape culture, violence against women &amp; celebrity entitlement: on the saga i was wrong to do so. presumption of innocence is vital; but, the presumption of must always come prior. we live &amp; we learn. rape culture -like misogyny &amp; racism- is deeply ingrained in our society. my immediate response last night was to insist on burden of proof. no athlete, celeb, politician or their entourage has the right to demean, hurt or abuse; equally, we gotta stop socially empowering them. rock: we\\'ve talked enough...me: oh, ok. i\\'ll head home.rock: me: yikes! rock: me: bye forever!celebrity status is not consent. how rape culture can protect accused men in positions of power: : for life ...said no one ever. : hard fought game tonight, leave it all on the field : final: cowboys , washington . how about them...errr... a formidable rivalry as always georgie ! what a game.... overtime rt : dr jerry jones, the billionaire back specialist just told jason garrett that romo is ready to return. now: jerry jones, jason garrett &amp; i are on the verge of a heart attack.... !!! rt : i disagree: the fb post was damaging. not one of us needed to see his personal info, and why? he was getti : now this is what a looks like jerry jones &amp; i are on the verge of a heart attack...... !!! g my man !!! pr experts claim is \"winning\" the media war: rt if you agree; fav if you can think for yourself. \": end of the rd qtr: cowboys , washington . g rt : . is now over yards for the season, and has his th straight yd game. rt : fg is good by dan bailey. tie game! incredible run, !! : ya. i should warn you. at times i\\'m not politically correct. it ain\\'t pc; it\\'s \"anti-racist.\" : yessssss! romo is really hurt... never good to see any player injured, regardless of teams. : okay i\\'m back. i just went out to buy some redskins stuff. it\\'s the \"washington football club,\" yo! romo sacked. damn. \"g cwbys g!!!\"*screaming at the top of my lungs* : wait...you\\'re a cowboys fan? yikes! now i\\'m going to have to speak rudely to you.... just don\\'t slap me. why \\'s defence is no defence at all: \"a supreme court of canada decision held that consent... sex vs. sexual assault: why ongoing consent matters via samantha brennan !!! gotta rt : interception !! rt : no more penalties please. : washington fc takes the early lead on a fg. cowboys , washington . don\\'t get too excited, georgie ! rt : news: john tory elected as toronto\\'s new mayor if &amp; only if you systematically only date women years your junior &amp; assume a position of power over her, yes. rt : my last gf was years younger (23) when we met. is that \"sick\"? disturbing? what i\\'m questioning is the serial age gap daters - men &amp; women - asking if there aren\\'t unhealthy, patriarchal assumptions motivating them. i\\'m not suggesting that a couple with a significant age gap can\\'t fall in love or bond over shared passions as companions; that can happen. i had a year relationship with dean. he was years older than me. we didn\\'t know each other age when we met; we were both philosophers. : do you question the motives of the somethings dating the year old? yes. i do. definitely. beyond stroking ego, it also plays into patriarchal depictions of women\\'s bodies defined primarily as sex objects. ha! ironically you\\'re confirming what research shows: divided by is + is . the older you get, the wider the gap! rt : i have one word for that: creepy. i have a simple age criteria: half my age plus . i have no issue with age differences in relationships; but, i wonder whether a year or more age gap is healthy for anyone. whether you\\'re a year old man who only dates year old women, or a year old man dating women in their \\'s, i question your motives. why is the age gap widening between older men dating younger women? from child brides to sugar daddy trends, this is all really disturbing. \\'s consent defense shows why consent isn\\'t good enough. why is up to victims to break the silence on sexual assault &amp; rape culture? who else could tell their story &amp; hold an assailant accountable? we have a serious problem if only % of sexual assaults are reported. this is tragic but not a tragedy: sexual assault is a crime. offers compassion to &amp; victims. despite her thoughtfulness, it\\'s a crime not a tragedy. rt : in cda: women too afraid to come forward or file charges. that was me in the s after my rape. no evoluti yo, don\\'t forget to vote! rt : i get the sado-. havent seen a lot of evidence of the maso-. rt : just another day in crazytown. tragic. we need to fundamentally change things if girls/women feel safer reporting to media than rt : i agree. friend went through the ringer when she reported what happened to her as rt : i am so overwhelmed by the comments, tweets and support. so mad at victim-blaming i\\'m speechless... thank you for sharing your story. \"insightful\" is too small a word. must read: if you were sexually assaulted, would you call ? one woman bravely tells her story. tragic.... brave &amp; personal account by on victimization &amp; why women choose not to dial : i just cannot wrap my mind around why, at this point, the victims wouldn\\'t file charges. surely, a plea could be made to ensure privacy, no? i feel like columbo: given allegations &amp; affirmed \"no consent,\" is a criminal case pending now...? a thoughtful &amp; poignant essay on white in : a must read by rt : my latest: why toronto needs to talk about white privilege rt : halifax : my wife\\'s father is still missing, please rt this, and call police if you know anything: as a society we give athletes, celebrities, musicians, etc. way too much power. a criminal act is a crime, regardless who does it. let\\'s face it: if a date calls me \"fat,\" i get pretty damn loud about it. what i wanna know is how we can women loudly reporting violence! : even ? absofuckinglutely! even . that\\'s not to say their accounts are false or to blame them for the abuse: a victim is a victim. we need to know why it\\'s not reported. on the flip-side, i\\'ve met many athletes, politicians, celebrities: if any of them hit, bit or choked me, i\\'d report the abuse to police... why did \\'s article describe the victims as \"educated &amp; employed\" if not to tacitly imply their testimony is credible? if this isn\\'t the most important question worthy of our consideration in all of this, then i\\'d like to know what is... rt : shocking allegations against cbcs jian ghomeshi. i want to know why more women dont feel comfortable going to the po sweet lord. a *believe* t-shirt in ash-grey has arrived...! time for me to tap out. this is what happens when a sex scandal erupts in canada...! note to self: must inform my girl friend that even though she loves to get choked by her hubby during sex, this act is considered criminal. : wow. that\\'s a scary combination of misogyny and ignorance. and mr.anonymous despises anonymity! evidently, neither business policies, nor the law agrees with you. athletes get traded, celebs get fired, to protect the \"brand\". rt : neither do % of all victims of sexual assault, are they all suspect or just scared? your lack of logic is mind-blowing, as is your ignorant view that women are \"social-climbing whores\". why are you anonymous??? repeating the same statement over &amp; over again doesn\\'t make it true. by jian\\'s own account, he\\'s guilty obviously, you didn\\'t read the article...while it\\'s true there are cases of false allegations, the law is clear about consent. want facts to think about? read this: we are still utterly failing as a society if women are too afraid to report sexual harassment at work or sexual assault when it happens..... is innocent until proven guilty? last night i thought so... not anymore. read: but in the case of bdsm, i support supreme court legislation as it is currently articulated: one cannot consent to sexual assault. period. i support sexual diversity. i support our social &amp; legal evolution from the days of criminalizing homosexuality &amp; anal intercourse... rt : depends on conduct. as you posted earlier criminal convictionsexual harassmentsexual assaultchild pornography/abusevawfraudpartyingsex orientationreligionpolitics should an athlete, politician, celebrity or other public figure be fired for conduct outside of work? if so, what are grounds for dismissal? if teaches us anything, it\\'s that even \"consenting\" sexual assault is not legally defendable in court. why is guilty: \"...the supreme court has said that a person cannot consent to assault.\" rt : jian ghomeshis potential cbc lawsuit is hopeless even if hes telling the truth via innocent until proven guilty? the law states otherwise: any sexual act causing bodily harm is a crime. ... the ghomeshi question: the &amp; consent via wow your eloquent empathy for victims of violence against women makes me love you even more...! nicely stated. rt : my view as fellow \\'canadian celebrity\\' on story. rt : while harper remains in denial, even the pentagon admits is a threat rt : \\'s trial continues in twitter\\'s court of pubic opinion. jian ghomeshi is fired because he says a woman lied about him: an example of rape culture? if the allegations are true, i sincerely hope the justice system protects the victims rights &amp; prosecutes to the fullest extent of the law. i\\'m a survivor of . a close friend was wrongfully accused of by an angry ex-gf. she admitted to false allegations... rt : u believe women when they say they\\'ve been raped/abused, or u r an apologist for rape/abuse. it\\'s that simple. choose a this slut votes! rt : with million still out of school, we still have a lot of work to do! are two times more likely to be beaten by their husbands via every girl should be in school; no child should be a bride. india\\'s child brides \"a mother feeding her daughter date rape drugs is not uncommon\" every girl has the right to &amp; to be free from sexual servitude &amp; prostitution. our days are happier when we give people a bit of our heart rather than a piece of our mind. rt : new blog post: \"poor persecuted pervert?\" my take on the situation with the info currently available. be mindful. choose your words carefully. be the reason someone smiles today. \"ever wish you were dead?\" ya. me too. : men are stupid &amp; their stupidity drives women crazy. when a man says \"my ex is crazy,\" i always wonder if he drove her nuts. rt : if you\\'re trending on twitter you\\'re either dead or in serious shit. never underestimate the power of kindness to save a life... there are very detailed allegations of violence: if true, why no charges were ever filed is uncertain. : ohhhh i just don\\'t remember talking to you ever no worries. i think you kinda hated my friend. moving on... wassup ? how can i help you? : hey, did you block ? yes. years ago. for the record: i never filed any charges of physical or sexual abuse despite enduring countless acts of violence. innocence until proven guilty; however, as my buddy thoughtfully reminded me, evidence is hard to come by when victims are afraid. rt : i think it\\'s wise to hold judgement. so much anger from all sides &amp; we don\\'t yet know the truth. battle lin rt : innocent until proven guilty. bedrock of justice &amp; democracy. perhaps i\\'m being far too charitable in my open-mindedness &amp; need to protect innocence until proven guilty... if so, then i\\'m wrong. period. years ago, i was punched so hard, my eye was swollen shut for weeks, amongst other violence. i do not condone in any way, at all... as a victim of violence against women &amp; sexual assault, i understand why women don\\'t come forward. i\\'m just waiting for more info. rt : btw, main reason sexual assaults arent reported is bcs victim doesnt think attacker will b rt : i can imagine many reasons why they might not pursue charges against someone of his stature especially if th my reaction is to ask: why is has no formal evidence or charge corroborated these allegations? public opinion is not my courtroom. rt : i don\\'t know, but it\\'s reactions like yours that make it hard for women to go public with stuff like this. trust me, i just had a \"bad date\" &amp; that\\'s not remotely comparable to date rape. still, i reserve judgment without evidence. : this doesn\\'t sound like a \\'bad date\\' to me: agreed. allegations police reports. why? it is entirely logically consistent for &amp; i to endorse a) innocence until proven guilty and b) legislation. the presumption of innocence by or myself is not a statement condoning any form of violence against women... rt : it\\'s high time got serious about gender-based violence and sexual assault. apology? there is fundamental difference between a \"bad date\" &amp; \"violence against women\". let be mindful before crucifying , shall we? if there is truth to this toronto star news report, then obviously i retract my support for . an open letter to men who comment on women\\'s weight georgina burke, the plus-sized model &amp; spokesperson for torrid, is years old. her dress size: . guys: if you\\'re only attracted to a \"model body\" &amp; turned off by plus-sized women, perhaps you wanna date -23 year olds. think about that. % of american women are size +. why is the fashion industry using -23 year olds to set the standard of beauty? eat healthy. exercise. love your body. model carolina reston died at age from . her : tomatoes &amp; apples. does she look to you? is the industry &amp; to blame for unrealistic body images promoting eating disorders? is the most lethal psychiatric disorder: in die. french model isabelle caro died at age . her story: healthy weight or healthy mind? via i take seroquel for major sleep disorder. this is my dilemma.... i love you, too, my lovely! are you listening to the hallowe\\'en haunting on ...? so spook-tacular!! those who know me best love me &amp; understand my beauty: \"you care about a better world &amp; flood it with love...\" much love for the love y\\'all. rt : confidence is sexy. true beauty never fades. knowledge is power. kindness is admired. you are irreplaceable. i felt deeply hurt by his comments, so i\\'m sharing my struggles to educate people on how harmful words can be. i\\'m . what changed is i started dating again. my last date accused me of misrepresenting myself across the internet: blatantly false. merci! i\\'m trying very hard to embrace my body, since it\\'s out of my control. neither my diet, nor my workouts have changed... rt : and you caught me on terminology - in my mind too thin is not healthy in my mind - concur it is all subje rt : i will admit - you look like two different people in those photos. it is your ribs visible in that is the is hard enough without ignorant judgments &amp; comments that attack our self-esteem. if you judge my body as \"too thin\" or \"too fat,\" that\\'s your opinion. perhaps you also think a person who uses a wheelchair is \"a cripple\". your comments actually prove my point: beauty is in the eye of the beholder. robert &amp; i posed for photos &amp; before dinner. rt : i think that you are absolutely stunning in photo !!!! is way too thin and is well on the way to bei that\\'s the thing about photos: photos &amp; were from the same wedding. yet, to you, my body weight appears totally different! : i can say that jian ghomeshi would definitely still hit on you, and it would still be creepy pardon?! be kind. sending much love to during this difficult time. you\\'ve always been so kind to me; i know justice will prevail. stay strong. september . rx change from pristique to effexor to zoloft; zopiclone to seroquel. huge weight gain. dress size: stephane quintal, me &amp; robert cimetta, cape cod wedding, . i lost so much weight, my chest bones were protruding. mrbig &amp; i, august . i started antidepressants in march for the first time &amp; lost so much weight. dress size: . women on antidepressants are % more likely to be overweight; % more likely to be obese. anti-depressants cause weight gain or loss. if you know better than to ask a cancer patient about hair loss, then don\\'t ask about my weight. rt : the illness tells you you\\'re weak.the illness makes you feel weak.but when you heal, you can see how strong you had to always on my mind - willie you, forever, my love x last kiss - taylor swift\"i\\'ll always love you\" he wrote years ago to me...i just found his note today. enchanted - taylor swift:// \"the bravest thing i ever did was continuing my life when i wanted to die.\" - indeed. she\\'s a national treasure &amp; one of the most beautiful people in the world, . i cannot say enough about her. rt : yw is a beautiful lady, she picked up my daughters n her friends lunch in sktn. great lady great unchained melody - righteous brothers you x for always insensitive - . such an amazing song on so many levels...gotta love our ja!! awww... thank you kindly, my friend, damien... {hugs} heart of gold - neil young you with gratitude flooding with love x rt : who, in their right mind, would think this would be an appropriate question? love me, or leave me alone. ...but i can\\'t change the fact that i am . and anyone who chooses to love me just had to accept that basic fact about me... i\\'d never wish any hardship on anyone - not cancer, depression or disability. i get it\\'s easier to be with someone not sick than sick... true l o v e is about what you give... oh hey ! we\\'re just talking about my recent date who asked me about my weight gain due to over dinner... : my favourite part of that was \"triviality like phd\" ah, well, to me it is a triviality. sincerely. : . things like this make me sad: oh gawd... i know. apparently, i\\'m voted \"hot\". : the food is so darn good. almost criminal. haha! that\\'s funny! meds make you fat, regardless! i refuse to be judged by superficialities: like me as i am, or not at all. rt : . it does seem like people in the south place less emphasis on thinness. everyone is lbs heavier, but much : sorry steph. forget that asshole. you\\'re beautiful outside and in. thank you, josh {hugs} rt : . for what it\\'s worth, i\\'ve also gained a ton of weight since starting meds (~30lbs). fortunately, i\\'m in the to summarize this shitty day &amp; crappy time in life, please don\\'t ask me on a date based on how you think i look or some triviality like phd. rt : ...and be happy with yourself - life isn\\'t a competition. it\\'s about help not hindrance. : im up lbs since restarting my meds - i fully understand it\\'s hell. people are so shallow. it\\'s sad. {hugs} rt : this bothers me. go have some brie and a glass of wine. that man was a fool. my preferred term would be &amp; georgie hi friends... thank you. the longer i know you, the more i love you... rt : tonight\\'s beautiful, thoughtful tribute opening via in life, there will always be someone smarter, more beautiful or handsome, or more healthy or wealthy than you &amp; for you...never be unkind. rt : truth. lol. humans are horrible failures at unconditional love. imagine if your spouse met you at the do i know... i could only eat an today. that\\'s precisely why i\\'m sharing this openly &amp; honestly: eating disorders start this way. rt : um. bad idea? you need to eat or youll get tired, down, binge get frustrated, down, binge .repeat. scre why? i want a lifelong companion who loves me as i am, not as they expect or hope i\\'ll be... i believe love is everlasting, unconditionally. so. to be clear, after questioning me about my weight, my date was still \"open\" to seeing me again...i took a tearful taxi home &amp; said \"no\". : that\\'s all that matters, when we\\'re we can\\'t &amp; won\\'t be models then, it\\'s what\\'s on the inside : wow, really... may i suggest jan arden\\'s \\'insentitve\\' as this guys theme song. hahaha! is the best!! rt : : yeah...smart...and zubcic-less. damnthoseinsensitivetolls hahahaha! you\\'re smart &amp; a good person. i may move! that\\'s what i\\'ve affirmed today. i may be overweight but i carry a heavy heart filled with love, and that\\'s what matters! totally. i\\'ve learned to walk away at the first signs of superficiality, negativity &amp; toxicity. my life is tough enough... rt : social media &amp; society is inundated with anger, hate &amp; criticism. people unhappy in their own lives lash : why do you go on dates with insensitive tools? why not just move to vancouver ?? haha!! you\\'re so smart!! mr.big, who i\\'ll always love, is a former nhl athlete who is now heavier. it never mattered to me! similarly, he just cared for me, as me. why do people feel the need to scrutinize, to judge, to be mean...? i really don\\'t get it. seriously. i agree wholeheartedly! i had a couple of dates recently &amp; there was zero physical connection between us: totally cool. rt : as i get older the more i realize that everyone struggles - always be kind. you have a good &amp; noble hear : you\\'re welcome! keep smiling thank you, scott! i\\'ve asked my closest friends if his statements about me were in any way true; and, every single one them said he\\'s an insensitive tool... i explained the negative side-effects of my rx for depression prior to our first date last night; he claims my photos are \"misrepresenting\". : do people seriously do that to you? that goes beyond rude. i cannot possibly make this up... that\\'s all true. thank you. truth is, i accept i\\'m not meant for everybody; i just don\\'t think any man should feel the need to humiliate me. rt : they are jerks. unbelievably rude. boors. chumps...need i say more? yes, it\\'s hurtful. don\\'t worry about thank you. beauty is in the eye of the beholder; and if you\\'re not interested, simply walk away...be kind. rt : such a beautiful woman. the ridiculous ideals that society, media &amp; men impose upon fem of course young women internalize these images! why do you think so many of them care more about their glutes than grades? creepiest part of all is that most models are under the age of ... if that\\'s what ya think women look like, think again!! rt : children internalize such images. i try to counter the culture, but i not sure what impact i\\'m having in rt : drug and grocery stores shouldn\\'t display magazines with half-naked young women at cash, where kids can : bruno mars once sang. girl you\\'re amazing just the way you are! fuck what anyone thinks of how you look. ty agreed. by the way, i\\'m turning in january so we\\'re likely close to the same age! ha! my most recent dates were &amp; ... maybe they just wanna date a year old. who knows? who cares? it\\'s just hurtful. true. people are rude, amongst other things. i\\'m not worried... i\\'ve barely eaten since my last date, so i\\'m sure i\\'ll beat the side-effects of meds &amp; be back to my \"skinny\" in no time. : who does that? very rude. my last couple of dates. i\\'ve gained weight since ... i completely lose my appetite when a guy questions my weight. does he know in result in death? the people i love, i love with all my heart. that\\'s why i am the way i am with you, and why i so love sundays. i flashback to the night i almost took my life, august \\'13: you saved me by being you: by caring &amp; talking to me. rt : i flashback sometimes to bad moments and think \"im petrified of returning to the pain. and i\\'m thrilled i\\'m not feeling i i no longer have patience for superficial, toxic relationships. i\\'m unafraid of letting go. be meaningful, or know you\\'re meaningless to me. beautiful people do not just happen... rt : truth be told: i used to be *too* nice. too quiet. too polite. then i learned i can stand up for myself and not be guilty abo emotional intelligence is rare; it is the highest form &amp; characteristic of an extraordinary mind. be extraordinary. be kind. be loving. overweight?unemployed?short?bald?cancer?depression?diabetes?paraplegic?uneducated?poor?single?everyone is worthy of . your response to \"can i find love if i\\'m depressed\" may be the stupidest thing i\\'ve read. is the transformative power of under threat in systems obsessed with targets &amp; ? rt : in honor of picasso\\'s birthday today, check out the and art program at the is a costumed halloween dance party, no? rt : sunday: \\'s hallowe\\'en special with &amp; more we live in an image-centric society. pictures may be worth a thousand words but beauty is always in the eye of... wish you were here - pink floyd\\'s play the entire album tonight because it is flawless, like us x : thx for asking! sorry to hear about that. resources here: so much. \"my friend is talking about : what should i do?\" how to help your grieve: counselling advice for how to help a cope with of a or member when a child\\'s friend dies by rt : dublin fireman will run marathon with childs weight on his shoulders to highlight teen suicide. hero what resources are available to help speak to a in the wake of a classmate/friend dying by ? please help me help him by posting any useful resources for dealing with &amp; child suicide. much love. (2/2) tragic. just found out a friend lost a good friend to last week; his child also lost a year old friend from school today (1/2) what can we learn from the tragic events this past week in ottawa? while it is absolutely true our broken... rt : thanks for the continued support of g! every child has the right to . rt : minister valcourt addresses question by re:first nations child welfare rt : goodbye - off to sweden for the world\\'s children\\'s prize foundation event. love emma ... feeling like a hopeful romantic again lately, ya know? miss you, my lovelies! xoxox ha! i just love that movie! who falls in like that? always seemed too good too true; maybe it isn\\'t. life is beautiful. i never knew what it meant for a man to sweep me off my feet...until now. did ya enjoy a fab birthday, my lovely? your wish came true: \\'s wahlburgers is opening soon! rt : hi stephanie; yes, it\\'s so awful. you might want to send this to your followers, to provide support my heartaches for nathan cirillio\\'s son, marcus... : catching my first fish with my kid bro in . cancer was tough; but, we were tougher... p.s. love your new background photo! wow. your nephews are growing up so quickly... adorable. {hugs} so true! good nutrition is vital. i also tell parents to use grocery shopping &amp; recipe cooking to improve skills. rt : kids need protein, not sugar. though i teach history, i spend a lot of time on nutrition. rt : it is imperative that we teach proper nutrition as early as possible via rt : \"any argument that [snowden] was a foreign agent or nave hothead or an arrogant narcissist pretty much falls apart\" in the harshest place on earth, love finds a way...we could learn a lot from penguins. march of the penguins: : ok now they totally look like knees! lol wild, eh? penguins have knees! and soul mates! : you forgot to take your shot of alcohol! at this point, i may need an iv infusion of cosmopolitans...! : those don\\'t look like knees.... are you sure? cause the internet is always right! : made me chuckle. thanks! sweet! who knew? penguins do have knees! now we sleep! what do ya think ? this question is gonna keep me awake even longer now that i\\'m laughing le me trying to fall asleep......le sigh. so: i took my sleeping pills hours ago. went to hot yoga. soaked in a hot bath. read for a couple of hours. twittered for a couple more... oh, and we need to set a date for a girl\\'s night soon... let\\'s find the all-night bar! : hello to you too gorgeous. i\\'m always awake now. thanks for the tune. love ya! {hugs} fancy meeting you at this time of night, my lovely.lemme find ya some words of l v e wise words. : you read all news reports as well as others say she wasn\\'t. other media are not quoting her own lawyer. logic dictates: a) law enforcement had sufficient evidence to charge her with homicide; b) defence reduced to concealing birth : right i understand that but we don\\'t know if that\\'s the case here. i totally disagree: just cause for arrest. her lawyer *explicitly* states she was originally charged with homicide. please read all news reports: whether homicide is proven, or, whether the deaths were the result of stillbirth, it remains a criminal act punishable by law. according to canada\\'s criminal code s.242, s.243: one can be charged for concealing birth of a child with intent to end life. please read all my posts. the lawyer for the accused told media she was initially charged with homicides for all infants. what\\'s the legal precedent for asserting a lesser charge of concealing a child in canada? criminal code (242): injury to, or death of, a child due to mother neglecting child birth aid, with intent to end life or to conceal birth. giesbrecht, , is charged with offences of \"concealing the body of a child\". yes. police confirm: dead babies. giesbrecht was originally arrested for homicides before her high-priced defence arrived. translation: giesbrecht was arrested for the homicide of babies; but her savvy lawyer successfully swayed the law. giesbrecht was first arrested for homicide but those charges were changed to offence of concealing bodies. it is *possible* all infants were taken to the storage by another person(s), but either way the charges hold her culpable. true. however, law enforcement has enough evidence to support the rare charge of child concealment; so, homicide is logical. o canada can y\\'all please explain to me why, we as a nation, systematically continue to deny from age -18? unconscionable. rt : because the police don\\'t know what happened yet to those babies let alone who they were born to. dead babies. no homicide charges. the woman who owned the winnipeg storage locker is charged with concealment? wtf. canadian woman was charged after the remains of babies were found this week in a winnipeg locker. :// rt : slain soldier nathan cirillo was a yro reservist/personal trainer who wanted to be a ft soldier. had a son &amp; dogs. rt : caporal nathan cirillo(1990-2014) awww... after a long day of sad news across canada, these smiling, joyous li\\'l faces helped heal my heart. rt : we think it\\'s safe to say these kids had a great time tonight. : thank you for remembering the babies. always. heartbroken beyond words... such tragic news across canada today... may young cpl nathan cirillio &amp; the babes found discarded today all find rest in eternal peace... rt : infant bodies found in canada locker - no words rt : major , major . % of $ raised at benefits our schools in . rt : : sunday, we asked a very handsome guard for a picture with my friend visiting from cali-rip nathan cirillo rt : tragic.rest in peace cpl nathan cirillo. via is a life-threatening illness: \"kurt cobain, alexander mcqueen &amp; robin williams suicides, among so... rt : please read \": how i\\'m kicking depression\\'s ass- : it\\'s pretty scary around here ugh. i\\'m so, so sorry. stay safe. sending love to you &amp; your family... {hugs} to all my friends in ottawa, especially those of you in parliament, my heart is with you... stay safe. stay strong. rt : update: attacker shot dead in parliament after soldier shot at war memorial rt : the canadian soldier shot at the war memorial has died, officials reported. rt : canadians: in sadness &amp; outrage at today\\'s tragedy, let us be unitedresolved to stand strong, together. rt : video: on what we currently know about the rt : raw video: witnesses describe the scene on parliament hill after shooting at national war memorial. the goddess of soul, nina simone - someone to watch over me to truly fall in l v e is to fall in lovewith a soul... : hmm. stephanie smith. stephanie bieber. stephanie cruise. nah, i like the status quo. haha! we need to end the stigma against mental health ... i tried to change it lots of times but twitter wouldn\\'t let me. so now it\\'s my rightful surname until someone marries me! : hey beauty, you put accents on your name; is it now zoob-cheech? thank you for noticing! always was zubi...!! : and you have $2.51 there. hang onto the penny, they don\\'t make them anymore. its + .25 +.5!! ha! $2.30cnd our penny is obsolete now, so save that one for a special wish the next time you find yourself at a wishing well! rt : people do care yu suck landsberg!!!enjoy the moment &amp; quell the crazy belief you don\\'t deserve all this hoopla... you do. rt : so many kind words from so many wonderful people. it\\'s overwhelming. can someone say something negative? i\\'m not used to rt : oilers goalie supports via special masks via cc words fail to express how proud i am of my best friend, ml history will remember him as canada\\'s leading mental... rt : woo! hoo! wonderful news! thank you for awarding one of the most special people i\\'ve ever known: saved my life. rt : chat wed pm et. can have it all? a sports perspective hosted by / pls family: let\\'s congratulate , award for his advocacy! so.much.lve xo rt : . being recognized by for his dedication to mental health awareness http: today is a zero. just like me. you are not a zero, brutha. you\\'re sick, not weak. sending you much love. migraine. ugh. on the positive side i spent the afternoon with the legendary meryl streep in my dreams this afternoon... yo g , how many sleepless nights did you play music with me...? hard to believe my cancer kid is surviving &amp; thriving... thank you me too! someone i was at the fleetwood mac concert saturday... this one is for you, baby girl! fleetwood mac - landslide you x love, me rt : shipped books to keewaytinook okimakanak high school and the indian friendship centre in thunder bay! rt : a test case for sexual harassment super excited for at pm! not only did my win again, i think even my bestie is falling in love with \\'em! rt : is the greatest of all time? next time y\\'all get an \\'a\\' on an essay, graduate, land your dream job or help someone achieve success ! : is all geared up &amp; ready for the game! nhl &amp; nfl lving &amp; so much that i\\'m tempted to retire my jersey! rt : those dallas cowboys are now -1 &amp; for next hours, merch on is % off. promo code: and1 http\"sesame workshop tackles with technology\" via rt : feel let down by adults in their lives. we let them know we will always be there for them. l v e without condition. be brave. be bold. give freely, without expectation.love purely.live peacefully. sleep well you beautiful souls...especially this li\\'l one who is still waiting for her $1, tooth fairy...! rt : wow. haven\\'t heard elo telephone line in ages. always chooses gems for the big liedown on oh my..... loving tonight\\'s big lie down....sublime.\"oh telephone line... i\\'m living in twilight....\" rt : some serious pre-snow street hockey going on in beaumont ab today. your love makes slayer even sweeter, g ...! rt : we got &amp; reppin rt : the dream serenade benefit concert is only week away! proud to be a part of this. get tix: ht sweet lord: &amp; his harmonica are rockin\\' this old gypsy soul...! loving this dream serenade, georgie rt : to go along with this evenings episode of - bts photos of / rt : aww yeah! \"maps\" by yeah yeah yeahs cc: rt : a nod to the gods on ! \"tainted love\" by gloria jones cc: rt : \"he set up a whole world of trains as a way to experience things with his son\" when met , on rt : love what you do. love music...? we love music, too. join us? love, me, g rt : new york jews brace for, and protest against, the mets production of death of klinghoffer - quotes from my speech htt another brilliant win by my !! next, we play georgie \\'s washington football club on the th... we got this. rt : . is good from yards. rt : touchdown !! rt : .i am trying not to say anything until after the game but thats my son!!! and he represents well!!! : hi my beauty! hope you have a blessed week thank you! sending you good wishes &amp; love, too! xoxox wahooo!!how about them ? rt : romo to for a gain of yards. too heartbroken to even read this article... if you have information about this case or any other cases of... g cwbys!!! tie the game!!! we got this. my , georgie &amp; friends ... is it any wonder why i lve sundays? rt : a little pre-show treat: kicks off at p on rt : tonight! we\\'re proud to share world exclusive title track premiere with . pm, rt : there it is!! yessssss!! my year old beloved baka is illiterate; i earned post-secondary degrees, including a doctor of philosophy in... : hey mentioned you on only time he\\'ll wear a tie is at a wedding, funeral or if he\\'s the defendant. confession: i\\'m a bit obsessed with the writings of david foster wallace... his insanity is pure genius. wise words: \"keep your heels, head &amp; standards high.\" coco chanel every person, every sickness is unique; generalizations only perpetuate misinformation, stigma &amp; falsities. each story matters. not only will he go to the cancer clinic monthly -10 years, due to chemo/radiation he\\'s high risk for heart disease. he\\'s . i\\'m sorry but you\\'re misinformed. it is not so black &amp; white. many battling cancer, like my bro, must manage illness for life. rt : with cancer often cure=live vs no cureeath where mental illness is no cure period. manage at best=meds&amp;cop that said, there\\'s more empathy towards people battling cancer than brain disease; also, much more medical research in cancer. that\\'s an awful assumption. my bro battled advanced cancers for the past few years, and it\\'s much more complex than you think. rt : seeing the struggle sometimes i think cancer would be easier. u have brain scan of schizophrenia; that too i true. but, it\\'s no different than any other disease. unfortunately, i have a lot of first-hand experience with sickness... like all disease, there are vastly differing degrees of sickness. whether you like it or not, brain disease is a sickness. mental illness is just like cancer. some people take medications &amp; no longer need treatment; some people die by suicide, sadly. cancer is a sickness. sometimes it can be treated successfully; sometimes it is life-threatening, resulting in death... rt : i always think of a sickness as something that can be cured. mental illness is life. medications can manage : now more than ever is like canada\\'s boyfriend - he spends saturday nights absorbed in hockey. rt : the new format is so much better. thoughtful insight replacing idiots yelling at each other rt : such evil becomes banal, the more \\'ordinary\\' the evildoer the less he will see himself &amp; his actions as evil. neurological brain disease is a sickness. why else would i - or anyone else - take medication to help treat it? rt : i like this but mental illness isn\\'t a \"sickness\" it\\'s a permanent biological &amp; physical condition- right? rt : also, i\\'m delighted kept his style, rebelling conformist corporate suits.it\\'s hockey, not the united nations. croats invented the tie for religious &amp; military purposes. a \"cravat\" necktie is actually a cross: a symbol of roman catholicism. for y\\'all chirpin g \\'s attire, educate yourselves: it\\'s cravat day. the tie is originally a religious symbol. rt : get your beer &amp; cheezies, min to . can you predict what colour \\'s pants will be tonight? i\\'m going w/obsidia \"nothing in the world is more dangerous than sincere ignorance and conscientious stupidity.\"martin luther king jr. nothing like crossing paths with a hateful, racist, slavery-enlisting, misogynistic, homophobe to remind me how ignorant people can be! sad. rt : i love the implication that aristotle\\'s views on \"natural slaves\" were anything but abhorrent. rt : don\\'t mind chuck, he belittles all women equally with little misogynistic endearments. he. doesn\\' rt : just say what you mean, ginger. by \"natural slaves\", you mean black people. if y\\'all wanna lecture on the merits of slavery, be my guest; to me, he\\'s like that hangover joker! a) i\\'m not your \"dear\"; b) unlike you, i\\'ve spent decades studying plato &amp; aristotle, including their views on slaves &amp; women rt : doubtful, my dear. bell curve distributions of intelligence, and all. did you get to the part about \"natur : your genetics make you a natural wal-mart greeter, cousin it. hahaha! : he has me blocked, please ask if he endorses the idea of natural slaves he believes it has merit. rt : but useful idiot,shows true face of conservatism: racist,m if history teaches us anything, it is that intelligent people do evil acts. slavery, genocide, terrorism - are just a few. rt : i\\'m against artificial slavery (i.e. enslavement of people because of skin color). aristotle\\'s view of \"natural slaves\" rt : man who died years ago when slavery was common even for debts should be our mora read plato &amp; aristotle? ummm, i\\'ve *taught* plato &amp; aristotle to university students, all of whom were way smarter than you! no intro to aristotle required. unlike you, i earned my doctor of philosophy in philosophy. enjoy your cave, man! rt : professional narcissist, trolling the world feeds him &gt;&gt;&gt; rt : slavery is rational? rt : do elaborate, please! rt : yes, he did. and slavery is perfectly rational. there are natural sl rt : who are natural slaves chuck? rt : this guy is not well. rt : yes, he did. and slavery is perfectly rational. there are natur : yes, he did. and slavery is perfectly rational. there are natural slaves, after all. oy vey...! *rolls eyes* plato also thought slavery &amp; misogyny was perfectly rational, too. just sayin. rt : my critics think my comment about compassion being a vice is from ayn rand. it\\'s from plato, actually. rt : sunday! sunday! sunday! has brand spankin\\' new tunage from on world premiere levels! pm, so. much. lve. and g , your perfect shrine of music headed with the goddess of soul is divine! rt : this is a nice start to a saturday. at my home &amp; a gorgeous cover: : where and when? a li\\'l hometown street hockey next summer in st. thomas on with joe thornton &amp; friends. haha! so, apparently i cannot spell correctly...! i still him &amp; invite him to our street hockey game! speaking of ninjas, what are y\\'all dressing up as for halloween? we should be insane...oh wait... um, i guess ya didn\\'t hear the news: i\\'m kickin\\' ass...! {insert ninja icon} rt : simple question \"how are you?\"\"fine\" and \"ok\" don\\'t mean anything. this is a safe place where you don\\'t have to mask any awwww... you save yourself !! i\\'m just here to remind you have family &amp; you\\'re loved. {group hug} and when you see an mri of a depressed brain, the darkness &amp; light are like night &amp; day! rt : that\\'s how i finnd it to be for me too. this nagging thing that grows and i\\'m constantly fighting. : thanks i\\'ll have to try the candle thing that\\'s a great idea we\\'re sending ya light &amp; love tonight. awww... me too! that\\'s why it\\'s always good to have a candle to light up the darkness &amp; lighthouses to aid us in the storms. {hugs} rt : this is what depression is like at least for me anyways who is responsible for child in canada? it\\'s international day to eradicate poverty. dyk % of first nations, inuit &amp; mtis in canada live in deplorable... rt : awesome work emma and julia! xo please ambassadors to learn more about &amp; inequality in . strong evidence shows the &amp; gap between aboriginal &amp; non-aboriginal is worsening, not improving. with due respect, improving child poverty &amp; education inequality across canada is not nearly progressive enough. time to act! rt : all true, but lots of positive developments as well: \"overcoming poverty is not a task of charity, it is an act of justice...\"mandela the correlation between &amp; increased rates is evident: poverty is a form of genocide. , inequality &amp; are killing our , &amp; . \\'s apartheid must end. o canada: dyk % of first nations, inuit &amp; mtis children live in deplorable poverty? rt : to , gender equality in education &amp; employment opportunities is needed: rt : if all students in poor countries left schl with basic skills, m people could be lifted out of : rt : % of single mothers in canada are raising their children in poverty rt : about percent of have been involved with the child welfare system. rt : watch put in his place on today at pm et on &amp; rt : awesome sentiment! rt : go ahead, underestimate me... make my day. : i\\'d rather tweet you a smile tell you you\\'re awesome &amp; make both our days better! awww... you\\'re the best! : effing a! and back at ya! love it!! sending ya love across the miles, sunshine!! xoxox : love the pic sweetie thanks! a true l o v e moment with &amp; mamag! go ahead, underestimate me... make my day. rt : sunday on : talks , &amp; covers from \\'s home rt : international day for the eradication of poverty: why girls\\' education is key to ending destitution rt : paul collier attempts to heap as much praise as possible into one book review for and wudunn\\'s new book h : perfect i will make sure harv has the vip spot open for ya\\'s at the middy ha! he invited us! i\\'m bringing , corey landsberg &amp; georgie . we\\'ll go to the midtown after the game. : steph i havent seen you out for road hockey game yet! we play every summer leddy!! rt : we agree! we\\'re supporting for women and girls worldwide at . rt : it\\'s international day for the eradication of poverty. educating girls helps . to you? \"well, it was a million tiny little things...\" sleepless in seattle nina simone - to love somebody you, my love x dyk cashews aid sleep?and a classic from the piano man, for you, my love x rt : proper grammar... it makes you more attractive. there is no path to happinesshappiness is the path.buddha rt : after last weekends game they showed they just might be able too go to the bowl : not big on trash talk, should\\'ve stuck to how dreamy tom is all good! best of luck to your seagulls! : hey are you seeing this? &amp; i are keepin\\' the faith! hot yoga was so h t tonight. : let\\'s see what comes out in the wash game on!! : seems unlikely, doesn\\'t it? ha! my *crushed* ya! bikram teaches me to cure what need not be endured &amp; endure what cannot be cured. : also, he was too shy to talk to girls in high school bashful brady?shut. up. !! rt : on find out about the zero hunger challenge : planning this week\\'s requests? alice in chains: nutshell, would? or man in the box : why does he have to be so perfect? dyk he wasn\\'t a qb starter in college? papa just told me. who knew?! rt : cameco donates $5 (up to $10k) to for breast cancer research for every tweet/rt with wow. brady is on fre!! seconds!! nyj - pats can be any cooler? gawd, i love that man!! you weren\\'t kidding - he\\'s the best otr guest ever! so proud of you, ml!! lovably is an adverb!! hockey players need a better rt : . at et w . loveably angry. yeah jeff loveably. jeff came with a story to tell, stayed for the rt : not only did bring it today, he brought all his rings too! watch at pm et on &amp; rt : otr at est. . perhaps the most charismatic guy ever on otr.listen to his \\'boys pep talk. he\\'s /2 givin rad article ! when calls for sports insights, give \\'em yer foam finger! rt : men\\'s health tried to offer a how-to on talking sports with women. i offered up a lesson of my own: fyi: my most educational experience in years as a grad student: project serve application! i\\'m project serve alumni, , mississippi coast hurricane katrina relief: ! rt : project serve reading week applications are due october th! fellow scholar wrote a graphic novel about . let\\'s raise $ to distribute to schools! love your new avi!! \\'t wait for \\'s motivational rant today! haha! does countless hours of street hockey with joe thornton count...? kisses g ! ! tips for bikram beginners ... no matter how many times you may fall or disappoint yourself, rise &amp; shine...! congrats !! rt : harry has exciting news!! why aren\\'t girls in school? educating girls should be a global priority. here\\'s why: [infographic] as &amp; tech grows exponentially, few question the use of in k-5 classrooms: : ok, so.... is approaching and here is an interesting type idea tip of the week: are you teaching your child intellectual struggles are a defeat or an opportunity?... rt : struggle means learning: difference in eastern and western cultures rt : tell each other scary stories make-believe or real-life. more spook-tacular literacy tips: ht rt : it\\'s dignity day! coldplay - fix you you, for me, for us, always x rt : join liam neeson to issue a for . post pic after you wake up &amp; text syria to ($10). http: rt : george, thanks for raising awareness about . great to see so many canadians using their voice &amp; inve : sad thing is a bunch of the % have one too - they just dont realize it such a true &amp; insightful statement! rt : sharing depression can make a huge difference u &amp; for anyone u share with. but pls don\\'t ever think i think it\\'s that s eye-opening read about dating with mental illness &amp; stigma: all of that, plus the questions that arise: whether you would be able to parent, whether mental illness is hereditary, etc. rt : no, but i should! so much of trying to present your best side,struggling to keep panic attacks at bay, ca um, ya obviously didn\\'t read my tl when ya came up with that brilliant remark: ya forgot to mention my nfl smarts! rt : part how mental health affects the business of policing rt : a bully urged her to die. how she responded is simply beautiful (via ) \"wind does not discriminateit touches everyone, everything. he liked that about wind.\"lish mcbride georgie dyk a study found % of people wouldn\\'t date someone battling mental illness? thank you for being my beau. dates with a prison record are less likely to be rejected (42%) than dates battling mental illness (44%). dyk a study found % of people would not date someone with a mental illness? loved \"mothering with mental illness\": dating with mental illness is tough. ever written about it? rt : youre going to have to go through obstacles no matter what, but things happen for a reason... this is my story speaking of sports, i\\'m kinda falling in love with ...not so much that i\\'d cheat on my cowboys but enough to give him a {hug} ! : called, they\\'d like you back. hahahaha! hilarious! loves ya, georgie, just as you are! turkey burger for the !! enjoy as stampede the superbowl! this is why is my man!!! we share a love for my who are kickin\\' ass! dallas dropping from america\\'s team to proves most fans are fickle. enjoy as cowboys stampede the superbowl the broncos are america\\'s team? that\\'s crazy talk, eh, ? rt : \" denver broncos have surpassed the dallas cowboys as america\\'s (favorite) team when i hid my depression, no one questioned my ability to be a good partner or parent; now, i openly share &amp; all but one date questions me. the mental illness paradox: the more i share my battles against brain disease, the more people question my mental competency... mothering with mental illness by rt : feminism is the revolutionary struggle for socioeconomical equality for every citizen in this world, not a handful of in a just society, people battling should seriously get a break on late movie rentals &amp; library fines. just sayin. happy thanksgiving georgie ! mamag had me all day. loved her singing willie- my papa\\'s fav too! rt : icymi on sunday, with visits from rt : part of series \\'walking the thin blue line\\' - how are helping each other thanksgiving at papa\\'s: dominos bbq chicken pizza, pepperoni pizza, veggie pizza, cheese bread, garliic bread, chicken wings... thanksgiving at papa\\'s: soup, garden salad, coleslaw, turkey, stuffing, mashed potatoes, butternut squash, corn, baby carrots, pie... even on my darkest days, you are my sunshine. rt : unlike many other illnesses depression prevents the sufferer from experiencing any joy. it\\'s a total blackout of joyful e i you!! yes: you!! i\\'m ever so grateful for our enduring friendship. the joy you bring to my life makes each day sweeter with you. : for to williams: nfl play of the week! rt : it\\'s the big lie down time. a terrific song. \"asa\" by bry webb cc: sinad\\'s \"nothing compares to you\" on says it all... perfect ending to my thanksgiving.i\\'m so, so grateful for you xoxox oh georgie ... how i love your mama. such an angel. tell mama i\\'m praying for her... always. mama g : \"we are all factories of sin!\" georgie bucky baby: all ya need is and these blondes love you. um, with all due respect to hockey haters on g strombo\\'s tl: it\\'s time now. shut the fuck up!!*pops her jean jacket collar* \"oh my baby... you\\'ve been gone so long!\" georgie , you give such good lovin\\'... : hearing a tribute to &amp; his dad. life on mars? by bowie cc: rt : a bit of celine\"all by myself\" &amp; \"hungry eyes\" from dirty dancing!? didn\\'t think my mom could love mo rt : all by myself, haha. just funny. rt : listening to makes me happy enough. i don\\'t need to be gleeful. thank you rt : hey welcome to the bad wedding music segment of on radio grab your date and lets gooooooo! g : \"seriously?\"hilarious! let\\'s crank it up!.much.love : the cowgirls won today? i was too busy celebrating the win to notice. cowboys won !! from my victory to date night with my beau georgie &amp; friends from ... ! ya know are the of the week when even is singing their praise...! how about them dallas cowboys? amazing win! our all-american team is back, baby!! ...:: wahoo!!! fifty-six yard field goal!!!what about them ? rt : a very thanksgiving tonight on : &amp; more c\\'mon !!! rt : rt : let\\'s go offense, shine time : lol i wish i could. you already are kicking away...! reaching out, sharing, that\\'s kicking ass! let it be... this too shall pass, as it always does, and in the meantime do whatever you feel like. stay in bed for hours i envision my suicidal thoughts &amp; feelings like stormy waves attempting to drown me... i just keep kicking until i reach air. i felt suicidal friday night, too. couldn\\'t stop crying... stayed with me, as always, and reminded me it passes. awwww... i will. and never forget i\\'m always here for you no matter what. always, my friend xoxox : thanks buddy. thankful for both of you. ditto! back at ya! : had no idea it was canadian thanksgiving. wanna wish a happy one to &amp; merci! rt : almost go time! : that makes one of us where\\'s ml\\'s ? bet his bedhead rulezzzz! thank you ever so much, my friend. your courage to share your journey with us will continue to inspire hope &amp; save lives. {hugs} \\'s journey offers hpe to anyone battling addiction, an eating disorder and/or : empathy. education. empowerment. challenges mental health stigma &amp; openly shares his battles: : here\\'s my adorable! love your hair! rt : i am pleased to present my new speaking reel. i hope you enjoy it! feel free to share thank you! we are so blessed to have such a special family love y\\'all !! rt : ignore that pathetic clown who has nothing better to do than spew hate. strombo is a time to shower. walk outside. feel the sun on my face &amp; fall breeze in my hair. cowboys kick off at pm, then . it helps that you guys like me just as i am...thanks for the love y\\'all i\\'m trying to learn how to like this new miserable depressed \"me\". she\\'s okay, too... : . \"slow erosion of self\" is the best description of depression\" agreed. : typical comments from someone who never played the game just like never has : awesome. check out . it\\'s great. will do! maybe then i\\'ll shower before the cowboys game! i\\'m sitting up in bed for the first time in about hours giggling over depression comics... {hugs} : and now i\\'m having a sick day. is this contagious? lol. hope you\\'re better today. comics that capture the frustrations of you do have a true hockey heart, georgie , and you will win over the hearts of hockey fans in time. be true to you, as always... rt : tonight: a thanksgiving w/ + more about last night... georgie brought hunkster to hockey night in canada. pac-man is you; ties not so much. \"what doesn\\'t kill you fucks you up mentally.\" rt : ending reduces girls exposure to violence and abuse : rt : happy international day of the girl! we are empowering girls and women and all children though... rt : join us in the fight to , one of most pervasive forms of violence against girls. rt : malala will make her first statement after school at /uk on her and being honored with . so proud of my children reading for children ambassadors, emma &amp; julia mogus ! happy... \"depression...a room in hell with only your name on the door.\" love you, neighbour. georgie hope tonight was fun! missed your debut due to depression -- but i\\'m confident you rocked!! love you rt : i resent my depression for stealing precious years from me. but seeing how sharing my struggle can help others makes me l sick day. rt : rt : how is silencing police officers: rt : is the king of football motivation rants!!! go !!! lve it !!! it\\'s time to end the taboo &amp; talk about the \"s\" word. during the most difficult periods of life when my... feeling hopeless? having thoughts about ending your life? you are not alone. i know how you feel. let\\'s talk: stephanie.zubcic.com a lovely friend just found out a gentle soul from her dialogical behavioural therapy group died by suicide. so tragic. rt : the cool tweeps suicide is preventable. is your stigma against mental illness part of the problem? learn more. i battle a life-threatening brain disease. take -minutes to learn about . rt : everyone you meet is fighting some kind of battle you know nothing about. be kind. always. rt : this , destroy the idea that anxiety disorders are cute and quirky. rt : this , stop telling people with depression \\'you have nothing to be depressed about.\\' rt : today is \\'s , their theme is living with schizophrenia, find out more: rt : it\\'s . spread the word. rt : here and now, we must change somehow - please retweet rt : if someone you love says they have cancer......... or a mental illness.. rt : mt mental health help for all via ht best. news. ever. girls &amp; women are unable to read &amp; write worldwide. let\\'s rewrite history!... : malala yousafzai becomes youngest recipient of nobel peace prize rt : i prefer to be on whichever side of the bed the sex is going to be on. oh, this i gotta see...! rt : the right book is the one the kid won\\'t put down. that\\'s it. rt : thank u! we work with very little (and i mean very little) funding, but our imp big shout out to &amp; for helping me help give more !! so excited!! : there seems to be an abundance of spare floating around twitter. all y\\'all good men: &amp; support un\\'s gender equality: together, lets end !! rt : . launched a new site! it includes resources for , like the grant sending much l v e to my best friend because he\\'s the best part of my day every day! : that was a fantastic segment. i how georgie &amp; inspire men to share their feelings! rt : \"you almost wonder what took us that long to get there.\" jonathan toews on the embracing lgbt inclusion through icymi: georgie speaks to hockey legends crosby, toews &amp; lundqvist about in the : must read via brigitte bardot is my muse for fall/winter -15. so elegant. so sexy. so comfortable in her own skin. rt : were proud to announce a record $22.3 million investment in mens mental health rt : rt &amp; will donate $1 to help send girls in developing countries to school in honour of ! i\\'m eagerly awaiting your next crank call to mama for more talk. georgie, we\\'re all so proud of you. ok...so: i\\'m dying to know what team mama is gonna be cheering for based on team colours... ! omg cleaning toilets is killer hilar! i love ! we need a girls night !! rt : thats what i bring... instant happiness! rt : and there it is... ! mmmmmm... craving a vanilla shake because really is the smartest: insta-! {hugs} rt : that round table was really cool to see. its not too often you hear those kind of questions asked. loved it. rt : really liked the round table segment with talking with crosby, and toews. rt : this is why will be a star. watching thus round table , he brings stars out of their clichd comfort zone : it\\'s like a dream come true ! we are teamates now lol love it...! wishing y\\'all a rad season! day of challenge: cardio. strength training. hot ! with ya in spirit, o.g. ...raise a li\\'l hockey hell emcee ;$ : i dont remember s original response having the pretty shiny heart in it. rt : pre-order \"conversations with a rattlesnake\" and receive an autographed copy by &amp; rt : campaign puts spotlight on ptsd after suicides among first responders : conversations with a rattlesnake a must for people who work with children ty : ken dryden\\'s home game was brilliant too sending much l v e to my beau georgie : hunkster host of hockey night in canada...! xoxox ... to send more kids books &amp; improve , &amp; i are promoting ! gotta a fav book? rt : sharing is as powerful a tool as exists in this world.just hearing some1 say \"i suffer from depression\" can be enough to : i don\\'t sports books. but i thought \\'s playing with fire was unforgettable. every child has the to education. \\'s apartheid is unjust &amp; must end. rt : rob green finds harper\\'s first nations education act mirrors the policies of apartheid south africa: % of countries lack equality. is one of them? : the number of illiterate girls &amp; women. literacy is for life. rt : in girls aged -19 have been victims of physical violence http goalies rock!! i was a wicked goalie!! rt : % vetted and approved by my very own thanks, christie! i\\'ll read it. we\\'d to send this to kids!! rt : hockey girl by rocks : love them all, but how could you not love snoopy!!! !!! rt : it\\'s cards like this that inspire our work with books with no bounds! when we were in fort severn we received... rt : canada\\'s love for hockey is nostalgia, like a stompin\\' tom song. began with foster hewitt to hodge, ron &amp; don grew it. ki ha! gotta fav hockey book? &amp; i are advancing children\\'s with ! rt : with kicking off season tonight, we dig into the archives with gord downie rt : watching my pal nite on new is like standing for national anthem - something all cdns should do proudly. if what is your favourite hockey book? any recommendations for kids? excited for the puck drop? we\\'re sharing ... gotta fav? what do you have on your bookshelf? got a fav read? wonder what are on g \\'s bookshelf... share your fav book! : rt : not even one full sleep to go it begins rt : hockey season starts today! sing it in with on hockey days rt : speaking with about belonging and the first of the tomorrow at pm in montreal. what yoga teaches me: today is day in my day challenge, and already i\\'m feeling sore in places i didn\\'t... it\\'s not who you are that holds you back it\\'s who you think you\\'re not. you can do anything you set your mind to! rt : some kids want to learn so bad, they will even go to school when it is not a school. http:// rt : \"today a reader, tomorrow a leader.\" - margaret fuller rt : fall has arrived and winter isn\\'t far behind!!! rt : . of truthfollow no pathall paths lead wheretruth is here- ee cummings \"it\\'s hard to resist a bad boy who\\'s a good man.\" oh, how i miss george stroumboulopoulos tonight....! time marches on. time now to celebrate superd\\'s birthday,... awww...just noticed my li\\'l birthday girl superd still has our photo posted, georgie ! cyndi lauper - girls just want to have fun superd my sis-in-law on her th burrrf-day, with love i am a forest, &amp; a night of dark trees: but he who is not afraid of my darkness, will find banks full of roses under my cypresses.~nietzsche adversity is a gift; one is taught how to survive by nearly drowning, not by remaining safely on secure shores. best wishes on finding a wwii sherman tank tale; that\\'d be rad. ever read camus? read myth of sisyphus. sleep well you beautiful souls...and always remember to fall asleep with a dream &amp; wake up with a purpose. all you need is l v e ...but a custom built-in wine station would also be a trs magnifique! bikram is the martial arts of the soul &amp; ancient philosophy of the mind. hmmmm... have you tried contacting a major shipping corporation? if not, let\\'s try! please let me know how i can help. rt : thanks steph for helping us! we wished we had unlimited free shipping to anywhere in canada and around t we are taught how to l o v e by the love given to us. we teach love by the love we give to ourselves, our... hot o\\'clock... namast bitches! h20: got it...? rt : listen: last night, brought + more into his home mondays rock with ...second only to fridays with !! rt : mondays are always a little upside down // falling more in love w yoga every day htt days from now i will celebrate my th birthday... as most of y\\'all know, life has kicked the crap outta me... do one thing every day to feel alive, loved &amp; free. today hot is my time to just be. why sleep may be more important than studying: rt : thanks for the love! we\\'re very excited. our first list will be announced : why the kids who most need arts education arent getting it via multicultural &amp; lgbt diversity leaders rt : starting a series connecting to . hope you enjoy! rt : launches today. will focus on for kids &amp; i new publisher ! hooray for diversity in ! via rt : discover the best canadian with : rt : between the pages: an evening w scotiabank finalists coming to halifax, toronto and vancouver this year! http rt : don\\'t forget ... the winner will be announced on november th. rt : congrats to friend of the show, on her shortlist nod! ht your child\\'s log: students who read for minutes/day score highest on academic testing. make reading a... quiz for parents:1. how many minutes a day does your child read?2. how often do take turns reading aloud to... how do kill the joy of reading for their ? rt : the shortlist for the . get reading! rt : this is noah &amp; his dad from reading books we sent. aroland does not have a public... rt : the supreme court helped make marriage equality legal in more states! that\\'s it. theyre my favorite supremes. dont te have more for children in need. please donate to pay shipping: so proud of ambassadors, emma &amp; julia ! books donated to children! in all the world,there is no heart for me like yours.in all the world,there\\'s no love for you like mine.~ m.a. g ya probably already know all academics are intellectual masturbators, even recovering jerk-offs like . justsayin. rt : apropos of togetherness.... elephants helping elephants.... and in the end,we were all just humans,drunk on the idea,that love,only love,could heal our brokenness.~c.p. intoxicating to be with you in this unforgettable fire devoid of space and time, georgie ...{kisses your eyelids}sleep well love \"i want to love you...\" ~ anas nin believe there is good on the world. be the good. at last my l o v e has come along...! rt : tonight`s musical journey dedicated to our nation\\'s finest: &amp; ken taylor; throwback to in ht \"...they slipped briskly into the intimacy from which they never recovered.\" ~ f. scott fitzgerald well, for whatever it\\'s worth, i\\'ll be tuning into for the first time in my life, georgie , because i stand with you. always. who else is dancing right now with me &amp; g .....? to help the poor, the destitute &amp; the forgotten - to truly love one another - is to live happily ever after.... i\\'m tuning into g from my minicity st. thomas fm l o v e with all my : spiced latte, vanilla candles, music &amp; date nights with my beau, g strombo rt : tonight at pm est: , feat. special guest on cbc radio how about them ! final: cowboys , texans rt : rt : my father was my hero... sending you &amp; yours all my l o v e your father\\'s extraordinary character, mind &amp; spirit lives on in you. may he rest in peace rt : years ago, this glorious nation saw our first canadian astronaut sent into space rt : tonight: full house: of , + ! afternoon with my papa ! rt : fg is good by ! cowboys , texans what dostoevsky is best, \"crime &amp; punishment\" or \"the brothers karamazov\"? looking for a rad read? try anything dostoevsky. rt : despite everything, i believe that people are really good at heart. - anne frank june early march http cnd\\'s education apartheid must end. reinforces education inequality! \\'s apartheid: donate to give ! canada\\'s apartheid. this is why the work of ambassadors... l o v ewithoutlimitations,conditions, orexpectations. rt : this is excellent. media outlets need to learn from this and stop helping isis. rt : amnesia sounds so relaxing. best friends don\\'t sugarcoat. lmfao!!! :// it\\'s saturday night...!wassup, party peeps? happy day, ! have fun my lovelies xoxox like he said, it is a cool concept. maclean is highly well-suited to this new role; he\\'ll be great, i think! : brother and sister ebony &amp; ivory!! : cherry\\'s sidekick ron maclean is kicked further aside much respect, maclean! our sunday date night is always my best-loved date-o-the-week georgie rt : : hiphop royalty on flash () so awesome! you made my day! please check out what crci ambassadors are doing to improve literacy too: rt : thank you so much! this has definitely inspired me to write my essay, i\\'m sure i\\'ll have no trouble at people worldwide are illiterate; /3 are girls &amp; women: good luck with your essay! you\\'re most welcome! i launched to teach kids about illiteracy. my grandma can\\'t read or write... is a human right. reading is fundamental for all education. century of reading around the world via : i have no determination to write a discursive essay on the importance of literacy today...dyk m women are illiterate? rt : today is yom kippur, eid al-adha &amp; st francis of assisis feast day. let us celebrate our unity, our desire for peace &amp; much love to y\\'all celebrating yom kippur, the day of atonement. shanah tovah rt : displaced iraqis face deadly winter | part of series on plight of iraqi idps for hahaha! hilarious, gl! rt : man pushing ball across us to raise testicular cancer awareness: rt : the women from last nights protests. finger printed. mugshots. and put in orange jumpsuits http rt : coming up on sunday\\'s : welcomes + more o , home to the capital of the world ... irvin &amp; i will get the last laugh when our kings of texas win superbowl xlix ! l v e \\'s motivational speech to our !! ! ! ! when are ya coming to visit us in toronto, ? better have invited you for duff\\'s chicken wings. just sayin. zip it ! is totally right! if our keep kickin\\' ass we\\'re gonna win another superbowl! thank you, ann! emma &amp; julia donated books &amp; much more so far; we\\'re raising $ to send more! rt : - great to see such commitment &amp; hard work recognised. the sisters are real role mode o canada! please vote julia mogus to be the so we can give more ! g please vote julia mogus to be the so we can give more ! oh hey g emma &amp; julia mogus are recipients of governor general\\'s caring canadian award!! crci ambassadors emma &amp; julia mogus recipients of governor general\\'s caring canadian award!! rt : thank you craig kielburger , spencer west mrs. toohy (and everyone at our school) for surprising us yesterday... rt : i just voted for julia mogus as the . you can too give books with no bounds! to donate visit % of proceeds support children\\'s access... rt : photos from the archives: a century of reading around the world rt : thank you for crusading on the lgbt\\'s behalf. school in the \\'s was tough so anything that helps kids t rt : straight teachers must openly support their students. rt : you must be active to be an activist. rt : rt : joe strummers original lyrics for london calling, rt : buy the ticket, take the ride. rt : what is the condition of the million displaced people in iraq? four ngos told me the hard facts. ht rt : in honor of , one of the best,. always, always find the light rt : \"these forms we seem to be are cups floating in an ocean of living consciousness.\"~ rumi rt : the earth laughs in flowers [i carry your heart with me(i carry it in]by e. e. cummingsi carry your heart with me(i carry it inmy heart)i... when you are oldby william butler yeatswhen you are old and grey and full of sleep,and nodding by the fire,... \"the voice of passion is better than the voice of reason. the passionless cannot change history.\" - c. milosz it\\'s nationalpoetryday! who are your favourite poets? mine: shakespeare, keats, e.e.cummings, dr. seuss &amp; anne... in honour of i\\'d like to share my favourite poet, anne michaels. georgie love this photo of ya...! too bad the mitts cover your skull ring. love, your puck rt : . on why he asked his bosses for candid feedback: i wanted them to make me better. rt : in no particular order: seussts elliottshakespeare who are your top favourite ? rt : this poem about felixstowe by john betjeman is rather lovely : hi! how are you doing? good! how are you, hon? warm spinach dip, warm portobello arugula salad, margarita &amp; cabernet rt : .\\'s in to talk comfort food tmrw. help us build a gallery by tweeting us photos of your ? lee\\'s \"to kill a mockingbird\" &amp; austen\\'s \"pride &amp; prejudice\" are definitely on my top list. the bible is the best fiction. shakespeare, tolstoy, dostoevsky, kafta, nabakov, c.s.lewis, flaubert, twain, proust, woolf, wallace - my loves. rt : interesting how at least half of these are ya/children\\'s books. rt : are these the most influential books of all time? rt : how many of you will and this for , :: rt : fall boots! ambassadors donated books to kids in need. donate to send more ! have books to donate to children in need - only need $ for shipping! \"...i will not fall in with anything but the words that flutter from your extraordinary mind.\" chillin with family after a hearty meal, spinnin willie nelson . \"funny how time slips away\" &amp; \"wake me when it\\'s over\" . rt : it was that moment when became u2. \\'the unforgettable fire\\' dropped today in . l o v e is not about how much you say i love you but how much you prove that it\\'s true. just don\\'t ever allow this illness (or anyone else) convince you you\\'re anything but loveable... and never lose hope. i feel for you too, j. truly. it\\'s difficult to date in a small town. online dating offers more options. ask for some dating tips! he\\'s a stud &amp; addicted to the bachelor, so he\\'s my guru for dating advice! . . and i\\'ll be in january &amp; i\\'m a divorce. i win this game hands down....! **always believe in l v e ** maybe we\\'re all just looking for love in the wrong places? dating relationships require risk-taking, energy &amp; time... love everything wisely said to you! also, keep in mind, i could write books about my love life, but i\\'m still alone. loveable people take risks, face fears &amp; share their vulnerability. loveable people bravely carry on, despite it all. thanks, my lovely. ignorance about mental illness is stigmatizing &amp; hurtful. i\\'m not gonna lie: i cried. then, i felt sorry for him. i love y\\'all. i\\'ma hopeful romantic. don\\'t personalize someone else\\'s ignorance, challenge it. you\\'re both loveable! i understand. worse, i just experienced it. again. makes me miss my mr.big &amp; all the people who love me just as i am. thank you, my lovely. agreed. dating anyone sick takes strength &amp; compassion; if it\\'s not for you, be kind, not cruel. rt : no you are brave and brilliant and beautiful - but dating people like us is not for the faint of heart ugh. it\\'s sad that the stigma against neurological brain disease is so pervasive that many of us feel unable to even attempt dating. if your is battling mental illness, please think before you speak. only thing that\\'s damaged is your ignorant view of us. dating as a person diagnosed with a neurological brain disease creates unique challenges. i\\'m not crazy, lazy, psycho, broken or damaged... rt : factors tied to sky-high rate among mds | psych central news rt : is a growing concern in veterinary medicine. let\\'s not be afraid to talk about our fears. important link: rt : what is recovery of ? rt : mental illness &amp; parenting-does it effect more then the children? who is effected when a parent has mental illness?ht modern love is soul-crushing. online dating is the disposable water bottles &amp; styrofoam coffee cups of romance. plastic &amp; toxic. . be kind. rt : bruce springsteen - dream baby dream: never underestimate the power of your love. i feel it every day &amp; it\\'s made all the difference. with you, i\\'m never alone. in my darkest hours it was only ever the l o v e of good people - family, friends, you &amp; g - &amp; music that saved me. rt : i guess the real question is \"if you\\'ve been at the edge- what would have helped?\"if we can figure that out- we can help rt : if there was one thing that we all could create/offer/give to help those who are considering suicide- what would it be? rt : police in shock, kal ghadban\\'s family \"heartbroken\" after officer\\'s suicide. http:// rt : me with dogs wish you were here... laying in the grass under a breezy tree by the lakeshore just daydreaming... rt : excited for puck drop. at , i snuck some pics from the new hockey night set. you\\'re gonna love what\\'s in store rt : icymi last night from chez : + more \\'a daughter charlotte just stole my heart. so smart &amp; precious! hoping y\\'all rock more often! {hugs} i\\'m with ya, georgie ! i\\'d wear your black t-shirt any day! l o v e charolette\\'s debut on ! so adorable. date night with georgie and my are gonna crush the saints...! sundays truly don\\'t get better than this. rt : tonight: we run the gamut from \\'s home with &amp; mac demarco () p i\\'m definitely falling in love... g yo, merci. i totally feel like my silent prayer has been answered. just sayin. rt : new &amp; improved - coming up on jr. sunday, sept , . celebrating yrs - rt : that moment when grandmaster flash swings by your place. rt : for the first time in yrs, &amp; together. intro\\'d by &amp; michael williams ht my bro &amp; i basically rocked papa\\'s house all summer &amp; now we are freakin\\'...! i feel like we\\'re back in high school. me: papa\\'s home in days &amp; i have more clothes &amp; shoes stored in his room than when he left for europe in may!bro: oh gawd...his garage! saturday night with my family. good : the meaning of life to a year old : have so much to teach us.please read this &amp; retweet it. g : awesome, cheers to having an excellent night &lt;3 : blue kool-aid mixed with rum, since the tardis is blue. what are you doing tonight? ah! got it. family night. now, whenever i hear \\'s \"two outta three,\" i always think of mama g singing-&ampriving li\\'l g ... rt : happy birthday, marvin lee aday (). with a few years back, we found out what \"that\" is : it\\'s who night, so blue drinks and popcorn ha! awesome! what\\'s a \"blue\" drink? yo, wassup? way too much sexual &amp; way too little , is precisely why i\\'m still single... \"the art of power\" again. such an incredible book! \"a room without is like a body without a soul.\" - cicerowhat are you to nourish your soul today? it\\'s in the us! learn more about censorship: via rt : \"there are some themes... too large for adult fiction: they can only be dealt with... in a children\\'s book\" - pullman h : filled with books and ready to go! cute! rt : remember, most \\'science\\' or \\'health\\' reporters do not have backgrounds in those subjects. media literacy is important. rt : gates foundation opens literacy courseware pilot &amp; evaluation program damn, you\\'re still the sexiest o.g. ! rt : this week talked to reporters at the about the global . watch via rt : abbey road, last recorded album and a certified classic, turns today. you\\'ve never heard it like this ht rt : physical literacy: why we must teach children how to move, by via rt : this wknd are commemorating international literacy month by giving k in mama is wearing a couple of sweatshirts under her hoodie. i asked why she refuses to eat, she thinks she\\'s too fat... ugh. mama is out of the hospital &amp; i\\'ve brought her all her favourite donuts! thanks for your good wishes. : i have found that the most effective educators are not the ones who know the most but the ones who care the most. : if they have to inquire as to what a sapiosexual is, odds are they aren\\'t that smart to begin with bingo! : isn\\'t that a deel braeker fer you? if a guy writes \"what\\'s a sapiosexual?\" or misspells, auto-disqualified! rt : hugs for all you do days online. \\'s emails. here\\'s what i\\'ve found: dates who\\'ve become friends. % of men can\\'t spell. : move over! let\\'s chase cars together... mama remains unresponsive in er but she is thankfully in stable condition breathing on her own at this time. it seems my mama who battles disorder is also struggling with now... mad season - long gone day\"the wind has carried all of that away...so many tears i\\'m startin to drown\" nirvana - come as you are (live):// rt : shana tova. making illegal doesn\\'t make them go away. like whelan, i\\'d go to prison or die revolting laws. \"live simply that others may simply live.\" ~ gandhi \"who would give a law to lovers? love is unto itself a higher law.\" boethius\"all love. no rules.\" g rt : the sure shot. rt : damn. this is cool. rt the sure shot. \"all l o v e no rules.\"georgie stroumboulopoulos rt : miss season kick off? stream it in the ios app or on soundcloud. rt : \" women, girls targets for human trafficking, says new report\" rt : has a new website: christi belcourt | artist / mother earth lover / ma\\'iingun ndodem. blueberry...! books with no bounds at the word on the street festival in toronto! like ... : \"metallica screaming at me during my monday client meeting... life doesn\\'t get much better than this!\" rt : literacy matters: all children deserve access to books must see harper lee\\'s \"to kill a mockingbird\"! rt : could not be more pumped to wear overalls &amp; be a southern year old tomboy. rehearsals for to kill a are r rt : literacy should be a right, not a privilege. join . rt : it\\'s adult education and family literacy week! how we\\'re working to help advance adult education --&gt; woke up happy in the knowledge app allows me to relive last nights stereo love once more! rise-n-shine! it\\'s the first day of autumn &amp; advices all y\\'all to embrace the season with the finger scotch walk. cheers! in my darkest hours what saved me? music. memoirs. shiraz. i read abigail\\'s three dog night &amp; radziwell\\'s what remains often. no faith in \"feel-good-time-heals\" crap, as ya know; but, mama is always praying for ya, yo! fo\\' real. i dunno much but i know would want flowers to bloom in the valley of darkness her absence has left behind...in time. you\\'re such a beautiful soul, my lovely. my wish for you always is to be loved &amp; feel loved for who you are... {hugs} xoxox : i can see why! lucky girl. \" to be truly lucky is to grow old madly loving someone. so rare! : phew! i\\'m glad it wasn\\'t tom mulcair. hahaha! you\\'re hilarious! {hugs} : he\\'s cute he\\'s so damn sexy...! my date last night. even is crushing on him...! who knew i\\'d fall madly in love with a bearded beast of a man? congratulations life, you win. children reading for children ambassadors julia &amp; emma mogus co-founders of &amp; i at can ya believe i just got back to toronto from picking up my best buddy? hour tour! can\\'t wait to chat with y\\'all soon! : thank you steph for coming all the way to spend time with us! &lt;3 &lt;3 love you!! : mouse in a sweater! me: home sweet home.jeremy: ugh. i feel like we spent the day at canada\\'s wonderland &amp; i just threw up from too many funnel cakes &amp; rides. rt : your mom has a soft voice like an angel. god bless her. beaucoup d\\'amour donner..c\\'est but, i must confess, i think i love mama even more! her beautiful heart &amp; generosity of spirit makes me laugh &amp; cry. hour road trip made so much sweeter by the good people . much love y\\'all! georgie you never cease to amaze me... rt : welcoming you into another season on from \\'s home. should we call mom? rt : rock &amp; roll radio - ramones rt : listening to . playing a short lister dreams by cc: hours driving to pick up my stranded buddy. frequency changes. sublime hours left of . to to! is f**kin\\' blowing my mind!! and is back!!rocking out to at a truck stop...join my party? making love by the dashboard light... sexy beats kickin\\' off date night with my beau g . wahoo! hour road trip with y\\'all makes me sooo ...! rt : tonight! we\\'re back. brought friends for the ride: + more - changing the world one reader at a time! so proud of crci ambassadors ! books &amp; ... : we all have a right to peace. advocating children\\'s literacy, education &amp; non-violence at the word on... rt : so our parents gave us a brand new bbq to raffle off &amp; raise $ shipping so why not stop by booth ll5 ht on my way to hang with ... blowin\\' a kiss to g \\'s girlfriend! rt : thousands of kids begging their parents to buy them books. this is a good thing. rt : stop by and visit us booth ll5 rt : is cycling km for ? support the campaign by voting rt : it was love at first sight, at last sight, at ever and ever sight - vladimir nabokov. rt : hey girls! see you there tomorrow! georgie &amp; i hope you\\'re able to come !! come visit us on lane : i am going to agree with you % last week i went online. + emails a day. you\\'re beautiful just as you are! we\\'re gonna have so much fun...rain or shine!! i\\'ll be wearing my b-town ball cap to keep the rain away. when guys in the \\'burbs try to convince me they\\'re \"only a minute drive\" away... like you, i\\'ve heard men rarely date women over . urban myth. the wiser i become, the more gentlemen are sweet on me! rt : makes my day when i see an elderly couple still having fun out there still seeking adventure smiling at each other thanks to i\\'m now hooked on &amp; ...! what i really need is for a date to take me to wahlburgers! rt : go to even if it rains. for small publishers of any sort the cash-injection the day provides keeps many goi rt : i bought my first book of modern canadian poetry at when i was a kid. i\\'m reading there tomorrow at two. htt rt : reluctant reader in the family? stop by the booth for great ideas on how to get them started, and keep them readi rt : look to the today for the festival guide, and start planning your literary adventure! rt : see toronto transformed by artists! one night only: oct. ! travel packages available: rt : george stroumboulopoulos rejects the idea of failure, &amp; it\\'s working out pretty well for him the sun is dancing on toronto\\'s lakeshore... wishing y\\'all a beautiful day! {hugs} : you wouldn\\'t believe the lines that worked on her haha! priceless. maybe my destiny is always to be in love with mister big... hmmmm... dating is totally like \"snakes &amp; ladders\" and i keep wishing it will be more like \"twister\" one day. : ahhaha thanks stephanie you\\'re a sweetheart, i\\'m, like, very married to though sweet! : bahaha i think it\\'s kinda cute. he\\'s single. i can make *magic* happen by connecting y\\'all, girl. just sayin \"you\\'re sooo girlfriend material. what\\'s your name &amp; number hun? my phone is smiling just thinking about adding you...\" ugh my tonight was such a respectful, kind &amp; thoughtful gentleman. not a love connection but proof amazing single guys live in ! : enjoy!! i absolutely l o v e this scene...! thank you very much! that\\'s a really thoughtful compliment. hope you\\'re well, my lovely! {hugs} : wow that date must be happy to see you you\\'re too kind. actually it was a blind date! no connection. : wowza... who\\'s the lucky guy? merci. amazing guy; unfortunately no connection. happy to make a new friend! date night! rt : are we getting kids ready for this? see brainspace magazine at booth ks21. rt : looking forward to word on the street sunday. feeling blessed to have books and the ability to read. pick up a copy of this saturday for the festival guide &amp; enjoy fun-day sunday! rt : say hi to our new host, daniel! meet him in person at this sunday! :: rt : those with low literacy are more than twice as likely to be unemployed. more facts about adult literacy in canada: htt i miss on the g ! rt : : \"the future is unwritten...\"~ j.s. best.avi.ever. love y\\'all \"people can change anything they want to. and that means everything in the world.\" b-town...! crci literacy leaders emma &amp; julia cofounders ! ! o hey g , &amp; i hope you\\'ll join us for ! (washington kicks - come after) come meet crci ambassadors on september st ! to see you! since ambassadors emma &amp; julia mogus have sent over books &amp; much, much... meet ambassadors ! lane fun fact: one of the first things i learned about g is we both learned to at albion public library! my most beloved memory is meeting my beau georgie september th rt : i\\'m hosting a celebration tonight at the reference libr. writers, readers, any favourite word on the street me rt : pick up your copy of the this saturday for the festival guide and start planning your literary a rt : swing by the owlkids booth on td kidstreet (ks1) for educational magazines for kids -13 that your young readers are sure g y\\'all enjoy on our public airwaves? join &amp; to launch a campaign to save ! visit booth rt : \\'fight for your right (to party!)\\' ft . . tenth season of comin\\'! htt rt : women and girls failed by international response in syria rt : the potential impact of the iphone on nonprofits | comments in on stage with u2 september &amp; th, ...! best.time.ever! rt : the literacy injustice: million women still can\\'t read rt : why is in important? it\\'s a matter of life and literacy. via rt : ..going to italy, see sched, margaretatwood.ca. to greece week of sept.23. look at gorgeous u. of athens outfits! http rt : why all this tweeting? stuck in charles de gaulle, delayed by air france strike, eating evil cookies... rt : i just threw my socks across the room because they were making me feel claustrophobic and other reasons why i\\'d make a rt : wow, our shipment safely arrived in ghana, africa! after the long journey children will be able to enjoy a great... ht shawn tyler palmer murdered -month old donny clubb in . he served only years in prison, released early on... crime &amp; punishment: if someone murdered your -month old toddler &amp; only spent years in jail, would you think... got debt? what everyone should know about the dark side of debt collection, banks, credit cards, mortgages,... much l v e to all the outlaw occupy activists who care far more about students than university administrators,... suicide is preventable. &amp; i will be at sept literacy lane, booth ll5 join us! {hugs} rt : just shipped an box of lined paper &amp; school supplies to kingfisher lake first nations who... rt : olivia chow will visit toronto public library workers booth on sunday, september . drop by and say hello a rt : did you know the canadian media guild has been a freelancers union for years? learn about rt : you can\\'t feed a family with g.d.p. rt : glads mary bonauto receives macarthur foundation genius grant - rt : last call fans! &amp; at on friday?! it\\'s simple: rt &amp; follow to win a pa drive fast on empty streets... rt : happy birthday b.b. king! albums, + grammys, grandchildren. long live the king of the blues! : much love to kari ferguson mccaw for sharing my love for the beatles! all you need is l o v e pink floyd - wish you were here you, for always x with love money can\\'t buy ya l o v e join children reading for children ambassadors, emma &amp; julia mogus, and myself for toronto\\'s word on the street... rt : \"why the \\'we can\\'t teach about lgbt history for religious reasons\\' argument makes no sense via mani monday with superd...! loving the beautiful new hues for fall \\'14. beautiful surprise gift from my bro &amp; superd...! a virtual for my fav teacher in the world, .he teaches with l o v eand his rewrites the book. rt : you\\'ll appreciate this. \"why lgbt history should be taught in school: via revisiting g \\'s interview with ... everyone needs to listen to her story! umm. me thinks &amp; i should win. just sayin. rt : with a new season of the show on deck, asked a few friends why they love rt : attn show fans! wanna hit &amp; on friday? follow &amp; rt! h port stanley main beach run. shine. cure. :// \"i hope what i\\'ve done here has been an inspiration.\" - terry fox terry fox: a true canadian hero. proud to join my alma mater at western university today for the annual terry fox foundation charity event. we... ...and yes, i do believehis mouth is heaven, his kisses falling over me like stars.richard siken, crush muddy waters - best of muddy waters - vintage delta blues :// : i know that feeling all too well. where\\'s g when we need a li\\'l , eh? craving blues... sleeping pills later &amp; i\\'m awake at am. md keeps increasing my dose but my brain has a mind of it\\'s own. : perfect. much love back. xoxo someone is warm because of your love tonight. you\\'re an angel sleep well xo \"she is delightfully chaotic...\" what shall we play tonight...? how about some sweet fleetwood mac: much love xoxox i\\'m so sorry, hon... that\\'s just awful. {hugs} rt : : nearly in women are raped in their lifetimes, says report i\\' rt : during world war ii, publishers gave away books and created a nation of readers rt : nearly in women are raped in their lifetimes, says report rt : great slogan from via awww... i love you kristi graham! thank you for sharing this story. jody steinhauer &amp; anne marie o\\'neill batten... rt : the nfl didn\\'t have a feminist epiphany in ray rice case, it acted in its own self-interest. too adorable for words, georgie {big hugs} rt : sunday on the show: &amp; strum beautiful in the broom closet. p, will always be remembered as a true canadian hero. please donate $5, $10 or $25 in support of our k. my weekend plans: reading. pumpkin spiced latte. beach bonfire. aurora borealis. terry fox foundation k at my alma mater, western u. you? rt : what are your chances of seeing the aurora borealis this weekend? take a look: rt : great list, ! the best young adult books you should read this fall: rt : autumn, in a cup, topped with whip. rt : which books are you excited to read this fall? if you need a little inspiration, start here: rt : our people face a lot of issues and live a complex reality. i don\\'t have all the answers, but i do know money &amp; oil aren\\'t t rt : just found out i was selected as a recipient for the national center for american indian enterprise development\\'s \"40 under rt : canada confronts islamic state | the kingston whig-standard rt : doug ford: \"rob has asked me to carry the torch for him. i plan to use it to burn down every library in this city.\" rt : she\\'s looking at you. the city is always finer when the good doctor is in it. rt : you can never read too much... *the library of the st. florian monastery in austria* books are the key to other worlds. reading with your child for minutes a day is the best way to improve... so proud of children reading for children ambassadors, emma &amp; julia mogus, who traveled on planes to facilitate... just when i thought i couldn\\'t love more, unleashes the awesome gifts of !! so. damn. loveable. rt : heres the problemtruggle sucks energy.change takes energy.no change increases the struggle.longer struggle increase rt : big day in . listening to (well, popping by) the j-dog rule the radio statistics canada: +60% of all aboriginal peoples score below level literacy, equivalent to high school... dyk canada ranks third in the world for children\\'s literacy? literacy is essential to wellbeing &amp; lifelong success: g our theme for is hockey books! we\\'ll accept donations to send skates to first nations kids. g join us for september st! &amp; i are recruiting for our guinness world record reading relay team! what happens at el catrin stays at el catrin. girls night. just sayin. so. much. l o v e . :// \"it is true that those we meet can change us, sometimes so profoundly that we are not the same afterwards, even... be brave. these pretzels are making me thirsty compilation classic \"these pretzels are making me thirsty...!\" rt : this right here? this is where you might see tonight b/c of the rt : when us senators talk about the need to fix the nfls stance on domestic abuse, i hope by nfl they also mean the us justi rt : they say a picture is worth a thousand words... we miss you! (our beautiful friends in fort severn) we played... rt : \"a look at the week\\'s top news. via \" my segment starts at :45. rt : thank josh and for letting me come and discuss why we should include all groups in history books. rt : ebola emergency response to get $50m us from gates foundation rt : so far, the nfl has tried to blame everyone except the people actually responsible for making decisions in this matter. depression kills. youth suicide is the second leading cause of death in (age -25). children under die from , too. rt : as educators, we must remember that so many students come to school for more than just an education. rt : \"what teachers really do, really via \" rt : conversations save lives. talking about isn\\'t easy but worth it. rt : wade was the greatest guy ever. loved by everyone who knew him. rt : world suicide prevention day. brando says \"sharing may save your life\" adding \"really? a shirt? ugh\" http:// rt : my bad, guys. i was supposed to pass on the ray rice tape to roger goodellbut it got intercepted. rt : more: law enforcement official says he sent video of ray rice to nfl months ago rt : hey, me too! i\\'m hoping calls out on refusal to engage in respectful dialogue wit any political leader/party failing to respect teachers &amp; students fails to win my . rt : does refusal to treat teachers fairly&amp;respectfully impact your opinion of fed &amp; should take one step further: start a residential school. that way, there\\'d be no mistaking truth: it is repeating history. thanks. you should be a politician; you\\'re savvy when it comes to not answering anything. smh rt : you will find answers to these questions on our website: ...i won\\'t hold my breath awaiting your response. you never answer any of my tougher questions. universal healthcare is a matter of public policy in this great nation of ours; so too, must we uphold universal education for all children. i refuse to support any political leader or party that fails to secure &amp; protect educational equality rights for every child in canada. undermines educational equality as the universal right of every child. it\\'s morally reprehensible &amp; politically unjust. in short: it\\'s obvious you\\'ve convinced the anti-union, pro-corporatist ilk; but, not me... finally, exactly what qualifications will teachers be required to have to teach students? another major issue is respect for indigenous communities. precisely how many even want ? one of the biggest issues is consistency. will your qualified teachers stay longer than a year? rt : actually, will only recruit qualified teachers, who\\'ll neither be \"volunteer : . cc. &lt;-- yes. this is one of the two \"yahoo\\'s\" i was referring to. zero regard for education. canada is a world leader in universal healthcare. we need to become world leaders in universal education as well. sending uneducated volunteers to teach aboriginal, inuit &amp; mtis children is the worst idea ever! it says: you are undeserving of education. at least substitute teachers actually earn an education degree to teach! pathetic. rt : i can only imagine. they are glorified substitute teachers. every teacher should speak out against -- that is, unless you are anti-union, pro-corporatism &amp; pro-educational inequality! ugh. so true! now, a couple of yahoo\\'s started . characters fails to express my dismay! rt : replacing passionate and experienced teachers with teachers, is like replacing derek jeter with the b : what makes people so sad they consider dying by ? brilliant minute video on the science of... rt : teen offers message of hope on suicide prevention day is lucky to have rt : every secs, one person dies of says report on - data show this is preventable rt : i have no affiliation except that i\\'m a er to my marrow!the is on ! follow it &amp; love one another. as i have loved you, so you must love one another. john :34 rt : the way he stands over her after he hits her and then drags her unconscious body out of the elevator says rt : one crown attorney remarked how so many door knobs seem to be located high enough to cause rt : i can\\'t tell you how many walls and door knobs have injured women - at least that\\'s what t now, it\\'s time for me to block you. please. leave me be. there are plenty \\'o fish in the sea! be well, chriatine. : iphone blunder. did ya notice i unfollowed as soon as i realized you\\'re my stalker....? rt : commissioner says cannot be signed as a free agent-cannot be put on negotiation lists. oy vey! it\\'s ah-mazing what a *140* salute to david lee roth can do to fuck up my otherwise peaceful existence. ! rt : violence against women is a global scourge | the kingston whig-standard ummm, i\\'m definitely not following you. you contacted me, remember? you\\'re delusional if you think you were the victim. period. abusive people are discontent to only ruin your life; sick pleasure is derived from violating the lives of your loved ones, too. and, yes. of course it\\'s you, christine. like someone just said, domestic violence is genderless. stop stalking me. au revoir! if this is you, christine, you should remember the facts: you went to his home, stole his phone, called me, assaulted him, etc. i bailed out a best friend who was jailed for *alleged* assault. he was assaulted. all charges against him were dropped... rt : the hashtag is another heartbreaking and crucial example of social media\\'s power to tell collective stories. read rt : i mostly when i\\'m awake - if not a book, computer or bb, than people. i only sleepread occasionally. : i forgave him &amp; believed he would change. : he punched me for talking to another guy &amp; nearly crushed my orbital bone. rt : anywhere there is a book, a magazine or even a cereal box oh.em.gee. someone keeps arguing with me that didn\\'t \"technically\" knock out his fianc; it was the wall. literally. : happy back at ya! where do you most to ? me: bed, bath, pink armchair, front porch, park, beach &amp; backyard hammock. rt : :we\\'re celebrating the many women denied education when young &amp;are pursuing it later in life http: rt : \"when we read we are able to travel to many places, meet many people&amp;understand the world\" htt rt : happy ! we believe that everyone should be able to - do you? rt : happy ! here\\'s a topical : (audio runs :48) what are y\\'all ? this book is captivating my mind today: cleopatra by stacy schiff here we go again.... your stupidity is comical...! it\\'s been a while since i conversed with such a confident plebeian. riiiiiiight. silly me. you earned multiple advanced degrees but aren\\'t narcissistic like me, so you don\\'t use your credentials! i\\'m pretty sure only one of us earned academic degrees. but, good in ya for displaying such exuberant \"confidence\"... \\'merica! oh. it\\'s a full moon. that explains all the insanity i\\'m confronting today. good to know! thank you for not referring to \\'s violence against his fianc as an *alleged* assault. well done! rt : espn\\'s keith olbermann calls on nfl commissioner to resign over ray rice scandal charles bukowski said it best, \"stupid people are full of confidence.\" ummm, okay. whatever. haha... that \"libel\" &amp; \"slander\" lawsuit sounds *promising*...! besides, the media coverage concerns the release of the video not an impending legal trial. think much? : well you sure didn\\'t sound like it. why, \\'cause i hold the moral law of truthful free speech higher than law? rt : gotham on the hudson. thanks. as if i didn\\'t know already know what \"allegedly\" means in a legal context. smh rt : until someone is convicted by a jury, all crimes are considered \"alleged,\" overwhelming evidence or not. : please. don\\'t insult our intelligence with headlines, such as \"ray rice alleged assault\". yes, i\\'m talking to ! that\\'s fallacious logic. true, janay could\\'ve been arrested for assault; but, untrue \\'s actions were proportional. \"don\\'t hit!\" -- this applies to children, women, men, animals &amp; yourself. if you feel an inclination towards violence, please seek help. rt : great meeting w/ the team today. look forward to working together, again. also, apart from teaching men not to abuse women we should be teaching them about their to be protected against , too. hope the exposure of sends a strong message to all sports franchises: domestic abuse is intolerable. any notion only saw this video today completely contradicts previous reports, as well as common sense. of course they knew...! shoulda filed assault charges against his fianc instead of beating her into unconsciousness. saw the video long ago. rt : rice photos no longer at rutgers\\' stadium: ray rice\\'s photos will no longer be at rutgers\\' high point solution... georgie sending ya much love &amp; best wishes on your new adventure! missing your mugshot but eager to become a puck bunny! : . joined this morning in new york to talk about the upcoming season. ! : when it comes to our youth; there is no such thing as a lost cause. rt : love this: iowa women married after (!) years together : icons in the : this is what a -game suspension looks like for knocking out your fianc/wife unconscious. ... : people i\\'m reading on twitter are justifying because \"she hit him\" \" and \"married\". ugh... the real problem with policies is the burden of proof victimizes the victim; player deniability always trumps. hey, no worries! i\\'m just pointing out the lack of reinforcing policies in if a professional athlete beats a domestic partner until she/he is unconscious, how many game suspensions do you give? caller, you say what? : is known to have tough suspensions for dv ummm..? thoughts g ? what do we learn from the release of the ray rice video beating his wife unconscious? he\\'s a violent criminal... policy change from -game suspension to -game suspension for brutal violence against a woman still too lenient. does any professional sports association take more seriously than smoking weed? brutal. dear : what happens if, after the st -game suspension, your player commits homicide? oh, right. nd offence is a lifetime ban... : new video shows ray rice knocking fiancee unconscious what is the policy on ? ... *crickets* dear abusive men: your days of controlling, stalking, beating &amp; killing the women you claim to \"love\" are... rt : it might be monday, but just remember, at least you ain\\'t tony romo. merica. rt : announcing the finalists for the cbc prize. read all five works on the shortlist. rt : days of heaven for bibliomaniacs! victoria college book sale, sept. -22, charles st. w -585-4585 bookworms &amp; bookers! &amp; i will be at the word on the street festival september . join us? rt : teaching is about inspiration, not information. via dear monday... one night, at a wedding, i asked a young man to dance. we were talking when this song came on, and i felt like... \"war is over.\"give p e a c e a chance. rt : in fort severn here is sophia with her new backpack full of toys and crafts rt : omg wheeling along the coast near nunavut and spotted polar bears ...photos soon : thanks to you, we raised m dollars for . so good! let us know if y\\'all need books. much l v e to y\\'all for all the love you\\'re giving to the children in haiti. is a priceless gift. rt : our secret band revealed: the national!!!!! and guess what? we surpassed all expectation and raised \"in l o v e we trust.\" latest tee purchase from over the rainbow to add to my collection. need white converse kicks. mimosa\\'s with brinner &amp; vino with dinnight snacks. this is what happens when you\\'re livin\\' with a rockstar &amp; his wife, ...! investing in education is an investment in poverty-reduction, public health &amp; peace. % investment in haiti kids \"sisters before misters\" rt : red carpet kicks off with the team! : rt : go team ... &amp; before heading into ! rt : education should not be a privilege. we need to help haitians help haitians. % of money raised goes ba what cannot be said will be wept. ~ sappho via g ya gotta tell it\\'s highly improbable - maybe even impossible - for anyone wearing mismatched socks to be a loser. you aren\\'t alone. fragility is something we share.{hugs} rt : happy sunday. the north star at rest. much l o v e to y\\'all for supporting children\\'s education in , g rt : finalizing. thrilled for tonight\\'s fundraiser with about last night... we laughed until we cried, just like we did throughout the new bill murray movie. about last night... we laughed until we cried, just like bill murray\\'s new movie. so. much. love. song of my sunday: sky full of stars, coldplay woke up from my hour margarita-seroquel-benedryl coma... en route to brunch with &amp; the lead singer of x. life is good. i love ya so much, it hurts. sending you much love &amp; a reminder mama g is praying for you. : whoever came up with \"time heals all wounds\" was a fucking liar....\"thank you for this love you back. sweet dreams you beautiful souls...much love my lovelies for a most memorable ! you belong here ! (and by \"here\" i mean my bed.) is in toronto, so why am i crawling into bed alone...? we should be eating nuts, taking selfies &amp; reading poetry. just sayin. rt : do not drink and drive. i love this. when we met years ago i was amazed to learn georgie &amp; i grew up km apart in rexdale.... margarita\\'s with my lovelies...! el catri rt : and this week, what joan rivers taught me about loving my body johnny cash - desperadofor bobby thappy in ...may there always be a rainbow above ya. spinning johnny cash in an attempt to sleep. but, can\\'t sleep. and it\\'s daytime. so would \"desperado\" qualify as ? or ? best. date. ever. so. much. love. happy bill murray day, ! groundhog day never felt so damn good. every day should be bill murray day!!... what makes people so sad they consider ending their lives? minute vid on the science of depression: what makes people so sad they consider ending their lives? brilliant minute video on the science of : rt : the science of depression (video): the best explanation of the science of depression we have ever seen. the p... : \"the science of depression\" an animated minute video: rt : sunday on the show: drags her brand of eerie blues into the broom closet. p, rt : hey ! if you missed last nights broadcast, you can still make a difference: roy thomson hall good morning, you sexy beast...! \"this is your life, and its ending one minute at a time.\" chuck palahniuk \"the things you own end up owning you.\"\"its only after weve lost everything that were free to do anything.\"... an old friend wrote to ask me, \"where are you these days?\" and i didn\\'t know what to reply. that freedom made me smile. \"of all that is written, i love only what a person has written with his own blood.\"nietzsche i\\'m already thinking about my sunday night date with g &amp; my radio... must be !fav tv soundtrack, peeps? me: sons of anarchy. most dangerous journeys to school worldwide: \"25 most dangerous school journeys\" reminds us education is a privilege millions of children are denied. access... text stand to donate $10 to stand up cancer in support of warriors, like my bro! with team f*ck cancer on /09/14 in honour of our hero, . my bro\\'s survivor tee! in my kid bro was diagnosed stage iv ; then, in , stage iii . he almost died. tonight he\\'s in vegas baby! georgie : you, sir, are so beautiful to me. thank you for supporting a cause so near to my heart. rt : who better to with us than own ? that guy does everything! looking forward seeing y\\'all &amp; working together to help get books to children in need! xoxox much love to , jack &amp; mama mogus &amp; all the children you meet in fort severn! y\\'all teach us the true meaning of friendship. rt : sending good wishes to emma, julia and jack on your trip to fort severn. take care of your mom for me! and rt : oakville &amp; ontario is so proud of you two and the great difference you make for young people. give my b \"one repays the teacher badly,\" zarathustra said, \"if one always remains nothing but a student.\"nietzsche back to school the teacher who inspires me most, ; and my most inspiring students, emma &amp; julia awww... thanks, hon. wish you were here with us too, danielle mcnichol! if he happens to stop me at the premiere... happy bill murray day, toronto! can\\'t wait to see the premiere of his latest gem tomorrow with my lovelies...! ... rt : to some tweeps who make a huge difference in toronto area... rt : thanks for sharing. rt : happy bill murray day toronto. wear stripes. children reading for children ambassadors, emma &amp; julia mogus, are shipping more books to children before... l o v e is the ultimate outlaw... twitter can be hacked. given your note yesterday to me, i had to be sure it was you. it\\'s reassuring to know you are safe. take good care. activity on feed. rob is not responding. is it possible this is a hoax? do ya know him? please. call if this is an emergency. if he is in danger of taking action, every minute counts. hey brother. how are ya doing? let me know you may need to talk... let\\'s talk. are you with him? do you know where he is right now? please send me a dm or email: stephanie.zubcic.com i really want to workout but with my bro &amp; superd in vegas, my week revolves around cat-sitting. i\\'ve been... rt : love &amp; kindness move mountains. is such a humble, class act. what an extraordinary pleasure to hear him speak with on ! my bro idolized him. one loving teacher is all it takes to inspire greatness in a child; yet, we invest more in prisons &amp; military than we do in education. why? rt : \"top edus on twitter by via \" : the first day of school. rt : my heart is torn in half.she wasn\\'t done. rt : joan rivers has died, melissa rivers says in a statement. \"she passed peacefully at :17pm surrounded by family and close fri is a topic of discussion or a statement? well, here is what i think. : you might appreciate this too great read! thank you. rt : tough time for bc teachers, students, families. education -&gt; a basic right. teachers deserve respect! much love to a teacher\\'s teacher... you, , are a superhero. thank you for loving your students. happy back to school...! \"the only thing i do well is outlaw.\" - jackson teller rt : dr. tara: normal people call the authorities when their lives are threatened.jemma: you don\\'t have a normal life, baby. you have this one. stella bella loves my g tee almost as much as i do...! my my, hey heyrock and roll is here to stayit\\'s better to burn outthan to fade awaymy my, hey hey.out of... battleme - hey hey my my \"...it\\'s better to burn out than fade away...\" x \"compassion is the chief law of human existence.\"fyodor dostoyevsky \"an outlaw can be defined as somebody who lives outside the law, beyond the law and not necessarily against it.\"hunter s. thompson when i see the caravan of bikers on sons of anarchy, i\\'m reminded of the caravans of politicians enabling rape &amp; war of civilians. i love jemma, the matriarch. and tara, the breadwinning doctor. sons of anarchy, i\\'d argue, is steadfastly feminist. is no lesson to be learned from empathizing with good people who are forced to do bad things? to me, bankers are criminals. rt : well written shows. but each lacks a moral centre. we are asked to identify with essentially bad people. from sopranos to breaking bad and, now, sons of anarchy, i feel like my tv is trying to convert me. as long as we both always remember that we are loved &amp; how to {hug} everything is gonna be alright, my dear friend xoxox thanks, guys! &amp; i love your video on depression. truly. brilliant. let\\'s talk! rt : dear teens,if you see someone who has no friends, befriend them. if they\\'re sitting alone, invite them to sit with yo have you viewed this video? please do &amp; share. is preventable. get the facts. and... ummmm....what was i just talking about...? one of the worst side-effects i experience from neurological brain disease is memory dysfunction. it feels like the beginning of dementia... rt : can you help spread the word pls? ...his rd survivor tee arrived today &amp; he\\'ll be jogging proudly /09/14. thanks ! it\\'s my pleasure to support . as y\\'all know my bro has been battling cancer for years... this -minute video perfectly explains the science of depression. is the most serious symptom of... only the tenacious truth seeker can be in love with religion, law &amp; morality, while divorcing her mind from them all. \"like anybody can tell you, i am not a very nice man. i don\\'t know the word. i have always admired the villain,... \"the difference between a criminal and an outlaw is that while criminals frequently are victims, outlaws never... \"i have a theory that the truth is never told during the nine-to-five hours.\" ~ hunter s. thompson rt : teen boy sues dmv after being forced to take off his makeup ya. sometimes grown ups know less than kids. maybe can learn from you. one can only hope... {hugs} rt : because we know a real hero who has &amp; hopefully now everyone now will know how and, i double dare to donate a kobo, ipad, tablet or e-reader for fort severn children too! my family will sponsor ya! we have our own team too. i dare &amp; to donate, too: . rt : i\\'m doing the terry fox run in oakville for research... can you sponsor me? http based on his previous writings, i suspect would criticize our reading relay as a \"slacktivist\" gimmick too. you should know makes a living writing articles criticizing charitable \"gimmicks,\" such as movember &amp; als... rt : oh no, did we miss something! we donate our % of our time boxing, recording and shipp children reading for children ambassadors are traveling to fort severn to give books with no bounds to children.... rt : hi everyone - i don\\'t think we have any \\'s to bring up north. if anyone has a used one, a tablet or e-reader to d rt : we wanted to say a big thank u to for our free flights plus b/c we hav haha... wouldn\\'t it be great if participated &amp; donated to give before he trashes us? \\'s story is . if we teach children to tell us when someone hurts or abuses them, we also need to believe them. rt : the fact that was beaten by another child that badly means that no one was watching the children an extended period o year old girls make up stories about imaginary friends &amp; living in castles not about abuse or violence. when school &amp; state officials dismiss school violence as an \"accident,\" the duty to secure &amp; protect children\\'s safety is violated. where were the teachers? i\\'d never let a kindergartener play on equipment without supervision, let alone numerous children. rt : playground cameras coming to pascagoula schools after avalynn injury at arlington elementary | : rt : police captain about avalynn case: \\'we determined it was a playground accident\\' | rt : myfeels for her family her parents &amp; avalynn herself she so beautiful &amp; looks so sweet !! http: so true. and so important... : mississipi girl gets beaten up by classmate? rt : my hero is the student who sees someone with no friends and befriends them; the student who sees someone sitting alone if your child was severely beaten at school, what would you do? if your student was severely beaten, what would... hahaha! now, my mama &amp; i are playing \"hot or not\" with the panel... she still has the hots for ya, ml!! obvi, i meant you !! : talked about fascism, gay athletes and molly today on off the record with tune in today. ladies, you are so beautiful to me... so, why is it % of -year-old girls &amp; % of -year-old girls have... \"the science of \" explained in minutes: every teacher should share this educational minute vid with students g the best minute vid you will see today is \"the science of depression\" \"the science of depression\" is a simple video that brilliantly explains the complexity of : incredible video explaining the science of depression in less than minutes. if you care &amp; want to better... l o v e is my compass. i constantly follow my heart, wherever it leads me... who is the happier man, he who has braved the storm of life &amp; lived or he who has stayed securely on shore &amp;... pink floyd - comfortably numb you &amp; me, g x the inconvenient truth about depression is that it is so much easier - more comfortable, more accepting - to be... back to school: children reading for children board director \\'s last part of his ... can ya help &amp; i with a sandwich menu? rt : you know who loves them some ? &amp; rt : with a new season of the show on deck, asked a few friends why they love a double rainbow is an auspicious natural phenomenon signifying a human descent from the heavens. we always be a rainbow in someone\\'s dark cloud. new york central ball park rainy day cat nap with stella. congratulations ml, ! years as a sports broadcaster makes you a canuck legend. time to update your wiki page! rt : shout out as well to for years of service for . he\\'s been on-air for all years; &amp; cou rt : \"in chibs we trust\" j - returns makes me wish g could be my baby daddy...! sooo.ohhhh.adorable. ha! i teach my students success is fully actualizing your potential; the only measure of success that matters is your own. oh, how i miss teaching on campus! thinking of my former students who are doctors, lawyers &amp; teachers today...... rt : i\\'ll be on today at pm discussing education and celebrating all the amazing teachers out there. send a girl to school &amp; unleash her power rt : my wish for the day is that all children meet a caring teacher who puts them at ease and respects them as individuals. rt : even the is excited about the first day of school! rt : \"why straight teachers must support the lgbt cause via \" rt : no matter where you are, or who you are- you need to know that you\\'re not alone. knowing that won\\'t make you better, but \"i like how our future is unwritten, g ...\" rt : \"... i like the way the visions we had have faded away...\"saying good bye to summer. rt : the nude leak is not a scandal, it\\'s a sex crime. it never ceases to amaze me how the most judgmental people in this world also happen to be the dumbest and the most ignorant... do some research. if people who die by suicide are \"quitters,\" then so too are people who die from heart attacks. a heart attack is the result of heart disease; similarly, suicidal thinking is the result of brain disease. suicide is a fatal symptom of neurological brain disease, not a character flaw or weakness... rt : suicide prevention day-sept let\\'s try &amp; save a lifeif you would talk about a suicide attempt on tve mail: michael.la rt : years ago today wade belak died.he\\'s still the leader in my life for best-guy-ever.thoughts then, and now: rt rt : support your public library! love the parade. tradition. beastie boys - intergalactic :// i\\'m entirely unsure when ya swaped for but i\\'m totally down with being very, very bad g ... just sayin. rt : tonight on the show: acoustic jam &amp; intimate chat at george\\'s house. p, awww! i\\'m so excited! i absolutely l o v e bill murray! st. vincent will surely become another classic film, too. ! : scored us all tix to st. vincent with bill murray! wahoo! rt : survivors of are sharing lived experiences to . please rt and join the movement. beauty is being the best possible version of yourself on the inside and out. fab! i love you both from here to the moon &amp; the stars &amp; then back down to the muddy earth again, my friends xoxox always so. tonight. taught me: have you ever taught a class? please, do. georgie &amp; ml . that\\'s all i wish for from me to you. sending l v e to y\\'all from my family porch tonight. pink clouds &amp; a chorus of crickets remind me: seasons change. rt : : truth. - i hope we read every word carefully &amp; remember thru our daily truth. rt : one of the most heart-rending, thoughtful &amp; beautifully humane comments i have read since robin williams died ! it never ceases to amaze me how many shallow, insensitive, assholes there are in this world. be kind. emotional... my lifetime of adventures are my most treasured gift. much love to y\\'all for sharing them with me! love yourself.love one another.be brave.be braver than you\\'ve ever been before. sending l v e to my friend, , tonight... life takes courage. it ain\\'t easy enduring pain...{hugs} help. (group hug} rt : home, nervous, scared, tired, anxious, worried but alive. i\\'m going too try to sleep, hoping that will help. good night and tak i hope you\\'re feeling better! i know how painful the journey can be, and i hope you know &amp; i are here for you. {hugs} hello lover...! :// \"they call me a sinner, but i am at peace with myself.\" ~ bardot brigitte bardot is tots my latest fashion muse...! just sayin. girls night soon? xoxox :// love the fall fashion trend return to vintage styles! this a must do hairdo this autumn. \"sometimes the people you\\'d take a bullet for are the ones behind the trigger.\" ~ taylor swift please help ambassadors give &amp; give ! rt : we leave1 wk today fort severn! crossing our fingers we can bring \\'s our friends! h children reading for children ambassadors, emma &amp; julia, debut their latest commercial. help give... if, and only if, we understand neurological brain disease as a medical sickness, may we save lives from death by... rt : this is ground to control to : happy birthday, sir the upside of is engaging in a long term affair with my big, beautiful, comfy bed...! g\\'nite love! sleep well you beautiful souls...much love to all the kids who are anxious about returning to school, &amp; all the kids wishing for a school. that moment when you realize you\\'re not a crazy cat lady; you\\'re just a lady sleeping with pillows... rt : when we come back from fort severn, we\\'ll have lots to share! um, ya! love ! love his of children &amp; literacy! maybe i outta trade ya in for him as my new bff? rt : was outstanding today on otr. really likeable &amp; interesting. we talked hat hair.u need to watch this.https much love to y\\'all for all you do to help children get &amp; improve children\\'s ! will be awesome! rt : thank you steph for everything ur doing to help us! can\\'t wait to be at with ya! let\\'s mama is with us at my bro\\'s house. she spent the day getting medical tests &amp; another cancer biopsy, so we thought this may be fun! stella, our family kitty cat, mama, my bro &amp; i are having a slumber party...! \"hook\" is playing now. rt : the girls from were featured on cbc\\'s the national - you can see them picking up brand-new... dear : we are m strong. all it takes is of us to break world record reading relay to give . can ya dig it? : rob ford is the best mayor toronto ever had. rt : concerned about kit, an ago volunteer. pls rt kit currie, missing since aug. http:// rt : couldn\\'t join us at the ex? you can still help out by tweeting + , every time you see a we want to break the world record relay to give ! % to children\\'s literacy! interested? rt : attawapiskat names long-awaited school \\'kattawapiskat\\' loving your interview with ! please check out ambassadors ! my papa. toronto, . greatest father in the world. if you\\'re feeling suicidal please don\\'t be ashamed to ask for help. in an emergency always go to the hospital er. if you need help, call i just found out now my friend, a guy, battling depression has attempted suicide. that\\'s why matters. but, let\\'s face it: is a professional critic; is in the business of selling headlines not goodwill. \\'s article identifies \"need\" as epistemic factor ; surely, men\\'s cancer &amp; suicide prevention ranks very high. \\'s men\\'s health campaign rightly encourages prostate &amp; testicular exams, as well as suicide prevention, my point exactly. how can deem as \"slacktivist\" when it is educating &amp; encouraging men to communicate? rt : is it slacktivism? doesn\\'t the moustache growing raise awareness by people asking about the m rt : ...and to collect donations from others. rt : ...it\\'s about raising awareness of mens health. we use it as a time to teach others about mens rt : i have taken part in movember for the past three years. it isn\\'t about men growing moustaches t please explain the symptoms of neurological brain disease. please explain how suicide can result from untreated brain disease. we must all speak about the \"s\" word: suicide. too many educators silence children/youth; silence can be harmful. rt : speaking in the am to a group of principals, vp\\'s &amp; other admins. what message do they need to hear about mental illness my beau is back...! his arrival home reminds me of the time i picked up my bro at the airport after his hour... if it wasn\\'t for als \"viral videos\" &amp; silly gimmicks , you might actually be forced to write something novel. oh, and to elaborate on why i called you \"parasitic,\" you sent me articles you were paid to write critiquing als &amp; movember. professional \"critics\" who demean the goodwill of others giving a helping hand or charity to someone in need rarely do much good themselves. : you\\'re welcome. &amp; i plan to break a world record to raise funds for books/literacy. feel free to trash us. my bro almost died from testicular cancer. movember teaches guys to \"check their balls\". should we stop running terry fox? campaigns, like , are not just about or . it\\'s about community building, engagement, education, de-stigmatizing. you have obviously neither bothered to read st. augustine on \"caritas,\" nor have the faintest idea about \"community\" love... rt : my criticism of movember is about the slacktivism. men shouldn\\'t need gimmicks to give to worthy causes.ht labels y\\'all who participated in the \"slacktavists\". really? did ya listen to \\'s story? thanks. i\\'ll read it. your argument identifies cancer as a leading cause of death; yet, you criticize movember - a cancer ngo rt : hi stephanie, thanks for the comment (parasitic does seem a little strong, though). here\\'s a response: htt communication demonstrates it interests the public. you may not have any interest in als or movember but you\\'re the minority. is the philanthropy police? his argument is weak; and if anyone is \"narcissistic,\" it\\'s this parasitic \"critic\". rt : hi , that\\'s successful campaigning . if people feel compelled to give based on video communications, it\\'s life should not be a journey to the grave with the intention of arriving safely in a pretty and well preserved... cathy: \"what\\'s it feel like to be old, marlene?\"marlene: \"feels like i\\'m wearing my skin like a sweater.\" \\'s critique of the and is the epitome of \"slackademia\" at it\\'s worst... justsayin \"why the ice bucket challenge is bad for you\" raised some valid points worthy of consideration; however, the... children reading for children ambassadors, emma &amp; julia mogus, shipped more books today! if you\\'d like to join us... rt : life is more than any of us is meant to handle all on our own. lend a hand -- or find a hand to hold. um, did ya know today is , g ? rt : miigwech shelley - it\\'s a heavy box. we\\'ll send you more books rt : i look forward to sharing the books with the kids &amp; reading the rt : we just sent you a big heavy box of books and we\\'ll send you mo love smart debates! brilliant work, ! can\\'t wait to see !just sayin. : canada. meeting the local puppy. nice to be almost home. rt : we\\'re giving k wt come wt us rt : \": we\\'ll say you do. did you do it?\" donated &amp; did! challenged by . video to come when i can fig agrees to be a weekly regular on \\'s ...?!? best. otr. ever. loving \\'s first episode this season! so good. you fellas are rad &amp; mitch williams!! ! rt : otr. pm easternhost is mediocre. guests are amazing!chael sonnen, mitch williams &amp; michael irvin. do not miss it. it thank you for my , rita grossi rene khouri - i raised $207.25 for &amp; i nominate... oh hey, georgie ... i found some cool riders to help me out since you\\'re still riding out west... only i would split my head open on the ... oh, y\\'all laughing can just raised $207.25! will help a sister out with the ... coming soon! band is... y\\'all should know i live as one with all of nature, georgie ... ride safe, riders! rt : whomever stepped on all the spiders or had a rain rave, thank you for the free bike and helmet wash washington &amp; me so far has raised $192.25 !! my , as nominated by rita grossi &amp; rene khouri,... much love to my buddy greg greg lale for supporting my kissmyals! dare ya to donate $10 to a kiss &amp; shout out from me! rt : i found a real superhero and made a donation in his honor. keep fighting brother! philosophy haters are what made socrates, \"socrates\". . yo. love it when drunk people ask me what i do &amp; get totally pissed off when i say, \"i\\'m a philosopher.\" you\\'d not believe how furious they get! hilar! i\\'m in a bar with our minicity mayor, too! she donated to rt : and...last goodbye... lover, you shouldve come over, hallelujah\\'. a classic turns much l o v e to andrew harvey &amp; friends at midtown tavern for helping me raise $161 so far for als...! xoxox blowing a virtual kiss to my good &amp; generous friend aubrey harris...! much live for your $25 online : so far, raised $95 for als!! xoxox rt : wanna give a shout to my \"older sister\" for being an awesome friend, giving me advice and being there for m thank you, larry...! so far, has raised $80! midtown tavern who needs chapstick when i\\'ve got my mac wonder woman lipstick courtesy of lisa...! blowing a virtual kiss to my good friends nicholas ferroni in nj &amp; michael landsberg in to for generously... blowing a virtual kiss to my good friend jim ashley in west virginia who generously donated to als for my... dare, dare, double dare ya to kiss my als...! donations to als canada in exchange for a kiss! cheek struggling... just had a massive panic attack. bad day. rt : so? what\\'s ur ?sickter depression scale8-10 so blessed6-7 blessed5 confused3-4 functionally miserable2-3 the botto much love to rene khouri &amp; rita grossi for my nomination! i accept &amp; dare y\\'all to... ...my vid will be posted in in honour of everyone battling als, especially . dare ya to much love to &amp; for my nomination! i accept &amp; dare y\\'all to ! if you only watch one more ice bucket challenge, it should be his: via you can always reach out to me. always: stephanie.zubcic.com you do know i love you, right? {hugs} rt : it\\'s being lonely that keeps me from ever having a relationship i can\\'t trust anyone and i wouldn\\'t be able to be rt : it probably helps to post the video! lol, , rt : support nominating: , , , steven camarago here to donate: what is hell? i maintain that it is the suffering of being unable to love. ~ fyodor dostoyevsky, the if anti- activists oppose the , then i\\'m really gonna tell everyone to !! g &amp; : here\\'s dare ya to ...! .als2. listen up . share rt : huge thanks to our friends at first book canada for generously giving us brand new books to ship to kids in... htt rt : since , we have shipped over books to first nations reserves across ontario &amp; more! sad some schools have n thanks for reaching out! check out &amp; crci ambassadors . we\\'ll be at ! join us! i\\'ll be a wayward, daydreaming gypsy for life...! how many of these characteristics describe you, too? rt : rules via ! () my is to dare ya to .als2. listen up . share my dare oh hey, g ... dare ya to ...!1. listen up! {spoiler alert: . als3. share my dare! share my i dare y\\'all - yes, y\\'all1.als2.listen up! .rt ove! much for my i dare y\\'all - yes, y\\'all1.als2.listen up! .rt finding out you\\'re loved by strangers who care &amp; think of you as may be the best gift. rt : a particular shoutout to folks making a real difference in kid\\'s lives rt : violence against women is a global scourge. here\\'s my latest for . that studio memory will always be one of my fave times with you, g ! were the most hilarious! rt : in honour of the world premiere today the last bit of mayhem from the show: rt : love the idea of exposing vulnerabilities. thank you! keep cooking! omg. get this. i\\'m trying to brainstorm with &amp; i keep thinking, who the f*ck is blasting april wine... love this! i challenge mister g to an undies only arm wrestle...! rt : \" arm wrestle.\" loser donates. optional: arm wrestle in underwear, exposing vulnerabilities and rt : money comes and money goes. your honesty and sharing is worth so much more. you are a super dude. : hug a stranger. and you spend countless more hours stamping rejecton all my bad ideas... rt : is so brilliant- up there with movember. i spend hours thinking about creating something mental rt : i think when we understand our suffering, we can see the suffering of others. none of us choose this lif investing generously in medical research to improve health &amp; raising awareness is always a good thing! charity &amp;... : they are going to succeed with or without me your passion, positivity &amp; love feeds their soul for life. ya know what i ? so many of \\'s former students are a huge success, doing real cool things! that\\'s the power of teachers. a+ violence is endemic, it manifests in nefarious forms. the violence we commit to children viz. child poverty, education inequality, is fatal. what breaks my heart even more are all the children dying by suicide as a result of institutionalized racial injustices... g how many more children must die for us to end racism? growing up in a multicultural toronto \\'hood made me colourblind but stories did, too. please : rt : my experience being a black girl-two precious lives: mike brown and tina fontaine via haha... kidding, ! seriously, we\\'re filming a child suicide prevention event &amp; really need your help. harv mentioned your sis was up at midtown last night. are ya home too? desperately needs a new makeup artist! rt : may the afterlife sound like dingy basements, dingy streets and dragging handclap over every dragging beat!happy birthday jo a beloved hair stylist is a girl\\'s best friend. love ya, sammy! :// to take care of someone in sickness &amp; nurture health, that\\'s true l o v e rt : y/o holocaust survivor arrested in protest: \\'racism is alive and well in the us\\' rt : we\\'re here to help &amp; can ship books saskatchewan dm us at ht kill an unarmed person: hiredthreaten an unarmed person: fired i vote for president...! rt : just think: somewhere in america, a teacher is teaching the future president of the united states. ya gotta get one of these tee\\'s...! via rt : of course t-shirts are popping up. well at least these donate cash to the cause instead of just wasting water. suicidal thoughts are a very serious symptom of untreated neurological brain disease. if you\\'re feeling suicidal, please seek medical help. over lunch, someone died by suicide... each day11peoplediebysuicideincanada.90%battleuntreatedillness. rt : prioritizing suicide research can help lead to fewer suicide attempts and deaths rt : \\'suicide is the biggest killer of men between and , eclipsing road accidents, cancer and coronary heart disease in the u rt : professor green urges men with depression to seek help after his father\\'s suicide: men shouldnt suffer &amp; in silence, by via % ontario students had serious thoughts of suicide this year. is -7x higher for firstnations &amp; inuit youth. rt : facebook\\'s adding a \"satire\" tag for onion articles etc. so people know they\\'re fake. next they can add it to \"perfect relati rt : if i could burn that dime. rt : (breaking) bad -by michael jackson rt : putting it in context with the is now donate! thx rt : could \\'s refreshing ideas save the world? great discussion with on \"everybody is identical in their secret unspoken belief that way deep down they are different from everyone else.\" ~ david foster wallace when ya get home, can we please co-adopt g ? \"marley\" needs our home &amp; our love. can ya dig it? rt : best part of stopping for the night after a long day on a roadtrip is finding a quality nap buddy sometimes ya try yer best but yer best ain\\'t good \\'nuff... rt : world suicide prevention day is fast approaching. we encourage you to find a way of connecting to on sept oh hey georgie : welcome home! so, d\\'ya think i should get ink\\'d for \\'s on ? historically tattoos marginalized \"weak\"- african slaves, jews, etc. i want to empower : world suicide prevention day this years theme is \"one world connected\". : what does mean? world suicide prevention day: september th, . rt : maybe otr on should be broadcast from a tattoo shop rt : and talk about it openly like we do about parkinsons, cancer etc then the hope rt : if we can get ppl to understand that depression is no different than all these o \\'s love &amp; family saved my life! if it could save me, together we can save others... i\\'m very committed to doing something - anything - to raise awareness for on ... rt : a choice for him. choices infer options and in his mind there were none, hence rt : amazing that this is articulated so clearly - welcome to the american police state. we must reinforce the hope that is preventable! just look at the progress made for als...! rt : the interesting part is that its easy for me to understand bc of my experiences rt : so sorry to hear of your tragic loss. forgiveness for myself helps me to get th crci ambassadors &amp; co-founders to give ship worldwide! rt : yes suicide is a silent killer. just awful. and my heartbreaks for him because he must\\'ve been in such despair &amp; hopelessness... rt : brother-in-law last may - ripping wifes family apart devastating on more than well, , while you were sleeping, as a family determined:hell ya, tatts for !design a rad logo, fucker. rt : design a cool logo - i would love to have a reference to as my third let me ask to see what we can do to help. what do you need? books? crafts? skates? oh shelley, i\\'m so sorry... is a silent killer. we must all collectively do more. {hugs} rt : my brother lost his life to when he was . suicide is devastating. rocks , eh? rt : video with tim + beth robertson and me what can we do to help? maybe crci ambassadors could connect with your community? child is the second-leading cause of death children/youth under ... rt : last night yr neighborhood kid said when he grows up he wants \"to kill himself\". family: if y\\'all want me to ink to raise $ &amp; awareness; &amp; rt for to get ink\\'d too! : im in! suh-weet! true! &amp; i talked about getting a tatt all year: and, people die from suicide every day in canada. rt : hard to argue with a tattoo with a message supporting an amazing cause/movement - : when do we get to see it? well, that\\'s up to ml. i\\'m just sharing my thoughts on wspd. shhhhh.... whatever y\\'all do, do not tell my papa i\\'m getting a tattoo...! rt : the more visible we are with our support, the more we talk, the more awareness grows! i\\'d like to do my own design to incorporate the power of : most definitely! does he have a logo yet or going with just the words? there\\'s a rad snw logo! on prevention day should i tattoo snw to raise funds &amp; awareness for \\'s rt : if you did the like i did: need to watch this. my heart aches rt : broke records for the number of aid workers killed my heart goes out to american journalist and his loved ones... may he rest in peace. rt : some canadian cities showing up on some mighty fancy lists today: : sleep well you beautiful souls...may p e a c e be with you and what exactly is the role of in all this bloodshed...? please. don\\'t be so ridiculously foolish. i spent more than a decade studying the persecution of jewish people &amp; the holocaust: has every right to self-defense. : go kill more kids. sad brainwashed monkey. pro-israel is not pro-kill-kids. don\\'t be so nave, monkey. : i\\'m mexican. you, sir, are an idiot. period. good night &amp; good bye! as a strong supporter of , i\\'m speechless... all this propaganda comparing mo to has me at a loss for words. white america is insane. don\\'t even get me started on trayvon martin &amp; his iced tea &amp; skittles...you\\'re too dumb for words. : remember the tryvon case? jump to conclusions and he\\'s found innocent. just sayin. hahaha! it never ceases to amaze me how people crucify \"criminals\" for violent acts - theft, vandalism, looting - but deny the violence of . ummm. ok. so, white cop deserves lawful due process; black \"criminal\" deserves to die. i get it now. smh. : don\\'t just jump on the band wagon of ignorance. thanks, kid. i have thongs older than you... rt : i made a donation &amp; then accepted &amp; gauntlet thrown speak for yourself. never presume you know any of my thoughts, kid. oh baby,! my bff rocks ! . rt : black panthers pushing media off street saying we\\'re not helping. rt : gangs demonstrate alliance to defend stores against against looting. rt : \": rt : new black panthers are in \" yes!!!! rt : the people of have been protesting nonstop for days straight. facing down tanks &amp; heavy weapons. sit with t rt : so the proportionate response is: get off the street or die so, according to kkk logic, y\\'all are entitle to lynch michael brown? year old survivor hedy epstein just arrested for protesting in . tee-shirt rt : -year-old holocaust survivor hedy epstein has just been arrested for protesting in . she is my hero. httprt : hats off to my friend a must watch! :// white america. &amperve rt : scott olsen\\'s work in ferguson has been breathtaking. journalism is not a crime : yo, g , did ya see \\'s ? hahaha! rt : : - nice work michael. a creative take on an important message. no fa rt : :// : ! i challenge it is: rt : because, like depression, you\\'ve learned how to hide any outward sign. we become masters at it, don\\'t we? alw in response to growing concerns over \\'s public transit budget timing &amp; mayoral race, our mayor exclaims... rt : why did i not react to the icey water?als video challenge posted shortly. best. iceman. ever. fucker, ya never even finch...! rt : one of my toughest challenges, as an educator, is to get my female students to value their self-worth more than their this chick has zero tolerance for racism, misogyny, lgbtq-bashing, and any other kind of cultural hegemony... rt : inflaming rt : klan heading to to guard white businesses, back shooting of n*gger criminal rt : communities don\\'t \"feel left behind.\" communities are left behind, intentionally. obama: \"no excuse for excessive police force\" dear hone cameras are more powerful than m-16s to enforce civil accountability rt : president is about to provide an update on the situation in . watch live: rt : \"no evidence of a struggle\" between officer and says dr. michael baden rt : i will be broadcasting a two live edition of from tonight -10pm est. rt : too many shootings. the community demands transparency, accountability, justice. speaking yesterday at la rally. rt : charges shd also be considered against police who arrived on scene &amp; failed to render any cpr or st aid, &amp; prevented a nurs rt : last night\\'s violencechildren gassedautopsy detailsnational guardnew restrictions on proteststhis is a bad combo f rt : with the national guard on the scene, has lifted the curfew in . rt : nixon sends national guard to quell racial unrest. rt : whites half as likely (37%) as blacks (80%) to say ferguson raises important issues about race ht rt : these men have come to , mo all the way from india, where they live in exile, to bring a message of peace. ht one has a moral responsibility to disobey unjust laws.martin luther king jr. if the machine of government is of such a nature that it requires you to be the agent of injustice to another, then i say, break the law~hdt rt : fascinating map which depicts how widespread the looting &amp; property destruction in has been rt : shoutout to hosts , pascal raffy, madeleine stowe, &amp; , join us sept ! ht hope &amp; his readers read this article. the inconvenient truth is can be fatal. remembering robin... what a survivor. what an inspiration. what a tragedy. rt : : - forever young\"may you grow up to be righteous may you grow up to be true...\" i dare ya to take the on \\'s edge walk! ! rt : is half done her ride across for and htt: happy birthday shenanigans! love ya! rt : i\\'m sorry son, it\\'s not just ...it\\'s america... rt : going to a protest? know your rights. sleep well you beautiful souls... happy birthday, georgie bucky baby ...! wishing you much love. safe travels. xoxox ! rt : hope all is well! please support our campaign - we donate $1 for every tweet or retweet of trying to talk mr. big into having a baby with me... found the perfect onesie! : just a lazy rainy saturday afternoon. ! be brave. be bold. be badass.do epic shit. rt : happy birthday to the boy ! a part of our heritage like shania twain and canadian tire money. rt : as the school year begins, i can\\'t help but think that lgbt youth are still the most at risk, especially in school. rt : the miracle we need is to promote physical activity and healthy nutrition not take $ from ju \"you\\'re only given a little spark of madness, you mustn\\'t lose it.\" ~ robin williams : rt : robin williams gives voice to a silent killer from: rt : \"when the people hear the, they forget their problems.\" by&amp; rt : eminem may not have liked him in this clip, but we still love . happy birthday pal! rt : well i hope his apology was genuine and he moves forward looking at mental healt for the record, i accept \\' apology. i\\'ll never be a kiss fan, though, no matter how much money he donates to suicide prevention. voiced his ignorance; but, most people lack knowledge of neurological brain disease. : this disgusts me... ya. now, has apologized for his ignorance. rt : today in history: elvis &amp; robert johnson died, ramones\\' first cbgb set, ringo joins beatles &amp; our fearless friend moon river - andy williams you g x my huckleberry friend,\\'til the end pink floyd - wish you were here you g x you are my sunshine - johnny cash with june carter you g x the beatles - with a little help from my friends you g x god only knows - beach boys you g x coldplay - for you you g x happybirthdaytomybeauwishing you love, my lovegeorgie xoxoxfor you... : the muddy banks of the wishkah1210 e st st aberdeen, wa , usa.kurt cobain. suicide is the most serious andlifethreateningsymptom of brain disease.please.stopthestigma.getthefacts.savealife. when the er staff escorted me to a private room to let me know my year old student suffered cardiac arrest &amp; would likely die, i knew.... all this week i\\'ve heard all sorts of ignorance about &amp; brain disease. i guess you won\\'t know until you know, then you\\'ll get it... on december , my mama attempted suicide. it wasn\\'t the first time. on november , my student attempted suicide. \"code blue\" is rt : \"to live in hearts we leave behindis not to die.\"i feel that with rick.i never met him, but i feel his prese rt : it\\'s the rd anniversary of rick rypien\\'s passing. remember, you\\'re not alone, ask for help &gt;&gt; rt : it\\'s been years since ricks passing. retweet to help with mental health awareness today. ---&gt; :ignorance/idiocy is worst when it has an agenda &amp; blaming the victim of illness suits some people\\'s agenda hahahahaha! brilliant. damn. why didn\\'t i think of this sooner? catie miller is still missing. please, stay alert. if you have any information, contact police. let\\'s rt : today marks a month since catherine \"catie\" miller / mccurdy was last heard from. one of \\'s best interviews of the year is airing right now... love gsp anyone who denies racism &amp; white supremacy in canada &amp; united states evidently knows very little about political... rt : help students accept &amp; embrace who they are by making your avi an awkward childhood photo. h hip-hip-hooray for ...! : humbly? to admit a wrong requires some humility, no? am i wrong? i make mistakes all the time. i learn new things daily. there\\'s a great deal to learn about brain disease. let\\'s keep talking. hey - please tell it means a lot he humbly retracted his statements. rt : after a firestorm of criticism, issues statement backtracking on controversial comments on depression: rt : rt : gene simmons\\' recent comments about suicide and depression have pissed off nikki sixx: rt : gene simmons told year olds with depression to kill themselves. \"gene who?\" replied year olds. thank you for your thoughtful insights, b; you\\'re right. i changed my tweet to reflect your point about the true meaning of bully. anyone who thinks \"kill yourself!\" is an acceptable response to someone battling brain disease is unintelligent &amp; a moron. rt : regardless of how cruel and insensitive he was not bullying anyone when he said, work the problem not : talking about yourself in a detached format is not bullying, bullying requires a real person fair argument. i never liked kiss, anyway.! that said, i believe in free speech &amp; free thinking. it\\'s just my opinion that statements inciting self-harm are harmful &amp; hateful. : what he says for drama &amp; whether he has actually done it are separate issues. i disagree. hate speech is harmful. : . i wouldnt call gene simmons a bully but he is certainly a moron i read gs said he\\'d yell \"jump!\" to a jumper. wtf child is a leading cause of death in canada. please listen: rt : hey, , how about donating to to make up for your comments? rt : listen: nikki sixx fires back at gene simmons after controversial comments about depression anyone who thinks \"kill yourself!\" is an acceptable response to someone battling brain disease is unintelligent &amp; a mean bully. : read this! yo, simmons: stick to giving make-up advice! : it\\'s given him a higher profile...that is all sheep flock to ; may a pigeon flock on \\'em all! genetic biomarker identified in suicide risk: why scientific research matters to prevention. when said \"suicide is a choice,\" did he give any thought to how brain disease impacts decision-making? a brief overview of the symptoms of clinical &amp; neurological activity/hyperactivity in a depressed brain. why should spend more time researching neurological brain disease &amp; less time babbling like an idiot. brain disease, along with psychotropic treatments for brain disease, can cause further cognitive deterioration &amp; other brain diseases. rt : stunned to learn robin had pd. pretty sure his support for our fdn predated his diagnosis. a true friend; i wish him peace. rt : in the united states, million women and million men suffer from a clinically significant eating disorder at some tim rt : men are at risk for too. % + of american men suffer, many w/out treatment great piece at rt : awareness - it is the largest affecting millions of men and women examines the stereotypes here htt rt : tallulah willis opens up about her body dysmorphia diagnosis in an emotional video much l v e to courageous men who are changing how we think &amp; talk about brain disease: depression is a brain disease. is a symptom of brain disease. be compassionate. listen. care. \"depression\" is a common word. we use it to casual describe how we feel about a breakup or career move. but, that\\'s not clinical depression. more than anything, i really wish i could\\'ve given robin williams {hugs} to let him know i know how it feels to live on the razor\\'s edge... most days i wake up feeling \"meh\". and i wonder what it\\'d feel like to feel better than \"meh\". brain disease exhausts me! years a slave is the most brutally painful ; and, it may be one of the most educational, too. join us september st as we make history &amp; raise funds for \\'s ! o canada ambassadors want you to help us set a new ! ! join &amp; to set a new world readingrelay record &amp; give ! rt : robin williams\\'s death: a reminder that and are not selfish sadly, it is a lesser known fact medications used to treat bipolar brain disease can also result in parkinson\\'s. rt : robin williams was suffering from parkinson\\'s, \"not yet ready to share publicly\" died from . is a silent killer. please read: via : its my favorite time of year! i love me too! can\\'t wait to meet you at the festival! {hugs} ! mark your calendars! join us september to break the world record reading relay to give kids ! g ! mark your calendar! come to to make history with ambassadors, ! rt : we know you love attending the annual , but do you know how wots got started? read about it here: congrats!! wonderful news! so proud of you girls! let\\'s raise more funds with our read-a-thon &amp; word on the street event! rt : thanks for your help bringing attention to a critical issue affecting literacy - access to books! rt : julia will be game receive $1,000 for htt rt : empower our youth by humanizing yourself. change your profile pic to an awkward childhood photo w/ rt : dear celebs,help students embrace who they are by making your profile pic an awkward childhood photo until labor day. rt : if history books included those who brought the most joy &amp; eased the most suffering, robin williams would be in chapte a pack of crazy wolves circled my feed with ignorant chants about the sin of \"choosing\" suicide... is this what \"christianity\" has become? if i cannot learn from you, i\\'ll not bother conversing with you... papa raised this feminist right! (translation: fuck yourself.) : no actually his post was helpful, not hateful. ha! you probably think hitler was \"helpful\" too! : so it\\'s not hateful to call someone an idiot? nah. etymologically, dude is an idiot. just sayin : this guy also made a choice wow. you\\'re fucked up. my doctorate of philosophy in philosophy was in ethics, politics &amp; human rights. thanks o lord. why hast thou forsaken me to irrational religious zealots from little rock? dost thou have no mercy for philosophical thinking? : says the woman who just tweeted a hateful comment. his opinion does suck. hateful, no? . don\\'t y\\'all have a lynching to attend? wouldn\\'t be very christian of me to hold y\\'all up! my kid bro has been in remission almost months now; i just wanted y\\'all to know, during this whole time he\\'s been taking care of me /2 many of y\\'all shared my journey over the years. if so, you know i\\'ve been there for my kid bro as he battled life-threatening cancer... /2 you\\'re so wise, ml... i knew you\\'d totally understand why i\\'m so vehemently opposed to .we\\'re . rt : did you know million people a month read the blog?did you know mein kampf is a best sell rt : just how segregated is ferguson? rt : baby llama don\\'t need no drama rt : people become educators not to make money, but to make a difference. a god without l o v e is no god. i grew up catholic. i sang choir &amp; read the bible at mass. i wanted to be a nun. the more i learn of religion, the less i believe in god. mork made me laugh. keating made me think. sean made me cry. you made me feel j o y rt : pro-lifer suggests abortion to blame for robin williams\\' depression jimmy fallons tribute to robin williams made me laugh &amp; cry... \"o captain, my captain... you will be missed...\" what do you think of \\'s magnum opus on brain disease? is a choice? yes, i know i\\'m a {smart} bitch... : hi beautiful sending love &amp; positivity your way xo praying you have a blessed week thanks, my lovely!! yes. ideas and opinions can be dangerous. that\\'s all i said, nicole. save your shock for reality tv. the history of medical \"pathology\" always delineates normal/abnormal, again evidencing the stigma that underlies both lgbt &amp; mental illness. brain disease is not a \"pathology\"; or, if it is, then cancer is a \"pathology\" too... rt : thoughts? segregation, colonialism, slavery, lgbt persecution - all of these were supported by \"opinions\" too. i\\'m not questioning his right to opinion or his free speech; i\\'m just stating it\\'s a dangerous one. one new theory based on finding biogenetic markers for suicide suggests cognitive impulsivity plays a key role in suicide. i earned degrees in philosophy. doctor of philosophy in philosophy. if you don\\'t respect me, you\\'ve proven my point. fool. the assumptions by in this poorly researched &amp; ill-conceived article are very dangerous: walsh writes \"depression is a mental affliction, yes, but also spiritual...\" neurological brain disease is a disease. suicide, like lgbt, is neither a sin, nor a crime. laws evolve based on logical arguments. if you think these are crimes, don\\'t talk to me. i get it. you\\'re intimidated by my intelligence. you\\'re not the first to \"wiki\" me in a feeble attempt to win a debate, fool. matt, ya must feel really good knowing your supporters are people like this guy who think suicide is a crime. suicide is a choice. choosing to terminate cancer treatments is also a \"choice\". just sayin. drunk driving &amp; rape are criminal offences. your analogies are illogical. wow. just when i thought this dialogue couldn\\'t get much more irrational or idiotic... last year i reported scientific findings linking genetic markers to suicide risk. neurological brain disease kills. another fact is that you\\'re both intellectually lazy. read more. speak less. insults? disputing your fallacious claims &amp; irrational conclusions is not an insult; it\\'s just a fact. um, ok. whatever. if you wanna remain irrationally ignorant, be my guest. take your ignorance back to the cave. have you ever studied epistemology? metaphysics? neuroscience? nope...? well, i have. maybe you should, too. if not, fine. what i will say is this: brain disease causes impaired judgment. that\\'s not a choice. your problem is not my problem. if you\\'d like to actually learn more about brain disease, follow me... respectfully, neither of you obviously know anything about neurological brain disease. opinions are not \"facts\". that\\'s definitely not what i said or implied. suicide is preventable &amp; should always be prevented. rt : so we shouldn\\'t tell a suicidal person not to kill themselves? : robin williams didn\\'t die from a disease, he died from his choice: worst. article. ever. : seriously? did you even read it? yes. i read both articles. his lack of insight is astounding! is suicide preventable? yes. are there cases of brain disease that no amount of medical treatments &amp; therapies can cure? yes. is suicide a choice? if you think someone battling an untreatable, terminal disease ever \"freely\" chooses death, you\\'re a fool. i\\'m sorry to learn you &amp; your wife have received hateful comments: there\\'s no excuse for hate. likewise, your \"truth\" sucks. your arrogance, ignorance &amp; confidence is unfortunate. dyk scientists have isolated a genetic biomarker for suicide? : depression isn\\'t a choice but suicide is: my detailed response to the critics: read much? rt : congrats to on becoming the first ever woman to win the , making us iranians very proud ht rt : a female mathematician has won the most prestigious prize in math for the first time: v \\'s work in mathematics is described as \"curiosity-driven,\" \"original,\" \"novel,\" \"sophisticated,\" \"elegant\"... what can we learn from ? reading literature teaches children how to see the world from differing pov. math is art. rt : congrats maryam mirzakhani phd04, the first woman to win the fields medal! read the \\'s interview with her: ht the fields medal nobel prize for math is awarded to a woman: maryam mirzakhani, stanford rt : a history of unarmed black men killed by law enforcement: rt : for the first time in history, the fields medal math\\'s top prize awarded to a woman : in memory of beautiful tribute... sending love to you &amp; her loved ones. rt : \"the opposite of is not happiness, but vitality\" - , the noonday demon: an atlas of depressi robin williams\\' death gives voice to a silent killer. are we listening? by demons.cocaine.alcoholism.depression.suicide.hanging.selfish.comic.sad.clown.headlines lie.brain disease kills. countdown to : days. you\\'re welcome. all my dreams last night were of you, georgie . at one point i asked, \"will you marry me?\" you gave me the finger &amp; we laughed... with a heavy heart full of love, laughs &amp; joy, i share this with y\\'all... dreams, mork...wherever you are. rt : decided to put this little collage together to show the range of suicides from young to middle aged to depression is existential absurdity; comedy may be the only reliable cure we know. via routinely cracks jokes as i\\'m circling depths of despair, plotting my final demise, foiled only by my impaired mind...we laugh \"why the funniest people are sometimes the saddest\" by jim norton family: let\\'s give love &amp; support to &amp; her brothers by wrapping our arms around them too rt : the more i read about robin williams, the angrier at me i get. beautiful words, may a rainstorm of pigeon poop descend from the heavens...i\\'ll be giggling too! : \"what will your verse be?\" ha! just reading all your posts in reverence to robin williams as an educator. love how you see \"sean\" as a teacher, too! rt : on behalf of educators everywhere, thank you. \"good will hunting\" &amp; \"dead poets society\" tonight. (truth be told, keating taught me how to teach.) rt : if robin williams has taught educators anything, it\\'s that education is so much more about inspiration than informatio \"wassup, brando...?\" rt : depression is the great equalizer. rw was the genius\\'s genius. yet that gave him no extra power against the illness. none rolling stone magazine just published the heartbreaking sheriff\\'s report detailing robin william\\'s final... rt : aug st will be years since wade belak\\'s death.wade was my friend. i still feel guilty. rt : how about this...me today...i am the : may i add... you should hear this beautiful cover by canada\\'s - \" rt : genie, you\\'re free. rt : devastating news about knew him a little and liked him a whole lot more. a brain wired like no other and s brain disease is just something i was born with: major sleep disorder from birth; severe depression by to understand what feels like just imagine the best, most beautiful day of your life. now, imagine you cannot feel any of it. it is impossible for me to describe how impaired my thinking becomes in the darkest depths of my depression; all i want is the pain to end. when one dies from disease, we remember their courageous battle; so too should we respect the courage of those who die from brain disease... sending much l o v e across the miles to you &amp; your loved ones, xoxox rt : rt : wanna help? theres some1 like rw in ur house, at work, at the club. u may have the power to change their life with ur att rt : the key to helping the silent sufferer is to create an environment where mental illness is seen as a sickness not a weakn rt : why suicide? depression=excruciating paindepression=hopelessnessif some1 cut off ur arm and u thought the pain would n - stand by me us, for the road, for always xoxox rt : if you want to remmeber robin williams at his best, go back and watch the fisher king. terry gilliam had a similarly warp i\\'m parked at a four-oh-one truck stop somewhere between megacity &amp; minicity thinking of you g ... rainstorm. coldplay. ride safe. i think it\\'s important to understand that brain disease, like all diseases, induces serious sickness. true. for me, the symptoms of brain disease -mental &amp; physical exhaustion- underlie utter hopelessness. rt : suicide arises from a complete &amp; utter loss of hope. true. sadly, too few people understand neurological brain disease is a sickness not a character flaw. rt : takes an unfortunate celebrity suicide for people to talk about mental illness. many suffer in : hug {big hug} rt : almost years ago i had a fully loaded pistol in my mouth ready to pull the trigger. i didn\\'t. reached out for help and awww...thanks for the kind words... last august i almost died by suicide; saved my life. he\\'s my inspiration. thanks for being my best friend, my family... rt : if uve never felt depression u won\\'t ever understand it. the key is to accept it as an illness not a weakness &amp; u will ch rt : - a sad night michael. no one deserves to go through mental health issues. thanks for being a voice that is he rt : we are slowly discovering that those who laugh hardest in public, cry the hardest in private. if you are battling depression &amp; need a friend, please reach out: stephanie.zubcic.com awww... thank you ever so much for your kind words &amp; unfaltering friendship! back at ya, sista! xoxox : dang that bagel looks good. i have your back no matter what! best bagels in toronto! sad, sad day... and so my battle continues... \"i used to think the worst thing in life was to end up all alone, it\\'s not. the worst thing in life is i never met ; but, tonight i grieve for his passing as if we were family. maybe that\\'s because we are family... rt : \"suicide? depression? no way- he always seemed so happy\"the face of depression is whatever we want you to see. rt : when i shared my depression people said \"no way- you always seem so happy\".today what are they saying about robin william rt : i find the thought that so many have to fight both the illness and the stigma heartbreaking but it also pisses me off. robin williams dead in apparent suicide i\\'m so heartbroken... was an extraordinary talent. i always admired his courageous battle against... blondes have more fun...! blondes have more fun...! blowin\\' y\\'all a kiss... wishing you wisdom, strength &amp; true love, always xoxox rt : here\\'s the equationepression = lethargy.change requires energy.therefore depression = no change.no change = hopeles rt : what\\'s ur ?sickter depression scale8-10 so blessed6-7 blessed5 confused3-4 functionally miserable2-3 the bottom0- : road north a kiss for the road from canada xoxox song of the day: \"god only knows\" by the beach boys happy saturday y\\'all...! enjoy. {hugs} \"maybe our mistakes are what make our fate...\" ~ carrie bradshaw bring my beau georgie home safely! &amp; may the interconnectedness between subject/object bring you both wisdom. rt : and i hitting the road on our home. rt : sunday night on the show, old-school meets new, &amp; drop by. p, a butterfly came into my garden. as we sat together in silence, i thought of the profound changes it be kind. always. if i love you, i shall love you \\'til the end of time. jane austen said it best... perhaps, that\\'s why i love leo\\'s come home safely, georgie xoxox rt : some next to final touches on the bikes before me and start the ride north to, and then across canada rt : starting soon: regular jane goodall joins .11:30pm on \"some people read to confirm their own hopelessness, others read to be rescued from it.\" ~ anas nin \"s\" word - suicide - is forbidden by some teachers. tragic, for those battling &amp; those grieving. when students report to me what the remarks of some of their high school teachers, i\\'m shocked. rt : i\\'m baffled by the lack of empathy in schools towards people who show signs o , founded in athen\\'s by the oldest pharmacy. my new line. beautiful friendship roses for my writing desk from my good friend, troy leyburne... what a lovely \"...and happiness has its own way of taking its sweet time...\" rt : currently reading pete townshend\\'s \"who i am\", which details years of untreated mental illness, addictio what\\'s depression feel like? hopeless abso-fucking-lute shit. rt : . problem is some things can\\'t be described. how do you explain what depression feels rt : : perhaps our job as people who have been there/do that is to act a rt : may \\'s piece &amp; its discussions serve as proof that we don\\'t need a corporate-sponsored day to real talk : a must read by via rt : i was just thinking of you guys and our time together parents. teachers. school administrators. y\\'all need to read \"these should be the best days of your life\" by... rt : : this. i never cut, but i related to every word. for the record, i felt like a traitor - \"go jays!\" - but my hair was a hotmess, so it was the lesser of two evils! can ya believe i rocked my chicago cap today for the first time &amp; thought of y\\'all? it is never too late to begin anew... tomorrow is a new day. moral of the story: i may not be able to change them, but i can change myself. need to reach me? send a smoke-signal... why is it that auto carriers or insurance companies offer *fixed monthly rates* but telecommunication giants are free to charge *whatever*? aug/2011: $500 to cancel my rogers mobility contract for a -year telus contract. estimated cost: $75/month x = $2700. total cost: $10000 mobile client? overwhelmed by costly calls to loved ones? dail to on!! :// are outrageous mobile phone bills driving you mad? if you are like me &amp; are fed up contemplating whether to... rt : catie miller from dartmouth has been missing since july th. please retweet \"sometimes you ride the bull; sometimes the bull rides you...\" wise words of inspiration from my kid \"i can\\'t change the world but i can change the world in me.\" ~ bono hahaha! well, i am turning forty so it\\'s natural, i suppose. did the much music retro make ya laugh? platinum blonde!! omfg. it\\'s official: my hair is turning grey!! i found more than a strand today!! ugh. do you remember the... maybe. maybe not. disease is unpredictable; that\\'s precisely why all diseases are so tragic. still, i hope.... the important thing is never give up &amp; give into the false belief that i\\'m alone. love &amp; hope keep me afloat. thank you. i\\'m winning today. and part of accepting brain disease is understanding i may be losing another day... rt : evident by the conversation that you have stepped up to the plate and winning the battle. keep : yup, on the waiting list ugh! hate waiting! have ya read, \"oh the places you\\'ll go\"? read it!! i\\'m gonna speak for &amp; myself (dude gets nuff air time! lol) our thanks is knowing we helped one of us survive. thank you for sharing! i read a few memoirs earlier this summer; reading helped me to understand that i\\'m not alone. rt : also worth reading \"the spirit and the fire\" by jamieson i believe. people like lord byron also battled the bl rt : the meds saved my life but friends, family and a job i love make it worth living thank you kindly ! we all learn from one another. there\\'s great strength in numbers! {group hug} rt : and you aren\\'t just winning the war for yourself; you are helping to arm thousands of others so they can : uggg. ugh! that sucks. are you gonna try an alternative treatment? thank you for your wise words &amp; book recommendation. love styron! always taught sophie\\'s choice to my ethics students. {hugs} rt : depression is very tough. never stop working on it. if you haven\\'t read \"darkness visible\" by styron. it will accepting brain disease is the hardest battle i\\'ve ever fought; but i learned it\\'s the most vital tactic to winning this war. rt : it took work and fight to get there, now i have a new job and being very active keeps me i + helping family- resisting medical interventions+ research, research, research- fearing what people will think of me(2/2) what changed?+ reached out to - feeling ashamed about my struggles+ learning &amp; sharing - feeling guilty(1/2) august : suicidal august : so blessed depression is a serious neurological brain disease. suicide is preventable. : today, a solid , but been to for a goodly chunk of last two weeks great improvement! {hugs} : -7 for a month now yay ah-mazzzing! what changed? that\\'s precisely why i refuse to use the term \"mental illness\"; i battle neurological brain disease. rt : i still think if you had a private poll of canadians the majority would say depression is more of a weakne rt : -wondering how anyone could ever be a \"depression atheist\", feel like the black dog is too visible to not : wade\\'s death shocks me today as much as it did almost years ago. heartbreaking. heartbroken. dare i say i\\'m a ? no doom-&amp;-gloom; only a kink in my neck from sleeping with too many pillows...!! rt : what\\'s ur ?sickter depression scale8-10 so blessed6-7 blessed5 confused3-4 functionally miserable2-3 the bottom0- rt : the great adam yauch would have been today our strombo show tribute to : hahaha! our enviable birthday girl has a fab rack!! cheers to boobies &amp; bday drinks stat!! life is simple; don\\'t complicate it. love is rare; hold onto it. fear is an anchor; sail on without life is tough. be tougher. hahaha! love the boobie-shot...!! that was an epic girls night, eh? love y\\'all xoxox for my bff who taught me how to dance on every day...even when it rains! happybirthday dancingqueen! happybirthday to my best friend, lisa minicucci salucci! you are the most thoughtful, loving &amp; generous spirit... \"it\\'s comforting to know the ones you love are always in your heart.\" ~ carrie bradshaw love my girls the girl on the treadmill beside me looks like she\\'s about to walk the runway...! sorry, guys. i\\'m vanilla creme brle. delicious body lotion that smells so yummy, i could eat it...! fav moisturizer. vintage li &amp; me love you rt : \"turn your worst moments into your greatest achievements\" by true love is giving. true love is accepting. true love is unconditional. catie miller is still missing. please, stay alert. if you have any information, contact police. let\\'s rt : im having an abortion this weekend via - tremendous, tremendous piece. must-read. \"i\\'m having an abortion this weekend.\" rt : tonight! the show revisits danger mouse &amp; james mercer of -11p, this is sharks territory midtown taver i have left my heart in so many places... croatia. bosnia-hercegovina. wales. paris. italy. london. nyc. boston.... \"i have left my { } in so many places.\" so good to hear, sandra!! enjoy your weekend!! rt : enjoyed hugs &amp; kisses from my nieces today thanks to &amp; you r amazing! : insongnia: arlo guthrie - percy\\'s song. i\\'ll see your percy\\'s song &amp; raise ya... bobby hull. joe thornton. johnny bower. all the greats come to the midtown tavern, st.thomas. time for my chariot: \\'65 mustang. celebrating the arrival of another baby thornton! :// i have a date with in next week; he just doesn\\'t know it, yet. lve rt : us all posted.we want her back because she has a child &amp; becuz her life is so valuable. important to re rt : michael. please please click the link and retweet to your followers. we need to rt : please share and help bring catie home to her little boy! rt : pls rt to \\'s frnd patrick needs help wt trtmnt. i gave! rt : did you know: kids who don\\'t read in the summer spend more time being retaught during the year. http whenever i question the meaning of life, i remember how i stood on stage with one of the greatest bands in... dear : please spellcheck &amp; proofread posts; your poor command of the english language is crushing me. throwback thursday: chi town with my li lisamini99 sam &amp; eric...\"atb!!\" our first rave!! and this men\\'s health &amp; normative thinness: via are our conceptions of men\\'s \"health\" promoting eating disorders &amp; body dysmorphia? wonder what my friends... glynis &amp; i whenever i listen to pink floyd or coldplay, i alway think of my beau georgie ... ... : the perfect reaction to an outrageous statement lmao!! u2\\'s \"joshua tree\" still gives me chills... where the streets have no name live at slane castle educating girls saves lives. at the gym wishing &amp; i trained at the same place so he could share his yummy stock of at the gym wishing &amp; i trained at the same place so he could share his yummy stock of rt : thx for the follow the need for awareness is gr8er than ever. \"normal response to an abnormal si \"accept the things to which fate binds you &amp; love the people with whom fate brings you together but do so with all your ....\" \"qui hcec omnia accipe, et populus cui fata tibi amor, sed hoc cum corde vestro...\" ~ marcus aurelius rt : ne infirmis infirmus &amp; i are texting in latin, and i\\'m laughing uncontrollably, ad infinitum... veni, vidi, vici...!! brain disease can cause suicidal thoughts. if you\\'re feeling suicidal, save yourself by reaching out unsure. i know the myth that people are more likely to be suicidal during the winter holidays is false; more suicides in spring. rt : is summer a more difficult time? seeing others live it up yet unable to feel that joy bc of dep? rt : why every canadian should watch rhymes for young ghouls - aboriginal - cbc is preventable. love &amp; compassion are powerful forces for healing. be a lifeline. reach out for a lifeline. we care. so many have reached out to me recently struggling with depression &amp; suicide... please. keep reaching out. find your healers. it\\'s been a while since i spoke to my psychologist, dr.shaul; but, his kindness still brings tears to my eyes. he\\'s a healer. l\\'amour est dieu.amour fou, irrsistible, plein d\\'espoir. hey friend how\\'s the weather in boca? is spin class still kickin your ass? do ya ever wish on shooting stars...? rt : hey friend. just thinking about you. yeah you- you\\'re the one feeling like no one understands ur pain. well i do, and i\\'m rt : starting soon: will ferrell joins . :30p on . ha! the only way you couldn\\'t fit is if i have my li\\'l yorkie by then... still, even with a puppy, i think you\\'d fit! my sister glynis &amp; i are celebrating our th birthday next year in paris, france! all our best girlfriends are... the sopranos marathon continues... :// are you reading with your child every day to prevent summer learning loss? i recommend at least minutes/day.... rt : women are never disarmed by compliments. men always are. rt : a teacher can\\'t replace a parent, but many children have been saved by teachers, who assumed the role, because there w could tony save himself by reading dostoyevsky\\'s \"crime &amp; punishment\"? love how season fixates on the possibility of . : \"...to stay and i\\'d let that lonesome whistle blow my blues away...\" jc georgie \\'s basement spinnin\\' vinyls with our family is how i imagine \"heaven\"... thanks, guys. g\\'nite soulful sunday date night with my beau, g , beastie boys &amp; johnny cash...\"that\\'s where i want rt : radio show this eve at pm: the th birthday of \\'pauls boutique yo, wassup with people? we live in such a disposable world... people think they can come &amp; go as they please.... no matter how angry or hurt you feel, never let your momentary feelings diminish your enduring love brain diseases, like depression, can cause serious weight gain or loss due to fatigue, metabolic changes &amp;... you deserve someone who would jump fences to be with you, not someone who is on the fence about being with you. love your background photo...! no shortage of testosterone in your family, eh? hope ya give your mama a baby girl one day! rt : public school: a place where extraordinary people, do remarkable things, with minimal resources, and solely for their do epic shit. and just like that, my ovaries exploded...! oh, how i love my beau georgie rt : and one more from - - although the why is not understood, the res rt : heres a study (limited scope) of ppl that responded - : your first time watching? ya. catching up on all the tv i missed the past years. midway into season ... anthony soprano jr. is my new favourite character in the soprano\\'s! love him... rt : biggest change i\\'ve made is simply increasing my self-awareness of the signs of depression in myself and rt : it\\'s an illness that is manageable, and they do not define the individual living with the illness. brain disease is a sickness not a weakness: second leading cause of death for cnd kids/youth age -24. knowledge is power. what have you learned about brain disease? share a change you\\'ve made that is helping you! ...i knew about b12 deficiency causing fatigue &amp; depression; but, i had no idea b12 also impacts rx performance! thanks for sharing all your info on b12 + antidepressants. i\\'ve been a vegetarian for many years &amp; you\\'re right... a child who reads will be an adult who thinks. rt : i just had a tumour removed &amp; also resolved another scary situation. today this is my happy song: what\\'s your happy song? all you need is -beatlesgood life -one republicbeautiful day -u2dancing queen -abbafree fallin -tom petty rt : why libraries matter via love reading all the responses to the b.c. music festival ban, g . thanks for encouraging public debate! mr. harrower was my first to teach me the power of love in teaching; thankfully, he was not the last... it takes a village. rt : many who i believe shaped my own teaching career! mr snow the most passionate engl teacher i\\'ve ever rt : home was a scary place. my gr teacher showed me i was smart and maybe worth something. saved my life. when i was in grade he had his first child; he named her stephanie. he\\'d always say: you never cease to amaze me. my grade teacher, mr. harrower, transferred me into his grade class &amp; changed schools to teach me again in grade ... rt : if you had/have a teacher who went above and beyond for you, and changed your life. rt : phrases people with anxiety are tired of hearing rt : how do you feel about this? : b.c. music festival bans aboriginal headdresses politicians commit a serious error in judgment every time they invest in military and fail to invest in education. rt : educators, i strongly recommend you check out . it\\'s a great way to raise funds for schools &amp; build a stron : : be a voice, not an echo. this quote made me think of you &amp; awww... love it! : too old to try this... too dumb to not try... what could possibly go wrong always stay a kid at !! i\\'m so blessed. today, my kid bro picked up a huge bag of for me &amp; made a wicked family bbq. love actually is all around... gymcrush held the door for me ! he might\\'ve said hello but i tripped, so i had to all avoid eye contact for the next hour. days to kickoff ! :// dallas cowboys fan since :// i tony soprano...! some ladies love flowers; this lady loves cherries. my kid bro is the sweetest! :// live &amp; learn. this is why i only date men with tattoos now...! true puppy l v e g !please tell me you\\'re finally ready to commit to co-parenting a puppy with me...!! hahaha! brant house! that girl was laying on a table giving body shots! we were laughing hysterically! sleep well you beautiful souls...sending love to the children of war tonight... may p e a c e be with them. do y\\'all think it\\'s a coincidence my favourite human beings are leo\\'s, georgie ...? hey ! i\\'m a good friend of michelle terry nelson\\'s family. &amp; i\\'d love to talk with you. how can we reach you? how\\'s my family? yesterday, i was a wicked !! today, i\\'m a solid !! sending l v e to y\\'all. rt : the somali singer &amp; mp saado ali warsame was shot dead today of her biggest songs: rt : join me in making the call to reading with a child for minutes a day is the single best way to improve academic performance. mason\\'s first trip to the library...! we are picking &amp; signing up for the td so proud of children reading for children global ambassadors, julia &amp; emma mogus, co-founders of... rt : tonight in the : a certain karate-chopping diva joins to talk life &amp; love. :30p. ht summer thunderstorm. soft music. sweet memories of yesterday\\'s love... hauled my sony down from the family attic so i can listen to my beau georgie in stereo when i\\'m home. raiding john john brooks fridge. labels facing outward. homemade iced tea &amp; only can of blue light...? i\\'m... home hardware project underway in my best friend\\'s backyard...! thank you so much for helping me redecorate my... today\\'s girls summit focuses on ending female genital mutilation &amp; child marriage. thought of you &amp; your invite... rt : \"all girls have the right to live free from violence and coercion\" : arendt truly was the most brilliant &amp; prophetic public intellectual of her time, eh? as i extoll the virtues of just war, in my mind all i hear is the deafening sounds of \"you can\\'t handle the truth!!\" \"proportionality in the morality of war\" by thomas hurka, phd. war is only justifiable in self-defence. is there any doubt military is breaching on crimes against humanity? war is chaos. the narratives about echo this chaos: and, yet, astutely noted: gandhi\\'s principle of non-violence would be met with certain death against hitler. love that arendt quote. her distinction between power &amp; violence is the basis of my philosophy of human rights... rt : . \"power and violence are opposites; where the one rules absolutely, the other is absent\" arendt song of the day in honour of ml! happybirthday best friend! who loves ya ? \"hopelessly the hope is we have so much to feel good about\"! rt : thousands of young aboriginal athletes are in this week... here\\'s why omg. the bachelorette vortex just sucked me: to lady vid-bombing the show...?! wow! thoughts ? (i know you watch this crap ) : \"if you love somebody, tell them everyday.\" - marcus\" &lt;--awww! this guy! p.s. i hate your tv series... rt : on tonight\\'s episode of \"the bachelorette,\" john wayne comes back from the dead and just starts punching guys. do you watch the bachelorette? i don\\'t but it was on tv when i turned it on &amp; this marcus guy affirms my of dallas cowboys! awww! thought of ya last night as i indulged in my own lavender bath ritual. oh! and tonight: my gym crush smiled me! {hugs} people often say: \"people don\\'t change.\" but, i gotta tell ya: i\\'m changing! who knew guys with tattoos were so... israelis would disagree with you... rt : war in self defense, for a just cause, enemy that can defend him/herself. none of these conditions are bein regina hosting the north american indigenous games give p e a c e a chance via my friend eric soori confession: i\\'m a \"just war\" theorist. that said, my phd focused on arendt\\'s \"the right to have rights\" &amp; conditions for peace. just sayin. rt : that\\'s why i keep saying that we don\\'t need . we want peace &amp; justice to all. just war: is it intellectual fraud? : i\\'d like someone to explain that to me, too. read ignatieff: true. however, all wars - justified or not - civilian deaths are considered \"collateral damage,\" a utilitarian means to an end. rt : i don\\'t think this war is justifiable. because i see defenceless people being attacked. thought-provoking &amp; highly-controversial article. so, iyo, is the israel-palestine war unjustified? ever read hannah arendt? rt : \"few might be guilty but all are responsible\" ~ abraham joshua heschel philosophers tend to agree: war is morally justifiable if, &amp; only if, is in self-defence. is the &amp; war justifiable? are isrealis committing violations? thoughtful essay: the taboo via good morning {hugs} sopranos: season episode . lets do this!! : wanna give a quick shoutout to &amp; . they\\'ve inspired me to help others that are sunday date nightunset cocktail &amp; candles books my beau g what more could a lady \"why assholes get girls\" was obviously written by a dude who plays with girls because he\\'s unable to attract a... anyone else wonder if g sports a mohawk from time to time?every time i see one, i wonder... rt : the show toasts \\'s nod. repeat track-by-track tonite! p, http the perfect summer salad: from garden to fork...! mental health impacts everyone. the language of brain disease needs to be part of our national dialogue. many experience warning signs of brain disease but misinterpret physiological symptoms. rt : thanks!it works because it speaks the language of depression. we learn that /7 is a blessing and that the bottom isn\\'t walk a mile in my shoes before you judge me. marilyn monroe (size ) &amp; beyonc (size /4). smart is always sexy. iq matters more than your dress sweat is a woman\\'s best accessory. make it your mission to leave your mark every day. : great work is a work of great l o v e rt : students come to school for two reasons: to learn or to be loved. rt : thanks for following (a.k.a. teens on a mission) please see our work rt : ways to get your kid outsideimprove physical, mental &amp; emotional well-being: via rt : love this! rt : : beautiful street art. cc: rt : yay! is back with new cd, love bug! icymi, here\\'s our interview with raffi on kids and social media&gt; inspiring spirits: g rt : to celebrate , we\\'ll revisit \\'s conversation with + a special tribute to nelson i\\'ve always lved cherries! now, i eat them to help improve . could cherry juice help you...? :// what calories of fresh fruit looks like eat to nourish your mind &amp; your body. if you would never shame a chemo patient for losing their hair, please don\\'t shame a brain disease patient for gaining weight. love heals. and for the rest of y\\'all...please be mindful that someone who you might label \"fat\" or \"obese\" just may be battling brain disease, like me. this past year i\\'ve battled weight gain from rx side-effects. brain disease &amp; rx causes weight gain but you can fight it. i am. for + years i fought my brain disease with cardio, yoga, meditation, a vegetarian diet... rx treatment including sleep meds saved my life. exercise improves brain functioning. severe brain disease, however, isn\\'t improved by exercise alone, as athlete reminds us... exercise improves depression; but, some people (me!) need rx too! move more. eat smart. love yourself. got fat? fighting weight gain is war. fight like a storm trooper! combat rx side-effects. just do it! rt : \" is the most powerful weapon which you can use to change the world.\" happy ! rt : \"people learn to hate, and if they can learn to hate, they can be taught to love...\" ~nelson mandela~ rt : \"there is no such thing as part freedom.\" rt : alfred is watching downton abbey. aka batman gets his own sandwiches for an hour abbey. rt : missing ? heres a reading list highlighting some of the eras top writers downton abbey. downton abbey. downton abbey.downton abbey.downton abbey.downton abbey. downton abbey.downton abbey. downton abbey. beautiful! thank you for sharing. time has taught me it is better to wait for truth than settle for inauthenticity. rt : had she settled for anyone else earlier, she wouldn\\'t have been free to be swept away when she did finall rt : i had a friend who met &amp; married the love of her life-she was , he was . she describes him as \"dreamy some think it\\'s sad i\\'m almost &amp; still single; i think it\\'s sad so many people don\\'t wait for a l o v e is in the details, great &amp; little details... &amp; , my true zen master some lessons we learn the first time; some lessons we learn time after time...i can let go with grace... rt : i\\'m reading pete townsend\\'s \"who am i\". details being abused as a young child at the hands of his grandm well, fucker, despite the (k(3*2z text from chunkster, i\\'ma . eating means i\\'m winning...!!! you ? rt : what\\'s your ?sickter depression scale8-10 so blessed6-7 blessed5 confused3-4 functionally miserable2-3 the bottom rt : one of my fave interviews all year tonight: against me! singer is in the . :30p awww... i\\'m so sorry, tabs... sending l o v e across the miles. tomorrow is a new day! sweet dreams {hugs} healthy eating is costly - i just spent $10 on this bag of cherries! - but unhealthy eating costs you : decided yesterday i\\'m going to reread my favourite book from childhood \\'anne of green gables\\'. classic! rt : gulliver\\'s travels. j. swift\\'s acerbic commentary on human nature, politics and endless exploration. reading is d r e a m i n gwith open eyes... what are you today? thank you for supporting : ! rt : every person supporting literacy is a hero to the person helped by his/her work! rt : ty g why , scientifically, are the best peeps to fall in with wise words to live by. i posted a new photo to facebook l i v e your life to the fullest....! people who deny misogyny, rape culture &amp; gender inequality are just stupid. read much? another tragic news story... peddling what i preach...90 minute cardio session in-progress... spark: the revolutionary new science of exercise &amp; the brainby dr. ratey neuroscience supports physical as integral to &amp; test-score optimization. to learn about the neuroscience of exercise+brain function check out dr. ratey successfully published findings on the correlativity between cardio+academics. \"sparkinglife\" is a great book! working with dr.ratey at harvard &amp; his team of educational neuroscientists, i learned exercise is vital to academic scores. rt : \"battling the obesity epidemic in our schools through health education - via \" rt : \"interview with nicholas ferroni on investing in our youth.: \" thank you again for sharing my humble work; you\\'re too kind. is the real superhero! rt : meet like and more my \"love language\" affirms my love of {hugs}...! what\\'s your love language? we all say we need to change the mental health conversation, and i agree. let\\'s start by changing what we say to ourselves! countless people stated this week \"i\\'m lazy,\" including &amp; myself. do chemo patients say that, too? fatigue hurts. with only % of medical research funding devoted to all the major brain diseases, is it any wonder most of us are undiagnosed? triple-effect of sleep disorder, anxiety &amp; depression i discovered on my own researching. now, my md agrees: sick from birth. please. learn the signs &amp; symptoms of brain disease. start a compassionate conversation with your child focusing on their mental wellness. if you think you\\'re child (age -25) is lazy, unmotivated, irritable, moody, angry, irresponsible, and/or abusing substances, think again... recently, i began simultaneous treatment for major sleep disorder, anxiety &amp; depression; with exercise, diet &amp; love it helps. in retrospect, it\\'s evident i struggled with a major sleep disorder from birth - possibly a brain defect in regulating my circadian cycles. paediatric research into brain disease, such as depression, shows a strong correlative between sleep &amp; mental health. % of &amp; % of battle severe . that was me; undiagnosed until age &amp; . get the facts. students may struggle with academics at any time; but, college &amp; university are most stressful. signs of depression: if you\\'re a student struggling in school, it could be due to a brain disease: \"depression\". i failed university x... the canadian student association is hosting a national youth summit on children\\'s right\\'s &amp; seeking student... rt : the world would be a much better place if, in history classes throughout the world, we taught and celebrated peace mor going, going, gone - bob dylan :// we need to speak out about the \"s\" word. is preventable. be compassionate. brain disease is treatable. be a lifeline. rt : isolation is linked to higher risk of suicide among men, even those who are not mentally ill doctors have the highest rate of any profession. but, stigma continues to hide this fact:... soccer. germany. suicide in sports. do yourself a favor and date someone who really knows how to use their tongue... . that said, i do believe only you could make me fall in love with hockey, mister g ... so. there\\'s that. a new georgie tonight is bittersweet \\'cause i was just thinking about how much i miss ya &amp; you\\'re not coming back to cbc this fall rt : great guests tonight: from &amp; soldier-turned-actor (!) lance corporal cassidy little ( a high-tech tool to fight ? sign me up! : \\'s nature of things made me cry... must be cured. via thank you so much for sharing this story so we may all learn to be more compassionate. rt : [video] untangles the mystery of alzheimers on the nature of things - and it\\'s personal is preventable. is treatable. stigma against neurological brain disease impedes treatment &amp; ends lives. doctor\\'s have the highest rate of any profession: via rt : when doctors commit , its often hushed up via : sheesh... all this talk about age has made me conscious of my fertility! who wants to be my baby daddy...? \"women may be the one group that grows more radical with age.\"gloria steinem : you ain\\'t on the cusp of . hush! . europeans count life accurately: i\\'m in my th year of life! : things every woman over knows about dating on the cusp of &amp; learning more each day....! kindness, respect &amp; non-judgmental listening cost nothing &amp; to someone battling neurological brain disease, it means the most. if someone is battling depression, ed, addiction, bipolar, schizophrenia or anxiety, just send or or or or with care. : i have not seen \"the big c\" you recommend it? yes. my bff bought it for me &amp; it made me ...... : it all comes back to stigma. i pray i\\'ll see an end to it in my lifetime so true. we\\'re all a bit more uncomfortable with vulnerability, sickness, dying &amp; death than we\\'d like to admit. have ya seen \"the big c\"? people fear any kind of illness; whether a person is battling cancer or depression, people seem to keep their distance a bit, eh? ya. that\\'s true. also, if you die by suicide, you choose death; if you die by cancer, you fought a courageous battle... tragic. rt : sadly, at times, i wished i\\'d had ca instead. people bring you food &amp; \"get\" you are sick. you\\'d never hear \"jus cancer &amp; depression have a lot in common; both kinds of medical treatment steal your ability to truly taste the juices of life. you will always stand taller when you kneel to help a child. how many minutes do you read with your child each day? for older children, how many minutes do they read alone... ! beach libraries! via rt : today\\'s free resource: read summer vacation stories &amp; have kids write their own! rt : this is big: happy to share we have almost schools participating in the challenge this year! rt : update: kids have read +183 million minutes to date! way to get your read on, kids. rt : excited! fresh red chair tonight cassidy little awww... i feel the same way! hopefully one day we\\'ll meet up. enjoy a beautiful day, my lovely xoxox {big hugs} ! saved my bro\\'s life. please donate $5 to saving more lives &amp; pass it on via rt : thx for helping my friend hit her fundraising target for sending l o v e to my friend ...sometimes life is tough &amp; we need love &amp; support to be even tougher. let\\'s send some i always love your sage advice. rt : be kind to those who are kind, because they deserve it, and be kinder to those who aren\\'t kind, because they need it. : my greatest talent is helping others discover theirs. mine too. woah. this is precisely the prescription anti-depressant i need...! change is hope. try a new anti-depressant. i like this one. you just earned yourself a crazy card. laminated with a gold star &amp; everything! : i also live every day with clinical depression rt : stigma dies a bit every time we speak of our illness without shame.i suffer from depression. die stigma always be courageous. \"i wanted you to see what real courage is, instead of getting the idea that rt : i understand. hoping you find peace in your journey. now! sometimes talking to a best friend is all the therapy you need... i hang out with my family. l o v e is all you need. :// i do more of what makes me awesome. reading. writing. thinking. listening. loving. i try to practice self-care. compassion is essential for all relationships, especially i get naked...! aromatherapy, sea salts &amp; reading help ease my anxiety &amp; depression. i try to remember \"this too shall pass...\" and talk to until it passes. what do you do when you\\'re ? i don\\'t want to burden anyone, so i avoid connecting with family &amp; friends. now, i talk to them about feeling . rt : pls rt /7/14 would\\'ve marked yrs my husband &amp; i. ptsd took that.get help.endthestigma http: rt : will keep this picture as a reminder of why we need to fight the stigma. i\\'m so s our friendship makes me feel rainbows in my heart... just sayin. love \"vegan table\"! thank you for sharing your passion for children\\'s health. you\\'re an awesome role model to girls! rt : the white house is hosting a science fair next week. here\\'s me when i was with an unfortunate frog httpeat what you love; love what you eat. if you want your children to grow up healthy, choose a stoked to welcome ! rumour has it dude can sew &amp; i lost a button to boston back in ... rt : what a way to spend your th birthday: malala calls for the release of the nigerian schoolgirls a pure heart &amp; generous spirit will always be any violence, hatred or evil. be true. think for yourself. be loving. be brave. is all the oppression against children. together, we are changing the world...one reader at a time. rt : is the day for all of us to raise our voice for . together we\\'re &amp; rt : \"i speak for those children whose right to safety, health and quality education has been snatched from them\" -malala rt : one child, one teacher, one book and one pen can change the world. - malala today is . is working hard to give access to girl\\'s education in pakistan, depression is not a choice or a character flaw. if you\\'re feeling depressed &amp; suicidal, please seek medical help immediately. sunday date night with my beau...! rad. l o v e the boss! rt : tonight on best of the show: waxes poetic &amp; drop by smokin\\' dave is rockin\\' the street, -8pm. playin\\' pink floyd\\'s wish you were here now, the perfect what i\\'ve learned... love is all you need. be grateful for every blessing. good times...! port stanley beach \"bob\". only in my minicity...! village square coffee house be grateful. wassup? fucker, do ya know we\\'re almost at our year anniversary? you saved my life...so far. i love you. rt : final otr today of season .i\\'m really so lucky to be able to use my b celebrity status fight the stigma of mental il sending l o v e my friend... xoxox introducing mama to grey goose, soda &amp; a splash of cranberry-n-slice-o-lime...! :// hickory smoked chicken, roast potatoes, potato salad, broccoli coleslaw, greek salad. someone really : heylandsberg summer lovin\\'... port stanley beach : you have a heart of gold for sure love your passion for helping people, especially children. aww thanks! a simple nook for your child! has heard about our summerreading promo ? get an annual expert subscription &amp; give $5 to ! for every purchase will donate $5 to - % will be used to *give !* inspire with an annual zoobean expert subscription at enter code: summerreading to save %!! is reading this summer a priority for your child? it should be. did you know students lose up to % of their... rt : how to trick your kids into reading all summer long - daniel willingham - the atlantic righteous moral conviction demands principled courage, honourable leadership &amp; sincere statesmanship. to make visible my invisible mental health disability is what challenges me most. idyllic perfection runs rampant. the most difficult for me has been emotional vulnerability... rt : \" is tired of being photoshopped: here\\'s what she did about it via \" if you ever fall in love.... rt : a victory for education. still so wild that had to come to this: - : to my beautiful friend. you humble us all in your compassion and drive to do and be better. thank you!! xo antidepressants can sometimes cause a wide range of unpleasant side effects, including weight gain. if if you\\'d never blame someone for losing hair due to chemo, then never put down someone for gaining weight due to psychotropic side effects. : great project! we\\'re scanning our shelves.... awesome! thank you! what book should we read with + lines to give ? rt : looking for the perfect book to take to the beach? we\\'ll cut you a deal. do you think could break this reading relay world record to give ? badass babes rt : books with no bounds is helping india! we are preparing to ship boxes to a school in ludhiana district - state of... h rt : sick poster hanging up .9 in calgary. great memories of that show! my rad family! georgie : thanks tom! ! : ! the best things in life are the people we love, the places we travel &amp; the memories we make along the way. rt : : survey shows only % of parents say reading is a top summer priority ht sky above me. earth below me. fire within me. rt : be the one to show a child that reading means joy &amp; adventure. read aloud - it\\'s a powerful gift that we can all give. rt : the world record for was shattered yesterday. and it was pretty epic. rt : every child is an \"a\" student if we test her or his strengths. rt : the death toll in gaza has reached , including children. injured: how i wish... how i wish you were here, georgie pierside pub tell george i politely responded: \"fuck you!\" as someone who knows you very well, i\\'m sad &amp; angered. you are beautiful. xoxox rt : i believe in sharing.check out this bit of \"fan mail\" i received.i\\'m getting laugh lines.i\\'ll just get them fixed http:// mama &amp; me rt : you know the people across the street are playing music really loud when you can shazam it from bed &amp; confirm their shit taste superd &amp; me port find time for reading. rt : let\\'s teach kids to be readers! home sweet home shortly after hurricane katrina i did relief work on the gulf coast. racial segregation in schools was evident. sad. rt : think segregation is over? \"in all things it is better to hope than despair.\" ~ goethe be hopeful. inspire hopefulness in all : on the ground in with and rt : good people: happy ! awww... next time!! safe travels, my friend! ah-mazzzing night to remember with &amp; ....! so. much. love. xoxox you are my sunshine, my only sunshine... you make me happy when skies are grey... g :// : thanks , we &lt;3 you too. \"compassion is a verb.\" ~ thich nhat hanhdo good deeds for others, and also yourself. speak kindly. listen. hug. never underestimate the power of kindness, compassion &amp; generosity of spirit. give it to all &amp; yourself. hope you reach out to us. i\\'ve battled anxiety &amp; severe depression all my life. let\\'s talk. {hugs} : let\\'s all sing happy birthday to today, shall we? you l v e &amp; j y what can we do to help? the beatles - with a little help from my friends forever &amp; for always... x g : \"the big c\" because we\\'re dying each day. and the beatles \"with a li\\'l help from my friends\" because my love was at first sight. : how goes it with you, tyler? hugs y\\'all! compassion is the highest form of intelligence. be kind. rt : bright idea: buses delivering showers for san francisco\\'s homeless \"the big c\" is so touching, funny &amp; smart; i highly recommend it. it\\'s a thoughtful meditation on the art of sickness &amp; philosophy of death. ! (kal reksi!) we are offering a free star-studded mental health presentation for all high school students. let\\'s talk! we really appreciate you focusing on student mental health issues. is launching soon... rt : michael pietrus addresses on stigma in mental health. impacts are huge, too little done to eliminate it. http: rt : pietrus: % of adults with mental illness say it began before the age of ; stigma prevented them seeking help.\" rt : next up micheal pietrus, on important to diagnose issues early in ki character is defined by choosing hope over fear, survival over defeat, not the storms raging around you. : i was arrested on may , and i spent more than a month in jail before being released.thank you for sharing. {hugs} in my dreams last night g , &amp; i drove in a flatbed pickup truck to burger king; peter was chaperoning our date!! : oh no, what happened? nothing much. i just said he\\'d be walking a while to find a party! and sent him off. rt : womanact daily! is out! stories via children reading for children global ambassadors, emma &amp; julia mogus, will be leading world children\\'s prize vote... : dude reads his text from another (famous) dude, asking me \"what does it mean?\" text reads: \"u home?\" bromance makes the notebook so pass... : that is really weird seriously weird. sunset onwards, my night has been a total gong-show... when you love someone,your love finds them wherever they are.when someone loves you,you are loved wherever you are.love is simple. loving the blues... we are dancing so slow in my mind... x :11am guy knocks on the front door of our cottage: \"do ya know where i can party tonight?\" wtf can my sunday night get any more bizarre...? ever wonder why the one who loves most deeply dies most willfully, g ? camus was right: suicide is the only philosophical question. listening to six-foot waves crashing down against our sand dunes &amp; the pogues on online stream from vancouver... so. much. love. ha! it\\'s too damn funny you just said that about listening from vancouver on radio or online...since i\\'m on van-time! soulmates g oh, the sacrifices i make for the ones i love... rose our smalltown-chain-smokin-f*ckyou-bomb-droppin-cabbie-in-a-retired-cop-car just dropped me off... show oh hey georgie . thank goodness y\\'all stream online. my bro &amp; superd (dumb&ampumber) lost their keys tonight... soaking up this glorious sunset before date night with my beau g . pour a patio drink &amp; join us at pm! sunday sunset cooking tip: reduce food waste by using all the plant. ideas: shaved broccoli stalk salad; carrot tips taste like... rt : tonight on the show, we welcome of the legendary : : sooo jealous lol hope you are having a blast we are having so much fun!! thank you!! remembering our angel, rosey... yesterday, today, forever in our hearts. beach mama mama: it\\'s sunny! me: wear my sunglasses. mama: boy! are these ever nice...! :// love one another. laugh heartily with the people you love. this is how i survive life. the people i laugh with... what helps me most is my friendship with &amp; everyone else in my family. find strength in family &amp; joy in friends. the great thing about family is in good times &amp; bad times, sickness &amp; health, you are always a family-like us! reading vegan culinary magazines all night inspired this warm mediterranean potato salad at midnight. : my nephews are becoming such good li\\'l men... so. much. love. my nephews look absolutely adorable at m&amp;a\\'s wedding in wales...! love! canadian girl. canadian summer. spinning neil young. reading by candlelight. little beach bum little beac rt : works! harry learned about through ! now he can help ... ht good morning from the beach! rt : heylandsberg; beautiful day. daydreaming &amp; counting clouds from my family porch... wishing y\\'all a happy july th! rt : honoured to have met this incredible man. the essence of the american spirit. rt : remarkable rt : depression warriors lynyrd skynyrd - sweet home alabama, live nashville, tn, usa th of july, y\\'all...! : thank you. lots of love to you! thinking of you lots today... sending much l o v e across the miles, sista \"l o v e is our true destiny...\" the meaning of life is given birth in our togetherness, in our-being-with-others. : reba mcentire - i\\'m a survivor my beautiful, strong &amp; courageous friend survivor rt : rape rampant in south sudan | the kingston whig-standard : is it my fault? sorry.'"
            ]
          },
          "metadata": {
            "tags": []
          },
          "execution_count": 162
        }
      ]
    },
    {
      "cell_type": "code",
      "metadata": {
        "colab": {
          "base_uri": "https://localhost:8080/"
        },
        "id": "A-obu478EF2u",
        "outputId": "9f7aea8b-53ae-4b74-e3ae-eb2b66bc72be"
      },
      "source": [
        "import nltk\r\n",
        "from nltk import word_tokenize\r\n",
        "nltk.download('punkt')\r\n",
        "sent = \"This is my text, this is a nice way to input text.\"\r\n",
        "word_tokenize(sent)\r\n"
      ],
      "execution_count": 163,
      "outputs": [
        {
          "output_type": "stream",
          "text": [
            "[nltk_data] Downloading package punkt to /root/nltk_data...\n",
            "[nltk_data]   Package punkt is already up-to-date!\n"
          ],
          "name": "stdout"
        },
        {
          "output_type": "execute_result",
          "data": {
            "text/plain": [
              "['This',\n",
              " 'is',\n",
              " 'my',\n",
              " 'text',\n",
              " ',',\n",
              " 'this',\n",
              " 'is',\n",
              " 'a',\n",
              " 'nice',\n",
              " 'way',\n",
              " 'to',\n",
              " 'input',\n",
              " 'text',\n",
              " '.']"
            ]
          },
          "metadata": {
            "tags": []
          },
          "execution_count": 163
        }
      ]
    },
    {
      "cell_type": "code",
      "metadata": {
        "colab": {
          "base_uri": "https://localhost:8080/"
        },
        "id": "ep1AixaMDSKE",
        "outputId": "d80c22b4-d545-45a4-fd25-bd46bbf59975"
      },
      "source": [
        "#first sentence of train data set\n",
        "get_feature(word_tokenize(df_train['text'][0].lower()))"
      ],
      "execution_count": 164,
      "outputs": [
        {
          "output_type": "execute_result",
          "data": {
            "text/plain": [
              "(1280.685000000018,\n",
              " 3481,\n",
              " 1040.8269999999902,\n",
              " 831.996999999989,\n",
              " 38.1649999999999,\n",
              " 209.0059999999996)"
            ]
          },
          "metadata": {
            "tags": []
          },
          "execution_count": 164
        }
      ]
    },
    {
      "cell_type": "code",
      "metadata": {
        "colab": {
          "base_uri": "https://localhost:8080/"
        },
        "id": "LPki-k3maq9a",
        "outputId": "8e47f6ba-acb0-479f-b28b-12668ad79079"
      },
      "source": [
        "print(df_train.shape[0])"
      ],
      "execution_count": 165,
      "outputs": [
        {
          "output_type": "stream",
          "text": [
            "1146\n"
          ],
          "name": "stdout"
        }
      ]
    },
    {
      "cell_type": "code",
      "metadata": {
        "colab": {
          "base_uri": "https://localhost:8080/",
          "height": 315
        },
        "id": "70aw7xTqZiga",
        "outputId": "b54482a2-50ab-4c94-a5fa-353b86a92858"
      },
      "source": [
        "print(\"CLPsycke15 Dataset\")\n",
        "sns.countplot(x = 'label', data=df_train)\n"
      ],
      "execution_count": 166,
      "outputs": [
        {
          "output_type": "stream",
          "text": [
            "CLPsycke15 Dataset\n"
          ],
          "name": "stdout"
        },
        {
          "output_type": "execute_result",
          "data": {
            "text/plain": [
              "<matplotlib.axes._subplots.AxesSubplot at 0x7fed494fdbd0>"
            ]
          },
          "metadata": {
            "tags": []
          },
          "execution_count": 166
        },
        {
          "output_type": "display_data",
          "data": {
            "image/png": "[encoded data removed]",
            "text/plain": [
              "<Figure size 432x288 with 1 Axes>"
            ]
          },
          "metadata": {
            "tags": [],
            "needs_background": "light"
          }
        }
      ]
    },
    {
      "cell_type": "code",
      "metadata": {
        "id": "a2KrDfBeZnf8"
      },
      "source": [
        "# Subset dataset to only depression and depression_ctrl\n",
        "#df_train=df_train[(df_train['label']=='depression') | (df_train['label']=='depression_ctrl')]"
      ],
      "execution_count": 76,
      "outputs": []
    },
    {
      "cell_type": "code",
      "metadata": {
        "colab": {
          "base_uri": "https://localhost:8080/"
        },
        "id": "dACP8IbDfN5z",
        "outputId": "efd93a67-51b2-4ddc-c20c-5915439eadfd"
      },
      "source": [
        "df_train.isnull().values.any()\n"
      ],
      "execution_count": 168,
      "outputs": [
        {
          "output_type": "execute_result",
          "data": {
            "text/plain": [
              "False"
            ]
          },
          "metadata": {
            "tags": []
          },
          "execution_count": 168
        }
      ]
    },
    {
      "cell_type": "code",
      "metadata": {
        "id": "gr2-SJBLnGIM"
      },
      "source": [
        "df_trainn= pd.read_csv(Path('/content/drive/My Drive/DSP/data/bachelor/CLPsych_train_binary.csv'))"
      ],
      "execution_count": 169,
      "outputs": []
    },
    {
      "cell_type": "code",
      "metadata": {
        "colab": {
          "base_uri": "https://localhost:8080/"
        },
        "id": "NjKYD5Tpq5nc",
        "outputId": "fdfb45f9-325b-499b-c51d-faffceb465b9"
      },
      "source": [
        "print(df_trainn.shape[0])"
      ],
      "execution_count": 172,
      "outputs": [
        {
          "output_type": "stream",
          "text": [
            "654\n"
          ],
          "name": "stdout"
        }
      ]
    },
    {
      "cell_type": "code",
      "metadata": {
        "colab": {
          "base_uri": "https://localhost:8080/",
          "height": 315
        },
        "id": "KxF_EEUPnt8Z",
        "outputId": "d5194bec-d8ee-4c0a-d53e-73e3c319250d"
      },
      "source": [
        "print(\"CLPsycke15 Dataset\")\n",
        "sns.countplot(x = 'label', data=df_trainn)"
      ],
      "execution_count": 173,
      "outputs": [
        {
          "output_type": "stream",
          "text": [
            "CLPsycke15 Dataset\n"
          ],
          "name": "stdout"
        },
        {
          "output_type": "execute_result",
          "data": {
            "text/plain": [
              "<matplotlib.axes._subplots.AxesSubplot at 0x7fed03bbcc10>"
            ]
          },
          "metadata": {
            "tags": []
          },
          "execution_count": 173
        },
        {
          "output_type": "display_data",
          "data": {
            "image/png": "[encoded data removed]",
            "text/plain": [
              "<Figure size 432x288 with 1 Axes>"
            ]
          },
          "metadata": {
            "tags": [],
            "needs_background": "light"
          }
        }
      ]
    },
    {
      "cell_type": "code",
      "metadata": {
        "colab": {
          "base_uri": "https://localhost:8080/"
        },
        "id": "p5mOtj78DC8n",
        "outputId": "8a064b15-c2e3-400a-9b8d-f69741b24880"
      },
      "source": [
        "df_trainn['polarity_value'] = 0\r\n",
        "df_trainn['polarity_label'] = 0\r\n",
        "df_trainn['sensitivity'] = 0\r\n",
        "df_trainn['introspection'] = 0\r\n",
        "df_trainn['temper'] = 0\r\n",
        "df_trainn['attitude'] = 0\r\n",
        "\r\n",
        "for i in range(df_trainn.shape[0]):\r\n",
        "    polarity_value , polarity_label, introspection, sensitivity, temper, attitude=get_feature (word_tokenize(df_trainn['text'][i].lower()))\r\n",
        "    df_trainn['polarity_value'][i] = polarity_value\r\n",
        "    df_trainn['polarity_label'][i] = polarity_label\r\n",
        "    df_trainn['sensitivity'][i] = sensitivity\r\n",
        "    df_trainn['introspection'][i]= introspection\r\n",
        "    df_trainn['temper'][i] = temper\r\n",
        "    df_trainn['attitude'][i]= attitude\r\n",
        "  "
      ],
      "execution_count": 174,
      "outputs": [
        {
          "output_type": "stream",
          "text": [
            "/usr/local/lib/python3.7/dist-packages/ipykernel_launcher.py:10: SettingWithCopyWarning: \n",
            "A value is trying to be set on a copy of a slice from a DataFrame\n",
            "\n",
            "See the caveats in the documentation: https://pandas.pydata.org/pandas-docs/stable/user_guide/indexing.html#returning-a-view-versus-a-copy\n",
            "  # Remove the CWD from sys.path while we load stuff.\n",
            "/usr/local/lib/python3.7/dist-packages/ipykernel_launcher.py:11: SettingWithCopyWarning: \n",
            "A value is trying to be set on a copy of a slice from a DataFrame\n",
            "\n",
            "See the caveats in the documentation: https://pandas.pydata.org/pandas-docs/stable/user_guide/indexing.html#returning-a-view-versus-a-copy\n",
            "  # This is added back by InteractiveShellApp.init_path()\n",
            "/usr/local/lib/python3.7/dist-packages/ipykernel_launcher.py:12: SettingWithCopyWarning: \n",
            "A value is trying to be set on a copy of a slice from a DataFrame\n",
            "\n",
            "See the caveats in the documentation: https://pandas.pydata.org/pandas-docs/stable/user_guide/indexing.html#returning-a-view-versus-a-copy\n",
            "  if sys.path[0] == '':\n",
            "/usr/local/lib/python3.7/dist-packages/ipykernel_launcher.py:13: SettingWithCopyWarning: \n",
            "A value is trying to be set on a copy of a slice from a DataFrame\n",
            "\n",
            "See the caveats in the documentation: https://pandas.pydata.org/pandas-docs/stable/user_guide/indexing.html#returning-a-view-versus-a-copy\n",
            "  del sys.path[0]\n",
            "/usr/local/lib/python3.7/dist-packages/ipykernel_launcher.py:14: SettingWithCopyWarning: \n",
            "A value is trying to be set on a copy of a slice from a DataFrame\n",
            "\n",
            "See the caveats in the documentation: https://pandas.pydata.org/pandas-docs/stable/user_guide/indexing.html#returning-a-view-versus-a-copy\n",
            "  \n",
            "/usr/local/lib/python3.7/dist-packages/ipykernel_launcher.py:15: SettingWithCopyWarning: \n",
            "A value is trying to be set on a copy of a slice from a DataFrame\n",
            "\n",
            "See the caveats in the documentation: https://pandas.pydata.org/pandas-docs/stable/user_guide/indexing.html#returning-a-view-versus-a-copy\n",
            "  from ipykernel import kernelapp as app\n"
          ],
          "name": "stderr"
        }
      ]
    },
    {
      "cell_type": "code",
      "metadata": {
        "id": "YaVSI3GvkPkm",
        "colab": {
          "base_uri": "https://localhost:8080/",
          "height": 233
        },
        "outputId": "60854efb-d040-487e-da84-e51ef927fb89"
      },
      "source": [
        "df_trainn.head()\r\n"
      ],
      "execution_count": 175,
      "outputs": [
        {
          "output_type": "execute_result",
          "data": {
            "text/html": [
              "<div>\n",
              "<style scoped>\n",
              "    .dataframe tbody tr th:only-of-type {\n",
              "        vertical-align: middle;\n",
              "    }\n",
              "\n",
              "    .dataframe tbody tr th {\n",
              "        vertical-align: top;\n",
              "    }\n",
              "\n",
              "    .dataframe thead th {\n",
              "        text-align: right;\n",
              "    }\n",
              "</style>\n",
              "<table border=\"1\" class=\"dataframe\">\n",
              "  <thead>\n",
              "    <tr style=\"text-align: right;\">\n",
              "      <th></th>\n",
              "      <th>label</th>\n",
              "      <th>text</th>\n",
              "      <th>polarity_value</th>\n",
              "      <th>polarity_label</th>\n",
              "      <th>sensitivity</th>\n",
              "      <th>introspection</th>\n",
              "      <th>temper</th>\n",
              "      <th>attitude</th>\n",
              "    </tr>\n",
              "  </thead>\n",
              "  <tbody>\n",
              "    <tr>\n",
              "      <th>0</th>\n",
              "      <td>depression_ctrl</td>\n",
              "      <td>Game over RT : Life is so unpredictable. Be gr...</td>\n",
              "      <td>1280</td>\n",
              "      <td>3481</td>\n",
              "      <td>831</td>\n",
              "      <td>1040</td>\n",
              "      <td>38</td>\n",
              "      <td>209</td>\n",
              "    </tr>\n",
              "    <tr>\n",
              "      <th>1</th>\n",
              "      <td>depression</td>\n",
              "      <td>Happy ! Guys: please check your balls monthly ...</td>\n",
              "      <td>2149</td>\n",
              "      <td>6548</td>\n",
              "      <td>1431</td>\n",
              "      <td>1670</td>\n",
              "      <td>44</td>\n",
              "      <td>639</td>\n",
              "    </tr>\n",
              "    <tr>\n",
              "      <th>2</th>\n",
              "      <td>depression_ctrl</td>\n",
              "      <td>Photo: lkfrannyfrano: hotshxxt: migzfromatx: s...</td>\n",
              "      <td>1795</td>\n",
              "      <td>3707</td>\n",
              "      <td>808</td>\n",
              "      <td>1607</td>\n",
              "      <td>-6</td>\n",
              "      <td>272</td>\n",
              "    </tr>\n",
              "    <tr>\n",
              "      <th>3</th>\n",
              "      <td>depression_ctrl</td>\n",
              "      <td>: New videooooOOOoooo at PM UK time!! RT : the...</td>\n",
              "      <td>789</td>\n",
              "      <td>2563</td>\n",
              "      <td>548</td>\n",
              "      <td>831</td>\n",
              "      <td>-78</td>\n",
              "      <td>22</td>\n",
              "    </tr>\n",
              "    <tr>\n",
              "      <th>4</th>\n",
              "      <td>depression</td>\n",
              "      <td>:</td>\n",
              "      <td>0</td>\n",
              "      <td>0</td>\n",
              "      <td>0</td>\n",
              "      <td>0</td>\n",
              "      <td>0</td>\n",
              "      <td>0</td>\n",
              "    </tr>\n",
              "  </tbody>\n",
              "</table>\n",
              "</div>"
            ],
            "text/plain": [
              "             label  ... attitude\n",
              "0  depression_ctrl  ...      209\n",
              "1       depression  ...      639\n",
              "2  depression_ctrl  ...      272\n",
              "3  depression_ctrl  ...       22\n",
              "4       depression  ...        0\n",
              "\n",
              "[5 rows x 8 columns]"
            ]
          },
          "metadata": {
            "tags": []
          },
          "execution_count": 175
        }
      ]
    },
    {
      "cell_type": "code",
      "metadata": {
        "id": "Xnrba-Tpfhnn",
        "colab": {
          "base_uri": "https://localhost:8080/"
        },
        "outputId": "da2575f0-0a7e-4368-9461-85bc6fd6129e"
      },
      "source": [
        "polarity_value , polarity_label, introspection, sensitivity, temper, attitude"
      ],
      "execution_count": 176,
      "outputs": [
        {
          "output_type": "execute_result",
          "data": {
            "text/plain": [
              "(1454.323000000005,\n",
              " 2634,\n",
              " 1396.4640000000047,\n",
              " 1080.5439999999896,\n",
              " 28.522000000000013,\n",
              " 133.24800000000013)"
            ]
          },
          "metadata": {
            "tags": []
          },
          "execution_count": 176
        }
      ]
    },
    {
      "cell_type": "code",
      "metadata": {
        "id": "r8BNqphNLycN",
        "colab": {
          "base_uri": "https://localhost:8080/"
        },
        "outputId": "fceea3a8-49ba-4b9a-fbb4-3cf11c6b5efc"
      },
      "source": [
        "print(df_trainn['label'][1])"
      ],
      "execution_count": 177,
      "outputs": [
        {
          "output_type": "stream",
          "text": [
            "depression\n"
          ],
          "name": "stdout"
        }
      ]
    },
    {
      "cell_type": "code",
      "metadata": {
        "id": "qutpVIO8Vvpb"
      },
      "source": [
        "dict_cls = {'depression': 1, 'depression_ctrl': 0}\n",
        "df_trainn['label'] = df_trainn['label'].map(dict_cls)\n",
        "#y_test = df_test['label'].map(dict_cls)"
      ],
      "execution_count": 178,
      "outputs": []
    },
    {
      "cell_type": "code",
      "metadata": {
        "id": "Gab53XNUOqha",
        "colab": {
          "base_uri": "https://localhost:8080/",
          "height": 53
        },
        "outputId": "014e5ac6-12a2-4de2-ada3-f897e7eacae4"
      },
      "source": [
        "\"\"\"\r\n",
        "df_train['label'] = df['label'].astype('category')\r\n",
        "\r\n",
        "encode_map = {\r\n",
        "    'depression': 1,\r\n",
        "    'depression_ctrl': 0,\r\n",
        "    'ptsd':0,\r\n",
        "    'ptsd_ctrl':0\r\n",
        "}\r\n",
        "\r\n",
        "df['label'].replace(encode_map, inplace=True)\r\n",
        " \"\"\""
      ],
      "execution_count": 179,
      "outputs": [
        {
          "output_type": "execute_result",
          "data": {
            "application/vnd.google.colaboratory.intrinsic+json": {
              "type": "string"
            },
            "text/plain": [
              "\"\\ndf_train['label'] = df['label'].astype('category')\\n\\nencode_map = {\\n    'depression': 1,\\n    'depression_ctrl': 0,\\n    'ptsd':0,\\n    'ptsd_ctrl':0\\n}\\n\\ndf['label'].replace(encode_map, inplace=True)\\n \""
            ]
          },
          "metadata": {
            "tags": []
          },
          "execution_count": 179
        }
      ]
    },
    {
      "cell_type": "code",
      "metadata": {
        "colab": {
          "base_uri": "https://localhost:8080/",
          "height": 53
        },
        "id": "WU4LYeXObVLT",
        "outputId": "06f3eb0a-e435-4ffb-8fcc-967d96eb9472"
      },
      "source": [
        "\"\"\"\r\n",
        "for i in range (0, (df_trainn.shape[0])):\r\n",
        "  if (df_trainn['label'][i]=='depression') :\r\n",
        "        \r\n",
        "    df_trainn['label'][i]= 1 \r\n",
        "  else:\r\n",
        "        #False\r\n",
        "    df_trainn['label'][i]= 0\r\n",
        "\r\n",
        "df_trainn.head()\"\"\""
      ],
      "execution_count": 180,
      "outputs": [
        {
          "output_type": "execute_result",
          "data": {
            "application/vnd.google.colaboratory.intrinsic+json": {
              "type": "string"
            },
            "text/plain": [
              "\"\\nfor i in range (0, (df_trainn.shape[0])):\\n  if (df_trainn['label'][i]=='depression') :\\n        \\n    df_trainn['label'][i]= 1 \\n  else:\\n        #False\\n    df_trainn['label'][i]= 0\\n\\ndf_trainn.head()\""
            ]
          },
          "metadata": {
            "tags": []
          },
          "execution_count": 180
        }
      ]
    },
    {
      "cell_type": "code",
      "metadata": {
        "colab": {
          "base_uri": "https://localhost:8080/"
        },
        "id": "mSE97hcW_M0u",
        "outputId": "82f0a00b-6392-4ccc-893c-cd4c7e403917"
      },
      "source": [
        "#scaler = StandardScaler()\n",
        "#df_train = scaler.fit_transform(df_train)\n",
        "features = df_trainn[[\"polarity_value\", \"polarity_label\", \"sensitivity\", \"introspection\", \"temper\", \"attitude\"]]  \n",
        "autoscaler = StandardScaler()\n",
        "features[:] = autoscaler.fit_transform(features.values)"
      ],
      "execution_count": 181,
      "outputs": [
        {
          "output_type": "stream",
          "text": [
            "/usr/local/lib/python3.7/dist-packages/ipykernel_launcher.py:5: SettingWithCopyWarning: \n",
            "A value is trying to be set on a copy of a slice from a DataFrame.\n",
            "Try using .loc[row_indexer,col_indexer] = value instead\n",
            "\n",
            "See the caveats in the documentation: https://pandas.pydata.org/pandas-docs/stable/user_guide/indexing.html#returning-a-view-versus-a-copy\n",
            "  \"\"\"\n",
            "/usr/local/lib/python3.7/dist-packages/pandas/core/indexing.py:1734: SettingWithCopyWarning: \n",
            "A value is trying to be set on a copy of a slice from a DataFrame.\n",
            "Try using .loc[row_indexer,col_indexer] = value instead\n",
            "\n",
            "See the caveats in the documentation: https://pandas.pydata.org/pandas-docs/stable/user_guide/indexing.html#returning-a-view-versus-a-copy\n",
            "  isetter(loc, value[:, i].tolist())\n"
          ],
          "name": "stderr"
        }
      ]
    },
    {
      "cell_type": "code",
      "metadata": {
        "colab": {
          "base_uri": "https://localhost:8080/",
          "height": 198
        },
        "id": "tBekdKQeARka",
        "outputId": "75349ee8-da31-43e2-96d6-b3a0416298ef"
      },
      "source": [
        "features.head()"
      ],
      "execution_count": 182,
      "outputs": [
        {
          "output_type": "execute_result",
          "data": {
            "text/html": [
              "<div>\n",
              "<style scoped>\n",
              "    .dataframe tbody tr th:only-of-type {\n",
              "        vertical-align: middle;\n",
              "    }\n",
              "\n",
              "    .dataframe tbody tr th {\n",
              "        vertical-align: top;\n",
              "    }\n",
              "\n",
              "    .dataframe thead th {\n",
              "        text-align: right;\n",
              "    }\n",
              "</style>\n",
              "<table border=\"1\" class=\"dataframe\">\n",
              "  <thead>\n",
              "    <tr style=\"text-align: right;\">\n",
              "      <th></th>\n",
              "      <th>polarity_value</th>\n",
              "      <th>polarity_label</th>\n",
              "      <th>sensitivity</th>\n",
              "      <th>introspection</th>\n",
              "      <th>temper</th>\n",
              "      <th>attitude</th>\n",
              "    </tr>\n",
              "  </thead>\n",
              "  <tbody>\n",
              "    <tr>\n",
              "      <th>0</th>\n",
              "      <td>0.635321</td>\n",
              "      <td>0.525104</td>\n",
              "      <td>0.752861</td>\n",
              "      <td>0.466465</td>\n",
              "      <td>0.624734</td>\n",
              "      <td>0.374580</td>\n",
              "    </tr>\n",
              "    <tr>\n",
              "      <th>1</th>\n",
              "      <td>1.987984</td>\n",
              "      <td>2.527720</td>\n",
              "      <td>2.150160</td>\n",
              "      <td>1.578699</td>\n",
              "      <td>0.668231</td>\n",
              "      <td>3.082949</td>\n",
              "    </tr>\n",
              "    <tr>\n",
              "      <th>2</th>\n",
              "      <td>1.436957</td>\n",
              "      <td>0.672672</td>\n",
              "      <td>0.699298</td>\n",
              "      <td>1.467475</td>\n",
              "      <td>0.305755</td>\n",
              "      <td>0.771387</td>\n",
              "    </tr>\n",
              "    <tr>\n",
              "      <th>3</th>\n",
              "      <td>-0.128958</td>\n",
              "      <td>-0.074309</td>\n",
              "      <td>0.093801</td>\n",
              "      <td>0.097486</td>\n",
              "      <td>-0.216211</td>\n",
              "      <td>-0.803246</td>\n",
              "    </tr>\n",
              "    <tr>\n",
              "      <th>4</th>\n",
              "      <td>-1.357096</td>\n",
              "      <td>-1.747835</td>\n",
              "      <td>-1.182399</td>\n",
              "      <td>-1.369603</td>\n",
              "      <td>0.349252</td>\n",
              "      <td>-0.941814</td>\n",
              "    </tr>\n",
              "  </tbody>\n",
              "</table>\n",
              "</div>"
            ],
            "text/plain": [
              "   polarity_value  polarity_label  ...    temper  attitude\n",
              "0        0.635321        0.525104  ...  0.624734  0.374580\n",
              "1        1.987984        2.527720  ...  0.668231  3.082949\n",
              "2        1.436957        0.672672  ...  0.305755  0.771387\n",
              "3       -0.128958       -0.074309  ... -0.216211 -0.803246\n",
              "4       -1.357096       -1.747835  ...  0.349252 -0.941814\n",
              "\n",
              "[5 rows x 6 columns]"
            ]
          },
          "metadata": {
            "tags": []
          },
          "execution_count": 182
        }
      ]
    },
    {
      "cell_type": "code",
      "metadata": {
        "colab": {
          "base_uri": "https://localhost:8080/",
          "height": 198
        },
        "id": "zK7zQVqsA0AJ",
        "outputId": "ce43a4dc-2f63-4b9c-9c88-69636cb3db99"
      },
      "source": [
        "# Normalize aquired values\n",
        "df_trainn['polarity_value']=features['polarity_value']\n",
        "df_trainn['polarity_label']=features['polarity_label']\n",
        "df_trainn['sensitivity']=features['sensitivity']\n",
        "df_trainn['introspection']=features['introspection']\n",
        "df_trainn['temper']=features['temper']\n",
        "df_trainn['attitude']=features['attitude']\n",
        "\n",
        "df_trainn.head()"
      ],
      "execution_count": 183,
      "outputs": [
        {
          "output_type": "execute_result",
          "data": {
            "text/html": [
              "<div>\n",
              "<style scoped>\n",
              "    .dataframe tbody tr th:only-of-type {\n",
              "        vertical-align: middle;\n",
              "    }\n",
              "\n",
              "    .dataframe tbody tr th {\n",
              "        vertical-align: top;\n",
              "    }\n",
              "\n",
              "    .dataframe thead th {\n",
              "        text-align: right;\n",
              "    }\n",
              "</style>\n",
              "<table border=\"1\" class=\"dataframe\">\n",
              "  <thead>\n",
              "    <tr style=\"text-align: right;\">\n",
              "      <th></th>\n",
              "      <th>label</th>\n",
              "      <th>text</th>\n",
              "      <th>polarity_value</th>\n",
              "      <th>polarity_label</th>\n",
              "      <th>sensitivity</th>\n",
              "      <th>introspection</th>\n",
              "      <th>temper</th>\n",
              "      <th>attitude</th>\n",
              "    </tr>\n",
              "  </thead>\n",
              "  <tbody>\n",
              "    <tr>\n",
              "      <th>0</th>\n",
              "      <td>0</td>\n",
              "      <td>Game over RT : Life is so unpredictable. Be gr...</td>\n",
              "      <td>0.635321</td>\n",
              "      <td>0.525104</td>\n",
              "      <td>0.752861</td>\n",
              "      <td>0.466465</td>\n",
              "      <td>0.624734</td>\n",
              "      <td>0.374580</td>\n",
              "    </tr>\n",
              "    <tr>\n",
              "      <th>1</th>\n",
              "      <td>1</td>\n",
              "      <td>Happy ! Guys: please check your balls monthly ...</td>\n",
              "      <td>1.987984</td>\n",
              "      <td>2.527720</td>\n",
              "      <td>2.150160</td>\n",
              "      <td>1.578699</td>\n",
              "      <td>0.668231</td>\n",
              "      <td>3.082949</td>\n",
              "    </tr>\n",
              "    <tr>\n",
              "      <th>2</th>\n",
              "      <td>0</td>\n",
              "      <td>Photo: lkfrannyfrano: hotshxxt: migzfromatx: s...</td>\n",
              "      <td>1.436957</td>\n",
              "      <td>0.672672</td>\n",
              "      <td>0.699298</td>\n",
              "      <td>1.467475</td>\n",
              "      <td>0.305755</td>\n",
              "      <td>0.771387</td>\n",
              "    </tr>\n",
              "    <tr>\n",
              "      <th>3</th>\n",
              "      <td>0</td>\n",
              "      <td>: New videooooOOOoooo at PM UK time!! RT : the...</td>\n",
              "      <td>-0.128958</td>\n",
              "      <td>-0.074309</td>\n",
              "      <td>0.093801</td>\n",
              "      <td>0.097486</td>\n",
              "      <td>-0.216211</td>\n",
              "      <td>-0.803246</td>\n",
              "    </tr>\n",
              "    <tr>\n",
              "      <th>4</th>\n",
              "      <td>1</td>\n",
              "      <td>:</td>\n",
              "      <td>-1.357096</td>\n",
              "      <td>-1.747835</td>\n",
              "      <td>-1.182399</td>\n",
              "      <td>-1.369603</td>\n",
              "      <td>0.349252</td>\n",
              "      <td>-0.941814</td>\n",
              "    </tr>\n",
              "  </tbody>\n",
              "</table>\n",
              "</div>"
            ],
            "text/plain": [
              "   label                                               text  ...    temper  attitude\n",
              "0      0  Game over RT : Life is so unpredictable. Be gr...  ...  0.624734  0.374580\n",
              "1      1  Happy ! Guys: please check your balls monthly ...  ...  0.668231  3.082949\n",
              "2      0  Photo: lkfrannyfrano: hotshxxt: migzfromatx: s...  ...  0.305755  0.771387\n",
              "3      0  : New videooooOOOoooo at PM UK time!! RT : the...  ... -0.216211 -0.803246\n",
              "4      1                                                  :  ...  0.349252 -0.941814\n",
              "\n",
              "[5 rows x 8 columns]"
            ]
          },
          "metadata": {
            "tags": []
          },
          "execution_count": 183
        }
      ]
    },
    {
      "cell_type": "code",
      "metadata": {
        "colab": {
          "base_uri": "https://localhost:8080/"
        },
        "id": "8uoeLayF7Ju_",
        "outputId": "2d3c59c0-66c4-48c0-98f0-119a62be253e"
      },
      "source": [
        "uniqueValues = df_trainn['label'].unique()\r\n",
        "print(uniqueValues)\r\n"
      ],
      "execution_count": 184,
      "outputs": [
        {
          "output_type": "stream",
          "text": [
            "[0 1]\n"
          ],
          "name": "stdout"
        }
      ]
    },
    {
      "cell_type": "code",
      "metadata": {
        "id": "XP2SIYgMkTb-"
      },
      "source": [
        "def get_avg_polarity(message):\r\n",
        "  sn = SenticNet()\r\n",
        "  count = 0\r\n",
        "  summ = 0\r\n",
        "  polarity=0\r\n",
        "  for word in (message):\r\n",
        "    try:\r\n",
        "      concept = sn.concept(word)\r\n",
        "      polarity = float(concept['polarity_value'])\r\n",
        "      print(polarity)\r\n",
        "      print(count)\r\n",
        "      #break\r\n",
        "    except KeyError:\r\n",
        "        pass\r\n",
        " \r\n",
        "    summ += polarity\r\n",
        "    count += 1\r\n",
        "  print(summ)\r\n",
        "  print(count)\r\n",
        "  return summ/count if count>0 else 0\r\n"
      ],
      "execution_count": 185,
      "outputs": []
    },
    {
      "cell_type": "code",
      "metadata": {
        "colab": {
          "base_uri": "https://localhost:8080/"
        },
        "id": "GP1wPVPcklh7",
        "outputId": "4a3341f9-b6a0-4d6b-a227-37eb4db8a8f3"
      },
      "source": [
        "get_avg_polarity(['I', 'book', 'love'])"
      ],
      "execution_count": 186,
      "outputs": [
        {
          "output_type": "stream",
          "text": [
            "0.83\n",
            "2\n",
            "0.83\n",
            "3\n"
          ],
          "name": "stdout"
        },
        {
          "output_type": "execute_result",
          "data": {
            "text/plain": [
              "0.27666666666666667"
            ]
          },
          "metadata": {
            "tags": []
          },
          "execution_count": 186
        }
      ]
    },
    {
      "cell_type": "code",
      "metadata": {
        "colab": {
          "base_uri": "https://localhost:8080/"
        },
        "id": "lHsop6LM66sH",
        "outputId": "a2da7950-f157-488f-be0d-5f82a53ad163"
      },
      "source": [
        "!pip install twitter"
      ],
      "execution_count": 187,
      "outputs": [
        {
          "output_type": "stream",
          "text": [
            "Requirement already satisfied: twitter in /usr/local/lib/python3.7/dist-packages (1.18.0)\n"
          ],
          "name": "stdout"
        }
      ]
    },
    {
      "cell_type": "code",
      "metadata": {
        "id": "SouJ7D_m6lRh"
      },
      "source": [
        "#import urllib2\n",
        "#import twitter\n",
        "from nltk.stem import WordNetLemmatizer\n",
        "from nltk.stem.snowball import EnglishStemmer\n",
        "import re\n",
        "from senticnet.senticnet import SenticNet"
      ],
      "execution_count": 188,
      "outputs": []
    },
    {
      "cell_type": "code",
      "metadata": {
        "colab": {
          "base_uri": "https://localhost:8080/"
        },
        "id": "aL2g2DOY7mE5",
        "outputId": "667d97ec-7795-4d2b-9ce5-91ba5cbffff3"
      },
      "source": [
        "import nltk\n",
        "nltk.download('wordnet')"
      ],
      "execution_count": 189,
      "outputs": [
        {
          "output_type": "stream",
          "text": [
            "[nltk_data] Downloading package wordnet to /root/nltk_data...\n",
            "[nltk_data]   Package wordnet is already up-to-date!\n"
          ],
          "name": "stdout"
        },
        {
          "output_type": "execute_result",
          "data": {
            "text/plain": [
              "True"
            ]
          },
          "metadata": {
            "tags": []
          },
          "execution_count": 189
        }
      ]
    },
    {
      "cell_type": "code",
      "metadata": {
        "id": "ohmEDaUa7_zs"
      },
      "source": [
        "import urllib\n"
      ],
      "execution_count": 190,
      "outputs": []
    },
    {
      "cell_type": "code",
      "metadata": {
        "id": "T3_FzDxl7HGa"
      },
      "source": [
        "def get_words_bag(message):\n",
        "  wnl = WordNetLemmatizer()\n",
        "  es = EnglishStemmer()\n",
        "  for word in re.finditer(\"\\w+\", message):\n",
        "    yield (wnl.lemmatize(word.group()), es.stem(word.group()))\n",
        "\n",
        "def get_avg_polarity(message):\n",
        "  threshold = 0.3\n",
        "  sn = SenticNet()\n",
        "  count = 0\n",
        "  summ = 0\n",
        "  for word_options in get_words_bag(message):\n",
        "    polarity = 0\n",
        "    for word in word_options:\n",
        "      try:\n",
        "        concept = sn.concept(word)\n",
        "        polarity = concept['polarity']\n",
        "        break\n",
        "      except urllib.error.HTTPError:\n",
        "        pass #Do next\n",
        "    if abs(polarity) > threshold:\n",
        "      summ += polarity\n",
        "      count += 1\n",
        "\n",
        "  return summ / count if count > 0 else 0\n"
      ],
      "execution_count": 191,
      "outputs": []
    },
    {
      "cell_type": "code",
      "metadata": {
        "id": "eNr0Y48fRY1k"
      },
      "source": [
        "import torch\r\n",
        "import torch.nn as nn\r\n",
        "import torch.utils.data as data_utils\r\n",
        "import numpy as np\r\n",
        "import torch.optim as optim\r\n",
        "import torch.nn.functional as F\r\n",
        "\r\n"
      ],
      "execution_count": 192,
      "outputs": []
    },
    {
      "cell_type": "code",
      "metadata": {
        "colab": {
          "base_uri": "https://localhost:8080/"
        },
        "id": "yyEJxp8_z0pX",
        "outputId": "b3c7776b-e904-4887-915f-4f4d320ed1b5"
      },
      "source": [
        "df_trainn['label'][1]\r\n",
        "#torch.LongTensor(0)\r\n",
        "\r\n"
      ],
      "execution_count": 193,
      "outputs": [
        {
          "output_type": "execute_result",
          "data": {
            "text/plain": [
              "1"
            ]
          },
          "metadata": {
            "tags": []
          },
          "execution_count": 193
        }
      ]
    },
    {
      "cell_type": "code",
      "metadata": {
        "colab": {
          "base_uri": "https://localhost:8080/"
        },
        "id": "v-xFBKADrD1a",
        "outputId": "dd6ebf39-432f-4162-aa55-dc38a53ab06c"
      },
      "source": [
        "labels_trainn=torch.tensor(df_trainn['label'][1], dtype=torch.long)\r\n",
        "print(labels_trainn)\r\n",
        "labels_trainn.view(1,)\r\n"
      ],
      "execution_count": 194,
      "outputs": [
        {
          "output_type": "stream",
          "text": [
            "tensor(1)\n"
          ],
          "name": "stdout"
        },
        {
          "output_type": "execute_result",
          "data": {
            "text/plain": [
              "tensor([1])"
            ]
          },
          "metadata": {
            "tags": []
          },
          "execution_count": 194
        }
      ]
    },
    {
      "cell_type": "code",
      "metadata": {
        "colab": {
          "base_uri": "https://localhost:8080/"
        },
        "id": "jdpK6I0go0Hh",
        "outputId": "924c1316-8e09-4024-d45e-3fc1ba5f408d"
      },
      "source": [
        "print(type(df_train.iloc[0,2:]))"
      ],
      "execution_count": 195,
      "outputs": [
        {
          "output_type": "stream",
          "text": [
            "<class 'pandas.core.series.Series'>\n"
          ],
          "name": "stdout"
        }
      ]
    },
    {
      "cell_type": "code",
      "metadata": {
        "id": "8lBZ19KqoxQW"
      },
      "source": [
        "word_vec = torch.zeros(6)"
      ],
      "execution_count": 196,
      "outputs": []
    },
    {
      "cell_type": "code",
      "metadata": {
        "colab": {
          "base_uri": "https://localhost:8080/"
        },
        "id": "RJ_bZC6uqWoe",
        "outputId": "48e1e176-f47d-4a73-a412-3e01b5434821"
      },
      "source": [
        "for i in range (6):\r\n",
        "    word_vec[i]= df_trainn.iloc[5,2:][i]\r\n",
        "print(word_vec)\r\n",
        "print(word_vec.shape)\r\n",
        "word_vec.view(1,-1)\r\n",
        "print(word_vec.shape)\r\n"
      ],
      "execution_count": 197,
      "outputs": [
        {
          "output_type": "stream",
          "text": [
            "tensor([-0.4994,  0.3292, -0.7795, -0.6511, -0.9339,  0.1037])\n",
            "torch.Size([6])\n",
            "torch.Size([6])\n"
          ],
          "name": "stdout"
        }
      ]
    },
    {
      "cell_type": "code",
      "metadata": {
        "colab": {
          "base_uri": "https://localhost:8080/",
          "height": 53
        },
        "id": "31ZEYRj4nCax",
        "outputId": "4e16053d-cada-4d87-d379-2db71318b3aa"
      },
      "source": [
        "\"\"\"feature_number=6 #corpus_size\r\n",
        "for i in range(dataframe.shape[0]):\r\n",
        "  word_vec = torch.zeros(feature_number) for word in sentence:\r\n",
        "  word_vec[i] += 1\r\n",
        "return word_vec.view(1, -1)\"\"\"\r\n",
        "\r\n"
      ],
      "execution_count": 198,
      "outputs": [
        {
          "output_type": "execute_result",
          "data": {
            "application/vnd.google.colaboratory.intrinsic+json": {
              "type": "string"
            },
            "text/plain": [
              "'feature_number=6 #corpus_size\\nfor i in range(dataframe.shape[0]):\\n  word_vec = torch.zeros(feature_number) for word in sentence:\\n  word_vec[i] += 1\\nreturn word_vec.view(1, -1)'"
            ]
          },
          "metadata": {
            "tags": []
          },
          "execution_count": 198
        }
      ]
    },
    {
      "cell_type": "code",
      "metadata": {
        "id": "MbWbHmYXQNAo"
      },
      "source": [
        "class Classifier(nn.Module):  \r\n",
        "  \"\"\"cinsists of a single linear layer with log softmax activation, approximating a logistic regression\"\"\"\r\n",
        "  def __init__(self, no_classes, feature_size): \r\n",
        "    super(Classifier, self).__init__() \r\n",
        "\r\n",
        "    self.linear = nn.Linear(feature_size, no_classes) #input & output size\r\n",
        "\r\n",
        "  def forward(self, bow_vec): \r\n",
        "    return F.log_softmax(self.linear(bow_vec), dim=1) #gives out probabilities\r\n",
        "\r\n"
      ],
      "execution_count": 199,
      "outputs": []
    },
    {
      "cell_type": "code",
      "metadata": {
        "id": "jGomxAQ9Rcmr"
      },
      "source": [
        "no_classes=2\r\n",
        "feature_size=6\r\n",
        "model = Classifier(no_classes, feature_size)\r\n",
        "loss_function = nn.NLLLoss() # Negative log likelihood\r\n",
        "optimizer = optim.SGD(model.parameters(), lr=0.01) \r\n"
      ],
      "execution_count": 200,
      "outputs": []
    },
    {
      "cell_type": "code",
      "metadata": {
        "colab": {
          "base_uri": "https://localhost:8080/"
        },
        "id": "zM-Jabr3Wzm3",
        "outputId": "a5eb5488-bc78-4002-d040-f17ef45d391f"
      },
      "source": [
        "for epoch in range(100): \r\n",
        "  #for sentence, label in training_data: \r\n",
        "  for i in range(df_trainn.shape[0]):\r\n",
        "    model.zero_grad() \r\n",
        "    word_vec = torch.zeros(6)\r\n",
        "\r\n",
        "    for j in range (6):\r\n",
        "      word_vec[j]= df_trainn.iloc[i,2:][j]\r\n",
        "    word_vec=word_vec.view(1,-1)\r\n",
        "\r\n",
        "    target = torch.tensor(df_trainn['label'][i], dtype=torch.long)\r\n",
        "    target=target.view(1,)\r\n",
        "\r\n",
        "    log_probs = model(word_vec)  #Forward\r\n",
        "    loss = loss_function(log_probs, target) \r\n",
        "    loss.backward()\r\n",
        "    optimizer.step() #Update parameters\r\n",
        "  if epoch % 10 == 0: \r\n",
        "    print('Epoch: ',str(epoch+1),', Loss: ' +                         str(loss.item()))\r\n",
        "\r\n"
      ],
      "execution_count": 201,
      "outputs": [
        {
          "output_type": "stream",
          "text": [
            "Epoch:  1 , Loss: 0.7683664560317993\n",
            "Epoch:  11 , Loss: 0.6579371094703674\n",
            "Epoch:  21 , Loss: 0.634242057800293\n",
            "Epoch:  31 , Loss: 0.6261225938796997\n",
            "Epoch:  41 , Loss: 0.622495710849762\n",
            "Epoch:  51 , Loss: 0.6204333901405334\n",
            "Epoch:  61 , Loss: 0.6190276145935059\n",
            "Epoch:  71 , Loss: 0.6179642081260681\n",
            "Epoch:  81 , Loss: 0.6171176433563232\n",
            "Epoch:  91 , Loss: 0.616425633430481\n"
          ],
          "name": "stdout"
        }
      ]
    },
    {
      "cell_type": "code",
      "metadata": {
        "colab": {
          "base_uri": "https://localhost:8080/"
        },
        "id": "Qxc_FzKXYJ8I",
        "outputId": "073a745e-e494-4ef7-ac69-108fe2ed88cd"
      },
      "source": [
        "word_vec = torch.zeros(6)\r\n",
        "for i in range (6):\r\n",
        "    word_vec[i]= df_trainn.iloc[5,2:][i]\r\n",
        "print(word_vec)\r\n",
        "print(word_vec.shape)\r\n",
        "word_vec=word_vec.view(1,-1)\r\n",
        "print(word_vec.shape)\r\n",
        "print(word_vec)"
      ],
      "execution_count": 202,
      "outputs": [
        {
          "output_type": "stream",
          "text": [
            "tensor([-0.4994,  0.3292, -0.7795, -0.6511, -0.9339,  0.1037])\n",
            "torch.Size([6])\n",
            "torch.Size([1, 6])\n",
            "tensor([[-0.4994,  0.3292, -0.7795, -0.6511, -0.9339,  0.1037]])\n"
          ],
          "name": "stdout"
        }
      ]
    },
    {
      "cell_type": "code",
      "metadata": {
        "colab": {
          "base_uri": "https://localhost:8080/"
        },
        "id": "P9kuYr_CU53P",
        "outputId": "8b6c0eb9-0f12-41a5-e656-f71e2933ea71"
      },
      "source": [
        "def make_predictions(word_vec): \r\n",
        "  with torch.no_grad(): #deactivate the autograd \r\n",
        "    #sentence = data[0] \r\n",
        "    label = \"one\"\r\n",
        "    log_probs = model(word_vec) \r\n",
        "    #print(sentence) \r\n",
        "    print(label + ':') #true label \r\n",
        "    print(np.exp(log_probs)) # convert the log probabilities into probabilities\r\n",
        "    return np.exp(log_probs)  #first probability i.e., index 0 refers to 0th class i.e. not depression\r\n",
        "\r\n",
        "a=make_predictions(word_vec)\r\n",
        "a.sum()\r\n",
        "\r\n"
      ],
      "execution_count": 203,
      "outputs": [
        {
          "output_type": "stream",
          "text": [
            "one:\n",
            "tensor([[0.3780, 0.6220]])\n"
          ],
          "name": "stdout"
        },
        {
          "output_type": "execute_result",
          "data": {
            "text/plain": [
              "tensor(1.)"
            ]
          },
          "metadata": {
            "tags": []
          },
          "execution_count": 203
        }
      ]
    },
    {
      "cell_type": "code",
      "metadata": {
        "colab": {
          "base_uri": "https://localhost:8080/",
          "height": 215
        },
        "id": "P3SvzpnOPKt6",
        "outputId": "82734702-9195-4316-de8d-b89702c019ee"
      },
      "source": [
        "X = df_trainn.iloc[:, 2:]\r\n",
        "y = df_trainn.iloc[:, 0]\r\n",
        "\r\n",
        "print(type(X))\r\n",
        "X.head()\r\n"
      ],
      "execution_count": 204,
      "outputs": [
        {
          "output_type": "stream",
          "text": [
            "<class 'pandas.core.frame.DataFrame'>\n"
          ],
          "name": "stdout"
        },
        {
          "output_type": "execute_result",
          "data": {
            "text/html": [
              "<div>\n",
              "<style scoped>\n",
              "    .dataframe tbody tr th:only-of-type {\n",
              "        vertical-align: middle;\n",
              "    }\n",
              "\n",
              "    .dataframe tbody tr th {\n",
              "        vertical-align: top;\n",
              "    }\n",
              "\n",
              "    .dataframe thead th {\n",
              "        text-align: right;\n",
              "    }\n",
              "</style>\n",
              "<table border=\"1\" class=\"dataframe\">\n",
              "  <thead>\n",
              "    <tr style=\"text-align: right;\">\n",
              "      <th></th>\n",
              "      <th>polarity_value</th>\n",
              "      <th>polarity_label</th>\n",
              "      <th>sensitivity</th>\n",
              "      <th>introspection</th>\n",
              "      <th>temper</th>\n",
              "      <th>attitude</th>\n",
              "    </tr>\n",
              "  </thead>\n",
              "  <tbody>\n",
              "    <tr>\n",
              "      <th>0</th>\n",
              "      <td>0.635321</td>\n",
              "      <td>0.525104</td>\n",
              "      <td>0.752861</td>\n",
              "      <td>0.466465</td>\n",
              "      <td>0.624734</td>\n",
              "      <td>0.374580</td>\n",
              "    </tr>\n",
              "    <tr>\n",
              "      <th>1</th>\n",
              "      <td>1.987984</td>\n",
              "      <td>2.527720</td>\n",
              "      <td>2.150160</td>\n",
              "      <td>1.578699</td>\n",
              "      <td>0.668231</td>\n",
              "      <td>3.082949</td>\n",
              "    </tr>\n",
              "    <tr>\n",
              "      <th>2</th>\n",
              "      <td>1.436957</td>\n",
              "      <td>0.672672</td>\n",
              "      <td>0.699298</td>\n",
              "      <td>1.467475</td>\n",
              "      <td>0.305755</td>\n",
              "      <td>0.771387</td>\n",
              "    </tr>\n",
              "    <tr>\n",
              "      <th>3</th>\n",
              "      <td>-0.128958</td>\n",
              "      <td>-0.074309</td>\n",
              "      <td>0.093801</td>\n",
              "      <td>0.097486</td>\n",
              "      <td>-0.216211</td>\n",
              "      <td>-0.803246</td>\n",
              "    </tr>\n",
              "    <tr>\n",
              "      <th>4</th>\n",
              "      <td>-1.357096</td>\n",
              "      <td>-1.747835</td>\n",
              "      <td>-1.182399</td>\n",
              "      <td>-1.369603</td>\n",
              "      <td>0.349252</td>\n",
              "      <td>-0.941814</td>\n",
              "    </tr>\n",
              "  </tbody>\n",
              "</table>\n",
              "</div>"
            ],
            "text/plain": [
              "   polarity_value  polarity_label  ...    temper  attitude\n",
              "0        0.635321        0.525104  ...  0.624734  0.374580\n",
              "1        1.987984        2.527720  ...  0.668231  3.082949\n",
              "2        1.436957        0.672672  ...  0.305755  0.771387\n",
              "3       -0.128958       -0.074309  ... -0.216211 -0.803246\n",
              "4       -1.357096       -1.747835  ...  0.349252 -0.941814\n",
              "\n",
              "[5 rows x 6 columns]"
            ]
          },
          "metadata": {
            "tags": []
          },
          "execution_count": 204
        }
      ]
    },
    {
      "cell_type": "code",
      "metadata": {
        "colab": {
          "base_uri": "https://localhost:8080/"
        },
        "id": "BgqIRRhYPXJX",
        "outputId": "c88590a3-1786-48d9-cc57-53f89afe410b"
      },
      "source": [
        "y.head()"
      ],
      "execution_count": 205,
      "outputs": [
        {
          "output_type": "execute_result",
          "data": {
            "text/plain": [
              "0    0\n",
              "1    1\n",
              "2    0\n",
              "3    0\n",
              "4    1\n",
              "Name: label, dtype: int64"
            ]
          },
          "metadata": {
            "tags": []
          },
          "execution_count": 205
        }
      ]
    },
    {
      "cell_type": "code",
      "metadata": {
        "id": "TQM56L89P6AD"
      },
      "source": [
        "#Train test split\r\n",
        "X_train, X_test, y_train, y_test = train_test_split(X, y, test_size=0.33, random_state=69)"
      ],
      "execution_count": 206,
      "outputs": []
    },
    {
      "cell_type": "code",
      "metadata": {
        "colab": {
          "base_uri": "https://localhost:8080/"
        },
        "id": "CcP-TDyxpwRs",
        "outputId": "d548a1c6-2b7c-4a52-82bc-99fe8a0abcb9"
      },
      "source": [
        "print(y_train.shape)"
      ],
      "execution_count": 207,
      "outputs": [
        {
          "output_type": "stream",
          "text": [
            "(438,)\n"
          ],
          "name": "stdout"
        }
      ]
    },
    {
      "cell_type": "code",
      "metadata": {
        "id": "FFfYfoxVQXo4"
      },
      "source": [
        "#Standardize-Normalize\r\n",
        "scaler = StandardScaler()\r\n",
        "X_train = scaler.fit_transform(X_train)\r\n",
        "X_test = scaler.transform(X_test)"
      ],
      "execution_count": 208,
      "outputs": []
    },
    {
      "cell_type": "code",
      "metadata": {
        "id": "XkjSzFYmQfha"
      },
      "source": [
        "EPOCHS = 100\r\n",
        "BATCH_SIZE = 64\r\n",
        "LEARNING_RATE = 0.001"
      ],
      "execution_count": 209,
      "outputs": []
    },
    {
      "cell_type": "code",
      "metadata": {
        "id": "V9WIlPMwQhtR"
      },
      "source": [
        "## train data\r\n",
        "class trainData(Dataset):\r\n",
        "    \r\n",
        "    def __init__(self, X_data, y_data):\r\n",
        "        self.X_data = X_data\r\n",
        "        self.y_data = y_data\r\n",
        "        \r\n",
        "    def __getitem__(self, index):\r\n",
        "        return self.X_data[index], self.y_data[index]\r\n",
        "        \r\n",
        "    def __len__ (self):\r\n",
        "        return len(self.X_data)\r\n",
        "\r\n",
        "train_data = trainData(torch.FloatTensor(X_train), \r\n",
        "                       torch.FloatTensor(y_train.to_numpy(dtype=np.float64)))\r\n",
        "## test data    \r\n",
        "class testData(Dataset):\r\n",
        "    \r\n",
        "    def __init__(self, X_data):\r\n",
        "        self.X_data = X_data\r\n",
        "        \r\n",
        "    def __getitem__(self, index):\r\n",
        "        return self.X_data[index]\r\n",
        "        \r\n",
        "    def __len__ (self):\r\n",
        "        return len(self.X_data)\r\n",
        "    \r\n",
        "\r\n",
        "test_data = testData(torch.FloatTensor(X_test))"
      ],
      "execution_count": 210,
      "outputs": []
    },
    {
      "cell_type": "code",
      "metadata": {
        "id": "WMv96KIDQo_j"
      },
      "source": [
        "train_loader = DataLoader(dataset=train_data, batch_size=BATCH_SIZE, shuffle=True)\r\n",
        "test_loader = DataLoader(dataset=test_data, batch_size=1)"
      ],
      "execution_count": 211,
      "outputs": []
    },
    {
      "cell_type": "code",
      "metadata": {
        "id": "qLV0e-HqQshq"
      },
      "source": [
        "class binaryClassification(nn.Module):\r\n",
        "    def __init__(self):\r\n",
        "        super(binaryClassification, self).__init__()\r\n",
        "        # Number of input features is 6.\r\n",
        "        self.layer_1 = nn.Linear(6, 64)  # The input to the first linear layer is 6. \r\n",
        "        self.layer_2 = nn.Linear(64, 64)\r\n",
        "        self.layer_out = nn.Linear(64, 1) \r\n",
        "        \r\n",
        "        self.relu = nn.ReLU()\r\n",
        "        self.dropout = nn.Dropout(p=0.1)\r\n",
        "        self.batchnorm1 = nn.BatchNorm1d(64)\r\n",
        "        self.batchnorm2 = nn.BatchNorm1d(64)\r\n",
        "        \r\n",
        "    def forward(self, inputs): # Takes the input. \r\n",
        "        x = self.relu(self.layer_1(inputs))\r\n",
        "        x = self.batchnorm1(x)\r\n",
        "        x = self.relu(self.layer_2(x))\r\n",
        "        x = self.batchnorm2(x)\r\n",
        "        x = self.dropout(x)\r\n",
        "        x = self.layer_out(x) # No sigmoid here since BCEWithLogitsLoss applies sigmoid automatically. \r\n",
        "        \r\n",
        "        return x"
      ],
      "execution_count": 212,
      "outputs": []
    },
    {
      "cell_type": "code",
      "metadata": {
        "colab": {
          "base_uri": "https://localhost:8080/"
        },
        "id": "2YLlysMPQvzZ",
        "outputId": "ed6476e5-3bb6-40f6-eb97-095f0119a538"
      },
      "source": [
        "device = torch.device(\"cuda:0\" if torch.cuda.is_available() else \"cpu\")\r\n",
        "print(device)"
      ],
      "execution_count": 213,
      "outputs": [
        {
          "output_type": "stream",
          "text": [
            "cuda:0\n"
          ],
          "name": "stdout"
        }
      ]
    },
    {
      "cell_type": "code",
      "metadata": {
        "colab": {
          "base_uri": "https://localhost:8080/"
        },
        "id": "kCTrctgQQy5A",
        "outputId": "6da78f47-33d4-4d50-ae42-4a67e3ad2086"
      },
      "source": [
        "model = binaryClassification()\r\n",
        "model.to(device)\r\n",
        "print(model)\r\n",
        "criterion = nn.BCEWithLogitsLoss() # Used when the output from the network is a tensor of length 2 (final dense layer is of size 2) where both values lie between 0 and 1.\r\n",
        "optimizer = optim.Adam(model.parameters(), lr=LEARNING_RATE)"
      ],
      "execution_count": 214,
      "outputs": [
        {
          "output_type": "stream",
          "text": [
            "binaryClassification(\n",
            "  (layer_1): Linear(in_features=6, out_features=64, bias=True)\n",
            "  (layer_2): Linear(in_features=64, out_features=64, bias=True)\n",
            "  (layer_out): Linear(in_features=64, out_features=1, bias=True)\n",
            "  (relu): ReLU()\n",
            "  (dropout): Dropout(p=0.1, inplace=False)\n",
            "  (batchnorm1): BatchNorm1d(64, eps=1e-05, momentum=0.1, affine=True, track_running_stats=True)\n",
            "  (batchnorm2): BatchNorm1d(64, eps=1e-05, momentum=0.1, affine=True, track_running_stats=True)\n",
            ")\n"
          ],
          "name": "stdout"
        }
      ]
    },
    {
      "cell_type": "code",
      "metadata": {
        "id": "7wVTUNFJQ148"
      },
      "source": [
        "def binary_acc(y_pred, y_test):\r\n",
        "    y_pred_tag = torch.round(torch.sigmoid(y_pred))\r\n",
        "\r\n",
        "    correct_results_sum = (y_pred_tag == y_test).sum().float()\r\n",
        "    acc = correct_results_sum/y_test.shape[0]\r\n",
        "    acc = torch.round(acc * 100)\r\n",
        "    \r\n",
        "    return acc"
      ],
      "execution_count": 215,
      "outputs": []
    },
    {
      "cell_type": "code",
      "metadata": {
        "colab": {
          "base_uri": "https://localhost:8080/"
        },
        "id": "P1eQDLSTQ46a",
        "outputId": "a66dcb1d-1cfa-45f5-f61a-013556a80b9e"
      },
      "source": [
        "model.train()\r\n",
        "for e in range(1, EPOCHS+1):\r\n",
        "    epoch_loss = 0\r\n",
        "    epoch_acc = 0\r\n",
        "    for X_batch, y_batch in train_loader:\r\n",
        "        X_batch, y_batch = X_batch.to(device), y_batch.to(device)\r\n",
        "        optimizer.zero_grad()\r\n",
        "        \r\n",
        "        y_pred = model(X_batch)\r\n",
        "        \r\n",
        "        loss = criterion(y_pred, y_batch.unsqueeze(1))\r\n",
        "        acc = binary_acc(y_pred, y_batch.unsqueeze(1))\r\n",
        "        \r\n",
        "        loss.backward()\r\n",
        "        optimizer.step()\r\n",
        "        \r\n",
        "        epoch_loss += loss.item()\r\n",
        "        epoch_acc += acc.item()\r\n",
        "        \r\n",
        "\r\n",
        "    print(f'Epoch {e+0:03}: | Loss: {epoch_loss/len(train_loader):.5f} | Acc: {epoch_acc/len(train_loader):.3f}')"
      ],
      "execution_count": 216,
      "outputs": [
        {
          "output_type": "stream",
          "text": [
            "Epoch 001: | Loss: 0.74325 | Acc: 46.143\n",
            "Epoch 002: | Loss: 0.68174 | Acc: 58.714\n",
            "Epoch 003: | Loss: 0.65922 | Acc: 61.857\n",
            "Epoch 004: | Loss: 0.65241 | Acc: 61.857\n",
            "Epoch 005: | Loss: 0.62786 | Acc: 66.714\n",
            "Epoch 006: | Loss: 0.63390 | Acc: 62.571\n",
            "Epoch 007: | Loss: 0.63303 | Acc: 64.000\n",
            "Epoch 008: | Loss: 0.62733 | Acc: 63.857\n",
            "Epoch 009: | Loss: 0.61024 | Acc: 66.286\n",
            "Epoch 010: | Loss: 0.60512 | Acc: 67.143\n",
            "Epoch 011: | Loss: 0.60136 | Acc: 68.143\n",
            "Epoch 012: | Loss: 0.60169 | Acc: 64.429\n",
            "Epoch 013: | Loss: 0.59824 | Acc: 69.000\n",
            "Epoch 014: | Loss: 0.59275 | Acc: 68.857\n",
            "Epoch 015: | Loss: 0.59349 | Acc: 66.714\n",
            "Epoch 016: | Loss: 0.58712 | Acc: 69.000\n",
            "Epoch 017: | Loss: 0.58332 | Acc: 67.714\n",
            "Epoch 018: | Loss: 0.56670 | Acc: 71.143\n",
            "Epoch 019: | Loss: 0.56993 | Acc: 70.857\n",
            "Epoch 020: | Loss: 0.55821 | Acc: 69.143\n",
            "Epoch 021: | Loss: 0.57035 | Acc: 68.714\n",
            "Epoch 022: | Loss: 0.55637 | Acc: 69.857\n",
            "Epoch 023: | Loss: 0.54520 | Acc: 71.571\n",
            "Epoch 024: | Loss: 0.55610 | Acc: 68.857\n",
            "Epoch 025: | Loss: 0.55603 | Acc: 71.000\n",
            "Epoch 026: | Loss: 0.55039 | Acc: 72.143\n",
            "Epoch 027: | Loss: 0.54896 | Acc: 69.286\n",
            "Epoch 028: | Loss: 0.53584 | Acc: 71.714\n",
            "Epoch 029: | Loss: 0.53772 | Acc: 72.286\n",
            "Epoch 030: | Loss: 0.54233 | Acc: 73.857\n",
            "Epoch 031: | Loss: 0.53377 | Acc: 71.429\n",
            "Epoch 032: | Loss: 0.53947 | Acc: 71.857\n",
            "Epoch 033: | Loss: 0.54818 | Acc: 71.286\n",
            "Epoch 034: | Loss: 0.54176 | Acc: 72.714\n",
            "Epoch 035: | Loss: 0.52529 | Acc: 72.429\n",
            "Epoch 036: | Loss: 0.53329 | Acc: 71.143\n",
            "Epoch 037: | Loss: 0.52647 | Acc: 73.143\n",
            "Epoch 038: | Loss: 0.50648 | Acc: 74.857\n",
            "Epoch 039: | Loss: 0.52126 | Acc: 72.714\n",
            "Epoch 040: | Loss: 0.52431 | Acc: 74.143\n",
            "Epoch 041: | Loss: 0.50905 | Acc: 75.143\n",
            "Epoch 042: | Loss: 0.50768 | Acc: 75.714\n",
            "Epoch 043: | Loss: 0.50913 | Acc: 74.286\n",
            "Epoch 044: | Loss: 0.49903 | Acc: 76.429\n",
            "Epoch 045: | Loss: 0.49655 | Acc: 77.286\n",
            "Epoch 046: | Loss: 0.49851 | Acc: 75.286\n",
            "Epoch 047: | Loss: 0.50250 | Acc: 75.714\n",
            "Epoch 048: | Loss: 0.48345 | Acc: 77.714\n",
            "Epoch 049: | Loss: 0.49823 | Acc: 76.714\n",
            "Epoch 050: | Loss: 0.50203 | Acc: 75.857\n",
            "Epoch 051: | Loss: 0.51008 | Acc: 75.286\n",
            "Epoch 052: | Loss: 0.52534 | Acc: 73.000\n",
            "Epoch 053: | Loss: 0.50680 | Acc: 73.429\n",
            "Epoch 054: | Loss: 0.51401 | Acc: 73.429\n",
            "Epoch 055: | Loss: 0.49994 | Acc: 73.143\n",
            "Epoch 056: | Loss: 0.49026 | Acc: 76.714\n",
            "Epoch 057: | Loss: 0.48154 | Acc: 79.286\n",
            "Epoch 058: | Loss: 0.49800 | Acc: 77.429\n",
            "Epoch 059: | Loss: 0.47723 | Acc: 76.000\n",
            "Epoch 060: | Loss: 0.47102 | Acc: 77.286\n",
            "Epoch 061: | Loss: 0.48249 | Acc: 75.857\n",
            "Epoch 062: | Loss: 0.48171 | Acc: 76.714\n",
            "Epoch 063: | Loss: 0.48480 | Acc: 76.143\n",
            "Epoch 064: | Loss: 0.48118 | Acc: 74.714\n",
            "Epoch 065: | Loss: 0.50147 | Acc: 74.286\n",
            "Epoch 066: | Loss: 0.50647 | Acc: 74.714\n",
            "Epoch 067: | Loss: 0.50662 | Acc: 74.714\n",
            "Epoch 068: | Loss: 0.49760 | Acc: 76.571\n",
            "Epoch 069: | Loss: 0.49825 | Acc: 74.857\n",
            "Epoch 070: | Loss: 0.46845 | Acc: 78.571\n",
            "Epoch 071: | Loss: 0.48470 | Acc: 76.857\n",
            "Epoch 072: | Loss: 0.48814 | Acc: 74.714\n",
            "Epoch 073: | Loss: 0.46306 | Acc: 79.286\n",
            "Epoch 074: | Loss: 0.46695 | Acc: 78.571\n",
            "Epoch 075: | Loss: 0.46876 | Acc: 80.571\n",
            "Epoch 076: | Loss: 0.44759 | Acc: 80.714\n",
            "Epoch 077: | Loss: 0.45203 | Acc: 79.429\n",
            "Epoch 078: | Loss: 0.45159 | Acc: 79.143\n",
            "Epoch 079: | Loss: 0.45926 | Acc: 77.571\n",
            "Epoch 080: | Loss: 0.46147 | Acc: 75.571\n",
            "Epoch 081: | Loss: 0.46803 | Acc: 77.000\n",
            "Epoch 082: | Loss: 0.46635 | Acc: 75.429\n",
            "Epoch 083: | Loss: 0.49263 | Acc: 75.286\n",
            "Epoch 084: | Loss: 0.45202 | Acc: 77.143\n",
            "Epoch 085: | Loss: 0.43819 | Acc: 80.000\n",
            "Epoch 086: | Loss: 0.43202 | Acc: 76.714\n",
            "Epoch 087: | Loss: 0.45488 | Acc: 77.571\n",
            "Epoch 088: | Loss: 0.43192 | Acc: 79.143\n",
            "Epoch 089: | Loss: 0.44341 | Acc: 80.571\n",
            "Epoch 090: | Loss: 0.45094 | Acc: 78.571\n",
            "Epoch 091: | Loss: 0.44147 | Acc: 77.857\n",
            "Epoch 092: | Loss: 0.43879 | Acc: 78.857\n",
            "Epoch 093: | Loss: 0.42742 | Acc: 81.143\n",
            "Epoch 094: | Loss: 0.44176 | Acc: 78.286\n",
            "Epoch 095: | Loss: 0.41678 | Acc: 80.857\n",
            "Epoch 096: | Loss: 0.43910 | Acc: 76.714\n",
            "Epoch 097: | Loss: 0.45730 | Acc: 77.000\n",
            "Epoch 098: | Loss: 0.45107 | Acc: 79.429\n",
            "Epoch 099: | Loss: 0.45339 | Acc: 77.571\n",
            "Epoch 100: | Loss: 0.44807 | Acc: 79.143\n"
          ],
          "name": "stdout"
        }
      ]
    },
    {
      "cell_type": "code",
      "metadata": {
        "id": "ocamCJalCBI3"
      },
      "source": [
        "y_pred_list = []\n",
        "model.eval()\n",
        "with torch.no_grad():\n",
        "    for X_batch in test_loader:\n",
        "        X_batch = X_batch.to(device)\n",
        "        y_test_pred = model(X_batch)\n",
        "        y_test_pred = torch.sigmoid(y_test_pred)\n",
        "        y_pred_tag = torch.round(y_test_pred)\n",
        "        y_pred_list.append(y_pred_tag.cpu().numpy())\n",
        "\n",
        "y_pred_list = [a.squeeze().tolist() for a in y_pred_list]"
      ],
      "execution_count": 217,
      "outputs": []
    },
    {
      "cell_type": "code",
      "metadata": {
        "colab": {
          "base_uri": "https://localhost:8080/"
        },
        "id": "sLRgR5JFDeiu",
        "outputId": "89f5d9b8-da9e-4f10-88e6-0517d85dacec"
      },
      "source": [
        "print(y_test[:10])\n",
        "print(\"--------------\")\n",
        "print(y_pred_list[:10])\n",
        "y_test = [ int(x) for x in y_test ]\n",
        "\n",
        "y_pred_list = [ int(x) for x in y_pred_list ]\n"
      ],
      "execution_count": 218,
      "outputs": [
        {
          "output_type": "stream",
          "text": [
            "364    1\n",
            "3      0\n",
            "569    1\n",
            "287    1\n",
            "150    0\n",
            "99     0\n",
            "453    1\n",
            "283    0\n",
            "517    0\n",
            "632    0\n",
            "Name: label, dtype: int64\n",
            "--------------\n",
            "[1.0, 1.0, 0.0, 1.0, 0.0, 1.0, 1.0, 1.0, 1.0, 0.0]\n"
          ],
          "name": "stdout"
        }
      ]
    },
    {
      "cell_type": "code",
      "metadata": {
        "colab": {
          "base_uri": "https://localhost:8080/"
        },
        "id": "SxiAsE1QCGNs",
        "outputId": "c2b08eb0-de87-48fe-d69b-60d49ce7d2a9"
      },
      "source": [
        "confusion_matrix(y_test, y_pred_list)"
      ],
      "execution_count": 219,
      "outputs": [
        {
          "output_type": "execute_result",
          "data": {
            "text/plain": [
              "array([[67, 51],\n",
              "       [36, 62]])"
            ]
          },
          "metadata": {
            "tags": []
          },
          "execution_count": 219
        }
      ]
    },
    {
      "cell_type": "code",
      "metadata": {
        "colab": {
          "base_uri": "https://localhost:8080/"
        },
        "id": "RlJmX_ENCJMe",
        "outputId": "1527bf78-4651-4af0-c034-481b816d8ad0"
      },
      "source": [
        "print(classification_report(y_test, y_pred_list))\n"
      ],
      "execution_count": 220,
      "outputs": [
        {
          "output_type": "stream",
          "text": [
            "              precision    recall  f1-score   support\n",
            "\n",
            "           0       0.65      0.57      0.61       118\n",
            "           1       0.55      0.63      0.59        98\n",
            "\n",
            "    accuracy                           0.60       216\n",
            "   macro avg       0.60      0.60      0.60       216\n",
            "weighted avg       0.60      0.60      0.60       216\n",
            "\n"
          ],
          "name": "stdout"
        }
      ]
    }
  ]
}